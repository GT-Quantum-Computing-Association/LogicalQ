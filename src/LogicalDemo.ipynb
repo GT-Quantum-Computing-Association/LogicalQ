{
 "cells": [
  {
   "cell_type": "code",
   "execution_count": 1,
   "metadata": {},
   "outputs": [
    {
     "data": {
      "text/plain": [
       "<module 'NoiseModel' from '/home/rasmitdevkota/projects/QCA/gatech-qec-project/src/NoiseModel.py'>"
      ]
     },
     "execution_count": 1,
     "metadata": {},
     "output_type": "execute_result"
    }
   ],
   "source": [
    "import numpy as np\n",
    "import matplotlib.pyplot as plt\n",
    "\n",
    "from qiskit import ClassicalRegister, QuantumRegister, QuantumCircuit, transpile\n",
    "from qiskit_aer import AerSimulator\n",
    "\n",
    "from Logical import LogicalCircuit\n",
    "from NoiseModel import construct_noise_model_QuantinuumH1_1\n",
    "\n",
    "# clearing lib cache during development to force-update imports\n",
    "import sys, importlib\n",
    "importlib.reload(sys.modules['Logical'])\n",
    "importlib.reload(sys.modules['NoiseModel'])"
   ]
  },
  {
   "cell_type": "code",
   "execution_count": 2,
   "metadata": {},
   "outputs": [],
   "source": [
    "# We use the Steane code to demonstrate the library\n",
    "stabilizer_tableau = [\n",
    "  \"XXXXIII\",\n",
    "  \"IXXIXXI\",\n",
    "  \"IIXXIXX\",\n",
    "  \"ZZZZIII\",\n",
    "  \"IZZIZZI\",\n",
    "  \"IIZZIZZ\",\n",
    "]\n",
    "\n",
    "noise_model = construct_noise_model_QuantinuumH1_1(n_qubits=10)"
   ]
  },
  {
   "cell_type": "code",
   "execution_count": 3,
   "metadata": {
    "scrolled": true
   },
   "outputs": [
    {
     "ename": "ValueError",
     "evalue": "At least one of the following quantum arguments to operation 'reset' are unrecognized: [QuantumRegister(7, 'qlog0')]",
     "output_type": "error",
     "traceback": [
      "\u001b[0;31m---------------------------------------------------------------------------\u001b[0m",
      "\u001b[0;31mValueError\u001b[0m                                Traceback (most recent call last)",
      "Cell \u001b[0;32mIn[3], line 9\u001b[0m\n\u001b[1;32m      6\u001b[0m \u001b[38;5;28;01mfor\u001b[39;00m i \u001b[38;5;129;01min\u001b[39;00m \u001b[38;5;28mrange\u001b[39m(\u001b[38;5;241m7\u001b[39m):\n\u001b[1;32m      7\u001b[0m     \u001b[38;5;66;03m# Generates the circuit\u001b[39;00m\n\u001b[1;32m      8\u001b[0m     lqcirc \u001b[38;5;241m=\u001b[39m LogicalCircuit(\u001b[38;5;241m2\u001b[39m, [\u001b[38;5;241m7\u001b[39m,\u001b[38;5;241m1\u001b[39m,\u001b[38;5;241m3\u001b[39m], stabilizer_tableau, name\u001b[38;5;241m=\u001b[39m\u001b[38;5;124m\"\u001b[39m\u001b[38;5;124mSteaneCodeCircuit\u001b[39m\u001b[38;5;124m\"\u001b[39m)\n\u001b[0;32m----> 9\u001b[0m     \u001b[43mlqcirc\u001b[49m\u001b[38;5;241;43m.\u001b[39;49m\u001b[43mencode\u001b[49m\u001b[43m(\u001b[49m\u001b[38;5;241;43m0\u001b[39;49m\u001b[43m,\u001b[49m\u001b[38;5;241;43m1\u001b[39;49m\u001b[43m,\u001b[49m\u001b[43m \u001b[49m\u001b[43mmax_iterations\u001b[49m\u001b[38;5;241;43m=\u001b[39;49m\u001b[38;5;241;43m1\u001b[39;49m\u001b[43m,\u001b[49m\u001b[43m \u001b[49m\u001b[43minitial_states\u001b[49m\u001b[38;5;241;43m=\u001b[39;49m\u001b[43m[\u001b[49m\u001b[38;5;241;43m0\u001b[39;49m\u001b[43m,\u001b[49m\u001b[38;5;241;43m1\u001b[39;49m\u001b[43m]\u001b[49m\u001b[43m)\u001b[49m\n\u001b[1;32m     11\u001b[0m     \u001b[38;5;66;03m# Inserts an error on both logical qubits\u001b[39;00m\n\u001b[1;32m     12\u001b[0m     lqcirc\u001b[38;5;241m.\u001b[39madd_error(\u001b[38;5;241m0\u001b[39m, i, \u001b[38;5;124m'\u001b[39m\u001b[38;5;124mX\u001b[39m\u001b[38;5;124m'\u001b[39m) \u001b[38;5;66;03m# Can test X or Z errors\u001b[39;00m\n",
      "File \u001b[0;32m~/projects/QCA/gatech-qec-project/src/Logical.py:331\u001b[0m, in \u001b[0;36mLogicalCircuit.encode\u001b[0;34m(self, max_iterations, initial_states, *qubits)\u001b[0m\n\u001b[1;32m    327\u001b[0m     \u001b[38;5;28;01mraise\u001b[39;00m \u001b[38;5;167;01mValueError\u001b[39;00m(\u001b[38;5;124m\"\u001b[39m\u001b[38;5;124mNumber of qubits should equal number of initial states if initial states are provided\u001b[39m\u001b[38;5;124m\"\u001b[39m)\n\u001b[1;32m    329\u001b[0m \u001b[38;5;28;01mfor\u001b[39;00m q, init_state \u001b[38;5;129;01min\u001b[39;00m \u001b[38;5;28mzip\u001b[39m(qubits, initial_states):\n\u001b[1;32m    330\u001b[0m     \u001b[38;5;66;03m# Preliminary physical qubit reset\u001b[39;00m\n\u001b[0;32m--> 331\u001b[0m     \u001b[38;5;28;43msuper\u001b[39;49m\u001b[43m(\u001b[49m\u001b[43m)\u001b[49m\u001b[38;5;241;43m.\u001b[39;49m\u001b[43mreset\u001b[49m\u001b[43m(\u001b[49m\u001b[38;5;28;43mself\u001b[39;49m\u001b[38;5;241;43m.\u001b[39;49m\u001b[43mlogical_qregs\u001b[49m\u001b[43m[\u001b[49m\u001b[43mq\u001b[49m\u001b[43m]\u001b[49m\u001b[43m)\u001b[49m\n\u001b[1;32m    333\u001b[0m     \u001b[38;5;66;03m# Initial encoding\u001b[39;00m\n\u001b[1;32m    334\u001b[0m     \u001b[38;5;28msuper\u001b[39m()\u001b[38;5;241m.\u001b[39mappend(\u001b[38;5;28mself\u001b[39m\u001b[38;5;241m.\u001b[39mencoding_gate, \u001b[38;5;28mself\u001b[39m\u001b[38;5;241m.\u001b[39mlogical_qregs[q])\n",
      "File \u001b[0;32m~/.venvs/qiskit/lib/python3.13/site-packages/qiskit/circuit/quantumcircuit.py:3916\u001b[0m, in \u001b[0;36mQuantumCircuit.reset\u001b[0;34m(self, qubit)\u001b[0m\n\u001b[1;32m   3906\u001b[0m \u001b[38;5;250m\u001b[39m\u001b[38;5;124;03m\"\"\"Reset the quantum bit(s) to their default state.\u001b[39;00m\n\u001b[1;32m   3907\u001b[0m \n\u001b[1;32m   3908\u001b[0m \u001b[38;5;124;03mArgs:\u001b[39;00m\n\u001b[0;32m   (...)\u001b[0m\n\u001b[1;32m   3912\u001b[0m \u001b[38;5;124;03m    qiskit.circuit.InstructionSet: handle to the added instruction.\u001b[39;00m\n\u001b[1;32m   3913\u001b[0m \u001b[38;5;124;03m\"\"\"\u001b[39;00m\n\u001b[1;32m   3914\u001b[0m \u001b[38;5;28;01mfrom\u001b[39;00m\u001b[38;5;250m \u001b[39m\u001b[38;5;21;01m.\u001b[39;00m\u001b[38;5;21;01mreset\u001b[39;00m\u001b[38;5;250m \u001b[39m\u001b[38;5;28;01mimport\u001b[39;00m Reset\n\u001b[0;32m-> 3916\u001b[0m \u001b[38;5;28;01mreturn\u001b[39;00m \u001b[38;5;28;43mself\u001b[39;49m\u001b[38;5;241;43m.\u001b[39;49m\u001b[43mappend\u001b[49m\u001b[43m(\u001b[49m\u001b[43mReset\u001b[49m\u001b[43m(\u001b[49m\u001b[43m)\u001b[49m\u001b[43m,\u001b[49m\u001b[43m \u001b[49m\u001b[43m[\u001b[49m\u001b[43mqubit\u001b[49m\u001b[43m]\u001b[49m\u001b[43m,\u001b[49m\u001b[43m \u001b[49m\u001b[43m[\u001b[49m\u001b[43m]\u001b[49m\u001b[43m,\u001b[49m\u001b[43m \u001b[49m\u001b[43mcopy\u001b[49m\u001b[38;5;241;43m=\u001b[39;49m\u001b[38;5;28;43;01mFalse\u001b[39;49;00m\u001b[43m)\u001b[49m\n",
      "File \u001b[0;32m~/projects/QCA/gatech-qec-project/src/Logical.py:736\u001b[0m, in \u001b[0;36mLogicalCircuit.append\u001b[0;34m(self, instruction, qargs, cargs, copy)\u001b[0m\n\u001b[1;32m    734\u001b[0m         qubits \u001b[38;5;241m=\u001b[39m [qubit\u001b[38;5;241m.\u001b[39m_index \u001b[38;5;28;01mfor\u001b[39;00m qubit \u001b[38;5;129;01min\u001b[39;00m instruction\u001b[38;5;241m.\u001b[39mqubits]\n\u001b[1;32m    735\u001b[0m     \u001b[38;5;28;01melse\u001b[39;00m:\n\u001b[0;32m--> 736\u001b[0m         \u001b[38;5;28;01mraise\u001b[39;00m \u001b[38;5;167;01mValueError\u001b[39;00m(\u001b[38;5;124mf\u001b[39m\u001b[38;5;124m\"\u001b[39m\u001b[38;5;124mAt least one of the following quantum arguments to operation \u001b[39m\u001b[38;5;124m'\u001b[39m\u001b[38;5;132;01m{\u001b[39;00moperation\u001b[38;5;132;01m}\u001b[39;00m\u001b[38;5;124m'\u001b[39m\u001b[38;5;124m are unrecognized: \u001b[39m\u001b[38;5;132;01m{\u001b[39;00mqargs\u001b[38;5;132;01m}\u001b[39;00m\u001b[38;5;124m\"\u001b[39m)\n\u001b[1;32m    738\u001b[0m \u001b[38;5;28;01mif\u001b[39;00m cargs \u001b[38;5;129;01mis\u001b[39;00m \u001b[38;5;28;01mNone\u001b[39;00m:\n\u001b[1;32m    739\u001b[0m     \u001b[38;5;28;01mif\u001b[39;00m \u001b[38;5;28mhasattr\u001b[39m(instruction, \u001b[38;5;124m\"\u001b[39m\u001b[38;5;124mclbits\u001b[39m\u001b[38;5;124m\"\u001b[39m):\n",
      "\u001b[0;31mValueError\u001b[0m: At least one of the following quantum arguments to operation 'reset' are unrecognized: [QuantumRegister(7, 'qlog0')]"
     ]
    }
   ],
   "source": [
    "# Runs a shot on a noiseless simulator with an error at each of the physical qubits\n",
    "shots = 1\n",
    "simulator = AerSimulator()\n",
    "\n",
    "outputs = []\n",
    "for i in range(7):\n",
    "    # Generates the circuit\n",
    "    lqcirc = LogicalCircuit(2, [7,1,3], stabilizer_tableau, name=\"SteaneCodeCircuit\")\n",
    "    lqcirc.encode(0,1, max_iterations=1, initial_states=[0,1])\n",
    "\n",
    "    # Inserts an error on both logical qubits\n",
    "    lqcirc.add_error(0, i, 'X') # Can test X or Z errors\n",
    "    lqcirc.add_error(1, i, 'X')\n",
    "\n",
    "    # Adds QEC cycle and measurement\n",
    "    lqcirc.perform_qec_cycle([0, 1])\n",
    "    lqcirc.measure([0, 1], [0, 1])\n",
    "\n",
    "    # Simulates the QEC cycle\n",
    "    qc = transpile(lqcirc, backend=simulator)\n",
    "    result = simulator.run(qc, shots=shots, memory=True).result()\n",
    "    output = result.get_memory(lqcirc)\n",
    "    outputs.append(output[0][:2])\n",
    "\n",
    "# Outputs should all be 10 if the error correction worked properly\n",
    "print(outputs)"
   ]
  },
  {
   "cell_type": "code",
   "execution_count": 4,
   "metadata": {},
   "outputs": [
    {
     "ename": "ValueError",
     "evalue": "At least one of the following quantum arguments to operation 'reset' are unrecognized: [QuantumRegister(7, 'qlog0')]",
     "output_type": "error",
     "traceback": [
      "\u001b[0;31m---------------------------------------------------------------------------\u001b[0m",
      "\u001b[0;31mValueError\u001b[0m                                Traceback (most recent call last)",
      "Cell \u001b[0;32mIn[4], line 19\u001b[0m\n\u001b[1;32m     17\u001b[0m \u001b[38;5;28;01mfor\u001b[39;00m max_it \u001b[38;5;129;01min\u001b[39;00m \u001b[38;5;28mrange\u001b[39m(\u001b[38;5;241m1\u001b[39m, max_max_it\u001b[38;5;241m+\u001b[39m\u001b[38;5;241m1\u001b[39m):\n\u001b[1;32m     18\u001b[0m     lqcirc \u001b[38;5;241m=\u001b[39m LogicalCircuit(\u001b[38;5;241m1\u001b[39m, (\u001b[38;5;241m7\u001b[39m,\u001b[38;5;241m1\u001b[39m,\u001b[38;5;241m3\u001b[39m), stabilizer_tableau, \u001b[38;5;124m\"\u001b[39m\u001b[38;5;124mtest_circuit\u001b[39m\u001b[38;5;124m\"\u001b[39m)\n\u001b[0;32m---> 19\u001b[0m     \u001b[43mlqcirc\u001b[49m\u001b[38;5;241;43m.\u001b[39;49m\u001b[43mencode\u001b[49m\u001b[43m(\u001b[49m\u001b[38;5;241;43m0\u001b[39;49m\u001b[43m,\u001b[49m\u001b[43m \u001b[49m\u001b[43mmax_iterations\u001b[49m\u001b[38;5;241;43m=\u001b[39;49m\u001b[43mmax_it\u001b[49m\u001b[43m)\u001b[49m\n\u001b[1;32m     20\u001b[0m     lqcirc\u001b[38;5;241m.\u001b[39mx(\u001b[38;5;241m0\u001b[39m)\n\u001b[1;32m     22\u001b[0m     lqcirc_transpiled \u001b[38;5;241m=\u001b[39m transpile(lqcirc, backend\u001b[38;5;241m=\u001b[39msimulator)\n",
      "File \u001b[0;32m~/projects/QCA/gatech-qec-project/src/Logical.py:331\u001b[0m, in \u001b[0;36mLogicalCircuit.encode\u001b[0;34m(self, max_iterations, initial_states, *qubits)\u001b[0m\n\u001b[1;32m    327\u001b[0m     \u001b[38;5;28;01mraise\u001b[39;00m \u001b[38;5;167;01mValueError\u001b[39;00m(\u001b[38;5;124m\"\u001b[39m\u001b[38;5;124mNumber of qubits should equal number of initial states if initial states are provided\u001b[39m\u001b[38;5;124m\"\u001b[39m)\n\u001b[1;32m    329\u001b[0m \u001b[38;5;28;01mfor\u001b[39;00m q, init_state \u001b[38;5;129;01min\u001b[39;00m \u001b[38;5;28mzip\u001b[39m(qubits, initial_states):\n\u001b[1;32m    330\u001b[0m     \u001b[38;5;66;03m# Preliminary physical qubit reset\u001b[39;00m\n\u001b[0;32m--> 331\u001b[0m     \u001b[38;5;28;43msuper\u001b[39;49m\u001b[43m(\u001b[49m\u001b[43m)\u001b[49m\u001b[38;5;241;43m.\u001b[39;49m\u001b[43mreset\u001b[49m\u001b[43m(\u001b[49m\u001b[38;5;28;43mself\u001b[39;49m\u001b[38;5;241;43m.\u001b[39;49m\u001b[43mlogical_qregs\u001b[49m\u001b[43m[\u001b[49m\u001b[43mq\u001b[49m\u001b[43m]\u001b[49m\u001b[43m)\u001b[49m\n\u001b[1;32m    333\u001b[0m     \u001b[38;5;66;03m# Initial encoding\u001b[39;00m\n\u001b[1;32m    334\u001b[0m     \u001b[38;5;28msuper\u001b[39m()\u001b[38;5;241m.\u001b[39mappend(\u001b[38;5;28mself\u001b[39m\u001b[38;5;241m.\u001b[39mencoding_gate, \u001b[38;5;28mself\u001b[39m\u001b[38;5;241m.\u001b[39mlogical_qregs[q])\n",
      "File \u001b[0;32m~/.venvs/qiskit/lib/python3.13/site-packages/qiskit/circuit/quantumcircuit.py:3916\u001b[0m, in \u001b[0;36mQuantumCircuit.reset\u001b[0;34m(self, qubit)\u001b[0m\n\u001b[1;32m   3906\u001b[0m \u001b[38;5;250m\u001b[39m\u001b[38;5;124;03m\"\"\"Reset the quantum bit(s) to their default state.\u001b[39;00m\n\u001b[1;32m   3907\u001b[0m \n\u001b[1;32m   3908\u001b[0m \u001b[38;5;124;03mArgs:\u001b[39;00m\n\u001b[0;32m   (...)\u001b[0m\n\u001b[1;32m   3912\u001b[0m \u001b[38;5;124;03m    qiskit.circuit.InstructionSet: handle to the added instruction.\u001b[39;00m\n\u001b[1;32m   3913\u001b[0m \u001b[38;5;124;03m\"\"\"\u001b[39;00m\n\u001b[1;32m   3914\u001b[0m \u001b[38;5;28;01mfrom\u001b[39;00m\u001b[38;5;250m \u001b[39m\u001b[38;5;21;01m.\u001b[39;00m\u001b[38;5;21;01mreset\u001b[39;00m\u001b[38;5;250m \u001b[39m\u001b[38;5;28;01mimport\u001b[39;00m Reset\n\u001b[0;32m-> 3916\u001b[0m \u001b[38;5;28;01mreturn\u001b[39;00m \u001b[38;5;28;43mself\u001b[39;49m\u001b[38;5;241;43m.\u001b[39;49m\u001b[43mappend\u001b[49m\u001b[43m(\u001b[49m\u001b[43mReset\u001b[49m\u001b[43m(\u001b[49m\u001b[43m)\u001b[49m\u001b[43m,\u001b[49m\u001b[43m \u001b[49m\u001b[43m[\u001b[49m\u001b[43mqubit\u001b[49m\u001b[43m]\u001b[49m\u001b[43m,\u001b[49m\u001b[43m \u001b[49m\u001b[43m[\u001b[49m\u001b[43m]\u001b[49m\u001b[43m,\u001b[49m\u001b[43m \u001b[49m\u001b[43mcopy\u001b[49m\u001b[38;5;241;43m=\u001b[39;49m\u001b[38;5;28;43;01mFalse\u001b[39;49;00m\u001b[43m)\u001b[49m\n",
      "File \u001b[0;32m~/projects/QCA/gatech-qec-project/src/Logical.py:736\u001b[0m, in \u001b[0;36mLogicalCircuit.append\u001b[0;34m(self, instruction, qargs, cargs, copy)\u001b[0m\n\u001b[1;32m    734\u001b[0m         qubits \u001b[38;5;241m=\u001b[39m [qubit\u001b[38;5;241m.\u001b[39m_index \u001b[38;5;28;01mfor\u001b[39;00m qubit \u001b[38;5;129;01min\u001b[39;00m instruction\u001b[38;5;241m.\u001b[39mqubits]\n\u001b[1;32m    735\u001b[0m     \u001b[38;5;28;01melse\u001b[39;00m:\n\u001b[0;32m--> 736\u001b[0m         \u001b[38;5;28;01mraise\u001b[39;00m \u001b[38;5;167;01mValueError\u001b[39;00m(\u001b[38;5;124mf\u001b[39m\u001b[38;5;124m\"\u001b[39m\u001b[38;5;124mAt least one of the following quantum arguments to operation \u001b[39m\u001b[38;5;124m'\u001b[39m\u001b[38;5;132;01m{\u001b[39;00moperation\u001b[38;5;132;01m}\u001b[39;00m\u001b[38;5;124m'\u001b[39m\u001b[38;5;124m are unrecognized: \u001b[39m\u001b[38;5;132;01m{\u001b[39;00mqargs\u001b[38;5;132;01m}\u001b[39;00m\u001b[38;5;124m\"\u001b[39m)\n\u001b[1;32m    738\u001b[0m \u001b[38;5;28;01mif\u001b[39;00m cargs \u001b[38;5;129;01mis\u001b[39;00m \u001b[38;5;28;01mNone\u001b[39;00m:\n\u001b[1;32m    739\u001b[0m     \u001b[38;5;28;01mif\u001b[39;00m \u001b[38;5;28mhasattr\u001b[39m(instruction, \u001b[38;5;124m\"\u001b[39m\u001b[38;5;124mclbits\u001b[39m\u001b[38;5;124m\"\u001b[39m):\n",
      "\u001b[0;31mValueError\u001b[0m: At least one of the following quantum arguments to operation 'reset' are unrecognized: [QuantumRegister(7, 'qlog0')]"
     ]
    },
    {
     "data": {
      "image/png": "[encoded data removed]",
      "text/plain": [
       "<Figure size 640x480 with 1 Axes>"
      ]
     },
     "metadata": {},
     "output_type": "display_data"
    }
   ],
   "source": [
    "from qiskit.visualization import plot_histogram\n",
    "\n",
    "# Tests encoding verification. Accuracy (historically) should be about 99.3%\n",
    "max_max_it = 5\n",
    "shots = int(1E6)\n",
    "\n",
    "simulator = AerSimulator()\n",
    "noise_model = construct_noise_model_QuantinuumH1_1(n_qubits=lqcirc.num_qubits-2)\n",
    "\n",
    "fig, ax = plt.subplots()\n",
    "plot_option = \"probs\"\n",
    "width = 0.3\n",
    "\n",
    "outcomes = range(1, max_max_it+1)\n",
    "all_data = []\n",
    "\n",
    "for max_it in range(1, max_max_it+1):\n",
    "    lqcirc = LogicalCircuit(1, (7,1,3), stabilizer_tableau, \"test_circuit\")\n",
    "    lqcirc.encode(0, max_iterations=max_it)\n",
    "    lqcirc.x(0)\n",
    "    \n",
    "    lqcirc_transpiled = transpile(lqcirc, backend=simulator)\n",
    "    result = simulator.run(lqcirc_transpiled, shots=shots, memory=True, noise_model=noise_model).result()\n",
    "    output = result.get_memory(lqcirc_transpiled)\n",
    "    \n",
    "    zeros = 0\n",
    "    ones = 0\n",
    "    \n",
    "    for o in output:\n",
    "        if o[-1] == '0':\n",
    "            zeros += 1\n",
    "        if o[-1] == '1':\n",
    "            ones += 1\n",
    "\n",
    "    counts = [zeros, ones]\n",
    "\n",
    "    if plot_option == \"counts\":\n",
    "        data = counts\n",
    "    elif plot_option == \"probs\":\n",
    "        data = [count/shots for count in counts]\n",
    "    else:\n",
    "        raise ValueError(f\"'{plot_option}' is not a valid plot_option; choose from ['counts', 'probs']\")\n",
    "\n",
    "    # @TODO - this doesn't render correctly (actually, it doesn't render at all) with logit scale\n",
    "    bar = ax.bar(max_it, data[0], width, log=True, label=f\"max_iterations={max_it}\")\n",
    "    ax.bar_label(bar)\n",
    "\n",
    "ax.set_xticks(outcomes)\n",
    "\n",
    "ax.set_yscale(\"log\")\n",
    "\n",
    "ax.set_title(\"Encoding verification test\")\n",
    "ax.set_xlabel(\"Max number of iterations\")\n",
    "ax.set_ylabel(\"N(0)\" if plot_option == \"counts\" else \"P(0)\")\n",
    "\n",
    "ax.legend()\n",
    "\n",
    "plt.show()"
   ]
  },
  {
   "cell_type": "code",
   "execution_count": 5,
   "metadata": {},
   "outputs": [
    {
     "ename": "ValueError",
     "evalue": "At least one of the following quantum arguments to operation 'reset' are unrecognized: [QuantumRegister(7, 'qlog0')]",
     "output_type": "error",
     "traceback": [
      "\u001b[0;31m---------------------------------------------------------------------------\u001b[0m",
      "\u001b[0;31mValueError\u001b[0m                                Traceback (most recent call last)",
      "Cell \u001b[0;32mIn[5], line 2\u001b[0m\n\u001b[1;32m      1\u001b[0m lqcirc \u001b[38;5;241m=\u001b[39m LogicalCircuit(\u001b[38;5;241m1\u001b[39m, (\u001b[38;5;241m7\u001b[39m,\u001b[38;5;241m1\u001b[39m,\u001b[38;5;241m3\u001b[39m), stabilizer_tableau)\n\u001b[0;32m----> 2\u001b[0m \u001b[43mlqcirc\u001b[49m\u001b[38;5;241;43m.\u001b[39;49m\u001b[43mencode\u001b[49m\u001b[43m(\u001b[49m\u001b[38;5;241;43m0\u001b[39;49m\u001b[43m)\u001b[49m\n\u001b[1;32m      3\u001b[0m lqcirc\u001b[38;5;241m.\u001b[39mperform_qec_cycle([\u001b[38;5;241m0\u001b[39m])\n\u001b[1;32m      4\u001b[0m \u001b[38;5;66;03m# lqcirc.draw('mpl')\u001b[39;00m\n",
      "File \u001b[0;32m~/projects/QCA/gatech-qec-project/src/Logical.py:331\u001b[0m, in \u001b[0;36mLogicalCircuit.encode\u001b[0;34m(self, max_iterations, initial_states, *qubits)\u001b[0m\n\u001b[1;32m    327\u001b[0m     \u001b[38;5;28;01mraise\u001b[39;00m \u001b[38;5;167;01mValueError\u001b[39;00m(\u001b[38;5;124m\"\u001b[39m\u001b[38;5;124mNumber of qubits should equal number of initial states if initial states are provided\u001b[39m\u001b[38;5;124m\"\u001b[39m)\n\u001b[1;32m    329\u001b[0m \u001b[38;5;28;01mfor\u001b[39;00m q, init_state \u001b[38;5;129;01min\u001b[39;00m \u001b[38;5;28mzip\u001b[39m(qubits, initial_states):\n\u001b[1;32m    330\u001b[0m     \u001b[38;5;66;03m# Preliminary physical qubit reset\u001b[39;00m\n\u001b[0;32m--> 331\u001b[0m     \u001b[38;5;28;43msuper\u001b[39;49m\u001b[43m(\u001b[49m\u001b[43m)\u001b[49m\u001b[38;5;241;43m.\u001b[39;49m\u001b[43mreset\u001b[49m\u001b[43m(\u001b[49m\u001b[38;5;28;43mself\u001b[39;49m\u001b[38;5;241;43m.\u001b[39;49m\u001b[43mlogical_qregs\u001b[49m\u001b[43m[\u001b[49m\u001b[43mq\u001b[49m\u001b[43m]\u001b[49m\u001b[43m)\u001b[49m\n\u001b[1;32m    333\u001b[0m     \u001b[38;5;66;03m# Initial encoding\u001b[39;00m\n\u001b[1;32m    334\u001b[0m     \u001b[38;5;28msuper\u001b[39m()\u001b[38;5;241m.\u001b[39mappend(\u001b[38;5;28mself\u001b[39m\u001b[38;5;241m.\u001b[39mencoding_gate, \u001b[38;5;28mself\u001b[39m\u001b[38;5;241m.\u001b[39mlogical_qregs[q])\n",
      "File \u001b[0;32m~/.venvs/qiskit/lib/python3.13/site-packages/qiskit/circuit/quantumcircuit.py:3916\u001b[0m, in \u001b[0;36mQuantumCircuit.reset\u001b[0;34m(self, qubit)\u001b[0m\n\u001b[1;32m   3906\u001b[0m \u001b[38;5;250m\u001b[39m\u001b[38;5;124;03m\"\"\"Reset the quantum bit(s) to their default state.\u001b[39;00m\n\u001b[1;32m   3907\u001b[0m \n\u001b[1;32m   3908\u001b[0m \u001b[38;5;124;03mArgs:\u001b[39;00m\n\u001b[0;32m   (...)\u001b[0m\n\u001b[1;32m   3912\u001b[0m \u001b[38;5;124;03m    qiskit.circuit.InstructionSet: handle to the added instruction.\u001b[39;00m\n\u001b[1;32m   3913\u001b[0m \u001b[38;5;124;03m\"\"\"\u001b[39;00m\n\u001b[1;32m   3914\u001b[0m \u001b[38;5;28;01mfrom\u001b[39;00m\u001b[38;5;250m \u001b[39m\u001b[38;5;21;01m.\u001b[39;00m\u001b[38;5;21;01mreset\u001b[39;00m\u001b[38;5;250m \u001b[39m\u001b[38;5;28;01mimport\u001b[39;00m Reset\n\u001b[0;32m-> 3916\u001b[0m \u001b[38;5;28;01mreturn\u001b[39;00m \u001b[38;5;28;43mself\u001b[39;49m\u001b[38;5;241;43m.\u001b[39;49m\u001b[43mappend\u001b[49m\u001b[43m(\u001b[49m\u001b[43mReset\u001b[49m\u001b[43m(\u001b[49m\u001b[43m)\u001b[49m\u001b[43m,\u001b[49m\u001b[43m \u001b[49m\u001b[43m[\u001b[49m\u001b[43mqubit\u001b[49m\u001b[43m]\u001b[49m\u001b[43m,\u001b[49m\u001b[43m \u001b[49m\u001b[43m[\u001b[49m\u001b[43m]\u001b[49m\u001b[43m,\u001b[49m\u001b[43m \u001b[49m\u001b[43mcopy\u001b[49m\u001b[38;5;241;43m=\u001b[39;49m\u001b[38;5;28;43;01mFalse\u001b[39;49;00m\u001b[43m)\u001b[49m\n",
      "File \u001b[0;32m~/projects/QCA/gatech-qec-project/src/Logical.py:736\u001b[0m, in \u001b[0;36mLogicalCircuit.append\u001b[0;34m(self, instruction, qargs, cargs, copy)\u001b[0m\n\u001b[1;32m    734\u001b[0m         qubits \u001b[38;5;241m=\u001b[39m [qubit\u001b[38;5;241m.\u001b[39m_index \u001b[38;5;28;01mfor\u001b[39;00m qubit \u001b[38;5;129;01min\u001b[39;00m instruction\u001b[38;5;241m.\u001b[39mqubits]\n\u001b[1;32m    735\u001b[0m     \u001b[38;5;28;01melse\u001b[39;00m:\n\u001b[0;32m--> 736\u001b[0m         \u001b[38;5;28;01mraise\u001b[39;00m \u001b[38;5;167;01mValueError\u001b[39;00m(\u001b[38;5;124mf\u001b[39m\u001b[38;5;124m\"\u001b[39m\u001b[38;5;124mAt least one of the following quantum arguments to operation \u001b[39m\u001b[38;5;124m'\u001b[39m\u001b[38;5;132;01m{\u001b[39;00moperation\u001b[38;5;132;01m}\u001b[39;00m\u001b[38;5;124m'\u001b[39m\u001b[38;5;124m are unrecognized: \u001b[39m\u001b[38;5;132;01m{\u001b[39;00mqargs\u001b[38;5;132;01m}\u001b[39;00m\u001b[38;5;124m\"\u001b[39m)\n\u001b[1;32m    738\u001b[0m \u001b[38;5;28;01mif\u001b[39;00m cargs \u001b[38;5;129;01mis\u001b[39;00m \u001b[38;5;28;01mNone\u001b[39;00m:\n\u001b[1;32m    739\u001b[0m     \u001b[38;5;28;01mif\u001b[39;00m \u001b[38;5;28mhasattr\u001b[39m(instruction, \u001b[38;5;124m\"\u001b[39m\u001b[38;5;124mclbits\u001b[39m\u001b[38;5;124m\"\u001b[39m):\n",
      "\u001b[0;31mValueError\u001b[0m: At least one of the following quantum arguments to operation 'reset' are unrecognized: [QuantumRegister(7, 'qlog0')]"
     ]
    }
   ],
   "source": [
    "lqcirc = LogicalCircuit(1, (7,1,3), stabilizer_tableau)\n",
    "lqcirc.encode(0)\n",
    "lqcirc.perform_qec_cycle([0])\n",
    "# lqcirc.draw('mpl')"
   ]
  },
  {
   "cell_type": "code",
   "execution_count": 6,
   "metadata": {},
   "outputs": [
    {
     "data": {
      "image/png": "[encoded data removed]",
      "text/plain": [
       "<Figure size 203.683x200.667 with 1 Axes>"
      ]
     },
     "execution_count": 6,
     "metadata": {},
     "output_type": "execute_result"
    }
   ],
   "source": [
    "# We can also construct a logical circuit from a physical qubit circuit, first by constructing a QuantumCircuit:\n",
    "pqc = QuantumCircuit(2)\n",
    "pqc.x(0)\n",
    "# pqc.h(0)\n",
    "# pqc.cx(0,1)\n",
    "pqc.draw(output=\"mpl\")"
   ]
  },
  {
   "cell_type": "code",
   "execution_count": 7,
   "metadata": {},
   "outputs": [
    {
     "ename": "ValueError",
     "evalue": "At least one of the following quantum arguments to operation 'reset' are unrecognized: [QuantumRegister(7, 'qlog0')]",
     "output_type": "error",
     "traceback": [
      "\u001b[0;31m---------------------------------------------------------------------------\u001b[0m",
      "\u001b[0;31mValueError\u001b[0m                                Traceback (most recent call last)",
      "Cell \u001b[0;32mIn[7], line 2\u001b[0m\n\u001b[1;32m      1\u001b[0m \u001b[38;5;66;03m# Then, we convert the QuantumCircuit to a LogicalCircuit:\u001b[39;00m\n\u001b[0;32m----> 2\u001b[0m lqc \u001b[38;5;241m=\u001b[39m \u001b[43mLogicalCircuit\u001b[49m\u001b[38;5;241;43m.\u001b[39;49m\u001b[43mfrom_physical_circuit\u001b[49m\u001b[43m(\u001b[49m\u001b[43mpqc\u001b[49m\u001b[43m,\u001b[49m\u001b[43m \u001b[49m\u001b[43m(\u001b[49m\u001b[38;5;241;43m7\u001b[39;49m\u001b[43m,\u001b[49m\u001b[38;5;241;43m1\u001b[39;49m\u001b[43m,\u001b[49m\u001b[38;5;241;43m3\u001b[39;49m\u001b[43m)\u001b[49m\u001b[43m,\u001b[49m\u001b[43m \u001b[49m\u001b[43mstabilizer_tableau\u001b[49m\u001b[43m)\u001b[49m\n\u001b[1;32m      3\u001b[0m lqc\u001b[38;5;241m.\u001b[39mdraw(output\u001b[38;5;241m=\u001b[39m\u001b[38;5;124m\"\u001b[39m\u001b[38;5;124mmpl\u001b[39m\u001b[38;5;124m\"\u001b[39m)\n",
      "File \u001b[0;32m~/projects/QCA/gatech-qec-project/src/Logical.py:72\u001b[0m, in \u001b[0;36mLogicalCircuit.from_physical_circuit\u001b[0;34m(cls, physical_circuit, label, stabilizer_tableau, name)\u001b[0m\n\u001b[1;32m     69\u001b[0m logical_circuit \u001b[38;5;241m=\u001b[39m \u001b[38;5;28mcls\u001b[39m(physical_circuit\u001b[38;5;241m.\u001b[39mnum_qubits, label, stabilizer_tableau, name)\n\u001b[1;32m     71\u001b[0m \u001b[38;5;66;03m# @TODO - expose the options that encode takes to the user of from_physical_circuit\u001b[39;00m\n\u001b[0;32m---> 72\u001b[0m \u001b[43mlogical_circuit\u001b[49m\u001b[38;5;241;43m.\u001b[39;49m\u001b[43mencode\u001b[49m\u001b[43m(\u001b[49m\u001b[38;5;28;43mrange\u001b[39;49m\u001b[43m(\u001b[49m\u001b[43mphysical_circuit\u001b[49m\u001b[38;5;241;43m.\u001b[39;49m\u001b[43mnum_qubits\u001b[49m\u001b[43m)\u001b[49m\u001b[43m,\u001b[49m\u001b[43m \u001b[49m\u001b[43mmax_iterations\u001b[49m\u001b[38;5;241;43m=\u001b[39;49m\u001b[38;5;241;43m3\u001b[39;49m\u001b[43m)\u001b[49m\n\u001b[1;32m     74\u001b[0m \u001b[38;5;28;01mfor\u001b[39;00m i \u001b[38;5;129;01min\u001b[39;00m \u001b[38;5;28mrange\u001b[39m(physical_circuit\u001b[38;5;241m.\u001b[39mdepth()):\n\u001b[1;32m     75\u001b[0m     circuit_instruction \u001b[38;5;241m=\u001b[39m physical_circuit\u001b[38;5;241m.\u001b[39mdata[i]\n",
      "File \u001b[0;32m~/projects/QCA/gatech-qec-project/src/Logical.py:331\u001b[0m, in \u001b[0;36mLogicalCircuit.encode\u001b[0;34m(self, max_iterations, initial_states, *qubits)\u001b[0m\n\u001b[1;32m    327\u001b[0m     \u001b[38;5;28;01mraise\u001b[39;00m \u001b[38;5;167;01mValueError\u001b[39;00m(\u001b[38;5;124m\"\u001b[39m\u001b[38;5;124mNumber of qubits should equal number of initial states if initial states are provided\u001b[39m\u001b[38;5;124m\"\u001b[39m)\n\u001b[1;32m    329\u001b[0m \u001b[38;5;28;01mfor\u001b[39;00m q, init_state \u001b[38;5;129;01min\u001b[39;00m \u001b[38;5;28mzip\u001b[39m(qubits, initial_states):\n\u001b[1;32m    330\u001b[0m     \u001b[38;5;66;03m# Preliminary physical qubit reset\u001b[39;00m\n\u001b[0;32m--> 331\u001b[0m     \u001b[38;5;28;43msuper\u001b[39;49m\u001b[43m(\u001b[49m\u001b[43m)\u001b[49m\u001b[38;5;241;43m.\u001b[39;49m\u001b[43mreset\u001b[49m\u001b[43m(\u001b[49m\u001b[38;5;28;43mself\u001b[39;49m\u001b[38;5;241;43m.\u001b[39;49m\u001b[43mlogical_qregs\u001b[49m\u001b[43m[\u001b[49m\u001b[43mq\u001b[49m\u001b[43m]\u001b[49m\u001b[43m)\u001b[49m\n\u001b[1;32m    333\u001b[0m     \u001b[38;5;66;03m# Initial encoding\u001b[39;00m\n\u001b[1;32m    334\u001b[0m     \u001b[38;5;28msuper\u001b[39m()\u001b[38;5;241m.\u001b[39mappend(\u001b[38;5;28mself\u001b[39m\u001b[38;5;241m.\u001b[39mencoding_gate, \u001b[38;5;28mself\u001b[39m\u001b[38;5;241m.\u001b[39mlogical_qregs[q])\n",
      "File \u001b[0;32m~/.venvs/qiskit/lib/python3.13/site-packages/qiskit/circuit/quantumcircuit.py:3916\u001b[0m, in \u001b[0;36mQuantumCircuit.reset\u001b[0;34m(self, qubit)\u001b[0m\n\u001b[1;32m   3906\u001b[0m \u001b[38;5;250m\u001b[39m\u001b[38;5;124;03m\"\"\"Reset the quantum bit(s) to their default state.\u001b[39;00m\n\u001b[1;32m   3907\u001b[0m \n\u001b[1;32m   3908\u001b[0m \u001b[38;5;124;03mArgs:\u001b[39;00m\n\u001b[0;32m   (...)\u001b[0m\n\u001b[1;32m   3912\u001b[0m \u001b[38;5;124;03m    qiskit.circuit.InstructionSet: handle to the added instruction.\u001b[39;00m\n\u001b[1;32m   3913\u001b[0m \u001b[38;5;124;03m\"\"\"\u001b[39;00m\n\u001b[1;32m   3914\u001b[0m \u001b[38;5;28;01mfrom\u001b[39;00m\u001b[38;5;250m \u001b[39m\u001b[38;5;21;01m.\u001b[39;00m\u001b[38;5;21;01mreset\u001b[39;00m\u001b[38;5;250m \u001b[39m\u001b[38;5;28;01mimport\u001b[39;00m Reset\n\u001b[0;32m-> 3916\u001b[0m \u001b[38;5;28;01mreturn\u001b[39;00m \u001b[38;5;28;43mself\u001b[39;49m\u001b[38;5;241;43m.\u001b[39;49m\u001b[43mappend\u001b[49m\u001b[43m(\u001b[49m\u001b[43mReset\u001b[49m\u001b[43m(\u001b[49m\u001b[43m)\u001b[49m\u001b[43m,\u001b[49m\u001b[43m \u001b[49m\u001b[43m[\u001b[49m\u001b[43mqubit\u001b[49m\u001b[43m]\u001b[49m\u001b[43m,\u001b[49m\u001b[43m \u001b[49m\u001b[43m[\u001b[49m\u001b[43m]\u001b[49m\u001b[43m,\u001b[49m\u001b[43m \u001b[49m\u001b[43mcopy\u001b[49m\u001b[38;5;241;43m=\u001b[39;49m\u001b[38;5;28;43;01mFalse\u001b[39;49;00m\u001b[43m)\u001b[49m\n",
      "File \u001b[0;32m~/projects/QCA/gatech-qec-project/src/Logical.py:736\u001b[0m, in \u001b[0;36mLogicalCircuit.append\u001b[0;34m(self, instruction, qargs, cargs, copy)\u001b[0m\n\u001b[1;32m    734\u001b[0m         qubits \u001b[38;5;241m=\u001b[39m [qubit\u001b[38;5;241m.\u001b[39m_index \u001b[38;5;28;01mfor\u001b[39;00m qubit \u001b[38;5;129;01min\u001b[39;00m instruction\u001b[38;5;241m.\u001b[39mqubits]\n\u001b[1;32m    735\u001b[0m     \u001b[38;5;28;01melse\u001b[39;00m:\n\u001b[0;32m--> 736\u001b[0m         \u001b[38;5;28;01mraise\u001b[39;00m \u001b[38;5;167;01mValueError\u001b[39;00m(\u001b[38;5;124mf\u001b[39m\u001b[38;5;124m\"\u001b[39m\u001b[38;5;124mAt least one of the following quantum arguments to operation \u001b[39m\u001b[38;5;124m'\u001b[39m\u001b[38;5;132;01m{\u001b[39;00moperation\u001b[38;5;132;01m}\u001b[39;00m\u001b[38;5;124m'\u001b[39m\u001b[38;5;124m are unrecognized: \u001b[39m\u001b[38;5;132;01m{\u001b[39;00mqargs\u001b[38;5;132;01m}\u001b[39;00m\u001b[38;5;124m\"\u001b[39m)\n\u001b[1;32m    738\u001b[0m \u001b[38;5;28;01mif\u001b[39;00m cargs \u001b[38;5;129;01mis\u001b[39;00m \u001b[38;5;28;01mNone\u001b[39;00m:\n\u001b[1;32m    739\u001b[0m     \u001b[38;5;28;01mif\u001b[39;00m \u001b[38;5;28mhasattr\u001b[39m(instruction, \u001b[38;5;124m\"\u001b[39m\u001b[38;5;124mclbits\u001b[39m\u001b[38;5;124m\"\u001b[39m):\n",
      "\u001b[0;31mValueError\u001b[0m: At least one of the following quantum arguments to operation 'reset' are unrecognized: [QuantumRegister(7, 'qlog0')]"
     ]
    }
   ],
   "source": [
    "# Then, we convert the QuantumCircuit to a LogicalCircuit:\n",
    "lqc = LogicalCircuit.from_physical_circuit(pqc, (7,1,3), stabilizer_tableau)\n",
    "lqc.draw(output=\"mpl\")"
   ]
  },
  {
   "cell_type": "code",
   "execution_count": null,
   "metadata": {},
   "outputs": [],
   "source": []
  }
 ],
 "metadata": {
  "kernelspec": {
   "display_name": "Python 3 (ipykernel)",
   "language": "python",
   "name": "python3"
  },
  "language_info": {
   "codemirror_mode": {
    "name": "ipython",
    "version": 3
   },
   "file_extension": ".py",
   "mimetype": "text/x-python",
   "name": "python",
   "nbconvert_exporter": "python",
   "pygments_lexer": "ipython3",
   "version": "3.13.3"
  }
 },
 "nbformat": 4,
 "nbformat_minor": 4
}

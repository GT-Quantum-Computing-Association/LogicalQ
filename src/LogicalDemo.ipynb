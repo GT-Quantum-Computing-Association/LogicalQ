{
 "cells": [
  {
   "cell_type": "code",
   "execution_count": 10,
   "metadata": {},
   "outputs": [
    {
     "data": {
      "text/plain": [
       "<module 'Logical' from 'c:\\\\Users\\\\hagan\\\\Desktop\\\\Steane Code Project\\\\src\\\\Logical.py'>"
      ]
     },
     "execution_count": 10,
     "metadata": {},
     "output_type": "execute_result"
    }
   ],
   "source": [
    "from Logical import LogicalCircuit\n",
    "import sys, importlib\n",
    "from qiskit import ClassicalRegister, QuantumRegister, QuantumCircuit, transpile\n",
    "from qiskit_aer import AerSimulator\n",
    "\n",
    "# clearing lib cache during development to force-update imports\n",
    "importlib.reload(sys.modules['Logical'])"
   ]
  },
  {
   "cell_type": "code",
   "execution_count": 11,
   "metadata": {},
   "outputs": [],
   "source": [
    "stabilizer_tableau = [\n",
    "  \"XXXXIII\",\n",
    "  \"IXXIXXI\",\n",
    "  \"IIXXIXX\",\n",
    "  \"ZZZZIII\",\n",
    "  \"IIZZIZZ\",\n",
    "  \"IIZZIZZ\",\n",
    "]"
   ]
  },
  {
   "cell_type": "code",
   "execution_count": 12,
   "metadata": {},
   "outputs": [
    {
     "name": "stdout",
     "output_type": "stream",
     "text": [
      "10\n",
      "10\n",
      "10\n",
      "10\n",
      "10\n",
      "10\n",
      "10\n"
     ]
    }
   ],
   "source": [
    "#Runs a shot on a noiseless simulator with an error at each of the physical qubits\n",
    "shots = 1\n",
    "simulator = AerSimulator()\n",
    "\n",
    "for i in range(7):\n",
    "    \n",
    "    #Generates the circuit\n",
    "    lqcirc = LogicalCircuit(2, stabilizer_tableau, name=\"SteaneCodeCircuit\")\n",
    "    lqcirc.encode(0,1, max_iterations=1, initial_states=[0,1])\n",
    "\n",
    "    #Inserts an error on both logical qubits\n",
    "    lqcirc.add_error(0, i, 'X')\n",
    "    lqcirc.add_error(1, i, 'X')\n",
    "\n",
    "    #Adds QEC cycle and measurement\n",
    "    lqcirc.perform_qec_cycle([0, 1])\n",
    "    lqcirc.measure([0, 1], [0, 1])\n",
    "\n",
    "    #Simulates the QEC cycle\n",
    "    qc = transpile(lqcirc, backend=simulator)\n",
    "    result = simulator.run(qc, shots=shots, memory=True).result()\n",
    "    output = result.get_memory(lqcirc)\n",
    "    print(output[0][:2])\n",
    "\n",
    "    #Outputs should all be 10 if the error correction worked properly"
   ]
  }
 ],
 "metadata": {
  "kernelspec": {
   "display_name": "Python 3",
   "language": "python",
   "name": "python3"
  },
  "language_info": {
   "codemirror_mode": {
    "name": "ipython",
    "version": 3
   },
   "file_extension": ".py",
   "mimetype": "text/x-python",
   "name": "python",
   "nbconvert_exporter": "python",
   "pygments_lexer": "ipython3",
   "version": "3.12.0"
  }
 },
 "nbformat": 4,
 "nbformat_minor": 2
}

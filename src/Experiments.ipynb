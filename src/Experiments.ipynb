{
 "cells": [
  {
   "cell_type": "code",
   "execution_count": null,
   "metadata": {},
   "outputs": [],
   "source": [
    "from qiskit import ClassicalRegister, QuantumRegister, QuantumCircuit, transpile\n",
    "from qiskit_aer import AerSimulator\n",
    "\n",
    "from Logical import LogicalCircuit\n",
    "from NoiseModel import construct_noise_model_QuantinuumH1_1\n",
    "from Benchmarks import n_qubit_ghz_generation\n",
    "from Experiments import benchmark_noise, circuit_scaling_experiment\n",
    "from Analysis import circuit_scaling_bar3d\n",
    "\n",
    "# clearing lib cache during development to force-update imports\n",
    "import sys, importlib\n",
    "importlib.reload(sys.modules['Logical'])\n",
    "importlib.reload(sys.modules['NoiseModel'])\n",
    "importlib.reload(sys.modules['Benchmarks'])\n",
    "importlib.reload(sys.modules['Experiments'])"
   ]
  },
  {
   "cell_type": "code",
   "execution_count": null,
   "metadata": {},
   "outputs": [],
   "source": [
    "# We use the Steane code to demonstrate the library\n",
    "stabilizer_tableau = [\n",
    "  \"XXXXIII\",\n",
    "  \"IXXIXXI\",\n",
    "  \"IIXXIXX\",\n",
    "  \"ZZZZIII\",\n",
    "  \"IZZIZZI\",\n",
    "  \"IIZZIZZ\",\n",
    "]"
   ]
  },
  {
   "cell_type": "code",
   "execution_count": null,
   "metadata": {
    "scrolled": true
   },
   "outputs": [],
   "source": [
    "physical_circuit_factory = n_qubit_ghz_generation\n",
    "\n",
    "def log_n_qubit_ghz_generation(n_qubits=3, circuit_length=None, barriers=False):\n",
    "    pqc = n_qubit_ghz_generation(n_qubits, circuit_length, barriers=barriers)\n",
    "    lqc = LogicalCircuit.from_physical_circuit(pqc, label=(7,1,3), stabilizer_tableau=stabilizer_tableau)\n",
    "    lqc.measure_all(with_error_correction=False)\n",
    "    return lqc\n",
    "\n",
    "logical_circuit_factory = log_n_qubit_ghz_generation\n",
    "\n",
    "noise_model_factory = construct_noise_model_QuantinuumH1_1"
   ]
  },
  {
   "cell_type": "code",
   "execution_count": null,
   "metadata": {},
   "outputs": [],
   "source": [
    "phys_data = circuit_scaling_experiment(\n",
    "    physical_circuit_factory,\n",
    "    noise_model_factory,\n",
    "    min_n_qubits=1,\n",
    "    max_n_qubits=2,\n",
    "    min_circuit_length=1,\n",
    "    max_circuit_length=64,\n",
    "    shots=128,\n",
    "    with_mp=True\n",
    ")"
   ]
  },
  {
   "cell_type": "code",
   "execution_count": null,
   "metadata": {
    "scrolled": true
   },
   "outputs": [],
   "source": [
    "log_data = circuit_scaling_experiment(\n",
    "    logical_circuit_factory,\n",
    "    noise_model_factory,\n",
    "    min_n_qubits=1,\n",
    "    max_n_qubits=2,\n",
    "    min_circuit_length=1,\n",
    "    max_circuit_length=1,\n",
    "    shots=128,\n",
    "    with_mp=True\n",
    ")"
   ]
  },
  {
   "cell_type": "code",
   "execution_count": null,
   "metadata": {},
   "outputs": [],
   "source": [
    "circuit_scaling_bar3d(phys_data)"
   ]
  },
  {
   "cell_type": "code",
   "execution_count": null,
   "metadata": {},
   "outputs": [],
   "source": [
    "circuit_scaling_bar3d(log_data)"
   ]
  },
  {
   "cell_type": "code",
   "execution_count": null,
   "metadata": {},
   "outputs": [],
   "source": []
  }
 ],
 "metadata": {
  "kernelspec": {
   "display_name": "Python 3 (ipykernel)",
   "language": "python",
   "name": "python3"
  },
  "language_info": {
   "codemirror_mode": {
    "name": "ipython",
    "version": 3
   },
   "file_extension": ".py",
   "mimetype": "text/x-python",
   "name": "python",
   "nbconvert_exporter": "python",
   "pygments_lexer": "ipython3",
   "version": "3.13.3"
  }
 },
 "nbformat": 4,
 "nbformat_minor": 4
}

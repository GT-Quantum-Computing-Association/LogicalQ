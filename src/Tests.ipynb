{
 "cells": [
  {
   "cell_type": "code",
   "execution_count": 2,
   "metadata": {},
   "outputs": [
    {
     "data": {
      "text/plain": [
       "<module 'Logical' from 'c:\\\\Users\\\\hagan\\\\Desktop\\\\Steane Code Project\\\\src\\\\Logical.py'>"
      ]
     },
     "execution_count": 2,
     "metadata": {},
     "output_type": "execute_result"
    }
   ],
   "source": [
    "from Logical import LogicalCircuit\n",
    "import sys, importlib\n",
    "from qiskit import ClassicalRegister, QuantumRegister, QuantumCircuit, transpile\n",
    "from qiskit_aer import AerSimulator\n",
    "\n",
    "# clearing lib cache during development to force-update imports\n",
    "importlib.reload(sys.modules['Logical'])"
   ]
  },
  {
   "cell_type": "code",
   "execution_count": null,
   "metadata": {},
   "outputs": [],
   "source": [
    "stabilizer_tableau = [\n",
    "  \"XXXXIII\",\n",
    "  \"IXXIXXI\",\n",
    "  \"IIXXIXX\",\n",
    "  \"ZZZZIII\",\n",
    "  \"IIZZIZZ\",\n",
    "  \"IIZZIZZ\",\n",
    "]"
   ]
  },
  {
   "cell_type": "code",
   "execution_count": null,
   "metadata": {},
   "outputs": [],
   "source": [
    "#Runs a shot on a noiseless simulator with an error at each of the physical qubits\n",
    "shots = 1\n",
    "simulator = AerSimulator()\n",
    "outputs = []\n",
    "\n",
    "for i in range(7):\n",
    "    lqcirc = LogicalCircuit(2, stabilizer_tableau, name=\"SteaneCodeCircuit\")\n",
    "    output = ClassicalRegister(2, name=\"output\")\n",
    "    lqcirc.add_register(output)\n",
    "    lqcirc.encode(0,1, max_iterations=1)\n",
    "    lqcirc.add_error(0, i, 'X')\n",
    "    lqcirc.perform_qec_cycle([0])\n",
    "    lqcirc.measure([0, 1], [output[0], output[1]])\n",
    "    qc = transpile(lqcirc, backend=simulator)\n",
    "    result = simulator.run(qc, shots=shots, memory=True).result()\n",
    "    output = result.get_memory(lqcirc)\n",
    "    outputs.append(output[:2])"
   ]
  },
  {
   "cell_type": "code",
   "execution_count": null,
   "metadata": {},
   "outputs": [
    {
     "name": "stdout",
     "output_type": "stream",
     "text": [
      "['00 1100011 00 111000 000000 000000 000 0 1011011 00 111001 000001 000001 001 0']\n",
      "['00 1101100 00 111000 000000 000000 000 0 1011000 00 111011 000001 000011 001 0']\n",
      "['00 0001111 00 111000 000000 000000 000 0 0110010 00 111111 000001 000111 111 0']\n",
      "['00 1010101 00 111000 000000 000000 000 0 1010010 00 111101 000001 000101 111 0']\n",
      "['00 1101100 00 111000 000000 000000 000 0 0101001 01 111010 000010 000010 000 0']\n",
      "['00 1010101 00 111000 000000 000000 000 0 1001100 01 111110 000110 000110 110 0']\n",
      "['00 1101100 00 111000 000000 000000 000 0 1111001 01 111100 000100 000100 110 0']\n"
     ]
    }
   ],
   "source": [
    "#First two digits are outputs for each of the logical qubits\n",
    "for o in outputs:\n",
    "    print(o)"
   ]
  }
 ],
 "metadata": {
  "kernelspec": {
   "display_name": "Python 3",
   "language": "python",
   "name": "python3"
  },
  "language_info": {
   "codemirror_mode": {
    "name": "ipython",
    "version": 3
   },
   "file_extension": ".py",
   "mimetype": "text/x-python",
   "name": "python",
   "nbconvert_exporter": "python",
   "pygments_lexer": "ipython3",
   "version": "3.12.0"
  }
 },
 "nbformat": 4,
 "nbformat_minor": 2
}

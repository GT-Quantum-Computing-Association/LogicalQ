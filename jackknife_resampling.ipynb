{
 "cells": [
  {
   "cell_type": "code",
   "execution_count": 1,
   "metadata": {},
   "outputs": [
    {
     "name": "stdout",
     "output_type": "stream",
     "text": [
      "0.00028\n",
      "0.00027999999999644726\n",
      "Input size: 100000\n",
      "Original mean: 0.00028\n",
      "Pseudovalues mean: 0.00027999999999644726\n",
      "Variance: nan\n",
      "SE: nan\n",
      "Standard Deviation: 0.016730941373514895\n"
     ]
    },
    {
     "name": "stderr",
     "output_type": "stream",
     "text": [
      "c:\\Users\\fiyin\\anaconda3\\Lib\\site-packages\\numpy\\core\\fromnumeric.py:3713: RuntimeWarning: Degrees of freedom <= 0 for slice\n",
      "  return var(axis=axis, dtype=dtype, out=out, ddof=ddof, **kwargs)\n",
      "c:\\Users\\fiyin\\anaconda3\\Lib\\site-packages\\numpy\\core\\_methods.py:257: RuntimeWarning: invalid value encountered in double_scalars\n",
      "  ret = ret.dtype.type(ret / rcount)\n"
     ]
    }
   ],
   "source": [
    "import numpy as np\n",
    "\n",
    "# dataset (99971 0's, 29 1's)\n",
    "lst = [0] * 100000\n",
    "for i in range (99971, 99999):\n",
    "    lst[i] = 1\n",
    "\n",
    "\n",
    "data = np.array(lst)\n",
    "data_mean = np.mean(data)\n",
    "delete_one_values = []\n",
    "\n",
    "#for loop calculates the delete one values and appends to the list above\n",
    "for i in range(len(data)):\n",
    "    #leaves actual data array unaffected\n",
    "    subset = np.delete(data, i)\n",
    "    subset_mean = np.mean(subset)\n",
    "    delete_one_values.append(subset_mean)\n",
    "\n",
    "#x is the value that stands for n*(mean)  (n is length of dataset)\n",
    "x = len(lst) * data_mean\n",
    "#rounds to one dec pt in paper\n",
    "#for each delete one value, calculates the pseudo value\n",
    "pseudovalues = [x - (len(lst) - 1)*i for i in delete_one_values]\n",
    "pseudovalues_mean = np.mean(pseudovalues)\n",
    "print(data_mean)\n",
    "print(pseudovalues_mean)\n",
    "\n",
    "#variance and standard error \n",
    "variance = np.var(pseudovalues_mean, ddof=1)\n",
    "standard_error = np.sqrt((len(data)) - 1 * variance)\n",
    "std = np.std(pseudovalues, ddof = 1)\n",
    "\n",
    "#Results\n",
    "print(f\"Input size: {len(lst)}\")\n",
    "print(f\"Original mean: {data_mean}\")\n",
    "print(f\"Pseudovalues mean: {pseudovalues_mean}\")\n",
    "print(f\"Variance: {variance}\")\n",
    "print(f\"SE: {standard_error}\")\n",
    "print(f\"Standard Deviation: {std}\")"
   ]
  }
 ],
 "metadata": {
  "kernelspec": {
   "display_name": "base",
   "language": "python",
   "name": "python3"
  },
  "language_info": {
   "codemirror_mode": {
    "name": "ipython",
    "version": 3
   },
   "file_extension": ".py",
   "mimetype": "text/x-python",
   "name": "python",
   "nbconvert_exporter": "python",
   "pygments_lexer": "ipython3",
   "version": "3.11.4"
  }
 },
 "nbformat": 4,
 "nbformat_minor": 2
}

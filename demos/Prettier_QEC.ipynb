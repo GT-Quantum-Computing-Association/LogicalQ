{
 "cells": [
  {
   "cell_type": "code",
   "execution_count": 1,
   "id": "3aeb8ee7-f2b2-4374-9447-2f6a6391f2c5",
   "metadata": {},
   "outputs": [],
   "source": [
    "from LogicalQ.Logical import LogicalCircuit, LogicalStatevector, LogicalDensityMatrix\n",
    "from LogicalQ.Library.QECCs import steane_code"
   ]
  },
  {
   "cell_type": "markdown",
   "id": "3a19984a-27df-4e61-817a-b91526334634",
   "metadata": {},
   "source": [
    "## Drawing LogicalCircuits"
   ]
  },
  {
   "cell_type": "code",
   "execution_count": 2,
   "id": "764a7b64-54b6-4e3a-a7ec-7c3d470c37d1",
   "metadata": {},
   "outputs": [],
   "source": [
    "n = 2\n",
    "lqc = LogicalCircuit(n, **steane_code)\n",
    "lqc.encode(0)\n",
    "lqc.x(0)\n",
    "lqc.y(1)\n",
    "lqc.z(0)\n",
    "lqc.h(1)\n",
    "lqc.s(0)\n",
    "lqc.sdg(1)\n",
    "lqc.t(0)\n",
    "lqc.cx(0, 1)\n",
    "lqc.append_qec_cycle([0])"
   ]
  },
  {
   "cell_type": "code",
   "execution_count": 3,
   "id": "569caf29-8931-49e0-8aa0-2026cc5557f7",
   "metadata": {},
   "outputs": [],
   "source": [
    "lqc.draw(\"mpl\", fold_qec=True, fold_logicalop=True)"
   ]
  },
  {
   "cell_type": "markdown",
   "id": "ed56f4cd-d425-4c40-aa06-e6405d45e632",
   "metadata": {},
   "source": [
    "## Drawing LogicalStatevectors"
   ]
  },
  {
   "cell_type": "code",
   "execution_count": 4,
   "id": "f640e322-55e7-4a8e-b711-10deaff59ec4",
   "metadata": {},
   "outputs": [
    {
     "data": {
      "text/plain": [
       "True"
      ]
     },
     "execution_count": 4,
     "metadata": {},
     "output_type": "execute_result"
    }
   ],
   "source": [
    "n = 1\n",
    "lqc = LogicalCircuit(n, **steane_code)\n",
    "lqc.encode([0], initial_states=[1])"
   ]
  },
  {
   "cell_type": "code",
   "execution_count": 5,
   "id": "ac6d15aa-8b28-4b11-83ff-fdc5a5b9e5bd",
   "metadata": {
    "scrolled": true
   },
   "outputs": [],
   "source": [
    "lsv = LogicalStatevector(lqc)"
   ]
  },
  {
   "cell_type": "code",
   "execution_count": 6,
   "id": "492a74db-01ff-4673-9b58-f7575ce56c1b",
   "metadata": {},
   "outputs": [
    {
     "data": {
      "text/plain": [
       "array([0.+0.j, 1.+0.j, 0.+0.j])"
      ]
     },
     "execution_count": 6,
     "metadata": {},
     "output_type": "execute_result"
    }
   ],
   "source": [
    "lsv.__array__(basis=\"physical\")\n",
    "lsv.__array__(basis=\"logical\")"
   ]
  },
  {
   "cell_type": "code",
   "execution_count": 8,
   "id": "0383610f-4b80-444c-bfc6-a4b00133d92d",
   "metadata": {},
   "outputs": [
    {
     "name": "stdout",
     "output_type": "stream",
     "text": [
      "Statevector([0.+0.j, 1.+0.j, 0.+0.j],\n",
      "            dims=(2, 2, 2, 2, 2, 2, 2, 2, 2, 2, 2, 2, 2, 2))\n"
     ]
    }
   ],
   "source": [
    "print(lsv)"
   ]
  },
  {
   "cell_type": "code",
   "execution_count": null,
   "id": "bcfbdfbc-0d01-4e97-9fe0-4e54efcdb091",
   "metadata": {},
   "outputs": [],
   "source": []
  }
 ],
 "metadata": {
  "kernelspec": {
   "display_name": "Python 3 (ipykernel)",
   "language": "python",
   "name": "python3"
  },
  "language_info": {
   "codemirror_mode": {
    "name": "ipython",
    "version": 3
   },
   "file_extension": ".py",
   "mimetype": "text/x-python",
   "name": "python",
   "nbconvert_exporter": "python",
   "pygments_lexer": "ipython3",
   "version": "3.13.3"
  }
 },
 "nbformat": 4,
 "nbformat_minor": 5
}

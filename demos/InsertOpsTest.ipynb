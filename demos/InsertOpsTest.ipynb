{
 "cells": [
  {
   "cell_type": "markdown",
   "id": "33d04735",
   "metadata": {},
   "source": [
    "### Imports"
   ]
  },
  {
   "cell_type": "code",
   "execution_count": 1,
   "id": "5889d3ee",
   "metadata": {},
   "outputs": [
    {
     "name": "stdout",
     "output_type": "stream",
     "text": [
      "Original Circuit:\n",
      "   ┌───┐\n",
      "q: ┤ T ├\n",
      "   └───┘\n"
     ]
    }
   ],
   "source": [
    "from qiskit import QuantumCircuit\n",
    "from qiskit.converters import circuit_to_dag, dag_to_circuit\n",
    "from qiskit.circuit.library import ZGate\n",
    "from qiskit_aer import AerSimulator\n",
    "\n",
    "from qiskit.circuit import QuantumRegister\n",
    "from qiskit.dagcircuit import DAGCircuit\n",
    "from qiskit_aer.library.save_instructions import SaveStatevector\n",
    "from qiskit.visualization.dag_visualization import dag_drawer\n",
    "\n",
    "from LogicalQ.Experiments import execute_circuits\n",
    "from LogicalQ.Logical import LogicalCircuit\n",
    "from LogicalQ.Library.QECCs import steane_code\n",
    "\n",
    "qc = QuantumCircuit(1)\n",
    "#qc.barrier([0,1], label=\"insert_before_this\")\n",
    "#qc.ry(0.5, 1)\n",
    "qc.t(0)\n",
    "\n",
    "simulator = AerSimulator()\n",
    "\n",
    "\n",
    "print(\"Original Circuit:\")\n",
    "print(qc)"
   ]
  },
  {
   "cell_type": "code",
   "execution_count": 2,
   "id": "4dcefe71",
   "metadata": {},
   "outputs": [],
   "source": [
    "lg_qc = LogicalCircuit.from_physical_circuit(qc, **steane_code)\n",
    "lg_qc.encode(0, max_iterations=1, initial_states=[1])\n",
    "lg_qc.measure_all()"
   ]
  },
  {
   "cell_type": "markdown",
   "id": "99274786",
   "metadata": {},
   "source": [
    "### Original implementation of inefficient algorithm"
   ]
  },
  {
   "cell_type": "code",
   "execution_count": 3,
   "id": "85d5e921",
   "metadata": {},
   "outputs": [],
   "source": [
    "def insert_save_statevector(lg_qc):\n",
    "    \"\"\"\n",
    "    Traverses an original DAG, inserts a SaveStatevector instruction before\n",
    "    a specific 'box' node, and returns a new DAG.\n",
    "\n",
    "    Args:\n",
    "        original_dag (DAGCircuit): The DAG to be traversed.\n",
    "\n",
    "    Returns:\n",
    "        DAGCircuit: The new DAG with the instruction inserted.\n",
    "    \"\"\"\n",
    "    \n",
    "    original_dag = circuit_to_dag(lg_qc)\n",
    "    \n",
    "    new_dag = DAGCircuit()\n",
    "    for qreg in original_dag.qregs.values():\n",
    "        new_dag.add_qreg(qreg)\n",
    "    for creg in original_dag.cregs.values():\n",
    "        new_dag.add_creg(creg)\n",
    "\n",
    "    insertion_complete = False\n",
    "\n",
    "    for node in original_dag.topological_op_nodes():\n",
    "        op_name = getattr(node.op, 'name', None)\n",
    "        op_label = getattr(node.op, 'label', None)\n",
    "\n",
    "        #print(f\"Processing node: {op_name}, with label: {op_label}\")\n",
    "\n",
    "        if (not insertion_complete and\n",
    "            op_name == \"box\" and\n",
    "            op_label and op_label.split(\":\")[0] == \"logical.qec.measure\"):\n",
    "            \n",
    "            print(\"Condition met! Inserting SaveStatevector before the 'box'.\")\n",
    "            \n",
    "            qubits = []\n",
    "            regs = list(new_dag.qregs.values())\n",
    "            for reg in regs:\n",
    "                qubits = qubits + [qubit for qubit in reg]\n",
    "            print(qubits)\n",
    "            save_inst = SaveStatevector(len(qubits), \"statevector\")\n",
    "            new_dag.apply_operation_back(save_inst, qubits)\n",
    "\n",
    "            insertion_complete = True\n",
    "        \n",
    "        new_dag.apply_operation_back(\n",
    "            node.op,\n",
    "            qargs=node.qargs,\n",
    "            cargs=node.cargs\n",
    "        )\n",
    "    \n",
    "    new_lg_qc = dag_to_circuit(new_dag)\n",
    "    \n",
    "    return new_dag, new_lg_qc"
   ]
  },
  {
   "cell_type": "code",
   "execution_count": 4,
   "id": "92256f24",
   "metadata": {},
   "outputs": [
    {
     "name": "stdout",
     "output_type": "stream",
     "text": [
      "Condition met! Inserting SaveStatevector before the 'box'.\n",
      "[<Qubit register=(7, \"qlog0\"), index=0>, <Qubit register=(7, \"qlog0\"), index=1>, <Qubit register=(7, \"qlog0\"), index=2>, <Qubit register=(7, \"qlog0\"), index=3>, <Qubit register=(7, \"qlog0\"), index=4>, <Qubit register=(7, \"qlog0\"), index=5>, <Qubit register=(7, \"qlog0\"), index=6>, <AncillaQubit register=(3, \"qanc0\"), index=0>, <AncillaQubit register=(3, \"qanc0\"), index=1>, <AncillaQubit register=(3, \"qanc0\"), index=2>, <AncillaQubit register=(2, \"qlogical_op0\"), index=0>, <AncillaQubit register=(2, \"qlogical_op0\"), index=1>, <Qubit register=(2, \"qsetter\"), index=0>, <Qubit register=(2, \"qsetter\"), index=1>]\n"
     ]
    }
   ],
   "source": [
    "new_dag, new_lg_qc = insert_save_statevector(lg_qc)\n",
    "#new_lg_qc.draw(output='mpl')"
   ]
  },
  {
   "cell_type": "code",
   "execution_count": null,
   "id": "17e53444",
   "metadata": {},
   "outputs": [],
   "source": [
    "new_lg_qc.draw(output='mpl')"
   ]
  },
  {
   "cell_type": "code",
   "execution_count": 5,
   "id": "71d576f4",
   "metadata": {},
   "outputs": [],
   "source": [
    "img = dag_drawer(new_dag)\n",
    "img.save(r\"C:\\Users\\nolan\\Downloads\\dag.png\")"
   ]
  },
  {
   "cell_type": "code",
   "execution_count": null,
   "id": "8fd7f48e",
   "metadata": {},
   "outputs": [],
   "source": [
    "results = execute_circuits(\n",
    "    new_lg_qc,\n",
    "    backend=simulator,\n",
    "    shots=1,\n",
    "    memory=True\n",
    "    )"
   ]
  },
  {
   "cell_type": "code",
   "execution_count": 7,
   "id": "d7273164",
   "metadata": {},
   "outputs": [],
   "source": [
    "statevector = results[0].get_statevector()"
   ]
  },
  {
   "cell_type": "code",
   "execution_count": 8,
   "id": "c628ab1d",
   "metadata": {},
   "outputs": [
    {
     "data": {
      "text/latex": [
       "$$\\frac{\\sqrt{2}}{4} |10000000010011\\rangle+\\frac{\\sqrt{2}}{4} |10000000011100\\rangle+\\frac{\\sqrt{2}}{4} |10000000100101\\rangle+\\frac{\\sqrt{2}}{4} |10000000101010\\rangle+\\frac{\\sqrt{2}}{4} |10000001000110\\rangle+\\frac{\\sqrt{2}}{4} |10000001001001\\rangle+\\frac{\\sqrt{2}}{4} |10000001110000\\rangle+\\frac{\\sqrt{2}}{4} |10000001111111\\rangle$$"
      ],
      "text/plain": [
       "<IPython.core.display.Latex object>"
      ]
     },
     "execution_count": 8,
     "metadata": {},
     "output_type": "execute_result"
    }
   ],
   "source": [
    "statevector.draw(output='latex')"
   ]
  },
  {
   "cell_type": "markdown",
   "id": "4ecb17d4",
   "metadata": {},
   "source": [
    "### Development of more efficient algorithm"
   ]
  },
  {
   "cell_type": "code",
   "execution_count": null,
   "id": "bae7ad40",
   "metadata": {},
   "outputs": [],
   "source": [
    "from qiskit.circuit import QuantumRegister\n",
    "from qiskit.dagcircuit import DAGCircuit\n",
    "from qiskit_aer.library.save_instructions import SaveStatevector\n",
    "\n",
    "dag = circuit_to_dag(lg_qc)\n",
    "\n",
    "target_node = None\n",
    "for node in dag.op_nodes():\n",
    "    #if getattr(node.op, 'label', None) == 'insert_before_this':\n",
    "    #    target_node = node\n",
    "    #    break\n",
    "    name, label = getattr(node.op, 'name', None), getattr(node.op, 'label', None)\n",
    "    print(f\"{name}, {label}\")\n",
    "    if name == \"box\":\n",
    "        #print(instruction.operation.label)\n",
    "        if label.split(\":\")[0] == \"logical.qec.measure\":\n",
    "            target_node = node\n",
    "\n",
    "if target_node:\n",
    "    #print(\"found!\")\n",
    "    predecessor_nodes = dag.predecessors(target_node)\n",
    "    num_predecessors = sum(1 for e in predecessor_nodes)\n",
    "    print(num_predecessors)\n",
    "    reg = QuantumRegister(num_predecessors)\n",
    "    reg_ids = [reg[i] for i in range(len(reg))]\n",
    "    print(len(reg_ids))\n",
    "    #mini_dag = DAGCircuit()\n",
    "    #mini_dag.add_qreg(reg)\n",
    "    #mini_dag.apply_operation_back(SaveStatevector(num_predecessors), qargs=reg_ids)\n",
    "    #dag.substitute_node_with_dag(target_node, mini_dag, wires=reg_ids)\n",
    "    #new_qc = dag_to_circuit(dag)\n",
    "    #print(\"\\nModified Circuit:\")\n",
    "    \n",
    "    sub_dag_circuit = target_node.op.definition\n",
    "    sub_dag = circuit_to_dag(sub_dag_circuit)\n",
    "    qubits = node.qargs\n",
    "    save_inst = SaveStatevector(len(qubits), \"statevector\")\n",
    "    sub_dag.apply_operation_front(save_inst, qargs=qubits)\n",
    "    dag.substitute_node_with_dag(target_node, sub_dag, wires=reg_ids)"
   ]
  },
  {
   "cell_type": "code",
   "execution_count": null,
   "id": "cde46335",
   "metadata": {},
   "outputs": [],
   "source": [
    "from qiskit import ClassicalRegister, QuantumRegister, QuantumCircuit\n",
    "\n",
    "n_cbits = 2\n",
    "n_qbits = 2\n",
    "\n",
    "creg = ClassicalRegister(n_cbits)\n",
    "qreg = QuantumRegister(n_qbits)\n",
    "\n",
    "qc = QuantumCircuit(qreg, creg)\n",
    "\n",
    "qc = QuantumCircuit(qreg, creg)\n",
    "qc.h(0)\n",
    "qc.cx(0, 1)\n",
    "qc.barrier()\n",
    "\n",
    "qc.draw(\"mpl\")"
   ]
  },
  {
   "cell_type": "code",
   "execution_count": null,
   "id": "36bb1fce",
   "metadata": {},
   "outputs": [],
   "source": [
    "lg_qc.draw()"
   ]
  },
  {
   "cell_type": "code",
   "execution_count": null,
   "id": "3afe2b08",
   "metadata": {},
   "outputs": [],
   "source": [
    "print(lg_qc.data)"
   ]
  },
  {
   "cell_type": "markdown",
   "id": "eb398c82",
   "metadata": {},
   "source": [
    "### Test using insertion using in-built with execute_circuits"
   ]
  },
  {
   "cell_type": "code",
   "execution_count": 3,
   "id": "08168667",
   "metadata": {},
   "outputs": [
    {
     "name": "stdout",
     "output_type": "stream",
     "text": [
      "i got here\n"
     ]
    }
   ],
   "source": [
    "results = execute_circuits(\n",
    "    lg_qc,\n",
    "    backend=simulator,\n",
    "    shots=1,\n",
    "    memory=True,\n",
    "    save_statevector=True\n",
    "    )"
   ]
  },
  {
   "cell_type": "code",
   "execution_count": 4,
   "id": "07cc1969",
   "metadata": {},
   "outputs": [],
   "source": [
    "statevector = results[0].get_statevector()"
   ]
  },
  {
   "cell_type": "code",
   "execution_count": 5,
   "id": "8199218e",
   "metadata": {},
   "outputs": [
    {
     "data": {
      "text/latex": [
       "$$\\frac{\\sqrt{2}}{4} |10000000010011\\rangle+\\frac{\\sqrt{2}}{4} |10000000011100\\rangle+\\frac{\\sqrt{2}}{4} |10000000100101\\rangle+\\frac{\\sqrt{2}}{4} |10000000101010\\rangle+\\frac{\\sqrt{2}}{4} |10000001000110\\rangle+\\frac{\\sqrt{2}}{4} |10000001001001\\rangle+\\frac{\\sqrt{2}}{4} |10000001110000\\rangle+\\frac{\\sqrt{2}}{4} |10000001111111\\rangle$$"
      ],
      "text/plain": [
       "<IPython.core.display.Latex object>"
      ]
     },
     "execution_count": 5,
     "metadata": {},
     "output_type": "execute_result"
    }
   ],
   "source": [
    "statevector.draw(output='latex')"
   ]
  },
  {
   "cell_type": "code",
   "execution_count": 6,
   "id": "b03fd661",
   "metadata": {},
   "outputs": [
    {
     "data": {
      "text/plain": [
       "[0, 1, 2, 3, 4, 5, 6, 7, 8, 9]"
      ]
     },
     "execution_count": 6,
     "metadata": {},
     "output_type": "execute_result"
    }
   ],
   "source": [
    "L = list(range(10))\n",
    "L"
   ]
  },
  {
   "cell_type": "code",
   "execution_count": 7,
   "id": "70b9280d",
   "metadata": {},
   "outputs": [
    {
     "data": {
      "text/plain": [
       "[0, 1, 2, 3, 4, 5, 6, 7, 8, 9]"
      ]
     },
     "execution_count": 7,
     "metadata": {},
     "output_type": "execute_result"
    }
   ],
   "source": [
    "for item in L:\n",
    "    item = 3\n",
    "L"
   ]
  }
 ],
 "metadata": {
  "kernelspec": {
   "display_name": "venv (3.12.6)",
   "language": "python",
   "name": "python3"
  },
  "language_info": {
   "codemirror_mode": {
    "name": "ipython",
    "version": 3
   },
   "file_extension": ".py",
   "mimetype": "text/x-python",
   "name": "python",
   "nbconvert_exporter": "python",
   "pygments_lexer": "ipython3",
   "version": "3.12.6"
  }
 },
 "nbformat": 4,
 "nbformat_minor": 5
}

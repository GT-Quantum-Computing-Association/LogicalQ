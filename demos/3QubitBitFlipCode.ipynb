{
 "cells": [
  {
   "cell_type": "markdown",
   "metadata": {},
   "source": [
    "This is an implementation of the 3 qubit bit flip code in Qiskit. This is meant to be an introduction to Qiskit for those who haven't used it before. "
   ]
  },
  {
   "cell_type": "code",
   "execution_count": 51,
   "metadata": {},
   "outputs": [],
   "source": [
    "from qiskit import QuantumRegister, ClassicalRegister, QuantumCircuit, transpile\n",
    "from qiskit.circuit.library import MCMT, ZGate\n",
    "\n",
    "import numpy as np\n",
    "\n",
    "nqubits_main = 3\n",
    "nqubits_anc = 2\n",
    "nqubits_tot = nqubits_main + nqubits_anc\n",
    "\n",
    "nbits = 2\n",
    "\n",
    "qreg_q = QuantumRegister(nqubits_tot) # initialize a quantum register of 5 qubits 3 for encoding and two for measurement\n",
    "creg_q = ClassicalRegister(nbits) # initialize a classical register to store the measurements of the two ancilla qubits\n",
    "\n",
    "bitflip_circuit = QuantumCircuit(nqubits_tot, nbits)"
   ]
  },
  {
   "cell_type": "code",
   "execution_count": 52,
   "metadata": {},
   "outputs": [
    {
     "data": {
      "image/png": "[encoded data removed]",
      "text/plain": [
       "<Figure size 287.496x284.278 with 1 Axes>"
      ]
     },
     "execution_count": 52,
     "metadata": {},
     "output_type": "execute_result"
    }
   ],
   "source": [
    "# step 1: encoding\n",
    "encoding_circuit = QuantumCircuit(nqubits_main) # create a quantum circuit object\n",
    "\n",
    "encoding_circuit.cx(0, 1)\n",
    "encoding_circuit.cx(0, 2)\n",
    "\n",
    "encoding_gate = encoding_circuit.to_gate(label=\"$U_{enc}$\")\n",
    "bitflip_circuit.append(encoding_gate, [0,1,2])\n",
    "bitflip_circuit.barrier()\n",
    "\n",
    "encoding_circuit.draw('mpl')"
   ]
  },
  {
   "cell_type": "markdown",
   "metadata": {},
   "source": [
    "Next we need to implement a quantum circuit that measures the stabilizers. This corresponds to measuring the $Z_1Z_3$ and $Z_2 Z_3$ stabilizers\n",
    "which we can do by measuring each individual stabilizer. For the Z operator this corresponds to using a single CNOT. We can then measure the first stabilizer $Z_1Z_3$. For a crude non optimized case, each stabilizer will require one ancilla qubit. Since Qiskit doesn't have the larger controlled multi qubit gates as a type, we will have to define the gate ourselves:"
   ]
  },
  {
   "cell_type": "code",
   "execution_count": 54,
   "metadata": {},
   "outputs": [
    {
     "ename": "CircuitError",
     "evalue": "'Index 3 out of range for size 3.'",
     "output_type": "error",
     "traceback": [
      "\u001b[0;31m---------------------------------------------------------------------------\u001b[0m",
      "\u001b[0;31mIndexError\u001b[0m                                Traceback (most recent call last)",
      "File \u001b[0;32m~/.venvs/qiskit/lib/python3.12/site-packages/qiskit/circuit/quantumcircuit.py:6749\u001b[0m, in \u001b[0;36m_bit_argument_conversion\u001b[0;34m(specifier, bit_sequence, bit_set, type_)\u001b[0m\n\u001b[1;32m   6748\u001b[0m \u001b[38;5;28;01mtry\u001b[39;00m:\n\u001b[0;32m-> 6749\u001b[0m     \u001b[38;5;28;01mreturn\u001b[39;00m [\u001b[43mbit_sequence\u001b[49m\u001b[43m[\u001b[49m\u001b[43mspecifier\u001b[49m\u001b[43m]\u001b[49m]\n\u001b[1;32m   6750\u001b[0m \u001b[38;5;28;01mexcept\u001b[39;00m \u001b[38;5;167;01mIndexError\u001b[39;00m \u001b[38;5;28;01mas\u001b[39;00m ex:\n",
      "\u001b[0;31mIndexError\u001b[0m: list index out of range",
      "\nThe above exception was the direct cause of the following exception:\n",
      "\u001b[0;31mCircuitError\u001b[0m                              Traceback (most recent call last)",
      "Cell \u001b[0;32mIn[54], line 5\u001b[0m\n\u001b[1;32m      2\u001b[0m syndrome_meas_circuit \u001b[38;5;241m=\u001b[39m QuantumCircuit(nqubits_tot, nbits)\n\u001b[1;32m      4\u001b[0m \u001b[38;5;66;03m# apply hadamard gates to ancilla qubits to allow for unitary measurment along the Z-axis\u001b[39;00m\n\u001b[0;32m----> 5\u001b[0m \u001b[43mencoding_circuit\u001b[49m\u001b[38;5;241;43m.\u001b[39;49m\u001b[43mh\u001b[49m\u001b[43m(\u001b[49m\u001b[38;5;241;43m3\u001b[39;49m\u001b[43m)\u001b[49m\n\u001b[1;32m      6\u001b[0m encoding_circuit\u001b[38;5;241m.\u001b[39mh(\u001b[38;5;241m4\u001b[39m)\n\u001b[1;32m      8\u001b[0m \u001b[38;5;66;03m# measure stabilizers Z1Z3 and Z2Z3\u001b[39;00m\n\u001b[1;32m      9\u001b[0m \u001b[38;5;66;03m# note that qiskit qubit indexing is reversed, making these stabilizers appear \"backwards\"\u001b[39;00m\n",
      "File \u001b[0;32m~/.venvs/qiskit/lib/python3.12/site-packages/qiskit/circuit/quantumcircuit.py:4466\u001b[0m, in \u001b[0;36mQuantumCircuit.h\u001b[0;34m(self, qubit)\u001b[0m\n\u001b[1;32m   4455\u001b[0m \u001b[38;5;28;01mdef\u001b[39;00m \u001b[38;5;21mh\u001b[39m(\u001b[38;5;28mself\u001b[39m, qubit: QubitSpecifier) \u001b[38;5;241m-\u001b[39m\u001b[38;5;241m>\u001b[39m InstructionSet:\n\u001b[1;32m   4456\u001b[0m \u001b[38;5;250m    \u001b[39m\u001b[38;5;124;03m\"\"\"Apply :class:`~qiskit.circuit.library.HGate`.\u001b[39;00m\n\u001b[1;32m   4457\u001b[0m \n\u001b[1;32m   4458\u001b[0m \u001b[38;5;124;03m    For the full matrix form of this gate, see the underlying gate documentation.\u001b[39;00m\n\u001b[0;32m   (...)\u001b[0m\n\u001b[1;32m   4464\u001b[0m \u001b[38;5;124;03m        A handle to the instructions created.\u001b[39;00m\n\u001b[1;32m   4465\u001b[0m \u001b[38;5;124;03m    \"\"\"\u001b[39;00m\n\u001b[0;32m-> 4466\u001b[0m     \u001b[38;5;28;01mreturn\u001b[39;00m \u001b[38;5;28;43mself\u001b[39;49m\u001b[38;5;241;43m.\u001b[39;49m\u001b[43m_append_standard_gate\u001b[49m\u001b[43m(\u001b[49m\u001b[43mStandardGate\u001b[49m\u001b[38;5;241;43m.\u001b[39;49m\u001b[43mHGate\u001b[49m\u001b[43m,\u001b[49m\u001b[43m \u001b[49m\u001b[43m[\u001b[49m\u001b[43mqubit\u001b[49m\u001b[43m]\u001b[49m\u001b[43m,\u001b[49m\u001b[43m \u001b[49m\u001b[43m(\u001b[49m\u001b[43m)\u001b[49m\u001b[43m)\u001b[49m\n",
      "File \u001b[0;32m~/.venvs/qiskit/lib/python3.12/site-packages/qiskit/circuit/quantumcircuit.py:2418\u001b[0m, in \u001b[0;36mQuantumCircuit._append_standard_gate\u001b[0;34m(self, op, qargs, params, label)\u001b[0m\n\u001b[1;32m   2415\u001b[0m \u001b[38;5;28;01mif\u001b[39;00m params \u001b[38;5;129;01mis\u001b[39;00m \u001b[38;5;28;01mNone\u001b[39;00m:\n\u001b[1;32m   2416\u001b[0m     params \u001b[38;5;241m=\u001b[39m []\n\u001b[0;32m-> 2418\u001b[0m expanded_qargs \u001b[38;5;241m=\u001b[39m [\u001b[38;5;28;43mself\u001b[39;49m\u001b[38;5;241;43m.\u001b[39;49m\u001b[43m_qbit_argument_conversion\u001b[49m\u001b[43m(\u001b[49m\u001b[43mqarg\u001b[49m\u001b[43m)\u001b[49m \u001b[38;5;28;01mfor\u001b[39;00m qarg \u001b[38;5;129;01min\u001b[39;00m qargs \u001b[38;5;129;01mor\u001b[39;00m []]\n\u001b[1;32m   2419\u001b[0m \u001b[38;5;28;01mfor\u001b[39;00m param \u001b[38;5;129;01min\u001b[39;00m params:\n\u001b[1;32m   2420\u001b[0m     Gate\u001b[38;5;241m.\u001b[39mvalidate_parameter(op, param)\n",
      "File \u001b[0;32m~/.venvs/qiskit/lib/python3.12/site-packages/qiskit/circuit/quantumcircuit.py:2367\u001b[0m, in \u001b[0;36mQuantumCircuit._qbit_argument_conversion\u001b[0;34m(self, qubit_representation)\u001b[0m\n\u001b[1;32m   2356\u001b[0m \u001b[38;5;28;01mdef\u001b[39;00m \u001b[38;5;21m_qbit_argument_conversion\u001b[39m(\u001b[38;5;28mself\u001b[39m, qubit_representation: QubitSpecifier) \u001b[38;5;241m-\u001b[39m\u001b[38;5;241m>\u001b[39m \u001b[38;5;28mlist\u001b[39m[Qubit]:\n\u001b[1;32m   2357\u001b[0m \u001b[38;5;250m    \u001b[39m\u001b[38;5;124;03m\"\"\"\u001b[39;00m\n\u001b[1;32m   2358\u001b[0m \u001b[38;5;124;03m    Converts several qubit representations (such as indexes, range, etc.)\u001b[39;00m\n\u001b[1;32m   2359\u001b[0m \u001b[38;5;124;03m    into a list of qubits.\u001b[39;00m\n\u001b[0;32m   (...)\u001b[0m\n\u001b[1;32m   2365\u001b[0m \u001b[38;5;124;03m        The resolved instances of the qubits.\u001b[39;00m\n\u001b[1;32m   2366\u001b[0m \u001b[38;5;124;03m    \"\"\"\u001b[39;00m\n\u001b[0;32m-> 2367\u001b[0m     \u001b[38;5;28;01mreturn\u001b[39;00m \u001b[43m_bit_argument_conversion\u001b[49m\u001b[43m(\u001b[49m\n\u001b[1;32m   2368\u001b[0m \u001b[43m        \u001b[49m\u001b[43mqubit_representation\u001b[49m\u001b[43m,\u001b[49m\u001b[43m \u001b[49m\u001b[38;5;28;43mself\u001b[39;49m\u001b[38;5;241;43m.\u001b[39;49m\u001b[43mqubits\u001b[49m\u001b[43m,\u001b[49m\u001b[43m \u001b[49m\u001b[38;5;28;43mself\u001b[39;49m\u001b[38;5;241;43m.\u001b[39;49m\u001b[43m_qubit_indices\u001b[49m\u001b[43m,\u001b[49m\u001b[43m \u001b[49m\u001b[43mQubit\u001b[49m\n\u001b[1;32m   2369\u001b[0m \u001b[43m    \u001b[49m\u001b[43m)\u001b[49m\n",
      "File \u001b[0;32m~/.venvs/qiskit/lib/python3.12/site-packages/qiskit/circuit/quantumcircuit.py:6751\u001b[0m, in \u001b[0;36m_bit_argument_conversion\u001b[0;34m(specifier, bit_sequence, bit_set, type_)\u001b[0m\n\u001b[1;32m   6749\u001b[0m         \u001b[38;5;28;01mreturn\u001b[39;00m [bit_sequence[specifier]]\n\u001b[1;32m   6750\u001b[0m     \u001b[38;5;28;01mexcept\u001b[39;00m \u001b[38;5;167;01mIndexError\u001b[39;00m \u001b[38;5;28;01mas\u001b[39;00m ex:\n\u001b[0;32m-> 6751\u001b[0m         \u001b[38;5;28;01mraise\u001b[39;00m CircuitError(\n\u001b[1;32m   6752\u001b[0m             \u001b[38;5;124mf\u001b[39m\u001b[38;5;124m\"\u001b[39m\u001b[38;5;124mIndex \u001b[39m\u001b[38;5;132;01m{\u001b[39;00mspecifier\u001b[38;5;132;01m}\u001b[39;00m\u001b[38;5;124m out of range for size \u001b[39m\u001b[38;5;132;01m{\u001b[39;00m\u001b[38;5;28mlen\u001b[39m(bit_sequence)\u001b[38;5;132;01m}\u001b[39;00m\u001b[38;5;124m.\u001b[39m\u001b[38;5;124m\"\u001b[39m\n\u001b[1;32m   6753\u001b[0m         ) \u001b[38;5;28;01mfrom\u001b[39;00m \u001b[38;5;21;01mex\u001b[39;00m\n\u001b[1;32m   6754\u001b[0m \u001b[38;5;66;03m# Slices can't raise IndexError - they just return an empty list.\u001b[39;00m\n\u001b[1;32m   6755\u001b[0m \u001b[38;5;28;01mif\u001b[39;00m \u001b[38;5;28misinstance\u001b[39m(specifier, \u001b[38;5;28mslice\u001b[39m):\n",
      "\u001b[0;31mCircuitError\u001b[0m: 'Index 3 out of range for size 3.'"
     ]
    }
   ],
   "source": [
    "# step 2 - syndrome measurement (Z-axis)\n",
    "syndrome_meas_circuit = QuantumCircuit(nqubits_tot, nbits)\n",
    "\n",
    "# apply hadamard gates to ancilla qubits to allow for unitary measurment along the Z-axis\n",
    "syndrome_meas_circuit.h(3)\n",
    "syndrome_meas_circuit.h(4)\n",
    "\n",
    "# measure stabilizers Z1Z3 and Z2Z3\n",
    "# note that qiskit qubit indexing is reversed, making these stabilizers appear \"backwards\"\n",
    "qcz13 = QuantumCircuit(4)\n",
    "qcz13.pauli('ZIZ', [0,1,2])\n",
    "\n",
    "qcz23 = QuantumCircuit(3)\n",
    "qcz23.pauli('ZZI', [0,1,2])\n",
    "\n",
    "# alternatively, you could reverse the qubit order - but only if you did this during encoding:\n",
    "# qcz13 = QuantumCircuit(3)\n",
    "# qcz13.pauli('ZIZ', [2,1,0])\n",
    "\n",
    "# qcz23 = QuantumCircuit(3)\n",
    "# qcz23.pauli('IZZ', [2,1,0])\n",
    "\n",
    "stabilizerZ1Z3 = qcz13.to_gate(label='$U_{ZIZ}$').control(1)\n",
    "syndrome_meas_circuit.append(stabilizerZ1Z3, [3,0,1,2])\n",
    "\n",
    "stabilizerZ2Z3 = qcz23.to_gate(label='$U_{ZZI}$').control(1)\n",
    "syndrome_meas_circuit.append(stabilizerZ2Z3, [4,0,1,2], [1])\n",
    "\n",
    "syndrome_meas_circuit.measure(3, 0)\n",
    "syndrome_meas_circuit.measure(4, 1)\n",
    "\n",
    "print(syndrome_meas_circuit.decompose())\n",
    "syndrome_meas_circuit.draw('mpl')"
   ]
  },
  {
   "cell_type": "code",
   "execution_count": null,
   "metadata": {},
   "outputs": [],
   "source": []
  }
 ],
 "metadata": {
  "kernelspec": {
   "display_name": "Python 3 (ipykernel)",
   "language": "python",
   "name": "python3"
  },
  "language_info": {
   "codemirror_mode": {
    "name": "ipython",
    "version": 3
   },
   "file_extension": ".py",
   "mimetype": "text/x-python",
   "name": "python",
   "nbconvert_exporter": "python",
   "pygments_lexer": "ipython3",
   "version": "3.12.7"
  },
  "toc": {
   "base_numbering": 1,
   "nav_menu": {},
   "number_sections": true,
   "sideBar": true,
   "skip_h1_title": false,
   "title_cell": "Table of Contents",
   "title_sidebar": "Contents",
   "toc_cell": false,
   "toc_position": {},
   "toc_section_display": true,
   "toc_window_display": false
  },
  "varInspector": {
   "cols": {
    "lenName": 16,
    "lenType": 16,
    "lenVar": 40
   },
   "kernels_config": {
    "python": {
     "delete_cmd_postfix": "",
     "delete_cmd_prefix": "del ",
     "library": "var_list.py",
     "varRefreshCmd": "print(var_dic_list())"
    },
    "r": {
     "delete_cmd_postfix": ") ",
     "delete_cmd_prefix": "rm(",
     "library": "var_list.r",
     "varRefreshCmd": "cat(var_dic_list()) "
    }
   },
   "types_to_exclude": [
    "module",
    "function",
    "builtin_function_or_method",
    "instance",
    "_Feature"
   ],
   "window_display": false
  }
 },
 "nbformat": 4,
 "nbformat_minor": 4
}

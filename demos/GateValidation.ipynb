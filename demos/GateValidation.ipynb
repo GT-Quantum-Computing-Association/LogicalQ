{
 "cells": [
  {
   "cell_type": "markdown",
   "id": "da9247a6",
   "metadata": {},
   "source": [
    "# T Gate"
   ]
  },
  {
   "cell_type": "code",
   "execution_count": 1,
   "id": "8be3df4c",
   "metadata": {},
   "outputs": [],
   "source": [
    "from IPython.display import clear_output # ignore - just cleanup\n",
    "!python -m pip install qiskit qiskit-aer qiskit_ibm_runtime pylatexenc matplotlib # essential libraries to have\n",
    "clear_output() # ignore - just cleanup"
   ]
  },
  {
   "cell_type": "code",
   "execution_count": 2,
   "id": "fb5d3ea7",
   "metadata": {},
   "outputs": [],
   "source": [
    "from LogicalQ.Logical import LogicalStatevector\n",
    "\n",
    "from qiskit import QuantumCircuit\n",
    "from qiskit.quantum_info import Statevector#, partial_trace\n",
    "\n",
    "from LogicalQ.Library.QECCs import steane_code\n",
    "from LogicalQ.Logical import LogicalCircuit\n",
    "from LogicalQ.Experiments import execute_circuits\n",
    "from LogicalQ.Logical import LogicalStatevector\n",
    "    \n",
    "from qiskit_aer import AerSimulator\n",
    "\n",
    "# Generates the circuit\n",
    "pqc = QuantumCircuit(1)\n",
    "pqc.t(0)\n",
    "lqcirc = LogicalCircuit.from_physical_circuit(pqc, **steane_code)\n",
    "\n",
    "shots = 32\n",
    "simulator = AerSimulator()\n",
    "\n",
    "lqcirc.encode(0, max_iterations=1, initial_states=[1])\n",
    "\n",
    "# Adds QEC cycle and measurement\n",
    "#lqcirc.append_qec_cycle([0, 1])\n",
    "#lqcirc.measure([0], [0])\n",
    "lqcirc.measure_all()"
   ]
  },
  {
   "cell_type": "code",
   "execution_count": 5,
   "id": "21f3658f",
   "metadata": {},
   "outputs": [
    {
     "ename": "",
     "evalue": "",
     "output_type": "error",
     "traceback": [
      "\u001b[1;31mThe Kernel crashed while executing code in the current cell or a previous cell. \n",
      "\u001b[1;31mPlease review the code in the cell(s) to identify a possible cause of the failure. \n",
      "\u001b[1;31mClick <a href='https://aka.ms/vscodeJupyterKernelCrash'>here</a> for more info. \n",
      "\u001b[1;31mView Jupyter <a href='command:jupyter.viewOutput'>log</a> for further details."
     ]
    }
   ],
   "source": [
    "# Logical Statevector\n",
    "result, circuits_transpiled = execute_circuits(lqcirc, backend=simulator, shots=shots, memory=True, save_statevector=True, return_circuits_transpiled=True)\n",
    "result = result[0]\n",
    "#circuits_transpiled[0].draw(output='mpl')"
   ]
  },
  {
   "cell_type": "code",
   "execution_count": null,
   "id": "c9cc971d",
   "metadata": {},
   "outputs": [],
   "source": []
  },
  {
   "cell_type": "code",
   "execution_count": null,
   "id": "2e6f316b",
   "metadata": {},
   "outputs": [],
   "source": [
    "result"
   ]
  },
  {
   "cell_type": "code",
   "execution_count": null,
   "id": "29e5900c",
   "metadata": {},
   "outputs": [],
   "source": [
    "statevector = Statevector(result.get_statevector())\n",
    "#target_qubit = partial_trace(statevector, qubits_to_trace_out)\n",
    "statevector.draw('latex', prefix='Statevector:')"
   ]
  },
  {
   "cell_type": "code",
   "execution_count": null,
   "id": "cb5c58c0",
   "metadata": {},
   "outputs": [],
   "source": [
    "counts = result.get_counts(lqcirc)\n",
    "logical_statevector = LogicalStatevector.from_counts(counts, 1, **steane_code)"
   ]
  },
  {
   "cell_type": "code",
   "execution_count": null,
   "id": "21164a00",
   "metadata": {},
   "outputs": [],
   "source": [
    "print(\"\\nLogical Statevector:\")\n",
    "logical_statevector"
   ]
  },
  {
   "cell_type": "code",
   "execution_count": null,
   "id": "09a866ee",
   "metadata": {},
   "outputs": [],
   "source": [
    "# Exact statevector\n",
    "qubits_to_trace_out = []\n",
    "shots = 1\n",
    "for i in range(shots):\n",
    "    result = execute_circuits(lqcirc, backend=simulator, shots=1, memory=True, save_statevector=False)[0]\n",
    "    statevector = Statevector(result.get_statevector())\n",
    "    #target_qubit = partial_trace(statevector, qubits_to_trace_out)\n",
    "    statevector.draw('latex', prefix='Statevector:')"
   ]
  },
  {
   "cell_type": "code",
   "execution_count": null,
   "id": "6ca18c58",
   "metadata": {},
   "outputs": [],
   "source": [
    "print(\"Actual Statevector:\")\n",
    "statevector.draw('latex', prefix='Statevector:')"
   ]
  },
  {
   "cell_type": "markdown",
   "id": "3c0d259c",
   "metadata": {},
   "source": [
    "# Scrapwork"
   ]
  },
  {
   "cell_type": "code",
   "execution_count": null,
   "id": "f8f81e63",
   "metadata": {},
   "outputs": [],
   "source": [
    "logical_statevec = LogicalStatevector(lqcirc, n_logical_qubits=1, )"
   ]
  },
  {
   "cell_type": "code",
   "execution_count": null,
   "id": "2dd5ad6a",
   "metadata": {},
   "outputs": [],
   "source": [
    "def tomography(lqcirc: LogicalCircuit):\n",
    "    lqcirc_z = lqcirc.copy()\n",
    "    lqcirc_x = lqcirc.copy()\n",
    "    \n",
    "    "
   ]
  },
  {
   "cell_type": "code",
   "execution_count": null,
   "id": "93f1ebb2",
   "metadata": {},
   "outputs": [],
   "source": [
    "statevec"
   ]
  },
  {
   "cell_type": "code",
   "execution_count": null,
   "id": "a4cbd3ac",
   "metadata": {},
   "outputs": [],
   "source": [
    "lqcirc.draw(output=\"mpl\")"
   ]
  },
  {
   "cell_type": "code",
   "execution_count": null,
   "id": "3726e525",
   "metadata": {},
   "outputs": [],
   "source": [
    "import numpy as np\n",
    "import matplotlib.pyplot as plt\n",
    "\n",
    "from qiskit import ClassicalRegister, QuantumRegister, QuantumCircuit, transpile\n",
    "from qiskit_aer import AerSimulator\n",
    "from qiskit.visualization import plot_histogram\n",
    "\n",
    "from LogicalQ.Library.QECCs import phase_flip_code\n",
    "from LogicalQ.Experiments import execute_circuits\n",
    "from LogicalQ.Logical import LogicalCircuit\n",
    "from LogicalQ.Analysis import counts_to_statevector\n",
    "\n",
    "%load_ext autoreload\n",
    "%autoreload 2"
   ]
  },
  {
   "cell_type": "code",
   "execution_count": null,
   "id": "81f83ac6",
   "metadata": {},
   "outputs": [],
   "source": [
    "T_gate = np.array([[1, 0], [0, np.exp(np.pi/4 * 1j)]])\n",
    "init_state = np.array([0, 0]).T\n",
    "\n",
    "final_state = T_gate @ init_state\n",
    "final_state"
   ]
  },
  {
   "cell_type": "code",
   "execution_count": null,
   "id": "a8aab2b3",
   "metadata": {},
   "outputs": [],
   "source": [
    "qr = QuantumRegister(1)\n",
    "\n",
    "circuit = QuantumCircuit(qr)\n",
    "\n",
    "circuit.t(0)\n",
    "\n",
    "circuit.draw()"
   ]
  },
  {
   "cell_type": "code",
   "execution_count": null,
   "id": "3f12e833",
   "metadata": {},
   "outputs": [],
   "source": [
    "no_correction_code = lambda n_qubits : {\n",
    "    \"label\": (n_qubits, n_qubits, 0),\n",
    "    \"stabilizer_tableau\": [\n",
    "        (1 * n_qubits) * \"I\"\n",
    "    ] * 2 * n_qubits\n",
    "}"
   ]
  },
  {
   "cell_type": "code",
   "execution_count": null,
   "id": "66d8741c",
   "metadata": {},
   "outputs": [],
   "source": [
    "no_correction_code = lambda n_qubits : {\n",
    "    \"label\": (n_qubits, n_qubits, 0),\n",
    "    \"stabilizer_tableau\": []\n",
    "}\n",
    "\n",
    "code = no_correction_code(1)\n",
    "\n",
    "lqc = LogicalCircuit(1, **code)\n",
    "lqc.draw(\"mpl\")"
   ]
  },
  {
   "cell_type": "markdown",
   "id": "ec940cd1",
   "metadata": {},
   "source": []
  },
  {
   "cell_type": "code",
   "execution_count": null,
   "id": "f5cc61e0",
   "metadata": {},
   "outputs": [],
   "source": [
    "# Runs a shot on a noiseless simulator with an error at each of the physical qubits\n",
    "\n",
    "shots = 32\n",
    "simulator = AerSimulator()\n",
    "\n",
    "# Generates the circuit\n",
    "pqc = QuantumCircuit(1)\n",
    "pqc.t(0)\n",
    "pqc.draw(output=\"mpl\")\n",
    "pqc.num_qubits"
   ]
  },
  {
   "cell_type": "code",
   "execution_count": null,
   "id": "cff7961a",
   "metadata": {},
   "outputs": [],
   "source": [
    "lqcirc = LogicalCircuit.from_physical_circuit(pqc, **phase_flip_code)\n",
    "lqcirc.draw(output=\"mpl\")"
   ]
  },
  {
   "cell_type": "code",
   "execution_count": null,
   "id": "673a584b",
   "metadata": {},
   "outputs": [],
   "source": [
    "lqcirc.encode(0, max_iterations=1, initial_states=[0])\n",
    "\n",
    "# Adds QEC cycle and measurement\n",
    "#lqcirc.append_qec_cycle([0, 1])\n",
    "#lqcirc.measure([0, 1], [0, 1])\n",
    "lqcirc.measure_all()\n",
    "\n",
    "# Simulates the QEC cycle\n",
    "result = execute_circuits(lqcirc, backend=simulator, shots=shots, memory=True)[0]\n",
    "counts = result.get_counts(lqcirc)\n",
    "    \n",
    "# Outputs should all be 10 if the error correction worked properly\n",
    "#statevector = counts_to_statevector(counts)"
   ]
  },
  {
   "cell_type": "code",
   "execution_count": null,
   "id": "7fa1de6d",
   "metadata": {},
   "outputs": [],
   "source": [
    "from LogicalQ.Logical import LogicalStatevector\n",
    "\n",
    "statevec = LogicalStatevector.from_counts(counts, 2, **phase_flip_code)"
   ]
  },
  {
   "cell_type": "code",
   "execution_count": null,
   "id": "862ac704",
   "metadata": {},
   "outputs": [],
   "source": [
    "result.get_counts(lqcirc)"
   ]
  },
  {
   "cell_type": "code",
   "execution_count": null,
   "id": "7e3bd3ea",
   "metadata": {},
   "outputs": [],
   "source": [
    "result_key_0 = list(counts.keys())[2]\n",
    "result_key_0"
   ]
  },
  {
   "cell_type": "code",
   "execution_count": null,
   "id": "42159971",
   "metadata": {},
   "outputs": [],
   "source": [
    "result_key_0 = [\"0b\" + id for id in list(counts.keys())]\n",
    "result_key_0"
   ]
  },
  {
   "cell_type": "code",
   "execution_count": null,
   "id": "ea36a896",
   "metadata": {},
   "outputs": [],
   "source": [
    "# result_key_0 = list(counts.keys())[0]\n",
    "#    if all([char in [\"0\", \"1\"] for char in result_key_0]):\n",
    "#result_key_0 = list(counts.keys())[:][:2]\n",
    "all([char in [\"0\", \"1\"] for char in result_key_0])\n",
    "\n",
    "d = 2**(len(result_key_0))\n",
    "fmt_outcome = lambda outcome : bin(outcome)[2:]"
   ]
  },
  {
   "cell_type": "code",
   "execution_count": null,
   "id": "64b30b3b",
   "metadata": {},
   "outputs": [],
   "source": []
  },
  {
   "cell_type": "code",
   "execution_count": null,
   "id": "1b8c27ea",
   "metadata": {},
   "outputs": [],
   "source": [
    "d"
   ]
  },
  {
   "cell_type": "code",
   "execution_count": null,
   "id": "3557944c",
   "metadata": {},
   "outputs": [],
   "source": [
    "outcomes = [fmt_outcome(i) for i in range(d)]"
   ]
  },
  {
   "cell_type": "code",
   "execution_count": null,
   "id": "e74d9af9",
   "metadata": {},
   "outputs": [],
   "source": [
    "from qiskit.quantum_info import Statevector\n",
    "\n",
    "outcomes = [fmt_outcome(i) for i in range(d)]\n",
    "\n",
    "probabilities = np.array([counts.get(outcome, 0.0) for outcome in outcomes]) / np.sum(list(counts.values()))\n",
    "amplitudes = np.sqrt(probabilities)\n",
    "\n",
    "statevector = Statevector(amplitudes)"
   ]
  },
  {
   "cell_type": "code",
   "execution_count": null,
   "id": "cd10b88d",
   "metadata": {},
   "outputs": [],
   "source": [
    "statevector"
   ]
  }
 ],
 "metadata": {
  "kernelspec": {
   "display_name": "venv (3.12.6)",
   "language": "python",
   "name": "python3"
  },
  "language_info": {
   "codemirror_mode": {
    "name": "ipython",
    "version": 3
   },
   "file_extension": ".py",
   "mimetype": "text/x-python",
   "name": "python",
   "nbconvert_exporter": "python",
   "pygments_lexer": "ipython3",
   "version": "3.12.6"
  }
 },
 "nbformat": 4,
 "nbformat_minor": 5
}

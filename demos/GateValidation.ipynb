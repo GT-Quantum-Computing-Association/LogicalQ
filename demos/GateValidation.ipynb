{
 "cells": [
  {
   "cell_type": "markdown",
   "id": "da9247a6",
   "metadata": {},
   "source": [
    "# T Gate"
   ]
  },
  {
   "cell_type": "code",
   "execution_count": 2,
   "id": "8be3df4c",
   "metadata": {},
   "outputs": [],
   "source": [
    "from IPython.display import clear_output # ignore - just cleanup\n",
    "!python -m pip install qiskit qiskit-aer qiskit_ibm_runtime pylatexenc matplotlib # essential libraries to have\n",
    "clear_output() # ignore - just cleanup"
   ]
  },
  {
   "cell_type": "code",
   "execution_count": null,
   "id": "fb5d3ea7",
   "metadata": {},
   "outputs": [],
   "source": [
    "from LogicalQ.Logical import LogicalStatevector\n",
    "\n",
    "from qiskit import QuantumCircuit\n",
    "from qiskit.quantum_info import Statevector, partial_trace\n",
    "\n",
    "from LogicalQ.Library.QECCs import steane_code\n",
    "from LogicalQ.Logical import LogicalCircuit\n",
    "from LogicalQ.Experiments import execute_circuits\n",
    "from LogicalQ.Logical import LogicalStatevector\n",
    "import numpy as np\n",
    "\n",
    "from qiskit_aer import AerSimulator\n",
    "\n",
    "# Generates the circuit\n",
    "pqc = QuantumCircuit(1)\n",
    "pqc.t(0)\n",
    "lqcirc = LogicalCircuit.from_physical_circuit(pqc, **steane_code)\n",
    "\n",
    "shots = 32\n",
    "simulator = AerSimulator()\n",
    "\n",
    "lqcirc.encode(0, max_iterations=1, initial_states=[1])\n",
    "\n",
    "# Adds QEC cycle and measurement\n",
    "#lqcirc.append_qec_cycle([0, 1])\n",
    "lqcirc.measure([0], [0])\n",
    "#lqcirc.measure_all()\n",
    "\n",
    "# Logical Statevector\n",
    "result = execute_circuits(lqcirc, backend=simulator, shots=shots, memory=True, save_statevector=False)[0]\n",
    "counts = result.get_counts(lqcirc)\n",
    "logical_statevector = LogicalStatevector.from_counts(counts, 1, **steane_code)\n",
    "\n",
    "\n"
   ]
  },
  {
   "cell_type": "code",
   "execution_count": 11,
   "id": "21164a00",
   "metadata": {},
   "outputs": [
    {
     "name": "stdout",
     "output_type": "stream",
     "text": [
      "\n",
      "Logical Statevector:\n",
      "0j |0>_L + (0.976489860701969+0j) |1>_L + (0.02351013929803103+0j) |psi_L^perp>\n"
     ]
    }
   ],
   "source": [
    "print(\"\\nLogical Statevector:\")\n",
    "logical_statevector"
   ]
  },
  {
   "cell_type": "code",
   "execution_count": 14,
   "id": "09a866ee",
   "metadata": {},
   "outputs": [
    {
     "ename": "QiskitError",
     "evalue": "'No statevector for experiment \"None\"'",
     "output_type": "error",
     "traceback": [
      "\u001b[31m---------------------------------------------------------------------------\u001b[39m",
      "\u001b[31mKeyError\u001b[39m                                  Traceback (most recent call last)",
      "\u001b[36mFile \u001b[39m\u001b[32mc:\\Users\\nolan\\OneDrive\\Desktop\\College\\Research\\Quantum Computing\\QCA\\clone\\LogicalQ\\venv\\Lib\\site-packages\\qiskit\\result\\result.py:301\u001b[39m, in \u001b[36mResult.get_statevector\u001b[39m\u001b[34m(self, experiment, decimals)\u001b[39m\n\u001b[32m    299\u001b[39m \u001b[38;5;28;01mtry\u001b[39;00m:\n\u001b[32m    300\u001b[39m     \u001b[38;5;28;01mreturn\u001b[39;00m postprocess.format_statevector(\n\u001b[32m--> \u001b[39m\u001b[32m301\u001b[39m         \u001b[38;5;28;43mself\u001b[39;49m\u001b[43m.\u001b[49m\u001b[43mdata\u001b[49m\u001b[43m(\u001b[49m\u001b[43mexperiment\u001b[49m\u001b[43m)\u001b[49m\u001b[43m[\u001b[49m\u001b[33;43m\"\u001b[39;49m\u001b[33;43mstatevector\u001b[39;49m\u001b[33;43m\"\u001b[39;49m\u001b[43m]\u001b[49m, decimals=decimals\n\u001b[32m    302\u001b[39m     )\n\u001b[32m    303\u001b[39m \u001b[38;5;28;01mexcept\u001b[39;00m \u001b[38;5;167;01mKeyError\u001b[39;00m \u001b[38;5;28;01mas\u001b[39;00m ex:\n",
      "\u001b[31mKeyError\u001b[39m: 'statevector'",
      "\nThe above exception was the direct cause of the following exception:\n",
      "\u001b[31mQiskitError\u001b[39m                               Traceback (most recent call last)",
      "\u001b[36mCell\u001b[39m\u001b[36m \u001b[39m\u001b[32mIn[14]\u001b[39m\u001b[32m, line 6\u001b[39m\n\u001b[32m      4\u001b[39m \u001b[38;5;28;01mfor\u001b[39;00m i \u001b[38;5;129;01min\u001b[39;00m \u001b[38;5;28mrange\u001b[39m(shots):\n\u001b[32m      5\u001b[39m     result = execute_circuits(lqcirc, backend=simulator, shots=\u001b[32m1\u001b[39m, memory=\u001b[38;5;28;01mTrue\u001b[39;00m, save_statevector=\u001b[38;5;28;01mFalse\u001b[39;00m)[\u001b[32m0\u001b[39m]\n\u001b[32m----> \u001b[39m\u001b[32m6\u001b[39m     statevector = Statevector(\u001b[43mresult\u001b[49m\u001b[43m.\u001b[49m\u001b[43mget_statevector\u001b[49m\u001b[43m(\u001b[49m\u001b[43m)\u001b[49m)\n\u001b[32m      7\u001b[39m     \u001b[38;5;66;03m#target_qubit = partial_trace(statevector, qubits_to_trace_out)\u001b[39;00m\n\u001b[32m      8\u001b[39m     statevector.draw(\u001b[33m'\u001b[39m\u001b[33mlatex\u001b[39m\u001b[33m'\u001b[39m, prefix=\u001b[33m'\u001b[39m\u001b[33mStatevector:\u001b[39m\u001b[33m'\u001b[39m)\n",
      "\u001b[36mFile \u001b[39m\u001b[32mc:\\Users\\nolan\\OneDrive\\Desktop\\College\\Research\\Quantum Computing\\QCA\\clone\\LogicalQ\\venv\\Lib\\site-packages\\qiskit\\result\\result.py:304\u001b[39m, in \u001b[36mResult.get_statevector\u001b[39m\u001b[34m(self, experiment, decimals)\u001b[39m\n\u001b[32m    300\u001b[39m     \u001b[38;5;28;01mreturn\u001b[39;00m postprocess.format_statevector(\n\u001b[32m    301\u001b[39m         \u001b[38;5;28mself\u001b[39m.data(experiment)[\u001b[33m\"\u001b[39m\u001b[33mstatevector\u001b[39m\u001b[33m\"\u001b[39m], decimals=decimals\n\u001b[32m    302\u001b[39m     )\n\u001b[32m    303\u001b[39m \u001b[38;5;28;01mexcept\u001b[39;00m \u001b[38;5;167;01mKeyError\u001b[39;00m \u001b[38;5;28;01mas\u001b[39;00m ex:\n\u001b[32m--> \u001b[39m\u001b[32m304\u001b[39m     \u001b[38;5;28;01mraise\u001b[39;00m QiskitError(\u001b[33mf\u001b[39m\u001b[33m'\u001b[39m\u001b[33mNo statevector for experiment \u001b[39m\u001b[33m\"\u001b[39m\u001b[38;5;132;01m{\u001b[39;00m\u001b[38;5;28mrepr\u001b[39m(experiment)\u001b[38;5;132;01m}\u001b[39;00m\u001b[33m\"\u001b[39m\u001b[33m'\u001b[39m) \u001b[38;5;28;01mfrom\u001b[39;00m\u001b[38;5;250m \u001b[39m\u001b[34;01mex\u001b[39;00m\n",
      "\u001b[31mQiskitError\u001b[39m: 'No statevector for experiment \"None\"'"
     ]
    }
   ],
   "source": [
    "# Exact statevector\n",
    "qubits_to_trace_out = []\n",
    "shots = 1\n",
    "for i in range(shots):\n",
    "    result = execute_circuits(lqcirc, backend=simulator, shots=1, memory=True, save_statevector=False)[0]\n",
    "    statevector = Statevector(result.get_statevector())\n",
    "    #target_qubit = partial_trace(statevector, qubits_to_trace_out)\n",
    "    statevector.draw('latex', prefix='Statevector:')"
   ]
  },
  {
   "cell_type": "code",
   "execution_count": 13,
   "id": "6ca18c58",
   "metadata": {},
   "outputs": [
    {
     "name": "stdout",
     "output_type": "stream",
     "text": [
      "Actual Statevector:\n"
     ]
    },
    {
     "data": {
      "text/latex": [
       "$$Statevector: |10000000101010\\rangle$$"
      ],
      "text/plain": [
       "<IPython.core.display.Latex object>"
      ]
     },
     "execution_count": 13,
     "metadata": {},
     "output_type": "execute_result"
    }
   ],
   "source": [
    "print(\"Actual Statevector:\")\n",
    "statevector.draw('latex', prefix='Statevector:')"
   ]
  },
  {
   "cell_type": "markdown",
   "id": "3c0d259c",
   "metadata": {},
   "source": [
    "# Scrapwork"
   ]
  },
  {
   "cell_type": "code",
   "execution_count": null,
   "id": "f8f81e63",
   "metadata": {},
   "outputs": [],
   "source": [
    "logical_statevec = LogicalStatevector(lqcirc, n_logical_qubits=1, )"
   ]
  },
  {
   "cell_type": "code",
   "execution_count": null,
   "id": "2dd5ad6a",
   "metadata": {},
   "outputs": [],
   "source": [
    "def tomography(lqcirc: LogicalCircuit):\n",
    "    lqcirc_z = lqcirc.copy()\n",
    "    lqcirc_x = lqcirc.copy()\n",
    "    \n",
    "    "
   ]
  },
  {
   "cell_type": "code",
   "execution_count": null,
   "id": "93f1ebb2",
   "metadata": {},
   "outputs": [],
   "source": [
    "statevec"
   ]
  },
  {
   "cell_type": "code",
   "execution_count": null,
   "id": "a4cbd3ac",
   "metadata": {},
   "outputs": [],
   "source": [
    "lqcirc.draw(output=\"mpl\")"
   ]
  },
  {
   "cell_type": "code",
   "execution_count": null,
   "id": "3726e525",
   "metadata": {},
   "outputs": [],
   "source": [
    "import numpy as np\n",
    "import matplotlib.pyplot as plt\n",
    "\n",
    "from qiskit import ClassicalRegister, QuantumRegister, QuantumCircuit, transpile\n",
    "from qiskit_aer import AerSimulator\n",
    "from qiskit.visualization import plot_histogram\n",
    "\n",
    "from LogicalQ.Library.QECCs import phase_flip_code\n",
    "from LogicalQ.Experiments import execute_circuits\n",
    "from LogicalQ.Logical import LogicalCircuit\n",
    "from LogicalQ.Analysis import counts_to_statevector\n",
    "\n",
    "%load_ext autoreload\n",
    "%autoreload 2"
   ]
  },
  {
   "cell_type": "code",
   "execution_count": null,
   "id": "81f83ac6",
   "metadata": {},
   "outputs": [],
   "source": [
    "T_gate = np.array([[1, 0], [0, np.exp(np.pi/4 * 1j)]])\n",
    "init_state = np.array([0, 0]).T\n",
    "\n",
    "final_state = T_gate @ init_state\n",
    "final_state"
   ]
  },
  {
   "cell_type": "code",
   "execution_count": null,
   "id": "a8aab2b3",
   "metadata": {},
   "outputs": [],
   "source": [
    "# Creating a Quantum Register with 1 Qubit\n",
    "qr = QuantumRegister(1)\n",
    "\n",
    "# Creating a Quantum Circuit\n",
    "circuit = QuantumCircuit(qr)\n",
    "\n",
    "# Applying T Gate on the first Qubit\n",
    "circuit.t(0)\n",
    "\n",
    "# Drawing the Quantum Circuit\n",
    "circuit.draw()"
   ]
  },
  {
   "cell_type": "code",
   "execution_count": null,
   "id": "3f12e833",
   "metadata": {},
   "outputs": [],
   "source": [
    "no_correction_code = lambda n_qubits : {\n",
    "    \"label\": (n_qubits, n_qubits, 0),\n",
    "    \"stabilizer_tableau\": [\n",
    "        (1 * n_qubits) * \"I\"\n",
    "    ] * 2 * n_qubits\n",
    "}"
   ]
  },
  {
   "cell_type": "code",
   "execution_count": null,
   "id": "66d8741c",
   "metadata": {},
   "outputs": [],
   "source": [
    "no_correction_code = lambda n_qubits : {\n",
    "    \"label\": (n_qubits, n_qubits, 0),\n",
    "    \"stabilizer_tableau\": []\n",
    "}\n",
    "\n",
    "code = no_correction_code(1)\n",
    "\n",
    "lqc = LogicalCircuit(1, **code)\n",
    "lqc.draw(\"mpl\")"
   ]
  },
  {
   "cell_type": "markdown",
   "id": "ec940cd1",
   "metadata": {},
   "source": []
  },
  {
   "cell_type": "code",
   "execution_count": null,
   "id": "f5cc61e0",
   "metadata": {},
   "outputs": [],
   "source": [
    "# Runs a shot on a noiseless simulator with an error at each of the physical qubits\n",
    "\n",
    "shots = 32\n",
    "simulator = AerSimulator()\n",
    "\n",
    "# Generates the circuit\n",
    "pqc = QuantumCircuit(1)\n",
    "pqc.t(0)\n",
    "pqc.draw(output=\"mpl\")\n",
    "pqc.num_qubits"
   ]
  },
  {
   "cell_type": "code",
   "execution_count": null,
   "id": "cff7961a",
   "metadata": {},
   "outputs": [],
   "source": [
    "lqcirc = LogicalCircuit.from_physical_circuit(pqc, **phase_flip_code)\n",
    "lqcirc.draw(output=\"mpl\")"
   ]
  },
  {
   "cell_type": "code",
   "execution_count": null,
   "id": "673a584b",
   "metadata": {},
   "outputs": [],
   "source": [
    "lqcirc.encode(0, max_iterations=1, initial_states=[0])\n",
    "\n",
    "# Adds QEC cycle and measurement\n",
    "#lqcirc.append_qec_cycle([0, 1])\n",
    "#lqcirc.measure([0, 1], [0, 1])\n",
    "lqcirc.measure_all()\n",
    "\n",
    "# Simulates the QEC cycle\n",
    "result = execute_circuits(lqcirc, backend=simulator, shots=shots, memory=True)[0]\n",
    "counts = result.get_counts(lqcirc)\n",
    "    \n",
    "# Outputs should all be 10 if the error correction worked properly\n",
    "#statevector = counts_to_statevector(counts)"
   ]
  },
  {
   "cell_type": "code",
   "execution_count": null,
   "id": "7fa1de6d",
   "metadata": {},
   "outputs": [],
   "source": [
    "from LogicalQ.Logical import LogicalStatevector\n",
    "\n",
    "statevec = LogicalStatevector.from_counts(counts, 2, **phase_flip_code)"
   ]
  },
  {
   "cell_type": "code",
   "execution_count": null,
   "id": "862ac704",
   "metadata": {},
   "outputs": [],
   "source": [
    "result.get_counts(lqcirc)"
   ]
  },
  {
   "cell_type": "code",
   "execution_count": null,
   "id": "7e3bd3ea",
   "metadata": {},
   "outputs": [],
   "source": [
    "result_key_0 = list(counts.keys())[2]\n",
    "result_key_0"
   ]
  },
  {
   "cell_type": "code",
   "execution_count": null,
   "id": "42159971",
   "metadata": {},
   "outputs": [],
   "source": [
    "result_key_0 = [\"0b\" + id for id in list(counts.keys())]\n",
    "result_key_0"
   ]
  },
  {
   "cell_type": "code",
   "execution_count": null,
   "id": "ea36a896",
   "metadata": {},
   "outputs": [],
   "source": [
    "# result_key_0 = list(counts.keys())[0]\n",
    "#    if all([char in [\"0\", \"1\"] for char in result_key_0]):\n",
    "#result_key_0 = list(counts.keys())[:][:2]\n",
    "all([char in [\"0\", \"1\"] for char in result_key_0])\n",
    "\n",
    "d = 2**(len(result_key_0))\n",
    "fmt_outcome = lambda outcome : bin(outcome)[2:]"
   ]
  },
  {
   "cell_type": "code",
   "execution_count": null,
   "id": "64b30b3b",
   "metadata": {},
   "outputs": [],
   "source": []
  },
  {
   "cell_type": "code",
   "execution_count": null,
   "id": "1b8c27ea",
   "metadata": {},
   "outputs": [],
   "source": [
    "d"
   ]
  },
  {
   "cell_type": "code",
   "execution_count": null,
   "id": "3557944c",
   "metadata": {},
   "outputs": [],
   "source": [
    "outcomes = [fmt_outcome(i) for i in range(d)]"
   ]
  },
  {
   "cell_type": "code",
   "execution_count": null,
   "id": "e74d9af9",
   "metadata": {},
   "outputs": [],
   "source": [
    "from qiskit.quantum_info import Statevector\n",
    "\n",
    "outcomes = [fmt_outcome(i) for i in range(d)]\n",
    "\n",
    "probabilities = np.array([counts.get(outcome, 0.0) for outcome in outcomes]) / np.sum(list(counts.values()))\n",
    "amplitudes = np.sqrt(probabilities)\n",
    "\n",
    "statevector = Statevector(amplitudes)"
   ]
  },
  {
   "cell_type": "code",
   "execution_count": null,
   "id": "cd10b88d",
   "metadata": {},
   "outputs": [],
   "source": [
    "statevector"
   ]
  }
 ],
 "metadata": {
  "kernelspec": {
   "display_name": "venv (3.12.6)",
   "language": "python",
   "name": "python3"
  },
  "language_info": {
   "codemirror_mode": {
    "name": "ipython",
    "version": 3
   },
   "file_extension": ".py",
   "mimetype": "text/x-python",
   "name": "python",
   "nbconvert_exporter": "python",
   "pygments_lexer": "ipython3",
   "version": "3.12.6"
  }
 },
 "nbformat": 4,
 "nbformat_minor": 5
}

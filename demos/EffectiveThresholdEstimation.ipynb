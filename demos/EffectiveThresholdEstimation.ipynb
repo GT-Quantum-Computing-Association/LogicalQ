{
 "cells": [
  {
   "cell_type": "markdown",
   "id": "2028065f-a36f-4427-9524-a3668fdc301f",
   "metadata": {},
   "source": [
    "# Effective Threshold Estimation"
   ]
  },
  {
   "cell_type": "code",
   "execution_count": null,
   "id": "2b5bd758-8162-4ca7-baff-52e48404f268",
   "metadata": {},
   "outputs": [],
   "source": [
    "import numpy as np\n",
    "import matplotlib.pyplot as plt\n",
    "from matplotlib.colors import LogNorm\n",
    "\n",
    "from LogicalQ.Logical import LogicalCircuit\n",
    "from LogicalQ.Library.QECCs import steane_code\n",
    "from LogicalQ.Optimizers import compute_effective_threshold"
   ]
  },
  {
   "cell_type": "markdown",
   "id": "6a35775e-289e-4e81-a7e8-4631fc950760",
   "metadata": {},
   "source": [
    "## Plot 1: Full Bloch sphere view\n",
    "\n",
    "This plot provides an overview of the infidelities across the Bloch sphere."
   ]
  },
  {
   "cell_type": "markdown",
   "id": "6c2ba0cf-6bc8-4f93-933a-4ffadd1e1bb3",
   "metadata": {},
   "source": [
    "### Scan\n",
    "\n",
    "First, perform a scan over different error angles, applying $U(\\theta, \\phi)$, attempting QEC (maximum rounds: 1), and computing fidelities at each step."
   ]
  },
  {
   "cell_type": "code",
   "execution_count": null,
   "id": "bfa7cee1-6c35-4e00-b8f5-5e1e103eebc9",
   "metadata": {},
   "outputs": [],
   "source": [
    "interior_points, fidelities = compute_effective_threshold(\n",
    "    None, **steane_code,\n",
    "    min_theta=0, max_theta=np.pi, n_theta=16,\n",
    "    min_phi=0, max_phi=np.pi*2, n_phi=16,\n",
    ")"
   ]
  },
  {
   "cell_type": "markdown",
   "id": "141fefb8-de36-46e2-86f0-f23961feb1f6",
   "metadata": {},
   "source": [
    "### Plot\n",
    "\n",
    "Get a list of angles and infidelities for a single specified `initial_state`. We choose between plotting all data points and only plotting those that are interior points (i.e. they do not exceed the effective threshold). We can then plot the infidelities against a Bloch sphere."
   ]
  },
  {
   "cell_type": "code",
   "execution_count": null,
   "id": "8572bf70-b83d-4cfb-aede-389d0723b9f0",
   "metadata": {
    "scrolled": true
   },
   "outputs": [],
   "source": [
    "initial_state = \"0\"\n",
    "plot_all = True\n",
    "\n",
    "if plot_all:\n",
    "    angles_list = list(fidelities[initial_state].keys())\n",
    "    \n",
    "    thetas = np.array([angles[0] for angles in angles_list])\n",
    "    phis = np.array([angles[1] for angles in angles_list])\n",
    "    infidelities = 1-np.array(list(fidelities[initial_state].values()))\n",
    "else:\n",
    "    angles_list = list(interior_points.values())[0]\n",
    "    \n",
    "    thetas = np.array([angles[0] for angles in angles_list])\n",
    "    phis = np.array([angles[1] for angles in angles_list])\n",
    "    fidelities_list = [fidelities[initial_state][angle] for angle in angles_list]\n",
    "    infidelities = 1-np.array(fidelities_list)"
   ]
  },
  {
   "cell_type": "code",
   "execution_count": null,
   "id": "471bfbb8-4365-4334-a950-72519cadcaae",
   "metadata": {},
   "outputs": [],
   "source": [
    "fig = plt.figure(dpi=120)\n",
    "ax = fig.add_subplot(projection=\"3d\")\n",
    "ax.set_aspect(\"equal\")\n",
    "\n",
    "R = 1\n",
    "u, v = np.mgrid[0:2*np.pi:30j, 0:np.pi:30j]\n",
    "x = R*np.cos(v) * np.sin(u)\n",
    "y = R*np.sin(v) * np.sin(u)\n",
    "z = R*np.cos(u)\n",
    "ax.plot_surface(x, y, z, cmap=plt.cm.bone)\n",
    "\n",
    "R *= 1.1\n",
    "xs = R*np.cos(phis) * np.sin(thetas)\n",
    "ys = R*np.sin(phis) * np.sin(thetas)\n",
    "zs = R*np.cos(thetas)\n",
    "scatter = ax.scatter(xs, ys, zs, c=infidelities, cmap=plt.cm.viridis, s=30)\n",
    "\n",
    "ax.set_title(\"Infidelity vs. error angle\")\n",
    "\n",
    "ax.set_xlabel(\"X\")\n",
    "ax.set_ylabel(\"Y\")\n",
    "ax.set_zlabel(\"Z\")\n",
    "\n",
    "plt.colorbar(scatter)\n",
    "\n",
    "plt.show()"
   ]
  },
  {
   "cell_type": "markdown",
   "id": "8c72c634-c8c8-4afb-bdc9-08bec021f20d",
   "metadata": {},
   "source": [
    "## Plot 2: Fine $\\ket{0}$ pole scan"
   ]
  },
  {
   "cell_type": "code",
   "execution_count": null,
   "id": "70786fe3-1f04-4b30-b99e-ec85eaa020b1",
   "metadata": {},
   "outputs": [],
   "source": [
    "interior_points, fidelities = compute_effective_threshold(\n",
    "    None, **steane_code,\n",
    "    min_theta=0, max_theta=np.pi/6, n_theta=32,\n",
    "    min_phi=0, max_phi=np.pi*2, n_phi=32,\n",
    ")"
   ]
  },
  {
   "cell_type": "code",
   "execution_count": null,
   "id": "a2bcb33d-d342-4799-bb7e-da4ccba0ac03",
   "metadata": {},
   "outputs": [],
   "source": [
    "initial_state = \"0\"\n",
    "plot_all = False\n",
    "\n",
    "if plot_all:\n",
    "    angles_list = list(fidelities[initial_state].keys())\n",
    "    \n",
    "    thetas = np.array([angles[0] for angles in angles_list])\n",
    "    phis = np.array([angles[1] for angles in angles_list])\n",
    "    infidelities = 1-np.array(list(fidelities[initial_state].values()))\n",
    "else:\n",
    "    angles_list = list(interior_points.values())[0]\n",
    "    \n",
    "    thetas = np.array([angles[0] for angles in angles_list])\n",
    "    phis = np.array([angles[1] for angles in angles_list])\n",
    "    fidelities_list = [fidelities[initial_state][angle] for angle in angles_list]\n",
    "    infidelities = 1-np.array(fidelities_list)"
   ]
  },
  {
   "cell_type": "code",
   "execution_count": null,
   "id": "30ac70c8-923f-44dd-8885-939018ab2b11",
   "metadata": {},
   "outputs": [],
   "source": [
    "fig, ax = plt.subplots(dpi=120)\n",
    "ax.set_aspect(\"equal\")\n",
    "\n",
    "xs = R*np.cos(phis) * np.sin(thetas)\n",
    "ys = R*np.sin(phis) * np.sin(thetas)\n",
    "# zs = R*np.cos(thetas)\n",
    "scatter = ax.scatter(xs, ys, c=infidelities, cmap=plt.cm.viridis, s=64)\n",
    "\n",
    "ax.set_title(\"Infidelity vs. error angle\")\n",
    "\n",
    "ax.set_xlabel(\"X\")\n",
    "ax.set_ylabel(\"Y\")\n",
    "\n",
    "plt.colorbar(scatter)\n",
    "\n",
    "plt.show()"
   ]
  },
  {
   "cell_type": "code",
   "execution_count": null,
   "id": "6b6881d9-054f-49cc-8bb5-d85a84c7f98e",
   "metadata": {},
   "outputs": [],
   "source": []
  }
 ],
 "metadata": {
  "kernelspec": {
   "display_name": "Python 3 (ipykernel)",
   "language": "python",
   "name": "python3"
  },
  "language_info": {
   "codemirror_mode": {
    "name": "ipython",
    "version": 3
   },
   "file_extension": ".py",
   "mimetype": "text/x-python",
   "name": "python",
   "nbconvert_exporter": "python",
   "pygments_lexer": "ipython3",
   "version": "3.13.5"
  }
 },
 "nbformat": 4,
 "nbformat_minor": 5
}

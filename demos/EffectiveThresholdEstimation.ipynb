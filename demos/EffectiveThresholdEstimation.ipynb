{
 "cells": [
  {
   "cell_type": "markdown",
   "id": "2028065f-a36f-4427-9524-a3668fdc301f",
   "metadata": {},
   "source": [
    "# Effective Threshold Estimation"
   ]
  },
  {
   "cell_type": "markdown",
   "id": "2322a385-6c25-4f0f-a8f5-dd21befd2dba",
   "metadata": {},
   "source": [
    "## Imports"
   ]
  },
  {
   "cell_type": "code",
   "execution_count": null,
   "id": "2b5bd758-8162-4ca7-baff-52e48404f268",
   "metadata": {},
   "outputs": [],
   "source": [
    "import numpy as np\n",
    "import matplotlib as mpl\n",
    "import matplotlib.pyplot as plt\n",
    "from matplotlib.colors import LogNorm\n",
    "\n",
    "from LogicalQ.Logical import LogicalCircuit\n",
    "from LogicalQ.Library.QECCs import steane_code\n",
    "from LogicalQ.Estimators import compute_effective_threshold"
   ]
  },
  {
   "cell_type": "markdown",
   "id": "91d65fff-efd6-474e-aa74-d9e6e7a269a2",
   "metadata": {},
   "source": [
    "#### Helper Definition"
   ]
  },
  {
   "cell_type": "code",
   "execution_count": null,
   "id": "1dd4f78f-e09d-45d4-974a-8d42cf4d0fd3",
   "metadata": {},
   "outputs": [],
   "source": [
    "from matplotlib.colors import LinearSegmentedColormap, ListedColormap\n",
    "\n",
    "top = mpl.colormaps['Oranges'].resampled(64)\n",
    "bottom = mpl.colormaps['Blues_r'].resampled(64)\n",
    "one_centered_colors = np.vstack((bottom(np.linspace(0.0, 0.75, 64)),\n",
    "                       top(np.linspace(0.25, 1.0, 64))))\n",
    "one_centered_cmp = ListedColormap(one_centered_colors, name='OrangeBlue')"
   ]
  },
  {
   "cell_type": "markdown",
   "id": "6a35775e-289e-4e81-a7e8-4631fc950760",
   "metadata": {},
   "source": [
    "## Plot 1: Full Bloch sphere view\n",
    "\n",
    "This plot provides an overview of the infidelities across the Bloch sphere."
   ]
  },
  {
   "cell_type": "markdown",
   "id": "6c2ba0cf-6bc8-4f93-933a-4ffadd1e1bb3",
   "metadata": {},
   "source": [
    "### Scan\n",
    "\n",
    "First, perform a scan over different error angles, applying $U(\\theta, \\phi)$, attempting QEC (maximum rounds: 1), and computing fidelities at each step."
   ]
  },
  {
   "cell_type": "code",
   "execution_count": null,
   "id": "bfa7cee1-6c35-4e00-b8f5-5e1e103eebc9",
   "metadata": {},
   "outputs": [],
   "source": [
    "interior_points, fidelities, effective_threshold = compute_effective_threshold(\n",
    "    **steane_code,\n",
    "    hardware_model=None,\n",
    "    min_theta=0, max_theta=np.pi/2, n_theta=16,\n",
    "    min_phi=0, max_phi=np.pi, n_phi=8,\n",
    "    shots=1E5\n",
    ")"
   ]
  },
  {
   "cell_type": "code",
   "execution_count": null,
   "id": "de5a2888-ce61-47aa-81da-82666a96e1a0",
   "metadata": {
    "scrolled": true
   },
   "outputs": [],
   "source": [
    "fidelities"
   ]
  },
  {
   "cell_type": "code",
   "execution_count": null,
   "id": "9f221300-4001-4fee-ae25-be136525e4d5",
   "metadata": {},
   "outputs": [],
   "source": [
    "effective_threshold"
   ]
  },
  {
   "cell_type": "markdown",
   "id": "141fefb8-de36-46e2-86f0-f23961feb1f6",
   "metadata": {},
   "source": [
    "### Plot\n",
    "\n",
    "Get a list of angles and infidelities for a single specified `initial_state`. We choose between plotting all data points and only plotting those that are interior points (i.e. they do not exceed the effective threshold). We can then plot the infidelities against a Bloch sphere."
   ]
  },
  {
   "cell_type": "code",
   "execution_count": null,
   "id": "8572bf70-b83d-4cfb-aede-389d0723b9f0",
   "metadata": {
    "scrolled": true
   },
   "outputs": [],
   "source": [
    "initial_state = \"0\"\n",
    "plot_all = True\n",
    "\n",
    "if plot_all:\n",
    "    angles_list = list(fidelities[initial_state].keys())\n",
    "    \n",
    "    thetas = np.array([angles[0] for angles in angles_list])\n",
    "    phis = np.array([angles[1] for angles in angles_list])\n",
    "    fidelities_list = np.nan_to_num(np.array(list(fidelities[initial_state].values())))\n",
    "else:\n",
    "    angles_list = list(interior_points.values())[0]\n",
    "    \n",
    "    thetas = np.array([angles[0] for angles in angles_list])\n",
    "    phis = np.array([angles[1] for angles in angles_list])\n",
    "    fidelities_list = np.nan_to_num(np.array([fidelities[initial_state][angle] for angle in angles_list]))"
   ]
  },
  {
   "cell_type": "code",
   "execution_count": null,
   "id": "838725b8-fc14-4ff9-a438-a7e02b63eb94",
   "metadata": {},
   "outputs": [],
   "source": [
    "infidelities = 1-fidelities_list\n",
    "fidelity_ratios = [fidelity_qec/fidelity_noqec for (fidelity_noqec, fidelity_qec) in fidelities_list]\n",
    "infidelity_ratios = [infidelity_qec/infidelity_noqec for (infidelity_noqec, infidelity_qec) in infidelities]"
   ]
  },
  {
   "cell_type": "code",
   "execution_count": null,
   "id": "fee3ba7a-0762-4990-9c46-0ad8ad3799e9",
   "metadata": {},
   "outputs": [],
   "source": [
    "print(fidelities_list[0], infidelities[0], infidelity_ratios[0])"
   ]
  },
  {
   "cell_type": "code",
   "execution_count": null,
   "id": "471bfbb8-4365-4334-a950-72519cadcaae",
   "metadata": {},
   "outputs": [],
   "source": [
    "fig = plt.figure(dpi=128)\n",
    "ax = fig.add_subplot(projection=\"3d\")\n",
    "ax.set_aspect(\"equal\")\n",
    "\n",
    "R = 1\n",
    "u, v = np.mgrid[0:2*np.pi:30j, 0:np.pi:30j]\n",
    "x = R*np.cos(v) * np.sin(u)\n",
    "y = R*np.sin(v) * np.sin(u)\n",
    "z = R*np.cos(u)\n",
    "ax.plot_surface(x, y, z, cmap=plt.cm.bone)\n",
    "\n",
    "R *= 1.1\n",
    "xs = R*np.cos(phis + np.pi * 1.2) * np.sin(thetas)\n",
    "ys = R*np.sin(phis + np.pi * 1.2) * np.sin(thetas)\n",
    "zs = R*np.cos(thetas)\n",
    "scatter = ax.scatter(xs, ys, zs, c=infidelity_ratios, cmap=one_centered_cmp, vmin=min(infidelity_ratios), vmax=2-min(infidelity_ratios), s=30)\n",
    "\n",
    "ax.set_title(\"Infidelity ratio vs. error angle\")\n",
    "\n",
    "ax.set_xlabel(\"X\")\n",
    "ax.set_ylabel(\"Y\")\n",
    "ax.set_zlabel(\"Z\")\n",
    "\n",
    "plt.colorbar(scatter)\n",
    "\n",
    "plt.show()"
   ]
  },
  {
   "cell_type": "markdown",
   "id": "8c72c634-c8c8-4afb-bdc9-08bec021f20d",
   "metadata": {},
   "source": [
    "## Plot 2: Fine $\\ket{0}$ pole scan"
   ]
  },
  {
   "cell_type": "code",
   "execution_count": null,
   "id": "70786fe3-1f04-4b30-b99e-ec85eaa020b1",
   "metadata": {
    "scrolled": true
   },
   "outputs": [],
   "source": [
    "interior_points, fidelities, effective_threshold = compute_effective_threshold(\n",
    "    None, **steane_code,\n",
    "    min_theta=0, max_theta=np.pi/2, n_theta=32,\n",
    "    min_phi=0, max_phi=np.pi, n_phi=16,\n",
    "    shots=1E3\n",
    ")"
   ]
  },
  {
   "cell_type": "code",
   "execution_count": null,
   "id": "79361ffc-b3e7-4852-bc51-1c083ab39e38",
   "metadata": {},
   "outputs": [],
   "source": [
    "initial_state = \"0\"\n",
    "plot_all = False\n",
    "\n",
    "if plot_all:\n",
    "    angles_list = list(fidelities[initial_state].keys())\n",
    "    \n",
    "    thetas = np.array([angles[0] for angles in angles_list])\n",
    "    phis = np.array([angles[1] for angles in angles_list])\n",
    "    fidelities_list = np.nan_to_num(np.array(list(fidelities[initial_state].values())))\n",
    "else:\n",
    "    angles_list = list(interior_points.values())[0]\n",
    "    \n",
    "    thetas = np.array([angles[0] for angles in angles_list])\n",
    "    phis = np.array([angles[1] for angles in angles_list])\n",
    "    fidelities_list = np.nan_to_num(np.array([fidelities[initial_state][angle] for angle in angles_list]))"
   ]
  },
  {
   "cell_type": "code",
   "execution_count": null,
   "id": "a2bcb33d-d342-4799-bb7e-da4ccba0ac03",
   "metadata": {},
   "outputs": [],
   "source": [
    "infidelities = 1-fidelities_list\n",
    "fidelity_ratios = [fidelity_qec/fidelity_noqec for (fidelity_noqec, fidelity_qec) in fidelities_list]\n",
    "infidelity_ratios = [infidelity_qec/infidelity_noqec for (infidelity_noqec, infidelity_qec) in infidelities]"
   ]
  },
  {
   "cell_type": "code",
   "execution_count": null,
   "id": "30ac70c8-923f-44dd-8885-939018ab2b11",
   "metadata": {},
   "outputs": [],
   "source": [
    "fig, ax = plt.subplots(dpi=128)\n",
    "ax.set_aspect(\"equal\")\n",
    "\n",
    "R = 1.1\n",
    "xs = R*np.cos(phis) * np.sin(thetas)\n",
    "ys = R*np.sin(phis) * np.sin(thetas)\n",
    "scatter = ax.scatter(xs, ys, c=infidelity_ratios, cmap=one_centered_cmp, vmin=min(infidelity_ratios), vmax=2-min(infidelity_ratios), s=64)\n",
    "\n",
    "ax.set_title(\"Infidelity ratio (QEC/No-QEC) vs. error coordinates\")\n",
    "\n",
    "ax.set_xlabel(\"X\")\n",
    "ax.set_ylabel(\"Y\")\n",
    "\n",
    "plt.colorbar(scatter)\n",
    "\n",
    "plt.show()"
   ]
  },
  {
   "cell_type": "code",
   "execution_count": null,
   "id": "6b6881d9-054f-49cc-8bb5-d85a84c7f98e",
   "metadata": {},
   "outputs": [],
   "source": [
    "fig, ax = plt.subplots(dpi=128)\n",
    "\n",
    "scatter = ax.scatter(phis, thetas, c=infidelity_ratios, cmap=one_centered_cmp, vmin=min(infidelity_ratios), vmax=2-min(infidelity_ratios), s=64)\n",
    "\n",
    "ax.set_title(\"Infidelity ratio (QEC/No-QEC) vs. error angles\")\n",
    "\n",
    "ax.set_xlabel(\"$\\\\phi$\")\n",
    "ax.set_ylabel(\"$\\\\theta$\")\n",
    "\n",
    "plt.colorbar(scatter)\n",
    "\n",
    "plt.show()"
   ]
  },
  {
   "cell_type": "code",
   "execution_count": null,
   "id": "6c73eefd-aad1-4f1d-9c1f-1d9e2e2e5383",
   "metadata": {},
   "outputs": [],
   "source": []
  }
 ],
 "metadata": {
  "kernelspec": {
   "display_name": "Python 3 (ipykernel)",
   "language": "python",
   "name": "python3"
  },
  "language_info": {
   "codemirror_mode": {
    "name": "ipython",
    "version": 3
   },
   "file_extension": ".py",
   "mimetype": "text/x-python",
   "name": "python",
   "nbconvert_exporter": "python",
   "pygments_lexer": "ipython3",
   "version": "3.13.7"
  }
 },
 "nbformat": 4,
 "nbformat_minor": 5
}

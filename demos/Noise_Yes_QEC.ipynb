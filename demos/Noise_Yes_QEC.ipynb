{
 "cells": [
  {
   "cell_type": "code",
   "execution_count": 1,
   "id": "3c3abb28-1ba9-4e50-8a14-8b92c8c70049",
   "metadata": {},
   "outputs": [],
   "source": [
    "from qiskit_aer import AerSimulator\n",
    "from qiskit import QuantumCircuit\n",
    "from qiskit import ClassicalRegister\n",
    "from LogicalQ.Benchmarks import mirror_benchmarking\n",
    "from LogicalQ.NoiseModel import construct_noise_model\n",
    "from LogicalQ.Logical import LogicalCircuit, LogicalStatevector\n",
    "from LogicalQ.Experiments import execute_circuits\n",
    "from LogicalQ.Library.QECCs import steane_code\n",
    "from LogicalQ.Library.HardwareModels import hardware_model_Quantinuum_H2_1"
   ]
  },
  {
   "cell_type": "code",
   "execution_count": 2,
   "id": "2a48e48c-c0d1-47e9-bf81-f5b159f71b27",
   "metadata": {},
   "outputs": [],
   "source": [
    "n_qubits = 1\n",
    "circuit_length = 2\n",
    "\n",
    "qec_params = {\n",
    "    0: [5, 10],\n",
    "    # 1: [5, 10]\n",
    "}"
   ]
  },
  {
   "cell_type": "code",
   "execution_count": 7,
   "id": "25ae5209-cf25-4ac6-94e9-8743c5acd426",
   "metadata": {},
   "outputs": [],
   "source": [
    "mb_circ = mirror_benchmarking(\n",
    "    n_qubits=n_qubits,\n",
    "    circuit_length=circuit_length\n",
    ")\n",
    "\n",
    "def run_mb(\n",
    "    qec_cycle_indices=None,\n",
    "    noise_model=None\n",
    "):\n",
    "\n",
    "    # 2) lift into a LogicalCircuit (handles regs for you)\n",
    "    logical_circ = LogicalCircuit.from_physical_circuit(\n",
    "        mb_circ, **steane_code, name=\"mb_with_qec\"\n",
    "    )\n",
    "\n",
    "    # 3) insert QEC cycles\n",
    "    logical_circ.insert_qec_cycles(\n",
    "        logical_qubit_indices=list(qec_cycle_indices.keys()),\n",
    "        qec_cycle_indices=qec_cycle_indices,\n",
    "        clear_existing_qec=False\n",
    "    )\n",
    "\n",
    "    # 4) measure all\n",
    "    logical_circ.measure_all()\n",
    "\n",
    "    print(logical_circ.count_ops())\n",
    "\n",
    "    # 6) execute\n",
    "    job = execute_circuits(\n",
    "        logical_circ,\n",
    "        backend=\"aer_simulator\",\n",
    "        hardware_model=hardware_model_Quantinuum_H2_1, coupling_map=None, noise_model=noise_model,\n",
    "        method=\"statevector\", shots=1E4\n",
    "    )\n",
    "\n",
    "    print(job)\n",
    "\n",
    "    # 7) pull out counts & rebuild logical statevector\n",
    "    raw_counts = job[0].get_counts()\n",
    "    lsv = LogicalStatevector.from_counts(\n",
    "        raw_counts,\n",
    "        n_logical_qubits=1,\n",
    "        **steane_code\n",
    "    )\n",
    "\n",
    "    print(lsv.logical_decomposition)\n",
    "\n",
    "    # 8) return logical infidelity = 1 − |⟨0_L|ψ⟩|²\n",
    "    return 1 - (lsv.logical_decomposition[0])**2"
   ]
  },
  {
   "cell_type": "markdown",
   "id": "ac9e58bc-591e-4584-8009-5d0591ef0410",
   "metadata": {},
   "source": [
    "# 1. Ideal"
   ]
  },
  {
   "cell_type": "code",
   "execution_count": 8,
   "id": "ea3dd7ca-74c6-4cdb-969a-f6fc26e91954",
   "metadata": {},
   "outputs": [
    {
     "name": "stdout",
     "output_type": "stream",
     "text": [
      "OrderedDict({'measure': 7, 'box': 4, 'x': 1})\n",
      "[Result(backend_name='aer_simulator_statevector', backend_version='0.17.1', job_id='b01ac4c1-d815-4fc9-b2a0-57c95fa83232', success=True, results=[ExperimentResult(shots=10000, success=True, meas_level=2, data=ExperimentResultData(counts={'0x72000000': 1254, '0x6c000000': 1224, '0x1e000000': 1173, '0xc6000000': 1297, '0x0': 1239, '0xaa000000': 1273, '0xd8000000': 1277, '0xb4000000': 1263}), header={'creg_sizes': [['cenc_verif0', 1], ['ccurr_syndrome0', 3], ['cprev_syndrome0', 6], ['cflagged_syndrome_diff0', 6], ['cunflagged_syndrome_diff0', 6], ['cpauli_frame0', 2], ['clogical_op_meas0', 1], ['cfinal_meas0', 7], ['coutput', 1]], 'global_phase': 4.712388980384664, 'memory_slots': 33, 'n_qubits': 14, 'name': 'mb_with_qec', 'qreg_sizes': [['qlog0', 7], ['qanc0', 3], ['qlogical_op0', 2], ['qsetter', 2]], 'metadata': {}}, status=DONE, seed_simulator=1535974896, metadata={'time_taken': 4.181424885, 'num_bind_params': 1, 'parallel_state_update': 1, 'required_memory_mb': 1, 'input_qubit_map': [[12, 9], [10, 8], [7, 7], [6, 6], [5, 5], [4, 4], [3, 3], [2, 2], [1, 1], [13, 10], [0, 0]], 'method': 'statevector', 'device': 'CPU', 'num_qubits': 11, 'active_input_qubits': [0, 1, 2, 3, 4, 5, 6, 7, 10, 12, 13], 'num_clbits': 33, 'remapped_qubits': True, 'parallel_shots': 16, 'runtime_parameter_bind': False, 'max_memory_mb': 31791, 'noise': 'ideal', 'measure_sampling': False, 'batched_shots_optimization': False, 'fusion': {'applied': False, 'max_fused_qubits': 5, 'threshold': 14, 'enabled': True}}, time_taken=4.181424885)], date=2025-08-14T12:58:35.685580, status=COMPLETED, header=None, qobj_id='', metadata={'time_taken_parameter_binding': 6.3713e-05, 'time_taken_execute': 4.181438848, 'omp_enabled': True, 'max_gpu_memory_mb': 0, 'max_memory_mb': 31791, 'parallel_experiments': 1}, time_taken=4.193080186843872)]\n",
      "[9.99894784e-01+0.j 0.00000000e+00+0.j 1.05215632e-04+0.j]\n",
      "Yes QEC: [np.complex128(0.00021042019407191415+0j)]\n"
     ]
    }
   ],
   "source": [
    "infidelities = []\n",
    "infidelity = run_mb(\n",
    "    qec_cycle_indices=qec_params\n",
    ")\n",
    "\n",
    "infidelities.append(infidelity)\n",
    "print(f\"Yes QEC: {infidelities}\")"
   ]
  },
  {
   "cell_type": "markdown",
   "id": "e52921e9-4392-421e-8dc9-81d62f2066b2",
   "metadata": {},
   "source": [
    "# 2. Depolarizing (1q) on Clifford gates"
   ]
  },
  {
   "cell_type": "code",
   "execution_count": null,
   "id": "44073f9f-a1e2-4c53-9025-44563755865a",
   "metadata": {},
   "outputs": [],
   "source": [
    "# Apply only single-qubit depolarizing errors to Clifford gates\n",
    "noise2 = construct_noise_model(\n",
    "    n_qubits=n_qubits,\n",
    "    depolarizing_error_1q=(1-0.54) * 1.89E-5*1E2\n",
    ")\n",
    "\n",
    "infidelity = run_mb(\n",
    "    qec_cycle_indices=qec_params,\n",
    "    noise_model=noise2\n",
    ")\n",
    "\n",
    "infidelities.append(infidelity)\n",
    "print(f\"Yes QEC: {infidelities}\")"
   ]
  },
  {
   "cell_type": "markdown",
   "id": "83b7a26d-d058-4e0d-8343-43bd611ec467",
   "metadata": {},
   "source": [
    "# 3. Depolarizing (1q) on all gates"
   ]
  },
  {
   "cell_type": "code",
   "execution_count": null,
   "id": "9dfe92d5-cc12-4c54-858f-7a66686bfd7c",
   "metadata": {},
   "outputs": [],
   "source": [
    "noise3 = construct_noise_model(\n",
    "    basis_gates=basis_gates_all,\n",
    "    n_qubits=n_qubits,\n",
    "    depolarizing_error_1q=(1-0.54) * 1.89E-5*1E2\n",
    ")\n",
    "infidelity = run_mb(\n",
    "    noise_model=noise3, \n",
    "    shots=shots, \n",
    "    n_logical_qubits=n_logical, \n",
    "    label=label, \n",
    "    stabilizer_tableau=stabilizer_tableau, \n",
    "    qec_cycle_indices=qec_params\n",
    ")\n",
    "\n",
    "infidelities.append(infidelity)\n",
    "print(f\"Yes QEC: {infidelities}\")"
   ]
  },
  {
   "cell_type": "markdown",
   "id": "4b87ae88-f660-43f4-95ff-005c8ad5eb31",
   "metadata": {},
   "source": [
    "# 4. Depolarizing (1q) + Depolarizing (2q) on all gates"
   ]
  },
  {
   "cell_type": "code",
   "execution_count": null,
   "id": "5961bd4e-34d0-48fe-9cd2-85919356711d",
   "metadata": {},
   "outputs": [],
   "source": [
    "noise4 = construct_noise_model(\n",
    "    basis_gates=basis_gates_all,\n",
    "    n_qubits=n_qubits,\n",
    "    depolarizing_error_1q=ERR_1Q,\n",
    "    depolarizing_error_2q=ERR_2Q\n",
    ")\n",
    "infidelity = run_mb(\n",
    "    noise_model=noise4, \n",
    "    shots=shots, \n",
    "    n_logical_qubits=n_logical, \n",
    "    label=label, \n",
    "    stabilizer_tableau=stabilizer_tableau, \n",
    "    qec_cycle_indices=qec_params\n",
    ")\n",
    "\n",
    "infidelities.append(infidelity)\n",
    "print(f\"Yes QEC: {infidelities}\")"
   ]
  },
  {
   "cell_type": "markdown",
   "id": "4624d683-064b-4713-af78-079991a7f049",
   "metadata": {},
   "source": [
    "# 5. + Amplitude damping 1q"
   ]
  },
  {
   "cell_type": "code",
   "execution_count": null,
   "id": "f259b679-9c0f-4533-a38d-c3c872f47315",
   "metadata": {},
   "outputs": [],
   "source": [
    "noise5 = construct_noise_model(\n",
    "    basis_gates=basis_gates_all,\n",
    "    n_qubits=n_qubits,\n",
    "    depolarizing_error_1q=ERR_1Q,\n",
    "    depolarizing_error_2q=ERR_2Q,\n",
    "    amplitude_damping_error_1q=AMP_1Q\n",
    ")\n",
    "infidelity = run_mb(\n",
    "    noise_model=noise5, \n",
    "    shots=shots, \n",
    "    n_logical_qubits=n_logical, \n",
    "    label=label, \n",
    "    stabilizer_tableau=stabilizer_tableau, \n",
    "    qec_cycle_indices=qec_params\n",
    ")\n",
    "\n",
    "infidelities.append(infidelity)\n",
    "print(f\"Yes QEC: {infidelities}\")"
   ]
  },
  {
   "cell_type": "markdown",
   "id": "9c808ef2-242e-4b54-9ad9-c864c9bac2c4",
   "metadata": {},
   "source": [
    "# 6. + Readout errors"
   ]
  },
  {
   "cell_type": "code",
   "execution_count": null,
   "id": "1bc3fb5d-89e6-4779-bb10-f7464246e75c",
   "metadata": {},
   "outputs": [],
   "source": [
    "noise6 = construct_noise_model(\n",
    "    basis_gates=basis_gates_all,\n",
    "    n_qubits=n_qubits,\n",
    "    depolarizing_error_1q=ERR_1Q,\n",
    "    depolarizing_error_2q=ERR_2Q,\n",
    "    **{\"readout_error_0|1\": RD01, \"readout_error_1|0\": RD10},\n",
    "    amplitude_damping_error_1q=AMP_1Q\n",
    ")\n",
    "infidelity = run_mb(\n",
    "    noise_model=noise6, \n",
    "    shots=shots, \n",
    "    n_logical_qubits=n_logical, \n",
    "    label=label, \n",
    "    stabilizer_tableau=stabilizer_tableau, \n",
    "    qec_cycle_indices=qec_params\n",
    ")\n",
    "\n",
    "infidelities.append(infidelity)\n",
    "print(f\"Yes QEC: {infidelities}\")"
   ]
  },
  {
   "cell_type": "markdown",
   "id": "721d178e-da62-4f2c-bb46-a1668ea9c6e2",
   "metadata": {},
   "source": [
    "# Summary Plot"
   ]
  },
  {
   "cell_type": "code",
   "execution_count": null,
   "id": "e497628b-804f-4bfc-9d1a-0684d365f84b",
   "metadata": {},
   "outputs": [],
   "source": []
  }
 ],
 "metadata": {
  "kernelspec": {
   "display_name": "Python 3 (ipykernel)",
   "language": "python",
   "name": "python3"
  },
  "language_info": {
   "codemirror_mode": {
    "name": "ipython",
    "version": 3
   },
   "file_extension": ".py",
   "mimetype": "text/x-python",
   "name": "python",
   "nbconvert_exporter": "python",
   "pygments_lexer": "ipython3",
   "version": "3.13.5"
  }
 },
 "nbformat": 4,
 "nbformat_minor": 5
}

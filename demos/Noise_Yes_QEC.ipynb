{
 "cells": [
  {
   "cell_type": "code",
   "execution_count": null,
   "id": "3c3abb28-1ba9-4e50-8a14-8b92c8c70049",
   "metadata": {},
   "outputs": [],
   "source": [
    "from qiskit_aer import AerSimulator\n",
    "from qiskit import QuantumCircuit\n",
    "from qiskit import ClassicalRegister\n",
    "from LogicalQ.Benchmarks import mirror_benchmarking\n",
    "from LogicalQ.NoiseModel import construct_noise_model, construct_noise_model_QuantinuumH2_1\n",
    "from LogicalQ.Logical import LogicalCircuit, LogicalStatevector\n",
    "from LogicalQ.Experiments import execute_circuits\n",
    "from LogicalQ.Library.QECCs import steane_code\n",
    "from LogicalQ.Library.HardwareModels import hardware_model_Quantinuum_H2_1"
   ]
  },
  {
   "cell_type": "code",
   "execution_count": null,
   "id": "2a48e48c-c0d1-47e9-bf81-f5b159f71b27",
   "metadata": {},
   "outputs": [],
   "source": [
    "n_qubits = 1\n",
    "circuit_length = 2\n",
    "\n",
    "qec_params = {\n",
    "    0: [5, 10],\n",
    "}"
   ]
  },
  {
   "cell_type": "code",
   "execution_count": null,
   "id": "a2efb14b-c2d6-49b9-aa61-01f40afca7d7",
   "metadata": {
    "scrolled": true
   },
   "outputs": [],
   "source": [
    "basis_gates_all = [\"x\", \"y\", \"z\", \"h\", \"s\", \"sdg\", \"cx\", \"t\", \"tdg\"]\n",
    "basis_gates_all_1q = [\"x\", \"y\", \"z\", \"h\", \"s\", \"sdg\", \"t\", \"tdg\"]\n",
    "basis_gates_clifford = [\"x\", \"y\", \"z\", \"h\", \"s\", \"sdg\", \"cx\"]\n",
    "basis_gates_clifford_1q = [\"x\", \"y\", \"z\", \"h\", \"s\", \"sdg\"]"
   ]
  },
  {
   "cell_type": "code",
   "execution_count": null,
   "id": "25ae5209-cf25-4ac6-94e9-8743c5acd426",
   "metadata": {},
   "outputs": [],
   "source": [
    "mb_circ = mirror_benchmarking(\n",
    "    n_qubits=n_qubits,\n",
    "    circuit_length=circuit_length\n",
    ")\n",
    "\n",
    "def run_mb(\n",
    "    qec_cycle_indices=None,\n",
    "    noise_model=None\n",
    "):\n",
    "    logical_circ = LogicalCircuit.from_physical_circuit(\n",
    "        mb_circ, **steane_code, name=\"mb_with_qec\"\n",
    "    )\n",
    "\n",
    "    logical_circ.insert_qec_cycles(\n",
    "        logical_qubit_indices=list(qec_cycle_indices.keys()),\n",
    "        qec_cycle_indices=qec_cycle_indices,\n",
    "        clear_existing_qec=False\n",
    "    )\n",
    "\n",
    "    logical_circ.measure_all()\n",
    "\n",
    "    print(logical_circ.count_ops())\n",
    "\n",
    "    job = execute_circuits(\n",
    "        logical_circ,\n",
    "        backend=\"aer_simulator\",\n",
    "        coupling_map=None, noise_model=noise_model,\n",
    "        method=\"statevector\", shots=1E5,\n",
    "        basis_gates=basis_gates_all\n",
    "    )\n",
    "\n",
    "    print(job)\n",
    "\n",
    "    raw_counts = job[0].get_counts()\n",
    "    lsv = LogicalStatevector.from_counts(\n",
    "        raw_counts,\n",
    "        n_logical_qubits=1,\n",
    "        **steane_code\n",
    "    )\n",
    "\n",
    "    print(lsv.logical_decomposition)\n",
    "\n",
    "    return 1 - (lsv.logical_decomposition[0])**2"
   ]
  },
  {
   "cell_type": "markdown",
   "id": "ac9e58bc-591e-4584-8009-5d0591ef0410",
   "metadata": {},
   "source": [
    "# 1. Ideal"
   ]
  },
  {
   "cell_type": "code",
   "execution_count": null,
   "id": "f41928ed-d373-43f9-a8fb-df8408f8dbc5",
   "metadata": {},
   "outputs": [],
   "source": [
    "infidelities = []"
   ]
  },
  {
   "cell_type": "code",
   "execution_count": null,
   "id": "ea3dd7ca-74c6-4cdb-969a-f6fc26e91954",
   "metadata": {
    "scrolled": true
   },
   "outputs": [],
   "source": [
    "infidelity = run_mb(\n",
    "    qec_cycle_indices=qec_params,\n",
    "    noise_model=None\n",
    ")\n",
    "\n",
    "infidelities.append(infidelity)\n",
    "print(f\"Yes QEC: {infidelities}\")"
   ]
  },
  {
   "cell_type": "markdown",
   "id": "e52921e9-4392-421e-8dc9-81d62f2066b2",
   "metadata": {},
   "source": [
    "# 2. Depolarizing (1q) on Clifford gates"
   ]
  },
  {
   "cell_type": "code",
   "execution_count": null,
   "id": "44073f9f-a1e2-4c53-9025-44563755865a",
   "metadata": {
    "scrolled": true
   },
   "outputs": [],
   "source": [
    "# Apply depolarizing errors to single-qubit Clifford gates\n",
    "noise3 = construct_noise_model(\n",
    "    basis_gates=basis_gates_clifford_1q,\n",
    "    n_qubits=n_qubits,\n",
    "    depolarizing_error_1q=(1-0.54) * 1.89E-5\n",
    ")\n",
    "infidelity = run_mb(\n",
    "    qec_cycle_indices=qec_params,\n",
    "    noise_model=construct_noise_model_QuantinuumH2_1()\n",
    ")\n",
    "\n",
    "infidelities.append(infidelity)\n",
    "print(f\"Yes QEC: {infidelities}\")"
   ]
  },
  {
   "cell_type": "markdown",
   "id": "83b7a26d-d058-4e0d-8343-43bd611ec467",
   "metadata": {},
   "source": [
    "# 3. Depolarizing (1q) on all gates"
   ]
  },
  {
   "cell_type": "code",
   "execution_count": null,
   "id": "9dfe92d5-cc12-4c54-858f-7a66686bfd7c",
   "metadata": {},
   "outputs": [],
   "source": [
    "noise3 = construct_noise_model(\n",
    "    basis_gates=basis_gates_all_1q,\n",
    "    n_qubits=n_qubits,\n",
    "    depolarizing_error_1q=(1-0.54) * 1.89E-5\n",
    ")\n",
    "infidelity = run_mb(\n",
    "    noise_model=noise3,\n",
    "    qec_cycle_indices=qec_params\n",
    ")\n",
    "\n",
    "infidelities.append(infidelity)\n",
    "print(f\"Yes QEC: {infidelities}\")"
   ]
  },
  {
   "cell_type": "markdown",
   "id": "4b87ae88-f660-43f4-95ff-005c8ad5eb31",
   "metadata": {},
   "source": [
    "# 4. Depolarizing (1q) + Depolarizing (2q) on all gates"
   ]
  },
  {
   "cell_type": "code",
   "execution_count": null,
   "id": "5961bd4e-34d0-48fe-9cd2-85919356711d",
   "metadata": {},
   "outputs": [],
   "source": [
    "noise4 = construct_noise_model(\n",
    "    basis_gates=basis_gates_all,\n",
    "    n_qubits=n_qubits,\n",
    "    depolarizing_error_1q=(1-0.54) * 1.89E-5,\n",
    "    depolarizing_error_2q=(1-0.255) * 1.05E-3\n",
    ")\n",
    "infidelity = run_mb(\n",
    "    noise_model=noise4,\n",
    "    qec_cycle_indices=qec_params\n",
    ")\n",
    "\n",
    "infidelities.append(infidelity)\n",
    "print(f\"Yes QEC: {infidelities}\")"
   ]
  },
  {
   "cell_type": "markdown",
   "id": "4624d683-064b-4713-af78-079991a7f049",
   "metadata": {},
   "source": [
    "# 5. + Amplitude damping 1q"
   ]
  },
  {
   "cell_type": "code",
   "execution_count": null,
   "id": "f259b679-9c0f-4533-a38d-c3c872f47315",
   "metadata": {},
   "outputs": [],
   "source": [
    "noise5 = construct_noise_model(\n",
    "    basis_gates=basis_gates_all,\n",
    "    n_qubits=n_qubits,\n",
    "    depolarizing_error_1q=(1-0.54) * 1.89E-5,\n",
    "    depolarizing_error_2q=(1-0.255) * 1.05E-3,\n",
    "    amplitude_damping_error_1q=(0.54) * 1.89E-5\n",
    ")\n",
    "infidelity = run_mb(\n",
    "    noise_model=noise5,\n",
    "    qec_cycle_indices=qec_params\n",
    ")\n",
    "\n",
    "infidelities.append(infidelity)\n",
    "print(f\"Yes QEC: {infidelities}\")"
   ]
  },
  {
   "cell_type": "markdown",
   "id": "9c808ef2-242e-4b54-9ad9-c864c9bac2c4",
   "metadata": {},
   "source": [
    "# 6. + Readout errors"
   ]
  },
  {
   "cell_type": "code",
   "execution_count": null,
   "id": "388eeb6e-7799-45d0-a8fb-c651661196aa",
   "metadata": {},
   "outputs": [],
   "source": [
    "%load_ext autoreload\n",
    "%autoreload 2"
   ]
  },
  {
   "cell_type": "code",
   "execution_count": null,
   "id": "1bc3fb5d-89e6-4779-bb10-f7464246e75c",
   "metadata": {},
   "outputs": [],
   "source": [
    "noise6 = construct_noise_model(\n",
    "    basis_gates=basis_gates_all,\n",
    "    n_qubits=n_qubits,\n",
    "    depolarizing_error_1q=(1-0.54) * 1.89E-5,\n",
    "    depolarizing_error_2q=(1-0.255) * 1.05E-3,\n",
    "    amplitude_damping_error_1q=(0.54) * 1.89E-5,\n",
    "    **{\"readout_error_0|1\": 6E-4, \"readout_error_1|0\": 1.39E-3},\n",
    ")\n",
    "infidelity = run_mb(\n",
    "    noise_model=noise6,\n",
    "    qec_cycle_indices=qec_params\n",
    ")\n",
    "\n",
    "infidelities.append(infidelity)\n",
    "print(f\"Yes QEC: {infidelities}\")"
   ]
  },
  {
   "cell_type": "markdown",
   "id": "721d178e-da62-4f2c-bb46-a1668ea9c6e2",
   "metadata": {},
   "source": [
    "# Summary Plot"
   ]
  },
  {
   "cell_type": "code",
   "execution_count": null,
   "id": "e497628b-804f-4bfc-9d1a-0684d365f84b",
   "metadata": {},
   "outputs": [],
   "source": []
  }
 ],
 "metadata": {
  "kernelspec": {
   "display_name": "Python 3 (ipykernel)",
   "language": "python",
   "name": "python3"
  },
  "language_info": {
   "codemirror_mode": {
    "name": "ipython",
    "version": 3
   },
   "file_extension": ".py",
   "mimetype": "text/x-python",
   "name": "python",
   "nbconvert_exporter": "python",
   "pygments_lexer": "ipython3",
   "version": "3.13.7"
  }
 },
 "nbformat": 4,
 "nbformat_minor": 5
}

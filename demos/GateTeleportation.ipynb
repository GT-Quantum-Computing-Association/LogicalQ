{
 "cells": [
  {
   "cell_type": "code",
   "execution_count": null,
   "id": "c5119bcb",
   "metadata": {},
   "outputs": [
    {
     "data": {
      "text/html": [
       "<pre style=\"word-wrap: normal;white-space: pre;background: #fff0;line-height: 1.1;font-family: &quot;Courier New&quot;,Courier,monospace\">     ┌───┐      ░      ┌───┐ ░ ┌─┐   \n",
       "q_0: ┤ H ├──────░───■──┤ H ├─░─┤M├───\n",
       "     ├───┤      ░ ┌─┴─┐└───┘ ░ └╥┘┌─┐\n",
       "q_1: ┤ H ├──■───░─┤ X ├──────░──╫─┤M├\n",
       "     └───┘┌─┴─┐ ░ └───┘      ░  ║ └╥┘\n",
       "q_2: ─────┤ X ├─░────────────░──╫──╫─\n",
       "          └───┘ ░            ░  ║  ║ \n",
       "c: 2/═══════════════════════════╩══╩═\n",
       "                                0  1 </pre>"
      ],
      "text/plain": [
       "     ┌───┐      ░      ┌───┐ ░ ┌─┐   \n",
       "q_0: ┤ H ├──────░───■──┤ H ├─░─┤M├───\n",
       "     ├───┤      ░ ┌─┴─┐└───┘ ░ └╥┘┌─┐\n",
       "q_1: ┤ H ├──■───░─┤ X ├──────░──╫─┤M├\n",
       "     └───┘┌─┴─┐ ░ └───┘      ░  ║ └╥┘\n",
       "q_2: ─────┤ X ├─░────────────░──╫──╫─\n",
       "          └───┘ ░            ░  ║  ║ \n",
       "c: 2/═══════════════════════════╩══╩═\n",
       "                                0  1 "
      ]
     },
     "execution_count": 5,
     "metadata": {},
     "output_type": "execute_result"
    }
   ],
   "source": [
    "from qiskit import QuantumCircuit\n",
    "from qiskit.visualization import plot_circuit_layout, circuit_drawer\n",
    "\n",
    "# q0: data qubit (input state)\n",
    "# q1: ancilla (entangled) qubit\n",
    "# q2: target of teleportation\n",
    "qc = QuantumCircuit(3, 2)\n",
    "\n",
    "#entangle the other qubits\n",
    "qc.h(1)\n",
    "qc.cx(1, 2)\n",
    "qc.h(2)  #this can be any unitary gate \n",
    "qc.barrier()\n",
    "\n",
    "qc.cx(0, 1)\n",
    "qc.h(0)\n",
    "qc.barrier()\n",
    "\n",
    "# Measure q0 and q1: the goal is that when the state is teleported it is teleported \"through H gate\", so tagert qubit will hold H|state>\n",
    "qc.measure(0, 0)\n",
    "qc.measure(1, 1)\n",
    "\n",
    "qc.draw()\n"
   ]
  }
 ],
 "metadata": {
  "kernelspec": {
   "display_name": "qiskit_env",
   "language": "python",
   "name": "python3"
  },
  "language_info": {
   "codemirror_mode": {
    "name": "ipython",
    "version": 3
   },
   "file_extension": ".py",
   "mimetype": "text/x-python",
   "name": "python",
   "nbconvert_exporter": "python",
   "pygments_lexer": "ipython3",
   "version": "3.10.16"
  }
 },
 "nbformat": 4,
 "nbformat_minor": 5
}

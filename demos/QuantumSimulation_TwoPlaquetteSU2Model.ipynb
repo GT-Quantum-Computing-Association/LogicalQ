{
 "cells": [
  {
   "cell_type": "markdown",
   "id": "df8aabbf-268c-4670-9df4-592a9c44811f",
   "metadata": {},
   "source": [
    "# Imports"
   ]
  },
  {
   "cell_type": "code",
   "execution_count": null,
   "id": "f402e77a-57d7-46ee-b87a-b26621986421",
   "metadata": {},
   "outputs": [],
   "source": [
    "import numpy as np\n",
    "\n",
    "from qiskit import QuantumCircuit\n",
    "from qiskit.quantum_info import Statevector, state_fidelity\n",
    "\n",
    "from LogicalQ.Logical import LogicalCircuit, LogicalStatevector, logical_state_fidelity\n",
    "from LogicalQ.Library.QECCs import steane_code\n",
    "from LogicalQ.Library.HardwareModels import hardware_models_Quantinuum\n",
    "from LogicalQ.Execution import execute_circuits"
   ]
  },
  {
   "cell_type": "markdown",
   "id": "adfde229-28ad-493b-8f85-2c5720067ca3",
   "metadata": {},
   "source": [
    "# Two Plaquette SU(2) Hamiltonian Model"
   ]
  },
  {
   "cell_type": "code",
   "execution_count": null,
   "id": "287603ba-c4e4-4d5d-ae7e-392a0fff783c",
   "metadata": {},
   "outputs": [],
   "source": [
    "def TwoPlaquetteSU2TrotterStep(qc, x, t):\n",
    "    qc.cx(1, 0)\n",
    "        \n",
    "    qc.ry(-1/2 * x * t, 0)\n",
    "    qc.rz(-3/8 * t, 0)\n",
    "    \n",
    "    qc.cx(1, 0)\n",
    "    \n",
    "    qc.ry(-3/2 * x * t, 0)\n",
    "    qc.rz(-9/8 * t, 1)\n",
    "    \n",
    "    qc.rz(-9/4 * t, 0)\n",
    "    qc.ry(-3 * x * t, 1)\n",
    "\n",
    "    qc.cx(0, 1)\n",
    "\n",
    "    qc.ry(-1 * x * t, 1)\n",
    "    \n",
    "    qc.cx(0, 1)\n",
    "\n",
    "    qc.ry(-3/2 * x * t, 0)\n",
    "    qc.rz(-9/8 * t, 1)\n",
    "\n",
    "    qc.cx(1, 0)\n",
    "\n",
    "    qc.rz(-3/8 * t, 0)\n",
    "    qc.ry(-1/2 * x * t, 0)\n",
    "\n",
    "    qc.cx(1, 0)\n",
    "\n",
    "def TwoPlaquetteSU2(x, dt, Nt, measure=True, mitigation=False):\n",
    "    qc = QuantumCircuit(2)\n",
    "    \n",
    "    # Physical pass\n",
    "    for _ in range(Nt):\n",
    "        TwoPlaquetteSU2TrotterStep(qc, x, dt)\n",
    "\n",
    "    if measure:\n",
    "        qc.measure_all()\n",
    "\n",
    "    # Mitigation passes\n",
    "    if mitigation:\n",
    "        # Forward-time half-pass\n",
    "        for _ in range(Nt//2):\n",
    "            TwoPlaquetteSU2TrotterStep(qc, x, dt)\n",
    "        # Backward-time half-pass\n",
    "        for _ in range(Nt//2):\n",
    "            TwoPlaquetteSU2TrotterStep(qc, x, -dt)\n",
    "\n",
    "        if measure:\n",
    "            qc.measure_all()\n",
    "\n",
    "    return qc"
   ]
  },
  {
   "cell_type": "code",
   "execution_count": null,
   "id": "b35ec29f-8b77-4225-b802-ad00138e4249",
   "metadata": {
    "scrolled": true
   },
   "outputs": [],
   "source": [
    "qc = TwoPlaquetteSU2(2, 0.1, 1, measure=True, mitigation=False)\n",
    "qc.draw(\"mpl\")"
   ]
  },
  {
   "cell_type": "markdown",
   "id": "4eec400d-a49b-476c-af60-820e62b772c8",
   "metadata": {},
   "source": [
    "# Exact Simulation"
   ]
  },
  {
   "cell_type": "code",
   "execution_count": null,
   "id": "ad55a439-a203-4094-91bb-fa96ede6c209",
   "metadata": {},
   "outputs": [],
   "source": [
    "qc_no_meas = TwoPlaquetteSU2(2, 0.1, 1, measure=False, mitigation=False)\n",
    "\n",
    "sv_exact = Statevector(qc_no_meas)\n",
    "sv_exact.draw(\"latex\")"
   ]
  },
  {
   "cell_type": "markdown",
   "id": "b49c8fa0-bc26-4213-8854-486792c4545b",
   "metadata": {},
   "source": [
    "# Physical QuantumCircuit Simulation"
   ]
  },
  {
   "cell_type": "code",
   "execution_count": null,
   "id": "cdd58a7f-aaa9-4405-91e6-b71bf8f46934",
   "metadata": {},
   "outputs": [],
   "source": [
    "result_physical = execute_circuits(\n",
    "    qc,\n",
    "    backend=\"aer_simulator\", method=\"statevector\",\n",
    "    hardware_model=hardware_models_Quantinuum[\"H2-2\"], coupling_map=None,\n",
    "    shots=int(1E6)\n",
    ")[0]\n",
    "result_physical"
   ]
  },
  {
   "cell_type": "code",
   "execution_count": null,
   "id": "0e4ca0a3-e891-492c-83d1-d0d6f351c7b2",
   "metadata": {},
   "outputs": [],
   "source": [
    "counts = result_physical.get_counts()\n",
    "total_counts = sum(list(counts.values()))\n",
    "counts, total_counts"
   ]
  },
  {
   "cell_type": "code",
   "execution_count": null,
   "id": "5446ad56-5302-4f98-8bff-e3cef001c269",
   "metadata": {},
   "outputs": [],
   "source": [
    "amplitudes = []\n",
    "for o in range(2**2):\n",
    "    outcome_bin = bin(o)[2:].zfill(2)\n",
    "    \n",
    "    amplitudes.append((counts.get(outcome_bin, 0.0)/total_counts)**0.5)\n",
    "\n",
    "sv = Statevector(amplitudes)\n",
    "sv.draw(\"latex\")"
   ]
  },
  {
   "cell_type": "code",
   "execution_count": null,
   "id": "daebfcea-f740-4230-b91c-123b3c64ba30",
   "metadata": {},
   "outputs": [],
   "source": [
    "fidelity_physical = state_fidelity(sv_exact, sv)\n",
    "fidelity_physical"
   ]
  },
  {
   "cell_type": "markdown",
   "id": "6cf5e77d-45ca-4166-9984-7e84a403615c",
   "metadata": {},
   "source": [
    "# LogicalCircuit Simulation"
   ]
  },
  {
   "cell_type": "code",
   "execution_count": null,
   "id": "027123d7-bb0e-48b4-b05b-6401c2925e55",
   "metadata": {
    "scrolled": true
   },
   "outputs": [],
   "source": [
    "lqc = LogicalCircuit.from_physical_circuit(qc, **steane_code)\n",
    "lqc.draw(\"mpl\")"
   ]
  },
  {
   "cell_type": "code",
   "execution_count": null,
   "id": "8a46d74d-f624-469a-8c30-939ef55c0807",
   "metadata": {
    "scrolled": true
   },
   "outputs": [],
   "source": [
    "result_logical = execute_circuits(\n",
    "    lqc,\n",
    "    backend=\"aer_simulator\", method=\"statevector\",\n",
    "    hardware_model=hardware_models_Quantinuum[\"H2-2\"], coupling_map=None,\n",
    "    shots=int(1E3)\n",
    ")[0]\n",
    "result_logical"
   ]
  },
  {
   "cell_type": "code",
   "execution_count": null,
   "id": "38cc45cc-967b-46d2-aff8-d62aac815919",
   "metadata": {
    "scrolled": true
   },
   "outputs": [],
   "source": [
    "counts = result_logical.get_counts()\n",
    "counts"
   ]
  },
  {
   "cell_type": "code",
   "execution_count": null,
   "id": "be420dcf-d9b0-4acf-8c94-5daeb5cf476b",
   "metadata": {},
   "outputs": [],
   "source": [
    "logical_counts = lqc.get_logical_counts(counts)\n",
    "logical_counts"
   ]
  },
  {
   "cell_type": "code",
   "execution_count": null,
   "id": "e2d261e0-85a1-485e-a0b5-2ac4e64b56a7",
   "metadata": {},
   "outputs": [],
   "source": [
    "lsv = LogicalStatevector.from_counts(counts, lqc.n_logical_qubits, **steane_code)\n",
    "lsv.draw(\"latex\")"
   ]
  },
  {
   "cell_type": "code",
   "execution_count": null,
   "id": "f0900309-6c2b-4e7b-9b1c-cb4b7d7c928b",
   "metadata": {},
   "outputs": [],
   "source": [
    "fidelity_logical = logical_state_fidelity(sv_exact, lsv)\n",
    "fidelity_logical"
   ]
  },
  {
   "cell_type": "markdown",
   "id": "8bee9e2b-e217-45c9-8716-ddf1df6175ef",
   "metadata": {},
   "source": [
    "# Quantinuum Hardware Execution"
   ]
  },
  {
   "cell_type": "code",
   "execution_count": null,
   "id": "1b676390-9ce6-4f59-8a00-797406af90ff",
   "metadata": {
    "scrolled": true
   },
   "outputs": [],
   "source": [
    "result_hardware = execute_circuits(\n",
    "    lqc_su2,\n",
    "    backend=\"quantinuum_H2-2E\",\n",
    "    shots=int(1E3)\n",
    ")\n",
    "result_hardware"
   ]
  },
  {
   "cell_type": "code",
   "execution_count": null,
   "id": "ed7964dd-8546-4954-a323-a52f718db73b",
   "metadata": {},
   "outputs": [],
   "source": []
  }
 ],
 "metadata": {
  "kernelspec": {
   "display_name": "Python 3 (ipykernel)",
   "language": "python",
   "name": "python3"
  },
  "language_info": {
   "codemirror_mode": {
    "name": "ipython",
    "version": 3
   },
   "file_extension": ".py",
   "mimetype": "text/x-python",
   "name": "python",
   "nbconvert_exporter": "python",
   "pygments_lexer": "ipython3",
   "version": "3.13.7"
  }
 },
 "nbformat": 4,
 "nbformat_minor": 5
}

{
 "cells": [
  {
   "cell_type": "markdown",
   "id": "df8aabbf-268c-4670-9df4-592a9c44811f",
   "metadata": {},
   "source": [
    "# Imports"
   ]
  },
  {
   "cell_type": "code",
   "execution_count": null,
   "id": "f402e77a-57d7-46ee-b87a-b26621986421",
   "metadata": {},
   "outputs": [],
   "source": [
    "import numpy as np\n",
    "\n",
    "from qiskit import QuantumCircuit\n",
    "from LogicalQ.Logical import LogicalCircuit\n",
    "from LogicalQ.Library.QECCs import steane_code\n",
    "from LogicalQ.Library.HardwareModels import hardware_models_Quantinuum\n",
    "from LogicalQ.Execution import execute_circuits"
   ]
  },
  {
   "cell_type": "markdown",
   "id": "adfde229-28ad-493b-8f85-2c5720067ca3",
   "metadata": {},
   "source": [
    "# Two Plaquette SU(2) Hamiltonian Model"
   ]
  },
  {
   "cell_type": "code",
   "execution_count": null,
   "id": "287603ba-c4e4-4d5d-ae7e-392a0fff783c",
   "metadata": {},
   "outputs": [],
   "source": [
    "def TwoPlaquetteSU2TrotterStep(lqc, x, t):\n",
    "    lqc.cx(1, 0)\n",
    "        \n",
    "    lqc.ry(-1/2 * x * t, 0)\n",
    "    lqc.rz(-3/8 * t, 0)\n",
    "    \n",
    "    lqc.cx(1, 0)\n",
    "    \n",
    "    lqc.ry(-3/2 * x * t, 0)\n",
    "    lqc.rz(-9/8 * t, 1)\n",
    "    \n",
    "    lqc.rz(-9/4 * t, 0)\n",
    "    lqc.ry(-3 * x * t, 1)\n",
    "\n",
    "    lqc.cx(0, 1)\n",
    "\n",
    "    lqc.ry(-1 * x * t, 1)\n",
    "\n",
    "    lqc.cx(0, 1)\n",
    "\n",
    "    lqc.ry(-3/2 * x * t, 0)\n",
    "    lqc.rz(-9/8 * t, 1)\n",
    "\n",
    "    lqc.cx(1, 0)\n",
    "\n",
    "    lqc.rz(-3/8 * t, 0)\n",
    "    lqc.ry(-1/2 * x * t, 0)\n",
    "\n",
    "    lqc.cx(1, 0)\n",
    "\n",
    "def TwoPlaquetteSU2(x, dt, Nt, mitigation=False):\n",
    "    lqc = LogicalCircuit(2, **steane_code)\n",
    "    lqc.encode([0,1], initial_states=[0,0])\n",
    "\n",
    "    for _ in range(Nt):\n",
    "        TwoPlaquetteSU2TrotterStep(lqc, x, dt)\n",
    "    lqc.measure_all()\n",
    "\n",
    "    if mitigation:\n",
    "        for _ in range(Nt):\n",
    "            TwoPlaquetteSU2TrotterStep(lqc, x, dt)\n",
    "        for _ in range(Nt):\n",
    "            TwoPlaquetteSU2TrotterStep(lqc, x, -dt)\n",
    "        \n",
    "        lqc.measure_all()\n",
    "\n",
    "    return lqc"
   ]
  },
  {
   "cell_type": "markdown",
   "id": "6cf5e77d-45ca-4166-9984-7e84a403615c",
   "metadata": {},
   "source": [
    "# LogicalCircuit Simulations"
   ]
  },
  {
   "cell_type": "code",
   "execution_count": null,
   "id": "027123d7-bb0e-48b4-b05b-6401c2925e55",
   "metadata": {
    "scrolled": true
   },
   "outputs": [],
   "source": [
    "lqc_su2 = TwoPlaquetteSU2(2, 0.1, 10, mitigation=False)\n",
    "lqc_su2.draw(\"mpl\")"
   ]
  },
  {
   "cell_type": "code",
   "execution_count": null,
   "id": "8a46d74d-f624-469a-8c30-939ef55c0807",
   "metadata": {},
   "outputs": [],
   "source": [
    "result = execute_circuits(\n",
    "    lqc_su2,\n",
    "    backend=\"aer_simulator\", method=\"statevector\",\n",
    "    hardware_model=hardware_models_Quantinuum[\"H2-2\"], coupling_map=None,\n",
    "    shots=int(1E3)\n",
    ")"
   ]
  },
  {
   "cell_type": "markdown",
   "id": "8bee9e2b-e217-45c9-8716-ddf1df6175ef",
   "metadata": {},
   "source": [
    "# Quantinuum Hardware Execution"
   ]
  },
  {
   "cell_type": "code",
   "execution_count": null,
   "id": "1b676390-9ce6-4f59-8a00-797406af90ff",
   "metadata": {},
   "outputs": [],
   "source": [
    "result = execute_circuits(\n",
    "    lqc_su2,\n",
    "    backend=\"quantinuum_H2-2E\",\n",
    "    shots=int(1E3)\n",
    ")"
   ]
  },
  {
   "cell_type": "code",
   "execution_count": null,
   "id": "ed7964dd-8546-4954-a323-a52f718db73b",
   "metadata": {},
   "outputs": [],
   "source": []
  }
 ],
 "metadata": {
  "kernelspec": {
   "display_name": "Python 3 (ipykernel)",
   "language": "python",
   "name": "python3"
  },
  "language_info": {
   "codemirror_mode": {
    "name": "ipython",
    "version": 3
   },
   "file_extension": ".py",
   "mimetype": "text/x-python",
   "name": "python",
   "nbconvert_exporter": "python",
   "pygments_lexer": "ipython3",
   "version": "3.13.7"
  }
 },
 "nbformat": 4,
 "nbformat_minor": 5
}

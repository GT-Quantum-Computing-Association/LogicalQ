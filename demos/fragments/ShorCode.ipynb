{
 "cells": [
  {
   "cell_type": "markdown",
   "id": "a707e576",
   "metadata": {},
   "source": [
    "### Background\n",
    "\n",
    "The Shor code was the first quantum error correction scheme to be devised, composed of the concatenation of bit-flip and phase-flip QEC codes.\n",
    "\n",
    "\n",
    "\n",
    "Related Resources:\n",
    "- https://www.tandfonline.com/doi/full/10.1080/00107514.2019.1667078#d1e111"
   ]
  },
  {
   "cell_type": "markdown",
   "id": "231d0c3c",
   "metadata": {},
   "source": [
    "### Imports"
   ]
  },
  {
   "cell_type": "code",
   "execution_count": 1,
   "id": "f708a883",
   "metadata": {},
   "outputs": [],
   "source": [
    "from qiskit import QuantumCircuit, QuantumRegister, AncillaRegister, ClassicalRegister\n",
    "from qiskit.quantum_info import Statevector\n",
    "import numpy as np\n",
    "from itertools import combinations, product\n",
    "from qiskit.quantum_info import Pauli\n",
    "from qiskit_aer import AerSimulator\n",
    "from qiskit import QuantumCircuit, transpile\n",
    "from qiskit.transpiler import PassManager\n",
    "from LogicalQ.Transpilation.UnBox import UnBoxTask\n",
    "from tqdm.notebook import tqdm\n",
    "import qiskit.circuit.classical.expr as expr\n",
    "import random\n"
   ]
  },
  {
   "cell_type": "markdown",
   "id": "9453d445",
   "metadata": {},
   "source": [
    "### Define message"
   ]
  },
  {
   "cell_type": "code",
   "execution_count": 2,
   "id": "653a7b50",
   "metadata": {},
   "outputs": [],
   "source": [
    "m = 1"
   ]
  },
  {
   "cell_type": "markdown",
   "id": "37683f6b",
   "metadata": {},
   "source": [
    "### Encoding"
   ]
  },
  {
   "cell_type": "code",
   "execution_count": 3,
   "id": "21f3413c",
   "metadata": {},
   "outputs": [],
   "source": [
    "def encode(qc, m):\n",
    "    if m == 1:\n",
    "        qc.x(0)\n",
    "\n",
    "    # bit flip scope\n",
    "    qc.cx(0, 3)\n",
    "    qc.cx(0, 6)\n",
    "\n",
    "    # convert to phase space\n",
    "    qc.h(0)\n",
    "    qc.h(3)\n",
    "    qc.h(6)\n",
    "\n",
    "    # phase flip scope\n",
    "    for k in range(3):\n",
    "        for l in [1,2]:\n",
    "            qc.cx(3 * k, 3 * k + l)\n",
    "    \n",
    "    return qc\n",
    "\n",
    "circuit = QuantumCircuit(9)\n",
    "circuit = encode(circuit, m)\n",
    "#circuit.draw(output='mpl')"
   ]
  },
  {
   "cell_type": "markdown",
   "id": "05548cee",
   "metadata": {},
   "source": [
    "### Syndrome Calculation\n",
    "\n",
    "We "
   ]
  },
  {
   "cell_type": "code",
   "execution_count": 4,
   "id": "d11e4f62",
   "metadata": {},
   "outputs": [],
   "source": [
    "# The original Shor code is degenerate, and has some excess stabilizers\n",
    "stabilizers = [\n",
    "    \"ZZIIIIIII\",\n",
    "    \"IZZIIIIII\",\n",
    "    \"IIIZZIIII\",\n",
    "    \"IIIIZZIII\",\n",
    "    \"IIIIIIZZI\",\n",
    "    \"IIIIIIIZZ\",\n",
    "    \"XXXXXXIII\",\n",
    "    \"IIIXXXXXX\"\n",
    "]\n",
    "\n",
    "# Symmetries can be removed to yield a reduced set\n",
    "# See https://arxiv.org/pdf/quant-ph/0508131 for discussion\n",
    "\"\"\"\n",
    "stabilizers = [\n",
    "    \"XXXXXXIII\",\n",
    "    \"XXXIIIXXX\",\n",
    "    \"ZZIZZIZZI\",\n",
    "    \"IZZIZZIZZ\"\n",
    "]\n",
    "\"\"\"\n",
    "\n",
    "shor_code = {\n",
    "    \"label\": (9,1,3),\n",
    "    \"stabilizer_tableau\": stabilizers,\n",
    "}"
   ]
  },
  {
   "cell_type": "markdown",
   "id": "aaade63d",
   "metadata": {},
   "source": [
    "### Syndrome Measurement"
   ]
  },
  {
   "cell_type": "code",
   "execution_count": 63,
   "id": "ad2f3dc2",
   "metadata": {},
   "outputs": [],
   "source": [
    "def append_registers(qc: QuantumCircuit, stabilizers):\n",
    "    \"\"\"\n",
    "    Appends registers for the ancilla qubits / classical bits that are necessary to measure stabilizers.\n",
    "    \"\"\"\n",
    "    a_reg = AncillaRegister(len(stabilizers))\n",
    "    c_reg = ClassicalRegister(len(stabilizers))\n",
    "    message_reg = ClassicalRegister(1, 'message')\n",
    "    qc.add_register(a_reg)\n",
    "    qc.add_register(c_reg)\n",
    "    qc.add_register(message_reg)\n",
    "    \n",
    "    return qc"
   ]
  },
  {
   "cell_type": "code",
   "execution_count": 84,
   "id": "b85b5880",
   "metadata": {},
   "outputs": [],
   "source": [
    "\n",
    "def c_pauli(qc: QuantumCircuit, pauli_str: str, control_qubits, target_qubit: int):\n",
    "    if len(pauli_str) != len(control_qubits):\n",
    "        raise ValueError(f\"pauli_str has length {len(pauli_str)} whereas target_qubits has length {len(control_qubits)}\")\n",
    "\n",
    "    for i in range(len(control_qubits)):\n",
    "        match pauli_str[i]:\n",
    "            case \"I\":\n",
    "                pass\n",
    "            case \"X\":\n",
    "                qc.h(control_qubits[i])\n",
    "                qc.cx(control_qubits[i], target_qubit)\n",
    "                qc.h(control_qubits[i])\n",
    "            case \"Y\":\n",
    "                qc.sdg(control_qubits[i])\n",
    "                qc.h(control_qubits[i])\n",
    "                qc.cx(control_qubits[i], target_qubit)\n",
    "                qc.h(control_qubits[i])\n",
    "                qc.s(control_qubits[i])\n",
    "            case \"Z\":\n",
    "                qc.cx(control_qubits[i], target_qubit)\n",
    "                \n",
    "    return qc\n",
    "\n",
    "def measure_stabilizers(qc: QuantumCircuit, stabilizers, method:str = \"sequential\"):\n",
    "    if method == \"sequential\":\n",
    "        # Apply controlled measurements\n",
    "        for i in range(len(stabilizers)):\n",
    "            with qc.box(label=f\"Stabilizer Measurement {i}\"):\n",
    "                #qc.h(qc.ancillas[i])\n",
    "                qc = c_pauli(qc, stabilizers[i], list(range(9)), qc.ancillas[i])\n",
    "                #qc.h(qc.ancillas[i])\n",
    "\n",
    "                # Measure ancillas to c_bits\n",
    "                qc.measure(qc.ancillas[i], qc.clbits[i])\n",
    "    elif method == \"interwoven\":\n",
    "        for j in range(len(stabilizers[0])):\n",
    "            for i in range(len(stabilizers)):\n",
    "                qc = c_pauli(qc, stabilizers[i][j], [j], qc.ancillas[i])\n",
    "                \n",
    "        for i in range(len(stabilizers)):\n",
    "            # Measure ancillas to c_bits\n",
    "            qc.measure(qc.ancillas[i], qc.clbits[i])\n",
    "    else:\n",
    "        raise ValueError(f\"'{method}' is not a valid value for method.\")\n",
    "        \n",
    "    return qc"
   ]
  },
  {
   "cell_type": "code",
   "execution_count": 7,
   "id": "9438e708",
   "metadata": {},
   "outputs": [],
   "source": [
    "circuit = append_registers(circuit, stabilizers)\n",
    "circuit = measure_stabilizers(circuit, stabilizers, method=\"interwoven\")\n",
    "#circuit.draw(output='mpl')"
   ]
  },
  {
   "cell_type": "code",
   "execution_count": null,
   "id": "1493b316",
   "metadata": {},
   "outputs": [],
   "source": [
    "import copy\n",
    "\n",
    "\n",
    "def generate_parity_check_matrix(qecc):\n",
    "    n, k, d = qecc[\"label\"]\n",
    "    stabilizers = qecc[\"stabilizer_tableau\"]\n",
    "    \n",
    "    syndromes = {}\n",
    "\n",
    "def generate_weight_n_errors(num_qubits: int, weight: int, pauli_ops: list[str] = ['X', 'Y', 'Z']) -> list[Pauli]:\n",
    "    \"\"\"\n",
    "    Generates a list of all unique Qiskit Pauli objects of a specific weight.\n",
    "\n",
    "    Args:\n",
    "        num_qubits: The total number of qubits in the system.\n",
    "        weight: The target weight of the Pauli errors to generate (N).\n",
    "        pauli_ops: A list of single-qubit Pauli operators to use (e.g., ['X', 'Z']).\n",
    "                   Defaults to ['X', 'Y', 'Z'].\n",
    "\n",
    "    Returns:\n",
    "        A list of Qiskit Pauli objects representing all unique weight-N errors.\n",
    "        Returns an empty list if weight is invalid.\n",
    "    \"\"\"\n",
    "    if not 0 < weight <= num_qubits:\n",
    "        print(f\"Error: Weight must be between 1 and {num_qubits}.\")\n",
    "        return []\n",
    "\n",
    "    errors = set()\n",
    "    \n",
    "    qubit_indices_combinations = combinations(range(num_qubits), weight)\n",
    "    for qubit_indices in qubit_indices_combinations:  \n",
    "          \n",
    "        gate_combinations_for_indices = product(pauli_ops, repeat=weight)\n",
    "        for gates in gate_combinations_for_indices:\n",
    "            \n",
    "            pauli_list = ['I'] * num_qubits\n",
    "            for i, gate in enumerate(gates):\n",
    "                qubit_index = qubit_indices[i]\n",
    "                pauli_list[qubit_index] = gate\n",
    "            pauli_string = \"\".join(pauli_list[::-1])\n",
    "            errors.add(Pauli(pauli_string))\n",
    "    \n",
    "    return list(errors)\n",
    "\n",
    "def generate_syndrome_lookup_table(qecc, verbose = False):\n",
    "    n, k, d = qecc[\"label\"]\n",
    "    stabilizers = qecc[\"stabilizer_tableau\"]\n",
    "    \n",
    "    keys = [f'{x:0{len(stabilizers)}b}' for x in range(2**len(stabilizers))] # 0 is good, 1 is error\n",
    "    #keys.remove(\"0\" * len(stabilizers))\n",
    "    \n",
    "    lookup_table = {\n",
    "        key: None for key in keys\n",
    "    }\n",
    "    \n",
    "    simulator = AerSimulator()\n",
    "\n",
    "    unbox_pm = PassManager([UnBoxTask()])\n",
    "    base_circuit = QuantumCircuit(n)\n",
    "    base_circuit: QuantumCircuit = encode(base_circuit, 0)\n",
    "    \n",
    "    t = (d - 1) // 2\n",
    "    for weight in range(1, 1 + t):\n",
    "        errors = generate_weight_n_errors(n, weight)\n",
    "        \n",
    "        num_filled_entries = np.sum(bool(np.array(list(lookup_table.values()) == None)))\n",
    "        if verbose:\n",
    "            print(f\"Percentage of entries filled: {num_filled_entries}/{len(keys)} = {np.round(num_filled_entries / len(keys), 2)}%\")\n",
    "            print(f\"Iterating over weight {weight}\")\n",
    "        for error in tqdm(errors):\n",
    "            qc = copy.deepcopy(base_circuit)\n",
    "            qc.compose(error.to_instruction(), inplace=True)\n",
    "            qc = append_registers(qc, stabilizers)\n",
    "            qc = measure_stabilizers(qc, stabilizers)\n",
    "            \n",
    "            transpiled_qc = unbox_pm.run(qc)\n",
    "            transpiled_qc = transpile(transpiled_qc, simulator)\n",
    "            result = simulator.run(transpiled_qc, shots=1).result()\n",
    "            counts = result.get_counts()\n",
    "            #syndrome = list(counts.keys())[0]\n",
    "            syndrome = str(list(counts.keys())[0][2:])\n",
    "            if lookup_table[syndrome] == None:\n",
    "                lookup_table[syndrome] = error\n",
    "            else:\n",
    "                print(\"Conflict\")\n",
    "                print(\"syndrome\", syndrome)\n",
    "                print(lookup_table[syndrome])\n",
    "                print(error)\n",
    "                \n",
    "            is_lookup_table_filled = not any(v is None for v in lookup_table.values()) #bool(np.array(list(lookup_table.values()) == None).any())\n",
    "            if is_lookup_table_filled:\n",
    "                return lookup_table\n",
    "            \n",
    "    return {key: value for key, value in lookup_table.items() if value is not None}"
   ]
  },
  {
   "cell_type": "code",
   "execution_count": 9,
   "id": "67a731ff",
   "metadata": {},
   "outputs": [
    {
     "data": {
      "text/plain": [
       "np.int64(2)"
      ]
     },
     "execution_count": 9,
     "metadata": {},
     "output_type": "execute_result"
    }
   ],
   "source": [
    "np.sum(np.array([True, True]))"
   ]
  },
  {
   "cell_type": "code",
   "execution_count": 85,
   "id": "1f7965f6",
   "metadata": {},
   "outputs": [
    {
     "data": {
      "application/vnd.jupyter.widget-view+json": {
       "model_id": "889d65611ca546e281b54dfdd3b2acb2",
       "version_major": 2,
       "version_minor": 0
      },
      "text/plain": [
       "  0%|          | 0/27 [00:00<?, ?it/s]"
      ]
     },
     "metadata": {},
     "output_type": "display_data"
    },
    {
     "name": "stdout",
     "output_type": "stream",
     "text": [
      "Conflict\n",
      "syndrome 01000000\n",
      "IIIIIIZII\n",
      "IIIIIIIIZ\n",
      "Conflict\n",
      "syndrome 10000000\n",
      "ZIIIIIIII\n",
      "IZIIIIIII\n",
      "Conflict\n",
      "syndrome 10000000\n",
      "ZIIIIIIII\n",
      "IIZIIIIII\n",
      "Conflict\n",
      "syndrome 01000000\n",
      "IIIIIIZII\n",
      "IIIIIIIZI\n",
      "Conflict\n",
      "syndrome 11000000\n",
      "IIIIZIIII\n",
      "IIIIIZIII\n",
      "Conflict\n",
      "syndrome 11000000\n",
      "IIIIZIIII\n",
      "IIIZIIIII\n"
     ]
    },
    {
     "data": {
      "text/plain": [
       "{'00000001': Pauli('IIIIIIIIX'),\n",
       " '00000010': Pauli('IIIIIIXII'),\n",
       " '00000011': Pauli('IIIIIIIXI'),\n",
       " '00000100': Pauli('IIIIIXIII'),\n",
       " '00001000': Pauli('IIIXIIIII'),\n",
       " '00001100': Pauli('IIIIXIIII'),\n",
       " '00010000': Pauli('IIXIIIIII'),\n",
       " '00100000': Pauli('XIIIIIIII'),\n",
       " '00110000': Pauli('IXIIIIIII'),\n",
       " '01000000': Pauli('IIIIIIZII'),\n",
       " '01000001': Pauli('IIIIIIIIY'),\n",
       " '01000010': Pauli('IIIIIIYII'),\n",
       " '01000011': Pauli('IIIIIIIYI'),\n",
       " '10000000': Pauli('ZIIIIIIII'),\n",
       " '10010000': Pauli('IIYIIIIII'),\n",
       " '10100000': Pauli('YIIIIIIII'),\n",
       " '10110000': Pauli('IYIIIIIII'),\n",
       " '11000000': Pauli('IIIIZIIII'),\n",
       " '11000100': Pauli('IIIIIYIII'),\n",
       " '11001000': Pauli('IIIYIIIII'),\n",
       " '11001100': Pauli('IIIIYIIII')}"
      ]
     },
     "execution_count": 85,
     "metadata": {},
     "output_type": "execute_result"
    }
   ],
   "source": [
    "lookup_table = generate_syndrome_lookup_table(shor_code)\n",
    "lookup_table"
   ]
  },
  {
   "cell_type": "code",
   "execution_count": null,
   "id": "336ffc72",
   "metadata": {},
   "outputs": [],
   "source": [
    "keys = [f'{x:0{len(stabilizers)}b}' for x in range(2**len(stabilizers))] # 1 is good, 0 is error\n",
    "keys.remove(\"1\" * len(stabilizers))\n",
    "\n",
    "lookup_table = {\n",
    "    key: None for key in keys\n",
    "}\n",
    "lookup_table['01001001'] = [1, 2, 3, 4]\n",
    "not bool(np.array(list(lookup_table.values()) == None).any())"
   ]
  },
  {
   "cell_type": "code",
   "execution_count": null,
   "id": "82b7c7a2",
   "metadata": {},
   "outputs": [],
   "source": [
    "circuit = QuantumCircuit(9)\n",
    "circuit = encode(circuit, m)\n",
    "circuit.x(3)\n",
    "circuit = append_registers(circuit, stabilizers)\n",
    "circuit = measure_stabilizers(circuit, stabilizers)\n",
    "\n",
    "\n",
    "simulator = AerSimulator()\n",
    "\n",
    "pm = PassManager([UnBoxTask()])\n",
    "circuit = pm.run(circuit)\n",
    "\n",
    "circuit = transpile(circuit, simulator)\n",
    "result = simulator.run(circuit, shots=1).result()\n",
    "counts = result.get_counts()\n",
    "syndrome_str = list(counts.keys())[0]\n",
    "syndrome_str"
   ]
  },
  {
   "cell_type": "markdown",
   "id": "17fcbc85",
   "metadata": {},
   "source": [
    "### Error correction"
   ]
  },
  {
   "cell_type": "code",
   "execution_count": 64,
   "id": "6a2e24a8",
   "metadata": {},
   "outputs": [],
   "source": [
    "def correct_errors(qc: QuantumCircuit, qecc, syndromes_lookup = None):\n",
    "    # Record syndrome from clbits\n",
    "    \n",
    "    def cbit_and(cbits, values):\n",
    "        result = expr.bit_not(cbits[0]) if values[0] == 0 else expr.lift(cbits[0])\n",
    "        for n in range(len(cbits)-1):\n",
    "            result = expr.bit_and(result, expr.bit_not(cbits[n+1])) if values[n+1] == 0 else expr.bit_and(result, cbits[n+1])\n",
    "        return result\n",
    "    \n",
    "    if syndromes_lookup is None:\n",
    "        syndromes_lookup = generate_syndrome_lookup_table(qecc)\n",
    "    \n",
    "    for syndrome, correction in list(syndromes_lookup.items()):\n",
    "        syndrome_bits = [int(bit) for bit in syndrome[::-1]]\n",
    "        with qc.if_test(cbit_and(qc.cregs[0], syndrome_bits)) as _else:\n",
    "            qc.compose(correction.to_instruction(), list(range(9)), inplace=True)\n",
    "    \n",
    "    return qc"
   ]
  },
  {
   "cell_type": "markdown",
   "id": "1507d421",
   "metadata": {},
   "source": [
    "### Decoding"
   ]
  },
  {
   "cell_type": "code",
   "execution_count": 47,
   "id": "44d9bce9",
   "metadata": {},
   "outputs": [],
   "source": [
    "def decode(qc):\n",
    "    decoder = QuantumCircuit(9, name=\"Decoder\")\n",
    "    \n",
    "    # phase-flip\n",
    "    phase_decoder = QuantumCircuit(3)\n",
    "    phase_decoder.cx(0, 1)\n",
    "    phase_decoder.cx(0, 2)\n",
    "    phase_decoder.ccx(1, 2, 0)\n",
    "    \n",
    "    for i in range(3):\n",
    "        # Apply inner decoder to each block\n",
    "        decoder.compose(phase_decoder, [3*i, 3*i+1, 3*i+2], inplace=True)\n",
    "        \n",
    "    decoder.h([0, 3, 6])\n",
    "    \n",
    "    # bit-flip\n",
    "    decoder.cx(0, 3)\n",
    "    decoder.cx(0, 6)\n",
    "    decoder.ccx(3, 6, 0)\n",
    "    \n",
    "    return qc.compose(decoder)\n",
    "\n",
    "def unencode(qc):\n",
    "    \"\"\"Applies the inverse of the Shor code encoding circuit without correction.\"\"\"\n",
    "    \n",
    "    encoder_circuit = QuantumCircuit(9, name=\"Encoder\")\n",
    "    encoder_circuit = encode(encoder_circuit, m=0) # m=0 means no initial X gate\n",
    "\n",
    "    inverter = encoder_circuit.inverse()\n",
    "    inverter.name = \"Unencoder\"\n",
    "    \n",
    "    return qc.compose(inverter)\n",
    "\n",
    "circuit = decode(circuit)\n",
    "#circuit.draw(output='mpl')"
   ]
  },
  {
   "cell_type": "markdown",
   "id": "d5177be6",
   "metadata": {},
   "source": [
    "We check that we properly recover the message when QEC is used. First individually, then in a loop over possible errors on the circuit."
   ]
  },
  {
   "cell_type": "code",
   "execution_count": 14,
   "id": "c5e236a6",
   "metadata": {},
   "outputs": [
    {
     "data": {
      "application/vnd.jupyter.widget-view+json": {
       "model_id": "1f55b1baad284556a751dc2a14ace341",
       "version_major": 2,
       "version_minor": 0
      },
      "text/plain": [
       "  0%|          | 0/27 [00:00<?, ?it/s]"
      ]
     },
     "metadata": {},
     "output_type": "display_data"
    },
    {
     "data": {
      "text/plain": [
       "True"
      ]
     },
     "execution_count": 14,
     "metadata": {},
     "output_type": "execute_result"
    }
   ],
   "source": [
    "message = 1\n",
    "\n",
    "circuit = QuantumCircuit(9)\n",
    "circuit = encode(circuit, message)\n",
    "circuit.x(3)\n",
    "circuit = append_registers(circuit, stabilizers)\n",
    "circuit = measure_stabilizers(circuit, stabilizers)\n",
    "circuit = correct_errors(circuit, shor_code)\n",
    "circuit = decode(circuit)\n",
    "circuit.measure(0, 0)\n",
    "\n",
    "simulator = AerSimulator()\n",
    "\n",
    "pm = PassManager([UnBoxTask()])\n",
    "circuit = pm.run(circuit)\n",
    "\n",
    "circuit = transpile(circuit, simulator)\n",
    "result = simulator.run(circuit, shots=1).result()\n",
    "decoded_message = list(result.get_counts().keys())[0][-1]\n",
    "decoded_message == str(message)"
   ]
  },
  {
   "cell_type": "code",
   "execution_count": null,
   "id": "a9abcc77",
   "metadata": {},
   "outputs": [],
   "source": [
    "def run_full_pass(simulator, message, syndromes_lookup, error = None, QEC = False):\n",
    "    circuit = QuantumCircuit(9)\n",
    "    \n",
    "    circuit = encode(circuit, message)\n",
    "    if error is not None:\n",
    "        circuit.compose(error.to_instruction(), qubits=list(range(9)), inplace=True)\n",
    "    circuit = append_registers(circuit, stabilizers)\n",
    "    if QEC:\n",
    "        circuit = measure_stabilizers(circuit, stabilizers)\n",
    "        circuit = correct_errors(circuit, shor_code, syndromes_lookup)\n",
    "    #circuit = decode(circuit)\n",
    "    circuit = unencode(circuit)\n",
    "    #circuit.measure(0, 0)\n",
    "    circuit.save_statevector()\n",
    "    circuit.measure(0, circuit.cregs[1][0])\n",
    "\n",
    "    pm = PassManager([UnBoxTask()])\n",
    "    circuit = pm.run(circuit)\n",
    "\n",
    "    circuit = transpile(circuit, simulator)\n",
    "    result = simulator.run(circuit, shots=1).result()\n",
    "    #decoded_message = list(result.get_counts().keys())[0][-1]\n",
    "    full_key = list(result.get_counts().keys())[0]\n",
    "    decoded_message = full_key.split(' ')[0]\n",
    "    sv = result.get_statevector()\n",
    "    sv.parti\n",
    "    return decoded_message"
   ]
  },
  {
   "cell_type": "code",
   "execution_count": 86,
   "id": "83e76a5a",
   "metadata": {},
   "outputs": [
    {
     "data": {
      "application/vnd.jupyter.widget-view+json": {
       "model_id": "4da1b030ed4e45b18962ec81493d2bff",
       "version_major": 2,
       "version_minor": 0
      },
      "text/plain": [
       "  0%|          | 0/27 [00:00<?, ?it/s]"
      ]
     },
     "metadata": {},
     "output_type": "display_data"
    },
    {
     "name": "stdout",
     "output_type": "stream",
     "text": [
      "Conflict\n",
      "syndrome 01000000\n",
      "IIIIIIZII\n",
      "IIIIIIIIZ\n",
      "Conflict\n",
      "syndrome 10000000\n",
      "ZIIIIIIII\n",
      "IZIIIIIII\n",
      "Conflict\n",
      "syndrome 10000000\n",
      "ZIIIIIIII\n",
      "IIZIIIIII\n",
      "Conflict\n",
      "syndrome 01000000\n",
      "IIIIIIZII\n",
      "IIIIIIIZI\n",
      "Conflict\n",
      "syndrome 11000000\n",
      "IIIIZIIII\n",
      "IIIIIZIII\n",
      "Conflict\n",
      "syndrome 11000000\n",
      "IIIIZIIII\n",
      "IIIZIIIII\n"
     ]
    },
    {
     "data": {
      "application/vnd.jupyter.widget-view+json": {
       "model_id": "1cfd8375247e4753a63ec809c3cd3f39",
       "version_major": 2,
       "version_minor": 0
      },
      "text/plain": [
       "  0%|          | 0/27 [00:00<?, ?it/s]"
      ]
     },
     "metadata": {},
     "output_type": "display_data"
    },
    {
     "name": "stdout",
     "output_type": "stream",
     "text": [
      "Success rate of message recovery without QEC: 77.78%\n",
      "Success rate of message recovery with QEC: 100.0%\n"
     ]
    },
    {
     "data": {
      "application/vnd.jupyter.widget-view+json": {
       "model_id": "ce861c08b142476a82327988c4c6ea7d",
       "version_major": 2,
       "version_minor": 0
      },
      "text/plain": [
       "  0%|          | 0/100 [00:00<?, ?it/s]"
      ]
     },
     "metadata": {},
     "output_type": "display_data"
    },
    {
     "name": "stdout",
     "output_type": "stream",
     "text": [
      "Success rate of message recovery without QEC: 70.0%\n",
      "Success rate of message recovery with QEC: 70.0%\n"
     ]
    },
    {
     "data": {
      "application/vnd.jupyter.widget-view+json": {
       "model_id": "634e3e27e3f14db08a017711902f660e",
       "version_major": 2,
       "version_minor": 0
      },
      "text/plain": [
       "  0%|          | 0/100 [00:00<?, ?it/s]"
      ]
     },
     "metadata": {},
     "output_type": "display_data"
    },
    {
     "name": "stdout",
     "output_type": "stream",
     "text": [
      "Success rate of message recovery without QEC: 53.0%\n",
      "Success rate of message recovery with QEC: 56.0%\n"
     ]
    }
   ],
   "source": [
    "max_samples = 100\n",
    "\n",
    "simulator = AerSimulator()\n",
    "syndromes_lookup = generate_syndrome_lookup_table(shor_code)\n",
    "\n",
    "no_QEC_success_rates = []\n",
    "QEC_success_rates = []\n",
    "\n",
    "for weight in range(1,4):\n",
    "    \n",
    "    no_QEC_history = []\n",
    "    QEC_history = []\n",
    "    \n",
    "    errors = generate_weight_n_errors(num_qubits=9, weight=weight)\n",
    "    if len(errors) > max_samples:\n",
    "        errors = random.sample(errors, max_samples)\n",
    "\n",
    "    for error in tqdm(errors):\n",
    "        message = random.randint(0, 1)\n",
    "        \n",
    "        # QEC first\n",
    "        decoded_message = run_full_pass(simulator, message, syndromes_lookup, error, QEC=True)\n",
    "        QEC_history.append(decoded_message == str(message))\n",
    "        \n",
    "        # no QEC next\n",
    "        decoded_message = run_full_pass(simulator, message, syndromes_lookup, error, QEC=False)\n",
    "        no_QEC_history.append(decoded_message == str(message))\n",
    "    \n",
    "    no_QEC_success_rate = np.round(np.sum(np.array(no_QEC_history)) / len(no_QEC_history) * 100, 2)    \n",
    "    QEC_success_rate = np.round(np.sum(np.array(QEC_history)) / len(QEC_history) * 100, 2)\n",
    "    \n",
    "    print(f\"Success rate of message recovery without QEC: {no_QEC_success_rate}%\")\n",
    "    print(f\"Success rate of message recovery with QEC: {QEC_success_rate}%\")\n",
    "    \n",
    "    QEC_success_rates.append(QEC_success_rate)\n",
    "    no_QEC_success_rates.append(no_QEC_success_rate)"
   ]
  },
  {
   "cell_type": "code",
   "execution_count": 89,
   "id": "b3692be0",
   "metadata": {},
   "outputs": [
    {
     "data": {
      "text/plain": [
       "<matplotlib.legend.Legend at 0x2552779d250>"
      ]
     },
     "execution_count": 89,
     "metadata": {},
     "output_type": "execute_result"
    },
    {
     "data": {
      "image/png": "[encoded data removed]",
      "text/plain": [
       "<Figure size 640x480 with 1 Axes>"
      ]
     },
     "metadata": {},
     "output_type": "display_data"
    }
   ],
   "source": [
    "import matplotlib.pyplot as plt\n",
    "plt.plot(np.arange(1, 1+len(QEC_success_rates)), QEC_success_rates, label=\"With Shor Code QEC\")\n",
    "plt.plot(np.arange(1, 1+len(no_QEC_success_rates)), no_QEC_success_rates, label=\"Without QEC\")\n",
    "plt.xlabel(\"Weight of induced errors\")\n",
    "plt.ylabel(\"Success rate of message recovery (%)\")\n",
    "plt.ylim([0,105])\n",
    "plt.xlim([0.75, len(QEC_success_rates) + 0.25])\n",
    "plt.legend()"
   ]
  }
 ],
 "metadata": {
  "kernelspec": {
   "display_name": "venv (3.12.6)",
   "language": "python",
   "name": "python3"
  },
  "language_info": {
   "codemirror_mode": {
    "name": "ipython",
    "version": 3
   },
   "file_extension": ".py",
   "mimetype": "text/x-python",
   "name": "python",
   "nbconvert_exporter": "python",
   "pygments_lexer": "ipython3",
   "version": "3.12.6"
  }
 },
 "nbformat": 4,
 "nbformat_minor": 5
}

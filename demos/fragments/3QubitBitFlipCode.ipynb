{
 "cells": [
  {
   "cell_type": "markdown",
   "metadata": {},
   "source": [
    "This is an implementation of the 3 qubit bit flip code in Qiskit. This is meant to be an introduction to Qiskit for those who haven't used it before. "
   ]
  },
  {
   "cell_type": "code",
   "execution_count": 51,
   "metadata": {},
   "outputs": [],
   "source": [
    "from qiskit import QuantumRegister, ClassicalRegister, QuantumCircuit, transpile\n",
    "from qiskit.circuit.library import MCMT, ZGate\n",
    "\n",
    "import numpy as np\n",
    "\n",
    "nqubits_main = 3\n",
    "nqubits_anc = 2\n",
    "nqubits_tot = nqubits_main + nqubits_anc\n",
    "\n",
    "nbits = 2\n",
    "\n",
    "qreg_q = QuantumRegister(nqubits_tot) # initialize a quantum register of 5 qubits 3 for encoding and two for measurement\n",
    "creg_q = ClassicalRegister(nbits) # initialize a classical register to store the measurements of the two ancilla qubits\n",
    "\n",
    "bitflip_circuit = QuantumCircuit(nqubits_tot, nbits)"
   ]
  },
  {
   "cell_type": "code",
   "execution_count": 52,
   "metadata": {},
   "outputs": [
    {
     "data": {
      "image/png": "[encoded data removed]",
      "text/plain": [
       "<Figure size 287.496x284.278 with 1 Axes>"
      ]
     },
     "execution_count": 52,
     "metadata": {},
     "output_type": "execute_result"
    }
   ],
   "source": [
    "# step 1: encoding\n",
    "encoding_circuit = QuantumCircuit(nqubits_main) # create a quantum circuit object\n",
    "\n",
    "encoding_circuit.cx(0, 1)\n",
    "encoding_circuit.cx(0, 2)\n",
    "\n",
    "encoding_gate = encoding_circuit.to_gate(label=\"$U_{enc}$\")\n",
    "bitflip_circuit.append(encoding_gate, [0,1,2])\n",
    "bitflip_circuit.barrier()\n",
    "\n",
    "encoding_circuit.draw('mpl')"
   ]
  },
  {
   "cell_type": "markdown",
   "metadata": {},
   "source": [
    "Next we need to implement a quantum circuit that measures the stabilizers. This corresponds to measuring the $Z_1Z_3$ and $Z_2 Z_3$ stabilizers\n",
    "which we can do by measuring each individual stabilizer. For the Z operator this corresponds to using a single CNOT. We can then measure the first stabilizer $Z_1Z_3$. For a crude non optimized case, each stabilizer will require one ancilla qubit. Since Qiskit doesn't have the larger controlled multi qubit gates as a type, we will have to define the gate ourselves:"
   ]
  },
  {
   "cell_type": "code",
   "execution_count": 60,
   "metadata": {},
   "outputs": [
    {
     "name": "stdout",
     "output_type": "stream",
     "text": [
      "        ┌───┐   ┌───┐┌───┐                                        \n",
      "q_0: ───┤ H ├───┤ X ├┤ H ├────────────────────────────────────────\n",
      "        ├───┤   └─┬─┘├───┤┌───┐                                   \n",
      "q_1: ───┤ H ├─────┼──┤ X ├┤ H ├───────────────────────────────────\n",
      "        ├───┤     │  └─┬─┘├───┤   ┌───┐   ┌───┐┌───┐   ┌───┐      \n",
      "q_2: ───┤ H ├─────┼────┼──┤ X ├───┤ H ├───┤ H ├┤ X ├───┤ H ├──────\n",
      "     ┌──┴───┴──┐  │    │  └─┬─┘┌──┴───┴──┐└┬─┬┘└─┬─┘   └───┘      \n",
      "q_3: ┤ U2(0,π) ├──■────┼────■──┤ U2(0,π) ├─┤M├───┼────────────────\n",
      "     ├─────────┤       │       └─────────┘ └╥┘   │  ┌─────────┐┌─┐\n",
      "q_4: ┤ U2(0,π) ├───────■────────────────────╫────■──┤ U2(0,π) ├┤M├\n",
      "     └─────────┘                            ║       └─────────┘└╥┘\n",
      "c: 2/═══════════════════════════════════════╩═══════════════════╩═\n",
      "                                            0                   1 \n"
     ]
    },
    {
     "data": {
      "image/png": "[encoded data removed]",
      "text/plain": [
       "<Figure size 789.163x535.111 with 1 Axes>"
      ]
     },
     "execution_count": 60,
     "metadata": {},
     "output_type": "execute_result"
    }
   ],
   "source": [
    "# step 2 - syndrome measurement (Z-axis)\n",
    "syndrome_meas_circuit = QuantumCircuit(nqubits_tot, nbits)\n",
    "\n",
    "# apply hadamard gates to ancilla qubits to allow for unitary measurment along the Z-axis\n",
    "syndrome_meas_circuit.h([3, 4])\n",
    "\n",
    "# measure stabilizers Z1Z3 and Z2Z3\n",
    "# note that qiskit qubit indexing is reversed, making these stabilizers appear \"backwards\"\n",
    "qcz13 = QuantumCircuit(3)\n",
    "qcz13.pauli('ZIZ', [0,1,2])\n",
    "\n",
    "qcz23 = QuantumCircuit(3)\n",
    "qcz23.pauli('ZZI', [0,1,2])\n",
    "\n",
    "# alternatively, you could reverse the qubit order - but only if you did this during encoding:\n",
    "# qcz13 = QuantumCircuit(3)\n",
    "# qcz13.pauli('ZIZ', [2,1,0])\n",
    "\n",
    "# qcz23 = QuantumCircuit(3)\n",
    "# qcz23.pauli('IZZ', [2,1,0])\n",
    "\n",
    "stabilizerZ1Z3 = qcz13.to_gate(label='$U_{ZIZ}$').control(1)\n",
    "syndrome_meas_circuit.append(stabilizerZ1Z3, [3,0,1,2])\n",
    "\n",
    "stabilizerZ2Z3 = qcz23.to_gate(label='$U_{ZZI}$').control(1)\n",
    "syndrome_meas_circuit.append(stabilizerZ2Z3, [4,0,1,2])\n",
    "\n",
    "syndrome_meas_circuit.h([3, 4])\n",
    "\n",
    "syndrome_meas_circuit.measure(3, 0)\n",
    "syndrome_meas_circuit.measure(4, 1)\n",
    "\n",
    "print(syndrome_meas_circuit.decompose())\n",
    "syndrome_meas_circuit.draw('mpl')"
   ]
  },
  {
   "cell_type": "code",
   "execution_count": null,
   "metadata": {},
   "outputs": [],
   "source": []
  }
 ],
 "metadata": {
  "kernelspec": {
   "display_name": "Python 3 (ipykernel)",
   "language": "python",
   "name": "python3"
  },
  "language_info": {
   "codemirror_mode": {
    "name": "ipython",
    "version": 3
   },
   "file_extension": ".py",
   "mimetype": "text/x-python",
   "name": "python",
   "nbconvert_exporter": "python",
   "pygments_lexer": "ipython3",
   "version": "3.13.3"
  },
  "toc": {
   "base_numbering": 1,
   "nav_menu": {},
   "number_sections": true,
   "sideBar": true,
   "skip_h1_title": false,
   "title_cell": "Table of Contents",
   "title_sidebar": "Contents",
   "toc_cell": false,
   "toc_position": {},
   "toc_section_display": true,
   "toc_window_display": false
  },
  "varInspector": {
   "cols": {
    "lenName": 16,
    "lenType": 16,
    "lenVar": 40
   },
   "kernels_config": {
    "python": {
     "delete_cmd_postfix": "",
     "delete_cmd_prefix": "del ",
     "library": "var_list.py",
     "varRefreshCmd": "print(var_dic_list())"
    },
    "r": {
     "delete_cmd_postfix": ") ",
     "delete_cmd_prefix": "rm(",
     "library": "var_list.r",
     "varRefreshCmd": "cat(var_dic_list()) "
    }
   },
   "types_to_exclude": [
    "module",
    "function",
    "builtin_function_or_method",
    "instance",
    "_Feature"
   ],
   "window_display": false
  }
 },
 "nbformat": 4,
 "nbformat_minor": 4
}

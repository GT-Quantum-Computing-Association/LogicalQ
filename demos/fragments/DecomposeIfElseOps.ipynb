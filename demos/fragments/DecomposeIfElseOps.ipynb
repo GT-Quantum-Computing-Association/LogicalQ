{
 "cells": [
  {
   "cell_type": "code",
   "execution_count": null,
   "id": "18b99c4e-025b-40e4-bce1-f2db93fa441f",
   "metadata": {},
   "outputs": [],
   "source": [
    "from qiskit import QuantumRegister, ClassicalRegister, QuantumCircuit\n",
    "from qiskit.circuit.classical import expr\n",
    "\n",
    "from qiskit.transpiler import PassManager\n",
    "from LogicalQ.Transpilation.DecomposeIfElseOps import DecomposeIfElseOpsTask\n",
    "\n",
    "from pytket.extensions.qiskit import qiskit_to_tk\n",
    "from pytket.circuit.display import render_circuit_jupyter as draw"
   ]
  },
  {
   "cell_type": "code",
   "execution_count": null,
   "id": "957522dc-9264-447d-98ef-bdd58e40fc7f",
   "metadata": {},
   "outputs": [],
   "source": [
    "def cbit_and(cbits, values):\n",
    "    result = expr.bit_not(cbits[0]) if values[0] == 0 else expr.lift(cbits[0])\n",
    "    for n in range(len(cbits)-1):\n",
    "        result = expr.bit_and(result, expr.bit_not(cbits[n+1])) if values[n+1] == 0 else expr.bit_and(result, cbits[n+1])\n",
    "    return result\n",
    "\n",
    "def cbit_xor(cbits):\n",
    "    result = expr.lift(cbits[0])\n",
    "    for n in range(len(cbits)-1):\n",
    "        result = expr.bit_xor(result, cbits[n+1])\n",
    "    return result"
   ]
  },
  {
   "cell_type": "code",
   "execution_count": null,
   "id": "ca6529a1-b819-4717-bda4-dea1d7f427ea",
   "metadata": {
    "scrolled": true
   },
   "outputs": [],
   "source": [
    "qreg = QuantumRegister(1, name=\"qreg\")\n",
    "qreg_setter = QuantumRegister(2, name=\"qsetter\")\n",
    "creg_A = ClassicalRegister(1, name=\"creg_A\")\n",
    "creg_B = ClassicalRegister(1, name=\"creg_B\")\n",
    "creg_C = ClassicalRegister(2, name=\"creg_C\")\n",
    "creg_D = ClassicalRegister(2, name=\"creg_D\")\n",
    "creg_E = ClassicalRegister(2, name=\"cintermediate_state\")\n",
    "creg_F = ClassicalRegister(5, name=\"creg_F\")\n",
    "\n",
    "qc = QuantumCircuit(qreg, qreg_setter, creg_A, creg_B, creg_C, creg_D, creg_E, creg_F)\n",
    "qc.x(qreg_setter[1])\n",
    "\n",
    "with qc.if_test((creg_A[0], 0)):\n",
    "    qc.measure(qreg_setter[1], creg_B[0])\n",
    "\n",
    "with qc.if_test(expr.lift(creg_A[0])):\n",
    "    qc.measure(qreg_setter[1], creg_B[0])\n",
    "\n",
    "with qc.if_test(expr.bit_not(creg_A[0])):\n",
    "    qc.measure(qreg_setter[1], creg_B[0])\n",
    "\n",
    "with qc.if_test(cbit_and([creg_A[0], creg_B[0]], [1, 0])) as _else:\n",
    "    qc.measure(qreg[0], creg_C[0])\n",
    "    \n",
    "    qc.measure(qreg_setter[0], creg_E[:])\n",
    "with _else:\n",
    "    qc.measure(qreg[0], creg_C[0])\n",
    "    \n",
    "    qc.measure(qreg_setter[1], creg_E[:])\n",
    "\n",
    "with qc.if_test(cbit_xor([creg_A[0], creg_B[0]])) as _else:\n",
    "    qc.measure(qreg_setter[1], creg_C[0])\n",
    "with _else:\n",
    "    qc.measure(qreg_setter[0], creg_C[0])\n",
    "\n",
    "with qc.if_test(cbit_and(creg_D, [1, 1])):\n",
    "    qc.measure(qreg_setter[0], creg_A)\n",
    "\n",
    "with qc.if_test(expr.bit_and(cbit_and(creg_C, [1, 1]), cbit_and(creg_D, [1,1]))) as _else:\n",
    "    qc.measure(qreg_setter[0], creg_A)\n",
    "with _else:\n",
    "    qc.measure(qreg_setter[1], creg_A)\n",
    "\n",
    "with qc.if_test(cbit_and(creg_C[:] + creg_D[:], [1, 1] + [1,1])) as _else:\n",
    "    qc.measure(qreg_setter[0], creg_A)\n",
    "with _else:\n",
    "    qc.measure(qreg_setter[1], creg_A)\n",
    "\n",
    "with qc.if_test(cbit_and(creg_F[:], [1]*creg_F.size)) as _else:\n",
    "    qc.measure(qreg_setter[0], creg_A)\n",
    "\n",
    "qc.draw(\"mpl\")"
   ]
  },
  {
   "cell_type": "code",
   "execution_count": null,
   "id": "ed99d880-b7b8-4383-8a43-a1996ace5c46",
   "metadata": {},
   "outputs": [],
   "source": [
    "pm = PassManager([DecomposeIfElseOpsTask()])\n",
    "qc_transpiled = qc.copy()\n",
    "qc_transpiled = pm.run(qc_transpiled)\n",
    "qc_transpiled.draw(\"mpl\")"
   ]
  },
  {
   "cell_type": "code",
   "execution_count": null,
   "id": "a68f2323-e57d-4368-81f6-d6213eaa0ad1",
   "metadata": {},
   "outputs": [],
   "source": [
    "circuit = qiskit_to_tk(qc_transpiled)"
   ]
  },
  {
   "cell_type": "code",
   "execution_count": null,
   "id": "9d619935-150b-4d55-a3e0-e5b81e08651e",
   "metadata": {},
   "outputs": [],
   "source": [
    "draw(circuit)"
   ]
  },
  {
   "cell_type": "code",
   "execution_count": null,
   "id": "2376dec7-2d09-45e5-bbf2-ab2097b9233d",
   "metadata": {},
   "outputs": [],
   "source": []
  }
 ],
 "metadata": {
  "kernelspec": {
   "display_name": "Python 3 (ipykernel)",
   "language": "python",
   "name": "python3"
  },
  "language_info": {
   "codemirror_mode": {
    "name": "ipython",
    "version": 3
   },
   "file_extension": ".py",
   "mimetype": "text/x-python",
   "name": "python",
   "nbconvert_exporter": "python",
   "pygments_lexer": "ipython3",
   "version": "3.13.7"
  }
 },
 "nbformat": 4,
 "nbformat_minor": 5
}

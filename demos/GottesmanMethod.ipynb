{
 "cells": [
  {
   "cell_type": "code",
   "execution_count": 1,
   "metadata": {},
   "outputs": [],
   "source": [
    "from qiskit import QuantumCircuit\n",
    "from qiskit.quantum_info.operators import Operator\n",
    "from qiskit.quantum_info import Statevector\n",
    "\n",
    "import numpy as np"
   ]
  },
  {
   "cell_type": "code",
   "execution_count": 2,
   "metadata": {
    "editable": true,
    "slideshow": {
     "slide_type": ""
    },
    "tags": []
   },
   "outputs": [],
   "source": [
    "# Dictionary of supported code tableaus\n",
    "code_library = {\n",
    "    \"phase_flip\": {\n",
    "        \"label\": (3,1,2),\n",
    "        \"tableau\": [\n",
    "            \"XXI\",\n",
    "            \"IXX\",\n",
    "        ],\n",
    "    },\n",
    "    \"four\": {\n",
    "        \"label\": (4,2,2),\n",
    "        \"tableau\": [\n",
    "            \"XZZX\",\n",
    "            \"YZZY\",\n",
    "        ],\n",
    "    },\n",
    "    \"five\": {\n",
    "        \"label\": (5,1,3),\n",
    "        \"tableau\": [\n",
    "            \"XZZXI\",\n",
    "            \"IXZZX\",\n",
    "            \"XIXZZ\",\n",
    "            \"ZXIXZ\",\n",
    "        ],\n",
    "    },\n",
    "    \"steane\": {\n",
    "        \"label\": (7,1,3),\n",
    "        \"tableau\": [\n",
    "            \"XXXXIII\",\n",
    "            \"IXXIIXX\",\n",
    "            \"XIXIXIX\",\n",
    "            \"ZZZZIII\",\n",
    "            \"IZZIIZZ\",\n",
    "            \"ZIZIZIZ\",\n",
    "        ],\n",
    "    },\n",
    "    \"eight\": {\n",
    "        \"label\": (8,3,3),\n",
    "        \"tableau\": [\n",
    "            \"XXXXXXXX\",\n",
    "            \"ZZZZZZZZ\",\n",
    "            \"IXIXYZYZ\",\n",
    "            \"IXZYIXZY\",\n",
    "            \"IYXZXZIY\",\n",
    "        ],\n",
    "    },\n",
    "}"
   ]
  },
  {
   "cell_type": "code",
   "execution_count": 3,
   "metadata": {},
   "outputs": [],
   "source": [
    "# Function which generates an encoding circuit for a given tableau\n",
    "def generate_encoding_circuit(code):\n",
    "    # The number of qubits is equal to the length of any stabilizer\n",
    "    label = code[\"label\"]\n",
    "    n, k, d = label\n",
    "    print(f\"Stabilizer code: [[{n}, {k}, {d}]]\")\n",
    "\n",
    "    tableau = code[\"tableau\"]\n",
    "    m = len(tableau)\n",
    "\n",
    "    # Step 1: Assemble generator matrix\n",
    "    G = np.zeros((2, m, n))\n",
    "    for i, stabilizer in enumerate(tableau):\n",
    "        for j, pauli_j in enumerate(stabilizer):\n",
    "            if pauli_j == \"X\":\n",
    "                G[0, i, j] = 1\n",
    "            elif pauli_j == \"Z\":\n",
    "                G[1, i, j] = 1\n",
    "            elif pauli_j == \"Y\":\n",
    "                G[:, i, j] = 1\n",
    "\n",
    "    print(\"Generator matrix (non-standard form):\\n\", G)\n",
    "\n",
    "    # Step 2: Perform Gaussian reduction in base 2\n",
    "    row = 0\n",
    "    for col in range(n):\n",
    "        pivot_row = None\n",
    "        for i in range(row, m):\n",
    "            if G[0, i, col] == 1:\n",
    "                pivot_row = i\n",
    "                break\n",
    "        \n",
    "        if pivot_row is None:\n",
    "            continue\n",
    "        \n",
    "        G[:, [row, pivot_row]] = G[:, [pivot_row, row]]\n",
    "\n",
    "        # Flip any other rows with a \"1\" in the same column\n",
    "        for i in range(m):\n",
    "            if i != row and G[0, i, col] == 1:\n",
    "                G[:, i] = G[:, i].astype(int) ^ G[:, row].astype(int)\n",
    "                # G[0, i] = G[0, i].astype(int) ^ G[0, row].astype(int)\n",
    "                # G[1, i] = G[1, i].astype(int) ^ G[1, row].astype(int)\n",
    "\n",
    "        # Move to the next row, if we haven't reached the end of the matrix\n",
    "        row += 1\n",
    "        if row >= m:\n",
    "            break\n",
    "\n",
    "    print(\"Generator matrix (standard form):\\n\", G)\n",
    "\n",
    "    # Step 3: Construct logical operators using Pauli vector representations\n",
    "    r = np.linalg.matrix_rank(G[0])\n",
    "    A_2 = G[0, 0:r, m:n] # r x k\n",
    "    C_1 = G[1, 0:r, r:m] # r x m-r\n",
    "    C_2 = G[1, 0:r, m:n] # r x k\n",
    "    E_2 = G[1, r:m, m:n] # m-r x k\n",
    "    # print(A_2)\n",
    "    # print(C_1)\n",
    "    # print(C_2)\n",
    "    # print(E_2)\n",
    "\n",
    "    X_L_vec = np.block([\n",
    "        [[np.zeros((k, r)),      E_2.T,              np.eye(k, k)    ]],\n",
    "        [[E_2.T @ C_1.T + C_2.T, np.zeros((k, m-r)), np.zeros((k, k))]]\n",
    "    ])\n",
    "    print(\"Logical X operator vector:\\n\", X_L_vec)\n",
    "\n",
    "    Z_L_vec = np.block([\n",
    "        [[np.zeros((k, r)), np.zeros((k, m-r)), np.zeros((k, k))]],\n",
    "        [[A_2.T,            np.zeros((k, m-r)), np.eye(k, k)    ]]\n",
    "    ])\n",
    "    print(\"Logical Z operator vector:\\n\", Z_L_vec)\n",
    "\n",
    "    # Step 4: Apply the respective stabilizers\n",
    "    encoding_circuit = QuantumCircuit(n)\n",
    "    for i in range(k):\n",
    "        for j in range(r, n-k):\n",
    "            if X_L_vec[0, i, j]:\n",
    "                encoding_circuit.cx(n-k+i, j)\n",
    "    \n",
    "    for i in range(r):\n",
    "        encoding_circuit.h(i)\n",
    "        for j in range(n):\n",
    "            if i != j:\n",
    "                if G[0, i, j]:\n",
    "                    encoding_circuit.cx(i, j)\n",
    "                elif G[1, i, j]:\n",
    "                    encoding_circuit.cz(i, j)\n",
    "                elif G[0, i, j] and G[1, i, j]:\n",
    "                    encoding_circuit.cx(i, j)\n",
    "                    encoding_circuit.cz(i, j)\n",
    " \n",
    "    return encoding_circuit"
   ]
  },
  {
   "cell_type": "code",
   "execution_count": 4,
   "metadata": {},
   "outputs": [
    {
     "name": "stdout",
     "output_type": "stream",
     "text": [
      "Stabilizer code: [[7, 1, 3]]\n",
      "Generator matrix (non-standard form):\n",
      " [[[1. 1. 1. 1. 0. 0. 0.]\n",
      "  [0. 1. 1. 0. 0. 1. 1.]\n",
      "  [1. 0. 1. 0. 1. 0. 1.]\n",
      "  [0. 0. 0. 0. 0. 0. 0.]\n",
      "  [0. 0. 0. 0. 0. 0. 0.]\n",
      "  [0. 0. 0. 0. 0. 0. 0.]]\n",
      "\n",
      " [[0. 0. 0. 0. 0. 0. 0.]\n",
      "  [0. 0. 0. 0. 0. 0. 0.]\n",
      "  [0. 0. 0. 0. 0. 0. 0.]\n",
      "  [1. 1. 1. 1. 0. 0. 0.]\n",
      "  [0. 1. 1. 0. 0. 1. 1.]\n",
      "  [1. 0. 1. 0. 1. 0. 1.]]]\n",
      "Generator matrix (standard form):\n",
      " [[[1. 0. 0. 1. 0. 1. 1.]\n",
      "  [0. 1. 0. 1. 1. 0. 1.]\n",
      "  [0. 0. 1. 1. 1. 1. 0.]\n",
      "  [0. 0. 0. 0. 0. 0. 0.]\n",
      "  [0. 0. 0. 0. 0. 0. 0.]\n",
      "  [0. 0. 0. 0. 0. 0. 0.]]\n",
      "\n",
      " [[0. 0. 0. 0. 0. 0. 0.]\n",
      "  [0. 0. 0. 0. 0. 0. 0.]\n",
      "  [0. 0. 0. 0. 0. 0. 0.]\n",
      "  [1. 1. 1. 1. 0. 0. 0.]\n",
      "  [0. 1. 1. 0. 0. 1. 1.]\n",
      "  [1. 0. 1. 0. 1. 0. 1.]]]\n",
      "Logical X operator vector:\n",
      " [[[0. 0. 0. 0. 1. 1. 1.]]\n",
      "\n",
      " [[0. 0. 0. 0. 0. 0. 0.]]]\n",
      "Logical Z operator vector:\n",
      " [[[0. 0. 0. 0. 0. 0. 0.]]\n",
      "\n",
      " [[1. 1. 0. 0. 0. 0. 1.]]]\n",
      "Number of gates: 14\n"
     ]
    },
    {
     "data": {
      "image/png": "[encoded data removed]",
      "text/plain": [
       "<Figure size 956.385x618.722 with 1 Axes>"
      ]
     },
     "execution_count": 4,
     "metadata": {},
     "output_type": "execute_result"
    }
   ],
   "source": [
    "encoding_circuit = generate_encoding_circuit(code_library[\"steane\"])\n",
    "print(\"Number of gates:\", sum(encoding_circuit.count_ops().values()))\n",
    "encoding_circuit.draw('mpl')"
   ]
  },
  {
   "cell_type": "code",
   "execution_count": 5,
   "metadata": {
    "editable": true,
    "slideshow": {
     "slide_type": ""
    },
    "tags": []
   },
   "outputs": [
    {
     "data": {
      "text/latex": [
       "$$\\frac{\\sqrt{2}}{4} |0000000\\rangle+\\frac{\\sqrt{2}}{4} |0001111\\rangle+\\frac{\\sqrt{2}}{4} |0110011\\rangle+\\frac{\\sqrt{2}}{4} |0111100\\rangle+\\frac{\\sqrt{2}}{4} |1010101\\rangle+\\frac{\\sqrt{2}}{4} |1011010\\rangle+\\frac{\\sqrt{2}}{4} |1100110\\rangle+\\frac{\\sqrt{2}}{4} |1101001\\rangle$$"
      ],
      "text/plain": [
       "<IPython.core.display.Latex object>"
      ]
     },
     "execution_count": 5,
     "metadata": {},
     "output_type": "execute_result"
    }
   ],
   "source": [
    "# Draw the state encoded by the circuit\n",
    "encoded_state = Statevector.from_instruction(encoding_circuit)\n",
    "encoded_state.draw('latex')"
   ]
  },
  {
   "cell_type": "code",
   "execution_count": null,
   "metadata": {},
   "outputs": [],
   "source": []
  }
 ],
 "metadata": {
  "kernelspec": {
   "display_name": "Python 3 (ipykernel)",
   "language": "python",
   "name": "python3"
  },
  "language_info": {
   "codemirror_mode": {
    "name": "ipython",
    "version": 3
   },
   "file_extension": ".py",
   "mimetype": "text/x-python",
   "name": "python",
   "nbconvert_exporter": "python",
   "pygments_lexer": "ipython3",
   "version": "3.13.1"
  }
 },
 "nbformat": 4,
 "nbformat_minor": 4
}

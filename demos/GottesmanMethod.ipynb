{
 "cells": [
  {
   "cell_type": "code",
   "execution_count": 1,
   "metadata": {},
   "outputs": [],
   "source": [
    "from qiskit import QuantumCircuit\n",
    "from qiskit.quantum_info.operators import Operator\n",
    "from qiskit.quantum_info import Statevector, partial_trace\n",
    "\n",
    "import numpy as np"
   ]
  },
  {
   "cell_type": "code",
   "execution_count": 2,
   "metadata": {
    "editable": true,
    "slideshow": {
     "slide_type": ""
    },
    "tags": []
   },
   "outputs": [],
   "source": [
    "# Dictionary of supported code tableaus\n",
    "code_library = {\n",
    "    \"phase_flip\": {\n",
    "        \"label\": (3,1,2),\n",
    "        \"tableau\": [\n",
    "            \"XXI\",\n",
    "            \"IXX\",\n",
    "        ],\n",
    "    },\n",
    "    \"four\": {\n",
    "        \"label\": (4,2,2),\n",
    "        \"tableau\": [\n",
    "            \"XZZX\",\n",
    "            \"YZZY\",\n",
    "        ],\n",
    "    },\n",
    "    \"five\": {\n",
    "        \"label\": (5,1,3),\n",
    "        \"tableau\": [\n",
    "            \"XZZXI\",\n",
    "            \"IXZZX\",\n",
    "            \"XIXZZ\",\n",
    "            \"ZXIXZ\",\n",
    "        ],\n",
    "    },\n",
    "    \"steane\": {\n",
    "        \"label\": (7,1,3),\n",
    "        \"tableau\": [\n",
    "            \"XXXXIII\",\n",
    "            \"IXXIIXX\",\n",
    "            \"XIXIXIX\",\n",
    "            \"ZZZZIII\",\n",
    "            \"IZZIIZZ\",\n",
    "            \"ZIZIZIZ\",\n",
    "        ],\n",
    "    },\n",
    "    \"eight\": {\n",
    "        \"label\": (8,3,3),\n",
    "        \"tableau\": [\n",
    "            \"XXXXXXXX\",\n",
    "            \"ZZZZZZZZ\",\n",
    "            \"IXIXYZYZ\",\n",
    "            \"IXZYIXZY\",\n",
    "            \"IYXZXZIY\",\n",
    "        ],\n",
    "    },\n",
    "}"
   ]
  },
  {
   "cell_type": "code",
   "execution_count": 15,
   "metadata": {},
   "outputs": [],
   "source": [
    "# Function which generates the code gadgets for a given tableau\n",
    "def generate_code(code):\n",
    "    # The number of qubits is equal to the length of any stabilizer\n",
    "    label = code[\"label\"]\n",
    "    n, k, d = label\n",
    "    print(f\"Stabilizer code: [[{n}, {k}, {d}]]\")\n",
    "\n",
    "    tableau = code[\"tableau\"]\n",
    "    m = len(tableau)\n",
    "\n",
    "    # Step 1: Assemble generator matrix\n",
    "    G = np.zeros((2, m, n))\n",
    "    for i, stabilizer in enumerate(tableau):\n",
    "        for j, pauli_j in enumerate(stabilizer):\n",
    "            if pauli_j == \"X\":\n",
    "                G[0, i, j] = 1\n",
    "            elif pauli_j == \"Z\":\n",
    "                G[1, i, j] = 1\n",
    "            elif pauli_j == \"Y\":\n",
    "                G[:, i, j] = 1\n",
    "\n",
    "    print(\"Generator matrix (non-standard form):\\n\", G)\n",
    "\n",
    "    # Step 2: Perform Gaussian reduction in base 2\n",
    "    row = 0\n",
    "    for col in range(n):\n",
    "        pivot_row = None\n",
    "        for i in range(row, m):\n",
    "            if G[0, i, col] == 1:\n",
    "                pivot_row = i\n",
    "                break\n",
    "        \n",
    "        if pivot_row is None:\n",
    "            continue\n",
    "        \n",
    "        G[:, [row, pivot_row]] = G[:, [pivot_row, row]]\n",
    "\n",
    "        # Flip any other rows with a \"1\" in the same column\n",
    "        for i in range(m):\n",
    "            if i != row and G[0, i, col] == 1:\n",
    "                G[:, i] = G[:, i].astype(int) ^ G[:, row].astype(int)\n",
    "                # G[0, i] = G[0, i].astype(int) ^ G[0, row].astype(int)\n",
    "                # G[1, i] = G[1, i].astype(int) ^ G[1, row].astype(int)\n",
    "\n",
    "        # Move to the next row, if we haven't reached the end of the matrix\n",
    "        row += 1\n",
    "        if row >= m:\n",
    "            break\n",
    "\n",
    "    print(\"Generator matrix (standard form):\\n\", G)\n",
    "\n",
    "    # Step 3: Construct logical operators using Pauli vector representations\n",
    "    r = np.linalg.matrix_rank(G[0])\n",
    "    A_2 = G[0, 0:r, m:n] # r x k\n",
    "    C_1 = G[1, 0:r, r:m] # r x m-r\n",
    "    C_2 = G[1, 0:r, m:n] # r x k\n",
    "    E_2 = G[1, r:m, m:n] # m-r x k\n",
    "    # print(A_2)\n",
    "    # print(C_1)\n",
    "    # print(C_2)\n",
    "    # print(E_2)\n",
    "\n",
    "    LogicalXVec = np.block([\n",
    "        [[np.zeros((k, r)),      E_2.T,              np.eye(k, k)    ]],\n",
    "        [[E_2.T @ C_1.T + C_2.T, np.zeros((k, m-r)), np.zeros((k, k))]]\n",
    "    ])\n",
    "    print(\"Logical X operator vector:\\n\", LogicalXVec)\n",
    "\n",
    "    LogicalZVec = np.block([\n",
    "        [[np.zeros((k, r)), np.zeros((k, m-r)), np.zeros((k, k))]],\n",
    "        [[A_2.T,            np.zeros((k, m-r)), np.eye(k, k)    ]]\n",
    "    ])\n",
    "    print(\"Logical Z operator vector:\\n\",  LogicalZVec)\n",
    "\n",
    "    # Step 4: Apply the respective stabilizers\n",
    "    encoding_circuit = QuantumCircuit(n)\n",
    "    for i in range(k):\n",
    "        for j in range(r, n-k):\n",
    "            if LogicalXVec[0, i, j]:\n",
    "                encoding_circuit.cx(n-k+i, j)\n",
    "    \n",
    "    for i in range(r):\n",
    "        encoding_circuit.h(i)\n",
    "        for j in range(n):\n",
    "            if i != j:\n",
    "                if G[0, i, j]:\n",
    "                    encoding_circuit.cx(i, j)\n",
    "                elif G[1, i, j]:\n",
    "                    encoding_circuit.cz(i, j)\n",
    "                elif G[0, i, j] and G[1, i, j]:\n",
    "                    encoding_circuit.cx(i, j)\n",
    "                    encoding_circuit.cz(i, j)\n",
    "    EncodeGate = encoding_circuit.to_gate(label=\"$U_{enc}$\")\n",
    "\n",
    "    # Step 5: Construct logical operators\n",
    "    # Logical PauliX - Gottesman's method\n",
    "    LogicalXCircuit = QuantumCircuit(n)\n",
    "    for i in range(k):\n",
    "        # X part\n",
    "        for q, bit in enumerate(LogicalXVec[0][i]):\n",
    "            if bit == 1:\n",
    "                LogicalXCircuit.x(q)\n",
    "        # Z part\n",
    "        for q, bit in enumerate(LogicalXVec[1][i]):\n",
    "            if bit == 1:\n",
    "                LogicalXCircuit.z(q)\n",
    "    LogicalXGate = LogicalXCircuit.to_gate(label=\"$X_L$\")\n",
    "\n",
    "    # Logical PauliZ - Gottesman's method\n",
    "    LogicalZCircuit = QuantumCircuit(n)\n",
    "    for i in range(k):\n",
    "        # X part\n",
    "        for q, bit in enumerate(LogicalZVec[0][i]):\n",
    "            if bit == 1:\n",
    "                LogicalZCircuit.x(q)\n",
    "        # Z part\n",
    "        for q, bit in enumerate(LogicalZVec[1][i]):\n",
    "            if bit == 1:\n",
    "                LogicalZCircuit.z(q)\n",
    "    LogicalZGate = LogicalZCircuit.to_gate(label=\"$Z_L$\")\n",
    "\n",
    "    # Logical Hadamard - Low and Chuang's linear combination of unitaries method\n",
    "    LogicalHCircuit = QuantumCircuit(n+1)\n",
    "    LogicalHCircuit.h(n)\n",
    "    \n",
    "    LogicalHCircuit.append(LogicalXGate.control(1), [n, *list(range(n))])\n",
    "\n",
    "    LogicalHCircuit.x(n)\n",
    "    LogicalHCircuit.append(LogicalZGate.control(1), [n, *list(range(n))])\n",
    "    LogicalHCircuit.x(n)\n",
    "    \n",
    "    LogicalHCircuit.h(n)\n",
    "    LogicalHGate = LogicalHCircuit.to_gate(label=\"$H_L$\")\n",
    " \n",
    "    return encoding_circuit, EncodeGate, LogicalXGate, LogicalZGate, LogicalHGate"
   ]
  },
  {
   "cell_type": "markdown",
   "metadata": {},
   "source": [
    "# Test case: Steane [[7,1,3]] code\n",
    "First, we test our function on the Steane code, a very simple CSS code for which we can quickly read off whether or not the output is correct."
   ]
  },
  {
   "cell_type": "code",
   "execution_count": 18,
   "metadata": {},
   "outputs": [
    {
     "name": "stdout",
     "output_type": "stream",
     "text": [
      "Stabilizer code: [[7, 1, 3]]\n",
      "Generator matrix (non-standard form):\n",
      " [[[1. 1. 1. 1. 0. 0. 0.]\n",
      "  [0. 1. 1. 0. 0. 1. 1.]\n",
      "  [1. 0. 1. 0. 1. 0. 1.]\n",
      "  [0. 0. 0. 0. 0. 0. 0.]\n",
      "  [0. 0. 0. 0. 0. 0. 0.]\n",
      "  [0. 0. 0. 0. 0. 0. 0.]]\n",
      "\n",
      " [[0. 0. 0. 0. 0. 0. 0.]\n",
      "  [0. 0. 0. 0. 0. 0. 0.]\n",
      "  [0. 0. 0. 0. 0. 0. 0.]\n",
      "  [1. 1. 1. 1. 0. 0. 0.]\n",
      "  [0. 1. 1. 0. 0. 1. 1.]\n",
      "  [1. 0. 1. 0. 1. 0. 1.]]]\n",
      "Generator matrix (standard form):\n",
      " [[[1. 0. 0. 1. 0. 1. 1.]\n",
      "  [0. 1. 0. 1. 1. 0. 1.]\n",
      "  [0. 0. 1. 1. 1. 1. 0.]\n",
      "  [0. 0. 0. 0. 0. 0. 0.]\n",
      "  [0. 0. 0. 0. 0. 0. 0.]\n",
      "  [0. 0. 0. 0. 0. 0. 0.]]\n",
      "\n",
      " [[0. 0. 0. 0. 0. 0. 0.]\n",
      "  [0. 0. 0. 0. 0. 0. 0.]\n",
      "  [0. 0. 0. 0. 0. 0. 0.]\n",
      "  [1. 1. 1. 1. 0. 0. 0.]\n",
      "  [0. 1. 1. 0. 0. 1. 1.]\n",
      "  [1. 0. 1. 0. 1. 0. 1.]]]\n",
      "Logical X operator vector:\n",
      " [[[0. 0. 0. 0. 1. 1. 1.]]\n",
      "\n",
      " [[0. 0. 0. 0. 0. 0. 0.]]]\n",
      "Logical Z operator vector:\n",
      " [[[0. 0. 0. 0. 0. 0. 0.]]\n",
      "\n",
      " [[1. 1. 0. 0. 0. 0. 1.]]]\n"
     ]
    },
    {
     "data": {
      "image/png": "[encoded data removed]",
      "text/plain": [
       "<Figure size 956.385x618.722 with 1 Axes>"
      ]
     },
     "execution_count": 18,
     "metadata": {},
     "output_type": "execute_result"
    }
   ],
   "source": [
    "encoding_circuit, EncodeGate, LogicalXGate, LogicalZGate, LogicalHGate = generate_code(code_library[\"steane\"])\n",
    "encoding_circuit.draw('mpl')"
   ]
  },
  {
   "cell_type": "code",
   "execution_count": 19,
   "metadata": {},
   "outputs": [
    {
     "name": "stdout",
     "output_type": "stream",
     "text": [
      "Total gate count: 14\n",
      "CNOT gate count: 11\n",
      "Circuit depth: 6\n"
     ]
    }
   ],
   "source": [
    "print(\"Total gate count:\", encoding_circuit.size())\n",
    "print(\"CNOT gate count:\", encoding_circuit.count_ops()[\"cx\"])\n",
    "print(\"Circuit depth:\", encoding_circuit.depth())"
   ]
  },
  {
   "cell_type": "code",
   "execution_count": 5,
   "metadata": {},
   "outputs": [],
   "source": [
    "qc_zero_L = QuantumCircuit(7+1).compose(EncodeGate, qubits=list(range(7)))\n",
    "qc_one_L = QuantumCircuit(7+1).compose(EncodeGate, qubits=list(range(7))).compose(LogicalXGate, qubits=list(range(7)))\n",
    "qc_plus_L = QuantumCircuit(7+1).compose(EncodeGate, qubits=list(range(7))).compose(LogicalHGate, qubits=list(range(7+1)))"
   ]
  },
  {
   "cell_type": "code",
   "execution_count": 31,
   "metadata": {},
   "outputs": [
    {
     "data": {
      "image/png": "[encoded data removed]",
      "text/plain": [
       "<Figure size 1374.44x702.333 with 1 Axes>"
      ]
     },
     "execution_count": 31,
     "metadata": {},
     "output_type": "execute_result"
    }
   ],
   "source": [
    "qc_plus_L.draw(\"mpl\")"
   ]
  },
  {
   "cell_type": "code",
   "execution_count": 6,
   "metadata": {},
   "outputs": [],
   "source": [
    "zero_L_full = Statevector.from_instruction(qc_zero_L)\n",
    "one_L_full = Statevector.from_instruction(qc_one_L)\n",
    "plus_L_full = Statevector.from_instruction(qc_plus_L)"
   ]
  },
  {
   "cell_type": "code",
   "execution_count": 7,
   "metadata": {},
   "outputs": [
    {
     "data": {
      "text/latex": [
       "$$\\frac{\\sqrt{2}}{4} |00000000\\rangle+\\frac{\\sqrt{2}}{4} |00001111\\rangle+\\frac{\\sqrt{2}}{4} |00110011\\rangle+\\frac{\\sqrt{2}}{4} |00111100\\rangle+\\frac{\\sqrt{2}}{4} |01010101\\rangle+\\frac{\\sqrt{2}}{4} |01011010\\rangle+\\frac{\\sqrt{2}}{4} |01100110\\rangle+\\frac{\\sqrt{2}}{4} |01101001\\rangle$$"
      ],
      "text/plain": [
       "<IPython.core.display.Latex object>"
      ]
     },
     "execution_count": 7,
     "metadata": {},
     "output_type": "execute_result"
    }
   ],
   "source": [
    "zero_L_full.draw(\"latex\")"
   ]
  },
  {
   "cell_type": "code",
   "execution_count": 8,
   "metadata": {},
   "outputs": [
    {
     "data": {
      "text/latex": [
       "$$\\frac{\\sqrt{2}}{4} |00010110\\rangle+\\frac{\\sqrt{2}}{4} |00011001\\rangle+\\frac{\\sqrt{2}}{4} |00100101\\rangle+\\frac{\\sqrt{2}}{4} |00101010\\rangle+\\frac{\\sqrt{2}}{4} |01000011\\rangle+\\frac{\\sqrt{2}}{4} |01001100\\rangle+\\frac{\\sqrt{2}}{4} |01110000\\rangle+\\frac{\\sqrt{2}}{4} |01111111\\rangle$$"
      ],
      "text/plain": [
       "<IPython.core.display.Latex object>"
      ]
     },
     "execution_count": 8,
     "metadata": {},
     "output_type": "execute_result"
    }
   ],
   "source": [
    "one_L_full.draw(\"latex\")"
   ]
  },
  {
   "cell_type": "code",
   "execution_count": 9,
   "metadata": {},
   "outputs": [
    {
     "data": {
      "text/latex": [
       "$$0.1767766953 |00000000\\rangle+0.1767766953 |00001111\\rangle+0.1767766953 |00010110\\rangle+0.1767766953 |00011001\\rangle+0.1767766953 |00100101\\rangle+0.1767766953 |00101010\\rangle + \\ldots +0.1767766953 |11011010\\rangle+0.1767766953 |11100110\\rangle+0.1767766953 |11101001\\rangle-0.1767766953 |11110000\\rangle-0.1767766953 |11111111\\rangle$$"
      ],
      "text/plain": [
       "<IPython.core.display.Latex object>"
      ]
     },
     "execution_count": 9,
     "metadata": {},
     "output_type": "execute_result"
    }
   ],
   "source": [
    "plus_L_full.draw(\"latex\")"
   ]
  },
  {
   "cell_type": "code",
   "execution_count": 10,
   "metadata": {},
   "outputs": [],
   "source": [
    "zero_L = partial_trace(zero_L_full, [7])\n",
    "one_L = partial_trace(one_L_full, [7])\n",
    "plus_L = partial_trace(plus_L_full, [7])"
   ]
  },
  {
   "cell_type": "code",
   "execution_count": 11,
   "metadata": {},
   "outputs": [
    {
     "name": "stdout",
     "output_type": "stream",
     "text": [
      "8.0 (128, 128)\n"
     ]
    },
    {
     "data": {
      "text/latex": [
       "$$\\frac{\\sqrt{2}}{4} |0000000\\rangle+\\frac{\\sqrt{2}}{4} |0001111\\rangle+\\frac{\\sqrt{2}}{4} |0110011\\rangle+\\frac{\\sqrt{2}}{4} |0111100\\rangle+\\frac{\\sqrt{2}}{4} |1010101\\rangle+\\frac{\\sqrt{2}}{4} |1011010\\rangle+\\frac{\\sqrt{2}}{4} |1100110\\rangle+\\frac{\\sqrt{2}}{4} |1101001\\rangle$$"
      ],
      "text/plain": [
       "<IPython.core.display.Latex object>"
      ]
     },
     "execution_count": 11,
     "metadata": {},
     "output_type": "execute_result"
    }
   ],
   "source": [
    "print(np.sqrt(np.count_nonzero(zero_L)), np.shape(one_L))\n",
    "zero_L.to_statevector().draw(\"latex\")"
   ]
  },
  {
   "cell_type": "code",
   "execution_count": 12,
   "metadata": {},
   "outputs": [
    {
     "name": "stdout",
     "output_type": "stream",
     "text": [
      "8.0 (128, 128)\n"
     ]
    },
    {
     "data": {
      "text/latex": [
       "$$\\frac{\\sqrt{2}}{4} |0010110\\rangle+\\frac{\\sqrt{2}}{4} |0011001\\rangle+\\frac{\\sqrt{2}}{4} |0100101\\rangle+\\frac{\\sqrt{2}}{4} |0101010\\rangle+\\frac{\\sqrt{2}}{4} |1000011\\rangle+\\frac{\\sqrt{2}}{4} |1001100\\rangle+\\frac{\\sqrt{2}}{4} |1110000\\rangle+\\frac{\\sqrt{2}}{4} |1111111\\rangle$$"
      ],
      "text/plain": [
       "<IPython.core.display.Latex object>"
      ]
     },
     "execution_count": 12,
     "metadata": {},
     "output_type": "execute_result"
    }
   ],
   "source": [
    "print(np.sqrt(np.count_nonzero(one_L)), np.shape(one_L))\n",
    "one_L.to_statevector().draw(\"latex\")"
   ]
  },
  {
   "cell_type": "code",
   "execution_count": 13,
   "metadata": {},
   "outputs": [
    {
     "name": "stdout",
     "output_type": "stream",
     "text": [
      "64.0 (128, 128)\n"
     ]
    },
    {
     "data": {
      "text/latex": [
       "$$\n",
       "\n",
       "\\begin{bmatrix}\n",
       "\\frac{1}{16} & 0 & 0 & 0 & \\cdots & 0 & 0 & 0  \\\\\n",
       " 0 & 0 & 0 & 0 & \\cdots & 0 & 0 & 0  \\\\\n",
       " 0 & 0 & 0 & 0 & \\cdots & 0 & 0 & 0  \\\\\n",
       " 0 & 0 & 0 & 0 & \\cdots & 0 & 0 & 0  \\\\\n",
       " \\vdots & \\vdots & \\vdots & \\vdots & \\ddots & \\vdots & \\vdots & \\vdots \\\\\n",
       " 0 & 0 & 0 & 0 & \\cdots & 0 & 0 & 0  \\\\\n",
       " 0 & 0 & 0 & 0 & \\cdots & 0 & 0 & 0  \\\\\n",
       " 0 & 0 & 0 & 0 & \\cdots & 0 & 0 & \\frac{1}{16}  \\\\\n",
       " \\end{bmatrix}\n",
       "$$"
      ],
      "text/plain": [
       "<IPython.core.display.Latex object>"
      ]
     },
     "execution_count": 13,
     "metadata": {},
     "output_type": "execute_result"
    }
   ],
   "source": [
    "print(np.sqrt(np.count_nonzero(plus_L)), np.shape(one_L))\n",
    "plus_L.draw(\"latex\")"
   ]
  },
  {
   "cell_type": "code",
   "execution_count": 14,
   "metadata": {},
   "outputs": [
    {
     "name": "stdout",
     "output_type": "stream",
     "text": [
      "Hadamard gate performance\n",
      "Absolute error: 3.31370849898477\n",
      "Relative error: 0.0002022527160024884\n"
     ]
    }
   ],
   "source": [
    "error_H_abs = np.abs(np.sum(0.5**0.5 * (zero_L + one_L) - plus_L))\n",
    "error_H_rel = error_H_abs/np.size(zero_L)\n",
    "print(f\"Hadamard gate performance\\nAbsolute error: {error_H_abs}\\nRelative error: {error_H_rel}\")"
   ]
  },
  {
   "cell_type": "code",
   "execution_count": null,
   "metadata": {},
   "outputs": [],
   "source": []
  }
 ],
 "metadata": {
  "kernelspec": {
   "display_name": "Python 3 (ipykernel)",
   "language": "python",
   "name": "python3"
  },
  "language_info": {
   "codemirror_mode": {
    "name": "ipython",
    "version": 3
   },
   "file_extension": ".py",
   "mimetype": "text/x-python",
   "name": "python",
   "nbconvert_exporter": "python",
   "pygments_lexer": "ipython3",
   "version": "3.13.1"
  }
 },
 "nbformat": 4,
 "nbformat_minor": 4
}

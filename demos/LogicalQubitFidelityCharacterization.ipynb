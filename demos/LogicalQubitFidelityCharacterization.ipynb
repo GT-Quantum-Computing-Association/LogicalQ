{
 "cells": [
  {
   "cell_type": "markdown",
   "metadata": {},
   "source": [
    "### Performing Logical State Tomography\n",
    "Normally, when the performing Quantum State Tomography (QST) on n qubits, one need to make $4^n$ unique measurements of expectation values of pauli strings. However, if we want to characterize a logical state in the subspace of a particular QECC, things can be simplified slightly. I'll go over the core ideas here. An arbitrary quantum state can by the following density matrix: \n",
    "$$\n",
    "\\rho = \\frac{1}{d} \\sum_k Tr{(W_k \\rho)} W_k \n",
    "$$\n",
    "where $W_k$ represents an n-pauli string within the $d = 2^n$ hilbert space of the code. For an arbitrary state as mentioned earlier, we'd have to perform measurements on all $4^n$ pauli strings to fully characterize the quantum state. However, we can use some particular properties of logical codestates of a stabilizer code to simplify the process. We first need to write out a few useful properties: \n",
    "$$\n",
    "Tr(\\frac{W_i W_j}{d}) = \\delta_{ij} \n",
    "$$\n",
    "The ideal stabilizer state for the logical codestate can be written as a pure state in the form $\\rho = \\ket{\\psi}\\bra{\\psi}$. We also know that any pauli string that belongs to the stabilizer group of the state will act on $\\ket{\\psi}$ in the following way: $W_k \\ket{\\psi} = \\pm \\ket{\\psi}$. We can then make the following simplification: \n",
    "$$\n",
    "\\rho = \\frac{1}{d} \\sum_k Tr{(W_k \\rho)} W_k = \\frac{1}{d} \\sum_k Tr{(W_k \\ket{\\psi}\\bra{\\psi})} W_k \\\\\n",
    "= \\frac{1}{d} \\sum_k \\pm Tr{(W_k W_j\\ket{\\psi}\\bra{\\psi})} W_k = \\frac{1}{d} \\sum_k \\pm \\bra{\\psi}W_k W_j\\ket{\\psi}\\bra{\\psi}\\ket{\\psi} W_k \\\\\n",
    "= \\frac{1}{d} \\sum_k \\pm Tr(W_k W_j) W_k = \\pm \\sum_k \\delta_{kj} W_k\n",
    "$$\n",
    "From here we can write out the quantum state fidelity of an arbitrary state w.r.t an ideal stabilizer state $\\rho_t$: \n",
    "$$\n",
    "F(\\rho, \\rho_t) = Tr(\\rho_t \\rho) = \\frac{1}{d}\\sum_j Tr(W_j \\rho_t) Tr(W_j \\rho)\n",
    "$$\n",
    "Where the only nonzero terms are the $2^n$ pauli strings with nonzero expectation values as shown above. We now know how many pauli strings need to be measured however we don't currently have a way to find them. We can find these operators by first redefining $\\rho_t$ in terms of projection operators on the desired codestate we are interested along with the codespace projector: \n",
    "$$\n",
    "\\rho_t = P_{\\pm O_L} P_{CS} \\qquad P_{CS} =  \\prod_{i = 1}^3 \\frac{1}{2}(1 + S_x^{(i)}) \\prod_{j = 1}^3 \\frac{1}{2}(1 + S_z^{(j)}) \\qquad P_{\\pm O_L} = \\frac{1}{2}(I \\pm O_L)\n",
    "$$\n",
    "Taking the product of these two projectors yields for the $[[7,1,3]]$ code yields $2^7 = 128$ pauli strings that need to be measured"
   ]
  },
  {
   "cell_type": "code",
   "execution_count": 2,
   "metadata": {},
   "outputs": [
    {
     "name": "stdout",
     "output_type": "stream",
     "text": [
      "SparsePauliOp(['IIIIIII', 'ZZZZZZZ'],\n",
      "              coeffs=[ 1.+0.j, -1.+0.j])\n",
      "SparsePauliOp(['IIIIIII', 'ZIZIZIZ', 'IZZIIZZ', 'ZZIIZZI', 'ZZZZIII', 'IZIZZIZ', 'ZIIZIZZ', 'IIZZZZI', 'XIXIXIX', 'YIYIYIY', 'XZYIXZY', 'YZXIYZX', 'YZYZXIX', 'XZXZYIY', 'YIXZXZY', 'XIYZYZX', 'IXXIIXX', 'ZXYIZXY', 'IYYIIYY', 'ZYXIZYX', 'ZYYZIXX', 'IYXZZXY', 'ZXXZIYY', 'IXYZZYX', 'XXIIXXI', 'YXZIYXZ', 'XYZIXYZ', 'YYIIYYI', 'YYZZXXI', 'XYIZYXZ', 'YXIZXYZ', 'XXZZYYI', 'XXXXIII', 'YXYXZIZ', 'XYYXIZZ', 'YYXXZZI', 'YYYYIII', 'XYXYZIZ', 'YXXYIZZ', 'XXYYZZI', 'IXIXXIX', 'ZXZXYIY', 'IYZXXZY', 'ZYIXYZX', 'ZYZYXIX', 'IYIYYIY', 'ZXIYXZY', 'IXZYYZX', 'XIIXIXX', 'YIZXZXY', 'XZZXIYY', 'YZIXZYX', 'YZZYIXX', 'XZIYZXY', 'YIIYIYY', 'XIZYZYX', 'IIXXXXI', 'ZIYXYXZ', 'IZYXXYZ', 'ZZXXYYI', 'ZZYYXXI', 'IZXYYXZ', 'ZIXYXYZ', 'IIYYYYI', 'ZZZZZZZ', 'IZIZIZI', 'ZIIZZII', 'IIZZIIZ', 'IIIIZZZ', 'ZIZIIZI', 'IZZIZII', 'ZZIIIIZ', 'YZYZYZY', 'XZXZXZX', 'YIXZYIX', 'XIYZXIY', 'XIXIYZY', 'YIYIXZX', 'XZYIYIX', 'YZXIXIY', 'ZYYZZYY', 'IYXZIYX', 'ZXXZZXX', 'IXYZIXY', 'IXXIZYY', 'ZXYIIYX', 'IYYIZXX', 'ZYXIIXY', 'YYZZYYZ', 'XYIZXYI', 'YXIZYXI', 'XXZZXXZ', 'XXIIYYZ', 'YXZIXYI', 'XYZIYXI', 'YYIIXXZ', 'YYYYZZZ', 'XYXYIZI', 'YXXYZII', 'XXYYIIZ', 'XXXXZZZ', 'YXYXIZI', 'XYYXZII', 'YYXXIIZ', 'ZYZYYZY', 'IYIYXZX', 'ZXIYYIX', 'IXZYXIY', 'IXIXYZY', 'ZXZXXZX', 'IYZXYIX', 'ZYIXXIY', 'YZZYZYY', 'XZIYIYX', 'YIIYZXX', 'XIZYIXY', 'XIIXZYY', 'YIZXIYX', 'XZZXZXX', 'YZIXIXY', 'ZZYYYYZ', 'IZXYXYI', 'ZIXYYXI', 'IIYYXXZ', 'IIXXYYZ', 'ZIYXXYI', 'IZYXYXI', 'ZZXXXXZ'],\n",
      "              coeffs=[ 1.+0.j,  1.+0.j,  1.+0.j,  1.+0.j,  1.+0.j,  1.+0.j,  1.+0.j,  1.+0.j,\n",
      "  1.+0.j,  1.+0.j, -1.-0.j, -1.-0.j, -1.-0.j, -1.-0.j, -1.-0.j, -1.-0.j,\n",
      "  1.+0.j, -1.-0.j,  1.+0.j, -1.-0.j, -1.-0.j, -1.-0.j, -1.-0.j, -1.-0.j,\n",
      "  1.+0.j, -1.-0.j, -1.-0.j,  1.+0.j, -1.-0.j, -1.-0.j, -1.-0.j, -1.-0.j,\n",
      "  1.+0.j, -1.-0.j, -1.-0.j, -1.-0.j,  1.+0.j, -1.-0.j, -1.-0.j, -1.-0.j,\n",
      "  1.+0.j, -1.-0.j, -1.-0.j, -1.-0.j, -1.-0.j,  1.+0.j, -1.-0.j, -1.-0.j,\n",
      "  1.+0.j, -1.-0.j, -1.-0.j, -1.-0.j, -1.-0.j, -1.-0.j,  1.+0.j, -1.-0.j,\n",
      "  1.+0.j, -1.-0.j, -1.-0.j, -1.-0.j, -1.-0.j, -1.-0.j, -1.-0.j,  1.+0.j,\n",
      " -1.+0.j, -1.+0.j, -1.+0.j, -1.+0.j, -1.+0.j, -1.+0.j, -1.+0.j, -1.+0.j,\n",
      " -1.+0.j, -1.+0.j,  1.+0.j,  1.+0.j,  1.+0.j,  1.+0.j,  1.+0.j,  1.+0.j,\n",
      " -1.+0.j,  1.+0.j, -1.+0.j,  1.+0.j,  1.+0.j,  1.+0.j,  1.+0.j,  1.+0.j,\n",
      " -1.+0.j,  1.+0.j,  1.+0.j, -1.+0.j,  1.+0.j,  1.+0.j,  1.+0.j,  1.+0.j,\n",
      " -1.+0.j,  1.+0.j,  1.+0.j,  1.+0.j, -1.+0.j,  1.+0.j,  1.+0.j,  1.+0.j,\n",
      " -1.+0.j,  1.+0.j,  1.+0.j,  1.+0.j,  1.+0.j, -1.+0.j,  1.+0.j,  1.+0.j,\n",
      " -1.+0.j,  1.+0.j,  1.+0.j,  1.+0.j,  1.+0.j,  1.+0.j, -1.+0.j,  1.+0.j,\n",
      " -1.+0.j,  1.+0.j,  1.+0.j,  1.+0.j,  1.+0.j,  1.+0.j,  1.+0.j, -1.+0.j])\n",
      "We have to measure 128 expectation values\n"
     ]
    }
   ],
   "source": [
    "#code to generate the pauli operators that need to be measured to estimate logical qubit fidelity\n",
    "from qiskit.quantum_info import pauli_basis, Pauli ,Operator, SparsePauliOp, PauliList\n",
    "import numpy as np\n",
    "\n",
    "stabilizer_strings = [\n",
    "    \"XXXXIII\",\n",
    "    \"IXXIIXX\",\n",
    "    \"XIXIXIX\",\n",
    "    \"ZZZZIII\",\n",
    "    \"IZZIIZZ\",\n",
    "    \"ZIZIZIZ\"\n",
    "]\n",
    "\n",
    "#initialization and basic stuff to allow for generality\n",
    "stabilizer_strings_pauli_list = PauliList(stabilizer_strings)\n",
    "num_qubits = stabilizer_strings_pauli_list.num_qubits\n",
    "Identity_Str_N = \"\"\n",
    "for i in range(num_qubits):\n",
    "    Identity_Str_N += \"I\"\n",
    "normalization_factor = 1 / 2**num_qubits\n",
    "Logical_Op = \"ZZZZZZZ\"\n",
    "\n",
    "#compute the product of the stabilizer operator projectors\n",
    "Stabilizer_Projector_Product = SparsePauliOp(Pauli(Identity_Str_N))\n",
    "for stabilizer in stabilizer_strings:\n",
    "    Projector_Operator = SparsePauliOp([Identity_Str_N, stabilizer])\n",
    "    Stabilizer_Projector_Product = Stabilizer_Projector_Product.compose(Projector_Operator)\n",
    "\n",
    "Logical_Op_eigval = -1\n",
    "Logical_Op_Projector = SparsePauliOp([Identity_Str_N, Logical_Op], [1,Logical_Op_eigval])\n",
    "print(Logical_Op_Projector)\n",
    "Ideal_Stab_State = Logical_Op_Projector.compose(Stabilizer_Projector_Product)\n",
    "print(Ideal_Stab_State)\n",
    "print(f\"We have to measure {len(Ideal_Stab_State.paulis)} expectation values\")"
   ]
  },
  {
   "cell_type": "code",
   "execution_count": 4,
   "metadata": {},
   "outputs": [
    {
     "name": "stdout",
     "output_type": "stream",
     "text": [
      "['IIIIIII', 'ZIZIZIZ', 'IZZIIZZ', 'ZZIIZZI', 'ZZZZIII', 'IZIZZIZ',\n",
      " 'ZIIZIZZ', 'IIZZZZI', 'XIXIXIX', 'YIYIYIY', 'XZYIXZY', 'YZXIYZX',\n",
      " 'YZYZXIX', 'XZXZYIY', 'YIXZXZY', 'XIYZYZX', 'IXXIIXX', 'ZXYIZXY',\n",
      " 'IYYIIYY', 'ZYXIZYX', 'ZYYZIXX', 'IYXZZXY', 'ZXXZIYY', 'IXYZZYX',\n",
      " 'XXIIXXI', 'YXZIYXZ', 'XYZIXYZ', 'YYIIYYI', 'YYZZXXI', 'XYIZYXZ',\n",
      " 'YXIZXYZ', 'XXZZYYI', 'XXXXIII', 'YXYXZIZ', 'XYYXIZZ', 'YYXXZZI',\n",
      " 'YYYYIII', 'XYXYZIZ', 'YXXYIZZ', 'XXYYZZI', 'IXIXXIX', 'ZXZXYIY',\n",
      " 'IYZXXZY', 'ZYIXYZX', 'ZYZYXIX', 'IYIYYIY', 'ZXIYXZY', 'IXZYYZX',\n",
      " 'XIIXIXX', 'YIZXZXY', 'XZZXIYY', 'YZIXZYX', 'YZZYIXX', 'XZIYZXY',\n",
      " 'YIIYIYY', 'XIZYZYX', 'IIXXXXI', 'ZIYXYXZ', 'IZYXXYZ', 'ZZXXYYI',\n",
      " 'ZZYYXXI', 'IZXYYXZ', 'ZIXYXYZ', 'IIYYYYI', 'ZZZZZZZ', 'IZIZIZI',\n",
      " 'ZIIZZII', 'IIZZIIZ', 'IIIIZZZ', 'ZIZIIZI', 'IZZIZII', 'ZZIIIIZ',\n",
      " 'YZYZYZY', 'XZXZXZX', 'YIXZYIX', 'XIYZXIY', 'XIXIYZY', 'YIYIXZX',\n",
      " 'XZYIYIX', 'YZXIXIY', 'ZYYZZYY', 'IYXZIYX', 'ZXXZZXX', 'IXYZIXY',\n",
      " 'IXXIZYY', 'ZXYIIYX', 'IYYIZXX', 'ZYXIIXY', 'YYZZYYZ', 'XYIZXYI',\n",
      " 'YXIZYXI', 'XXZZXXZ', 'XXIIYYZ', 'YXZIXYI', 'XYZIYXI', 'YYIIXXZ',\n",
      " 'YYYYZZZ', 'XYXYIZI', 'YXXYZII', 'XXYYIIZ', 'XXXXZZZ', 'YXYXIZI',\n",
      " 'XYYXZII', 'YYXXIIZ', 'ZYZYYZY', 'IYIYXZX', 'ZXIYYIX', 'IXZYXIY',\n",
      " 'IXIXYZY', 'ZXZXXZX', 'IYZXYIX', 'ZYIXXIY', 'YZZYZYY', 'XZIYIYX',\n",
      " 'YIIYZXX', 'XIZYIXY', 'XIIXZYY', 'YIZXIYX', 'XZZXZXX', 'YZIXIXY',\n",
      " 'ZZYYYYZ', 'IZXYXYI', 'ZIXYYXI', 'IIYYXXZ', 'IIXXYYZ', 'ZIYXXYI',\n",
      " 'IZYXYXI', 'ZZXXXXZ']\n",
      "[ 1.+0.j  1.+0.j  1.+0.j  1.+0.j  1.+0.j  1.+0.j  1.+0.j  1.+0.j  1.+0.j\n",
      "  1.+0.j -1.-0.j -1.-0.j -1.-0.j -1.-0.j -1.-0.j -1.-0.j  1.+0.j -1.-0.j\n",
      "  1.+0.j -1.-0.j -1.-0.j -1.-0.j -1.-0.j -1.-0.j  1.+0.j -1.-0.j -1.-0.j\n",
      "  1.+0.j -1.-0.j -1.-0.j -1.-0.j -1.-0.j  1.+0.j -1.-0.j -1.-0.j -1.-0.j\n",
      "  1.+0.j -1.-0.j -1.-0.j -1.-0.j  1.+0.j -1.-0.j -1.-0.j -1.-0.j -1.-0.j\n",
      "  1.+0.j -1.-0.j -1.-0.j  1.+0.j -1.-0.j -1.-0.j -1.-0.j -1.-0.j -1.-0.j\n",
      "  1.+0.j -1.-0.j  1.+0.j -1.-0.j -1.-0.j -1.-0.j -1.-0.j -1.-0.j -1.-0.j\n",
      "  1.+0.j -1.+0.j -1.+0.j -1.+0.j -1.+0.j -1.+0.j -1.+0.j -1.+0.j -1.+0.j\n",
      " -1.+0.j -1.+0.j  1.+0.j  1.+0.j  1.+0.j  1.+0.j  1.+0.j  1.+0.j -1.+0.j\n",
      "  1.+0.j -1.+0.j  1.+0.j  1.+0.j  1.+0.j  1.+0.j  1.+0.j -1.+0.j  1.+0.j\n",
      "  1.+0.j -1.+0.j  1.+0.j  1.+0.j  1.+0.j  1.+0.j -1.+0.j  1.+0.j  1.+0.j\n",
      "  1.+0.j -1.+0.j  1.+0.j  1.+0.j  1.+0.j -1.+0.j  1.+0.j  1.+0.j  1.+0.j\n",
      "  1.+0.j -1.+0.j  1.+0.j  1.+0.j -1.+0.j  1.+0.j  1.+0.j  1.+0.j  1.+0.j\n",
      "  1.+0.j -1.+0.j  1.+0.j -1.+0.j  1.+0.j  1.+0.j  1.+0.j  1.+0.j  1.+0.j\n",
      "  1.+0.j -1.+0.j]\n"
     ]
    }
   ],
   "source": [
    "#now lets find a way to programmatically generate these expectation value measurement circuits and simulate them\n",
    "#to start lets simply take one of the expectation values and then attempt to measure it. \n",
    "# we first need to prepare encoded states. We can do this by projecting an initial state \n",
    "from qiskit import QuantumCircuit, ClassicalRegister, QuantumRegister\n",
    "qreg_m = QuantumRegister(8, '')\n",
    "creg_m = ClassicalRegister(1, name='mcm')\n",
    "\n",
    "#we'll want to have a way to generate the encoding circuit multiple times and then tack the expectation value measurement circuit and do this for each \n",
    "\n",
    "Ideal_Stab_State_list = Ideal_Stab_State.paulis\n",
    "Ideal_Stab_coeffs = Ideal_Stab_State.coeffs\n",
    "print(Ideal_Stab_State_list)\n",
    "print(Ideal_Stab_coeffs)\n",
    "\n",
    "for pstring in Ideal_Stab_State_list: \n",
    "    "
   ]
  },
  {
   "cell_type": "code",
   "execution_count": 6,
   "metadata": {},
   "outputs": [
    {
     "name": "stdout",
     "output_type": "stream",
     "text": [
      "X\n",
      "X\n",
      "X\n"
     ]
    }
   ],
   "source": [
    "TestPauli = 'XXX'\n",
    "for val in TestPauli:\n",
    "    print(val)"
   ]
  },
  {
   "cell_type": "code",
   "execution_count": null,
   "metadata": {},
   "outputs": [],
   "source": [
    "#we now need to have a way to programmatically add a measurement of a given pauli string circuit to the QEC state circuit. \n",
    "#there may be some better qiskit methods to do this but I couldn't find them so I'm gonna do it old school\n",
    "\n",
    "def measure_pauli_string(qcircuit: QuantumCircuit, pstring: str):\n",
    "    #need to add something for the ordering here\n",
    "    N = len(pstring)\n",
    "    assert N == qcircuit.num_qubits ,\"quantum circuit needs to have same number of qubits as pauli string\"\n",
    "    for index, pauli in enumerate(pstring):\n",
    "        if pauli == 'I' or pauli == 'Z':\n",
    "            qcircuit.id(index)\n",
    "        elif pauli == 'X':\n",
    "            qcircuit.h(index)\n",
    "        elif pauli == 'Y':\n",
    "            \n",
    "        else:\n",
    "            raise TypeError(\"\")\n",
    "        qcircuit.measure(index)\n",
    "\n",
    "\n",
    "\n"
   ]
  }
 ],
 "metadata": {
  "kernelspec": {
   "display_name": "QuantumEnv",
   "language": "python",
   "name": "python3"
  },
  "language_info": {
   "codemirror_mode": {
    "name": "ipython",
    "version": 3
   },
   "file_extension": ".py",
   "mimetype": "text/x-python",
   "name": "python",
   "nbconvert_exporter": "python",
   "pygments_lexer": "ipython3",
   "version": "3.11.0"
  },
  "orig_nbformat": 4
 },
 "nbformat": 4,
 "nbformat_minor": 2
}

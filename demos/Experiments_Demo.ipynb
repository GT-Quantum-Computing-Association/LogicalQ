{
 "cells": [
  {
   "cell_type": "code",
   "execution_count": null,
   "metadata": {},
   "outputs": [],
   "source": [
    "from qiskit import ClassicalRegister, QuantumRegister, QuantumCircuit, transpile\n",
    "from qiskit_aer import AerSimulator\n",
    "\n",
    "from LogicalQ.Logical import LogicalCircuit\n",
    "from LogicalQ.Library.QECCs import steane_code\n",
    "\n",
    "from LogicalQ.NoiseModel import (\n",
    "    construct_noise_model,\n",
    "    construct_noise_model_QuantinuumH1_1,\n",
    "    construct_noise_model_QuantinuumH2_1,\n",
    "    construct_noise_model_QuantinuumH2_2,\n",
    ")\n",
    "\n",
    "from LogicalQ.Benchmarks import (\n",
    "    n_qubit_ghz_generation,\n",
    "    generate_quantum_teleportation_circuit,\n",
    "    mirror_benchmarking,\n",
    "    randomized_benchmarking,\n",
    "    quantum_volume,\n",
    ")\n",
    "\n",
    "from LogicalQ.Experiments import (\n",
    "    execute_circuits,\n",
    "    circuit_scaling_experiment,\n",
    "    noise_scaling_experiment,\n",
    "    qec_cycle_efficiency_experiment,\n",
    "    qec_cycle_noise_scaling_experiment,\n",
    ")\n",
    "\n",
    "from LogicalQ.Analysis import (\n",
    "    circuit_scaling_bar3d,\n",
    "    noise_model_scaling_bar,\n",
    "    qec_cycle_efficiency_bar,\n",
    ")"
   ]
  },
  {
   "cell_type": "code",
   "execution_count": null,
   "metadata": {},
   "outputs": [],
   "source": [
    "# We use the Steane code to demonstrate the library\n",
    "steane_stabilizer_tableau = [\n",
    "  \"XXXXIII\",\n",
    "  \"IXXIXXI\",\n",
    "  \"IIXXIXX\",\n",
    "  \"ZZZZIII\",\n",
    "  \"IZZIZZI\",\n",
    "  \"IIZZIZZ\",\n",
    "]"
   ]
  },
  {
   "cell_type": "markdown",
   "metadata": {},
   "source": [
    "# Benchmarks"
   ]
  },
  {
   "cell_type": "code",
   "execution_count": null,
   "metadata": {},
   "outputs": [],
   "source": [
    "\"\"\"\n",
    "# Build one instance of each benchmark circuit so we can re-use them\n",
    "\n",
    "bench_ghz2 = n_qubit_ghz_generation(n_qubits=2, barriers=False)\n",
    "bench_ghz3 = n_qubit_ghz_generation(n_qubits=3, barriers=False)\n",
    "\n",
    "# Teleportation\n",
    "bench_tele3 = generate_quantum_teleportation_circuit(statevector=[1, 0], n_qubits=3, barriers=False)\n",
    "\"\"\"\n",
    "\n",
    "# Mirror benchmarking\n",
    "bench_mb2 = mirror_benchmarking(n_qubits=2, circuit_length=4)\n",
    "\n",
    "\"\"\"\n",
    "# Randomized benchmarking (1‑qubit short demo)\n",
    "bench_rb1 = randomized_benchmarking(n_qubits=[0], circuit_lengths=[2, 8], num_samples=2, seed=11)\n",
    "\n",
    "# Quantum volume (2‑qubit, 2 trials)\n",
    "bench_qv2 = quantum_volume(n_qubits=2, trials=2, seed=7)\n",
    "\"\"\"\n",
    "\n",
    "print(\"Benchmarks built\")"
   ]
  },
  {
   "cell_type": "markdown",
   "metadata": {},
   "source": [
    "# Noise Models"
   ]
  },
  {
   "cell_type": "code",
   "execution_count": null,
   "metadata": {},
   "outputs": [],
   "source": [
    "BASIS_GATES = [\"x\",\"y\",\"z\",\"h\",\"s\",\"t\",\"rx\",\"ry\",\"rz\",\"cx\",\"cy\",\"cz\",\"ch\",\"measure\"]\n",
    "\n",
    "nm_generic_2 = construct_noise_model(BASIS_GATES, n_qubits=2)\n",
    "nm_generic_3 = construct_noise_model(BASIS_GATES, n_qubits=3)\n",
    "\n",
    "nm_H1_1 = construct_noise_model_QuantinuumH1_1(n_qubits=2)\n",
    "nm_H2_1 = construct_noise_model_QuantinuumH2_1(n_qubits=2)\n",
    "nm_H2_2 = construct_noise_model_QuantinuumH2_2(n_qubits=2)\n",
    "\n",
    "print(\"Noise models built\")"
   ]
  },
  {
   "cell_type": "markdown",
   "metadata": {},
   "source": [
    "# Circuit Scaling"
   ]
  },
  {
   "cell_type": "code",
   "execution_count": null,
   "metadata": {
    "scrolled": true
   },
   "outputs": [],
   "source": [
    "# Construct circuit factories as circuit inputs\n",
    "physical_circuit_factory = mirror_benchmarking\n",
    "\n",
    "def log_mirror_benchmarking(n_qubits=3, circuit_length=4):\n",
    "    pqc = mirror_benchmarking(n_qubits=n_qubits, circuit_length=circuit_length)\n",
    "    lqc = LogicalCircuit.from_physical_circuit(pqc, label=(7, 1, 3), stabilizer_tableau=steane_stabilizer_tableau)\n",
    "    lqc.measure_all(with_error_correction=False)\n",
    "    return lqc\n",
    "\n",
    "logical_circuit_factory = log_mirror_benchmarking\n",
    "\n",
    "# Construct noise model factories as noise model inputs\n",
    "noise_model_factory = construct_noise_model_QuantinuumH1_1"
   ]
  },
  {
   "cell_type": "markdown",
   "metadata": {},
   "source": [
    "## Serial"
   ]
  },
  {
   "cell_type": "code",
   "execution_count": null,
   "metadata": {},
   "outputs": [],
   "source": [
    "phys_data_serial = circuit_scaling_experiment(\n",
    "    physical_circuit_factory,\n",
    "    noise_model_factory,\n",
    "    min_n_qubits=1,\n",
    "    max_n_qubits=2,\n",
    "    min_circuit_length=1,\n",
    "    max_circuit_length=64,\n",
    "    shots=128,\n",
    "    with_mp=False\n",
    ")"
   ]
  },
  {
   "cell_type": "code",
   "execution_count": null,
   "metadata": {},
   "outputs": [],
   "source": [
    "\"\"\"\n",
    "log_data_serial = circuit_scaling_experiment(\n",
    "    logical_circuit_factory,\n",
    "    noise_model_factory,\n",
    "    min_n_qubits=1,\n",
    "    max_n_qubits=2,\n",
    "    min_circuit_length=1,\n",
    "    max_circuit_length=1,\n",
    "    shots=128,\n",
    "    with_mp=False\n",
    ")\n",
    "\"\"\""
   ]
  },
  {
   "cell_type": "code",
   "execution_count": null,
   "metadata": {},
   "outputs": [],
   "source": [
    "# circuit_scaling_bar3d(phys_data_serial, title=\"Physical circuit scaling (serial)\", show=True)"
   ]
  },
  {
   "cell_type": "code",
   "execution_count": null,
   "metadata": {},
   "outputs": [],
   "source": [
    "# circuit_scaling_bar3d(log_data_serial, title=\"Logical circuit scaling (serial)\", show=True)"
   ]
  },
  {
   "cell_type": "markdown",
   "metadata": {},
   "source": [
    "## With MP"
   ]
  },
  {
   "cell_type": "code",
   "execution_count": null,
   "metadata": {},
   "outputs": [],
   "source": [
    "\"\"\"\n",
    "phys_data_mp = circuit_scaling_experiment(\n",
    "    physical_circuit_factory,\n",
    "    noise_model_factory,\n",
    "    min_n_qubits=1,\n",
    "    max_n_qubits=2,\n",
    "    min_circuit_length=1,\n",
    "    max_circuit_length=64,\n",
    "    shots=128,\n",
    "    with_mp=True\n",
    ")\n",
    "\"\"\""
   ]
  },
  {
   "cell_type": "code",
   "execution_count": null,
   "metadata": {
    "scrolled": true
   },
   "outputs": [],
   "source": [
    "\"\"\"\n",
    "log_data_mp = circuit_scaling_experiment(\n",
    "    logical_circuit_factory,\n",
    "    noise_model_factory,\n",
    "    min_n_qubits=1,\n",
    "    max_n_qubits=2,\n",
    "    min_circuit_length=1,\n",
    "    max_circuit_length=1,\n",
    "    shots=128,\n",
    "    with_mp=True\n",
    ")\n",
    "\"\"\""
   ]
  },
  {
   "cell_type": "code",
   "execution_count": null,
   "metadata": {},
   "outputs": [],
   "source": [
    "# circuit_scaling_bar3d(phys_data_mp, title=\"Physical circuit scaling (mp)\", show=True)"
   ]
  },
  {
   "cell_type": "code",
   "execution_count": null,
   "metadata": {},
   "outputs": [],
   "source": [
    "# circuit_scaling_bar3d(log_data_mp, title=\"Logical circuit scaling (mp)\", show=True)"
   ]
  },
  {
   "cell_type": "markdown",
   "metadata": {},
   "source": [
    "# Noise Model Scaling"
   ]
  },
  {
   "cell_type": "code",
   "execution_count": null,
   "metadata": {},
   "outputs": [],
   "source": [
    "\"\"\"\n",
    "# Sweep 3x3x3 = 27 combinations of noise values.\n",
    "error_scan_keys = [\"amplitude_damping_error_1q\", \"depolarizing_error_2q\", \"readout_error_0|1\"]\n",
    "error_scan_val_lists = [\n",
    "    [0.0, 2e-4, 1e-3],   # 1q amplitude\n",
    "    [0.0, 5e-3, 2e-2],   # 2q depol\n",
    "    [0.0, 5e-3, 5e-2],   # readout 0->1\n",
    "]\n",
    "basis_gates = [\"x\",\"y\",\"z\",\"h\",\"s\",\"t\",\"rx\",\"ry\",\"rz\",\"cx\",\"cy\",\"cz\",\"ch\",\"measure\"]\n",
    "lqc = log_mirror_benchmarking(n_qubits=3, circuit_length=4)\n",
    "phys3 = mirror_benchmarking(n_qubits=3, circuit_length=4)\n",
    "\n",
    "base_noise_model = construct_noise_model_QuantinuumH1_1()\n",
    "\n",
    "# compute_exact=True only works for fully unitary circuits (no measurements or classical control)\n",
    "lqc_unitary = log_mirror_benchmarking(n_qubits=3, circuit_length=4)\n",
    "lqc_unitary.remove_final_measurements()\n",
    "\"\"\""
   ]
  },
  {
   "cell_type": "markdown",
   "metadata": {},
   "source": [
    "## Logical circuit"
   ]
  },
  {
   "cell_type": "code",
   "execution_count": null,
   "metadata": {},
   "outputs": [],
   "source": [
    "\"\"\"\n",
    "noise_data_logical_all_true = noise_scaling_experiment(\n",
    "    circuit_input=lqc_unitary,\n",
    "    noise_model_input=base_noise_model,\n",
    "    error_scan_keys=error_scan_keys,\n",
    "    error_scan_val_lists=error_scan_val_lists,\n",
    "    compute_exact=True,\n",
    "    shots=0,\n",
    "    with_mp=True\n",
    ")\n",
    "\n",
    "noise_model_scaling_bar(noise_data_logical_all_true, scan_keys=error_scan_keys, separate_plots=True)\n",
    "\"\"\""
   ]
  },
  {
   "cell_type": "code",
   "execution_count": null,
   "metadata": {},
   "outputs": [],
   "source": [
    "\"\"\"\n",
    "noise_data_logical_all_false = noise_scaling_experiment(\n",
    "    circuit_input=lqc,\n",
    "    noise_model_input=base_noise_model,\n",
    "    error_scan_keys=error_scan_keys,\n",
    "    error_scan_val_lists=error_scan_val_lists,\n",
    "    compute_exact=False,\n",
    "    shots=256,\n",
    "    with_mp=False\n",
    ")\n",
    "\n",
    "noise_model_scaling_bar(noise_data_logical_all_false, scan_keys=error_scan_keys, separate_plots=False)\n",
    "\"\"\""
   ]
  },
  {
   "cell_type": "markdown",
   "metadata": {},
   "source": [
    "## Physical circuit"
   ]
  },
  {
   "cell_type": "code",
   "execution_count": null,
   "metadata": {},
   "outputs": [],
   "source": [
    "\"\"\"\n",
    "noise_data_phys_all_true = noise_scaling_experiment(\n",
    "    circuit_input=phys3,\n",
    "    noise_model_input=base_noise_model,\n",
    "    error_scan_keys=error_scan_keys,\n",
    "    error_scan_val_lists=error_scan_val_lists,\n",
    "    compute_exact=True,\n",
    "    shots=0,\n",
    "    with_mp=True\n",
    ")\n",
    "\n",
    "\n",
    "noise_model_scaling_bar(noise_data_phys_exact_mp, scan_keys=error_scan_keys, separate_plots=True)\n",
    "\"\"\""
   ]
  },
  {
   "cell_type": "code",
   "execution_count": null,
   "metadata": {},
   "outputs": [],
   "source": [
    "\"\"\"\n",
    "noise_data_phys_all_false = noise_scaling_experiment(\n",
    "    circuit_input=phys3,\n",
    "    noise_model_inputs=base_noise_model,\n",
    "    error_scan_keys=error_scan_keys,\n",
    "    error_scan_val_lists=error_scan_val_lists,\n",
    "    compute_exact=False,\n",
    "    shots=256,\n",
    "    with_mp=False\n",
    ")\n",
    "\n",
    "noise_model_scaling_bar(noise_data_phys_mp, scan_keys=error_scan_keys, separate_plots=False)\n",
    "\"\"\""
   ]
  },
  {
   "cell_type": "markdown",
   "metadata": {},
   "source": [
    "# QEC Cycle Efficiency"
   ]
  },
  {
   "cell_type": "code",
   "execution_count": null,
   "metadata": {},
   "outputs": [],
   "source": [
    "# Inject 0–4 cycles of Steane QEC and see how fidelity/num_cycle behaves.\n",
    "# After n cycles, how much logical fidelity have we recovered per cycle?\n",
    "config_scan_keys = [\"cycles\", \"effective_threshold\"]\n",
    "config_scan_val_lists = [list(range(5)), [1e-3, 2e-3, 5e-3]] \n",
    "\n",
    "#lqc_single = log_mirror_benchmarking(n_qubits=3, circuit_length=4)\n",
    "phys_single = mirror_benchmarking(n_qubits=3, circuit_length=4)\n",
    "\n",
    "# Concrete noise model (base Quantinuum H1-1)\n",
    "base_noise_model = construct_noise_model_QuantinuumH1_1()"
   ]
  },
  {
   "cell_type": "markdown",
   "metadata": {},
   "source": [
    "## Serial"
   ]
  },
  {
   "cell_type": "code",
   "execution_count": null,
   "metadata": {},
   "outputs": [],
   "source": [
    "qec_eff_data_serial = qec_cycle_efficiency_experiment(\n",
    "    circuit_input = [phys_single],\n",
    "    noise_model_input = base_noise_model,\n",
    "    qecc = steane_code,\n",
    "    constraint_scan_keys = config_scan_keys,\n",
    "    constraint_scan_val_lists = config_scan_val_lists,\n",
    "    method = \"density_matrix\",\n",
    "    shots = 256,\n",
    "    with_mp=False\n",
    ")"
   ]
  },
  {
   "cell_type": "code",
   "execution_count": null,
   "metadata": {},
   "outputs": [],
   "source": [
    "qec_cycle_efficiency_bar(qec_eff_data_serial)"
   ]
  },
  {
   "cell_type": "markdown",
   "metadata": {},
   "source": [
    "## With MP"
   ]
  },
  {
   "cell_type": "code",
   "execution_count": null,
   "metadata": {},
   "outputs": [],
   "source": [
    "qec_eff_data_mp = qec_cycle_efficiency_experiment(\n",
    "    circuit_inputs = [lqc_single],\n",
    "    noise_model_input = base_noise_model,\n",
    "    constraint_scan_keys = config_scan_keys,\n",
    "    constraint_scan_val_lists = config_scan_val_lists,\n",
    "    method = \"density_matrix\",\n",
    "    shots = 256,\n",
    "    with_mp=True\n",
    ")"
   ]
  },
  {
   "cell_type": "code",
   "execution_count": null,
   "metadata": {},
   "outputs": [],
   "source": [
    "qec_cycle_efficiency_bar(qec_eff_data_mp)"
   ]
  },
  {
   "cell_type": "markdown",
   "metadata": {},
   "source": [
    "# QEC Cycle Noise Scaling"
   ]
  },
  {
   "cell_type": "code",
   "execution_count": null,
   "metadata": {},
   "outputs": [],
   "source": [
    "qec_noise_keys = [\"p1q\"]\n",
    "qec_noise_vals = [[0.0, 1e-2]]"
   ]
  },
  {
   "cell_type": "code",
   "execution_count": null,
   "metadata": {},
   "outputs": [],
   "source": [
    "qec_noise_scaling_serial = qec_cycle_noise_scaling_experiment(\n",
    "    circuit_input=lqc_single,\n",
    "    noise_model_input=base_noise_model,\n",
    "    error_scan_keys=qec_noise_keys,\n",
    "    error_scan_val_lists=qec_noise_vals,\n",
    "    logical_kwargs=None,\n",
    "    save_filename=None,\n",
    "    with_mp=False\n",
    ")"
   ]
  },
  {
   "cell_type": "code",
   "execution_count": null,
   "metadata": {},
   "outputs": [],
   "source": [
    "qec_noise_scaling_mp = qec_cycle_noise_scaling_experiment(\n",
    "    circuit_input=lqc_single,\n",
    "    noise_model_input=base_noise_model,\n",
    "    error_scan_keys=qec_noise_keys,\n",
    "    error_scan_val_lists=qec_noise_vals,\n",
    "    logical_kwargs=None,\n",
    "    save_filename=None,\n",
    "    with_mp=True\n",
    ")"
   ]
  }
 ],
 "metadata": {
  "kernelspec": {
   "display_name": "Python 3 (ipykernel)",
   "language": "python",
   "name": "python3"
  },
  "language_info": {
   "codemirror_mode": {
    "name": "ipython",
    "version": 3
   },
   "file_extension": ".py",
   "mimetype": "text/x-python",
   "name": "python",
   "nbconvert_exporter": "python",
   "pygments_lexer": "ipython3",
   "version": "3.13.3"
  }
 },
 "nbformat": 4,
 "nbformat_minor": 4
}

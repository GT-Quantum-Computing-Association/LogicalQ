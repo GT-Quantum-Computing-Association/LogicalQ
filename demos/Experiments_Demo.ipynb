{
 "cells": [
  {
   "cell_type": "code",
   "execution_count": 1,
   "metadata": {},
   "outputs": [],
   "source": [
    "from qiskit import ClassicalRegister, QuantumRegister, QuantumCircuit, transpile\n",
    "from qiskit_aer import AerSimulator\n",
    "\n",
    "from LogicalQ.Logical import LogicalCircuit\n",
    "from LogicalQ.Library.QECCs import steane_code\n",
    "\n",
    "from LogicalQ.NoiseModel import (\n",
    "    construct_noise_model,\n",
    "    construct_noise_model_QuantinuumH1_1,\n",
    "    construct_noise_model_QuantinuumH2_1,\n",
    "    construct_noise_model_QuantinuumH2_2,\n",
    ")\n",
    "\n",
    "from LogicalQ.Benchmarks import (\n",
    "    n_qubit_ghz_generation,\n",
    "    quantum_teleportation,\n",
    "    mirror_benchmarking,\n",
    "    randomized_benchmarking,\n",
    "    quantum_volume,\n",
    ")\n",
    "\n",
    "from LogicalQ.Experiments import (\n",
    "    execute_circuits,\n",
    "    circuit_scaling_experiment,\n",
    "    noise_scaling_experiment,\n",
    "    qec_cycle_efficiency_experiment,\n",
    "    qec_cycle_noise_scaling_experiment,\n",
    ")\n",
    "\n",
    "from LogicalQ.Analysis import (\n",
    "    circuit_scaling_bar3d,\n",
    "    noise_model_scaling_bar,\n",
    "    qec_cycle_efficiency_scatter,\n",
    ")"
   ]
  },
  {
   "cell_type": "markdown",
   "metadata": {},
   "source": [
    "# Circuit Scaling"
   ]
  },
  {
   "cell_type": "code",
   "execution_count": 2,
   "metadata": {
    "scrolled": true
   },
   "outputs": [],
   "source": [
    "# Construct circuit factories as circuit inputs\n",
    "physical_circuit_factory = lambda n_qubits, circuit_length : mirror_benchmarking(n_qubits=n_qubits, circuit_length=circuit_length, measure=True)\n",
    "\n",
    "def log_mirror_benchmarking(n_qubits, circuit_length):\n",
    "    pqc = physical_circuit_factory(n_qubits, circuit_length)\n",
    "    lqc = LogicalCircuit.from_physical_circuit(pqc, **steane_code)\n",
    "    return lqc\n",
    "\n",
    "logical_circuit_factory = log_mirror_benchmarking\n",
    "\n",
    "# Construct noise model factories as noise model inputs\n",
    "noise_model_factory = construct_noise_model_QuantinuumH1_1()"
   ]
  },
  {
   "cell_type": "markdown",
   "metadata": {},
   "source": [
    "## Serial"
   ]
  },
  {
   "cell_type": "code",
   "execution_count": 3,
   "metadata": {},
   "outputs": [
    {
     "name": "stdout",
     "output_type": "stream",
     "text": [
      "A constant noise model has been provided as the noise model factory, but a non-trivial range of qubit counts has also been provided. The number of qubits will not be scaled; if you would like for the number of qubits to be scaled, please provide a callable which takes the number of qubits, n_qubits, as an argument.\n"
     ]
    },
    {
     "ename": "FileNotFoundError",
     "evalue": "[Errno 2] No such file or directory: './data/circuit_scaling_2025-09-16_23-44-29.pkl'",
     "output_type": "error",
     "traceback": [
      "\u001b[31m---------------------------------------------------------------------------\u001b[39m",
      "\u001b[31mFileNotFoundError\u001b[39m                         Traceback (most recent call last)",
      "\u001b[36mCell\u001b[39m\u001b[36m \u001b[39m\u001b[32mIn[3]\u001b[39m\u001b[32m, line 1\u001b[39m\n\u001b[32m----> \u001b[39m\u001b[32m1\u001b[39m phys_data_serial = \u001b[43mcircuit_scaling_experiment\u001b[49m\u001b[43m(\u001b[49m\n\u001b[32m      2\u001b[39m \u001b[43m    \u001b[49m\u001b[43mphysical_circuit_factory\u001b[49m\u001b[43m,\u001b[49m\n\u001b[32m      3\u001b[39m \u001b[43m    \u001b[49m\u001b[43mnoise_model_factory\u001b[49m\u001b[43m,\u001b[49m\n\u001b[32m      4\u001b[39m \u001b[43m    \u001b[49m\u001b[43mmin_n_qubits\u001b[49m\u001b[43m=\u001b[49m\u001b[32;43m1\u001b[39;49m\u001b[43m,\u001b[49m\n\u001b[32m      5\u001b[39m \u001b[43m    \u001b[49m\u001b[43mmax_n_qubits\u001b[49m\u001b[43m=\u001b[49m\u001b[32;43m2\u001b[39;49m\u001b[43m,\u001b[49m\n\u001b[32m      6\u001b[39m \u001b[43m    \u001b[49m\u001b[43mmin_circuit_length\u001b[49m\u001b[43m=\u001b[49m\u001b[32;43m1\u001b[39;49m\u001b[43m,\u001b[49m\n\u001b[32m      7\u001b[39m \u001b[43m    \u001b[49m\u001b[43mmax_circuit_length\u001b[49m\u001b[43m=\u001b[49m\u001b[32;43m8\u001b[39;49m\u001b[43m,\u001b[49m\n\u001b[32m      8\u001b[39m \u001b[43m    \u001b[49m\u001b[43mshots\u001b[49m\u001b[43m=\u001b[49m\u001b[32;43m1E2\u001b[39;49m\u001b[43m,\u001b[49m\n\u001b[32m      9\u001b[39m \u001b[43m    \u001b[49m\u001b[43mwith_mp\u001b[49m\u001b[43m=\u001b[49m\u001b[38;5;28;43;01mFalse\u001b[39;49;00m\n\u001b[32m     10\u001b[39m \u001b[43m)\u001b[49m\n",
      "\u001b[36mFile \u001b[39m\u001b[32m~\\OneDrive\\Desktop\\College\\Research\\Quantum Computing\\QCA\\clone\\LogicalQ\\LogicalQ\\Experiments.py:292\u001b[39m, in \u001b[36mcircuit_scaling_experiment\u001b[39m\u001b[34m(circuit_input, noise_model_input, min_n_qubits, max_n_qubits, min_circuit_length, max_circuit_length, backend, method, shots, with_mp, save_dir, save_filename)\u001b[39m\n\u001b[32m    290\u001b[39m     date_str = datetime.now().strftime(\u001b[33m\"\u001b[39m\u001b[33m%\u001b[39m\u001b[33mY-\u001b[39m\u001b[33m%\u001b[39m\u001b[33mm-\u001b[39m\u001b[38;5;132;01m%d\u001b[39;00m\u001b[33m_\u001b[39m\u001b[33m%\u001b[39m\u001b[33mH-\u001b[39m\u001b[33m%\u001b[39m\u001b[33mM-\u001b[39m\u001b[33m%\u001b[39m\u001b[33mS\u001b[39m\u001b[33m\"\u001b[39m)\n\u001b[32m    291\u001b[39m     save_filename = \u001b[33mf\u001b[39m\u001b[33m\"\u001b[39m\u001b[33mcircuit_scaling_\u001b[39m\u001b[38;5;132;01m{\u001b[39;00mdate_str\u001b[38;5;132;01m}\u001b[39;00m\u001b[33m.pkl\u001b[39m\u001b[33m\"\u001b[39m\n\u001b[32m--> \u001b[39m\u001b[32m292\u001b[39m save_file = \u001b[38;5;28;43mopen\u001b[39;49m\u001b[43m(\u001b[49m\u001b[43msave_dir\u001b[49m\u001b[43m \u001b[49m\u001b[43m+\u001b[49m\u001b[43m \u001b[49m\u001b[43msave_filename\u001b[49m\u001b[43m,\u001b[49m\u001b[43m \u001b[49m\u001b[33;43m\"\u001b[39;49m\u001b[33;43mwb\u001b[39;49m\u001b[33;43m\"\u001b[39;49m\u001b[43m)\u001b[49m\n\u001b[32m    293\u001b[39m \u001b[38;5;28;01mdef\u001b[39;00m\u001b[38;5;250m \u001b[39m\u001b[34msave_progress\u001b[39m():\n\u001b[32m    294\u001b[39m     pickle.dump(all_data, save_file, protocol=\u001b[32m5\u001b[39m)\n",
      "\u001b[31mFileNotFoundError\u001b[39m: [Errno 2] No such file or directory: './data/circuit_scaling_2025-09-16_23-44-29.pkl'"
     ]
    }
   ],
   "source": [
    "phys_data_serial = circuit_scaling_experiment(\n",
    "    physical_circuit_factory,\n",
    "    noise_model_factory,\n",
    "    min_n_qubits=1,\n",
    "    max_n_qubits=2,\n",
    "    min_circuit_length=1,\n",
    "    max_circuit_length=8,\n",
    "    shots=1E2,\n",
    "    with_mp=False\n",
    ")"
   ]
  },
  {
   "cell_type": "code",
   "execution_count": null,
   "metadata": {},
   "outputs": [],
   "source": [
    "log_data_serial = circuit_scaling_experiment(\n",
    "    logical_circuit_factory,\n",
    "    noise_model_factory,\n",
    "    min_n_qubits=1,\n",
    "    max_n_qubits=1,\n",
    "    min_circuit_length=1,\n",
    "    max_circuit_length=2,\n",
    "    shots=1E2,\n",
    "    with_mp=False\n",
    ")"
   ]
  },
  {
   "cell_type": "code",
   "execution_count": null,
   "metadata": {},
   "outputs": [],
   "source": [
    "circuit_scaling_bar3d(phys_data_serial, title=\"Physical circuit scaling (serial)\", show=True)"
   ]
  },
  {
   "cell_type": "code",
   "execution_count": null,
   "metadata": {},
   "outputs": [],
   "source": [
    "circuit_scaling_bar3d(log_data_serial, title=\"Logical circuit scaling (serial)\", show=True)"
   ]
  },
  {
   "cell_type": "markdown",
   "metadata": {},
   "source": [
    "## With MP"
   ]
  },
  {
   "cell_type": "code",
   "execution_count": null,
   "metadata": {
    "scrolled": true
   },
   "outputs": [],
   "source": [
    "phys_data_mp = circuit_scaling_experiment(\n",
    "    physical_circuit_factory,\n",
    "    noise_model_factory,\n",
    "    min_n_qubits=1,\n",
    "    max_n_qubits=8,\n",
    "    min_circuit_length=1,\n",
    "    max_circuit_length=32,\n",
    "    shots=1E5,\n",
    "    with_mp=True\n",
    ")"
   ]
  },
  {
   "cell_type": "code",
   "execution_count": null,
   "metadata": {
    "scrolled": true
   },
   "outputs": [],
   "source": [
    "circuit_scaling_bar3d(phys_data_mp, title=\"Physical circuit scaling (mp)\", show=True)"
   ]
  },
  {
   "cell_type": "code",
   "execution_count": null,
   "metadata": {
    "scrolled": true
   },
   "outputs": [],
   "source": [
    "log_data_mp = circuit_scaling_experiment(\n",
    "    logical_circuit_factory,\n",
    "    noise_model_factory,\n",
    "    min_n_qubits=1,\n",
    "    max_n_qubits=1,\n",
    "    min_circuit_length=1,\n",
    "    max_circuit_length=32,\n",
    "    shots=1E2,\n",
    "    with_mp=True\n",
    ")"
   ]
  },
  {
   "cell_type": "code",
   "execution_count": null,
   "metadata": {},
   "outputs": [],
   "source": [
    "circuit_scaling_bar3d(log_data_mp, circuit_type=\"logical\", qecc=steane_code, title=\"Logical circuit scaling (mp)\", show=True)"
   ]
  },
  {
   "cell_type": "markdown",
   "metadata": {},
   "source": [
    "# Noise Model Scaling"
   ]
  },
  {
   "cell_type": "code",
   "execution_count": null,
   "metadata": {
    "scrolled": true
   },
   "outputs": [],
   "source": [
    "# Sweep 3x3x3 = 27 combinations of noise values.\n",
    "error_scan_keys = [\"amplitude_damping_error_1q\", \"depolarizing_error_2q\", \"readout_error_0|1\"]\n",
    "error_scan_val_lists = [\n",
    "    [0.0, 2e-4, 1e-3],   # 1q amplitude damping error\n",
    "    [0.0, 5e-3, 2e-2],   # 2q depolarizing error\n",
    "    [0.0, 5e-3, 5e-2],   # readout 0->1\n",
    "]\n",
    "\n",
    "qc = mirror_benchmarking(n_qubits=1, circuit_length=4)\n",
    "lqc = LogicalCircuit.from_physical_circuit(qc, **steane_code)\n",
    "\n",
    "qc.measure_all()\n",
    "lqc.measure_all()\n",
    "\n",
    "base_noise_model = construct_noise_model_QuantinuumH1_1()"
   ]
  },
  {
   "cell_type": "markdown",
   "metadata": {},
   "source": [
    "## Logical circuit"
   ]
  },
  {
   "cell_type": "code",
   "execution_count": null,
   "metadata": {
    "scrolled": true
   },
   "outputs": [],
   "source": [
    "noise_data_logical_all_true = noise_scaling_experiment(\n",
    "    circuit_input=lqc,\n",
    "    noise_model_input=base_noise_model,\n",
    "    error_scan_keys=error_scan_keys,\n",
    "    error_scan_val_lists=error_scan_val_lists,\n",
    "    compute_exact=True,\n",
    "    shots=1024,\n",
    "    with_mp=True\n",
    ")"
   ]
  },
  {
   "cell_type": "code",
   "execution_count": null,
   "metadata": {},
   "outputs": [],
   "source": [
    "noise_data_logical_all_false = noise_scaling_experiment(\n",
    "    circuit_input=lqc,\n",
    "    noise_model_input=base_noise_model,\n",
    "    error_scan_keys=error_scan_keys,\n",
    "    error_scan_val_lists=error_scan_val_lists,\n",
    "    compute_exact=False,\n",
    "    shots=1,\n",
    "    with_mp=False\n",
    ")"
   ]
  },
  {
   "cell_type": "code",
   "execution_count": null,
   "metadata": {
    "scrolled": true
   },
   "outputs": [],
   "source": [
    "noise_model_scaling_bar(noise_data_logical_all_true, scan_keys=error_scan_keys, separate_plots=True)"
   ]
  },
  {
   "cell_type": "code",
   "execution_count": null,
   "metadata": {},
   "outputs": [],
   "source": [
    "noise_model_scaling_bar(noise_data_logical_all_false, scan_keys=error_scan_keys, separate_plots=False)"
   ]
  },
  {
   "cell_type": "markdown",
   "metadata": {},
   "source": [
    "## Physical circuit"
   ]
  },
  {
   "cell_type": "code",
   "execution_count": null,
   "metadata": {},
   "outputs": [],
   "source": [
    "noise_data_phys_all_true = noise_scaling_experiment(\n",
    "    circuit_input=qc,\n",
    "    noise_model_input=base_noise_model,\n",
    "    error_scan_keys=error_scan_keys,\n",
    "    error_scan_val_lists=error_scan_val_lists,\n",
    "    compute_exact=True,\n",
    "    shots=1024,\n",
    "    with_mp=True\n",
    ")"
   ]
  },
  {
   "cell_type": "code",
   "execution_count": null,
   "metadata": {},
   "outputs": [],
   "source": [
    "noise_data_phys_all_false = noise_scaling_experiment(\n",
    "    circuit_input=qc,\n",
    "    noise_model_input=base_noise_model,\n",
    "    error_scan_keys=error_scan_keys,\n",
    "    error_scan_val_lists=error_scan_val_lists,\n",
    "    compute_exact=True,\n",
    "    shots=256,\n",
    "    with_mp=False\n",
    ")"
   ]
  },
  {
   "cell_type": "code",
   "execution_count": null,
   "metadata": {},
   "outputs": [],
   "source": [
    "noise_model_scaling_bar(noise_data_phys_all_true, scan_keys=error_scan_keys, separate_plots=True)"
   ]
  },
  {
   "cell_type": "code",
   "execution_count": null,
   "metadata": {},
   "outputs": [],
   "source": [
    "noise_model_scaling_bar(noise_data_phys_all_false, scan_keys=error_scan_keys, separate_plots=False)"
   ]
  },
  {
   "cell_type": "markdown",
   "metadata": {},
   "source": [
    "# QEC Cycle Efficiency"
   ]
  },
  {
   "cell_type": "code",
   "execution_count": null,
   "metadata": {},
   "outputs": [],
   "source": [
    "# Insert varying number of QEC cycles and see how fidelity behaves\n",
    "constraint_scan_keys = [\"effective_threshold\", \"n_gates\"]\n",
    "constraint_scan_val_lists = [[1e-3, 2e-3, 5e-3], list(range(5))]\n",
    "\n",
    "qc = mirror_benchmarking(n_qubits=1, circuit_length=4)\n",
    "\n",
    "# Concrete noise model (base Quantinuum H1-1)\n",
    "base_noise_model = construct_noise_model_QuantinuumH1_1()"
   ]
  },
  {
   "cell_type": "markdown",
   "metadata": {},
   "source": [
    "## Serial"
   ]
  },
  {
   "cell_type": "code",
   "execution_count": null,
   "metadata": {},
   "outputs": [],
   "source": [
    "qec_eff_data_serial = qec_cycle_efficiency_experiment(\n",
    "    circuit_input=qc,\n",
    "    noise_model_input=base_noise_model,\n",
    "    qecc=steane_code,\n",
    "    constraint_scan_keys=constraint_scan_keys,\n",
    "    constraint_scan_val_lists=constraint_scan_val_lists,\n",
    "    method=\"density_matrix\",\n",
    "    shots=256,\n",
    "    with_mp=False\n",
    ")"
   ]
  },
  {
   "cell_type": "code",
   "execution_count": null,
   "metadata": {},
   "outputs": [],
   "source": [
    "qec_cycle_efficiency_bar(qec_eff_data_serial)"
   ]
  },
  {
   "cell_type": "markdown",
   "metadata": {},
   "source": [
    "## With MP"
   ]
  },
  {
   "cell_type": "code",
   "execution_count": null,
   "metadata": {},
   "outputs": [],
   "source": [
    "qec_eff_data_mp = qec_cycle_efficiency_experiment(\n",
    "    circuit_input=qc,\n",
    "    noise_model_input=base_noise_model,\n",
    "    qecc=steane_code,\n",
    "    constraint_scan_keys=constraint_scan_keys,\n",
    "    constraint_scan_val_lists=constraint_scan_val_lists,\n",
    "    method=\"density_matrix\",\n",
    "    shots=256,\n",
    "    with_mp=True\n",
    ")"
   ]
  },
  {
   "cell_type": "code",
   "execution_count": null,
   "metadata": {},
   "outputs": [],
   "source": [
    "qec_cycle_efficiency_bar(qec_eff_data_mp)"
   ]
  },
  {
   "cell_type": "markdown",
   "metadata": {},
   "source": [
    "# QEC Cycle Noise Scaling"
   ]
  },
  {
   "cell_type": "code",
   "execution_count": null,
   "metadata": {},
   "outputs": [],
   "source": [
    "error_scan_keys = [\"depolarizing_error_2q\"]\n",
    "error_scan_val_lists = [[0.0, 1e-2]]"
   ]
  },
  {
   "cell_type": "code",
   "execution_count": null,
   "metadata": {},
   "outputs": [],
   "source": [
    "qec_noise_scaling_serial = qec_cycle_noise_scaling_experiment(\n",
    "    circuit_input=qc,\n",
    "    noise_model_input=base_noise_model,\n",
    "    qecc=steane_code,\n",
    "    constraint_scan_keys=constraint_scan_keys,\n",
    "    constraint_scan_val_lists=constraint_scan_val_lists,\n",
    "    error_scan_keys=qec_noise_keys,\n",
    "    error_scan_val_lists=qec_noise_vals,\n",
    "    save_filename=None,\n",
    "    with_mp=False\n",
    ")"
   ]
  },
  {
   "cell_type": "code",
   "execution_count": null,
   "metadata": {},
   "outputs": [],
   "source": [
    "qec_noise_scaling_mp = qec_cycle_noise_scaling_experiment(\n",
    "    circuit_input=qc,\n",
    "    noise_model_input=base_noise_model,\n",
    "    qecc=steane_code,\n",
    "    constraint_scan_keys=constraint_scan_keys,\n",
    "    constraint_scan_val_lists=constraint_scan_val_lists,\n",
    "    error_scan_keys=qec_noise_keys,\n",
    "    error_scan_val_lists=qec_noise_vals,\n",
    "    save_filename=None,\n",
    "    with_mp=True\n",
    ")"
   ]
  },
  {
   "cell_type": "code",
   "execution_count": null,
   "metadata": {},
   "outputs": [],
   "source": []
  }
 ],
 "metadata": {
  "kernelspec": {
   "display_name": "venv (3.12.6)",
   "language": "python",
   "name": "python3"
  },
  "language_info": {
   "codemirror_mode": {
    "name": "ipython",
    "version": 3
   },
   "file_extension": ".py",
   "mimetype": "text/x-python",
   "name": "python",
   "nbconvert_exporter": "python",
   "pygments_lexer": "ipython3",
   "version": "3.12.6"
  }
 },
 "nbformat": 4,
 "nbformat_minor": 4
}

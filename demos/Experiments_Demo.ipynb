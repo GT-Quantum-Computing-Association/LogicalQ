{
 "cells": [
  {
   "cell_type": "code",
   "execution_count": null,
   "metadata": {},
   "outputs": [],
   "source": [
    "from qiskit import ClassicalRegister, QuantumRegister, QuantumCircuit, transpile\n",
    "from qiskit_aer import AerSimulator\n",
    "\n",
    "from LogicalQ.Logical import LogicalCircuit\n",
    "from LogicalQ.NoiseModel import construct_noise_model_QuantinuumH1_1\n",
    "from LogicalQ.Benchmarks import n_qubit_ghz_generation\n",
    "from LogicalQ.Experiments import benchmark_noise, circuit_scaling_experiment, noise_scaling_experiment, qec_cycle_efficiency_experiment\n",
    "from LogicalQ.Analysis import circuit_scaling_bar3d\n",
    "from LogicalQ.Analysis import noise_model_scaling_bar\n",
    "from LogicalQ.Analysis import qec_cycle_efficiency_bar"
   ]
  },
  {
   "cell_type": "code",
   "execution_count": null,
   "metadata": {},
   "outputs": [],
   "source": [
    "# We use the Steane code to demonstrate the library\n",
    "steane_stabilizer_tableau = [\n",
    "  \"XXXXIII\",\n",
    "  \"IXXIXXI\",\n",
    "  \"IIXXIXX\",\n",
    "  \"ZZZZIII\",\n",
    "  \"IZZIZZI\",\n",
    "  \"IIZZIZZ\",\n",
    "]"
   ]
  },
  {
   "cell_type": "markdown",
   "metadata": {},
   "source": [
    "# Circuit Scaling"
   ]
  },
  {
   "cell_type": "code",
   "execution_count": null,
   "metadata": {
    "scrolled": true
   },
   "outputs": [],
   "source": [
    "# Construct circuit factories as circuit inputs\n",
    "physical_circuit_factory = n_qubit_ghz_generation\n",
    "\n",
    "def log_n_qubit_ghz_generation(n_qubits=3, circuit_length=None, barriers=False):\n",
    "    pqc = n_qubit_ghz_generation(n_qubits, circuit_length, barriers=barriers)\n",
    "    lqc = LogicalCircuit.from_physical_circuit(pqc, label=(7,1,3), stabilizer_tableau=steane_stabilizer_tableau)\n",
    "    lqc.measure_all(with_error_correction=False)\n",
    "    return lqc\n",
    "\n",
    "logical_circuit_factory = log_n_qubit_ghz_generation\n",
    "\n",
    "# Construct noise model factories as noise model inputs\n",
    "noise_model_factory = construct_noise_model_QuantinuumH1_1"
   ]
  },
  {
   "cell_type": "code",
   "execution_count": null,
   "metadata": {},
   "outputs": [],
   "source": [
    "phys_data = circuit_scaling_experiment(\n",
    "    physical_circuit_factory,\n",
    "    noise_model_factory,\n",
    "    min_n_qubits=1,\n",
    "    max_n_qubits=2,\n",
    "    min_circuit_length=1,\n",
    "    max_circuit_length=64,\n",
    "    shots=128,\n",
    "    with_mp=True\n",
    ")"
   ]
  },
  {
   "cell_type": "code",
   "execution_count": null,
   "metadata": {
    "scrolled": true
   },
   "outputs": [],
   "source": [
    "log_data = circuit_scaling_experiment(\n",
    "    logical_circuit_factory,\n",
    "    noise_model_factory,\n",
    "    min_n_qubits=1,\n",
    "    max_n_qubits=2,\n",
    "    min_circuit_length=1,\n",
    "    max_circuit_length=1,\n",
    "    shots=128,\n",
    "    with_mp=True\n",
    ")"
   ]
  },
  {
   "cell_type": "code",
   "execution_count": null,
   "metadata": {},
   "outputs": [],
   "source": [
    "circuit_scaling_bar3d(phys_data)"
   ]
  },
  {
   "cell_type": "code",
   "execution_count": null,
   "metadata": {},
   "outputs": [],
   "source": [
    "circuit_scaling_bar3d(log_data)"
   ]
  },
  {
   "cell_type": "markdown",
   "metadata": {},
   "source": [
    "# Noise Model Scaling"
   ]
  },
  {
   "cell_type": "code",
   "execution_count": null,
   "metadata": {},
   "outputs": [],
   "source": [
    "# Sweep 3x3x3 = 27 combinations of noise values.\n",
    "error_scan_keys = [\"p1q\", \"p2q\", \"pr\"]\n",
    "error_scan_val_lists = [\n",
    "    [1e-2, 1e-3, 1e-4],   # single-qubit depolarization\n",
    "    [1e-2, 1e-3, 1e-4],   # two-qubit depolarization\n",
    "    [2e-2, 1e-2, 5e-3]    # read-out flip\n",
    "]\n",
    "\n",
    "base_noise_model = construct_noise_model_QuantinuumH1_1()"
   ]
  },
  {
   "cell_type": "code",
   "execution_count": null,
   "metadata": {},
   "outputs": [],
   "source": [
    "noise_data = noise_scaling_experiment(\n",
    "    circuit_inputs = [physical_circuit_factory(n_qubits=3)],\n",
    "    noise_model_inputs = base_noise_model,\n",
    "    error_scan_keys = error_scan_keys,\n",
    "    error_scan_val_lists = error_scan_val_lists,\n",
    "    compute_exact = False,\n",
    "    shots = 256\n",
    ")"
   ]
  },
  {
   "cell_type": "code",
   "execution_count": null,
   "metadata": {},
   "outputs": [],
   "source": [
    "noise_model_scaling_bar(noise_data, scan_keys=error_scan_keys, separate_plots=True)"
   ]
  },
  {
   "cell_type": "markdown",
   "metadata": {},
   "source": [
    "# QEC Cycle Efficiency"
   ]
  },
  {
   "cell_type": "code",
   "execution_count": null,
   "metadata": {},
   "outputs": [],
   "source": [
    "# Inject 0–4 cycles of Steane QEC and see how fidelity/num_cycle behaves.\n",
    "# After n cycles, how much logical fidelity have we recovered per cycle?\n",
    "config_scan_keys = [\"cycles\"]\n",
    "config_scan_val_lists = [list(range(5))] \n",
    "\n",
    "# Build logical GHZ circuit (3 logical qubits here for demo)\n",
    "lqc_single = log_n_qubit_ghz_generation(n_qubits=3)\n",
    "\n",
    "# Concrete noise model (base Quantinuum H1-1)\n",
    "base_noise_model = construct_noise_model_QuantinuumH1_1()"
   ]
  },
  {
   "cell_type": "code",
   "execution_count": null,
   "metadata": {},
   "outputs": [],
   "source": [
    "qec_eff_data = qec_cycle_efficiency_experiment(\n",
    "    circuit_inputs = [lqc_single],\n",
    "    noise_model_input = base_noise_model,\n",
    "    config_scan_keys = config_scan_keys,\n",
    "    config_scan_val_lists = config_scan_val_lists,\n",
    "    method = \"density_matrix\",\n",
    "    shots = 256\n",
    ")"
   ]
  },
  {
   "cell_type": "code",
   "execution_count": null,
   "metadata": {},
   "outputs": [],
   "source": [
    "qec_cycle_efficiency_bar(qec_eff_data)"
   ]
  },
  {
   "cell_type": "code",
   "execution_count": null,
   "metadata": {},
   "outputs": [],
   "source": []
  }
 ],
 "metadata": {
  "kernelspec": {
   "display_name": "Python 3 (ipykernel)",
   "language": "python",
   "name": "python3"
  },
  "language_info": {
   "codemirror_mode": {
    "name": "ipython",
    "version": 3
   },
   "file_extension": ".py",
   "mimetype": "text/x-python",
   "name": "python",
   "nbconvert_exporter": "python",
   "pygments_lexer": "ipython3",
   "version": "3.13.3"
  }
 },
 "nbformat": 4,
 "nbformat_minor": 4
}

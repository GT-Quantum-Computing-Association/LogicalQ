{
 "cells": [
  {
   "cell_type": "code",
   "execution_count": null,
   "metadata": {},
   "outputs": [],
   "source": [
    "from qiskit import ClassicalRegister, QuantumRegister, QuantumCircuit, transpile\n",
    "from qiskit_aer import AerSimulator\n",
    "\n",
    "from LogicalQ.Logical import LogicalCircuit\n",
    "from LogicalQ.Library.QECCs import steane_code\n",
    "\n",
    "from LogicalQ.NoiseModel import (\n",
    "    construct_noise_model,\n",
    "    construct_noise_model_QuantinuumH1_1,\n",
    "    construct_noise_model_QuantinuumH2_1,\n",
    "    construct_noise_model_QuantinuumH2_2,\n",
    ")\n",
    "\n",
    "from LogicalQ.Benchmarks import (\n",
    "    n_qubit_ghz_generation,\n",
    "    quantum_teleportation,\n",
    "    mirror_benchmarking,\n",
    "    randomized_benchmarking,\n",
    "    quantum_volume,\n",
    ")\n",
    "\n",
    "from LogicalQ.Experiments import (\n",
    "    execute_circuits,\n",
    "    circuit_scaling_experiment,\n",
    "    noise_scaling_experiment,\n",
    "    qec_cycle_efficiency_experiment,\n",
    "    qec_cycle_noise_scaling_experiment,\n",
    ")\n",
    "\n",
    "from LogicalQ.Analysis import (\n",
    "    circuit_scaling_bar3d,\n",
    "    noise_model_scaling_bar,\n",
    "    qec_cycle_efficiency_bar,\n",
    ")"
   ]
  },
  {
   "cell_type": "markdown",
   "metadata": {},
   "source": [
    "# Circuit Scaling"
   ]
  },
  {
   "cell_type": "code",
   "execution_count": null,
   "metadata": {
    "scrolled": true
   },
   "outputs": [],
   "source": [
    "# Construct circuit factories as circuit inputs\n",
    "physical_circuit_factory = lambda n_qubits, circuit_length : mirror_benchmarking(n_qubits=n_qubits, circuit_length=circuit_length, measure=True)\n",
    "\n",
    "def log_mirror_benchmarking(n_qubits, circuit_length):\n",
    "    pqc = physical_circuit_factory(n_qubits, circuit_length)\n",
    "    lqc = LogicalCircuit.from_physical_circuit(pqc, **steane_code)\n",
    "    return lqc\n",
    "\n",
    "logical_circuit_factory = log_mirror_benchmarking\n",
    "\n",
    "# Construct noise model factories as noise model inputs\n",
    "noise_model_factory = construct_noise_model_QuantinuumH1_1"
   ]
  },
  {
   "cell_type": "markdown",
   "metadata": {},
   "source": [
    "## Serial"
   ]
  },
  {
   "cell_type": "code",
   "execution_count": null,
   "metadata": {},
   "outputs": [],
   "source": [
    "phys_data_serial = circuit_scaling_experiment(\n",
    "    physical_circuit_factory,\n",
    "    noise_model_factory,\n",
    "    min_n_qubits=1,\n",
    "    max_n_qubits=2,\n",
    "    min_circuit_length=1,\n",
    "    max_circuit_length=64,\n",
    "    shots=128,\n",
    "    with_mp=False\n",
    ")"
   ]
  },
  {
   "cell_type": "code",
   "execution_count": null,
   "metadata": {},
   "outputs": [],
   "source": [
    "log_data_serial = circuit_scaling_experiment(\n",
    "    logical_circuit_factory,\n",
    "    noise_model_factory,\n",
    "    min_n_qubits=1,\n",
    "    max_n_qubits=2,\n",
    "    min_circuit_length=1,\n",
    "    max_circuit_length=1,\n",
    "    shots=128,\n",
    "    with_mp=False\n",
    ")"
   ]
  },
  {
   "cell_type": "code",
   "execution_count": null,
   "metadata": {},
   "outputs": [],
   "source": [
    "circuit_scaling_bar3d(phys_data_serial, title=\"Physical circuit scaling (serial)\", show=True)"
   ]
  },
  {
   "cell_type": "code",
   "execution_count": null,
   "metadata": {},
   "outputs": [],
   "source": [
    "circuit_scaling_bar3d(log_data_serial, title=\"Logical circuit scaling (serial)\", show=True)"
   ]
  },
  {
   "cell_type": "markdown",
   "metadata": {},
   "source": [
    "## With MP"
   ]
  },
  {
   "cell_type": "code",
   "execution_count": null,
   "metadata": {},
   "outputs": [],
   "source": [
    "phys_data_mp = circuit_scaling_experiment(\n",
    "    physical_circuit_factory,\n",
    "    noise_model_factory,\n",
    "    min_n_qubits=1,\n",
    "    max_n_qubits=2,\n",
    "    min_circuit_length=1,\n",
    "    max_circuit_length=2,\n",
    "    shots=128,\n",
    "    with_mp=True\n",
    ")"
   ]
  },
  {
   "cell_type": "code",
   "execution_count": null,
   "metadata": {
    "scrolled": true
   },
   "outputs": [],
   "source": [
    "log_data_mp = circuit_scaling_experiment(\n",
    "    logical_circuit_factory,\n",
    "    noise_model_factory,\n",
    "    min_n_qubits=1,\n",
    "    max_n_qubits=2,\n",
    "    min_circuit_length=1,\n",
    "    max_circuit_length=1,\n",
    "    shots=128,\n",
    "    with_mp=True\n",
    ")"
   ]
  },
  {
   "cell_type": "code",
   "execution_count": null,
   "metadata": {},
   "outputs": [],
   "source": [
    "circuit_scaling_bar3d(phys_data_mp, title=\"Physical circuit scaling (mp)\", show=True)"
   ]
  },
  {
   "cell_type": "code",
   "execution_count": null,
   "metadata": {},
   "outputs": [],
   "source": [
    "circuit_scaling_bar3d(log_data_mp, title=\"Logical circuit scaling (mp)\", show=True)"
   ]
  },
  {
   "cell_type": "markdown",
   "metadata": {},
   "source": [
    "# Noise Model Scaling"
   ]
  },
  {
   "cell_type": "code",
   "execution_count": null,
   "metadata": {
    "scrolled": true
   },
   "outputs": [],
   "source": [
    "# Sweep 3x3x3 = 27 combinations of noise values.\n",
    "error_scan_keys = [\"amplitude_damping_error_1q\", \"depolarizing_error_2q\", \"readout_error_0|1\"]\n",
    "error_scan_val_lists = [\n",
    "    [0.0, 2e-4, 1e-3],   # 1q amplitude\n",
    "    [0.0, 5e-3, 2e-2],   # 2q depol\n",
    "    [0.0, 5e-3, 5e-2],   # readout 0->1\n",
    "]\n",
    "\n",
    "qc = mirror_benchmarking(n_qubits=1, circuit_length=4)\n",
    "lqc = LogicalCircuit.from_physical_circuit(qc, **steane_code)\n",
    "\n",
    "qc.measure_all()\n",
    "lqc.measure_all()\n",
    "\n",
    "base_noise_model = construct_noise_model_QuantinuumH1_1()"
   ]
  },
  {
   "cell_type": "markdown",
   "metadata": {},
   "source": [
    "## Logical circuit"
   ]
  },
  {
   "cell_type": "code",
   "execution_count": null,
   "metadata": {
    "scrolled": true
   },
   "outputs": [],
   "source": [
    "noise_data_logical_all_true = noise_scaling_experiment(\n",
    "    circuit_input=lqc,\n",
    "    noise_model_input=base_noise_model,\n",
    "    error_scan_keys=error_scan_keys,\n",
    "    error_scan_val_lists=error_scan_val_lists,\n",
    "    compute_exact=True,\n",
    "    shots=1024,\n",
    "    with_mp=True\n",
    ")"
   ]
  },
  {
   "cell_type": "code",
   "execution_count": null,
   "metadata": {},
   "outputs": [],
   "source": [
    "noise_data_logical_all_false = noise_scaling_experiment(\n",
    "    circuit_input=lqc,\n",
    "    noise_model_input=base_noise_model,\n",
    "    error_scan_keys=error_scan_keys,\n",
    "    error_scan_val_lists=error_scan_val_lists,\n",
    "    compute_exact=False,\n",
    "    shots=1,\n",
    "    with_mp=False\n",
    ")"
   ]
  },
  {
   "cell_type": "code",
   "execution_count": null,
   "metadata": {
    "scrolled": true
   },
   "outputs": [],
   "source": [
    "noise_model_scaling_bar(noise_data_logical_all_true, scan_keys=error_scan_keys, separate_plots=True)"
   ]
  },
  {
   "cell_type": "code",
   "execution_count": null,
   "metadata": {},
   "outputs": [],
   "source": [
    "noise_model_scaling_bar(noise_data_logical_all_false, scan_keys=error_scan_keys, separate_plots=False)"
   ]
  },
  {
   "cell_type": "markdown",
   "metadata": {},
   "source": [
    "## Physical circuit"
   ]
  },
  {
   "cell_type": "code",
   "execution_count": null,
   "metadata": {},
   "outputs": [],
   "source": [
    "noise_data_phys_all_true = noise_scaling_experiment(\n",
    "    circuit_input=qc,\n",
    "    noise_model_input=base_noise_model,\n",
    "    error_scan_keys=error_scan_keys,\n",
    "    error_scan_val_lists=error_scan_val_lists,\n",
    "    compute_exact=True,\n",
    "    shots=1024,\n",
    "    with_mp=True\n",
    ")"
   ]
  },
  {
   "cell_type": "code",
   "execution_count": null,
   "metadata": {},
   "outputs": [],
   "source": [
    "noise_data_phys_all_false = noise_scaling_experiment(\n",
    "    circuit_input=qc,\n",
    "    noise_model_input=base_noise_model,\n",
    "    error_scan_keys=error_scan_keys,\n",
    "    error_scan_val_lists=error_scan_val_lists,\n",
    "    compute_exact=True,\n",
    "    shots=256,\n",
    "    with_mp=False\n",
    ")"
   ]
  },
  {
   "cell_type": "code",
   "execution_count": null,
   "metadata": {},
   "outputs": [],
   "source": [
    "noise_model_scaling_bar(noise_data_phys_all_true, scan_keys=error_scan_keys, separate_plots=True)"
   ]
  },
  {
   "cell_type": "code",
   "execution_count": null,
   "metadata": {},
   "outputs": [],
   "source": [
    "noise_model_scaling_bar(noise_data_phys_all_false, scan_keys=error_scan_keys, separate_plots=False)"
   ]
  },
  {
   "cell_type": "markdown",
   "metadata": {},
   "source": [
    "# QEC Cycle Efficiency"
   ]
  },
  {
   "cell_type": "code",
   "execution_count": null,
   "metadata": {},
   "outputs": [],
   "source": [
    "# Insert varying number of QEC cycles and see how fidelity behaves\n",
    "constraint_scan_keys = [\"effective_threshold\", \"n_gates\"]\n",
    "constraint_scan_val_lists = [[1e-3, 2e-3, 5e-3], list(range(5))]\n",
    "\n",
    "qc = mirror_benchmarking(n_qubits=1, circuit_length=4)\n",
    "\n",
    "# Concrete noise model (base Quantinuum H1-1)\n",
    "base_noise_model = construct_noise_model_QuantinuumH1_1()"
   ]
  },
  {
   "cell_type": "markdown",
   "metadata": {},
   "source": [
    "## Serial"
   ]
  },
  {
   "cell_type": "code",
   "execution_count": null,
   "metadata": {},
   "outputs": [],
   "source": [
    "qec_eff_data_serial = qec_cycle_efficiency_experiment(\n",
    "    circuit_input=qc,\n",
    "    noise_model_input=base_noise_model,\n",
    "    qecc=steane_code,\n",
    "    constraint_scan_keys=constraint_scan_keys,\n",
    "    constraint_scan_val_lists=constraint_scan_val_lists,\n",
    "    method=\"density_matrix\",\n",
    "    shots=256,\n",
    "    with_mp=False\n",
    ")"
   ]
  },
  {
   "cell_type": "code",
   "execution_count": null,
   "metadata": {},
   "outputs": [],
   "source": [
    "qec_cycle_efficiency_bar(qec_eff_data_serial)"
   ]
  },
  {
   "cell_type": "markdown",
   "metadata": {},
   "source": [
    "## With MP"
   ]
  },
  {
   "cell_type": "code",
   "execution_count": null,
   "metadata": {},
   "outputs": [],
   "source": [
    "qec_eff_data_mp = qec_cycle_efficiency_experiment(\n",
    "    circuit_input=qc,\n",
    "    noise_model_input=base_noise_model,\n",
    "    qecc=steane_code,\n",
    "    constraint_scan_keys=constraint_scan_keys,\n",
    "    constraint_scan_val_lists=constraint_scan_val_lists,\n",
    "    method=\"density_matrix\",\n",
    "    shots=256,\n",
    "    with_mp=True\n",
    ")"
   ]
  },
  {
   "cell_type": "code",
   "execution_count": null,
   "metadata": {},
   "outputs": [],
   "source": [
    "qec_cycle_efficiency_bar(qec_eff_data_mp)"
   ]
  },
  {
   "cell_type": "markdown",
   "metadata": {},
   "source": [
    "# QEC Cycle Noise Scaling"
   ]
  },
  {
   "cell_type": "code",
   "execution_count": null,
   "metadata": {},
   "outputs": [],
   "source": [
    "qec_noise_keys = [\"p1q\"]\n",
    "qec_noise_vals = [[0.0, 1e-2]]"
   ]
  },
  {
   "cell_type": "code",
   "execution_count": null,
   "metadata": {},
   "outputs": [],
   "source": [
    "qec_noise_scaling_serial = qec_cycle_noise_scaling_experiment(\n",
    "    circuit_input=qc,\n",
    "    noise_model_input=base_noise_model,\n",
    "    qecc=steane_code,\n",
    "    constraint_scan_keys=constraint_scan_keys,\n",
    "    constraint_scan_val_lists=constraint_scan_val_lists,\n",
    "    error_scan_keys=qec_noise_keys,\n",
    "    error_scan_val_lists=qec_noise_vals,\n",
    "    save_filename=None,\n",
    "    with_mp=False\n",
    ")"
   ]
  },
  {
   "cell_type": "code",
   "execution_count": null,
   "metadata": {},
   "outputs": [],
   "source": [
    "qec_noise_scaling_mp = qec_cycle_noise_scaling_experiment(\n",
    "    circuit_input=qc,\n",
    "    noise_model_input=base_noise_model,\n",
    "    qecc=steane_code,\n",
    "    constraint_scan_keys=constraint_scan_keys,\n",
    "    constraint_scan_val_lists=constraint_scan_val_lists,\n",
    "    error_scan_keys=qec_noise_keys,\n",
    "    error_scan_val_lists=qec_noise_vals,\n",
    "    save_filename=None,\n",
    "    with_mp=True\n",
    ")"
   ]
  },
  {
   "cell_type": "code",
   "execution_count": null,
   "metadata": {},
   "outputs": [],
   "source": []
  }
 ],
 "metadata": {
  "kernelspec": {
   "display_name": "Python 3 (ipykernel)",
   "language": "python",
   "name": "python3"
  },
  "language_info": {
   "codemirror_mode": {
    "name": "ipython",
    "version": 3
   },
   "file_extension": ".py",
   "mimetype": "text/x-python",
   "name": "python",
   "nbconvert_exporter": "python",
   "pygments_lexer": "ipython3",
   "version": "3.13.5"
  }
 },
 "nbformat": 4,
 "nbformat_minor": 4
}

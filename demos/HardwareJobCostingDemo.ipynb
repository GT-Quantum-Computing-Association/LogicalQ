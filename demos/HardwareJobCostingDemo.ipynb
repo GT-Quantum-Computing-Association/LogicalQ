{
 "cells": [
  {
   "cell_type": "markdown",
   "id": "3d22fbe5-ac52-4898-886f-66b078926460",
   "metadata": {},
   "source": [
    "# Hardware Job Costing Demo"
   ]
  },
  {
   "cell_type": "code",
   "execution_count": null,
   "id": "3e651cb7-372e-4f58-8753-e9eb343fdd28",
   "metadata": {},
   "outputs": [],
   "source": [
    "import numpy as np\n",
    "\n",
    "from LogicalQ.Library.QECCs import steane_code\n",
    "from LogicalQ.Benchmarks import mirror_benchmarking\n",
    "from LogicalQ.Experiments import execute_circuits, qec_cycle_efficiency_experiment\n",
    "from LogicalQ.Analysis import qec_cycle_efficiency_scatter"
   ]
  },
  {
   "cell_type": "code",
   "execution_count": null,
   "id": "80da9ebf-c7ad-4b61-953c-f145786d8b5a",
   "metadata": {},
   "outputs": [],
   "source": [
    "qc = mirror_benchmarking(n_qubits=1, circuit_length=8, seed=1111)\n",
    "qc.draw(\"mpl\")"
   ]
  },
  {
   "cell_type": "code",
   "execution_count": null,
   "id": "2b899208-8d7b-4bd2-8170-84f3b31369d9",
   "metadata": {},
   "outputs": [],
   "source": [
    "effective_threshold = 5E-2\n",
    "\n",
    "constraint_scan_keys = [\n",
    "    \"effective_threshold\",\n",
    "    \"cost_ops_1q\"\n",
    "]\n",
    "\n",
    "constraint_scan_val_lists = [\n",
    "    [effective_threshold],\n",
    "    np.linspace(effective_threshold/16, effective_threshold/2, 21)\n",
    "]"
   ]
  },
  {
   "cell_type": "code",
   "execution_count": null,
   "id": "ed42fe22-3fdb-4966-a50f-6ac1802f524d",
   "metadata": {
    "scrolled": true
   },
   "outputs": [],
   "source": [
    "data = qec_cycle_efficiency_experiment(\n",
    "    circuit_input=qc,\n",
    "    qecc=steane_code,\n",
    "    constraint_scan_keys=constraint_scan_keys, constraint_scan_val_lists=constraint_scan_val_lists,\n",
    "    backend=\"quantinuum_H2-1\",\n",
    "    coupling_map=None,\n",
    "    shots=int(1E6), with_mp=False,\n",
    "    save_dir=\"data/\", save_filename=\"hardware_job_costing_demo\"\n",
    ")"
   ]
  },
  {
   "cell_type": "code",
   "execution_count": null,
   "id": "43883e99-48b5-45a8-aed1-c08f586375ec",
   "metadata": {},
   "outputs": [],
   "source": [
    "qec_cycle_efficiency_scatter(data, scan_keys=[\"cost_ops_1q\"])"
   ]
  },
  {
   "cell_type": "code",
   "execution_count": null,
   "id": "685c250b-646f-42f9-9531-37269d59e39e",
   "metadata": {},
   "outputs": [],
   "source": []
  }
 ],
 "metadata": {
  "kernelspec": {
   "display_name": "Python 3 (ipykernel)",
   "language": "python",
   "name": "python3"
  },
  "language_info": {
   "codemirror_mode": {
    "name": "ipython",
    "version": 3
   },
   "file_extension": ".py",
   "mimetype": "text/x-python",
   "name": "python",
   "nbconvert_exporter": "python",
   "pygments_lexer": "ipython3",
   "version": "3.13.7"
  }
 },
 "nbformat": 4,
 "nbformat_minor": 5
}

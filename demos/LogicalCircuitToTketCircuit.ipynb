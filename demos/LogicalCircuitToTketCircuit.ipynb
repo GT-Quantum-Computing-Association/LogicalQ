{
 "cells": [
  {
   "cell_type": "markdown",
   "id": "38c0e8f5-5994-44e1-ac40-412411077df9",
   "metadata": {},
   "source": [
    "# LogicalCircuit To Tket Circuit Conversion"
   ]
  },
  {
   "cell_type": "code",
   "execution_count": null,
   "id": "0ebeb2cf-d3c8-4585-8eeb-642214e35d63",
   "metadata": {},
   "outputs": [],
   "source": [
    "from LogicalQ.Logical import LogicalCircuit\n",
    "from LogicalQ.Library.QECCs import steane_code\n",
    "\n",
    "from pytket.extensions.quantinuum import QuantinuumBackend\n",
    "from pytket.extensions.qiskit import qiskit_to_tk\n",
    "from pytket.circuit.display import render_circuit_jupyter as draw\n",
    "\n",
    "from qiskit.transpiler import PassManager\n",
    "from qiskit.transpiler.passes import Decompose\n",
    "from LogicalQ.Transpilation.UnBox import UnBoxTask\n",
    "from LogicalQ.Transpilation.DecomposeIfElseOps import DecomposeIfElseOpsTask"
   ]
  },
  {
   "cell_type": "code",
   "execution_count": null,
   "id": "76e3ce69-1f51-4770-9dad-be8530a95b64",
   "metadata": {
    "scrolled": true
   },
   "outputs": [],
   "source": [
    "lqc = LogicalCircuit(1, **steane_code)\n",
    "\n",
    "# Check encode\n",
    "lqc.encode(0)\n",
    "\n",
    "# Check transversal gates\n",
    "lqc.x(0)\n",
    "lqc.z(0)\n",
    "lqc.y(0)\n",
    "\n",
    "# Check complex gates\n",
    "lqc.h(0)\n",
    "lqc.s(0)\n",
    "lqc.sdg(0)\n",
    "lqc.t(0)\n",
    "lqc.tdg(0)\n",
    "\n",
    "# Check QEC cycle\n",
    "lqc.append_qec_cycle()\n",
    "\n",
    "# Check measurements\n",
    "lqc.measure_all()"
   ]
  },
  {
   "cell_type": "code",
   "execution_count": null,
   "id": "02b5a283-3974-4a43-a91f-18c3d7c3a110",
   "metadata": {},
   "outputs": [],
   "source": [
    "# from qiskit import QuantumRegister, ClassicalRegister, QuantumCircuit\n",
    "# from qiskit.circuit.classical import expr\n",
    "\n",
    "# def cbit_and(cbits, values):\n",
    "#     result = expr.bit_not(cbits[0]) if values[0] == 0 else expr.lift(cbits[0])\n",
    "#     for n in range(len(cbits)-1):\n",
    "#         result = expr.bit_and(result, expr.bit_not(cbits[n+1])) if values[n+1] == 0 else expr.bit_and(result, cbits[n+1])\n",
    "#     return result\n",
    "\n",
    "# def cbit_xor(cbits):\n",
    "#     result = expr.lift(cbits[0])\n",
    "#     for n in range(len(cbits)-1):\n",
    "#         result = expr.bit_xor(result, cbits[n+1])\n",
    "#     return result\n",
    "\n",
    "# qreg = QuantumRegister(1, \"qreg\")\n",
    "# qreg_setter = QuantumRegister(2, \"qsetter\")\n",
    "# creg_meas = ClassicalRegister(2, \"creg_meas\")\n",
    "# creg_A = ClassicalRegister(2, \"cintermediate_state\")\n",
    "\n",
    "# lqc = QuantumCircuit(qreg, qreg_setter, creg_meas, creg_A)\n",
    "# lqc.x(qreg_setter[1])\n",
    "\n",
    "# # with lqc.if_test(cbit_and([creg_meas[0], creg_meas[1]], [1,1])) as _else_left:\n",
    "# with lqc.if_test(cbit_xor([creg_meas[x] for x in [0,1]])) as _else:\n",
    "#     lqc.measure(qreg_setter[1], creg_A[0])\n",
    "#     lqc.measure(qreg_setter[0], creg_A[1])\n",
    "# with _else:\n",
    "#     lqc.measure(qreg_setter[1], creg_A[0])\n",
    "#     lqc.measure(qreg_setter[0], creg_A[1])\n",
    "\n",
    "# lqc.measure(qreg, creg_meas[0])"
   ]
  },
  {
   "cell_type": "code",
   "execution_count": null,
   "id": "08dedcf8-08d3-4438-ac95-4a39ee205ce7",
   "metadata": {
    "scrolled": true
   },
   "outputs": [],
   "source": [
    "pm = PassManager([UnBoxTask(), DecomposeIfElseOpsTask(), Decompose()])\n",
    "lqc = pm.run(lqc)"
   ]
  },
  {
   "cell_type": "code",
   "execution_count": null,
   "id": "19eab24c-cc49-40c9-a4dd-7ddfb9a35e4a",
   "metadata": {
    "scrolled": true
   },
   "outputs": [],
   "source": [
    "lqc.draw(\"mpl\")"
   ]
  },
  {
   "cell_type": "code",
   "execution_count": null,
   "id": "cc184e16-df81-4100-8552-739813a2c950",
   "metadata": {
    "scrolled": true
   },
   "outputs": [],
   "source": [
    "circuit = qiskit_to_tk(lqc)\n",
    "print(circuit, type(circuit))"
   ]
  },
  {
   "cell_type": "code",
   "execution_count": null,
   "id": "db8d663a-ce7f-43f2-b401-cb8f185a8607",
   "metadata": {},
   "outputs": [],
   "source": [
    "# draw(circuit)"
   ]
  },
  {
   "cell_type": "code",
   "execution_count": null,
   "id": "5d6e2315-042f-49e8-b9e1-7c7a757ebf56",
   "metadata": {},
   "outputs": [],
   "source": [
    "# backend = QuantinuumBackend(device_name=\"H2-1\")\n",
    "# circuit_compiled = backend.get_compiled_circuit(circuit, optimisation_level=1)\n",
    "# cost = backend.cost(circuit_compiled, n_shots=1)"
   ]
  },
  {
   "cell_type": "code",
   "execution_count": null,
   "id": "46b32532-d5d0-4ab9-ab11-a5c684260061",
   "metadata": {},
   "outputs": [],
   "source": []
  }
 ],
 "metadata": {
  "kernelspec": {
   "display_name": "Python 3 (ipykernel)",
   "language": "python",
   "name": "python3"
  },
  "language_info": {
   "codemirror_mode": {
    "name": "ipython",
    "version": 3
   },
   "file_extension": ".py",
   "mimetype": "text/x-python",
   "name": "python",
   "nbconvert_exporter": "python",
   "pygments_lexer": "ipython3",
   "version": "3.13.5"
  }
 },
 "nbformat": 4,
 "nbformat_minor": 5
}

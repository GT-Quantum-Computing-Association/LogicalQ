{
 "cells": [
  {
   "cell_type": "markdown",
   "id": "38c0e8f5-5994-44e1-ac40-412411077df9",
   "metadata": {},
   "source": [
    "# LogicalCircuit To Tket Circuit Conversion"
   ]
  },
  {
   "cell_type": "code",
   "execution_count": null,
   "id": "0ebeb2cf-d3c8-4585-8eeb-642214e35d63",
   "metadata": {},
   "outputs": [],
   "source": [
    "from LogicalQ.Logical import LogicalCircuit\n",
    "from LogicalQ.Library.QECCs import steane_code\n",
    "\n",
    "from pytket.extensions.quantinuum import QuantinuumBackend\n",
    "from pytket.extensions.qiskit import qiskit_to_tk\n",
    "from pytket.passes import DecomposeClassicalExp\n",
    "from pytket.circuit.display import render_circuit_jupyter as draw\n",
    "\n",
    "from qiskit.transpiler import PassManager\n",
    "from qiskit.transpiler.passes import Decompose\n",
    "from LogicalQ.Transpilation.UnBox import UnBoxTask\n",
    "from LogicalQ.Transpilation.DecomposeIfElseOps import DecomposeIfElseOpsTask\n",
    "from LogicalQ.Transpilation.FlattenIfElseOps import FlattenIfElseOpsTask"
   ]
  },
  {
   "cell_type": "code",
   "execution_count": null,
   "id": "76e3ce69-1f51-4770-9dad-be8530a95b64",
   "metadata": {
    "scrolled": true
   },
   "outputs": [],
   "source": [
    "lqc = LogicalCircuit(1, **steane_code)\n",
    "\n",
    "# Check encode\n",
    "lqc.encode(0)\n",
    "\n",
    "for _ in range(64):\n",
    "    # Check transversal gates\n",
    "    lqc.x(0)\n",
    "    lqc.z(0)\n",
    "    lqc.y(0)\n",
    "    \n",
    "    # # Check complex gates\n",
    "    lqc.h(0)\n",
    "    lqc.s(0)\n",
    "    lqc.sdg(0)\n",
    "    lqc.t(0)\n",
    "    lqc.tdg(0)\n",
    "\n",
    "# Check QEC cycle\n",
    "lqc.append_qec_cycle()\n",
    "\n",
    "# Check measurements\n",
    "lqc.measure_all()\n",
    "\n",
    "lqc.draw(\"mpl\")"
   ]
  },
  {
   "cell_type": "code",
   "execution_count": null,
   "id": "08dedcf8-08d3-4438-ac95-4a39ee205ce7",
   "metadata": {
    "scrolled": true
   },
   "outputs": [],
   "source": [
    "pm = PassManager([UnBoxTask(), FlattenIfElseOpsTask(lqc.cbit_setter_qreg), Decompose()])\n",
    "lqc_transpiled = pm.run(lqc)\n",
    "# lqc_transpiled.draw(\"mpl\")"
   ]
  },
  {
   "cell_type": "code",
   "execution_count": null,
   "id": "d3b0edf6-414f-433b-a143-d0bb83840cfd",
   "metadata": {
    "scrolled": true
   },
   "outputs": [],
   "source": [
    "circuit = qiskit_to_tk(lqc_transpiled)\n",
    "_ = DecomposeClassicalExp().apply(circuit)"
   ]
  },
  {
   "cell_type": "code",
   "execution_count": null,
   "id": "a12cba76-8b25-4fdf-aa4d-8f63565f8d7f",
   "metadata": {
    "scrolled": true
   },
   "outputs": [],
   "source": [
    "backend = QuantinuumBackend(device_name=\"H2-1E\")\n",
    "circuit_compiled = backend.get_compiled_circuit(circuit, optimisation_level=3)"
   ]
  },
  {
   "cell_type": "code",
   "execution_count": null,
   "id": "c9dcbb5f-81d7-487d-935d-8dc1a8dcdd04",
   "metadata": {},
   "outputs": [],
   "source": [
    "circuit_compiled.remove_blank_wires()"
   ]
  },
  {
   "cell_type": "code",
   "execution_count": null,
   "id": "5d6e2315-042f-49e8-b9e1-7c7a757ebf56",
   "metadata": {
    "scrolled": true
   },
   "outputs": [],
   "source": [
    "cost = backend.cost(circuit_compiled, n_shots=int(1E3), syntax_checker=\"H2-1SC\")\n",
    "print(cost)"
   ]
  },
  {
   "cell_type": "code",
   "execution_count": null,
   "id": "f450e058-42f9-4563-a3ae-636df5245f17",
   "metadata": {},
   "outputs": [],
   "source": []
  }
 ],
 "metadata": {
  "kernelspec": {
   "display_name": "Python 3 (ipykernel)",
   "language": "python",
   "name": "python3"
  },
  "language_info": {
   "codemirror_mode": {
    "name": "ipython",
    "version": 3
   },
   "file_extension": ".py",
   "mimetype": "text/x-python",
   "name": "python",
   "nbconvert_exporter": "python",
   "pygments_lexer": "ipython3",
   "version": "3.13.7"
  }
 },
 "nbformat": 4,
 "nbformat_minor": 5
}

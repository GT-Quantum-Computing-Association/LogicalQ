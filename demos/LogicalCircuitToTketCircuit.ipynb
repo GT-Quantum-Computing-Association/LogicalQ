{
 "cells": [
  {
   "cell_type": "markdown",
   "id": "38c0e8f5-5994-44e1-ac40-412411077df9",
   "metadata": {},
   "source": [
    "# LogicalCircuit To Tket Circuit Conversion"
   ]
  },
  {
   "cell_type": "code",
   "execution_count": null,
   "id": "0ebeb2cf-d3c8-4585-8eeb-642214e35d63",
   "metadata": {},
   "outputs": [],
   "source": [
    "from LogicalQ.Logical import LogicalCircuit\n",
    "from LogicalQ.Library.QECCs import steane_code\n",
    "\n",
    "from pytket.extensions.qiskit import qiskit_to_tk\n",
    "\n",
    "from qiskit.transpiler import PassManager\n",
    "from LogicalQ.Transpilation.UnBox import UnBoxTask\n",
    "from LogicalQ.Transpilation.DecomposeIfElseOps import DecomposeIfElseOpsTask"
   ]
  },
  {
   "cell_type": "code",
   "execution_count": null,
   "id": "e85920c6-98e4-415f-957c-863a4babd627",
   "metadata": {
    "scrolled": true
   },
   "outputs": [],
   "source": [
    "lqc = LogicalCircuit(1, **steane_code)\n",
    "\n",
    "# Check encode\n",
    "lqc.encode(0)\n",
    "\n",
    "# Check transversal gates\n",
    "lqc.x(0)\n",
    "lqc.z(0)\n",
    "lqc.y(0)\n",
    "\n",
    "# Check complex gates\n",
    "lqc.h(0)\n",
    "lqc.s(0)\n",
    "lqc.sdg(0)\n",
    "lqc.t(0)\n",
    "lqc.tdg(0)\n",
    "\n",
    "# Check QEC cycle\n",
    "lqc.append_qec_cycle()\n",
    "\n",
    "pm = PassManager([UnBoxTask(), DecomposeIfElseOpsTask()])\n",
    "lqc = pm.run(lqc).decompose()\n",
    "\n",
    "lqc.draw(\"mpl\")"
   ]
  },
  {
   "cell_type": "code",
   "execution_count": null,
   "id": "cc184e16-df81-4100-8552-739813a2c950",
   "metadata": {},
   "outputs": [],
   "source": [
    "circuit_encoded = qiskit_to_tk(lqc)\n",
    "circuit_encoded.to_latex_file(\"tket.tex\")"
   ]
  },
  {
   "cell_type": "code",
   "execution_count": null,
   "id": "db8d663a-ce7f-43f2-b401-cb8f185a8607",
   "metadata": {},
   "outputs": [],
   "source": []
  }
 ],
 "metadata": {
  "kernelspec": {
   "display_name": "Python 3 (ipykernel)",
   "language": "python",
   "name": "python3"
  },
  "language_info": {
   "codemirror_mode": {
    "name": "ipython",
    "version": 3
   },
   "file_extension": ".py",
   "mimetype": "text/x-python",
   "name": "python",
   "nbconvert_exporter": "python",
   "pygments_lexer": "ipython3",
   "version": "3.13.5"
  }
 },
 "nbformat": 4,
 "nbformat_minor": 5
}

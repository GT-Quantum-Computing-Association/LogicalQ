{
 "cells": [
  {
   "cell_type": "markdown",
   "id": "38c0e8f5-5994-44e1-ac40-412411077df9",
   "metadata": {},
   "source": [
    "# LogicalCircuit To Tket Circuit Conversion"
   ]
  },
  {
   "cell_type": "code",
   "execution_count": null,
   "id": "0ebeb2cf-d3c8-4585-8eeb-642214e35d63",
   "metadata": {},
   "outputs": [],
   "source": [
    "from LogicalQ.Logical import LogicalCircuit\n",
    "from LogicalQ.Library.QECCs import steane_code\n",
    "from LogicalQ.Experiments import execute_circuits\n",
    "\n",
    "from qiskit.transpiler import PassManager\n",
    "from qiskit.transpiler.passes import Decompose\n",
    "from pytket.passes import DecomposeClassicalExp\n",
    "from LogicalQ.Transpilation.UnBox import UnBoxTask\n",
    "from LogicalQ.Transpilation.DecomposeIfElseOps import DecomposeIfElseOpsTask\n",
    "\n",
    "from pytket.circuit.display import render_circuit_jupyter as draw\n",
    "\n",
    "from pytket.extensions.quantinuum import QuantinuumBackend\n",
    "from pytket.extensions.qiskit import qiskit_to_tk, AerBackend"
   ]
  },
  {
   "cell_type": "markdown",
   "id": "51d9467a-82a0-4fdf-a17a-ca7f4b79a213",
   "metadata": {},
   "source": [
    "# Manual Conversion"
   ]
  },
  {
   "cell_type": "code",
   "execution_count": null,
   "id": "76e3ce69-1f51-4770-9dad-be8530a95b64",
   "metadata": {
    "scrolled": true
   },
   "outputs": [],
   "source": [
    "lqc = LogicalCircuit(1, **steane_code)\n",
    "\n",
    "# Check encode\n",
    "lqc.encode(0)\n",
    "\n",
    "# Check transversal gates\n",
    "lqc.x(0)\n",
    "lqc.z(0)\n",
    "lqc.y(0)\n",
    "\n",
    "# # Check complex gates\n",
    "lqc.h(0)\n",
    "lqc.s(0)\n",
    "lqc.sdg(0)\n",
    "lqc.t(0)\n",
    "lqc.tdg(0)\n",
    "\n",
    "# Check QEC cycle\n",
    "lqc.append_qec_cycle()\n",
    "\n",
    "# Check measurements\n",
    "lqc.measure_all()\n",
    "\n",
    "lqc.draw(\"mpl\")"
   ]
  },
  {
   "cell_type": "code",
   "execution_count": null,
   "id": "08dedcf8-08d3-4438-ac95-4a39ee205ce7",
   "metadata": {
    "scrolled": true
   },
   "outputs": [],
   "source": [
    "pm = PassManager([UnBoxTask(), DecomposeIfElseOpsTask(), Decompose()])\n",
    "lqc_transpiled = pm.run(lqc)"
   ]
  },
  {
   "cell_type": "code",
   "execution_count": null,
   "id": "d3b0edf6-414f-433b-a143-d0bb83840cfd",
   "metadata": {
    "scrolled": true
   },
   "outputs": [],
   "source": [
    "circuit = qiskit_to_tk(lqc_transpiled)"
   ]
  },
  {
   "cell_type": "markdown",
   "id": "9a65a381-45d5-4202-938f-226ba631c423",
   "metadata": {},
   "source": [
    "# Executing a LogicalCircuit through pytket"
   ]
  },
  {
   "cell_type": "code",
   "execution_count": null,
   "id": "e0169be9-97ae-4aab-8d8d-f2e572e785fd",
   "metadata": {},
   "outputs": [],
   "source": [
    "backend_qiskit = \"aer_simulator\"\n",
    "result_qiskit = execute_circuits(\n",
    "    lqc,\n",
    "    backend=backend_qiskit,\n",
    "    shots=1E3\n",
    ")[0]"
   ]
  },
  {
   "cell_type": "code",
   "execution_count": null,
   "id": "4cb78f3a-4861-4b5b-840a-851540bc09aa",
   "metadata": {},
   "outputs": [],
   "source": [
    "print(result_qiskit.get_counts())"
   ]
  },
  {
   "cell_type": "code",
   "execution_count": null,
   "id": "2e42b3e8-df3c-43eb-8025-a132c9d29554",
   "metadata": {},
   "outputs": [],
   "source": [
    "backend_tket = AerBackend()\n",
    "result_tket = execute_circuits(\n",
    "    lqc,\n",
    "    backend=backend_tket,\n",
    "    shots=1E3\n",
    ")[0]"
   ]
  },
  {
   "cell_type": "code",
   "execution_count": null,
   "id": "3c82dfd4-5d44-42d5-a3cc-fc2db3f15df5",
   "metadata": {},
   "outputs": [],
   "source": [
    "print(result_tket.get_counts())"
   ]
  },
  {
   "cell_type": "code",
   "execution_count": null,
   "id": "f450e058-42f9-4563-a3ae-636df5245f17",
   "metadata": {},
   "outputs": [],
   "source": []
  }
 ],
 "metadata": {
  "kernelspec": {
   "display_name": "Python 3 (ipykernel)",
   "language": "python",
   "name": "python3"
  },
  "language_info": {
   "codemirror_mode": {
    "name": "ipython",
    "version": 3
   },
   "file_extension": ".py",
   "mimetype": "text/x-python",
   "name": "python",
   "nbconvert_exporter": "python",
   "pygments_lexer": "ipython3",
   "version": "3.13.5"
  }
 },
 "nbformat": 4,
 "nbformat_minor": 5
}

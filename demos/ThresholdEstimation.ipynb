{
 "cells": [
  {
   "cell_type": "code",
   "execution_count": null,
   "id": "2706aa6b-3d01-4ffb-965a-6ccb55dbe660",
   "metadata": {},
   "outputs": [],
   "source": [
    "from LogicalQ.Logical import LogicalCircuit\n",
    "from LogicalQ.Library.QECCs import steane_code\n",
    "from LogicalQ.Benchmarks import mirror_benchmarking, pauli_gates\n",
    "from LogicalQ.NoiseModel import construct_noise_model_QuantinuumH2_1\n",
    "from LogicalQ.Experiments import qec_cycle_efficiency_experiment"
   ]
  },
  {
   "cell_type": "markdown",
   "id": "30b11246-b26c-4cab-9fd4-32f50d25a95f",
   "metadata": {},
   "source": [
    "## Circuit input"
   ]
  },
  {
   "cell_type": "code",
   "execution_count": null,
   "id": "9e70e15e-f879-45be-a02f-53c6129b10f7",
   "metadata": {},
   "outputs": [],
   "source": [
    "# Mirror benchmarking\n",
    "qc_mb_circuits = mirror_benchmarking(n_qubits=1, circuit_length=2, gate_sample=pauli_gates)"
   ]
  },
  {
   "cell_type": "markdown",
   "id": "a9d01d93-5e87-4300-966a-943ba4ac80ed",
   "metadata": {},
   "source": [
    "## Noise model input"
   ]
  },
  {
   "cell_type": "code",
   "execution_count": null,
   "id": "3ecfd9c6-20fe-450a-a29e-12442fb17792",
   "metadata": {},
   "outputs": [],
   "source": [
    "noise_model_Quantinuum_H2_1 = construct_noise_model_QuantinuumH2_1(n_qubits=1)\n",
    "print(noise_model_Quantinuum_H2_1)"
   ]
  },
  {
   "cell_type": "markdown",
   "id": "92fa5f2c-0485-4c4a-9c28-9c35224c4936",
   "metadata": {},
   "source": [
    "## Experiment"
   ]
  },
  {
   "cell_type": "code",
   "execution_count": null,
   "id": "81c8cc82-0278-4501-afaf-b3c4b5867abf",
   "metadata": {},
   "outputs": [],
   "source": [
    "constraint_scan_keys = [\n",
    "    \"effective_threshold\",\n",
    "    \"num_ops_1q\",\n",
    "]\n",
    "constraint_scan_val_lists = [\n",
    "    [1E-2],\n",
    "    range(100),\n",
    "]"
   ]
  },
  {
   "cell_type": "code",
   "execution_count": null,
   "id": "7d64e69e-f76b-47e9-9a53-18b8d5642bc5",
   "metadata": {},
   "outputs": [],
   "source": [
    "data = qec_cycle_efficiency_experiment(\n",
    "    circuit_input=qc_mb_circuits,\n",
    "    noise_model_input=noise_model_Quantinuum_H2_1,\n",
    "    qecc=steane_code,\n",
    "    constraint_scan_keys=constraint_scan_keys, constraint_scan_val_lists=constraint_scan_val_lists,\n",
    "    backend=\"aer_simulator\", method=\"density_matrix\", shots=1024, with_mp=False,\n",
    "    save_dir=None, save_filename=None\n",
    ")"
   ]
  },
  {
   "cell_type": "code",
   "execution_count": null,
   "id": "00ea0477-8332-4561-a7e6-a72720a51120",
   "metadata": {},
   "outputs": [],
   "source": []
  }
 ],
 "metadata": {
  "kernelspec": {
   "display_name": "Python 3 (ipykernel)",
   "language": "python",
   "name": "python3"
  },
  "language_info": {
   "codemirror_mode": {
    "name": "ipython",
    "version": 3
   },
   "file_extension": ".py",
   "mimetype": "text/x-python",
   "name": "python",
   "nbconvert_exporter": "python",
   "pygments_lexer": "ipython3",
   "version": "3.13.3"
  }
 },
 "nbformat": 4,
 "nbformat_minor": 5
}

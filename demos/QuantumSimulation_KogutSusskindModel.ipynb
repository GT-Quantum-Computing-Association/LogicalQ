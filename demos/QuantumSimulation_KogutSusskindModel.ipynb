{
 "cells": [
  {
   "cell_type": "markdown",
   "id": "025aed3b",
   "metadata": {},
   "source": [
    "## Imports"
   ]
  },
  {
   "cell_type": "code",
   "execution_count": 9,
   "id": "9d246afb",
   "metadata": {},
   "outputs": [
    {
     "name": "stdout",
     "output_type": "stream",
     "text": [
      "The autoreload extension is already loaded. To reload it, use:\n",
      "  %reload_ext autoreload\n"
     ]
    }
   ],
   "source": [
    "import numpy as np\n",
    "import matplotlib.pyplot as plt\n",
    "\n",
    "from qiskit import ClassicalRegister, QuantumRegister, QuantumCircuit, transpile\n",
    "from qiskit_aer import AerSimulator\n",
    "\n",
    "from LogicalQ.Logical import LogicalCircuit\n",
    "from LogicalQ.Library.QECCs import steane_code\n",
    "from LogicalQ.Library.HardwareModels import hardware_models_Quantinuum\n",
    "from LogicalQ.Experiments import execute_circuits\n",
    "\n",
    "import numpy as np\n",
    " \n",
    "from qiskit.circuit.library import EfficientSU2\n",
    "from qiskit.quantum_info import PauliList, Statevector, SparsePauliOp\n",
    "from qiskit.transpiler.preset_passmanagers import generate_preset_pass_manager\n",
    " \n",
    "from qiskit_addon_cutting import (\n",
    "    cut_gates,\n",
    "    generate_cutting_experiments,\n",
    "    reconstruct_expectation_values,\n",
    ")\n",
    " \n",
    "from qiskit_ibm_runtime import QiskitRuntimeService, SamplerV2\n",
    "from qiskit_aer import AerSimulator\n",
    "\n",
    "from tqdm.notebook import tqdm\n",
    "\n",
    "from qiskit import QuantumCircuit # For creating a placeholder circuit\n",
    "from qiskit.quantum_info import Statevector, Operator, SparsePauliOp, state_fidelity\n",
    "from scipy.linalg import expm\n",
    "\n",
    "\n",
    "from qiskit.transpiler import PassManager\n",
    "from LogicalQ.Transpilation.UnBox import UnBoxTask\n",
    "\n",
    "%load_ext autoreload\n",
    "%autoreload 2"
   ]
  },
  {
   "cell_type": "markdown",
   "id": "54528119-5811-4905-8456-c394dda1e495",
   "metadata": {},
   "source": [
    "## Underlying code"
   ]
  },
  {
   "cell_type": "markdown",
   "id": "977020c7",
   "metadata": {},
   "source": [
    "### Solovay-Kitaev Algorithm"
   ]
  },
  {
   "cell_type": "code",
   "execution_count": 10,
   "id": "3fbaebad",
   "metadata": {},
   "outputs": [],
   "source": [
    "from qiskit.transpiler.passes import SolovayKitaev\n",
    "from qiskit.synthesis import generate_basic_approximations\n",
    "from qiskit.circuit.library import RXGate, RYGate, RZGate, RXXGate, RYYGate, RZZGate"
   ]
  },
  {
   "cell_type": "code",
   "execution_count": 11,
   "id": "6ad73079-a568-4624-836b-d5aafb100297",
   "metadata": {},
   "outputs": [],
   "source": [
    "def append_rot_gate(qc, axis = \"z\", theta = 0, qubit_indices = [0], label = None, return_subcircuit = False, depth = 10, recursion_degree = 1):\n",
    "    gates = {\"x\": (RXGate, 1), \"y\": (RYGate, 1), \"z\": (RZGate, 1), \"xx\": (RXXGate, 2), \"yy\": (RYYGate, 2), \"zz\": (RZZGate, 2)}\n",
    "    gate_base, num_target_qubits = gates[axis]\n",
    "    gate = gate_base(theta)\n",
    "    \n",
    "    sub_qc = QuantumCircuit(num_target_qubits)\n",
    " \n",
    "    def apply_Rzz(sub_qc):\n",
    "        sub_qc.cx(0, 1)\n",
    "        sub_qc.rz(theta, 1)\n",
    "        sub_qc.cx(0, 1)\n",
    " \n",
    "    match axis:\n",
    "        case \"xx\":\n",
    "            sub_qc.h([0, 1])\n",
    "            apply_Rzz(sub_qc)\n",
    "            sub_qc.h([0, 1])\n",
    "        case \"yy\":\n",
    "            sub_qc.rx(np.pi / 2, [0, 1])\n",
    "            apply_Rzz(sub_qc)\n",
    "            sub_qc.rx(-np.pi / 2, [0, 1])\n",
    "        case \"zz\":\n",
    "            apply_Rzz(sub_qc)\n",
    "        case _:        \n",
    "            sub_qc.append(gate, qargs = list(range(num_target_qubits)))\n",
    "    \n",
    "    basis = [\"s\", \"sdg\", \"h\", \"x\", \"y\", \"z\", \"cz\"]\n",
    "    approx = generate_basic_approximations(basis, depth=depth)\n",
    "    skd = SolovayKitaev(recursion_degree=recursion_degree, basic_approximations=approx)\n",
    "\n",
    "    discretized_sub_qc = skd(sub_qc)\n",
    "    box_label = fr\"S-K: R$_\\text{{{axis}}}$({np.round(theta / np.pi, 2)}$\\pi$)\" if label == None else label\n",
    "    if isinstance(qc, LogicalCircuit):\n",
    "        with qc.box(label=\"logical.logicalop.R:{box_label}\"):\n",
    "            for i in range(len(sub_qc.data)):\n",
    "                circuit_instruction = discretized_sub_qc.data[i]\n",
    "                qc.append(circuit_instruction)\n",
    "    elif isinstance(qc, QuantumCircuit):\n",
    "        sub_gate = discretized_sub_qc.to_gate(label=box_label)\n",
    "        qc.append(sub_gate, qubit_indices)\n",
    "    else:\n",
    "        raise AssertionError(\"qc is not a valid QuantumCircuit or LogicalCircuit.\")\n",
    "    \n",
    "    if return_subcircuit:\n",
    "        return qc, discretized_sub_qc\n",
    "    else:\n",
    "        return qc"
   ]
  },
  {
   "cell_type": "code",
   "execution_count": 12,
   "id": "43671f93",
   "metadata": {},
   "outputs": [
    {
     "data": {
      "image/png": "[encoded data removed]",
      "text/plain": [
       "<Figure size 352.675x117.056 with 1 Axes>"
      ]
     },
     "execution_count": 12,
     "metadata": {},
     "output_type": "execute_result"
    }
   ],
   "source": [
    "qc = QuantumCircuit(1)\n",
    "qc = append_rot_gate(qc, \"x\", np.pi, [0])\n",
    "qc.draw(output=\"mpl\")"
   ]
  },
  {
   "cell_type": "markdown",
   "id": "67576d1b-4c6f-40f9-9d69-e9bd3f944c53",
   "metadata": {},
   "source": [
    "### $\\sqrt{X}$ and $\\sqrt{X}^\\dagger$"
   ]
  },
  {
   "cell_type": "code",
   "execution_count": null,
   "id": "75a97949-3c0a-4d57-bb63-6cdc5417e420",
   "metadata": {},
   "outputs": [],
   "source": [
    "def append_sx_gate(qc, qubits, **kwargs):\n",
    "    append_rot_gate(qc, \"x\", np.pi/2, qubits, **kwargs)\n",
    "    return\n",
    "\n",
    "def append_sxdg_gate(qc, qubits, **kwargs):\n",
    "    append_rot_gate(qc, \"x\", -np.pi/2, qubits, **kwargs)\n",
    "    return qc"
   ]
  },
  {
   "cell_type": "markdown",
   "id": "e9949046-7b88-4dd0-8dbf-5adb49dfe5aa",
   "metadata": {},
   "source": [
    "## Kogut-Susskind Model"
   ]
  },
  {
   "cell_type": "code",
   "execution_count": 14,
   "id": "ca04b4c6",
   "metadata": {},
   "outputs": [],
   "source": [
    "def construct_Usp():\n",
    "    qc = QuantumCircuit(3)\n",
    "\n",
    "    qc.h(0)\n",
    "    qc.x(1)\n",
    "    qc.x(2)\n",
    "\n",
    "    qc.cx(0, 1)\n",
    "    qc.cx(1, 2)\n",
    "\n",
    "    qc.h(1)\n",
    "\n",
    "    return qc\n",
    "\n",
    "def construct_U0(N_s, epsilon, **kwargs):\n",
    "    qc = QuantumCircuit(3)\n",
    "\n",
    "    m = N_s//2 - 1\n",
    "    append_rot_gate(qc, \"z\", -m * epsilon, [0], **kwargs)\n",
    "    append_rot_gate(qc, \"x\", epsilon, [0], **kwargs)\n",
    "    append_rot_gate(qc, \"z\", m * epsilon, [0], **kwargs)\n",
    "    \n",
    "    return qc\n",
    "\n",
    "def construct_Ufh1(epsilon, eta, **kwargs):\n",
    "    qc = QuantumCircuit(3)\n",
    "\n",
    "    qc.h(1)\n",
    "    qc.cx(1, 0)\n",
    "    qc.cx(1, 2)\n",
    "    \n",
    "    qc.h(0)\n",
    "    append_rot_gate(qc, \"x\", -epsilon * eta/2, [0], **kwargs)\n",
    "    qc.h(2)\n",
    "\n",
    "    qc.cx(1, 0)\n",
    "\n",
    "    qc.h(0)\n",
    "    qc.z(1)\n",
    "\n",
    "    qc.s(0)\n",
    "    qc.cx(1, 2)\n",
    "    \n",
    "    append_rot_gate(qc, \"x\", -epsilon * eta/2, [0], **kwargs)\n",
    "    qc.h(2)\n",
    "\n",
    "    qc.s(2)\n",
    "    qc.cx(1, 2)\n",
    "    qc.cx(1, 0)\n",
    "\n",
    "    qc.sdg(0)\n",
    "    qc.h(1)\n",
    "    qc.sdg(2)\n",
    "    \n",
    "    return qc\n",
    "\n",
    "def construct_Ufh2(epsilon, eta, **kwargs):\n",
    "    qc = QuantumCircuit(3)\n",
    "\n",
    "    append_sxdg_gate(qc, [1], **kwargs)\n",
    "    qc.s(1)\n",
    "    qc.cx(0, 1)\n",
    "    append_sx_gate(qc, [0], **kwargs)\n",
    "    qc.cx(0, 2)\n",
    "\n",
    "    append_rot_gate(qc, \"x\", -epsilon * eta/2, [0], **kwargs)\n",
    "    append_rot_gate(qc, \"y\", -epsilon * eta/2, [2], **kwargs)\n",
    "\n",
    "    qc.cx(0, 2)\n",
    "    append_sxdg_gate(qc, [0], **kwargs)\n",
    "    qc.cx(0, 1)\n",
    "    qc.sdg(1)\n",
    "    append_sx_gate(qc, [1], **kwargs)\n",
    "    \n",
    "    return qc"
   ]
  },
  {
   "cell_type": "code",
   "execution_count": 15,
   "id": "5f767532-e74c-4c7e-977b-bea502cf41c6",
   "metadata": {},
   "outputs": [],
   "source": [
    "def construct_KS_timestep(N_s, epsilon, eta, **kwargs):\n",
    "    qc_U0 = construct_U0(N_s, epsilon, **kwargs)\n",
    "    qc_Ufh1 = construct_Ufh1(epsilon, eta, **kwargs)\n",
    "    qc_Ufh2 = construct_Ufh2(epsilon, eta, **kwargs)\n",
    "    \n",
    "    qc = QuantumCircuit(3)\n",
    "    qc.compose(qc_U0, inplace=True)\n",
    "    qc.barrier()\n",
    "    qc.compose(qc_Ufh1, inplace=True)\n",
    "    qc.barrier()\n",
    "    qc.compose(qc_Ufh2, inplace=True)\n",
    "    qc.barrier()\n",
    "    qc.draw(\"mpl\")\n",
    "    \n",
    "    return qc\n",
    "\n",
    "def construct_KS(N_s, T, N_timesteps, eta, **kwargs):\n",
    "    qc = construct_Usp()\n",
    "    \n",
    "    for ts in range(N_timesteps):\n",
    "        epsilon = T/N_timesteps\n",
    "        qc_KS_timestep = construct_KS_timestep(N_s, epsilon, eta, **kwargs)\n",
    "        qc.compose(qc_KS_timestep, inplace=True)\n",
    "\n",
    "    return qc"
   ]
  },
  {
   "cell_type": "code",
   "execution_count": 16,
   "id": "05cf1c55",
   "metadata": {
    "scrolled": true
   },
   "outputs": [
    {
     "data": {
      "image/png": "[encoded data removed]",
      "text/plain": [
       "<Figure size 2210.55x953.167 with 1 Axes>"
      ]
     },
     "execution_count": 16,
     "metadata": {},
     "output_type": "execute_result"
    }
   ],
   "source": [
    "N_s = 2\n",
    "T = 1\n",
    "N_timesteps = 1\n",
    "eta = 1\n",
    "qc = construct_KS(N_s, T, N_timesteps, eta)\n",
    "qc.draw(\"mpl\")"
   ]
  },
  {
   "cell_type": "markdown",
   "id": "d7f72c30",
   "metadata": {},
   "source": [
    "### Validate noiseless KS quantum circuit"
   ]
  },
  {
   "cell_type": "code",
   "execution_count": 17,
   "id": "16583789",
   "metadata": {},
   "outputs": [],
   "source": [
    "def get_op_count(qc, shots):\n",
    "    op_counts = qc.count_ops()\n",
    "    print(f\"\\nDetailed operation counts: {op_counts}\")\n",
    "\n",
    "    num_measurements = op_counts.get('measure', 0)\n",
    "    print(f\"Number of measurements: {num_measurements}\")\n",
    "\n",
    "    total_ops = qc.size()\n",
    "    print(f\"Total number of operations: {total_ops}\")\n",
    "\n",
    "    cost_hqcs = 5\n",
    "    for instruction in qc.data:\n",
    "        if instruction.name in [\"measure\", \"reset\"]:\n",
    "            cost_hqcs += 5 * shots/5000\n",
    "        elif len(instruction.qubits) == 1:\n",
    "            cost_hqcs += 10 * shots/5000\n",
    "        elif len(instruction.qubits) == 1:\n",
    "            cost_hqcs += 1 * shots/5000\n",
    "    print(f\"Total cost in HQCs: {cost_hqcs}\")"
   ]
  },
  {
   "cell_type": "code",
   "execution_count": 20,
   "id": "2f42b021-6a7d-406f-ad9b-140dcb4d7849",
   "metadata": {},
   "outputs": [],
   "source": [
    "#qc_transpiled = transpile(qc, basis_gates=[\"x\", \"y\", \"z\", \"h\", \"s\", \"sdg\", \"cx\"], optimization_level=3)\n",
    "#qc_transpiled.measure_all()\n",
    "#qc_transpiled.draw(\"mpl\")"
   ]
  },
  {
   "cell_type": "code",
   "execution_count": 48,
   "id": "bf6fe5ae",
   "metadata": {},
   "outputs": [
    {
     "name": "stdout",
     "output_type": "stream",
     "text": [
      "\n",
      "Detailed operation counts: OrderedDict({'cx': 12, 'u': 10, 'p': 7, 'sdg': 6, 'h': 5, 's': 4, 'barrier': 3})\n",
      "Number of measurements: 0\n",
      "Total number of operations: 44\n",
      "Total cost in HQCs: 645.0\n"
     ]
    }
   ],
   "source": [
    "N_s = 2\n",
    "T = 1\n",
    "N_timesteps = 1\n",
    "eta = 1\n",
    "qc = construct_KS(N_s, T, N_timesteps, eta, depth=10, recursion_degree=3)\n",
    "qc.draw(\"mpl\")\n",
    "get_op_count(qc.decompose(), 1E4)\n",
    "#print()\n",
    "#get_op_count(qc_transpiled, 1E4)"
   ]
  },
  {
   "cell_type": "code",
   "execution_count": null,
   "id": "0dbe7410-7db5-42dc-965a-d2a919576454",
   "metadata": {
    "scrolled": true
   },
   "outputs": [],
   "source": [
    "lqc = LogicalCircuit.from_physical_circuit(qc, **steane_code)\n",
    "#lqc.draw(\"mpl\")\n",
    "\n"
   ]
  },
  {
   "cell_type": "code",
   "execution_count": null,
   "id": "c9ebd46e-01ac-430e-ac21-086ccbe2afb9",
   "metadata": {},
   "outputs": [],
   "source": []
  }
 ],
 "metadata": {
  "kernelspec": {
   "display_name": "Python 3 (ipykernel)",
   "language": "python",
   "name": "python3"
  },
  "language_info": {
   "codemirror_mode": {
    "name": "ipython",
    "version": 3
   },
   "file_extension": ".py",
   "mimetype": "text/x-python",
   "name": "python",
   "nbconvert_exporter": "python",
   "pygments_lexer": "ipython3",
   "version": "3.13.7"
  }
 },
 "nbformat": 4,
 "nbformat_minor": 5
}

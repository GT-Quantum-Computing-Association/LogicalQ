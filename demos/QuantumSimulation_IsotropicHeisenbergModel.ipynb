{
 "cells": [
  {
   "cell_type": "markdown",
   "id": "025aed3b",
   "metadata": {},
   "source": [
    "## Imports"
   ]
  },
  {
   "cell_type": "code",
   "execution_count": null,
   "id": "9d246afb",
   "metadata": {},
   "outputs": [],
   "source": [
    "import numpy as np\n",
    "from scipy.linalg import expm\n",
    "import matplotlib.pyplot as plt\n",
    "from tqdm.notebook import tqdm\n",
    "\n",
    "from qiskit import QuantumCircuit, transpile\n",
    "from qiskit_aer import AerSimulator\n",
    "from qiskit.quantum_info import SparsePauliOp, state_fidelity\n",
    "from qiskit.transpiler import PassManager\n",
    "\n",
    "from LogicalQ.Logical import LogicalCircuit, LogicalStatevector, logical_state_fidelity\n",
    "from LogicalQ.Library.QECCs import steane_code\n",
    "from LogicalQ.Library.HardwareModels import hardware_models_Quantinuum\n",
    "from LogicalQ.Experiments import execute_circuits\n",
    "from LogicalQ.Transpilation.UnBox import UnBoxTask\n",
    "from LogicalQ.tests.TestLogicalGates import TestRX\n",
    "\n",
    "%load_ext autoreload\n",
    "%autoreload 2"
   ]
  },
  {
   "cell_type": "markdown",
   "id": "65944a49",
   "metadata": {},
   "source": [
    "## Transverse Ising Model"
   ]
  },
  {
   "cell_type": "markdown",
   "id": "c63986ae",
   "metadata": {},
   "source": [
    "https://www.science.org/doi/epdf/10.1126/science.1208001\n",
    "\n",
    "TBF later"
   ]
  },
  {
   "cell_type": "markdown",
   "id": "997520bf",
   "metadata": {},
   "source": [
    "## Asymmetric Heisingberg Model"
   ]
  },
  {
   "cell_type": "markdown",
   "id": "30512867",
   "metadata": {},
   "source": [
    "### Optimal Clifford + T approximation\n",
    "\"Optimal ancilla-free Clifford+T approximation of z-rotations\" https://arxiv.org/pdf/1403.2975\n",
    "\n",
    "This paper could be useful in the future if it were extended to x-/y-rotations as well. However, implementation and understanding it seems far more difficult. Also, we do not have the factoring oracle required."
   ]
  },
  {
   "cell_type": "markdown",
   "id": "977020c7",
   "metadata": {},
   "source": [
    "### Solovay-Kitaev Algorithm"
   ]
  },
  {
   "cell_type": "code",
   "execution_count": null,
   "id": "3fbaebad",
   "metadata": {},
   "outputs": [],
   "source": [
    "from qiskit.transpiler.passes import SolovayKitaev\n",
    "from qiskit.synthesis import generate_basic_approximations\n",
    "from qiskit.circuit.library import RXGate, RYGate, RZGate, RXXGate, RYYGate, RZZGate"
   ]
  },
  {
   "cell_type": "code",
   "execution_count": null,
   "id": "d5d46989",
   "metadata": {},
   "outputs": [],
   "source": [
    "qc = QuantumCircuit(2)\n",
    "qc.rx(theta = np.pi/4, qubit = 0)\n",
    "qc.draw()"
   ]
  },
  {
   "cell_type": "code",
   "execution_count": null,
   "id": "43671f93",
   "metadata": {},
   "outputs": [],
   "source": [
    "def append_rot_gate(qc, axis = \"z\", theta = 0, qubit_indices = [0], label = None, return_subcircuit = False, depth = 18, recursion_degree = 1, box=True):\n",
    "    gates = {\"x\": (RXGate, 1), \"y\": (RYGate, 1), \"z\": (RZGate, 1), \"xx\": (RXXGate, 2), \"yy\": (RYYGate, 2), \"zz\": (RZZGate, 2)}\n",
    "    gate_base, num_target_qubits = gates[axis]\n",
    "    gate = gate_base(theta)\n",
    "    \n",
    "    sub_qc = QuantumCircuit(num_target_qubits)\n",
    " \n",
    "    def apply_Rzz(sub_qc):\n",
    "        sub_qc.cx(0, 1)\n",
    "        sub_qc.rz(theta, 1)\n",
    "        sub_qc.cx(0, 1)\n",
    " \n",
    "    match axis:\n",
    "        case \"xx\":\n",
    "            sub_qc.h([0, 1])\n",
    "            apply_Rzz(sub_qc)\n",
    "            sub_qc.h([0, 1])\n",
    "        case \"yy\":\n",
    "            sub_qc.rx(np.pi / 2, [0, 1])\n",
    "            apply_Rzz(sub_qc)\n",
    "            sub_qc.rx(-np.pi / 2, [0, 1])\n",
    "        case \"zz\":\n",
    "            apply_Rzz(sub_qc)\n",
    "        case _:        \n",
    "            sub_qc.append(gate, qargs = list(range(num_target_qubits)))\n",
    "    \n",
    "    basis = [\"s\", \"sdg\", \"t\", \"tdg\", \"h\", \"x\", \"y\", \"z\", \"cz\"]\n",
    "    approx = generate_basic_approximations(basis, depth=depth)\n",
    "    skd = SolovayKitaev(recursion_degree=recursion_degree, basic_approximations=approx)\n",
    "\n",
    "    discretized_sub_qc = skd(sub_qc)\n",
    "    box_label = fr\"S-K: R$_\\text{{{axis}}}$({np.round(theta / np.pi, 2)}$\\pi$)\" if label == None else label\n",
    "    def append_all():\n",
    "        for i in range(len(discretized_sub_qc.data)):\n",
    "                circuit_instruction = discretized_sub_qc.data[i]\n",
    "                qc.append(circuit_instruction)\n",
    "    \n",
    "    if box:\n",
    "        if isinstance(qc, LogicalCircuit):\n",
    "            with qc.box(label=f\"logical.logicalop.R:{box_label}\"):\n",
    "                append_all()\n",
    "        elif isinstance(qc, QuantumCircuit):\n",
    "            with qc.box(label=f\"R:{box_label}\"):\n",
    "                append_all()\n",
    "        else:\n",
    "            raise AssertionError(\"qc is not a valid QuantumCircuit or LogicalCircuit.\")\n",
    "    else:\n",
    "        append_all()\n",
    "    \n",
    "    if return_subcircuit:\n",
    "        return qc, discretized_sub_qc\n",
    "    else:\n",
    "        return qc\n",
    "\n",
    "qc = append_rot_gate(qc, \"xx\", np.pi, [0, 1])\n",
    "qc.draw(output=\"mpl\")"
   ]
  },
  {
   "cell_type": "markdown",
   "id": "05dc950a",
   "metadata": {},
   "source": [
    "### Rxx, Ryy, Rzz Gate Validations"
   ]
  },
  {
   "cell_type": "code",
   "execution_count": null,
   "id": "060b2f67",
   "metadata": {},
   "outputs": [],
   "source": [
    "from qiskit.quantum_info import Statevector\n",
    "from qiskit.primitives import StatevectorSampler\n",
    "sampler = StatevectorSampler()\n",
    "\n",
    "ratio = 7 / 33 # picked a weird fraction of pi to make the test more robust\n",
    "\n",
    "Rzz_ref = QuantumCircuit(2)\n",
    "Rzz_ref.rzz(ratio * np.pi, 0, 1)\n",
    "\n",
    "state = Statevector.from_instruction(Rzz_ref)\n",
    "state.draw(output=\"latex\")"
   ]
  },
  {
   "cell_type": "code",
   "execution_count": null,
   "id": "300c9052",
   "metadata": {},
   "outputs": [],
   "source": [
    "Rzz_alg = QuantumCircuit(2)\n",
    "Rzz_alg = append_rot_gate(Rzz_alg, \"zz\", ratio * np.pi, qubit_indices=[0,1])\n",
    "\n",
    "state = Statevector.from_instruction(Rzz_ref)\n",
    "state.draw(output=\"latex\")"
   ]
  },
  {
   "cell_type": "code",
   "execution_count": null,
   "id": "820994e7",
   "metadata": {},
   "outputs": [],
   "source": [
    "ratio = 15 / 33 # picked a weird fraction of pi to make the test more robust\n",
    "\n",
    "Rxx_ref = QuantumCircuit(2)\n",
    "Rxx_ref.rxx(ratio * np.pi, 0, 1)\n",
    "\n",
    "state = Statevector.from_instruction(Rxx_ref)\n",
    "state.draw(output=\"latex\")"
   ]
  },
  {
   "cell_type": "code",
   "execution_count": null,
   "id": "011c6496",
   "metadata": {},
   "outputs": [],
   "source": [
    "Rxx_alg = QuantumCircuit(2)\n",
    "Rxx_alg = append_rot_gate(Rxx_alg, \"xx\", ratio * np.pi, qubit_indices=[0,1])\n",
    "\n",
    "state = Statevector.from_instruction(Rxx_ref)\n",
    "state.draw(output=\"latex\")"
   ]
  },
  {
   "cell_type": "code",
   "execution_count": null,
   "id": "95b4cd07",
   "metadata": {},
   "outputs": [],
   "source": [
    "ratio = 19 / 33 # picked a weird fraction of pi to make the test more robust\n",
    "\n",
    "Ryy_ref = QuantumCircuit(2)\n",
    "Ryy_ref.rxx(ratio * np.pi, 0, 1)\n",
    "\n",
    "state = Statevector.from_instruction(Ryy_ref)\n",
    "state.draw(output=\"latex\")"
   ]
  },
  {
   "cell_type": "code",
   "execution_count": null,
   "id": "cb3b3787",
   "metadata": {},
   "outputs": [],
   "source": [
    "Ryy_alg = QuantumCircuit(2)\n",
    "Ryy_alg = append_rot_gate(Ryy_alg, \"yy\", ratio * np.pi, qubit_indices=[0,1])\n",
    "\n",
    "state = Statevector.from_instruction(Ryy_ref)\n",
    "state.draw(output=\"latex\")"
   ]
  },
  {
   "cell_type": "markdown",
   "id": "c5386c3f",
   "metadata": {},
   "source": [
    "### Build AH model"
   ]
  },
  {
   "cell_type": "code",
   "execution_count": null,
   "id": "d7f017a5",
   "metadata": {},
   "outputs": [],
   "source": [
    "def Hxy(dt, J):\n",
    "    theta = dt * J\n",
    "    \n",
    "    qc = QuantumCircuit(2)\n",
    "    with qc.box(label=\"Hxy\"):\n",
    "        qc = append_rot_gate(qc, \"xx\", theta, [0, 1])\n",
    "        qc = append_rot_gate(qc, \"yy\", theta, [0, 1])\n",
    "    return qc\n",
    "\n",
    "def get_heisenberg_model_circuit(dt, J, depth = 10, recursion_degree = 1, initial_sv = None):\n",
    "    qc = QuantumCircuit(2)\n",
    "    \n",
    "    if isinstance(initial_sv, Statevector):\n",
    "        qc.initialize(initial_sv, [0,1])\n",
    "    \n",
    "    theta = J * dt\n",
    "    append_rot_gate(qc, \"xx\", 2 * theta, [0, 1], depth=depth, recursion_degree=recursion_degree)\n",
    "    append_rot_gate(qc, \"yy\", 2 * theta, [0, 1], depth=depth, recursion_degree=recursion_degree)\n",
    "    append_rot_gate(qc, \"zz\", 2 * theta, [0, 1], depth=depth, recursion_degree=recursion_degree)\n",
    "    \n",
    "    return qc"
   ]
  },
  {
   "cell_type": "markdown",
   "id": "05823721",
   "metadata": {},
   "source": [
    "Testing if Hxy gives the correct circuit:"
   ]
  },
  {
   "cell_type": "code",
   "execution_count": null,
   "id": "80cc9c5d",
   "metadata": {},
   "outputs": [],
   "source": [
    "qc_test = QuantumCircuit(2)\n",
    "H_xy = Hxy(1.0, np.pi)\n",
    "qc_test = qc_test.compose(H_xy, [0, 1], front=True)\n",
    "qc_test.draw(output=\"mpl\")"
   ]
  },
  {
   "cell_type": "markdown",
   "id": "605e3958",
   "metadata": {},
   "source": [
    "Testing if get_heisenberg_model_circuit gives the correct circuit:"
   ]
  },
  {
   "cell_type": "code",
   "execution_count": null,
   "id": "05cf1c55",
   "metadata": {},
   "outputs": [],
   "source": [
    "qc = get_heisenberg_model_circuit(0.01, 1)\n",
    "qc.draw(output=\"mpl\")"
   ]
  },
  {
   "cell_type": "markdown",
   "id": "a8024222",
   "metadata": {},
   "source": [
    "## Matching paper results\n",
    "\n",
    "We are going to initialize our 2-qubit system in the $\\frac{1}{\\sqrt{5}}(\\ket{\\uparrow}+2\\ket{\\downarrow})\\otimes \\ket{\\downarrow}$ state, and then graph expectation values and fidelity as a function of $\\theta$."
   ]
  },
  {
   "cell_type": "markdown",
   "id": "d7f72c30",
   "metadata": {},
   "source": [
    "### Validate noiseless AH quantum circuit"
   ]
  },
  {
   "cell_type": "code",
   "execution_count": null,
   "id": "16583789",
   "metadata": {},
   "outputs": [],
   "source": [
    "def get_op_count(qc):\n",
    "\n",
    "    op_counts = qc.count_ops()\n",
    "    print(f\"\\nDetailed operation counts: {op_counts}\")\n",
    "\n",
    "    num_measurements = op_counts.get('measure', 0)\n",
    "    print(f\"Number of measurements: {num_measurements}\")\n",
    "\n",
    "    total_ops = qc.size()\n",
    "    print(f\"Total number of operations: {total_ops}\")"
   ]
  },
  {
   "cell_type": "code",
   "execution_count": null,
   "id": "0d40b174",
   "metadata": {},
   "outputs": [],
   "source": [
    "J_coupling = 2 * np.pi * 6E6\n",
    "theta_final = np.pi / 4\n",
    "num_steps = 20\n",
    "thetas = np.linspace(0, theta_final, num_steps)\n",
    "dt = (theta_final / J_coupling) / num_steps\n",
    "\n",
    "# Initial state: 1/sqrt(5) * (|0> + 2|1>) @ |1>  = 1/sqrt(5) * (|01> + 2|11>)\n",
    "initial_state_vector = np.array([1, 0, 2, 0]) / np.sqrt(5)\n",
    "initial_sv = Statevector(initial_state_vector)\n",
    "\n",
    "# Define observables for expectation values\n",
    "X1 = SparsePauliOp(\"XI\")\n",
    "X2 = SparsePauliOp(\"IX\")\n",
    "\n",
    "# H = J * (XX + YY + ZZ)\n",
    "heisenberg_hamiltonian = J_coupling * (\n",
    "    SparsePauliOp(\"XX\") + SparsePauliOp(\"YY\") + SparsePauliOp(\"ZZ\")\n",
    ")\n",
    "H_matrix = heisenberg_hamiltonian.to_matrix()\n",
    "\n",
    "trotter_step_circuit = get_heisenberg_model_circuit(dt, J_coupling, depth=20, recursion_degree=1)\n",
    "pm = PassManager([UnBoxTask()])\n",
    "trotter_decomp = pm.run(trotter_step_circuit)\n",
    "\n",
    "results = {\n",
    "    \"statevectors\": [],\n",
    "    \"exp_x1\": [],\n",
    "    \"exp_x2\": [],\n",
    "    \"fidelities\": []\n",
    "}\n",
    "\n",
    "# Start with a copy of the initial statevector\n",
    "current_sv = initial_sv.copy()\n",
    "\n",
    "for step in tqdm(range(num_steps)):\n",
    "    \n",
    "    # Evolve current statevector by 1 iter.\n",
    "    current_sv = current_sv.evolve(trotter_decomp)\n",
    "    results[\"statevectors\"].append(current_sv.copy())\n",
    "    \n",
    "    # Calculate exp. values\n",
    "    exp_x1 = current_sv.expectation_value(X1).real\n",
    "    exp_x2 = current_sv.expectation_value(X2).real\n",
    "    results[\"exp_x1\"].append(exp_x1)\n",
    "    results[\"exp_x2\"].append(exp_x2)\n",
    "    \n",
    "    # Calculate fidelity\n",
    "    current_time = (step + 1) * dt\n",
    "    U_ideal = expm(-1j * H_matrix * current_time)\n",
    "    ideal_sv = Statevector(np.dot(U_ideal, initial_state_vector))\n",
    "    fidelity = state_fidelity(current_sv, ideal_sv)\n",
    "    results[\"fidelities\"].append(fidelity)\n",
    "\n",
    "print(\"Optimized simulation complete!\")\n",
    "print(f\"Stored data for {len(results['statevectors'])} time steps.\")"
   ]
  },
  {
   "cell_type": "code",
   "execution_count": null,
   "id": "61a0628f",
   "metadata": {},
   "outputs": [],
   "source": [
    "plt.style.use('seaborn-v0_8-darkgrid')\n",
    "fig, ax = plt.subplots(figsize=(10, 6))\n",
    "\n",
    "ax.plot(thetas, results[\"exp_x1\"], 'o-', label=r'$\\langle\\sigma_1^x\\rangle$')\n",
    "ax.plot(thetas, results[\"exp_x2\"], 's-', label=r'$\\langle\\sigma_2^x\\rangle$')\n",
    "ax.plot(thetas, results[\"fidelities\"], '^-', label='Fidelity', color='green')\n",
    "\n",
    "ax.set_xlabel(r'$\\theta = Jt$', fontsize=14)\n",
    "ax.set_ylabel('Expectation Value / Fidelity', fontsize=14)\n",
    "ax.set_title('Heisenberg Model Time Evolution', fontsize=16)\n",
    "ax.legend(fontsize=12)\n",
    "plt.show()"
   ]
  },
  {
   "cell_type": "markdown",
   "id": "e80303fc",
   "metadata": {},
   "source": [
    "### Validate LogicalCircuit transpilation"
   ]
  },
  {
   "cell_type": "markdown",
   "id": "f1feece1",
   "metadata": {},
   "source": [
    "Identify which gates are present in trotter_decomp to manually verify that the step circuit contains only Clifford+T gates:\n",
    "- LogicalQ defaults to appending Qiskit gates where a Logical.py version is not implemented, including U gates, which are not in Clifford + T"
   ]
  },
  {
   "cell_type": "code",
   "execution_count": null,
   "id": "0b952da5",
   "metadata": {},
   "outputs": [],
   "source": [
    "pm = PassManager([UnBoxTask()])\n",
    "trotter_decomp = pm.run(trotter_step_circuit)\n",
    "set([op.name for op in trotter_decomp.data])"
   ]
  },
  {
   "cell_type": "markdown",
   "id": "f88b83a0",
   "metadata": {},
   "source": [
    "We generate a new trotter_step_circuit from scratch to ensure it is free from prior code runs. It will serve as a testbed to estimate the number of gates in the step circuit. This is useful for estimating hardware budgets."
   ]
  },
  {
   "cell_type": "code",
   "execution_count": null,
   "id": "73576e43",
   "metadata": {},
   "outputs": [],
   "source": [
    "J_coupling = 2 * np.pi * 6E6\n",
    "theta_final = np.pi / 4\n",
    "num_steps = 20\n",
    "dt = (theta_final / J_coupling) / num_steps\n",
    "\n",
    "initial_state_vector = np.array([1, 0, 2, 0]) / np.sqrt(5)\n",
    "initial_sv = Statevector(initial_state_vector)\n",
    "\n",
    "trotter_step_circuit = get_heisenberg_model_circuit(dt, J_coupling, depth=20, recursion_degree=1)#, initial_sv=initial_sv)\n",
    "pm = PassManager([UnBoxTask()])\n",
    "trotter_decomp = pm.run(trotter_step_circuit)\n",
    "#trotter_decomp.initialize(current_sv, [0,1])"
   ]
  },
  {
   "cell_type": "code",
   "execution_count": null,
   "id": "a2ce5b11",
   "metadata": {},
   "outputs": [],
   "source": [
    "get_op_count(trotter_decomp)"
   ]
  },
  {
   "cell_type": "code",
   "execution_count": null,
   "id": "139f95f4",
   "metadata": {},
   "outputs": [],
   "source": [
    "lqcirc = LogicalCircuit.from_physical_circuit(trotter_decomp, **steane_code)    \n",
    "lqcirc.encode([0, 1])\n",
    "lqcirc.measure([0, 1], [0, 1], with_error_correction=False)\n",
    "\n",
    "pm = PassManager([UnBoxTask()])\n",
    "unboxed_circuit = pm.run(lqcirc)"
   ]
  },
  {
   "cell_type": "code",
   "execution_count": null,
   "id": "8a6fdc24",
   "metadata": {},
   "outputs": [],
   "source": [
    "unboxed_circuit.count_ops()"
   ]
  },
  {
   "cell_type": "code",
   "execution_count": null,
   "id": "52f238c4",
   "metadata": {},
   "outputs": [],
   "source": [
    "print(f\"Num ops: {sum(list(unboxed_circuit.count_ops().values()))}\")"
   ]
  },
  {
   "cell_type": "markdown",
   "id": "d7f5a8f6",
   "metadata": {},
   "source": [
    "For one day, when we support arbitrary statevector initialization:"
   ]
  },
  {
   "cell_type": "code",
   "execution_count": null,
   "id": "60ac4033",
   "metadata": {},
   "outputs": [],
   "source": [
    "# Sim parameters\n",
    "J_coupling = 2 * np.pi * 6E6\n",
    "theta_final = np.pi / 4\n",
    "num_steps = 20\n",
    "thetas = np.linspace(0, theta_final, num_steps)\n",
    "dt = (theta_final / J_coupling) / num_steps\n",
    "\n",
    "# Initial state: 1/sqrt(5) * (|0> + 2|1>) @ |1>  = 1/sqrt(5) * (|01> + 2|11>)\n",
    "initial_state_vector = np.array([1, 0, 2, 0]) / np.sqrt(5)\n",
    "initial_sv = Statevector(initial_state_vector)\n",
    "\n",
    "# Define observables for expectation values\n",
    "X1 = SparsePauliOp(\"XI\")\n",
    "X2 = SparsePauliOp(\"IX\")\n",
    "\n",
    "# H = J * (XX + YY + ZZ)\n",
    "heisenberg_hamiltonian = J_coupling * (\n",
    "    SparsePauliOp(\"XX\") + SparsePauliOp(\"YY\") + SparsePauliOp(\"ZZ\")\n",
    ")\n",
    "H_matrix = heisenberg_hamiltonian.to_matrix()\n",
    "\n",
    "results = {\n",
    "    \"statevectors\": [],\n",
    "    \"exp_x1\": [],\n",
    "    \"exp_x2\": [],\n",
    "    \"fidelities\": []\n",
    "}\n",
    "\n",
    "# Start with a copy of the initial statevector\n",
    "current_sv = initial_sv.copy()\n",
    "\n",
    "for step in tqdm(range(num_steps)):\n",
    "    \n",
    "    # Evolve current statevector by 1 iter.\n",
    "    #current_sv = current_sv.evolve(lg_trotter_step_circuit)\n",
    "    #trotter_step_circuit.initialize(current_sv)\n",
    "    trotter_step_circuit = get_heisenberg_model_circuit(dt, J_coupling, depth=20, recursion_degree=1, initial_sv=current_sv)\n",
    "    lqcirc = LogicalCircuit.from_physical_circuit(trotter_step_circuit.decompose(), **steane_code)\n",
    "    lqcirc.encode(0)\n",
    "    lqcirc.measure([0, 1], [0, 1], with_error_correction=False)\n",
    "    \n",
    "    if step == 0:\n",
    "        get_op_count(lqcirc.decompose(reps=2))\n",
    "        print(lqcirc.count_ops())\n",
    "    \n",
    "    result = execute_circuits(lqcirc, backend=\"aer_simulator\", hardware_model=hardware_models_Quantinuum[\"H2-1\"], coupling_map=None, shots=1, save_statevector=True)[0]\n",
    "    #output = result.get_memory(lqcirc)\n",
    "    #counts = lqcirc.get_logical_counts(output)\n",
    "    current_sv = result[\"statevector\"]\n",
    "    \n",
    "    results[\"statevectors\"].append(current_sv.copy())\n",
    "    \n",
    "    # Calculate exp. values\n",
    "    exp_x1 = current_sv.expectation_value(X1).real\n",
    "    exp_x2 = current_sv.expectation_value(X2).real\n",
    "    results[\"exp_x1\"].append(exp_x1)\n",
    "    results[\"exp_x2\"].append(exp_x2)\n",
    "    \n",
    "    # Calculate fidelity\n",
    "    current_time = (step + 1) * dt\n",
    "    U_ideal = expm(-1j * H_matrix * current_time)\n",
    "    ideal_sv = Statevector(np.dot(U_ideal, initial_state_vector))\n",
    "    fidelity = state_fidelity(current_sv, ideal_sv)\n",
    "    results[\"fidelities\"].append(fidelity)\n",
    "\n",
    "print(\"Optimized simulation complete!\")\n",
    "print(f\"Stored data for {len(results['statevectors'])} time steps.\")"
   ]
  },
  {
   "cell_type": "code",
   "execution_count": null,
   "id": "6cb00848",
   "metadata": {},
   "outputs": [],
   "source": [
    "plt.style.use('seaborn-v0_8-darkgrid')\n",
    "fig, ax = plt.subplots(figsize=(10, 6))\n",
    "\n",
    "ax.plot(thetas, results[\"exp_x1\"], 'o-', label=r'$\\langle\\sigma_1^x\\rangle$')\n",
    "ax.plot(thetas, results[\"exp_x2\"], 's-', label=r'$\\langle\\sigma_2^x\\rangle$')\n",
    "ax.plot(thetas, results[\"fidelities\"], '^-', label='Fidelity', color='green')\n",
    "\n",
    "ax.set_xlabel(r'$\\theta = Jt$', fontsize=14)\n",
    "ax.set_ylabel('Expectation Value / Fidelity', fontsize=14)\n",
    "ax.set_title('Heisenberg Model Time Evolution', fontsize=16)\n",
    "ax.legend(fontsize=12)\n",
    "plt.show()"
   ]
  },
  {
   "cell_type": "markdown",
   "id": "104a8799",
   "metadata": {},
   "source": [
    "# Check length of logical rotation gates"
   ]
  },
  {
   "cell_type": "code",
   "execution_count": null,
   "id": "683c0c41",
   "metadata": {},
   "outputs": [],
   "source": [
    "J_coupling = 2 * np.pi * 6E6\n",
    "theta_final = np.pi / 4\n",
    "num_steps = 20\n",
    "thetas = np.linspace(0, theta_final, num_steps)\n",
    "theta = thetas[4]\n",
    "\n",
    "qc = QuantumCircuit(1)\n",
    "append_rot_gate(qc, \"x\", 2 * theta, [0], depth=20, recursion_degree=1)"
   ]
  },
  {
   "cell_type": "code",
   "execution_count": null,
   "id": "9dbb8876",
   "metadata": {},
   "outputs": [],
   "source": [
    "qc.draw(output='mpl')"
   ]
  },
  {
   "cell_type": "code",
   "execution_count": null,
   "id": "4b00a5a2",
   "metadata": {},
   "outputs": [],
   "source": [
    "pm = PassManager([UnBoxTask()])\n",
    "qc_unboxed = pm.run(qc)\n",
    "\n",
    "qc_unboxed.count_ops()"
   ]
  },
  {
   "cell_type": "code",
   "execution_count": null,
   "id": "358e7de6",
   "metadata": {},
   "outputs": [],
   "source": [
    "print(qc_unboxed.size())"
   ]
  },
  {
   "cell_type": "markdown",
   "id": "b4588128",
   "metadata": {},
   "source": [
    "## Check LCU implementation of R gates\n",
    "\n",
    "This code section is deprecated, and the user is warned that it is not up to the repo standards for code quality, and potentially will not function."
   ]
  },
  {
   "cell_type": "code",
   "execution_count": null,
   "id": "90299b16",
   "metadata": {},
   "outputs": [],
   "source": [
    "def TestRx(qeccs=None, shots=5e3, num_steps=16):\n",
    "\n",
    "    lsv_list = []\n",
    "\n",
    "    thetas = np.linspace(0, 2 * np.pi, num_steps)\n",
    "    fidelity_per_theta = {}\n",
    "\n",
    "    for theta in tqdm(thetas):\n",
    "        fidelities = []\n",
    "        for qecc in qeccs:\n",
    "            n, k, d = qecc[\"label\"]\n",
    "\n",
    "            lqc_rx = LogicalCircuit(k, **qecc)\n",
    "            lqc_rx.encode([0], initial_states=[0])\n",
    "\n",
    "            targets = list(range(k))\n",
    "            lqc_rx.rx([0], theta)\n",
    "\n",
    "            lqc_rx.measure_all()\n",
    "    \n",
    "            result = execute_circuits(lqc_rx, backend=\"aer_simulator\", shots=shots, save_statevector=True)[0]#, hardware_model=hardware_models_Quantinuum[\"H2-1\"])[0] #, coupling_map=None,\n",
    "            sv = result.get_statevector()\n",
    "            lsv = LogicalStatevector(sv, lqc_rx, k, qecc[\"label\"], qecc[\"stabilizer_tableau\"])\n",
    "            \n",
    "            \n",
    "            qc_rx = QuantumCircuit(1)\n",
    "            qc_rx.rx(theta, 0)\n",
    "            target_sv = Statevector(qc_rx)\n",
    "            \n",
    "            lsv_list.append((sv,lsv,target_sv))\n",
    "            \n",
    "            fidelity = logical_state_fidelity(lsv, target_sv)\n",
    "            fidelities.append(fidelity)\n",
    "        fidelity_per_theta[theta] = fidelities\n",
    "\n",
    "    return fidelity_per_theta, lsv_list\n",
    "\n",
    "\n",
    "fidelities_per_theta, lsv_list = TestRx([steane_code], 5e2, 32)\n",
    "\n",
    "fidel_list = [el[0] for el in list(fidelities_per_theta.values())]\n",
    "\n",
    "num_steps = 32\n",
    "thetas = np.linspace(0, 2 * np.pi, num_steps)\n",
    "import matplotlib.pyplot as plt\n",
    "plt.scatter(thetas, fidel_list)\n",
    "plt.title(\"Ry Gate Fidelity with Parameter Theta\")\n",
    "plt.xlabel(\"Theta (rad)\")\n",
    "plt.ylabel(\"Fidelity\")"
   ]
  },
  {
   "cell_type": "code",
   "execution_count": null,
   "id": "03645e7c",
   "metadata": {},
   "outputs": [],
   "source": [
    "TestRx([steane_code], 50, 16)"
   ]
  },
  {
   "cell_type": "code",
   "execution_count": null,
   "id": "6e759ac9",
   "metadata": {},
   "outputs": [],
   "source": [
    "#ctrl_state='10'\n",
    "sv, lsv, target_sv = lsv_list[3]\n",
    "lsv.draw(output='latex')"
   ]
  },
  {
   "cell_type": "code",
   "execution_count": null,
   "id": "1d98129d",
   "metadata": {},
   "outputs": [],
   "source": [
    "target_sv.draw(output='latex')"
   ]
  },
  {
   "cell_type": "code",
   "execution_count": null,
   "id": "688ac2bc",
   "metadata": {},
   "outputs": [],
   "source": [
    "logical_state_fidelity(lsv, target_sv)"
   ]
  },
  {
   "cell_type": "code",
   "execution_count": null,
   "id": "07399368",
   "metadata": {},
   "outputs": [],
   "source": [
    "fidel_list = [el[0] for el in list(fidelities_per_theta.values())]\n",
    "#fidel_list[fidel_list == [np.nan]] = 0\n",
    "\n",
    "num_steps = 64\n",
    "thetas = np.linspace(0, 2 * np.pi, num_steps)\n",
    "import matplotlib.pyplot as plt\n",
    "plt.scatter(thetas, fidel_list)\n",
    "plt.title(\"Ry Gate Fidelity with Parameter Theta\")\n",
    "plt.xlabel(\"Theta (rad)\")\n",
    "plt.ylabel(\"Fidelity\")"
   ]
  },
  {
   "cell_type": "code",
   "execution_count": null,
   "id": "7cdc4c19",
   "metadata": {},
   "outputs": [],
   "source": [
    "from LogicalQ.Library.QECCs import steane_code\n",
    "from LogicalQ.Logical import LogicalStatevector, logical_state_fidelity, LogicalCircuit\n",
    "from LogicalQ.tests.TestLogicalGates import TestRx\n",
    "from LogicalQ.Library.QECCs import steane_code\n",
    "from LogicalQ.Experiments import execute_circuits\n",
    "from qiskit import QuantumCircuit\n",
    "from qiskit.quantum_info import Statevector\n",
    "from tqdm import tqdm\n",
    "import numpy as np\n",
    "\n",
    "shots = 500\n",
    "thetas = np.linspace(0, 2 * np.pi, 16)\n",
    "theta = 1 #thetas[2]\n",
    "qecc = steane_code\n",
    "n, k, d = qecc[\"label\"]\n",
    "\n",
    "lqc_rx = LogicalCircuit(k, **qecc)\n",
    "lqc_rx.encode([0], initial_states=[0])\n",
    "\n",
    "targets = list(range(k))\n",
    "lqc_rx.rx(targets, np.pi)\n",
    "#lqc_rx.x(0)\n",
    "\n",
    "lqc_rx.measure_all()\n",
    "\n",
    "result = execute_circuits(lqc_rx, backend=\"aer_simulator\", shots=shots, save_statevector=True)[0] #hardware_model=hardware_models_Quantinuum[\"H2-1\"], coupling_map=None,\n",
    "sv = result.get_statevector()\n",
    "sv.draw(output='latex')"
   ]
  },
  {
   "cell_type": "code",
   "execution_count": null,
   "id": "fc1d115f",
   "metadata": {},
   "outputs": [],
   "source": [
    "print(np.where(sv.data != 0))\n",
    "lsv = LogicalStatevector(sv, lqc_rx, k, qecc[\"label\"], qecc[\"stabilizer_tableau\"])\n",
    "\n",
    "qc_rx = QuantumCircuit(1)\n",
    "qc_rx.rx(theta, 0)\n",
    "target_sv = Statevector(qc_rx)\n",
    "\n",
    "fidelity = logical_state_fidelity(lsv, target_sv)\n",
    "fidelity"
   ]
  }
 ],
 "metadata": {
  "kernelspec": {
   "display_name": "venv (3.12.6)",
   "language": "python",
   "name": "python3"
  },
  "language_info": {
   "codemirror_mode": {
    "name": "ipython",
    "version": 3
   },
   "file_extension": ".py",
   "mimetype": "text/x-python",
   "name": "python",
   "nbconvert_exporter": "python",
   "pygments_lexer": "ipython3",
   "version": "3.12.6"
  }
 },
 "nbformat": 4,
 "nbformat_minor": 5
}

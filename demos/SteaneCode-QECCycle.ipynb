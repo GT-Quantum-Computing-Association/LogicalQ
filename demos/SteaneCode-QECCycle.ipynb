{
 "cells": [
  {
   "cell_type": "markdown",
   "metadata": {},
   "source": [
    "## Introduction\n",
    "\n",
    "In this tutorial, we will go through a complete QEC cycle.\n"
   ]
  },
  {
   "cell_type": "code",
   "execution_count": 8,
   "metadata": {},
   "outputs": [],
   "source": [
    "from qiskit import QuantumRegister, ClassicalRegister, QuantumCircuit"
   ]
  },
  {
   "cell_type": "code",
   "execution_count": 9,
   "metadata": {},
   "outputs": [],
   "source": [
    "def encode_gate():\n",
    "    encoding_circuit = QuantumCircuit(7)\n",
    "    encoding_circuit.h(0)\n",
    "    encoding_circuit.h(4)\n",
    "    encoding_circuit.h(6)\n",
    "    encoding_circuit.cx(0, 1)\n",
    "    encoding_circuit.cx(4, 5)\n",
    "    encoding_circuit.cx(6, 3)\n",
    "    encoding_circuit.cx(4, 2)\n",
    "    encoding_circuit.cx(6, 5)\n",
    "    encoding_circuit.cx(0, 3)\n",
    "    encoding_circuit.cx(4, 1)\n",
    "    encoding_circuit.cx(3, 2)\n",
    "\n",
    "    return encoding_circuit.to_gate(label=\"$U_\\\\text{enc}$\")\n",
    "\n",
    "prev_syndrome = [0, 0, 0]\n",
    "curr_syndrome = [0, 0, 0]\n",
    "\n",
    "def first_flagged_syndrome_gate(iterations_remaining):\n",
    "    l_qreg = QuantumRegister(7)\n",
    "    a_qreg = QuantumRegister(3)\n",
    "    m_creg = ClassicalRegister(3)\n",
    "    qcirc = QuantumCircuit(l_qreg, a_qreg, m_creg)\n",
    "\n",
    "    qcirc.reset(a_qreg)\n",
    "\n",
    "    qcirc.h(a_qreg[0])\n",
    "\n",
    "    qcirc.cx(a_qreg[0], l_qreg[3])\n",
    "    qcirc.cx(l_qreg[2], a_qreg[2])\n",
    "    qcirc.cx(l_qreg[5], a_qreg[1])\n",
    "    qcirc.cx(a_qreg[0], a_qreg[1])\n",
    "    qcirc.cx(a_qreg[0], l_qreg[0])\n",
    "    qcirc.cx(l_qreg[3], a_qreg[2])\n",
    "    qcirc.cx(l_qreg[4], a_qreg[1])\n",
    "    qcirc.cx(a_qreg[0], l_qreg[1])\n",
    "    qcirc.cx(l_qreg[6], a_qreg[2])\n",
    "    qcirc.cx(l_qreg[2], a_qreg[1])\n",
    "    qcirc.cx(a_qreg[0], a_qreg[2])\n",
    "    qcirc.cx(a_qreg[0], l_qreg[2])\n",
    "    qcirc.cx(l_qreg[5], a_qreg[2])\n",
    "    qcirc.cx(l_qreg[1], a_qreg[1])\n",
    "\n",
    "    qcirc.h(a_qreg[0])\n",
    "\n",
    "    for i in range(3):\n",
    "        with qcirc.if_test((m_creg[i], 0)) as else_:\n",
    "            curr_syndrome[i] = 0\n",
    "        with else_:\n",
    "            curr_syndrome[i] = 1\n",
    "\n",
    "    if prev_syndrome == curr_syndrome:\n",
    "        qcirc = qcirc.compose(second_flagged_syndrome_gate(iterations_remaining), l_qreg[:] + a_qreg[:])\n",
    "    else:\n",
    "        qcirc = qcirc.compose(unflagged_syndrome_gate(iterations_remaining), l_qreg[:] + a_qreg[:])\n",
    "\n",
    "    prev_syndrome = curr_syndrome\n",
    "\n",
    "    return qcirc.to_gate(label=\"{$S_1^f, \\\\ S_5^f, \\\\ S_6^f$}\")\n",
    "\n",
    "def second_flagged_syndrome_gate(iterations_remaining):\n",
    "    l_qreg = QuantumRegister(7)\n",
    "    a_qreg = QuantumRegister(3)\n",
    "    m_creg = ClassicalRegister(3)\n",
    "    qcirc = QuantumCircuit(l_qreg, a_qreg, m_creg)\n",
    "\n",
    "    qcirc.reset(a_qreg)\n",
    "\n",
    "    qcirc.h(a_qreg[1])\n",
    "    qcirc.h(a_qreg[2])\n",
    "\n",
    "    qcirc.cx(l_qreg[3], a_qreg[0])\n",
    "    qcirc.cx(a_qreg[2], l_qreg[2])\n",
    "    qcirc.cx(a_qreg[1], l_qreg[5])\n",
    "    qcirc.cx(a_qreg[1], a_qreg[0])\n",
    "    qcirc.cx(l_qreg[0], a_qreg[0])\n",
    "    qcirc.cx(a_qreg[2], l_qreg[3])\n",
    "    qcirc.cx(a_qreg[1], l_qreg[4])\n",
    "    qcirc.cx(l_qreg[1], a_qreg[0])\n",
    "    qcirc.cx(a_qreg[2], l_qreg[6])\n",
    "    qcirc.cx(a_qreg[1], l_qreg[2])\n",
    "    qcirc.cx(a_qreg[2], a_qreg[0])\n",
    "    qcirc.cx(l_qreg[2], a_qreg[0])\n",
    "    qcirc.cx(a_qreg[2], l_qreg[5])\n",
    "    qcirc.cx(a_qreg[1], l_qreg[1])\n",
    "\n",
    "    qcirc.h(a_qreg[1])\n",
    "    qcirc.h(a_qreg[2])\n",
    "\n",
    "    for i in range(3):\n",
    "        with qcirc.if_test((m_creg[i], 0)) as else_:\n",
    "            curr_syndrome[i] = 0\n",
    "        with else_:\n",
    "            curr_syndrome[i] = 1\n",
    "\n",
    "    if prev_syndrome == curr_syndrome:\n",
    "        if iterations_remaining > 0:\n",
    "            qcirc = qcirc.compose(first_flagged_syndrome_gate(iterations_remaining-1), l_qreg[:] + a_qreg[:])\n",
    "    else:\n",
    "        qcirc = qcirc.compose(unflagged_syndrome_gate(iterations_remaining), l_qreg[:] + a_qreg[:])\n",
    "\n",
    "    prev_syndrome = curr_syndrome\n",
    "\n",
    "    return qcirc.to_gate(label=\"{$S_2^f, \\\\ S_3^f, \\\\ S_4^f$}\")\n",
    "\n",
    "def unflagged_syndrome_gate(iterations_remaining):\n",
    "    l_qreg = QuantumRegister(7)\n",
    "    a_qreg = QuantumRegister(3)\n",
    "    m_creg = ClassicalRegister(3)\n",
    "    qcirc = QuantumCircuit(l_qreg, a_qreg, m_creg)\n",
    "\n",
    "    qcirc.reset(a_qreg)\n",
    "    \n",
    "    qcirc.h(a_qreg[0])\n",
    "    qcirc.cx(l_qreg[0],a_qreg[0])\n",
    "    qcirc.cx(l_qreg[1],a_qreg[0])\n",
    "    qcirc.cx(l_qreg[2],a_qreg[0])\n",
    "    qcirc.cx(l_qreg[3],a_qreg[0])\n",
    "    qcirc.h(a_qreg[0])\n",
    "\n",
    "    qcirc.h(a_qreg[1])\n",
    "    qcirc.cx(l_qreg[1],a_qreg[1])\n",
    "    qcirc.cx(l_qreg[2],a_qreg[1])\n",
    "    qcirc.cx(l_qreg[4],a_qreg[1])\n",
    "    qcirc.cx(l_qreg[5],a_qreg[1])\n",
    "    qcirc.h(a_qreg[1])\n",
    "\n",
    "    qcirc.h(a_qreg[2])\n",
    "    qcirc.cx(l_qreg[2],a_qreg[2])\n",
    "    qcirc.cx(l_qreg[3],a_qreg[2])\n",
    "    qcirc.cx(l_qreg[5],a_qreg[2])\n",
    "    qcirc.cx(l_qreg[6],a_qreg[2])\n",
    "    qcirc.h(a_qreg[2])\n",
    "\n",
    "    for i in range(3):\n",
    "        with qcirc.if_test((m_creg[i], 0)) as else_:\n",
    "            curr_syndrome[i] = 0\n",
    "        with else_:\n",
    "            curr_syndrome[i] = 1\n",
    "\n",
    "    if iterations_remaining > 0:\n",
    "        qcirc = qcirc.compose(first_flagged_syndrome_gate(iterations_remaining-1), l_qreg[:] + a_qreg[:])\n",
    "\n",
    "    prev_syndrome = curr_syndrome\n",
    "\n",
    "    return qcirc.to_gate(label=\"{$S_1, S_2, S_3, S_4, S_5, S_6$}\")"
   ]
  },
  {
   "cell_type": "code",
   "execution_count": 10,
   "metadata": {},
   "outputs": [],
   "source": [
    "l_qreg = QuantumRegister(7)\n",
    "a_qreg = QuantumRegister(3)\n",
    "m_creg = ClassicalRegister(3)\n",
    "\n",
    "qcirc = QuantumCircuit(l_qreg, a_qreg, m_creg)"
   ]
  },
  {
   "cell_type": "code",
   "execution_count": 11,
   "metadata": {},
   "outputs": [
    {
     "data": {
      "text/plain": [
       "<qiskit.circuit.instructionset.InstructionSet at 0x75cdffeebeb0>"
      ]
     },
     "execution_count": 11,
     "metadata": {},
     "output_type": "execute_result"
    }
   ],
   "source": [
    "qcirc.append(encode_gate(), l_qreg)"
   ]
  },
  {
   "cell_type": "code",
   "execution_count": 13,
   "metadata": {},
   "outputs": [
    {
     "ename": "UnboundLocalError",
     "evalue": "cannot access local variable 'prev_syndrome' where it is not associated with a value",
     "output_type": "error",
     "traceback": [
      "\u001b[0;31m---------------------------------------------------------------------------\u001b[0m",
      "\u001b[0;31mUnboundLocalError\u001b[0m                         Traceback (most recent call last)",
      "Cell \u001b[0;32mIn[13], line 5\u001b[0m\n\u001b[1;32m      2\u001b[0m curr_syndrome \u001b[38;5;241m=\u001b[39m [\u001b[38;5;241m0\u001b[39m, \u001b[38;5;241m0\u001b[39m, \u001b[38;5;241m0\u001b[39m]\n\u001b[1;32m      4\u001b[0m n_qec_cycles \u001b[38;5;241m=\u001b[39m \u001b[38;5;241m1\u001b[39m\n\u001b[0;32m----> 5\u001b[0m qcirc\u001b[38;5;241m.\u001b[39mappend(\u001b[43mfirst_flagged_syndrome_gate\u001b[49m\u001b[43m(\u001b[49m\u001b[43mn_qec_cycles\u001b[49m\u001b[43m)\u001b[49m)\n",
      "Cell \u001b[0;32mIn[9], line 53\u001b[0m, in \u001b[0;36mfirst_flagged_syndrome_gate\u001b[0;34m(iterations_remaining)\u001b[0m\n\u001b[1;32m     50\u001b[0m     \u001b[38;5;28;01mwith\u001b[39;00m else_:\n\u001b[1;32m     51\u001b[0m         curr_syndrome[i] \u001b[38;5;241m=\u001b[39m \u001b[38;5;241m1\u001b[39m\n\u001b[0;32m---> 53\u001b[0m \u001b[38;5;28;01mif\u001b[39;00m \u001b[43mprev_syndrome\u001b[49m \u001b[38;5;241m==\u001b[39m curr_syndrome:\n\u001b[1;32m     54\u001b[0m     qcirc \u001b[38;5;241m=\u001b[39m qcirc\u001b[38;5;241m.\u001b[39mcompose(second_flagged_syndrome_gate(iterations_remaining), l_qreg[:] \u001b[38;5;241m+\u001b[39m a_qreg[:])\n\u001b[1;32m     55\u001b[0m \u001b[38;5;28;01melse\u001b[39;00m:\n",
      "\u001b[0;31mUnboundLocalError\u001b[0m: cannot access local variable 'prev_syndrome' where it is not associated with a value"
     ]
    }
   ],
   "source": [
    "n_qec_cycles = 1\n",
    "qcirc.append(first_flagged_syndrome_gate(n_qec_cycles))"
   ]
  },
  {
   "cell_type": "code",
   "execution_count": null,
   "metadata": {},
   "outputs": [],
   "source": [
    "qcirc.draw(\"mpl\")"
   ]
  },
  {
   "cell_type": "code",
   "execution_count": null,
   "metadata": {},
   "outputs": [],
   "source": []
  }
 ],
 "metadata": {
  "kernelspec": {
   "display_name": "Python 3 (ipykernel)",
   "language": "python",
   "name": "python3"
  },
  "language_info": {
   "codemirror_mode": {
    "name": "ipython",
    "version": 3
   },
   "file_extension": ".py",
   "mimetype": "text/x-python",
   "name": "python",
   "nbconvert_exporter": "python",
   "pygments_lexer": "ipython3",
   "version": "3.11.8"
  },
  "toc": {
   "base_numbering": 1,
   "nav_menu": {},
   "number_sections": true,
   "sideBar": true,
   "skip_h1_title": false,
   "title_cell": "Table of Contents",
   "title_sidebar": "Contents",
   "toc_cell": false,
   "toc_position": {},
   "toc_section_display": true,
   "toc_window_display": false
  },
  "varInspector": {
   "cols": {
    "lenName": 16,
    "lenType": 16,
    "lenVar": 40
   },
   "kernels_config": {
    "python": {
     "delete_cmd_postfix": "",
     "delete_cmd_prefix": "del ",
     "library": "var_list.py",
     "varRefreshCmd": "print(var_dic_list())"
    },
    "r": {
     "delete_cmd_postfix": ") ",
     "delete_cmd_prefix": "rm(",
     "library": "var_list.r",
     "varRefreshCmd": "cat(var_dic_list()) "
    }
   },
   "types_to_exclude": [
    "module",
    "function",
    "builtin_function_or_method",
    "instance",
    "_Feature"
   ],
   "window_display": false
  }
 },
 "nbformat": 4,
 "nbformat_minor": 2
}

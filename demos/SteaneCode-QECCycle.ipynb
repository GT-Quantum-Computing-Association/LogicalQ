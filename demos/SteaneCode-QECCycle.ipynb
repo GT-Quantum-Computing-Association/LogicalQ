{
 "cells": [
  {
   "cell_type": "markdown",
   "metadata": {},
   "source": [
    "## Introduction\n",
    "\n",
    "In this tutorial, we will go through a complete QEC cycle.\n"
   ]
  },
  {
   "cell_type": "code",
   "execution_count": 14,
   "metadata": {},
   "outputs": [],
   "source": [
    "from qiskit import QuantumRegister, ClassicalRegister, QuantumCircuit"
   ]
  },
  {
   "cell_type": "code",
   "execution_count": 15,
   "metadata": {},
   "outputs": [],
   "source": [
    "def encode_gate():\n",
    "    encoding_circuit = QuantumCircuit(7)\n",
    "    encoding_circuit.h(0)\n",
    "    encoding_circuit.h(4)\n",
    "    encoding_circuit.h(6)\n",
    "    encoding_circuit.cx(0, 1)\n",
    "    encoding_circuit.cx(4, 5)\n",
    "    encoding_circuit.cx(6, 3)\n",
    "    encoding_circuit.cx(4, 2)\n",
    "    encoding_circuit.cx(6, 5)\n",
    "    encoding_circuit.cx(0, 3)\n",
    "    encoding_circuit.cx(4, 1)\n",
    "    encoding_circuit.cx(3, 2)\n",
    "\n",
    "    return encoding_circuit.to_gate(label=\"$U_\\\\text{enc}$\")"
   ]
  },
  {
   "cell_type": "code",
   "execution_count": 16,
   "metadata": {},
   "outputs": [],
   "source": [
    "cycle_state = {\n",
    "    \"iterations_remaining\": 0,\n",
    "    \"first_flagged_syndrome\": [0, 0, 0],\n",
    "    \"second_flagged_syndrome\": [0, 0, 0],\n",
    "    \"unflagged_syndrome\": [0, 0, 0]\n",
    "}"
   ]
  },
  {
   "cell_type": "code",
   "execution_count": 17,
   "metadata": {},
   "outputs": [],
   "source": [
    "def first_flagged_syndrome_circuit(cycle_state):\n",
    "    l_qreg = QuantumRegister(7)\n",
    "    a_qreg = QuantumRegister(3)\n",
    "    m_creg = ClassicalRegister(3)\n",
    "    qcirc = QuantumCircuit(l_qreg, a_qreg, m_creg)\n",
    "\n",
    "    prev_syndrome = cycle_state[\"first_flagged_syndrome\"]\n",
    "    curr_syndrome = [0, 0, 0]\n",
    "\n",
    "    qcirc.reset(a_qreg)\n",
    "\n",
    "    qcirc.h(a_qreg[0])\n",
    "\n",
    "    qcirc.cx(a_qreg[0], l_qreg[3])\n",
    "    qcirc.cx(l_qreg[2], a_qreg[2])\n",
    "    qcirc.cx(l_qreg[5], a_qreg[1])\n",
    "    qcirc.cx(a_qreg[0], a_qreg[1])\n",
    "    qcirc.cx(a_qreg[0], l_qreg[0])\n",
    "    qcirc.cx(l_qreg[3], a_qreg[2])\n",
    "    qcirc.cx(l_qreg[4], a_qreg[1])\n",
    "    qcirc.cx(a_qreg[0], l_qreg[1])\n",
    "    qcirc.cx(l_qreg[6], a_qreg[2])\n",
    "    qcirc.cx(l_qreg[2], a_qreg[1])\n",
    "    qcirc.cx(a_qreg[0], a_qreg[2])\n",
    "    qcirc.cx(a_qreg[0], l_qreg[2])\n",
    "    qcirc.cx(l_qreg[5], a_qreg[2])\n",
    "    qcirc.cx(l_qreg[1], a_qreg[1])\n",
    "\n",
    "    qcirc.h(a_qreg[0])\n",
    "\n",
    "    for i in range(3):\n",
    "        with qcirc.if_test((m_creg[i], 0)) as else_:\n",
    "            curr_syndrome[i] = 0\n",
    "        with else_:\n",
    "            curr_syndrome[i] = 1\n",
    "\n",
    "    if prev_syndrome == curr_syndrome:\n",
    "        qcirc = qcirc.compose(second_flagged_syndrome_circuit(cycle_state), l_qreg[:] + a_qreg[:])\n",
    "    else:\n",
    "        cycle_state[\"first_flagged_syndrome\"] = curr_syndrome\n",
    "\n",
    "        qcirc = qcirc.compose(unflagged_syndrome_circuit(cycle_state), l_qreg[:] + a_qreg[:])\n",
    "\n",
    "    return qcirc\n",
    "\n",
    "def second_flagged_syndrome_circuit(cycle_state):\n",
    "    l_qreg = QuantumRegister(7)\n",
    "    a_qreg = QuantumRegister(3)\n",
    "    m_creg = ClassicalRegister(3)\n",
    "    qcirc = QuantumCircuit(l_qreg, a_qreg, m_creg)\n",
    "\n",
    "    iterations_remaining = cycle_state[\"iterations_remaining\"]\n",
    "    prev_syndrome = cycle_state[\"second_flagged_syndrome\"]\n",
    "    curr_syndrome = [0, 0, 0]\n",
    "\n",
    "    qcirc.reset(a_qreg)\n",
    "\n",
    "    qcirc.h(a_qreg[1])\n",
    "    qcirc.h(a_qreg[2])\n",
    "\n",
    "    qcirc.cx(l_qreg[3], a_qreg[0])\n",
    "    qcirc.cx(a_qreg[2], l_qreg[2])\n",
    "    qcirc.cx(a_qreg[1], l_qreg[5])\n",
    "    qcirc.cx(a_qreg[1], a_qreg[0])\n",
    "    qcirc.cx(l_qreg[0], a_qreg[0])\n",
    "    qcirc.cx(a_qreg[2], l_qreg[3])\n",
    "    qcirc.cx(a_qreg[1], l_qreg[4])\n",
    "    qcirc.cx(l_qreg[1], a_qreg[0])\n",
    "    qcirc.cx(a_qreg[2], l_qreg[6])\n",
    "    qcirc.cx(a_qreg[1], l_qreg[2])\n",
    "    qcirc.cx(a_qreg[2], a_qreg[0])\n",
    "    qcirc.cx(l_qreg[2], a_qreg[0])\n",
    "    qcirc.cx(a_qreg[2], l_qreg[5])\n",
    "    qcirc.cx(a_qreg[1], l_qreg[1])\n",
    "\n",
    "    qcirc.h(a_qreg[1])\n",
    "    qcirc.h(a_qreg[2])\n",
    "\n",
    "    for i in range(3):\n",
    "        with qcirc.if_test((m_creg[i], 0)) as else_:\n",
    "            curr_syndrome[i] = 0\n",
    "        with else_:\n",
    "            curr_syndrome[i] = 1\n",
    "\n",
    "    if prev_syndrome == curr_syndrome:\n",
    "        if iterations_remaining > 0:\n",
    "            cycle_state[\"iterations_remaining\"] = iterations_remaining - 1\n",
    "\n",
    "            qcirc = qcirc.compose(first_flagged_syndrome_circuit(cycle_state), l_qreg[:] + a_qreg[:])\n",
    "    else:\n",
    "        cycle_state[\"first_flagged_syndrome\"] = curr_syndrome\n",
    "\n",
    "        qcirc = qcirc.compose(unflagged_syndrome_circuit(cycle_state), l_qreg[:] + a_qreg[:])\n",
    "\n",
    "    return qcirc\n",
    "\n",
    "def unflagged_syndrome_circuit(cycle_state):\n",
    "    l_qreg = QuantumRegister(7)\n",
    "    a_qreg = QuantumRegister(3)\n",
    "    m_creg = ClassicalRegister(3)\n",
    "    qcirc = QuantumCircuit(l_qreg, a_qreg, m_creg)\n",
    "\n",
    "    iterations_remaining = cycle_state[\"iterations_remaining\"]\n",
    "    curr_syndrome = [0, 0, 0]\n",
    "\n",
    "    qcirc.reset(a_qreg)\n",
    "    \n",
    "    qcirc.cx(l_qreg[0], a_qreg[0])\n",
    "    qcirc.cx(l_qreg[1], a_qreg[0])\n",
    "    qcirc.cx(l_qreg[2], a_qreg[0])\n",
    "    qcirc.cx(l_qreg[3], a_qreg[0])\n",
    "    \n",
    "    qcirc.cx(l_qreg[1], a_qreg[0])\n",
    "    qcirc.cx(l_qreg[2], a_qreg[0])\n",
    "    qcirc.cx(l_qreg[4], a_qreg[0])\n",
    "    qcirc.cx(l_qreg[5], a_qreg[0])\n",
    "    \n",
    "    qcirc.cx(l_qreg[2], a_qreg[0])\n",
    "    qcirc.cx(l_qreg[3], a_qreg[0])\n",
    "    qcirc.cx(l_qreg[5], a_qreg[0])\n",
    "    qcirc.cx(l_qreg[6], a_qreg[0])\n",
    "\n",
    "    qcirc.barrier(l_qreg[:] + a_qreg[:])\n",
    "\n",
    "    qcirc.h(a_qreg[0])\n",
    "    qcirc.cx(a_qreg[1], l_qreg[0])\n",
    "    qcirc.cx(a_qreg[1], l_qreg[1])\n",
    "    qcirc.cx(a_qreg[1], l_qreg[2])\n",
    "    qcirc.cx(a_qreg[1], l_qreg[3])\n",
    "    qcirc.h(a_qreg[0])\n",
    "\n",
    "    qcirc.h(a_qreg[1])\n",
    "    qcirc.cx(a_qreg[1], l_qreg[1])\n",
    "    qcirc.cx(a_qreg[1], l_qreg[2])\n",
    "    qcirc.cx(a_qreg[1], l_qreg[4])\n",
    "    qcirc.cx(a_qreg[1], l_qreg[5])\n",
    "    qcirc.h(a_qreg[1])\n",
    "\n",
    "    qcirc.h(a_qreg[2])\n",
    "    qcirc.cx(a_qreg[1], l_qreg[2])\n",
    "    qcirc.cx(a_qreg[1], l_qreg[3])\n",
    "    qcirc.cx(a_qreg[1], l_qreg[5])\n",
    "    qcirc.cx(a_qreg[1], l_qreg[6])\n",
    "    qcirc.h(a_qreg[2])\n",
    "\n",
    "    for i in range(3):\n",
    "        with qcirc.if_test((m_creg[i], 0)) as else_:\n",
    "            curr_syndrome[i] = 0\n",
    "        with else_:\n",
    "            curr_syndrome[i] = 1\n",
    "    \n",
    "    # @TODO - Decode\n",
    "            \n",
    "    # @TODO - Update Pauli frame and syndromes\n",
    "\n",
    "    if iterations_remaining > 0:\n",
    "        cycle_state[\"iterations_remaining\"] = iterations_remaining - 1\n",
    "        cycle_state[\"unflagged_syndrome\"] = curr_syndrome\n",
    "\n",
    "        qcirc = qcirc.compose(first_flagged_syndrome_circuit(cycle_state), l_qreg[:] + a_qreg[:])\n",
    "\n",
    "    return qcirc"
   ]
  },
  {
   "cell_type": "code",
   "execution_count": 18,
   "metadata": {},
   "outputs": [],
   "source": [
    "l_qreg = QuantumRegister(7)\n",
    "a_qreg = QuantumRegister(3)\n",
    "m_creg = ClassicalRegister(3)\n",
    "\n",
    "qcirc = QuantumCircuit(l_qreg, a_qreg, m_creg)"
   ]
  },
  {
   "cell_type": "code",
   "execution_count": 19,
   "metadata": {},
   "outputs": [
    {
     "data": {
      "text/plain": [
       "<qiskit.circuit.instructionset.InstructionSet at 0x74bb01be9b70>"
      ]
     },
     "execution_count": 19,
     "metadata": {},
     "output_type": "execute_result"
    }
   ],
   "source": [
    "qcirc.append(encode_gate(), l_qreg)"
   ]
  },
  {
   "cell_type": "code",
   "execution_count": 22,
   "metadata": {},
   "outputs": [
    {
     "data": {
      "text/plain": [
       "<qiskit.circuit.quantumcircuit.QuantumCircuit at 0x74bb01c33d90>"
      ]
     },
     "execution_count": 22,
     "metadata": {},
     "output_type": "execute_result"
    }
   ],
   "source": [
    "n_qec_cycles = 1\n",
    "cycle_state[\"iterations_remaining\"] = n_qec_cycles\n",
    "\n",
    "qcirc.compose(first_flagged_syndrome_circuit(cycle_state))"
   ]
  },
  {
   "cell_type": "code",
   "execution_count": 23,
   "metadata": {},
   "outputs": [
    {
     "data": {
      "image/png": "[encoded data removed]",
      "text/plain": [
       "<Figure size 324.159x953.167 with 1 Axes>"
      ]
     },
     "execution_count": 23,
     "metadata": {},
     "output_type": "execute_result"
    }
   ],
   "source": [
    "qcirc.draw(\"mpl\")"
   ]
  },
  {
   "cell_type": "code",
   "execution_count": null,
   "metadata": {},
   "outputs": [],
   "source": []
  }
 ],
 "metadata": {
  "kernelspec": {
   "display_name": "Python 3 (ipykernel)",
   "language": "python",
   "name": "python3"
  },
  "language_info": {
   "codemirror_mode": {
    "name": "ipython",
    "version": 3
   },
   "file_extension": ".py",
   "mimetype": "text/x-python",
   "name": "python",
   "nbconvert_exporter": "python",
   "pygments_lexer": "ipython3",
   "version": "3.11.8"
  },
  "toc": {
   "base_numbering": 1,
   "nav_menu": {},
   "number_sections": true,
   "sideBar": true,
   "skip_h1_title": false,
   "title_cell": "Table of Contents",
   "title_sidebar": "Contents",
   "toc_cell": false,
   "toc_position": {},
   "toc_section_display": true,
   "toc_window_display": false
  },
  "varInspector": {
   "cols": {
    "lenName": 16,
    "lenType": 16,
    "lenVar": 40
   },
   "kernels_config": {
    "python": {
     "delete_cmd_postfix": "",
     "delete_cmd_prefix": "del ",
     "library": "var_list.py",
     "varRefreshCmd": "print(var_dic_list())"
    },
    "r": {
     "delete_cmd_postfix": ") ",
     "delete_cmd_prefix": "rm(",
     "library": "var_list.r",
     "varRefreshCmd": "cat(var_dic_list()) "
    }
   },
   "types_to_exclude": [
    "module",
    "function",
    "builtin_function_or_method",
    "instance",
    "_Feature"
   ],
   "window_display": false
  }
 },
 "nbformat": 4,
 "nbformat_minor": 2
}

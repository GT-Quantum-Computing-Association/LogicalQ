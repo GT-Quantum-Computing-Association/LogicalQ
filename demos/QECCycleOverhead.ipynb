{
 "cells": [
  {
   "cell_type": "code",
   "execution_count": 1,
   "id": "3b1b365e-f914-4255-b5fd-3404009c2eed",
   "metadata": {},
   "outputs": [],
   "source": [
    "import copy\n",
    "import numpy as np\n",
    "import matplotlib.pyplot as plt"
   ]
  },
  {
   "cell_type": "code",
   "execution_count": 2,
   "id": "4c4dc884-5fb6-46ef-872f-912097550cb4",
   "metadata": {},
   "outputs": [],
   "source": [
    "from LogicalQ.Logical import LogicalCircuit, LogicalStatevector\n",
    "from LogicalQ.Library.QECCs import steane_code\n",
    "from LogicalQ.Library.Targets import construct_target_generic_iontrap\n",
    "from LogicalQ.Library.HardwareModels import hardware_models_Quantinuum\n",
    "from LogicalQ.Experiments import execute_circuits\n",
    "from LogicalQ.Analysis import calculate_exp_val"
   ]
  },
  {
   "cell_type": "code",
   "execution_count": 3,
   "id": "cd751fd1-5095-4406-87e2-eac37adcdee8",
   "metadata": {},
   "outputs": [],
   "source": [
    "qec_cycle_count_list = list(np.arange(10)) #+ list(np.arange(11, 64, 2)) #[1, 2, 4, 8, 16, 32, 64]#np.arange(10) #[0, 1, 2, 3, 4, 5, 6]#, 8, 16, 32]#, 64]\n",
    "lqc_list = []"
   ]
  },
  {
   "cell_type": "code",
   "execution_count": 4,
   "id": "33fee17c-245d-4de9-a5d6-7ca06873868d",
   "metadata": {},
   "outputs": [
    {
     "data": {
      "text/plain": [
       "True"
      ]
     },
     "execution_count": 4,
     "metadata": {},
     "output_type": "execute_result"
    }
   ],
   "source": [
    "lqc_base = LogicalCircuit(1, **steane_code)\n",
    "lqc_base.encode([0], max_iterations=1)"
   ]
  },
  {
   "cell_type": "code",
   "execution_count": 5,
   "id": "770f4807-ef14-41fd-8ce3-319350077d54",
   "metadata": {},
   "outputs": [],
   "source": [
    "for n_qec_cycles in qec_cycle_count_list:\n",
    "    lqc = lqc_base.copy() #copy.deepcopy(lqc_base)\n",
    "    for _ in range(n_qec_cycles):\n",
    "        lqc.append_qec_cycle()\n",
    "    lqc.measure_all()\n",
    "    lqc_list.append(lqc)\n",
    "\n",
    "#lqc_list[3].draw(\"mpl\")"
   ]
  },
  {
   "cell_type": "code",
   "execution_count": 6,
   "id": "a157fe0b",
   "metadata": {},
   "outputs": [],
   "source": [
    "from LogicalQ.Library.Gates import RGate, RZGate, RZZGate, ZZGate\n",
    "\n",
    "reduction = 10\n",
    "\n",
    "faux_hardware = {\n",
    "    \"device_info\": {\n",
    "        \"n_qubits\": 20,\n",
    "        \"coupling_map\": \"fully_coupled\",\n",
    "        # \"basis_gates\": dict(zip([\"u\", \"rz\", \"rzz\", \"zz\"], [UGate, RZGate, RZZGate, ZZGate])),\n",
    "        \"basis_gates\": dict(zip([\"r\", \"rz\", \"rzz\"], [RGate, RZGate, RZZGate])), # @TODO - TEMPORARY WORKAROUND\n",
    "    },\n",
    "    \"noise_params\": {\n",
    "        \"all_qubit\": {\n",
    "            \"t1\": 60 * reduction, # Decoherence times\n",
    "            \"t2\": 4 * reduction, # Decoherence\n",
    "            \"gate_time\": {\n",
    "                1: {\n",
    "                    \"all\": 10E-6,\n",
    "                },\n",
    "                2: {\n",
    "                    \"all\": 100E-6,\n",
    "                },\n",
    "            },\n",
    "            \"readout_error\": {\n",
    "                1: {\n",
    "                    (\"0\",\"1\"): 1.22E-3 / reduction,\n",
    "                    (\"1\",\"0\"): 3.43E-3 / reduction,\n",
    "                },\n",
    "            },\n",
    "            \"depolarizing_error\": {\n",
    "                1: {\n",
    "                    \"all\": (1-0.747) * 1.80E-5 / reduction,\n",
    "                },\n",
    "                2: {\n",
    "                    \"all\": (1-0.421) * 9.73E-4 / reduction,\n",
    "                },\n",
    "            },\n",
    "            \"amplitude_damping_error\": {\n",
    "                1: {\n",
    "                    \"all\": (0.747) * 1.80E-5 / reduction,\n",
    "                },\n",
    "                # 2: {\n",
    "                #     \"all\": (0.421) * 9.73E-4, # @TODO - not supported by Qiskit\n",
    "                # },\n",
    "            },\n",
    "            \"dephasing_error\": {\n",
    "                1: {\n",
    "                    # @TODO - verify angle convention (i.e. theta vs. theta/2)\n",
    "                    \"id\": np.sin(0.122 * 10E-6**2)**2 / reduction, # Using a single-qubit gate time approximation\n",
    "                }\n",
    "            }\n",
    "        },\n",
    "    },\n",
    "}"
   ]
  },
  {
   "cell_type": "code",
   "execution_count": 11,
   "id": "a1123a86-0f8f-4d01-b1a0-2d3754de590b",
   "metadata": {
    "scrolled": true
   },
   "outputs": [],
   "source": [
    "shots = 1E4\n",
    "results = execute_circuits(\n",
    "  lqc_list,\n",
    "  backend=\"aer_simulator\",\n",
    "  hardware_model=faux_hardware, coupling_map=None,\n",
    "  method=\"statevector\", shots=shots\n",
    ")"
   ]
  },
  {
   "cell_type": "code",
   "execution_count": 12,
   "id": "33aab48b-c604-4b56-b37f-a458c357704f",
   "metadata": {
    "scrolled": true
   },
   "outputs": [],
   "source": [
    "# Option 1: Logical Counts\n",
    "logical_counts_list = [lqc.get_logical_counts(result.get_counts()) for lqc, result in zip(lqc_list, results)]\n",
    "infidelities = [logical_counts.get(\"1\", 0)/shots for logical_counts in logical_counts_list]\n",
    "\n",
    "# Option 2: LogicalStatevector\n",
    "# infidelities = []\n",
    "# for result in results:\n",
    "#     lsv = LogicalStatevector.from_counts(result.get_counts(), n_logical_qubits=1, **steane_code)\n",
    "#     infidelity = 1-(lsv.logical_decomposition[0])**2\n",
    "#     infidelities.append(infidelity)"
   ]
  },
  {
   "cell_type": "code",
   "execution_count": 13,
   "id": "0f4a9aac-7dc5-49b8-ba61-e2e9aeea0fa8",
   "metadata": {},
   "outputs": [
    {
     "data": {
      "image/png": "[encoded data removed]",
      "text/plain": [
       "<Figure size 819.2x614.4 with 1 Axes>"
      ]
     },
     "metadata": {},
     "output_type": "display_data"
    }
   ],
   "source": [
    "fig, ax = plt.subplots(dpi=128)\n",
    "\n",
    "ax.bar(qec_cycle_count_list, infidelities)\n",
    "\n",
    "ax.set_title(\"Infidelity vs. Number of QEC cycles\")\n",
    "ax.set_xlabel(\"Number of QEC cycles\")\n",
    "ax.set_ylabel(r\"$1 - P(0)$\")\n",
    "# ax.set_yscale(\"log\")\n",
    "\n",
    "plt.show()"
   ]
  },
  {
   "cell_type": "code",
   "execution_count": 15,
   "id": "612daa91-fd7c-4d97-b70a-14407d296898",
   "metadata": {},
   "outputs": [
    {
     "name": "stdout",
     "output_type": "stream",
     "text": [
      "Number of qubits in lqc_base: 1\n",
      "Number of qubits in copy_base: 1\n",
      "Number of qubits in lqc_base: 10000\n",
      "Number of qubits in copy_base: 1\n"
     ]
    }
   ],
   "source": [
    "lqc_base = LogicalCircuit(1, **steane_code)\n",
    "lqc_base.encode([0], max_iterations=1)\n",
    "copy_base = lqc_base.copy()\n",
    "dir(copy_base)\n",
    "\n",
    "\n",
    "print(f\"Number of qubits in lqc_base: {lqc_base.n_logical_qubits}\")\n",
    "print(f\"Number of qubits in copy_base: {copy_base.n_logical_qubits}\")\n",
    "\n",
    "lqc_base.n_logical_qubits = 10000\n",
    "\n",
    "print(f\"Number of qubits in lqc_base: {lqc_base.n_logical_qubits}\")\n",
    "print(f\"Number of qubits in copy_base: {copy_base.n_logical_qubits}\")"
   ]
  },
  {
   "cell_type": "markdown",
   "id": "a2773cfe",
   "metadata": {},
   "source": [
    "Quantum circuit baseline"
   ]
  },
  {
   "cell_type": "code",
   "execution_count": 35,
   "id": "15d0c05a",
   "metadata": {},
   "outputs": [
    {
     "name": "stdout",
     "output_type": "stream",
     "text": [
      "Error rate: 0.0034288\n"
     ]
    }
   ],
   "source": [
    "shots = 1E7\n",
    "from qiskit import QuantumCircuit\n",
    "qc = QuantumCircuit(1)\n",
    "qc.measure_all()\n",
    "results = execute_circuits(\n",
    "  qc,\n",
    "  backend=\"aer_simulator\",\n",
    "  hardware_model=hardware_models_Quantinuum[\"H1-1\"], coupling_map=None,\n",
    "  method=\"statevector\", shots=shots\n",
    ")\n",
    "counts = results[0].get_counts()\n",
    "error_rate = counts['1'] / shots\n",
    "print(f\"Error rate: {error_rate}\")"
   ]
  }
 ],
 "metadata": {
  "kernelspec": {
   "display_name": "venv (3.12.6)",
   "language": "python",
   "name": "python3"
  },
  "language_info": {
   "codemirror_mode": {
    "name": "ipython",
    "version": 3
   },
   "file_extension": ".py",
   "mimetype": "text/x-python",
   "name": "python",
   "nbconvert_exporter": "python",
   "pygments_lexer": "ipython3",
   "version": "3.12.6"
  }
 },
 "nbformat": 4,
 "nbformat_minor": 5
}

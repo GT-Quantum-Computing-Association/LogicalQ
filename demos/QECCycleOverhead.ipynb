{
 "cells": [
  {
   "cell_type": "markdown",
   "id": "35bcc92e",
   "metadata": {},
   "source": [
    "## Imports"
   ]
  },
  {
   "cell_type": "code",
   "execution_count": null,
   "id": "3b1b365e-f914-4255-b5fd-3404009c2eed",
   "metadata": {},
   "outputs": [],
   "source": [
    "import numpy as np\n",
    "import matplotlib.pyplot as plt\n",
    "\n",
    "from LogicalQ.Logical import LogicalCircuit\n",
    "from LogicalQ.Library.QECCs import steane_code\n",
    "from LogicalQ.Library.HardwareModels import hardware_models_Quantinuum\n",
    "from LogicalQ.Execution import execute_circuits"
   ]
  },
  {
   "cell_type": "markdown",
   "id": "1b567665",
   "metadata": {},
   "source": [
    "## Experiments"
   ]
  },
  {
   "cell_type": "code",
   "execution_count": null,
   "id": "cd751fd1-5095-4406-87e2-eac37adcdee8",
   "metadata": {},
   "outputs": [],
   "source": [
    "qec_cycle_count_list = [1,2,4,8,16,32,64]\n",
    "lqc_list = []"
   ]
  },
  {
   "cell_type": "code",
   "execution_count": null,
   "id": "33fee17c-245d-4de9-a5d6-7ca06873868d",
   "metadata": {},
   "outputs": [],
   "source": [
    "lqc_base = LogicalCircuit(1, **steane_code)\n",
    "lqc_base.encode([0], max_iterations=1)"
   ]
  },
  {
   "cell_type": "markdown",
   "id": "840ddfd5",
   "metadata": {},
   "source": [
    "### Without measurement error correction"
   ]
  },
  {
   "cell_type": "code",
   "execution_count": null,
   "id": "770f4807-ef14-41fd-8ce3-319350077d54",
   "metadata": {},
   "outputs": [],
   "source": [
    "lqc_list = []\n",
    "\n",
    "for n_qec_cycles in qec_cycle_count_list:\n",
    "    lqc = lqc_base.copy()\n",
    "    for _ in range(n_qec_cycles):\n",
    "        lqc.append_qec_cycle()\n",
    "    lqc.measure_all(with_error_correction=False)\n",
    "    lqc_list.append(lqc)\n",
    "\n",
    "lqc_list[0].draw(\"mpl\")"
   ]
  },
  {
   "cell_type": "code",
   "execution_count": null,
   "id": "a1123a86-0f8f-4d01-b1a0-2d3754de590b",
   "metadata": {
    "scrolled": true
   },
   "outputs": [],
   "source": [
    "shots = 1E5\n",
    "results = execute_circuits(\n",
    "  lqc_list,\n",
    "  backend=\"aer_simulator\",\n",
    "  hardware_model=hardware_models_Quantinuum[\"H2-1\"], coupling_map=None,\n",
    "  method=\"statevector\", shots=shots\n",
    ")"
   ]
  },
  {
   "cell_type": "code",
   "execution_count": null,
   "id": "33aab48b-c604-4b56-b37f-a458c357704f",
   "metadata": {
    "scrolled": true
   },
   "outputs": [],
   "source": [
    "# Option 1: Logical Counts\n",
    "logical_counts_list = [lqc.get_logical_counts(result.get_counts()) for lqc, result in zip(lqc_list, results)]\n",
    "infidelities_noqec = [logical_counts.get(\"1\", 0)/shots for logical_counts in logical_counts_list]\n",
    "\n",
    "# Option 2: LogicalStatevector\n",
    "# infidelities_noqec = []\n",
    "# for result in results:\n",
    "#     lsv = LogicalStatevector.from_counts(result.get_counts(), n_logical_qubits=1, **steane_code)\n",
    "#     infidelity = 1-(lsv.logical_decomposition[0])**2\n",
    "#     infidelities_noqec.append(infidelity)"
   ]
  },
  {
   "cell_type": "code",
   "execution_count": null,
   "id": "cc8b6e64",
   "metadata": {},
   "outputs": [],
   "source": [
    "fig, ax = plt.subplots(dpi=128)\n",
    "\n",
    "ax.bar(qec_cycle_count_list, infidelities_noqec)\n",
    "\n",
    "ax.set_title(\"Infidelity vs. Number of QEC cycles\")\n",
    "ax.set_xlabel(\"Number of QEC cycles\")\n",
    "ax.set_ylabel(r\"$1 - P(0)$\")\n",
    "# ax.set_yscale(\"log\")\n",
    "\n",
    "plt.show()"
   ]
  },
  {
   "cell_type": "markdown",
   "id": "0fa96df3",
   "metadata": {},
   "source": [
    "### With measurement error correction"
   ]
  },
  {
   "cell_type": "code",
   "execution_count": null,
   "id": "6e3de5e2",
   "metadata": {
    "scrolled": true
   },
   "outputs": [],
   "source": [
    "lqc_list = []\n",
    "\n",
    "for n_qec_cycles in qec_cycle_count_list:\n",
    "    lqc = lqc_base.copy()\n",
    "    for _ in range(n_qec_cycles):\n",
    "        lqc.append_qec_cycle()\n",
    "    lqc.measure_all(with_error_correction=True)\n",
    "    lqc_list.append(lqc)\n",
    "\n",
    "lqc_list[0].draw(\"mpl\")"
   ]
  },
  {
   "cell_type": "code",
   "execution_count": null,
   "id": "c3753deb",
   "metadata": {},
   "outputs": [],
   "source": [
    "shots = 1E5\n",
    "results = execute_circuits(\n",
    "  lqc_list,\n",
    "  backend=\"aer_simulator\",\n",
    "  hardware_model=hardware_models_Quantinuum[\"H2-1\"], coupling_map=None,\n",
    "  method=\"statevector\", shots=shots\n",
    ")"
   ]
  },
  {
   "cell_type": "code",
   "execution_count": null,
   "id": "05f229c8",
   "metadata": {},
   "outputs": [],
   "source": [
    "# Option 1: Logical Counts\n",
    "logical_counts_list = [lqc.get_logical_counts(result.get_counts()) for lqc, result in zip(lqc_list, results)]\n",
    "infidelities_qec = [logical_counts.get(\"1\", 0)/shots for logical_counts in logical_counts_list]\n",
    "\n",
    "# Option 2: LogicalStatevector\n",
    "# infidelities_qec = []\n",
    "# for result in results:\n",
    "#     lsv = LogicalStatevector.from_counts(result.get_counts(), n_logical_qubits=1, **steane_code)\n",
    "#     infidelity = 1-(lsv.logical_decomposition[0])**2\n",
    "#     infidelities_qec.append(infidelity)"
   ]
  },
  {
   "cell_type": "code",
   "execution_count": null,
   "id": "023db8eb",
   "metadata": {
    "scrolled": true
   },
   "outputs": [],
   "source": [
    "fig, ax = plt.subplots(dpi=128)\n",
    "\n",
    "ax.bar(qec_cycle_count_list, infidelities_qec)\n",
    "\n",
    "ax.set_title(\"Infidelity vs. Number of QEC cycles\")\n",
    "ax.set_xlabel(\"Number of QEC cycles\")\n",
    "ax.set_ylabel(r\"$1 - P(0)$\")\n",
    "# ax.set_yscale(\"log\")\n",
    "\n",
    "plt.show()"
   ]
  },
  {
   "cell_type": "markdown",
   "id": "650e053c",
   "metadata": {},
   "source": [
    "### Comparison with and without error-corrected measurements"
   ]
  },
  {
   "cell_type": "code",
   "execution_count": null,
   "id": "87766ee2",
   "metadata": {},
   "outputs": [],
   "source": [
    "# Create the figure and axis objects\n",
    "fig, ax = plt.subplots(figsize=(14, 7))\n",
    "\n",
    "# Set the x-axis positions for the bars\n",
    "x_indices = np.arange(len(qec_cycle_count_list))\n",
    "\n",
    "# Width of each bar\n",
    "bar_width = 0.35\n",
    "\n",
    "# Plot the bars for \"With QEC\"\n",
    "bars_with_qec = ax.bar(x_indices - bar_width/2, w_qec_infidelities, bar_width, label=\"With QEC\")\n",
    "\n",
    "# Plot the bars for \"Without QEC\" (Orange)\n",
    "bars_without_qec = ax.bar(x_indices + bar_width/2, wo_qec_infidelities, bar_width, label=\"Without QEC\")\n",
    "\n",
    "# Format plot\n",
    "ax.set_title(\"Comparison of Error Rate With and Without QEC\", fontsize=16)\n",
    "\n",
    "ax.set_xlabel(\"Number of QEC Cycles\", fontsize=12)\n",
    "ax.set_ylabel(\"1-P(0)\", fontsize=12)\n",
    "\n",
    "ax.set_xticks(x_indices)\n",
    "ax.set_xticklabels(qec_cycle_count_list, rotation=45, ha=\"right\")\n",
    "\n",
    "ax.legend()\n",
    "\n",
    "ax.yaxis.grid(True, linestyle=\"--\", alpha=0.7)\n",
    "\n",
    "# Add value labels on top of each bar\n",
    "def autolabel(bars):\n",
    "    for bar in bars:\n",
    "        infidelity = bar.get_height()\n",
    "        ax.annotate(\n",
    "            f\"{height:.6f}\",\n",
    "            xy=(bar.get_x() + bar.get_width() / 2, infidelity),\n",
    "            xytext=(0, 3),\n",
    "            textcoords=\"offset points\",\n",
    "            ha=\"center\", va=\"bottom\",\n",
    "            fontsize=10\n",
    "        )\n",
    "\n",
    "# Call the autolabel function for both sets of bars\n",
    "autolabel(bars_with_qec)\n",
    "autolabel(bars_without_qec)\n",
    "\n",
    "fig.tight_layout()\n",
    "\n",
    "plt.show()"
   ]
  },
  {
   "cell_type": "code",
   "execution_count": null,
   "id": "702f0af8-2e5d-4ec3-8889-b0c3a9385f5d",
   "metadata": {},
   "outputs": [],
   "source": []
  }
 ],
 "metadata": {
  "kernelspec": {
   "display_name": "Python 3 (ipykernel)",
   "language": "python",
   "name": "python3"
  },
  "language_info": {
   "codemirror_mode": {
    "name": "ipython",
    "version": 3
   },
   "file_extension": ".py",
   "mimetype": "text/x-python",
   "name": "python",
   "nbconvert_exporter": "python",
   "pygments_lexer": "ipython3",
   "version": "3.13.7"
  }
 },
 "nbformat": 4,
 "nbformat_minor": 5
}

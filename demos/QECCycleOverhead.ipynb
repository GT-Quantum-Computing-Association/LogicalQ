{
 "cells": [
  {
   "cell_type": "code",
   "execution_count": null,
   "id": "3b1b365e-f914-4255-b5fd-3404009c2eed",
   "metadata": {},
   "outputs": [],
   "source": [
    "import copy\n",
    "import numpy as np\n",
    "import matplotlib.pyplot as plt"
   ]
  },
  {
   "cell_type": "code",
   "execution_count": null,
   "id": "4c4dc884-5fb6-46ef-872f-912097550cb4",
   "metadata": {},
   "outputs": [],
   "source": [
    "from LogicalQ.Logical import LogicalCircuit, LogicalStatevector\n",
    "from LogicalQ.Library.QECCs import steane_code\n",
    "from LogicalQ.Library.Targets import construct_target_generic_iontrap\n",
    "from LogicalQ.NoiseModel import construct_noise_model_QuantinuumH2_1\n",
    "from LogicalQ.Experiments import execute_circuits\n",
    "from LogicalQ.Analysis import calculate_exp_val"
   ]
  },
  {
   "cell_type": "code",
   "execution_count": null,
   "id": "cd751fd1-5095-4406-87e2-eac37adcdee8",
   "metadata": {},
   "outputs": [],
   "source": [
    "qec_cycle_count_list = [0, 1, 2, 4, 8, 16, 32, 64]\n",
    "lqc_list = []"
   ]
  },
  {
   "cell_type": "code",
   "execution_count": null,
   "id": "33fee17c-245d-4de9-a5d6-7ca06873868d",
   "metadata": {},
   "outputs": [],
   "source": [
    "lqc_base = LogicalCircuit(1, **steane_code)\n",
    "lqc_base.encode([0])"
   ]
  },
  {
   "cell_type": "code",
   "execution_count": null,
   "id": "770f4807-ef14-41fd-8ce3-319350077d54",
   "metadata": {
    "scrolled": true
   },
   "outputs": [],
   "source": [
    "for n_qec_cycles in qec_cycle_count_list:\n",
    "    lqc = copy.deepcopy(lqc_base)\n",
    "    for _ in range(n_qec_cycles):\n",
    "        lqc.append_qec_cycle()\n",
    "    lqc.measure_all()\n",
    "    lqc_list.append(lqc)\n",
    "\n",
    "lqc_list[1].draw(\"mpl\")"
   ]
  },
  {
   "cell_type": "code",
   "execution_count": null,
   "id": "a1123a86-0f8f-4d01-b1a0-2d3754de590b",
   "metadata": {
    "scrolled": true
   },
   "outputs": [],
   "source": [
    "from LogicalQ.Library.HardwareModels import hardware_models_Quantinuum\n",
    "results = execute_circuits(\n",
    "  lqc_list,\n",
    "  backend=\"aer_simulator\",\n",
    "  hardware_model=hardware_models_Quantinuum[\"H2-1\"], coupling_map=None,\n",
    "  method=\"statevector\", shots=1E4\n",
    ")"
   ]
  },
  {
   "cell_type": "code",
   "execution_count": null,
   "id": "726dde5d-6003-44d6-bec1-66db623c0d1a",
   "metadata": {},
   "outputs": [],
   "source": [
    "lqc_list[0].get_logical_counts(results[0].get_counts())"
   ]
  },
  {
   "cell_type": "code",
   "execution_count": null,
   "id": "73db609b-a999-44e9-85f0-62837029ccee",
   "metadata": {
    "scrolled": true
   },
   "outputs": [],
   "source": [
    "results[0].get_counts()"
   ]
  },
  {
   "cell_type": "code",
   "execution_count": null,
   "id": "33aab48b-c604-4b56-b37f-a458c357704f",
   "metadata": {
    "scrolled": true
   },
   "outputs": [],
   "source": [
    "lsv_list = []\n",
    "for result in results:\n",
    "    lsv = LogicalStatevector.from_counts(result.get_counts(), n_logical_qubits=1, **steane_code)\n",
    "    lsv_list.append(lsv)"
   ]
  },
  {
   "cell_type": "code",
   "execution_count": null,
   "id": "0f4a9aac-7dc5-49b8-ba61-e2e9aeea0fa8",
   "metadata": {},
   "outputs": [],
   "source": [
    "fig, ax = plt.subplots(dpi=128)\n",
    "\n",
    "exp_vals = [1-lsv.logical_decomposition[0]**2 for lsv in lsv_list]\n",
    "\n",
    "ax.bar(qec_cycle_count_list, exp_vals)\n",
    "\n",
    "ax.set_title(\"Infidelity vs. Number of QEC cycles\")\n",
    "ax.set_xlabel(\"Number of QEC cycles\")\n",
    "ax.set_ylabel(r\"$1 - P(0)$\")\n",
    "ax.set_yscale(\"log\")\n",
    "\n",
    "plt.show()"
   ]
  },
  {
   "cell_type": "code",
   "execution_count": null,
   "id": "0a0d2b3d-77ff-45b7-bb5f-2bfe3eb1861d",
   "metadata": {},
   "outputs": [],
   "source": []
  }
 ],
 "metadata": {
  "kernelspec": {
   "display_name": "Python 3 (ipykernel)",
   "language": "python",
   "name": "python3"
  },
  "language_info": {
   "codemirror_mode": {
    "name": "ipython",
    "version": 3
   },
   "file_extension": ".py",
   "mimetype": "text/x-python",
   "name": "python",
   "nbconvert_exporter": "python",
   "pygments_lexer": "ipython3",
   "version": "3.13.7"
  }
 },
 "nbformat": 4,
 "nbformat_minor": 5
}

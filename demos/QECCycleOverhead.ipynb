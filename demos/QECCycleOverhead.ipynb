{
 "cells": [
  {
   "cell_type": "markdown",
   "id": "35bcc92e",
   "metadata": {},
   "source": [
    "# Imports"
   ]
  },
  {
   "cell_type": "code",
   "execution_count": null,
   "id": "3b1b365e-f914-4255-b5fd-3404009c2eed",
   "metadata": {},
   "outputs": [],
   "source": [
    "import numpy as np\n",
    "import matplotlib.pyplot as plt\n",
    "\n",
    "from LogicalQ.Logical import LogicalCircuit\n",
    "from LogicalQ.Library.QECCs import steane_code\n",
    "from LogicalQ.Library.HardwareModels import hardware_models_Quantinuum\n",
    "from LogicalQ.Experiments import execute_circuits"
   ]
  },
  {
   "cell_type": "markdown",
   "id": "1b567665",
   "metadata": {},
   "source": [
    "# Tests"
   ]
  },
  {
   "cell_type": "markdown",
   "id": "840ddfd5",
   "metadata": {},
   "source": [
    "### Without measurement error correction"
   ]
  },
  {
   "cell_type": "code",
   "execution_count": null,
   "id": "cd751fd1-5095-4406-87e2-eac37adcdee8",
   "metadata": {},
   "outputs": [],
   "source": [
    "qec_cycle_count_list = [1,2,4,8,16,32]\n",
    "lqc_list = []\n",
    "qec_cycle_count_list"
   ]
  },
  {
   "cell_type": "code",
   "execution_count": null,
   "id": "33fee17c-245d-4de9-a5d6-7ca06873868d",
   "metadata": {},
   "outputs": [],
   "source": [
    "lqc_base = LogicalCircuit(1, **steane_code)\n",
    "lqc_base.encode([0], max_iterations=1)"
   ]
  },
  {
   "cell_type": "code",
   "execution_count": null,
   "id": "770f4807-ef14-41fd-8ce3-319350077d54",
   "metadata": {},
   "outputs": [],
   "source": [
    "lqc_list = []\n",
    "\n",
    "for n_qec_cycles in qec_cycle_count_list:\n",
    "    lqc = lqc_base.copy() #copy.deepcopy(lqc_base)\n",
    "    for _ in range(n_qec_cycles):\n",
    "        lqc.append_qec_cycle()\n",
    "    lqc.measure_all(with_error_correction=False)\n",
    "    lqc_list.append(lqc)\n",
    "\n",
    "#lqc_list[3].draw(\"mpl\")"
   ]
  },
  {
   "cell_type": "code",
   "execution_count": null,
   "id": "a1123a86-0f8f-4d01-b1a0-2d3754de590b",
   "metadata": {
    "scrolled": true
   },
   "outputs": [],
   "source": [
    "shots = 1E3\n",
    "results = execute_circuits(\n",
    "  lqc_list,\n",
    "  backend=\"aer_simulator\",\n",
    "  hardware_model=hardware_models_Quantinuum['H1-1'], coupling_map=None,\n",
    "  method=\"statevector\", shots=shots\n",
    ")"
   ]
  },
  {
   "cell_type": "code",
   "execution_count": null,
   "id": "33aab48b-c604-4b56-b37f-a458c357704f",
   "metadata": {
    "scrolled": true
   },
   "outputs": [],
   "source": [
    "# Option 1: Logical Counts\n",
    "logical_counts_list = [lqc.get_logical_counts(result.get_counts()) for lqc, result in zip(lqc_list, results)]\n",
    "wo_qec_infidelities = [logical_counts.get(\"1\", 0)/shots for logical_counts in logical_counts_list] # without qec\n",
    "\n",
    "# Option 2: LogicalStatevector\n",
    "# infidelities = []\n",
    "# for result in results:\n",
    "#     lsv = LogicalStatevector.from_counts(result.get_counts(), n_logical_qubits=1, **steane_code)\n",
    "#     infidelity = 1-(lsv.logical_decomposition[0])**2\n",
    "#     infidelities.append(infidelity)"
   ]
  },
  {
   "cell_type": "code",
   "execution_count": null,
   "id": "cc8b6e64",
   "metadata": {},
   "outputs": [],
   "source": [
    "fig, ax = plt.subplots(dpi=128)\n",
    "\n",
    "ax.bar(qec_cycle_count_list, wo_qec_infidelities)\n",
    "\n",
    "ax.set_title(\"Infidelity vs. Number of QEC cycles\")\n",
    "ax.set_xlabel(\"Number of QEC cycles\")\n",
    "ax.set_ylabel(r\"$1 - P(0)$\")\n",
    "# ax.set_yscale(\"log\")\n",
    "\n",
    "plt.show()"
   ]
  },
  {
   "cell_type": "markdown",
   "id": "0fa96df3",
   "metadata": {},
   "source": [
    "### With measurement error correction"
   ]
  },
  {
   "cell_type": "code",
   "execution_count": null,
   "id": "6e3de5e2",
   "metadata": {},
   "outputs": [],
   "source": [
    "lqc_list = []\n",
    "\n",
    "for n_qec_cycles in qec_cycle_count_list:\n",
    "    lqc = lqc_base.copy() #copy.deepcopy(lqc_base)\n",
    "    for _ in range(n_qec_cycles):\n",
    "        lqc.append_qec_cycle()\n",
    "    lqc.measure_all(with_error_correction=True)\n",
    "    lqc_list.append(lqc)\n",
    "\n",
    "#lqc_list[3].draw(\"mpl\")"
   ]
  },
  {
   "cell_type": "code",
   "execution_count": null,
   "id": "c3753deb",
   "metadata": {},
   "outputs": [],
   "source": [
    "shots = 1E3\n",
    "results = execute_circuits(\n",
    "  lqc_list,\n",
    "  backend=\"aer_simulator\",\n",
    "  hardware_model=hardware_models_Quantinuum['H1-1'], coupling_map=None,\n",
    "  method=\"statevector\", shots=shots\n",
    ")"
   ]
  },
  {
   "cell_type": "code",
   "execution_count": null,
   "id": "05f229c8",
   "metadata": {},
   "outputs": [],
   "source": [
    "# Option 1: Logical Counts\n",
    "logical_counts_list = [lqc.get_logical_counts(result.get_counts()) for lqc, result in zip(lqc_list, results)]\n",
    "w_qec_infidelities = [logical_counts.get(\"1\", 0)/shots for logical_counts in logical_counts_list] # with qec\n",
    "\n",
    "# Option 2: LogicalStatevector\n",
    "# infidelities = []\n",
    "# for result in results:\n",
    "#     lsv = LogicalStatevector.from_counts(result.get_counts(), n_logical_qubits=1, **steane_code)\n",
    "#     infidelity = 1-(lsv.logical_decomposition[0])**2\n",
    "#     infidelities.append(infidelity)"
   ]
  },
  {
   "cell_type": "code",
   "execution_count": null,
   "id": "023db8eb",
   "metadata": {},
   "outputs": [],
   "source": [
    "fig, ax = plt.subplots(dpi=128)\n",
    "\n",
    "ax.bar(qec_cycle_count_list, w_qec_infidelities)\n",
    "\n",
    "ax.set_title(\"Infidelity vs. Number of QEC cycles\")\n",
    "ax.set_xlabel(\"Number of QEC cycles\")\n",
    "ax.set_ylabel(r\"$1 - P(0)$\")\n",
    "# ax.set_yscale(\"log\")\n",
    "\n",
    "plt.show()"
   ]
  },
  {
   "cell_type": "markdown",
   "id": "650e053c",
   "metadata": {},
   "source": [
    "### Plotting with measurement error correction vs. without"
   ]
  },
  {
   "cell_type": "code",
   "execution_count": null,
   "id": "87766ee2",
   "metadata": {},
   "outputs": [],
   "source": [
    "# Set the x-axis positions for the bars\n",
    "x_indices = np.arange(len(qec_cycle_count_list))\n",
    "bar_width = 0.35  # Width of each bar\n",
    "\n",
    "# Create the figure and axis objects\n",
    "fig, ax = plt.subplots(figsize=(14, 7))\n",
    "\n",
    "# Plot the bars for \"With QEC\" (Blue)\n",
    "rects1 = ax.bar(x_indices - bar_width/2, w_qec_infidelities, bar_width,\n",
    "                label='With QEC', color='blue')\n",
    "\n",
    "# Plot the bars for \"Without QEC\" (Orange)\n",
    "rects2 = ax.bar(x_indices + bar_width/2, wo_qec_infidelities, bar_width,\n",
    "                label='Without QEC', color='orange')\n",
    "\n",
    "ax.set_ylabel('Infidelity', fontsize=12)\n",
    "ax.set_title('Comparison of Infidelity With and Without QEC', fontsize=16)\n",
    "ax.set_xticks(x_indices)\n",
    "ax.set_xticklabels(qec_cycle_count_list, rotation=45, ha='right')\n",
    "ax.legend()\n",
    "\n",
    "# Add grid\n",
    "ax.yaxis.grid(True, linestyle='--', alpha=0.7)\n",
    "\n",
    "# Add value labels on top of each bar\n",
    "def autolabel(rects):\n",
    "    \"\"\"Attach a text label above each bar in *rects*, displaying its height.\"\"\"\n",
    "    for rect in rects:\n",
    "        height = rect.get_height()\n",
    "        ax.annotate(f'{height:.3f}',  # Format to 3 decimal places\n",
    "                    xy=(rect.get_x() + rect.get_width() / 2, height),\n",
    "                    xytext=(0, 3),  # 3 points vertical offset\n",
    "                    textcoords=\"offset points\",\n",
    "                    ha='center', va='bottom',\n",
    "                    fontsize=8)\n",
    "\n",
    "# Call the autolabel function for both sets of bars\n",
    "autolabel(rects1)\n",
    "autolabel(rects2)\n",
    "\n",
    "fig.tight_layout()\n",
    "\n",
    "print(\"Generating bar plot...\")\n",
    "plt.show()\n",
    "print(\"Plot display finished.\")\n"
   ]
  },
  {
   "cell_type": "markdown",
   "id": "6147f4de",
   "metadata": {},
   "source": [
    "We can test that .copy() produces a deepcopy, rather than a shallow copy:"
   ]
  },
  {
   "cell_type": "code",
   "execution_count": null,
   "id": "612daa91-fd7c-4d97-b70a-14407d296898",
   "metadata": {},
   "outputs": [],
   "source": [
    "lqc_base = LogicalCircuit(1, **steane_code)\n",
    "lqc_base.encode([0], max_iterations=1)\n",
    "copy_base = lqc_base.copy()\n",
    "dir(copy_base)\n",
    "\n",
    "\n",
    "print(f\"Number of qubits in lqc_base: {lqc_base.n_logical_qubits}\")\n",
    "print(f\"Number of qubits in copy_base: {copy_base.n_logical_qubits}\")\n",
    "\n",
    "lqc_base.n_logical_qubits = 10000\n",
    "\n",
    "print(f\"Number of qubits in lqc_base: {lqc_base.n_logical_qubits}\")\n",
    "print(f\"Number of qubits in copy_base: {copy_base.n_logical_qubits}\")"
   ]
  },
  {
   "cell_type": "markdown",
   "id": "a2773cfe",
   "metadata": {},
   "source": [
    "### Quantum circuit baseline"
   ]
  },
  {
   "cell_type": "code",
   "execution_count": null,
   "id": "15d0c05a",
   "metadata": {},
   "outputs": [],
   "source": [
    "shots = 1E7\n",
    "from qiskit import QuantumCircuit\n",
    "qc = QuantumCircuit(1)\n",
    "qc.measure_all()\n",
    "results = execute_circuits(\n",
    "  qc,\n",
    "  backend=\"aer_simulator\",\n",
    "  hardware_model=hardware_models_Quantinuum[\"H1-1\"], coupling_map=None,\n",
    "  method=\"statevector\", shots=shots\n",
    ")\n",
    "counts = results[0].get_counts()\n",
    "error_rate = counts['1'] / shots\n",
    "print(f\"Error rate: {error_rate}\")"
   ]
  },
  {
   "cell_type": "markdown",
   "id": "d8888754",
   "metadata": {},
   "source": [
    "### Expr test"
   ]
  },
  {
   "cell_type": "code",
   "execution_count": null,
   "id": "d82400e3",
   "metadata": {},
   "outputs": [],
   "source": [
    "from qiskit.circuit.classical import expr\n",
    "\n",
    "def cbit_and(cbits, values):\n",
    "    result = expr.bit_not(cbits[0]) if values[0] == 0 else expr.lift(cbits[0])\n",
    "    for n in range(len(cbits)-1):\n",
    "        result = expr.bit_and(result, expr.bit_not(cbits[n+1])) if values[n+1] == 0 else expr.bit_and(result, cbits[n+1])\n",
    "    return result\n",
    "\n",
    "cbit_and([0,0,0], [1,0,0])"
   ]
  },
  {
   "cell_type": "markdown",
   "id": "6a72b80d",
   "metadata": {},
   "source": [
    "### Look at circuit structure"
   ]
  },
  {
   "cell_type": "code",
   "execution_count": null,
   "id": "c62cb4fd",
   "metadata": {},
   "outputs": [],
   "source": [
    "n_qec_cycles = 1\n",
    "lqc = lqc_base.copy() #copy.deepcopy(lqc_base)\n",
    "for _ in range(n_qec_cycles):\n",
    "    lqc.append_qec_cycle()\n",
    "lqc.measure_all()\n",
    "#lqc_list[3].draw(\"mpl\")\n",
    "lqc.decompose().draw(output='mpl')"
   ]
  },
  {
   "cell_type": "markdown",
   "id": "5cb255dd",
   "metadata": {},
   "source": [
    "## LogicalGeneral Testing"
   ]
  },
  {
   "cell_type": "code",
   "execution_count": null,
   "id": "b545f09e",
   "metadata": {},
   "outputs": [],
   "source": [
    "qec_cycle_count_list = [1,2,4,8,16,32]#list(np.arange(0, 10, 1)) #+ list(np.arange(11, 64, 2)) #[1, 2, 4, 8, 16, 32, 64]#np.arange(10) #[0, 1, 2, 3, 4, 5, 6]#, 8, 16, 32]#, 64]\n",
    "lqc_list = []\n",
    "qec_cycle_count_list\n",
    "\n",
    "from LogicalQ.LogicalGeneral import LogicalCircuitGeneral\n",
    "\n",
    "lqc_base = LogicalCircuitGeneral(1, **steane_code)\n",
    "lqc_base.encode([0], max_iterations=1)"
   ]
  },
  {
   "cell_type": "code",
   "execution_count": null,
   "id": "cb9b73a5",
   "metadata": {},
   "outputs": [],
   "source": [
    "for n_qec_cycles in qec_cycle_count_list:\n",
    "    lqc = lqc_base.copy() #copy.deepcopy(lqc_base)\n",
    "    for _ in range(n_qec_cycles):\n",
    "        lqc.append_qec_cycle()\n",
    "    lqc.measure_all()\n",
    "    lqc_list.append(lqc)"
   ]
  },
  {
   "cell_type": "code",
   "execution_count": null,
   "id": "ca31a5f2",
   "metadata": {},
   "outputs": [],
   "source": [
    "shots = 1E3\n",
    "results = execute_circuits(\n",
    "  lqc_list,\n",
    "  backend=\"aer_simulator\",\n",
    "  hardware_model=hardware_models_Quantinuum['H1-1'], coupling_map=None,\n",
    "  method=\"statevector\", shots=shots\n",
    ")"
   ]
  },
  {
   "cell_type": "code",
   "execution_count": null,
   "id": "24708cc1",
   "metadata": {},
   "outputs": [],
   "source": [
    "logical_counts_list = [lqc.get_logical_counts(result.get_counts()) for lqc, result in zip(lqc_list, results)]\n",
    "infidelities = [logical_counts.get(\"1\", 0)/shots for logical_counts in logical_counts_list]\n",
    "\n",
    "fig, ax = plt.subplots(dpi=128)\n",
    "\n",
    "ax.bar(qec_cycle_count_list, infidelities)\n",
    "\n",
    "ax.set_title(\"Infidelity vs. Number of QEC cycles\")\n",
    "ax.set_xlabel(\"Number of QEC cycles\")\n",
    "ax.set_ylabel(r\"$1 - P(0)$\")\n",
    "# ax.set_yscale(\"log\")\n",
    "\n",
    "plt.show()"
   ]
  }
 ],
 "metadata": {
  "kernelspec": {
   "display_name": "venv (3.12.6)",
   "language": "python",
   "name": "python3"
  },
  "language_info": {
   "codemirror_mode": {
    "name": "ipython",
    "version": 3
   },
   "file_extension": ".py",
   "mimetype": "text/x-python",
   "name": "python",
   "nbconvert_exporter": "python",
   "pygments_lexer": "ipython3",
   "version": "3.12.6"
  }
 },
 "nbformat": 4,
 "nbformat_minor": 5
}

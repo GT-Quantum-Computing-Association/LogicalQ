{
 "cells": [
  {
   "cell_type": "code",
   "execution_count": null,
   "id": "3b1b365e-f914-4255-b5fd-3404009c2eed",
   "metadata": {},
   "outputs": [],
   "source": [
    "import copy"
   ]
  },
  {
   "cell_type": "code",
   "execution_count": null,
   "id": "4c4dc884-5fb6-46ef-872f-912097550cb4",
   "metadata": {},
   "outputs": [],
   "source": [
    "from LogicalQ.Logical import LogicalCircuit\n",
    "from LogicalQ.Library.QECCs import steane_code\n",
    "from LogicalQ.Library.Targets import construct_target_generic_iontrap\n",
    "from LogicalQ.Experiments import execute_circuits"
   ]
  },
  {
   "cell_type": "code",
   "execution_count": null,
   "id": "cd751fd1-5095-4406-87e2-eac37adcdee8",
   "metadata": {},
   "outputs": [],
   "source": [
    "lqc_list = []"
   ]
  },
  {
   "cell_type": "code",
   "execution_count": null,
   "id": "33fee17c-245d-4de9-a5d6-7ca06873868d",
   "metadata": {},
   "outputs": [],
   "source": [
    "lqc_base = LogicalCircuit(1, **steane_code)\n",
    "lqc_base.encode([0], [0])\n",
    "\n",
    "lqc_list.append(lqc_base)"
   ]
  },
  {
   "cell_type": "code",
   "execution_count": null,
   "id": "597c38b6-a743-4efe-8ee7-2dc74a5ece70",
   "metadata": {},
   "outputs": [],
   "source": [
    "data = []\n",
    "for n_qec_cycles in [1, 2, 4, 8, 16, 32, 64]:\n",
    "    print(n_qec_cycles)\n",
    "    lqc = copy.deepcopy(lqc_base)\n",
    "    for _ in range(n_qec_cycles):\n",
    "        lqc.append_qec_cycle()\n",
    "    lqc_list.append(lqc)\n",
    "\n",
    "results = execute_circuits(lqc_list, target=construct_target_generic_iontrap(n_qubits=32), backend=\"aer_simulator\", method=\"automatic\", shots=1024)"
   ]
  },
  {
   "cell_type": "code",
   "execution_count": null,
   "id": "0f4a9aac-7dc5-49b8-ba61-e2e9aeea0fa8",
   "metadata": {},
   "outputs": [],
   "source": [
    "results"
   ]
  },
  {
   "cell_type": "code",
   "execution_count": null,
   "id": "edfe0b0d-5d0d-4994-8af3-101d1378aa9f",
   "metadata": {},
   "outputs": [],
   "source": []
  }
 ],
 "metadata": {
  "kernelspec": {
   "display_name": "Python 3 (ipykernel)",
   "language": "python",
   "name": "python3"
  },
  "language_info": {
   "codemirror_mode": {
    "name": "ipython",
    "version": 3
   },
   "file_extension": ".py",
   "mimetype": "text/x-python",
   "name": "python",
   "nbconvert_exporter": "python",
   "pygments_lexer": "ipython3",
   "version": "3.13.3"
  }
 },
 "nbformat": 4,
 "nbformat_minor": 5
}

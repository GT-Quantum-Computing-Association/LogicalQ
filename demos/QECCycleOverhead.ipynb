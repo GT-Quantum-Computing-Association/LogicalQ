{
 "cells": [
  {
   "cell_type": "markdown",
   "id": "35bcc92e",
   "metadata": {},
   "source": [
    "# Imports"
   ]
  },
  {
   "cell_type": "code",
   "execution_count": 1,
   "id": "3b1b365e-f914-4255-b5fd-3404009c2eed",
   "metadata": {},
   "outputs": [],
   "source": [
    "import copy\n",
    "import numpy as np\n",
    "import matplotlib.pyplot as plt\n",
    "\n",
    "from LogicalQ.Logical import LogicalCircuit, LogicalStatevector\n",
    "from LogicalQ.Library.QECCs import steane_code\n",
    "from LogicalQ.Library.Targets import construct_target_generic_iontrap\n",
    "from LogicalQ.Library.HardwareModels import hardware_models_Quantinuum\n",
    "from LogicalQ.Experiments import execute_circuits\n",
    "from LogicalQ.Analysis import calculate_exp_val"
   ]
  },
  {
   "cell_type": "markdown",
   "id": "1b567665",
   "metadata": {},
   "source": [
    "# Tests"
   ]
  },
  {
   "cell_type": "code",
   "execution_count": 2,
   "id": "cd751fd1-5095-4406-87e2-eac37adcdee8",
   "metadata": {},
   "outputs": [
    {
     "data": {
      "text/plain": [
       "[1, 2, 4, 8, 16, 32]"
      ]
     },
     "execution_count": 2,
     "metadata": {},
     "output_type": "execute_result"
    }
   ],
   "source": [
    "qec_cycle_count_list = [1,2,4,8,16,32]#list(np.arange(0, 10, 1)) #+ list(np.arange(11, 64, 2)) #[1, 2, 4, 8, 16, 32, 64]#np.arange(10) #[0, 1, 2, 3, 4, 5, 6]#, 8, 16, 32]#, 64]\n",
    "lqc_list = []\n",
    "qec_cycle_count_list"
   ]
  },
  {
   "cell_type": "code",
   "execution_count": 3,
   "id": "33fee17c-245d-4de9-a5d6-7ca06873868d",
   "metadata": {},
   "outputs": [
    {
     "name": "stdout",
     "output_type": "stream",
     "text": [
      "[0, 1, 2]\n",
      "[3, 4, 5]\n"
     ]
    },
    {
     "data": {
      "text/plain": [
       "True"
      ]
     },
     "execution_count": 3,
     "metadata": {},
     "output_type": "execute_result"
    }
   ],
   "source": [
    "lqc_base = LogicalCircuit(1, **steane_code)\n",
    "lqc_base.encode([0], max_iterations=1)"
   ]
  },
  {
   "cell_type": "code",
   "execution_count": 4,
   "id": "770f4807-ef14-41fd-8ce3-319350077d54",
   "metadata": {},
   "outputs": [],
   "source": [
    "for n_qec_cycles in qec_cycle_count_list:\n",
    "    lqc = lqc_base.copy() #copy.deepcopy(lqc_base)\n",
    "    for _ in range(n_qec_cycles):\n",
    "        lqc.append_qec_cycle()\n",
    "    lqc.measure_all()\n",
    "    lqc_list.append(lqc)\n",
    "\n",
    "#lqc_list[3].draw(\"mpl\")"
   ]
  },
  {
   "cell_type": "code",
   "execution_count": 5,
   "id": "a157fe0b",
   "metadata": {},
   "outputs": [],
   "source": [
    "from LogicalQ.Library.Gates import RGate, RZGate, RZZGate, ZZGate\n",
    "\n",
    "reduction = 10\n",
    "\n",
    "faux_hardware = {\n",
    "    \"device_info\": {\n",
    "        \"n_qubits\": 20,\n",
    "        \"coupling_map\": \"fully_coupled\",\n",
    "        # \"basis_gates\": dict(zip([\"u\", \"rz\", \"rzz\", \"zz\"], [UGate, RZGate, RZZGate, ZZGate])),\n",
    "        \"basis_gates\": dict(zip([\"r\", \"rz\", \"rzz\"], [RGate, RZGate, RZZGate])), # @TODO - TEMPORARY WORKAROUND\n",
    "    },\n",
    "    \"noise_params\": {\n",
    "        \"all_qubit\": {\n",
    "            \"t1\": 60 * reduction, # Decoherence times\n",
    "            \"t2\": 4 * reduction, # Decoherence\n",
    "            \"gate_time\": {\n",
    "                1: {\n",
    "                    \"all\": 10E-6,\n",
    "                },\n",
    "                2: {\n",
    "                    \"all\": 100E-6,\n",
    "                },\n",
    "            },\n",
    "            \"readout_error\": {\n",
    "                1: {\n",
    "                    (\"0\",\"1\"): 1.22E-3 / reduction,\n",
    "                    (\"1\",\"0\"): 3.43E-3 / reduction,\n",
    "                },\n",
    "            },\n",
    "            \"depolarizing_error\": {\n",
    "                1: {\n",
    "                    \"all\": (1-0.747) * 1.80E-5 / reduction,\n",
    "                },\n",
    "                2: {\n",
    "                    \"all\": (1-0.421) * 9.73E-4 / reduction,\n",
    "                },\n",
    "            },\n",
    "            \"amplitude_damping_error\": {\n",
    "                1: {\n",
    "                    \"all\": (0.747) * 1.80E-5 / reduction,\n",
    "                },\n",
    "                # 2: {\n",
    "                #     \"all\": (0.421) * 9.73E-4, # @TODO - not supported by Qiskit\n",
    "                # },\n",
    "            },\n",
    "            \"dephasing_error\": {\n",
    "                1: {\n",
    "                    # @TODO - verify angle convention (i.e. theta vs. theta/2)\n",
    "                    \"id\": np.sin(0.122 * 10E-6**2)**2 / reduction, # Using a single-qubit gate time approximation\n",
    "                }\n",
    "            }\n",
    "        },\n",
    "    },\n",
    "}"
   ]
  },
  {
   "cell_type": "code",
   "execution_count": 6,
   "id": "a1123a86-0f8f-4d01-b1a0-2d3754de590b",
   "metadata": {
    "scrolled": true
   },
   "outputs": [],
   "source": [
    "shots = 1E2\n",
    "results = execute_circuits(\n",
    "  lqc_list,\n",
    "  backend=\"aer_simulator\",\n",
    "  hardware_model=hardware_models_Quantinuum['H1-1'], coupling_map=None,\n",
    "  method=\"statevector\", shots=shots\n",
    ")"
   ]
  },
  {
   "cell_type": "code",
   "execution_count": 7,
   "id": "33aab48b-c604-4b56-b37f-a458c357704f",
   "metadata": {
    "scrolled": true
   },
   "outputs": [],
   "source": [
    "# Option 1: Logical Counts\n",
    "logical_counts_list = [lqc.get_logical_counts(result.get_counts()) for lqc, result in zip(lqc_list, results)]\n",
    "infidelities = [logical_counts.get(\"1\", 0)/shots for logical_counts in logical_counts_list]\n",
    "\n",
    "# Option 2: LogicalStatevector\n",
    "# infidelities = []\n",
    "# for result in results:\n",
    "#     lsv = LogicalStatevector.from_counts(result.get_counts(), n_logical_qubits=1, **steane_code)\n",
    "#     infidelity = 1-(lsv.logical_decomposition[0])**2\n",
    "#     infidelities.append(infidelity)"
   ]
  },
  {
   "cell_type": "code",
   "execution_count": 8,
   "id": "0f4a9aac-7dc5-49b8-ba61-e2e9aeea0fa8",
   "metadata": {},
   "outputs": [
    {
     "data": {
      "image/png": "[encoded data removed]",
      "text/plain": [
       "<Figure size 819.2x614.4 with 1 Axes>"
      ]
     },
     "metadata": {},
     "output_type": "display_data"
    }
   ],
   "source": [
    "fig, ax = plt.subplots(dpi=128)\n",
    "\n",
    "ax.bar(qec_cycle_count_list, infidelities)\n",
    "\n",
    "ax.set_title(\"Infidelity vs. Number of QEC cycles\")\n",
    "ax.set_xlabel(\"Number of QEC cycles\")\n",
    "ax.set_ylabel(r\"$1 - P(0)$\")\n",
    "# ax.set_yscale(\"log\")\n",
    "\n",
    "plt.show()"
   ]
  },
  {
   "cell_type": "code",
   "execution_count": 9,
   "id": "612daa91-fd7c-4d97-b70a-14407d296898",
   "metadata": {},
   "outputs": [
    {
     "name": "stdout",
     "output_type": "stream",
     "text": [
      "[0, 1, 2]\n",
      "[3, 4, 5]\n",
      "Number of qubits in lqc_base: 1\n",
      "Number of qubits in copy_base: 1\n",
      "Number of qubits in lqc_base: 10000\n",
      "Number of qubits in copy_base: 1\n"
     ]
    }
   ],
   "source": [
    "lqc_base = LogicalCircuit(1, **steane_code)\n",
    "lqc_base.encode([0], max_iterations=1)\n",
    "copy_base = lqc_base.copy()\n",
    "dir(copy_base)\n",
    "\n",
    "\n",
    "print(f\"Number of qubits in lqc_base: {lqc_base.n_logical_qubits}\")\n",
    "print(f\"Number of qubits in copy_base: {copy_base.n_logical_qubits}\")\n",
    "\n",
    "lqc_base.n_logical_qubits = 10000\n",
    "\n",
    "print(f\"Number of qubits in lqc_base: {lqc_base.n_logical_qubits}\")\n",
    "print(f\"Number of qubits in copy_base: {copy_base.n_logical_qubits}\")"
   ]
  },
  {
   "cell_type": "markdown",
   "id": "a2773cfe",
   "metadata": {},
   "source": [
    "Quantum circuit baseline"
   ]
  },
  {
   "cell_type": "code",
   "execution_count": 10,
   "id": "15d0c05a",
   "metadata": {},
   "outputs": [
    {
     "name": "stdout",
     "output_type": "stream",
     "text": [
      "Error rate: 0.0034197\n"
     ]
    }
   ],
   "source": [
    "shots = 1E7\n",
    "from qiskit import QuantumCircuit\n",
    "qc = QuantumCircuit(1)\n",
    "qc.measure_all()\n",
    "results = execute_circuits(\n",
    "  qc,\n",
    "  backend=\"aer_simulator\",\n",
    "  hardware_model=hardware_models_Quantinuum[\"H1-1\"], coupling_map=None,\n",
    "  method=\"statevector\", shots=shots\n",
    ")\n",
    "counts = results[0].get_counts()\n",
    "error_rate = counts['1'] / shots\n",
    "print(f\"Error rate: {error_rate}\")"
   ]
  },
  {
   "cell_type": "markdown",
   "id": "d8888754",
   "metadata": {},
   "source": [
    "expr test"
   ]
  },
  {
   "cell_type": "code",
   "execution_count": 11,
   "id": "d82400e3",
   "metadata": {},
   "outputs": [
    {
     "data": {
      "text/plain": [
       "Binary(Binary.<Op.BIT_AND: 1>, Binary(Binary.<Op.BIT_AND: 1>, Value(0, Uint(1)), Unary(Unary.<Op.BIT_NOT: 1>, Value(0, Uint(1)), Uint(1)), Uint(1)), Unary(Unary.<Op.BIT_NOT: 1>, Value(0, Uint(1)), Uint(1)), Uint(1))"
      ]
     },
     "execution_count": 11,
     "metadata": {},
     "output_type": "execute_result"
    }
   ],
   "source": [
    "from qiskit.circuit.classical import expr\n",
    "\n",
    "def cbit_and(cbits, values):\n",
    "    result = expr.bit_not(cbits[0]) if values[0] == 0 else expr.lift(cbits[0])\n",
    "    for n in range(len(cbits)-1):\n",
    "        result = expr.bit_and(result, expr.bit_not(cbits[n+1])) if values[n+1] == 0 else expr.bit_and(result, cbits[n+1])\n",
    "    return result\n",
    "\n",
    "cbit_and([0,0,0], [1,0,0])"
   ]
  },
  {
   "cell_type": "markdown",
   "id": "6a72b80d",
   "metadata": {},
   "source": [
    "Look at circuit structure"
   ]
  },
  {
   "cell_type": "code",
   "execution_count": 12,
   "id": "c62cb4fd",
   "metadata": {},
   "outputs": [
    {
     "ename": "KeyError",
     "evalue": "1",
     "output_type": "error",
     "traceback": [
      "\u001b[31m---------------------------------------------------------------------------\u001b[39m",
      "\u001b[31mKeyError\u001b[39m                                  Traceback (most recent call last)",
      "\u001b[36mCell\u001b[39m\u001b[36m \u001b[39m\u001b[32mIn[12]\u001b[39m\u001b[32m, line 4\u001b[39m\n\u001b[32m      2\u001b[39m lqc = lqc_base.copy() \u001b[38;5;66;03m#copy.deepcopy(lqc_base)\u001b[39;00m\n\u001b[32m      3\u001b[39m \u001b[38;5;28;01mfor\u001b[39;00m _ \u001b[38;5;129;01min\u001b[39;00m \u001b[38;5;28mrange\u001b[39m(n_qec_cycles):\n\u001b[32m----> \u001b[39m\u001b[32m4\u001b[39m     \u001b[43mlqc\u001b[49m\u001b[43m.\u001b[49m\u001b[43mappend_qec_cycle\u001b[49m\u001b[43m(\u001b[49m\u001b[43m)\u001b[49m\n\u001b[32m      5\u001b[39m lqc.measure_all()\n\u001b[32m      6\u001b[39m \u001b[38;5;66;03m#lqc_list[3].draw(\"mpl\")\u001b[39;00m\n",
      "\u001b[36mFile \u001b[39m\u001b[32m~\\OneDrive\\Desktop\\College\\Research\\Quantum Computing\\QCA\\clone\\LogicalQ\\LogicalQ\\Logical.py:955\u001b[39m, in \u001b[36mLogicalCircuit.append_qec_cycle\u001b[39m\u001b[34m(self, logical_qubit_indices, flagged)\u001b[39m\n\u001b[32m    953\u001b[39m     \u001b[38;5;28mself\u001b[39m.data_without_qec = copy.deepcopy(\u001b[38;5;28mself\u001b[39m.data)\n\u001b[32m    954\u001b[39m \u001b[38;5;28;01melse\u001b[39;00m:\n\u001b[32m--> \u001b[39m\u001b[32m955\u001b[39m     \u001b[38;5;28;01mif\u001b[39;00m \u001b[38;5;28mlen\u001b[39m(\u001b[38;5;28;43mself\u001b[39;49m\u001b[43m.\u001b[49m\u001b[43mqec_cycle_indices_final\u001b[49m\u001b[43m[\u001b[49m\u001b[43mq\u001b[49m\u001b[43m]\u001b[49m) > \u001b[32m0\u001b[39m:\n\u001b[32m    956\u001b[39m         last_qec_index_final = \u001b[38;5;28mself\u001b[39m.qec_cycle_indices_final[q][-\u001b[32m1\u001b[39m]\n\u001b[32m    957\u001b[39m     \u001b[38;5;28;01melse\u001b[39;00m:\n",
      "\u001b[31mKeyError\u001b[39m: 1"
     ]
    }
   ],
   "source": [
    "n_qec_cycles = 1\n",
    "lqc = lqc_base.copy() #copy.deepcopy(lqc_base)\n",
    "for _ in range(n_qec_cycles):\n",
    "    lqc.append_qec_cycle()\n",
    "lqc.measure_all()\n",
    "#lqc_list[3].draw(\"mpl\")\n",
    "lqc.decompose().draw(output='mpl')"
   ]
  },
  {
   "cell_type": "markdown",
   "id": "a97707da",
   "metadata": {},
   "source": []
  },
  {
   "cell_type": "markdown",
   "id": "41f4eaec",
   "metadata": {},
   "source": [
    "generate_code test"
   ]
  },
  {
   "cell_type": "code",
   "execution_count": null,
   "id": "90048f0f",
   "metadata": {},
   "outputs": [
    {
     "name": "stdout",
     "output_type": "stream",
     "text": [
      "[0, 1, 2]\n",
      "[3, 4, 5]\n"
     ]
    },
    {
     "data": {
      "text/plain": [
       "True"
      ]
     },
     "execution_count": 3,
     "metadata": {},
     "output_type": "execute_result"
    }
   ],
   "source": [
    "lqc_base = LogicalCircuit(1, **steane_code)\n",
    "lqc_base.encode([0], max_iterations=1)"
   ]
  },
  {
   "cell_type": "markdown",
   "id": "5cb255dd",
   "metadata": {},
   "source": [
    "## LogicalGeneral Testing"
   ]
  },
  {
   "cell_type": "code",
   "execution_count": 2,
   "id": "b545f09e",
   "metadata": {},
   "outputs": [
    {
     "data": {
      "text/plain": [
       "True"
      ]
     },
     "execution_count": 2,
     "metadata": {},
     "output_type": "execute_result"
    }
   ],
   "source": [
    "qec_cycle_count_list = [1,2,4,8,16,32]#list(np.arange(0, 10, 1)) #+ list(np.arange(11, 64, 2)) #[1, 2, 4, 8, 16, 32, 64]#np.arange(10) #[0, 1, 2, 3, 4, 5, 6]#, 8, 16, 32]#, 64]\n",
    "lqc_list = []\n",
    "qec_cycle_count_list\n",
    "\n",
    "from LogicalQ.LogicalGeneral import LogicalCircuitGeneral\n",
    "\n",
    "lqc_base = LogicalCircuitGeneral(1, **steane_code)\n",
    "lqc_base.encode([0], max_iterations=1)"
   ]
  },
  {
   "cell_type": "code",
   "execution_count": 3,
   "id": "cb9b73a5",
   "metadata": {},
   "outputs": [],
   "source": [
    "for n_qec_cycles in qec_cycle_count_list:\n",
    "    lqc = lqc_base.copy() #copy.deepcopy(lqc_base)\n",
    "    for _ in range(n_qec_cycles):\n",
    "        lqc.append_qec_cycle()\n",
    "    lqc.measure_all()\n",
    "    lqc_list.append(lqc)"
   ]
  },
  {
   "cell_type": "code",
   "execution_count": 4,
   "id": "ca31a5f2",
   "metadata": {},
   "outputs": [],
   "source": [
    "shots = 1E3\n",
    "results = execute_circuits(\n",
    "  lqc_list,\n",
    "  backend=\"aer_simulator\",\n",
    "  hardware_model=hardware_models_Quantinuum['H1-1'], coupling_map=None,\n",
    "  method=\"statevector\", shots=shots\n",
    ")"
   ]
  },
  {
   "cell_type": "code",
   "execution_count": 6,
   "id": "24708cc1",
   "metadata": {},
   "outputs": [
    {
     "data": {
      "image/png": "[encoded data removed]",
      "text/plain": [
       "<Figure size 819.2x614.4 with 1 Axes>"
      ]
     },
     "metadata": {},
     "output_type": "display_data"
    }
   ],
   "source": [
    "logical_counts_list = [lqc.get_logical_counts(result.get_counts()) for lqc, result in zip(lqc_list, results)]\n",
    "infidelities = [logical_counts.get(\"1\", 0)/shots for logical_counts in logical_counts_list]\n",
    "\n",
    "fig, ax = plt.subplots(dpi=128)\n",
    "\n",
    "ax.bar(qec_cycle_count_list, infidelities)\n",
    "\n",
    "ax.set_title(\"Infidelity vs. Number of QEC cycles\")\n",
    "ax.set_xlabel(\"Number of QEC cycles\")\n",
    "ax.set_ylabel(r\"$1 - P(0)$\")\n",
    "# ax.set_yscale(\"log\")\n",
    "\n",
    "plt.show()"
   ]
  }
 ],
 "metadata": {
  "kernelspec": {
   "display_name": "venv (3.12.6)",
   "language": "python",
   "name": "python3"
  },
  "language_info": {
   "codemirror_mode": {
    "name": "ipython",
    "version": 3
   },
   "file_extension": ".py",
   "mimetype": "text/x-python",
   "name": "python",
   "nbconvert_exporter": "python",
   "pygments_lexer": "ipython3",
   "version": "3.12.6"
  }
 },
 "nbformat": 4,
 "nbformat_minor": 5
}

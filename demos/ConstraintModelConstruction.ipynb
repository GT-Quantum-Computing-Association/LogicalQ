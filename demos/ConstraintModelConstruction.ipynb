{
 "cells": [
  {
   "cell_type": "code",
   "execution_count": null,
   "id": "56208f95-0741-41fe-9fbb-869a8f804179",
   "metadata": {},
   "outputs": [],
   "source": [
    "import numpy as np\n",
    "\n",
    "from LogicalQ.Logical import LogicalCircuit\n",
    "from LogicalQ.Library.QECCs import steane_code\n",
    "from LogicalQ.Library.HardwareModels import hardware_models_Quantinuum\n",
    "from LogicalQ.NoiseModel import construct_noise_model_from_hardware_model\n",
    "from LogicalQ.Optimizers import compute_effective_threshold, compute_gadget_costs, compute_constraint_model\n",
    "from LogicalQ.Benchmarks import mirror_benchmarking\n",
    "from LogicalQ.Experiments import execute_circuits, qec_cycle_efficiency_experiment\n",
    "from LogicalQ.Analysis import qec_cycle_efficiency_scatter"
   ]
  },
  {
   "cell_type": "markdown",
   "id": "aaaa64d9-392a-4288-82f4-c4e8f9445fde",
   "metadata": {},
   "source": [
    "## Compute the effective threshold"
   ]
  },
  {
   "cell_type": "code",
   "execution_count": null,
   "id": "d7972d43-6ada-4ab7-a8f8-048c893a68e5",
   "metadata": {
    "scrolled": true
   },
   "outputs": [],
   "source": [
    "_, _, effective_threshold = compute_effective_threshold(\n",
    "    hardware_model=None,\n",
    "    # hardware_model=hardware_models_Quantinuum[\"H1-1\"],\n",
    "    # hardware_model=hardware_models_Quantinuum[\"H2-1\"],\n",
    "    **steane_code,\n",
    "    min_theta=0, max_theta=np.pi/4, n_theta=1,\n",
    "    min_phi=0, max_phi=np.pi*2, n_phi=1,\n",
    "    max_n_qec_cycles=1\n",
    ")"
   ]
  },
  {
   "cell_type": "markdown",
   "id": "5b026565-4a07-435c-9eb2-14bfcbd920bd",
   "metadata": {},
   "source": [
    "## Compute gadget costs"
   ]
  },
  {
   "cell_type": "code",
   "execution_count": null,
   "id": "6e68cb0e-d6ea-463c-b5c7-ebc7ff0812e3",
   "metadata": {},
   "outputs": [],
   "source": [
    "gadgets_library, gadget_infidelities, gadget_costs = compute_gadget_costs(\n",
    "    gadgets_library=None,\n",
    "    backend=\"aer_simulator\", hardware_model=hardware_models_Quantinuum[\"H2-1\"]\n",
    ")"
   ]
  },
  {
   "cell_type": "markdown",
   "id": "734d65c8-f3d0-4dc2-a972-c5b4316e2012",
   "metadata": {},
   "source": [
    "## Construct constraint model"
   ]
  },
  {
   "cell_type": "code",
   "execution_count": null,
   "id": "a79753bc-0eab-4872-96cd-fa5c3332049d",
   "metadata": {},
   "outputs": [],
   "source": [
    "for n_qubits, n_qubit_noise_data in hardware_models_Quantinuum[\"H2-1\"][\"noise_params\"].items():\n",
    "    for noise_param_key, noise_param_data in n_qubit_noise_data.items():\n",
    "        if noise_param_key in [\"depolarizing_error\", \"amplitude_damping_error\"]:\n",
    "            for param_n_qubits, n_qubit_error_data in noise_param_data.items():\n",
    "                for gate, gate_error_value in n_qubit_error_data.items():\n",
    "                    print(gate, gate_error_value)"
   ]
  },
  {
   "cell_type": "code",
   "execution_count": null,
   "id": "64074fa4-2a37-4bd8-bfc1-9b2a210f49c1",
   "metadata": {},
   "outputs": [],
   "source": [
    "compute_constraint_model(\n",
    "    hardware_models_Quantinuum[\"H2-1\"],\n",
    "    **steane_code,\n",
    "    optimizer=True,\n",
    "    effective_threshold=0.03,\n",
    "    gadget_costs=gadget_costs,\n",
    "    constraint_model=None,\n",
    ")"
   ]
  },
  {
   "cell_type": "markdown",
   "id": "59918977-446b-46f3-bac6-88168c89c50e",
   "metadata": {},
   "source": [
    "## Test constraint model"
   ]
  },
  {
   "cell_type": "markdown",
   "id": "54b0e0aa-70de-4bbf-8577-d1e08cf1ba85",
   "metadata": {},
   "source": [
    "### Prepare experiment inputs"
   ]
  },
  {
   "cell_type": "code",
   "execution_count": null,
   "id": "dc20b519-b040-4e6c-9df5-4381e354c473",
   "metadata": {},
   "outputs": [],
   "source": [
    "def logical_circuit_factory(n_qubits, circuit_length):\n",
    "    qc = mirror_benchmarking(n_qubits=n_qubits, circuit_length=circuit_length, seed=1111)\n",
    "    return LogicalCircuit.from_physical_circuit(qc, **steane_code)"
   ]
  },
  {
   "cell_type": "code",
   "execution_count": null,
   "id": "c79a93cb-f4ab-4abd-a665-27e4ca9f7ad5",
   "metadata": {},
   "outputs": [],
   "source": [
    "log_data_mp = circuit_scaling_experiment(\n",
    "    logical_circuit_factory,\n",
    "    noise_model_factory,\n",
    "    min_n_qubits=1,\n",
    "    max_n_qubits=1,\n",
    "    min_circuit_length=1,\n",
    "    max_circuit_length=32,\n",
    "    shots=1E2,\n",
    "    with_mp=True\n",
    ")"
   ]
  },
  {
   "cell_type": "code",
   "execution_count": null,
   "id": "bf23a3c7-fd26-4ce0-9247-25ed3cc30eb6",
   "metadata": {
    "scrolled": true
   },
   "outputs": [],
   "source": [
    "data_list = []\n",
    "for constraint_scan_key in constraint_scan_key_list:\n",
    "    data = qec_cycle_efficiency_experiment(\n",
    "        circuit_input=qc,\n",
    "        qecc=steane_code,\n",
    "        constraint_scan_keys=[\"effective_threshold\", constraint_scan_key], constraint_scan_val_lists=[[effective_threshold], constraint_scan_values],\n",
    "        backend=\"aer_simulator\",\n",
    "        hardware_model=hardware_models_Quantinuum[\"H2-1\"], coupling_map=None,\n",
    "        noise_model=None,\n",
    "        method=\"statevector\", shots=1E3, with_mp=False,\n",
    "        save_dir=None, save_filename=None\n",
    "    )\n",
    "    data_list.append(data)"
   ]
  },
  {
   "cell_type": "code",
   "execution_count": null,
   "id": "109b2af5-3f21-4374-9629-b5fa82560e0c",
   "metadata": {
    "scrolled": true
   },
   "outputs": [],
   "source": [
    "for data, constraint_scan_key in zip(data_list, constraint_scan_key_list):\n",
    "    qec_cycle_efficiency_scatter(data, scan_keys=[constraint_scan_key])"
   ]
  },
  {
   "cell_type": "code",
   "execution_count": null,
   "id": "4a01bf51-67c6-49b9-b598-7ef16ed572a5",
   "metadata": {},
   "outputs": [],
   "source": [
    "qci_list = [(list(datum[\"constraint_model\"].values())[1], datum[\"qec_cycle_indices\"]) for datum in data_list[0][0][\"results\"]]\n",
    "print(qci_list)"
   ]
  },
  {
   "cell_type": "code",
   "execution_count": null,
   "id": "dea13603-5183-46fc-820e-5a016997e793",
   "metadata": {},
   "outputs": [],
   "source": [
    "lqc = data_list[0][0][\"logical_circuit\"]\n",
    "lqc.insert_qec_cycles(qec_cycle_indices=qci_list[-1][1])\n",
    "lqc.draw(\"mpl\")"
   ]
  },
  {
   "cell_type": "code",
   "execution_count": null,
   "id": "95afb9e6-c949-4e4e-ae58-d4568463c4d2",
   "metadata": {},
   "outputs": [],
   "source": []
  }
 ],
 "metadata": {
  "kernelspec": {
   "display_name": "Python 3 (ipykernel)",
   "language": "python",
   "name": "python3"
  },
  "language_info": {
   "codemirror_mode": {
    "name": "ipython",
    "version": 3
   },
   "file_extension": ".py",
   "mimetype": "text/x-python",
   "name": "python",
   "nbconvert_exporter": "python",
   "pygments_lexer": "ipython3",
   "version": "3.13.7"
  }
 },
 "nbformat": 4,
 "nbformat_minor": 5
}

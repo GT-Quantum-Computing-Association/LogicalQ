{
 "cells": [
  {
   "cell_type": "code",
   "execution_count": null,
   "id": "56208f95-0741-41fe-9fbb-869a8f804179",
   "metadata": {},
   "outputs": [],
   "source": [
    "import numpy as np\n",
    "\n",
    "from LogicalQ.Logical import LogicalCircuit\n",
    "from LogicalQ.Library.QECCs import steane_code\n",
    "from LogicalQ.Library.HardwareModels import hardware_models_Quantinuum\n",
    "from LogicalQ.NoiseModel import construct_noise_model_from_hardware_model\n",
    "from LogicalQ.Optimizers import compute_effective_threshold, compute_gadget_costs, compute_constraint_model\n",
    "from LogicalQ.Benchmarks import mirror_benchmarking\n",
    "from LogicalQ.Experiments import execute_circuits, circuit_sclaing_experiment, qec_cycle_efficiency_experiment\n",
    "from LogicalQ.Analysis import qec_cycle_efficiency_scatter"
   ]
  },
  {
   "cell_type": "markdown",
   "id": "aaaa64d9-392a-4288-82f4-c4e8f9445fde",
   "metadata": {},
   "source": [
    "## Compute the effective threshold"
   ]
  },
  {
   "cell_type": "code",
   "execution_count": null,
   "id": "d7972d43-6ada-4ab7-a8f8-048c893a68e5",
   "metadata": {},
   "outputs": [],
   "source": [
    "_, _, effective_threshold = compute_effective_threshold(\n",
    "    hardware_model=hardware_models_Quantinuum[\"H2-1\"],\n",
    "    **steane_code,\n",
    "    min_theta=0, max_theta=np.pi/2, n_theta=8,\n",
    "    min_phi=0, max_phi=np.pi*2, n_phi=4,\n",
    "    max_n_qec_cycles=8\n",
    ")"
   ]
  },
  {
   "cell_type": "markdown",
   "id": "5b026565-4a07-435c-9eb2-14bfcbd920bd",
   "metadata": {},
   "source": [
    "## Compute gadget costs"
   ]
  },
  {
   "cell_type": "code",
   "execution_count": null,
   "id": "6e68cb0e-d6ea-463c-b5c7-ebc7ff0812e3",
   "metadata": {},
   "outputs": [],
   "source": [
    "gadgets_library, gadget_infidelities, gadget_costs = compute_gadget_costs(\n",
    "    gadgets_library=None,\n",
    "    backend=\"aer_simulator\", hardware_model=hardware_models_Quantinuum[\"H2-1\"]\n",
    ")"
   ]
  },
  {
   "cell_type": "markdown",
   "id": "734d65c8-f3d0-4dc2-a972-c5b4316e2012",
   "metadata": {},
   "source": [
    "## Construct constraint model"
   ]
  },
  {
   "cell_type": "code",
   "execution_count": null,
   "id": "64074fa4-2a37-4bd8-bfc1-9b2a210f49c1",
   "metadata": {},
   "outputs": [],
   "source": [
    "compute_constraint_model(\n",
    "    hardware_models_Quantinuum[\"H2-1\"],\n",
    "    **steane_code,\n",
    "    optimizer=True,\n",
    "    effective_threshold=effective_threshold,\n",
    "    gadget_costs=gadget_costs,\n",
    "    constraint_model=None,\n",
    ")"
   ]
  },
  {
   "cell_type": "markdown",
   "id": "59918977-446b-46f3-bac6-88168c89c50e",
   "metadata": {},
   "source": [
    "## Test constraint model"
   ]
  },
  {
   "cell_type": "code",
   "execution_count": null,
   "id": "dc20b519-b040-4e6c-9df5-4381e354c473",
   "metadata": {},
   "outputs": [],
   "source": [
    "def logical_circuit_factory(n_qubits, circuit_length):\n",
    "    qc = mirror_benchmarking(n_qubits=n_qubits, circuit_length=circuit_length, seed=1111)\n",
    "    return LogicalCircuit.from_physical_circuit(qc, **steane_code)"
   ]
  },
  {
   "cell_type": "code",
   "execution_count": null,
   "id": "c79a93cb-f4ab-4abd-a665-27e4ca9f7ad5",
   "metadata": {},
   "outputs": [],
   "source": [
    "# @TODO - replace with qec_cycle_circuit_scaling_experiment once implemented\n",
    "data = circuit_scaling_experiment(\n",
    "    logical_circuit_factory, noise_model_factory,\n",
    "    min_n_qubits=1, max_n_qubits=1,\n",
    "    min_circuit_length=1, max_circuit_length=32,\n",
    "    shots=1E6,\n",
    "    with_mp=True\n",
    ")"
   ]
  },
  {
   "cell_type": "code",
   "execution_count": null,
   "id": "109b2af5-3f21-4374-9629-b5fa82560e0c",
   "metadata": {
    "scrolled": true
   },
   "outputs": [],
   "source": [
    "circuit_scaling_bar3d(data)"
   ]
  },
  {
   "cell_type": "code",
   "execution_count": null,
   "id": "95afb9e6-c949-4e4e-ae58-d4568463c4d2",
   "metadata": {},
   "outputs": [],
   "source": []
  }
 ],
 "metadata": {
  "kernelspec": {
   "display_name": "Python 3 (ipykernel)",
   "language": "python",
   "name": "python3"
  },
  "language_info": {
   "codemirror_mode": {
    "name": "ipython",
    "version": 3
   },
   "file_extension": ".py",
   "mimetype": "text/x-python",
   "name": "python",
   "nbconvert_exporter": "python",
   "pygments_lexer": "ipython3",
   "version": "3.13.7"
  }
 },
 "nbformat": 4,
 "nbformat_minor": 5
}

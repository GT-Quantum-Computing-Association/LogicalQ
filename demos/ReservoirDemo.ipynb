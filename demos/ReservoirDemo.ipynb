{
 "cells": [
  {
   "cell_type": "code",
   "execution_count": 5,
   "id": "ae059969",
   "metadata": {},
   "outputs": [],
   "source": [
    "from LogicalQ.Reservoir import AncillaReservoir\n",
    "\n",
    "reservoir = AncillaReservoir(5)\n",
    "def get_reserved(): print({0, 1, 2, 3, 4} - set(reservoir.get_free_indices()))"
   ]
  },
  {
   "cell_type": "code",
   "execution_count": 6,
   "id": "f8106a09",
   "metadata": {},
   "outputs": [
    {
     "name": "stdout",
     "output_type": "stream",
     "text": [
      "set()\n",
      "<AncillaQubit register=(5, \"reservoir_qreg\"), index=0>\n",
      "{0, 1}\n",
      "set()\n",
      "<AncillaQubit register=(5, \"reservoir_qreg\"), index=2>\n",
      "{2, 3}\n",
      "set()\n",
      "<AncillaQubit register=(5, \"reservoir_qreg\"), index=4>\n",
      "{0, 4}\n",
      "set()\n",
      "<AncillaQubit register=(5, \"reservoir_qreg\"), index=1>\n",
      "{1, 2}\n",
      "set()\n",
      "<AncillaQubit register=(5, \"reservoir_qreg\"), index=3>\n",
      "{3, 4}\n",
      "set()\n",
      "<AncillaQubit register=(5, \"reservoir_qreg\"), index=0>\n",
      "{0, 1}\n",
      "set()\n",
      "<AncillaQubit register=(5, \"reservoir_qreg\"), index=2>\n",
      "{2, 3}\n",
      "set()\n",
      "<AncillaQubit register=(5, \"reservoir_qreg\"), index=4>\n",
      "{0, 4}\n",
      "set()\n",
      "<AncillaQubit register=(5, \"reservoir_qreg\"), index=1>\n",
      "{1, 2}\n",
      "set()\n",
      "<AncillaQubit register=(5, \"reservoir_qreg\"), index=3>\n",
      "{3, 4}\n"
     ]
    }
   ],
   "source": [
    "for i in range(10):\n",
    "    get_reserved()\n",
    "    with reservoir.allocate(2) as ancillas:\n",
    "        ancillaA, ancillaB = ancillas\n",
    "        print(ancillaA)\n",
    "        get_reserved()"
   ]
  }
 ],
 "metadata": {
  "kernelspec": {
   "display_name": "venv (3.12.6)",
   "language": "python",
   "name": "python3"
  },
  "language_info": {
   "codemirror_mode": {
    "name": "ipython",
    "version": 3
   },
   "file_extension": ".py",
   "mimetype": "text/x-python",
   "name": "python",
   "nbconvert_exporter": "python",
   "pygments_lexer": "ipython3",
   "version": "3.12.6"
  }
 },
 "nbformat": 4,
 "nbformat_minor": 5
}

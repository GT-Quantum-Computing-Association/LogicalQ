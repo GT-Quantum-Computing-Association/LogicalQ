{
 "cells": [
  {
   "cell_type": "markdown",
   "id": "025aed3b",
   "metadata": {},
   "source": [
    "## Imports"
   ]
  },
  {
   "cell_type": "code",
   "execution_count": 18,
   "id": "9d246afb",
   "metadata": {},
   "outputs": [
    {
     "name": "stdout",
     "output_type": "stream",
     "text": [
      "The autoreload extension is already loaded. To reload it, use:\n",
      "  %reload_ext autoreload\n"
     ]
    }
   ],
   "source": [
    "import numpy as np\n",
    "import matplotlib.pyplot as plt\n",
    "\n",
    "from qiskit import ClassicalRegister, QuantumRegister, QuantumCircuit, transpile\n",
    "from qiskit_aer import AerSimulator\n",
    "\n",
    "from LogicalQ.Logical import LogicalCircuit\n",
    "from LogicalQ.Library.QECCs import steane_code\n",
    "from LogicalQ.Library.HardwareModels import hardware_models_Quantinuum\n",
    "from LogicalQ.Experiments import execute_circuits\n",
    "\n",
    "import numpy as np\n",
    " \n",
    "from qiskit.circuit.library import EfficientSU2\n",
    "from qiskit.quantum_info import PauliList, Statevector, SparsePauliOp\n",
    "from qiskit.transpiler.preset_passmanagers import generate_preset_pass_manager\n",
    " \n",
    "from qiskit_addon_cutting import (\n",
    "    cut_gates,\n",
    "    generate_cutting_experiments,\n",
    "    reconstruct_expectation_values,\n",
    ")\n",
    " \n",
    "from qiskit_ibm_runtime import QiskitRuntimeService, SamplerV2\n",
    "from qiskit_aer import AerSimulator\n",
    "\n",
    "from tqdm.notebook import tqdm\n",
    "\n",
    "from qiskit.quantum_info import Statevector, Operator, SparsePauliOp, state_fidelity\n",
    "from scipy.linalg import expm\n",
    "\n",
    "\n",
    "from qiskit.transpiler import PassManager\n",
    "from LogicalQ.Transpilation.UnBox import UnBoxTask\n",
    "from bqskit.passes import TreeScanningGateRemovalPass\n",
    "\n",
    "%load_ext autoreload\n",
    "%autoreload 2"
   ]
  },
  {
   "cell_type": "markdown",
   "id": "65944a49",
   "metadata": {},
   "source": [
    "## Transverse Ising Model"
   ]
  },
  {
   "cell_type": "markdown",
   "id": "c63986ae",
   "metadata": {},
   "source": [
    "https://www.science.org/doi/epdf/10.1126/science.1208001\n",
    "\n",
    "TBF later"
   ]
  },
  {
   "cell_type": "code",
   "execution_count": null,
   "id": "da1cab5b",
   "metadata": {},
   "outputs": [],
   "source": []
  },
  {
   "cell_type": "markdown",
   "id": "997520bf",
   "metadata": {},
   "source": [
    "## Asymmetric Heisingberg Model"
   ]
  },
  {
   "cell_type": "markdown",
   "id": "30512867",
   "metadata": {},
   "source": [
    "### Optimal Clifford + T approximation\n",
    "\"Optimal ancilla-free Clifford+T approximation of z-rotations\" https://arxiv.org/pdf/1403.2975\n",
    "\n",
    "This paper could be useful in the future if it were extended to x-/y-rotations as well. However, implementation and understanding it seems far more difficult. Also, we do not have the factoring oracle required."
   ]
  },
  {
   "cell_type": "markdown",
   "id": "977020c7",
   "metadata": {},
   "source": [
    "### Solovay-Kitaev Algorithm"
   ]
  },
  {
   "cell_type": "code",
   "execution_count": 3,
   "id": "3fbaebad",
   "metadata": {},
   "outputs": [],
   "source": [
    "from qiskit.transpiler.passes import SolovayKitaev\n",
    "from qiskit.synthesis import generate_basic_approximations\n",
    "from qiskit.circuit.library import RXGate, RYGate, RZGate, RXXGate, RYYGate, RZZGate"
   ]
  },
  {
   "cell_type": "code",
   "execution_count": 4,
   "id": "d5d46989",
   "metadata": {},
   "outputs": [
    {
     "data": {
      "text/html": [
       "<pre style=\"word-wrap: normal;white-space: pre;background: #fff0;line-height: 1.1;font-family: &quot;Courier New&quot;,Courier,monospace\">     ┌─────────┐\n",
       "q_0: ┤ Rx(π/4) ├\n",
       "     └─────────┘\n",
       "q_1: ───────────\n",
       "                </pre>"
      ],
      "text/plain": [
       "     ┌─────────┐\n",
       "q_0: ┤ Rx(π/4) ├\n",
       "     └─────────┘\n",
       "q_1: ───────────\n",
       "                "
      ]
     },
     "execution_count": 4,
     "metadata": {},
     "output_type": "execute_result"
    }
   ],
   "source": [
    "qc = QuantumCircuit(2)\n",
    "qc.rx(theta = np.pi/4, qubit = 0)\n",
    "qc.draw()"
   ]
  },
  {
   "cell_type": "code",
   "execution_count": 5,
   "id": "43671f93",
   "metadata": {},
   "outputs": [
    {
     "data": {
      "image/png": "[encoded data removed]",
      "text/plain": [
       "<Figure size 454.517x200.667 with 1 Axes>"
      ]
     },
     "execution_count": 5,
     "metadata": {},
     "output_type": "execute_result"
    }
   ],
   "source": [
    "def append_rot_gate(qc, axis = \"z\", theta = 0, qubit_indices = [0], label = None, return_subcircuit = False, quality = 4):\n",
    "    gates = {\"x\": (RXGate, 1), \"y\": (RYGate, 1), \"z\": (RZGate, 1), \"xx\": (RXXGate, 2), \"yy\": (RYYGate, 2), \"zz\": (RZZGate, 2)}\n",
    "    gate_base, num_target_qubits = gates[axis]\n",
    "    gate = gate_base(theta)\n",
    "    \n",
    "    sub_qc = QuantumCircuit(num_target_qubits)\n",
    " \n",
    "    def apply_Rzz(sub_qc):\n",
    "        sub_qc.cx(0, 1)\n",
    "        sub_qc.rz(theta, 1)\n",
    "        sub_qc.cx(0, 1)\n",
    " \n",
    "    match axis:\n",
    "        case \"xx\":\n",
    "            sub_qc.h([0, 1])\n",
    "            apply_Rzz(sub_qc)\n",
    "            sub_qc.h([0, 1])\n",
    "        case \"yy\":\n",
    "            sub_qc.rx(np.pi / 2, [0, 1])\n",
    "            apply_Rzz(sub_qc)\n",
    "            sub_qc.rx(-np.pi / 2, [0, 1])\n",
    "        case \"zz\":\n",
    "            apply_Rzz(sub_qc)\n",
    "        case _:        \n",
    "            sub_qc.append(gate, qargs = list(range(num_target_qubits)))\n",
    "    \n",
    "    basis = [\"s\", \"sdg\", \"t\", \"tdg\", \"h\", \"x\", \"y\", \"z\", \"cz\"]\n",
    "    approx = generate_basic_approximations(basis, depth=3)\n",
    "    skd = SolovayKitaev(recursion_degree=quality, basic_approximations=approx)\n",
    "\n",
    "    discretized_sub_qc = skd(sub_qc)\n",
    "    box_label = fr\"S-K: R$_\\text{{{axis}}}$({np.round(theta / np.pi, 2)}$\\pi$)\" if label == None else label\n",
    "    if isinstance(qc, LogicalCircuit):\n",
    "        with qc.box(label=\"logical.logicalop.R:{box_label}\"):\n",
    "            for i in range(len(sub_qc.data)):\n",
    "                circuit_instruction = discretized_sub_qc.data[i]\n",
    "                qc.append(circuit_instruction)\n",
    "    elif isinstance(qc, QuantumCircuit):\n",
    "        sub_gate = discretized_sub_qc.to_gate(label=box_label)\n",
    "        qc.append(sub_gate, qubit_indices)\n",
    "    else:\n",
    "        raise AssertionError(\"qc is not a valid QuantumCircuit or LogicalCircuit.\")\n",
    "    \n",
    "    if return_subcircuit:\n",
    "        return qc, discretized_sub_qc\n",
    "    else:\n",
    "        return qc\n",
    "\n",
    "qc = append_rot_gate(qc, \"xx\", np.pi, [0, 1])\n",
    "qc.draw(output=\"mpl\")"
   ]
  },
  {
   "cell_type": "code",
   "execution_count": 6,
   "id": "ad267e4a",
   "metadata": {},
   "outputs": [
    {
     "name": "stderr",
     "output_type": "stream",
     "text": [
      "<>:1: SyntaxWarning: invalid escape sequence '\\p'\n",
      "<>:1: SyntaxWarning: invalid escape sequence '\\p'\n",
      "C:\\Users\\nolan\\AppData\\Local\\Temp\\ipykernel_46908\\117147892.py:1: SyntaxWarning: invalid escape sequence '\\p'\n",
      "  \"\"\"\n"
     ]
    },
    {
     "data": {
      "text/plain": [
       "'\\ndef append_rot_gate(qc, axis = \"z\", theta = 0, qubit_indices = [0], label = None, return_subcircuit = False, quality = 4):\\n    gates = {\"x\": (RXGate, 1), \"y\": (RYGate, 1), \"z\": (RZGate, 1), \"xx\": (RXXGate, 2), \"yy\": (RYYGate, 2), \"zz\": (RZZGate, 2)}\\n    gate_base, num_target_qubits = gates[axis]\\n    gate = gate_base(theta)\\n\\n    sub_qc = QuantumCircuit(num_target_qubits)\\n\\n    def apply_Rzz(sub_qc):\\n        sub_qc.cx(0, 1)\\n        sub_qc = append_rot_gate(sub_qc, \"z\", theta, [1], quality=quality)\\n        #sub_qc.rz(theta, 1)\\n        sub_qc.cx(0, 1)\\n\\n    match axis:\\n        case \"xx\":\\n            sub_qc.h([0, 1])\\n            apply_Rzz(sub_qc)\\n            sub_qc.h([0, 1])\\n            discretized_sub_qc = sub_qc\\n        case \"yy\":\\n            #sub_qc.rx(np.pi / 2, [0, 1])\\n            sub_qc = append_rot_gate(sub_qc, \"x\", np.pi / 2, [0], quality=quality)\\n            sub_qc = append_rot_gate(sub_qc, \"x\", np.pi / 2, [1], quality=quality)\\n            apply_Rzz(sub_qc)\\n            #sub_qc.rx(-np.pi / 2, [0, 1])\\n            sub_qc = append_rot_gate(sub_qc, \"x\", -np.pi / 2, [0], quality=quality)\\n            sub_qc = append_rot_gate(sub_qc, \"x\", -np.pi / 2, [1], quality=quality)\\n            discretized_sub_qc = sub_qc\\n        case \"zz\":\\n            apply_Rzz(sub_qc)\\n            discretized_sub_qc = sub_qc\\n        case _:        \\n            sub_qc.append(gate, qargs = list(range(num_target_qubits)))\\n\\n            basis = [\"s\", \"sdg\", \"t\", \"tdg\", \"h\", \"x\", \"y\", \"z\", \"cz\"]\\n            approx = generate_basic_approximations(basis, depth=3)\\n            skd = SolovayKitaev(recursion_degree=quality, basic_approximations=approx)\\n\\n            discretized_sub_qc = skd(sub_qc)\\n\\n    box_label = fr\"S-K: R$_\\text{{{axis}}}$({np.round(theta / np.pi, 2)}$\\\\pi$)\" if label == None else label\\n    if isinstance(qc, LogicalCircuit):\\n        with qc.box(label=\"logical.logicalop.R:{box_label}\"):\\n            for i in range(len(sub_qc.data)):\\n                circuit_instruction = discretized_sub_qc.data[i]\\n                qc.append(circuit_instruction)\\n    elif isinstance(qc, QuantumCircuit):\\n        sub_gate = discretized_sub_qc.to_gate(label=box_label)\\n        qc.append(sub_gate, qubit_indices)\\n    else:\\n        raise AssertionError(\"qc is not a valid QuantumCircuit or LogicalCircuit.\")\\n\\n    if return_subcircuit:\\n        return qc, discretized_sub_qc\\n    else:\\n        return qc\\n\\nqc = append_rot_gate(qc, \"xx\", np.pi, [0, 1])\\nqc.draw(output=\"mpl\")\\n'"
      ]
     },
     "execution_count": 6,
     "metadata": {},
     "output_type": "execute_result"
    }
   ],
   "source": [
    "\"\"\"\n",
    "def append_rot_gate(qc, axis = \"z\", theta = 0, qubit_indices = [0], label = None, return_subcircuit = False, quality = 4):\n",
    "    gates = {\"x\": (RXGate, 1), \"y\": (RYGate, 1), \"z\": (RZGate, 1), \"xx\": (RXXGate, 2), \"yy\": (RYYGate, 2), \"zz\": (RZZGate, 2)}\n",
    "    gate_base, num_target_qubits = gates[axis]\n",
    "    gate = gate_base(theta)\n",
    "    \n",
    "    sub_qc = QuantumCircuit(num_target_qubits)\n",
    " \n",
    "    def apply_Rzz(sub_qc):\n",
    "        sub_qc.cx(0, 1)\n",
    "        sub_qc = append_rot_gate(sub_qc, \"z\", theta, [1], quality=quality)\n",
    "        #sub_qc.rz(theta, 1)\n",
    "        sub_qc.cx(0, 1)\n",
    " \n",
    "    match axis:\n",
    "        case \"xx\":\n",
    "            sub_qc.h([0, 1])\n",
    "            apply_Rzz(sub_qc)\n",
    "            sub_qc.h([0, 1])\n",
    "            discretized_sub_qc = sub_qc\n",
    "        case \"yy\":\n",
    "            #sub_qc.rx(np.pi / 2, [0, 1])\n",
    "            sub_qc = append_rot_gate(sub_qc, \"x\", np.pi / 2, [0], quality=quality)\n",
    "            sub_qc = append_rot_gate(sub_qc, \"x\", np.pi / 2, [1], quality=quality)\n",
    "            apply_Rzz(sub_qc)\n",
    "            #sub_qc.rx(-np.pi / 2, [0, 1])\n",
    "            sub_qc = append_rot_gate(sub_qc, \"x\", -np.pi / 2, [0], quality=quality)\n",
    "            sub_qc = append_rot_gate(sub_qc, \"x\", -np.pi / 2, [1], quality=quality)\n",
    "            discretized_sub_qc = sub_qc\n",
    "        case \"zz\":\n",
    "            apply_Rzz(sub_qc)\n",
    "            discretized_sub_qc = sub_qc\n",
    "        case _:        \n",
    "            sub_qc.append(gate, qargs = list(range(num_target_qubits)))\n",
    "    \n",
    "            basis = [\"s\", \"sdg\", \"t\", \"tdg\", \"h\", \"x\", \"y\", \"z\", \"cz\"]\n",
    "            approx = generate_basic_approximations(basis, depth=3)\n",
    "            skd = SolovayKitaev(recursion_degree=quality, basic_approximations=approx)\n",
    "\n",
    "            discretized_sub_qc = skd(sub_qc)\n",
    "            \n",
    "    box_label = fr\"S-K: R$_\\text{{{axis}}}$({np.round(theta / np.pi, 2)}$\\pi$)\" if label == None else label\n",
    "    if isinstance(qc, LogicalCircuit):\n",
    "        with qc.box(label=\"logical.logicalop.R:{box_label}\"):\n",
    "            for i in range(len(sub_qc.data)):\n",
    "                circuit_instruction = discretized_sub_qc.data[i]\n",
    "                qc.append(circuit_instruction)\n",
    "    elif isinstance(qc, QuantumCircuit):\n",
    "        sub_gate = discretized_sub_qc.to_gate(label=box_label)\n",
    "        qc.append(sub_gate, qubit_indices)\n",
    "    else:\n",
    "        raise AssertionError(\"qc is not a valid QuantumCircuit or LogicalCircuit.\")\n",
    "    \n",
    "    if return_subcircuit:\n",
    "        return qc, discretized_sub_qc\n",
    "    else:\n",
    "        return qc\n",
    "\n",
    "qc = append_rot_gate(qc, \"xx\", np.pi, [0, 1])\n",
    "qc.draw(output=\"mpl\")\n",
    "\"\"\""
   ]
  },
  {
   "cell_type": "code",
   "execution_count": 7,
   "id": "6bff2aa4",
   "metadata": {},
   "outputs": [],
   "source": [
    "#sub_qc.draw(output=\"mpl\")"
   ]
  },
  {
   "cell_type": "markdown",
   "id": "05dc950a",
   "metadata": {},
   "source": [
    "### Rxx, Ryy, Rzz Gate Validations"
   ]
  },
  {
   "cell_type": "code",
   "execution_count": 18,
   "id": "060b2f67",
   "metadata": {},
   "outputs": [
    {
     "data": {
      "text/latex": [
       "$$(0.9450008187 - 0.3270679633 i) |00\\rangle$$"
      ],
      "text/plain": [
       "<IPython.core.display.Latex object>"
      ]
     },
     "execution_count": 18,
     "metadata": {},
     "output_type": "execute_result"
    }
   ],
   "source": [
    "from qiskit.quantum_info import Statevector\n",
    "from qiskit.primitives import StatevectorSampler\n",
    "sampler = StatevectorSampler()\n",
    "\n",
    "ratio = 7 / 33 # picked a weird fraction of pi to make the test more robust\n",
    "\n",
    "Rzz_ref = QuantumCircuit(2)\n",
    "Rzz_ref.rzz(ratio * np.pi, 0, 1)\n",
    "\n",
    "state = Statevector.from_instruction(Rzz_ref)\n",
    "state.draw(output=\"latex\")"
   ]
  },
  {
   "cell_type": "code",
   "execution_count": 20,
   "id": "300c9052",
   "metadata": {},
   "outputs": [
    {
     "data": {
      "text/latex": [
       "$$(0.9450008187 - 0.3270679633 i) |00\\rangle$$"
      ],
      "text/plain": [
       "<IPython.core.display.Latex object>"
      ]
     },
     "execution_count": 20,
     "metadata": {},
     "output_type": "execute_result"
    }
   ],
   "source": [
    "Rzz_alg = QuantumCircuit(2)\n",
    "Rzz_alg = append_rot_gate(Rzz_alg, \"zz\", ratio * np.pi, qubit_indices=[0,1])\n",
    "\n",
    "state = Statevector.from_instruction(Rzz_ref)\n",
    "state.draw(output=\"latex\")"
   ]
  },
  {
   "cell_type": "code",
   "execution_count": 21,
   "id": "820994e7",
   "metadata": {},
   "outputs": [
    {
     "data": {
      "text/latex": [
       "$$0.7557495744 |00\\rangle- 0.6548607339 i |11\\rangle$$"
      ],
      "text/plain": [
       "<IPython.core.display.Latex object>"
      ]
     },
     "execution_count": 21,
     "metadata": {},
     "output_type": "execute_result"
    }
   ],
   "source": [
    "ratio = 15 / 33 # picked a weird fraction of pi to make the test more robust\n",
    "\n",
    "Rxx_ref = QuantumCircuit(2)\n",
    "Rxx_ref.rxx(ratio * np.pi, 0, 1)\n",
    "\n",
    "state = Statevector.from_instruction(Rxx_ref)\n",
    "state.draw(output=\"latex\")"
   ]
  },
  {
   "cell_type": "code",
   "execution_count": 22,
   "id": "011c6496",
   "metadata": {},
   "outputs": [
    {
     "data": {
      "text/latex": [
       "$$0.7557495744 |00\\rangle- 0.6548607339 i |11\\rangle$$"
      ],
      "text/plain": [
       "<IPython.core.display.Latex object>"
      ]
     },
     "execution_count": 22,
     "metadata": {},
     "output_type": "execute_result"
    }
   ],
   "source": [
    "Rxx_alg = QuantumCircuit(2)\n",
    "Rxx_alg = append_rot_gate(Rxx_alg, \"xx\", ratio * np.pi, qubit_indices=[0,1])\n",
    "\n",
    "state = Statevector.from_instruction(Rxx_ref)\n",
    "state.draw(output=\"latex\")"
   ]
  },
  {
   "cell_type": "code",
   "execution_count": 23,
   "id": "95b4cd07",
   "metadata": {},
   "outputs": [
    {
     "data": {
      "text/latex": [
       "$$0.6181589862 |00\\rangle- 0.7860530947 i |11\\rangle$$"
      ],
      "text/plain": [
       "<IPython.core.display.Latex object>"
      ]
     },
     "execution_count": 23,
     "metadata": {},
     "output_type": "execute_result"
    }
   ],
   "source": [
    "ratio = 19 / 33 # picked a weird fraction of pi to make the test more robust\n",
    "\n",
    "Ryy_ref = QuantumCircuit(2)\n",
    "Ryy_ref.rxx(ratio * np.pi, 0, 1)\n",
    "\n",
    "state = Statevector.from_instruction(Ryy_ref)\n",
    "state.draw(output=\"latex\")"
   ]
  },
  {
   "cell_type": "code",
   "execution_count": 24,
   "id": "cb3b3787",
   "metadata": {},
   "outputs": [
    {
     "data": {
      "text/latex": [
       "$$0.6181589862 |00\\rangle- 0.7860530947 i |11\\rangle$$"
      ],
      "text/plain": [
       "<IPython.core.display.Latex object>"
      ]
     },
     "execution_count": 24,
     "metadata": {},
     "output_type": "execute_result"
    }
   ],
   "source": [
    "Ryy_alg = QuantumCircuit(2)\n",
    "Ryy_alg = append_rot_gate(Ryy_alg, \"yy\", ratio * np.pi, qubit_indices=[0,1])\n",
    "\n",
    "state = Statevector.from_instruction(Ryy_ref)\n",
    "state.draw(output=\"latex\")"
   ]
  },
  {
   "cell_type": "markdown",
   "id": "c5386c3f",
   "metadata": {},
   "source": [
    "### Build AH model"
   ]
  },
  {
   "cell_type": "code",
   "execution_count": 10,
   "id": "d7f017a5",
   "metadata": {},
   "outputs": [
    {
     "data": {
      "image/png": "[encoded data removed]",
      "text/plain": [
       "<Figure size 203.683x200.667 with 1 Axes>"
      ]
     },
     "execution_count": 10,
     "metadata": {},
     "output_type": "execute_result"
    }
   ],
   "source": [
    "def Hxy(dt, J):\n",
    "    theta = dt * J\n",
    "    \n",
    "    qc = QuantumCircuit(2)\n",
    "    qc = append_rot_gate(qc, \"xx\", theta, [0, 1])\n",
    "    qc = append_rot_gate(qc, \"yy\", theta, [0, 1])\n",
    "    return qc.to_gate(label=\"$H_{xy}$\")\n",
    "\n",
    "qc_test = QuantumCircuit(2)\n",
    "qc_test.append(Hxy(1.0, np.pi), [0,1])\n",
    "qc_test.draw(output=\"mpl\")"
   ]
  },
  {
   "cell_type": "code",
   "execution_count": 11,
   "id": "ca04b4c6",
   "metadata": {},
   "outputs": [],
   "source": [
    "def get_heisenberg_model_circuit(dt, J, quality = 8):\n",
    "    qc = QuantumCircuit(2)\n",
    "    Hxy_box = Hxy(dt, J)\n",
    "    \n",
    "    theta = J * dt\n",
    "    \n",
    "    \n",
    "    append_rot_gate(qc, \"xx\", 2 * theta, [0, 1], quality=quality)\n",
    "    append_rot_gate(qc, \"yy\", 2 * theta, [0, 1], quality=quality)\n",
    "    append_rot_gate(qc, \"zz\", 2 * theta, [0, 1], quality=quality)\n",
    "    \n",
    "    \"\"\"\n",
    "    # Hxy\n",
    "    qc.append(Hxy_box, qargs = [0,1])\n",
    "    \n",
    "    # Hxz\n",
    "    qc = append_rot_gate(qc, axis=\"y\", theta=-np.pi/4, qubit_indices=[0])\n",
    "    qc = append_rot_gate(qc, axis=\"y\", theta=-np.pi/4, qubit_indices=[1])\n",
    "    qc.append(Hxy_box, qargs = [0,1])\n",
    "    qc = append_rot_gate(qc, axis=\"y\", theta=np.pi/4, qubit_indices=[0])\n",
    "    qc = append_rot_gate(qc, axis=\"y\", theta=np.pi/4, qubit_indices=[1])\n",
    "    \n",
    "    # Hyz\n",
    "    qc = append_rot_gate(qc, axis=\"x\", theta=-np.pi/4, qubit_indices=[0])\n",
    "    qc = append_rot_gate(qc, axis=\"x\", theta=-np.pi/4, qubit_indices=[1])\n",
    "    qc.append(Hxy_box, qargs = [0,1])\n",
    "    qc = append_rot_gate(qc, axis=\"x\", theta=np.pi/4, qubit_indices=[0])\n",
    "    qc = append_rot_gate(qc, axis=\"x\", theta=np.pi/4, qubit_indices=[1])\n",
    "    \"\"\"\n",
    "    \n",
    "    return qc"
   ]
  },
  {
   "cell_type": "code",
   "execution_count": 12,
   "id": "05cf1c55",
   "metadata": {},
   "outputs": [],
   "source": [
    "qc = get_heisenberg_model_circuit(0.01, 1)"
   ]
  },
  {
   "cell_type": "code",
   "execution_count": 13,
   "id": "7b25707a",
   "metadata": {},
   "outputs": [
    {
     "data": {
      "image/png": "[encoded data removed]",
      "text/plain": [
       "<Figure size 872.572x200.667 with 1 Axes>"
      ]
     },
     "execution_count": 13,
     "metadata": {},
     "output_type": "execute_result"
    }
   ],
   "source": [
    "qc.draw(output=\"mpl\")"
   ]
  },
  {
   "cell_type": "code",
   "execution_count": null,
   "id": "3fa64eea",
   "metadata": {},
   "outputs": [],
   "source": []
  },
  {
   "cell_type": "markdown",
   "id": "a8024222",
   "metadata": {},
   "source": [
    "## Matching paper results\n",
    "\n",
    "We are going to initialize our 2-qubit system in the $\\frac{1}{\\sqrt{5}}(\\ket{\\uparrow}+2\\ket{\\downarrow})\\otimes \\ket{\\downarrow}$ state, and then graph expectation values and fidelity as a function of $\\theta$."
   ]
  },
  {
   "cell_type": "markdown",
   "id": "d7f72c30",
   "metadata": {},
   "source": [
    "### Validate noiseless AH quantum circuit"
   ]
  },
  {
   "cell_type": "code",
   "execution_count": null,
   "id": "0d40b174",
   "metadata": {},
   "outputs": [
    {
     "data": {
      "application/vnd.jupyter.widget-view+json": {
       "model_id": "fa809a211b6341ddbb88d98a7b8dd3a9",
       "version_major": 2,
       "version_minor": 0
      },
      "text/plain": [
       "  0%|          | 0/12 [00:00<?, ?it/s]"
      ]
     },
     "metadata": {},
     "output_type": "display_data"
    },
    {
     "name": "stdout",
     "output_type": "stream",
     "text": [
      "Optimized simulation complete!\n",
      "Stored data for 12 time steps.\n"
     ]
    },
    {
     "data": {
      "image/png": "[encoded data removed]",
      "text/plain": [
       "<Figure size 1000x600 with 1 Axes>"
      ]
     },
     "metadata": {},
     "output_type": "display_data"
    }
   ],
   "source": [
    "# --- 1. Simulation Parameters ---\n",
    "J_coupling = 2 * np.pi * 6E6\n",
    "theta_final = np.pi / 4\n",
    "num_steps = 12\n",
    "thetas = np.linspace(0, theta_final, num_steps)\n",
    "dt = (theta_final / J_coupling) / num_steps\n",
    "\n",
    "# --- 2. Define Initial State and Operators ---\n",
    "# Initial state: 1/sqrt(5) * (|0> + 2|1>) @ |1>  = 1/sqrt(5) * (|01> + 2|11>)\n",
    "initial_state_vector = np.array([1, 0, 2, 0]) / np.sqrt(5)\n",
    "initial_sv = Statevector(initial_state_vector)\n",
    "\n",
    "# Define observables for expectation values\n",
    "X1 = SparsePauliOp(\"XI\") # Corrected: X on qubit 0, I on qubit 1\n",
    "X2 = SparsePauliOp(\"IX\") # Corrected: I on qubit 0, X on qubit 1\n",
    "\n",
    "# --- 3. Set up Ideal (Exact) Evolution for Fidelity Calculation ---\n",
    "# H = J * (XX + YY + ZZ)\n",
    "heisenberg_hamiltonian = J_coupling * (\n",
    "    SparsePauliOp(\"XX\") + SparsePauliOp(\"YY\") + SparsePauliOp(\"ZZ\")\n",
    ")\n",
    "H_matrix = heisenberg_hamiltonian.to_matrix()\n",
    "\n",
    "\n",
    "results = {\n",
    "    \"statevectors\": [],\n",
    "    \"exp_x1\": [],\n",
    "    \"exp_x2\": [],\n",
    "    \"fidelities\": []\n",
    "}\n",
    "\n",
    "trotter_step_circuit = get_heisenberg_model_circuit(dt, J_coupling, quality = 4)\n",
    "\n",
    "# Start with a copy of the initial statevector\n",
    "current_sv = initial_sv.copy()\n",
    "\n",
    "for step in tqdm(range(num_steps)):\n",
    "    # Evolve current statevector by 1 iter.\n",
    "    current_sv = current_sv.evolve(trotter_step_circuit)\n",
    "    results[\"statevectors\"].append(current_sv.copy())\n",
    "    \n",
    "    # Calculate exp. values\n",
    "    exp_x1 = current_sv.expectation_value(X1).real\n",
    "    exp_x2 = current_sv.expectation_value(X2).real\n",
    "    results[\"exp_x1\"].append(exp_x1)\n",
    "    results[\"exp_x2\"].append(exp_x2)\n",
    "    \n",
    "    # Calculate fidelity\n",
    "    current_time = (step + 1) * dt\n",
    "    U_ideal = expm(-1j * H_matrix * current_time)\n",
    "    ideal_sv = Statevector(np.dot(U_ideal, initial_state_vector))\n",
    "    fidelity = state_fidelity(current_sv, ideal_sv)\n",
    "    results[\"fidelities\"].append(fidelity)\n",
    "\n",
    "print(\"Optimized simulation complete!\")\n",
    "print(f\"Stored data for {len(results['statevectors'])} time steps.\")\n",
    "\n",
    "plt.style.use('seaborn-v0_8-darkgrid')\n",
    "fig, ax = plt.subplots(figsize=(10, 6))\n",
    "\n",
    "ax.plot(thetas, results[\"exp_x1\"], 'o-', label=r'$\\langle\\sigma_1^x\\rangle$')\n",
    "ax.plot(thetas, results[\"exp_x2\"], 's-', label=r'$\\langle\\sigma_2^x\\rangle$')\n",
    "ax.plot(thetas, results[\"fidelities\"], '^-', label='Fidelity', color='green')\n",
    "\n",
    "ax.set_xlabel(r'$\\theta = Jt$', fontsize=14)\n",
    "ax.set_ylabel('Expectation Value / Fidelity', fontsize=14)\n",
    "ax.set_title('Heisenberg Model Time Evolution', fontsize=16)\n",
    "ax.legend(fontsize=12)\n",
    "plt.show()"
   ]
  },
  {
   "cell_type": "code",
   "execution_count": null,
   "id": "bf6fe5ae",
   "metadata": {},
   "outputs": [
    {
     "name": "stdout",
     "output_type": "stream",
     "text": [
      "\n",
      "Detailed operation counts: OrderedDict({'h': 578, 't': 315, 'tdg': 315, 'cx': 6, 'sdg': 4, 's': 4})\n",
      "Number of measurements: 0\n",
      "Total number of operations: 1222\n"
     ]
    }
   ],
   "source": [
    "qc = trotter_step_circuit.decompose()\n",
    "\n",
    "def get_op_count(qc):\n",
    "\n",
    "    op_counts = qc.count_ops()\n",
    "    print(f\"\\nDetailed operation counts: {op_counts}\")\n",
    "\n",
    "    num_measurements = op_counts.get('measure', 0)\n",
    "    print(f\"Number of measurements: {num_measurements}\")\n",
    "\n",
    "    total_ops =qc.size()\n",
    "    print(f\"Total number of operations: {total_ops}\")\n",
    "    \n",
    "get_op_count(qc)"
   ]
  },
  {
   "cell_type": "code",
   "execution_count": null,
   "id": "618c18be",
   "metadata": {},
   "outputs": [
    {
     "data": {
      "image/png": "[encoded data removed]",
      "text/plain": [
       "<Figure size 872.572x200.667 with 1 Axes>"
      ]
     },
     "execution_count": 14,
     "metadata": {},
     "output_type": "execute_result"
    }
   ],
   "source": [
    "pm = PassManager([UnBoxTask()])\n",
    "unboxed_circuit = pm.run(trotter_step_circuit)\n",
    "#decomposed_circuit = trotter_step_circuit.decompose()\n",
    "unboxed_circuit.draw(output=\"mpl\")"
   ]
  },
  {
   "cell_type": "code",
   "execution_count": 15,
   "id": "6f613080",
   "metadata": {},
   "outputs": [],
   "source": [
    "decomposed_circuit = unboxed_circuit.decompose()\n"
   ]
  },
  {
   "cell_type": "code",
   "execution_count": null,
   "id": "9cea6202",
   "metadata": {},
   "outputs": [],
   "source": [
    "decomposed_circuit.draw(output=\"mpl\")"
   ]
  },
  {
   "cell_type": "markdown",
   "id": "1cce074f",
   "metadata": {},
   "source": [
    "Check op count of physical circuit\n",
    "\n",
    "Recorded data:\n",
    "\n",
    "quality = 4  ->  number of ops = \n",
    "\n",
    "quality = 7  ->  number of ops = "
   ]
  },
  {
   "cell_type": "code",
   "execution_count": null,
   "id": "4ae14b6e",
   "metadata": {},
   "outputs": [],
   "source": []
  },
  {
   "cell_type": "markdown",
   "id": "16223456",
   "metadata": {},
   "source": [
    "### Optimize circuit depth\n",
    "\n",
    "Attempt 1: Using qiskit transpilation"
   ]
  },
  {
   "cell_type": "code",
   "execution_count": null,
   "id": "f2f43447",
   "metadata": {},
   "outputs": [],
   "source": [
    "#trotter_step_circuit.draw(output=\"mpl\")\n",
    "trotter_decomp = trotter_step_circuit.decompose()\n",
    "trotter_decomp.draw(output=\"mpl\")"
   ]
  },
  {
   "cell_type": "code",
   "execution_count": null,
   "id": "dc52ee59",
   "metadata": {},
   "outputs": [],
   "source": [
    "circuit = trotter_step_circuit\n",
    " \n",
    "\n",
    "simulator = AerSimulator()\n",
    "\n",
    "#pm = generate_preset_pass_manager(\n",
    "#    optimization_level=3, initial_layout=[0, 1], basis_gates=[\"s\", \"sdg\", \"t\", \"tdg\", \"h\", \"x\", \"y\", \"z\", \"cz\"]\n",
    "#)\n",
    "#transpiled_qc = pm.run(circuit)\n",
    "\n",
    "transpiled_qc = transpile(trotter_decomp, basis_gates=[\"s\", \"sdg\", \"t\", \"tdg\", \"h\", \"x\", \"y\", \"z\", \"cz\"], optimization_level=3, seed_transpiler=42)"
   ]
  },
  {
   "cell_type": "code",
   "execution_count": null,
   "id": "ad5e9ff6",
   "metadata": {},
   "outputs": [],
   "source": [
    "transpiled_qc.draw(output=\"mpl\")"
   ]
  },
  {
   "cell_type": "code",
   "execution_count": 35,
   "id": "114dc623",
   "metadata": {},
   "outputs": [
    {
     "name": "stdout",
     "output_type": "stream",
     "text": [
      "\n",
      "Detailed operation counts: OrderedDict({'h': 29891, 'tdg': 13182, 't': 13176, 's': 2569, 'sdg': 2563, 'cz': 6, 'z': 2})\n",
      "Number of measurements: 0\n",
      "Total number of operations: 61389\n"
     ]
    }
   ],
   "source": [
    "get_op_count(transpiled_qc)"
   ]
  },
  {
   "cell_type": "markdown",
   "id": "0acef077",
   "metadata": {},
   "source": [
    "Attempt 2: Using BQSKit processing passes to remove gates"
   ]
  },
  {
   "cell_type": "code",
   "execution_count": null,
   "id": "52872e39",
   "metadata": {},
   "outputs": [
    {
     "name": "stderr",
     "output_type": "stream",
     "text": [
      "The standard workflow with BQSKit may have trouble targeting gate sets containing no parameterized single-qudit gates. [wid=3]\n"
     ]
    }
   ],
   "source": [
    "from bqskit.compiler import Workflow\n",
    "from bqskit.ext import qiskit_to_bqskit\n",
    "\n",
    "qc = trotter_decomp\n",
    "\n",
    "circuit = qiskit_to_bqskit(qc)\n",
    "from bqskit import compile\n",
    "out_circuit = compile(circuit)\n",
    "\n",
    "#workflow = Workflow([TreeScanningGateRemovalPass(tree_depth=3)])\n",
    "#compiled_circuit = compile(circuit)\n",
    "#pm = PassManager()\n",
    "#pruned_circuit = pm.run(trotter_step_circuit)\n",
    "\n",
    "#print(\"Compiled Circuit Statistics\")\n",
    "#print(\"Gate Counts:\", out_circuit.gate_counts)\n",
    "#print(\"Connectivity:\", out_circuit.coupling_graph)\n",
    "\n",
    "from bqskit.ir.gates import CZGate, RZGate, SXGate\n",
    "gate_set = {CZGate(), RZGate(), SXGate()} \n",
    "\n",
    "# Build a MachineModel with this gate set\n",
    "# and the same number of qubits as the circuit\n",
    "from bqskit import MachineModel\n",
    "model = MachineModel(out_circuit.num_qudits, gate_set=gate_set)\n",
    "\n",
    "def compile_to_gateset(circuit, gate_set):\n",
    "    model = MachineModel(circuit.num_qudits, gate_set=gate_set)\n",
    "    return compile(circuit, model=model)\n",
    "\n",
    "# BGate CCXGate ToffoliGate CHGate ClockGate CPIGate CSGate CSUMGate CTGate CNOTGate CXGate CYGate CZGate ECRGate HGate IdentityGate ISwapGate IToffoliGate PDGate PermutationGate MargolusGate RC3XGate RCCXGate SGate SdgGate ShiftGate SqrtCNOTGate SqrtISwapGate SqrtTGate SubSwapGate SwapGate SqrtXGate SXGate SycamoreGate TGate TdgGate ConstantUnitaryGate XGate XXGate YGate YYGate ZGate ZZGate\n",
    "# [\"s\", \"sdg\", \"t\", \"tdg\", \"h\", \"x\", \"y\", \"z\", \"cz\"]\n",
    "from bqskit.ir.gates import ZZGate, SGate, SdgGate, TGate, TdgGate, HGate, XGate, YGate, ZGate, CZGate, CXGate\n",
    "quantinuum_like_gate_set = {ZZGate(), RZGate(), SXGate()}\n",
    "CliffordT_gate_set = {SGate(), SdgGate(), TGate(), TdgGate(), HGate(), XGate(), YGate(), ZGate(), CZGate(), CXGate()}\n",
    "\n",
    "out_circuit = compile_to_gateset(circuit, CliffordT_gate_set)"
   ]
  },
  {
   "cell_type": "code",
   "execution_count": 30,
   "id": "d7f1953b",
   "metadata": {},
   "outputs": [
    {
     "name": "stdout",
     "output_type": "stream",
     "text": [
      "Compiled Circuit Statistics\n",
      "Gate Counts: {ZZGate: 3, RZGate: 24, SqrtXGate: 16}\n",
      "Connectivity: CouplingGraph({(0, 1)})\n"
     ]
    }
   ],
   "source": [
    "print(\"Compiled Circuit Statistics\")\n",
    "print(\"Gate Counts:\", out_circuit.gate_counts)\n",
    "print(\"Connectivity:\", out_circuit.coupling_graph)"
   ]
  },
  {
   "cell_type": "markdown",
   "id": "e854285a",
   "metadata": {},
   "source": [
    "quantinuum like\n",
    "Compiled Circuit Statistics\n",
    "Gate Counts: {ZZGate: 3, RZGate: 24, SqrtXGate: 16}\n",
    "Connectivity: CouplingGraph({(0, 1)})"
   ]
  },
  {
   "cell_type": "markdown",
   "id": "e80303fc",
   "metadata": {},
   "source": [
    "### Validate LogicalCircuit transpilation"
   ]
  },
  {
   "cell_type": "code",
   "execution_count": null,
   "id": "60ac4033",
   "metadata": {},
   "outputs": [],
   "source": []
  },
  {
   "cell_type": "markdown",
   "id": "6f41a7f2",
   "metadata": {},
   "source": [
    "### Benchmark QEC"
   ]
  }
 ],
 "metadata": {
  "kernelspec": {
   "display_name": "venv (3.12.6)",
   "language": "python",
   "name": "python3"
  },
  "language_info": {
   "codemirror_mode": {
    "name": "ipython",
    "version": 3
   },
   "file_extension": ".py",
   "mimetype": "text/x-python",
   "name": "python",
   "nbconvert_exporter": "python",
   "pygments_lexer": "ipython3",
   "version": "3.12.6"
  }
 },
 "nbformat": 4,
 "nbformat_minor": 5
}

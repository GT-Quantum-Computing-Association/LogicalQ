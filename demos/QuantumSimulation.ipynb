{
 "cells": [
  {
   "cell_type": "markdown",
   "id": "025aed3b",
   "metadata": {},
   "source": [
    "## Imports"
   ]
  },
  {
   "cell_type": "code",
   "execution_count": 2,
   "id": "9d246afb",
   "metadata": {},
   "outputs": [],
   "source": [
    "import numpy as np\n",
    "import matplotlib.pyplot as plt\n",
    "\n",
    "from qiskit import ClassicalRegister, QuantumRegister, QuantumCircuit, transpile\n",
    "from qiskit_aer import AerSimulator\n",
    "\n",
    "from LogicalQ.Logical import LogicalCircuit\n",
    "from LogicalQ.Library.QECCs import steane_code\n",
    "from LogicalQ.Library.HardwareModels import hardware_models_Quantinuum\n",
    "from LogicalQ.Experiments import execute_circuits\n",
    "\n",
    "%load_ext autoreload\n",
    "%autoreload 2"
   ]
  },
  {
   "cell_type": "markdown",
   "id": "65944a49",
   "metadata": {},
   "source": [
    "## Transverse Ising Model"
   ]
  },
  {
   "cell_type": "markdown",
   "id": "c63986ae",
   "metadata": {},
   "source": [
    "https://www.science.org/doi/epdf/10.1126/science.1208001\n",
    "\n",
    "TBF later"
   ]
  },
  {
   "cell_type": "code",
   "execution_count": null,
   "id": "da1cab5b",
   "metadata": {},
   "outputs": [],
   "source": []
  },
  {
   "cell_type": "markdown",
   "id": "997520bf",
   "metadata": {},
   "source": [
    "## Asymmetric Heisingberg Model"
   ]
  },
  {
   "cell_type": "markdown",
   "id": "30512867",
   "metadata": {},
   "source": [
    "### Optimal Clifford + T approximation\n",
    "\"Optimal ancilla-free Clifford+T approximation of z-rotations\" https://arxiv.org/pdf/1403.2975\n",
    "\n",
    "This paper could be useful in the future if it were extended to x-/y-rotations as well. However, implementation and understanding it seems far more difficult. Also, we do not have the factoring oracle required."
   ]
  },
  {
   "cell_type": "markdown",
   "id": "977020c7",
   "metadata": {},
   "source": [
    "### Solovay-Kitaev Algorithm"
   ]
  },
  {
   "cell_type": "code",
   "execution_count": 70,
   "id": "3fbaebad",
   "metadata": {},
   "outputs": [],
   "source": [
    "from qiskit.transpiler.passes import SolovayKitaev\n",
    "from qiskit.synthesis import generate_basic_approximations\n",
    "from qiskit.circuit.library import RXGate, RYGate, RZGate, RXXGate, RYYGate, RZZGate"
   ]
  },
  {
   "cell_type": "code",
   "execution_count": 83,
   "id": "d5d46989",
   "metadata": {},
   "outputs": [
    {
     "data": {
      "text/html": [
       "<pre style=\"word-wrap: normal;white-space: pre;background: #fff0;line-height: 1.1;font-family: &quot;Courier New&quot;,Courier,monospace\">     ┌─────────┐\n",
       "q_0: ┤ Rx(π/4) ├\n",
       "     └─────────┘\n",
       "q_1: ───────────\n",
       "                </pre>"
      ],
      "text/plain": [
       "     ┌─────────┐\n",
       "q_0: ┤ Rx(π/4) ├\n",
       "     └─────────┘\n",
       "q_1: ───────────\n",
       "                "
      ]
     },
     "execution_count": 83,
     "metadata": {},
     "output_type": "execute_result"
    }
   ],
   "source": [
    "qc = QuantumCircuit(2)\n",
    "qc.rx(theta = np.pi/4, qubit = 0)\n",
    "qc.draw()"
   ]
  },
  {
   "cell_type": "code",
   "execution_count": 84,
   "id": "43671f93",
   "metadata": {},
   "outputs": [
    {
     "data": {
      "image/png": "[encoded data removed]",
      "text/plain": [
       "<Figure size 454.517x200.667 with 1 Axes>"
      ]
     },
     "execution_count": 84,
     "metadata": {},
     "output_type": "execute_result"
    }
   ],
   "source": [
    "def append_rot_gate(qc, axis = \"z\", theta = 0, qubit_indices = [0], label = None):\n",
    "    gates = {\"z\": (RZGate, 1), \"y\": (RYGate, 1), \"z\": (RXGate, 1), \"xx\": (RXXGate, 2), \"yy\": (RYYGate, 2), \"zz\": (RZZGate, 2)}\n",
    "    gate_base, num_target_qubits = gates[axis]\n",
    "    gate = gate_base(theta)\n",
    "    \n",
    "    sub_qc = QuantumCircuit(num_target_qubits)\n",
    " \n",
    "    def apply_Rzz(sub_qc):\n",
    "        sub_qc.cx(0, 1)\n",
    "        sub_qc.rz(theta, 1)\n",
    "        sub_qc.cz(0, 1)\n",
    " \n",
    "    match axis:\n",
    "        case \"xx\":\n",
    "            sub_qc.h([0, 1])\n",
    "            apply_Rzz(sub_qc)\n",
    "            sub_qc.h([0, 1])\n",
    "        case \"yy\":\n",
    "            sub_qc.rx(np.pi / 2, [0, 1])\n",
    "            apply_Rzz(sub_qc)\n",
    "            sub_qc.rx(-np.pi / 2, [0, 1])\n",
    "        case \"zz\":\n",
    "            apply_Rzz(sub_qc)\n",
    "        case _:        \n",
    "            sub_qc.append(gate, qargs = list(range(num_target_qubits)))\n",
    "    \n",
    "    basis = [\"s\", \"sdg\", \"t\", \"tdg\", \"h\", \"z\"] #\"x\", \"y\", \"z\", \"cx\", \"cy\", \"cz\"]\n",
    "    approx = generate_basic_approximations(basis, depth=3)\n",
    "    skd = SolovayKitaev(recursion_degree=2, basic_approximations=approx)\n",
    "\n",
    "    discretized_sub_qc = skd(sub_qc)\n",
    "    box_label = fr\"S-K: R$_\\text{{{axis}}}$({np.round(theta / np.pi, 2)}$\\pi$)\" if label == None else label\n",
    "    if isinstance(qc, LogicalCircuit):\n",
    "        with qc.box(label=\"logical.logicalop.R:{box_label}\"):\n",
    "            for i in range(len(sub_qc.data)):\n",
    "                circuit_instruction = discretized_sub_qc.data[i]\n",
    "                qc.append(circuit_instruction)\n",
    "    elif isinstance(qc, QuantumCircuit):\n",
    "        sub_gate = discretized_sub_qc.to_gate(label=box_label)\n",
    "        qc.append(sub_gate, qubit_indices)\n",
    "    else:\n",
    "        raise AssertionError(\"qc is not a valid QuantumCircuit or LogicalCircuit.\")\n",
    "    return qc, discretized_sub_qc\n",
    "\n",
    "qc, sub_qc = append_rot_gate(qc, \"xx\", np.pi, [0, 1])\n",
    "qc.draw(output=\"mpl\")"
   ]
  },
  {
   "cell_type": "code",
   "execution_count": 85,
   "id": "6bff2aa4",
   "metadata": {},
   "outputs": [
    {
     "data": {
      "image/png": "[encoded data removed]",
      "text/plain": [
       "<Figure size 538.128x200.667 with 1 Axes>"
      ]
     },
     "execution_count": 85,
     "metadata": {},
     "output_type": "execute_result"
    }
   ],
   "source": [
    "sub_qc.draw(output=\"mpl\")"
   ]
  },
  {
   "cell_type": "markdown",
   "id": "05dc950a",
   "metadata": {},
   "source": [
    "### Rxx, Ryy, Rzz Gate Validations"
   ]
  },
  {
   "cell_type": "code",
   "execution_count": 107,
   "id": "060b2f67",
   "metadata": {},
   "outputs": [
    {
     "data": {
      "text/latex": [
       "$$(0.9450008187 - 0.3270679633 i) |00\\rangle$$"
      ],
      "text/plain": [
       "<IPython.core.display.Latex object>"
      ]
     },
     "execution_count": 107,
     "metadata": {},
     "output_type": "execute_result"
    }
   ],
   "source": [
    "from qiskit.quantum_info import Statevector\n",
    "from qiskit.primitives import StatevectorSampler\n",
    "sampler = StatevectorSampler()\n",
    "\n",
    "ratio = 7 / 33 # picked a weird fraction of pi to make the test more robust\n",
    "\n",
    "Rzz_ref = QuantumCircuit(2)\n",
    "Rzz_ref.rzz(ratio * np.pi, 0, 1)\n",
    "\n",
    "state = Statevector.from_instruction(Rzz_ref)\n",
    "state.draw(output=\"latex\")"
   ]
  },
  {
   "cell_type": "code",
   "execution_count": null,
   "id": "300c9052",
   "metadata": {},
   "outputs": [
    {
     "data": {
      "text/latex": [
       "$$(0.9450008187 - 0.3270679633 i) |00\\rangle$$"
      ],
      "text/plain": [
       "<IPython.core.display.Latex object>"
      ]
     },
     "execution_count": 108,
     "metadata": {},
     "output_type": "execute_result"
    }
   ],
   "source": [
    "Rzz_alg = QuantumCircuit(2)\n",
    "Rzz_alg, _ = append_rot_gate(Rzz_alg, \"zz\", ratio * np.pi, qubit_indices=[0,1])\n",
    "\n",
    "state = Statevector.from_instruction(Rzz_ref)\n",
    "state.draw(output=\"latex\")"
   ]
  },
  {
   "cell_type": "code",
   "execution_count": 112,
   "id": "820994e7",
   "metadata": {},
   "outputs": [
    {
     "data": {
      "text/latex": [
       "$$0.7557495744 |00\\rangle- 0.6548607339 i |11\\rangle$$"
      ],
      "text/plain": [
       "<IPython.core.display.Latex object>"
      ]
     },
     "execution_count": 112,
     "metadata": {},
     "output_type": "execute_result"
    }
   ],
   "source": [
    "ratio = 15 / 33 # picked a weird fraction of pi to make the test more robust\n",
    "\n",
    "Rxx_ref = QuantumCircuit(2)\n",
    "Rxx_ref.rxx(ratio * np.pi, 0, 1)\n",
    "\n",
    "state = Statevector.from_instruction(Rxx_ref)\n",
    "state.draw(output=\"latex\")"
   ]
  },
  {
   "cell_type": "code",
   "execution_count": 113,
   "id": "011c6496",
   "metadata": {},
   "outputs": [
    {
     "data": {
      "text/latex": [
       "$$0.7557495744 |00\\rangle- 0.6548607339 i |11\\rangle$$"
      ],
      "text/plain": [
       "<IPython.core.display.Latex object>"
      ]
     },
     "execution_count": 113,
     "metadata": {},
     "output_type": "execute_result"
    }
   ],
   "source": [
    "Rxx_alg = QuantumCircuit(2)\n",
    "Rxx_alg, _ = append_rot_gate(Rxx_alg, \"xx\", ratio * np.pi, qubit_indices=[0,1])\n",
    "\n",
    "state = Statevector.from_instruction(Rxx_ref)\n",
    "state.draw(output=\"latex\")"
   ]
  },
  {
   "cell_type": "code",
   "execution_count": 114,
   "id": "95b4cd07",
   "metadata": {},
   "outputs": [
    {
     "data": {
      "text/latex": [
       "$$0.6181589862 |00\\rangle- 0.7860530947 i |11\\rangle$$"
      ],
      "text/plain": [
       "<IPython.core.display.Latex object>"
      ]
     },
     "execution_count": 114,
     "metadata": {},
     "output_type": "execute_result"
    }
   ],
   "source": [
    "ratio = 19 / 33 # picked a weird fraction of pi to make the test more robust\n",
    "\n",
    "Ryy_ref = QuantumCircuit(2)\n",
    "Ryy_ref.rxx(ratio * np.pi, 0, 1)\n",
    "\n",
    "state = Statevector.from_instruction(Ryy_ref)\n",
    "state.draw(output=\"latex\")"
   ]
  },
  {
   "cell_type": "code",
   "execution_count": 115,
   "id": "cb3b3787",
   "metadata": {},
   "outputs": [
    {
     "data": {
      "text/latex": [
       "$$0.6181589862 |00\\rangle- 0.7860530947 i |11\\rangle$$"
      ],
      "text/plain": [
       "<IPython.core.display.Latex object>"
      ]
     },
     "execution_count": 115,
     "metadata": {},
     "output_type": "execute_result"
    }
   ],
   "source": [
    "Ryy_alg = QuantumCircuit(2)\n",
    "Ryy_alg, _ = append_rot_gate(Ryy_alg, \"yy\", ratio * np.pi, qubit_indices=[0,1])\n",
    "\n",
    "state = Statevector.from_instruction(Ryy_ref)\n",
    "state.draw(output=\"latex\")"
   ]
  },
  {
   "cell_type": "markdown",
   "id": "a8024222",
   "metadata": {},
   "source": [
    "### Matching paper results\n",
    "\n",
    "We are going to initialize our 2-qubit system in the $\\frac{1}{\\sqrt{5}}(\\ket{\\uparrow}+2\\ket{\\downarrow})\\otimes \\ket{\\downarrow}$ state, and then graph expectation values and fidelity as a function of $\\theta$."
   ]
  },
  {
   "cell_type": "code",
   "execution_count": null,
   "id": "862949ab",
   "metadata": {},
   "outputs": [],
   "source": [
    "def Hxy(dt, J):\n",
    "    theta = dt * J\n",
    "    \n",
    "    qc = QuantumCircuit(2)\n",
    "    qc = append_rot_gate(qc, \"xx\", theta, [0, 1])\n",
    "    qc = append_rot_gate(qc, \"yy\", theta, [0, 1])\n",
    "    return qc.to_gate(label=\"$H_{xy}$\")\n",
    "\n",
    "qc_test = QuantumCircuit(2)\n",
    "qc_test.append(Hxy(1.0, np.pi), [0,1])\n",
    "qc_test.draw(output=\"mpl\")"
   ]
  },
  {
   "cell_type": "code",
   "execution_count": null,
   "id": "1e46aa50",
   "metadata": {},
   "outputs": [],
   "source": [
    "def get_heisenberg_model_circuit(dt, J):\n",
    "    qc = QuantumCircuit(2)\n",
    "    Hxy_box = Hxy(dt, J)\n",
    "    qc = 0\n",
    "    pass"
   ]
  }
 ],
 "metadata": {
  "kernelspec": {
   "display_name": "venv (3.12.6)",
   "language": "python",
   "name": "python3"
  },
  "language_info": {
   "codemirror_mode": {
    "name": "ipython",
    "version": 3
   },
   "file_extension": ".py",
   "mimetype": "text/x-python",
   "name": "python",
   "nbconvert_exporter": "python",
   "pygments_lexer": "ipython3",
   "version": "3.12.6"
  }
 },
 "nbformat": 4,
 "nbformat_minor": 5
}

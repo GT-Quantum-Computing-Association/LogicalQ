{
 "cells": [
  {
   "cell_type": "markdown",
   "id": "025aed3b",
   "metadata": {},
   "source": [
    "## Imports"
   ]
  },
  {
   "cell_type": "code",
   "execution_count": 1,
   "id": "9d246afb",
   "metadata": {},
   "outputs": [],
   "source": [
    "import numpy as np\n",
    "import matplotlib.pyplot as plt\n",
    "\n",
    "from qiskit import ClassicalRegister, QuantumRegister, QuantumCircuit, transpile\n",
    "from qiskit_aer import AerSimulator\n",
    "\n",
    "from LogicalQ.Logical import LogicalCircuit\n",
    "from LogicalQ.Library.QECCs import steane_code\n",
    "from LogicalQ.Library.HardwareModels import hardware_models_Quantinuum\n",
    "from LogicalQ.Experiments import execute_circuits\n",
    "\n",
    "import numpy as np\n",
    " \n",
    "from qiskit.circuit.library import EfficientSU2\n",
    "from qiskit.quantum_info import PauliList, Statevector, SparsePauliOp\n",
    "from qiskit.transpiler.preset_passmanagers import generate_preset_pass_manager\n",
    " \n",
    "from qiskit_addon_cutting import (\n",
    "    cut_gates,\n",
    "    generate_cutting_experiments,\n",
    "    reconstruct_expectation_values,\n",
    ")\n",
    " \n",
    "from qiskit_ibm_runtime import QiskitRuntimeService, SamplerV2\n",
    "from qiskit_aer import AerSimulator\n",
    "\n",
    "from tqdm.notebook import tqdm\n",
    "\n",
    "from qiskit.quantum_info import Statevector, Operator, SparsePauliOp, state_fidelity\n",
    "from scipy.linalg import expm\n",
    "\n",
    "\n",
    "from qiskit.transpiler import PassManager\n",
    "from LogicalQ.Transpilation.UnBox import UnBoxTask\n",
    "from bqskit.passes import TreeScanningGateRemovalPass\n",
    "\n",
    "from bqskit import MachineModel, Circuit\n",
    "from bqskit.compiler import Workflow\n",
    "from bqskit.ext import qiskit_to_bqskit\n",
    "from bqskit.passes import LEAPSynthesisPass\n",
    "from bqskit.ir.gates import (\n",
    "    SGate, SdgGate, TGate, TdgGate, HGate,\n",
    "    XGate, YGate, ZGate, CZGate, CXGate\n",
    ")\n",
    "from qiskit import QuantumCircuit # For creating a placeholder circuit\n",
    "\n",
    "%load_ext autoreload\n",
    "%autoreload 2"
   ]
  },
  {
   "cell_type": "markdown",
   "id": "65944a49",
   "metadata": {},
   "source": [
    "## Transverse Ising Model"
   ]
  },
  {
   "cell_type": "markdown",
   "id": "c63986ae",
   "metadata": {},
   "source": [
    "https://www.science.org/doi/epdf/10.1126/science.1208001\n",
    "\n",
    "TBF later"
   ]
  },
  {
   "cell_type": "code",
   "execution_count": null,
   "id": "da1cab5b",
   "metadata": {},
   "outputs": [],
   "source": []
  },
  {
   "cell_type": "markdown",
   "id": "997520bf",
   "metadata": {},
   "source": [
    "## Asymmetric Heisingberg Model"
   ]
  },
  {
   "cell_type": "markdown",
   "id": "30512867",
   "metadata": {},
   "source": [
    "### Optimal Clifford + T approximation\n",
    "\"Optimal ancilla-free Clifford+T approximation of z-rotations\" https://arxiv.org/pdf/1403.2975\n",
    "\n",
    "This paper could be useful in the future if it were extended to x-/y-rotations as well. However, implementation and understanding it seems far more difficult. Also, we do not have the factoring oracle required."
   ]
  },
  {
   "cell_type": "markdown",
   "id": "977020c7",
   "metadata": {},
   "source": [
    "### Solovay-Kitaev Algorithm"
   ]
  },
  {
   "cell_type": "code",
   "execution_count": 2,
   "id": "3fbaebad",
   "metadata": {},
   "outputs": [],
   "source": [
    "from qiskit.transpiler.passes import SolovayKitaev\n",
    "from qiskit.synthesis import generate_basic_approximations\n",
    "from qiskit.circuit.library import RXGate, RYGate, RZGate, RXXGate, RYYGate, RZZGate"
   ]
  },
  {
   "cell_type": "code",
   "execution_count": 3,
   "id": "d5d46989",
   "metadata": {},
   "outputs": [
    {
     "data": {
      "text/html": [
       "<pre style=\"word-wrap: normal;white-space: pre;background: #fff0;line-height: 1.1;font-family: &quot;Courier New&quot;,Courier,monospace\">     ┌─────────┐\n",
       "q_0: ┤ Rx(π/4) ├\n",
       "     └─────────┘\n",
       "q_1: ───────────\n",
       "                </pre>"
      ],
      "text/plain": [
       "     ┌─────────┐\n",
       "q_0: ┤ Rx(π/4) ├\n",
       "     └─────────┘\n",
       "q_1: ───────────\n",
       "                "
      ]
     },
     "execution_count": 3,
     "metadata": {},
     "output_type": "execute_result"
    }
   ],
   "source": [
    "qc = QuantumCircuit(2)\n",
    "qc.rx(theta = np.pi/4, qubit = 0)\n",
    "qc.draw()"
   ]
  },
  {
   "cell_type": "code",
   "execution_count": 4,
   "id": "43671f93",
   "metadata": {},
   "outputs": [
    {
     "data": {
      "image/png": "[encoded data removed]",
      "text/plain": [
       "<Figure size 621.739x200.667 with 1 Axes>"
      ]
     },
     "execution_count": 4,
     "metadata": {},
     "output_type": "execute_result"
    }
   ],
   "source": [
    "def append_rot_gate(qc, axis = \"z\", theta = 0, qubit_indices = [0], label = None, return_subcircuit = False, depth = 10, recursion_degree = 1, box=True):\n",
    "    gates = {\"x\": (RXGate, 1), \"y\": (RYGate, 1), \"z\": (RZGate, 1), \"xx\": (RXXGate, 2), \"yy\": (RYYGate, 2), \"zz\": (RZZGate, 2)}\n",
    "    gate_base, num_target_qubits = gates[axis]\n",
    "    gate = gate_base(theta)\n",
    "    \n",
    "    sub_qc = QuantumCircuit(num_target_qubits)\n",
    " \n",
    "    def apply_Rzz(sub_qc):\n",
    "        sub_qc.cx(0, 1)\n",
    "        sub_qc.rz(theta, 1)\n",
    "        sub_qc.cx(0, 1)\n",
    " \n",
    "    match axis:\n",
    "        case \"xx\":\n",
    "            sub_qc.h([0, 1])\n",
    "            apply_Rzz(sub_qc)\n",
    "            sub_qc.h([0, 1])\n",
    "        case \"yy\":\n",
    "            sub_qc.rx(np.pi / 2, [0, 1])\n",
    "            apply_Rzz(sub_qc)\n",
    "            sub_qc.rx(-np.pi / 2, [0, 1])\n",
    "        case \"zz\":\n",
    "            apply_Rzz(sub_qc)\n",
    "        case _:        \n",
    "            sub_qc.append(gate, qargs = list(range(num_target_qubits)))\n",
    "    \n",
    "    basis = [\"s\", \"sdg\", \"t\", \"tdg\", \"h\", \"x\", \"y\", \"z\", \"cz\"]\n",
    "    approx = generate_basic_approximations(basis, depth=depth)\n",
    "    skd = SolovayKitaev(recursion_degree=recursion_degree, basic_approximations=approx)\n",
    "\n",
    "    discretized_sub_qc = skd(sub_qc)\n",
    "    box_label = fr\"S-K: R$_\\text{{{axis}}}$({np.round(theta / np.pi, 2)}$\\pi$)\" if label == None else label\n",
    "    def append_all():\n",
    "        for i in range(len(discretized_sub_qc.data)):\n",
    "                circuit_instruction = discretized_sub_qc.data[i]\n",
    "                qc.append(circuit_instruction)\n",
    "    \n",
    "    \n",
    "    if box:\n",
    "        if isinstance(qc, LogicalCircuit):\n",
    "            with qc.box(label=\"logical.logicalop.R:{box_label}\"):\n",
    "                append_all()\n",
    "        elif isinstance(qc, QuantumCircuit):\n",
    "            with qc.box(label=\"R:{box_label}\"):\n",
    "                append_all()\n",
    "        else:\n",
    "            raise AssertionError(\"qc is not a valid QuantumCircuit or LogicalCircuit.\")\n",
    "    else:\n",
    "        append_all()\n",
    "        #sub_gate = discretized_sub_qc.to_gate(label=box_label)\n",
    "        #qc.append(sub_gate, qubit_indices)\n",
    "    \n",
    "    if return_subcircuit:\n",
    "        return qc, discretized_sub_qc\n",
    "    else:\n",
    "        return qc\n",
    "\n",
    "qc = append_rot_gate(qc, \"xx\", np.pi, [0, 1])\n",
    "qc.draw(output=\"mpl\")"
   ]
  },
  {
   "cell_type": "code",
   "execution_count": 5,
   "id": "ad267e4a",
   "metadata": {},
   "outputs": [
    {
     "name": "stderr",
     "output_type": "stream",
     "text": [
      "<>:1: SyntaxWarning: invalid escape sequence '\\p'\n",
      "<>:1: SyntaxWarning: invalid escape sequence '\\p'\n",
      "C:\\Users\\nolan\\AppData\\Local\\Temp\\ipykernel_49116\\117147892.py:1: SyntaxWarning: invalid escape sequence '\\p'\n",
      "  \"\"\"\n"
     ]
    },
    {
     "data": {
      "text/plain": [
       "'\\ndef append_rot_gate(qc, axis = \"z\", theta = 0, qubit_indices = [0], label = None, return_subcircuit = False, quality = 4):\\n    gates = {\"x\": (RXGate, 1), \"y\": (RYGate, 1), \"z\": (RZGate, 1), \"xx\": (RXXGate, 2), \"yy\": (RYYGate, 2), \"zz\": (RZZGate, 2)}\\n    gate_base, num_target_qubits = gates[axis]\\n    gate = gate_base(theta)\\n\\n    sub_qc = QuantumCircuit(num_target_qubits)\\n\\n    def apply_Rzz(sub_qc):\\n        sub_qc.cx(0, 1)\\n        sub_qc = append_rot_gate(sub_qc, \"z\", theta, [1], quality=quality)\\n        #sub_qc.rz(theta, 1)\\n        sub_qc.cx(0, 1)\\n\\n    match axis:\\n        case \"xx\":\\n            sub_qc.h([0, 1])\\n            apply_Rzz(sub_qc)\\n            sub_qc.h([0, 1])\\n            discretized_sub_qc = sub_qc\\n        case \"yy\":\\n            #sub_qc.rx(np.pi / 2, [0, 1])\\n            sub_qc = append_rot_gate(sub_qc, \"x\", np.pi / 2, [0], quality=quality)\\n            sub_qc = append_rot_gate(sub_qc, \"x\", np.pi / 2, [1], quality=quality)\\n            apply_Rzz(sub_qc)\\n            #sub_qc.rx(-np.pi / 2, [0, 1])\\n            sub_qc = append_rot_gate(sub_qc, \"x\", -np.pi / 2, [0], quality=quality)\\n            sub_qc = append_rot_gate(sub_qc, \"x\", -np.pi / 2, [1], quality=quality)\\n            discretized_sub_qc = sub_qc\\n        case \"zz\":\\n            apply_Rzz(sub_qc)\\n            discretized_sub_qc = sub_qc\\n        case _:        \\n            sub_qc.append(gate, qargs = list(range(num_target_qubits)))\\n\\n            basis = [\"s\", \"sdg\", \"t\", \"tdg\", \"h\", \"x\", \"y\", \"z\", \"cz\"]\\n            approx = generate_basic_approximations(basis, depth=3)\\n            skd = SolovayKitaev(recursion_degree=quality, basic_approximations=approx)\\n\\n            discretized_sub_qc = skd(sub_qc)\\n\\n    box_label = fr\"S-K: R$_\\text{{{axis}}}$({np.round(theta / np.pi, 2)}$\\\\pi$)\" if label == None else label\\n    if isinstance(qc, LogicalCircuit):\\n        with qc.box(label=\"logical.logicalop.R:{box_label}\"):\\n            for i in range(len(sub_qc.data)):\\n                circuit_instruction = discretized_sub_qc.data[i]\\n                qc.append(circuit_instruction)\\n    elif isinstance(qc, QuantumCircuit):\\n        sub_gate = discretized_sub_qc.to_gate(label=box_label)\\n        qc.append(sub_gate, qubit_indices)\\n    else:\\n        raise AssertionError(\"qc is not a valid QuantumCircuit or LogicalCircuit.\")\\n\\n    if return_subcircuit:\\n        return qc, discretized_sub_qc\\n    else:\\n        return qc\\n\\nqc = append_rot_gate(qc, \"xx\", np.pi, [0, 1])\\nqc.draw(output=\"mpl\")\\n'"
      ]
     },
     "execution_count": 5,
     "metadata": {},
     "output_type": "execute_result"
    }
   ],
   "source": [
    "\"\"\"\n",
    "def append_rot_gate(qc, axis = \"z\", theta = 0, qubit_indices = [0], label = None, return_subcircuit = False, quality = 4):\n",
    "    gates = {\"x\": (RXGate, 1), \"y\": (RYGate, 1), \"z\": (RZGate, 1), \"xx\": (RXXGate, 2), \"yy\": (RYYGate, 2), \"zz\": (RZZGate, 2)}\n",
    "    gate_base, num_target_qubits = gates[axis]\n",
    "    gate = gate_base(theta)\n",
    "    \n",
    "    sub_qc = QuantumCircuit(num_target_qubits)\n",
    " \n",
    "    def apply_Rzz(sub_qc):\n",
    "        sub_qc.cx(0, 1)\n",
    "        sub_qc = append_rot_gate(sub_qc, \"z\", theta, [1], quality=quality)\n",
    "        #sub_qc.rz(theta, 1)\n",
    "        sub_qc.cx(0, 1)\n",
    " \n",
    "    match axis:\n",
    "        case \"xx\":\n",
    "            sub_qc.h([0, 1])\n",
    "            apply_Rzz(sub_qc)\n",
    "            sub_qc.h([0, 1])\n",
    "            discretized_sub_qc = sub_qc\n",
    "        case \"yy\":\n",
    "            #sub_qc.rx(np.pi / 2, [0, 1])\n",
    "            sub_qc = append_rot_gate(sub_qc, \"x\", np.pi / 2, [0], quality=quality)\n",
    "            sub_qc = append_rot_gate(sub_qc, \"x\", np.pi / 2, [1], quality=quality)\n",
    "            apply_Rzz(sub_qc)\n",
    "            #sub_qc.rx(-np.pi / 2, [0, 1])\n",
    "            sub_qc = append_rot_gate(sub_qc, \"x\", -np.pi / 2, [0], quality=quality)\n",
    "            sub_qc = append_rot_gate(sub_qc, \"x\", -np.pi / 2, [1], quality=quality)\n",
    "            discretized_sub_qc = sub_qc\n",
    "        case \"zz\":\n",
    "            apply_Rzz(sub_qc)\n",
    "            discretized_sub_qc = sub_qc\n",
    "        case _:        \n",
    "            sub_qc.append(gate, qargs = list(range(num_target_qubits)))\n",
    "    \n",
    "            basis = [\"s\", \"sdg\", \"t\", \"tdg\", \"h\", \"x\", \"y\", \"z\", \"cz\"]\n",
    "            approx = generate_basic_approximations(basis, depth=3)\n",
    "            skd = SolovayKitaev(recursion_degree=quality, basic_approximations=approx)\n",
    "\n",
    "            discretized_sub_qc = skd(sub_qc)\n",
    "            \n",
    "    box_label = fr\"S-K: R$_\\text{{{axis}}}$({np.round(theta / np.pi, 2)}$\\pi$)\" if label == None else label\n",
    "    if isinstance(qc, LogicalCircuit):\n",
    "        with qc.box(label=\"logical.logicalop.R:{box_label}\"):\n",
    "            for i in range(len(sub_qc.data)):\n",
    "                circuit_instruction = discretized_sub_qc.data[i]\n",
    "                qc.append(circuit_instruction)\n",
    "    elif isinstance(qc, QuantumCircuit):\n",
    "        sub_gate = discretized_sub_qc.to_gate(label=box_label)\n",
    "        qc.append(sub_gate, qubit_indices)\n",
    "    else:\n",
    "        raise AssertionError(\"qc is not a valid QuantumCircuit or LogicalCircuit.\")\n",
    "    \n",
    "    if return_subcircuit:\n",
    "        return qc, discretized_sub_qc\n",
    "    else:\n",
    "        return qc\n",
    "\n",
    "qc = append_rot_gate(qc, \"xx\", np.pi, [0, 1])\n",
    "qc.draw(output=\"mpl\")\n",
    "\"\"\""
   ]
  },
  {
   "cell_type": "code",
   "execution_count": 6,
   "id": "6bff2aa4",
   "metadata": {},
   "outputs": [],
   "source": [
    "#sub_qc.draw(output=\"mpl\")"
   ]
  },
  {
   "cell_type": "markdown",
   "id": "05dc950a",
   "metadata": {},
   "source": [
    "### Rxx, Ryy, Rzz Gate Validations"
   ]
  },
  {
   "cell_type": "code",
   "execution_count": 7,
   "id": "060b2f67",
   "metadata": {},
   "outputs": [
    {
     "data": {
      "text/latex": [
       "$$(0.9450008187 - 0.3270679633 i) |00\\rangle$$"
      ],
      "text/plain": [
       "<IPython.core.display.Latex object>"
      ]
     },
     "execution_count": 7,
     "metadata": {},
     "output_type": "execute_result"
    }
   ],
   "source": [
    "from qiskit.quantum_info import Statevector\n",
    "from qiskit.primitives import StatevectorSampler\n",
    "sampler = StatevectorSampler()\n",
    "\n",
    "ratio = 7 / 33 # picked a weird fraction of pi to make the test more robust\n",
    "\n",
    "Rzz_ref = QuantumCircuit(2)\n",
    "Rzz_ref.rzz(ratio * np.pi, 0, 1)\n",
    "\n",
    "state = Statevector.from_instruction(Rzz_ref)\n",
    "state.draw(output=\"latex\")"
   ]
  },
  {
   "cell_type": "code",
   "execution_count": 8,
   "id": "300c9052",
   "metadata": {},
   "outputs": [
    {
     "data": {
      "text/latex": [
       "$$(0.9450008187 - 0.3270679633 i) |00\\rangle$$"
      ],
      "text/plain": [
       "<IPython.core.display.Latex object>"
      ]
     },
     "execution_count": 8,
     "metadata": {},
     "output_type": "execute_result"
    }
   ],
   "source": [
    "Rzz_alg = QuantumCircuit(2)\n",
    "Rzz_alg = append_rot_gate(Rzz_alg, \"zz\", ratio * np.pi, qubit_indices=[0,1])\n",
    "\n",
    "state = Statevector.from_instruction(Rzz_ref)\n",
    "state.draw(output=\"latex\")"
   ]
  },
  {
   "cell_type": "code",
   "execution_count": 9,
   "id": "820994e7",
   "metadata": {},
   "outputs": [
    {
     "data": {
      "text/latex": [
       "$$0.7557495744 |00\\rangle- 0.6548607339 i |11\\rangle$$"
      ],
      "text/plain": [
       "<IPython.core.display.Latex object>"
      ]
     },
     "execution_count": 9,
     "metadata": {},
     "output_type": "execute_result"
    }
   ],
   "source": [
    "ratio = 15 / 33 # picked a weird fraction of pi to make the test more robust\n",
    "\n",
    "Rxx_ref = QuantumCircuit(2)\n",
    "Rxx_ref.rxx(ratio * np.pi, 0, 1)\n",
    "\n",
    "state = Statevector.from_instruction(Rxx_ref)\n",
    "state.draw(output=\"latex\")"
   ]
  },
  {
   "cell_type": "code",
   "execution_count": 10,
   "id": "011c6496",
   "metadata": {},
   "outputs": [
    {
     "data": {
      "text/latex": [
       "$$0.7557495744 |00\\rangle- 0.6548607339 i |11\\rangle$$"
      ],
      "text/plain": [
       "<IPython.core.display.Latex object>"
      ]
     },
     "execution_count": 10,
     "metadata": {},
     "output_type": "execute_result"
    }
   ],
   "source": [
    "Rxx_alg = QuantumCircuit(2)\n",
    "Rxx_alg = append_rot_gate(Rxx_alg, \"xx\", ratio * np.pi, qubit_indices=[0,1])\n",
    "\n",
    "state = Statevector.from_instruction(Rxx_ref)\n",
    "state.draw(output=\"latex\")"
   ]
  },
  {
   "cell_type": "code",
   "execution_count": 11,
   "id": "95b4cd07",
   "metadata": {},
   "outputs": [
    {
     "data": {
      "text/latex": [
       "$$0.6181589862 |00\\rangle- 0.7860530947 i |11\\rangle$$"
      ],
      "text/plain": [
       "<IPython.core.display.Latex object>"
      ]
     },
     "execution_count": 11,
     "metadata": {},
     "output_type": "execute_result"
    }
   ],
   "source": [
    "ratio = 19 / 33 # picked a weird fraction of pi to make the test more robust\n",
    "\n",
    "Ryy_ref = QuantumCircuit(2)\n",
    "Ryy_ref.rxx(ratio * np.pi, 0, 1)\n",
    "\n",
    "state = Statevector.from_instruction(Ryy_ref)\n",
    "state.draw(output=\"latex\")"
   ]
  },
  {
   "cell_type": "code",
   "execution_count": 12,
   "id": "cb3b3787",
   "metadata": {},
   "outputs": [
    {
     "data": {
      "text/latex": [
       "$$0.6181589862 |00\\rangle- 0.7860530947 i |11\\rangle$$"
      ],
      "text/plain": [
       "<IPython.core.display.Latex object>"
      ]
     },
     "execution_count": 12,
     "metadata": {},
     "output_type": "execute_result"
    }
   ],
   "source": [
    "Ryy_alg = QuantumCircuit(2)\n",
    "Ryy_alg = append_rot_gate(Ryy_alg, \"yy\", ratio * np.pi, qubit_indices=[0,1])\n",
    "\n",
    "state = Statevector.from_instruction(Ryy_ref)\n",
    "state.draw(output=\"latex\")"
   ]
  },
  {
   "cell_type": "markdown",
   "id": "c5386c3f",
   "metadata": {},
   "source": [
    "### Build AH model"
   ]
  },
  {
   "cell_type": "code",
   "execution_count": 13,
   "id": "d7f017a5",
   "metadata": {},
   "outputs": [
    {
     "data": {
      "image/png": "[encoded data removed]",
      "text/plain": [
       "<Figure size 1290.63x200.667 with 1 Axes>"
      ]
     },
     "execution_count": 13,
     "metadata": {},
     "output_type": "execute_result"
    }
   ],
   "source": [
    "def Hxy(dt, J):\n",
    "    theta = dt * J\n",
    "    \n",
    "    qc = QuantumCircuit(2)\n",
    "    with qc.box(label=\"Hxy\"):\n",
    "        qc = append_rot_gate(qc, \"xx\", theta, [0, 1])\n",
    "        qc = append_rot_gate(qc, \"yy\", theta, [0, 1])\n",
    "    return qc\n",
    "\n",
    "qc_test = QuantumCircuit(2)\n",
    "H_xy = Hxy(1.0, np.pi)\n",
    "qc_test = qc_test.compose(H_xy, [0, 1], front=True)\n",
    "qc_test.draw(output=\"mpl\")"
   ]
  },
  {
   "cell_type": "code",
   "execution_count": 14,
   "id": "13de467b",
   "metadata": {},
   "outputs": [
    {
     "data": {
      "image/png": "[encoded data removed]",
      "text/plain": [
       "<Figure size 1290.63x200.667 with 1 Axes>"
      ]
     },
     "execution_count": 14,
     "metadata": {},
     "output_type": "execute_result"
    }
   ],
   "source": [
    "H_xy.draw(output='mpl')"
   ]
  },
  {
   "cell_type": "code",
   "execution_count": 15,
   "id": "ca04b4c6",
   "metadata": {},
   "outputs": [],
   "source": [
    "def get_heisenberg_model_circuit(dt, J, depth = 10, recursion_degree = 1, initial_sv = None):\n",
    "    qc = QuantumCircuit(2)\n",
    "    \n",
    "    if isinstance(initial_sv, Statevector):\n",
    "        qc.initialize(initial_sv, [0,1])\n",
    "    \n",
    "    theta = J * dt\n",
    "    append_rot_gate(qc, \"xx\", 2 * theta, [0, 1], depth=depth, recursion_degree=recursion_degree)\n",
    "    append_rot_gate(qc, \"yy\", 2 * theta, [0, 1], depth=depth, recursion_degree=recursion_degree)\n",
    "    append_rot_gate(qc, \"zz\", 2 * theta, [0, 1], depth=depth, recursion_degree=recursion_degree)\n",
    "    \n",
    "    \"\"\"\n",
    "    # Hxy\n",
    "    qc.append(Hxy_box, qargs = [0,1])\n",
    "    \n",
    "    # Hxz\n",
    "    qc = append_rot_gate(qc, axis=\"y\", theta=-np.pi/4, qubit_indices=[0])\n",
    "    qc = append_rot_gate(qc, axis=\"y\", theta=-np.pi/4, qubit_indices=[1])\n",
    "    qc.append(Hxy_box, qargs = [0,1])\n",
    "    qc = append_rot_gate(qc, axis=\"y\", theta=np.pi/4, qubit_indices=[0])\n",
    "    qc = append_rot_gate(qc, axis=\"y\", theta=np.pi/4, qubit_indices=[1])\n",
    "    \n",
    "    # Hyz\n",
    "    qc = append_rot_gate(qc, axis=\"x\", theta=-np.pi/4, qubit_indices=[0])\n",
    "    qc = append_rot_gate(qc, axis=\"x\", theta=-np.pi/4, qubit_indices=[1])\n",
    "    qc.append(Hxy_box, qargs = [0,1])\n",
    "    qc = append_rot_gate(qc, axis=\"x\", theta=np.pi/4, qubit_indices=[0])\n",
    "    qc = append_rot_gate(qc, axis=\"x\", theta=np.pi/4, qubit_indices=[1])\n",
    "    \"\"\"\n",
    "    \n",
    "    return qc"
   ]
  },
  {
   "cell_type": "code",
   "execution_count": 16,
   "id": "05cf1c55",
   "metadata": {},
   "outputs": [],
   "source": [
    "qc = get_heisenberg_model_circuit(0.01, 1)"
   ]
  },
  {
   "cell_type": "code",
   "execution_count": 17,
   "id": "7b25707a",
   "metadata": {},
   "outputs": [
    {
     "data": {
      "image/png": "[encoded data removed]",
      "text/plain": [
       "<Figure size 1290.63x200.667 with 1 Axes>"
      ]
     },
     "execution_count": 17,
     "metadata": {},
     "output_type": "execute_result"
    }
   ],
   "source": [
    "qc.draw(output=\"mpl\")"
   ]
  },
  {
   "cell_type": "code",
   "execution_count": null,
   "id": "3fa64eea",
   "metadata": {},
   "outputs": [],
   "source": []
  },
  {
   "cell_type": "markdown",
   "id": "a8024222",
   "metadata": {},
   "source": [
    "## Matching paper results\n",
    "\n",
    "We are going to initialize our 2-qubit system in the $\\frac{1}{\\sqrt{5}}(\\ket{\\uparrow}+2\\ket{\\downarrow})\\otimes \\ket{\\downarrow}$ state, and then graph expectation values and fidelity as a function of $\\theta$."
   ]
  },
  {
   "cell_type": "markdown",
   "id": "d7f72c30",
   "metadata": {},
   "source": [
    "### Validate noiseless AH quantum circuit"
   ]
  },
  {
   "cell_type": "code",
   "execution_count": 18,
   "id": "16583789",
   "metadata": {},
   "outputs": [],
   "source": [
    "def get_op_count(qc):\n",
    "\n",
    "    op_counts = qc.count_ops()\n",
    "    print(f\"\\nDetailed operation counts: {op_counts}\")\n",
    "\n",
    "    num_measurements = op_counts.get('measure', 0)\n",
    "    print(f\"Number of measurements: {num_measurements}\")\n",
    "\n",
    "    total_ops =qc.size()\n",
    "    print(f\"Total number of operations: {total_ops}\")"
   ]
  },
  {
   "cell_type": "code",
   "execution_count": 19,
   "id": "0d40b174",
   "metadata": {},
   "outputs": [
    {
     "data": {
      "application/vnd.jupyter.widget-view+json": {
       "model_id": "04caa6d2c34a431ba80c7f58e514e63d",
       "version_major": 2,
       "version_minor": 0
      },
      "text/plain": [
       "  0%|          | 0/20 [00:00<?, ?it/s]"
      ]
     },
     "metadata": {},
     "output_type": "display_data"
    },
    {
     "name": "stdout",
     "output_type": "stream",
     "text": [
      "Optimized simulation complete!\n",
      "Stored data for 20 time steps.\n"
     ]
    },
    {
     "data": {
      "image/png": "[encoded data removed]",
      "text/plain": [
       "<Figure size 1000x600 with 1 Axes>"
      ]
     },
     "metadata": {},
     "output_type": "display_data"
    }
   ],
   "source": [
    "J_coupling = 2 * np.pi * 6E6\n",
    "theta_final = np.pi / 4\n",
    "num_steps = 20\n",
    "thetas = np.linspace(0, theta_final, num_steps)\n",
    "dt = (theta_final / J_coupling) / num_steps\n",
    "\n",
    "# Initial state: 1/sqrt(5) * (|0> + 2|1>) @ |1>  = 1/sqrt(5) * (|01> + 2|11>)\n",
    "initial_state_vector = np.array([1, 0, 2, 0]) / np.sqrt(5)\n",
    "initial_sv = Statevector(initial_state_vector)\n",
    "\n",
    "# Define observables for expectation values\n",
    "X1 = SparsePauliOp(\"XI\")\n",
    "X2 = SparsePauliOp(\"IX\")\n",
    "\n",
    "# H = J * (XX + YY + ZZ)\n",
    "heisenberg_hamiltonian = J_coupling * (\n",
    "    SparsePauliOp(\"XX\") + SparsePauliOp(\"YY\") + SparsePauliOp(\"ZZ\")\n",
    ")\n",
    "H_matrix = heisenberg_hamiltonian.to_matrix()\n",
    "\n",
    "trotter_step_circuit = get_heisenberg_model_circuit(dt, J_coupling, depth=20, recursion_degree=1)\n",
    "pm = PassManager([UnBoxTask()])\n",
    "trotter_decomp = pm.run(trotter_step_circuit)\n",
    "#get_op_count(trotter_step_circuit.decompose())\n",
    "#transpiled_qc = transpile(trotter_step_circuit.decompose(), optimization_level=3, basis_gates=[\"unitary\", \"cx\", \"cy\", \"cz\"])\n",
    "#basis = [\"s\", \"sdg\", \"t\", \"tdg\", \"h\", \"x\", \"y\", \"z\", \"cz\"]\n",
    "#approx = generate_basic_approximations(basis, depth=14)\n",
    "#skd = SolovayKitaev(recursion_degree=3, basic_approximations=approx)\n",
    "#trotter_step_circuit = skd(transpiled_qc)\n",
    "#get_op_count(transpiled_qc)\n",
    "#get_op_count(trotter_step_circuit.decompose())\n",
    "\n",
    "results = {\n",
    "    \"statevectors\": [],\n",
    "    \"exp_x1\": [],\n",
    "    \"exp_x2\": [],\n",
    "    \"fidelities\": []\n",
    "}\n",
    "\n",
    "# Start with a copy of the initial statevector\n",
    "current_sv = initial_sv.copy()\n",
    "\n",
    "for step in tqdm(range(num_steps)):\n",
    "    # Evolve current statevector by 1 iter.\n",
    "    current_sv = current_sv.evolve(trotter_decomp)\n",
    "    results[\"statevectors\"].append(current_sv.copy())\n",
    "    \n",
    "    # Calculate exp. values\n",
    "    exp_x1 = current_sv.expectation_value(X1).real\n",
    "    exp_x2 = current_sv.expectation_value(X2).real\n",
    "    results[\"exp_x1\"].append(exp_x1)\n",
    "    results[\"exp_x2\"].append(exp_x2)\n",
    "    \n",
    "    # Calculate fidelity\n",
    "    current_time = (step + 1) * dt\n",
    "    U_ideal = expm(-1j * H_matrix * current_time)\n",
    "    ideal_sv = Statevector(np.dot(U_ideal, initial_state_vector))\n",
    "    fidelity = state_fidelity(current_sv, ideal_sv)\n",
    "    results[\"fidelities\"].append(fidelity)\n",
    "\n",
    "print(\"Optimized simulation complete!\")\n",
    "print(f\"Stored data for {len(results['statevectors'])} time steps.\")\n",
    "\n",
    "plt.style.use('seaborn-v0_8-darkgrid')\n",
    "fig, ax = plt.subplots(figsize=(10, 6))\n",
    "\n",
    "ax.plot(thetas, results[\"exp_x1\"], 'o-', label=r'$\\langle\\sigma_1^x\\rangle$')\n",
    "ax.plot(thetas, results[\"exp_x2\"], 's-', label=r'$\\langle\\sigma_2^x\\rangle$')\n",
    "ax.plot(thetas, results[\"fidelities\"], '^-', label='Fidelity', color='green')\n",
    "\n",
    "ax.set_xlabel(r'$\\theta = Jt$', fontsize=14)\n",
    "ax.set_ylabel('Expectation Value / Fidelity', fontsize=14)\n",
    "ax.set_title('Heisenberg Model Time Evolution', fontsize=16)\n",
    "ax.legend(fontsize=12)\n",
    "plt.show()"
   ]
  },
  {
   "cell_type": "code",
   "execution_count": 20,
   "id": "618c18be",
   "metadata": {},
   "outputs": [
    {
     "name": "stdout",
     "output_type": "stream",
     "text": [
      "\n",
      "Detailed operation counts: OrderedDict({'h': 116, 't': 54, 'tdg': 54, 's': 7, 'sdg': 7, 'cx': 6})\n",
      "Number of measurements: 0\n",
      "Total number of operations: 244\n"
     ]
    },
    {
     "ename": "NameError",
     "evalue": "name 'unboxed_circuit' is not defined",
     "output_type": "error",
     "traceback": [
      "\u001b[31m---------------------------------------------------------------------------\u001b[39m",
      "\u001b[31mNameError\u001b[39m                                 Traceback (most recent call last)",
      "\u001b[36mCell\u001b[39m\u001b[36m \u001b[39m\u001b[32mIn[20]\u001b[39m\u001b[32m, line 5\u001b[39m\n\u001b[32m      3\u001b[39m get_op_count(trotter_decomp)\n\u001b[32m      4\u001b[39m \u001b[38;5;66;03m#decomposed_circuit = trotter_step_circuit.decompose()\u001b[39;00m\n\u001b[32m----> \u001b[39m\u001b[32m5\u001b[39m \u001b[43munboxed_circuit\u001b[49m.draw(output=\u001b[33m\"\u001b[39m\u001b[33mmpl\u001b[39m\u001b[33m\"\u001b[39m)\n",
      "\u001b[31mNameError\u001b[39m: name 'unboxed_circuit' is not defined"
     ]
    }
   ],
   "source": [
    "pm = PassManager([UnBoxTask()])\n",
    "trotter_decomp = pm.run(trotter_step_circuit)\n",
    "get_op_count(trotter_decomp)\n",
    "#decomposed_circuit = trotter_step_circuit.decompose()\n",
    "unboxed_circuit.draw(output=\"mpl\")"
   ]
  },
  {
   "cell_type": "code",
   "execution_count": null,
   "id": "6f613080",
   "metadata": {},
   "outputs": [],
   "source": [
    "decomposed_circuit = unboxed_circuit.decompose()\n"
   ]
  },
  {
   "cell_type": "code",
   "execution_count": null,
   "id": "9cea6202",
   "metadata": {},
   "outputs": [],
   "source": [
    "#decomposed_circuit.draw(output=\"mpl\")"
   ]
  },
  {
   "cell_type": "markdown",
   "id": "1cce074f",
   "metadata": {},
   "source": [
    "Check op count of physical circuit\n",
    "\n",
    "Recorded data:\n",
    "\n",
    "quality = 4  ->  number of ops = \n",
    "\n",
    "quality = 7  ->  number of ops = "
   ]
  },
  {
   "cell_type": "code",
   "execution_count": null,
   "id": "4ae14b6e",
   "metadata": {},
   "outputs": [],
   "source": []
  },
  {
   "cell_type": "markdown",
   "id": "16223456",
   "metadata": {},
   "source": [
    "### Optimize circuit depth\n",
    "\n",
    "Attempt 1: Using qiskit transpilation"
   ]
  },
  {
   "cell_type": "code",
   "execution_count": 16,
   "id": "f2f43447",
   "metadata": {},
   "outputs": [],
   "source": [
    "#trotter_step_circuit.draw(output=\"mpl\")\n",
    "trotter_decomp = trotter_step_circuit.decompose()\n",
    "#trotter_decomp.draw(output=\"mpl\")"
   ]
  },
  {
   "cell_type": "code",
   "execution_count": null,
   "id": "dc52ee59",
   "metadata": {},
   "outputs": [],
   "source": [
    "circuit = trotter_step_circuit\n",
    " \n",
    "\n",
    "simulator = AerSimulator()\n",
    "\n",
    "#pm = generate_preset_pass_manager(\n",
    "#    optimization_level=3, initial_layout=[0, 1], basis_gates=[\"s\", \"sdg\", \"t\", \"tdg\", \"h\", \"x\", \"y\", \"z\", \"cz\"]\n",
    "#)\n",
    "#transpiled_qc = pm.run(circuit)\n",
    "\n",
    "transpiled_qc = transpile(trotter_decomp, optimization_level=3)"
   ]
  },
  {
   "cell_type": "code",
   "execution_count": null,
   "id": "ad5e9ff6",
   "metadata": {},
   "outputs": [],
   "source": [
    "transpiled_qc.draw(output=\"mpl\")"
   ]
  },
  {
   "cell_type": "code",
   "execution_count": 35,
   "id": "114dc623",
   "metadata": {},
   "outputs": [
    {
     "name": "stdout",
     "output_type": "stream",
     "text": [
      "\n",
      "Detailed operation counts: OrderedDict({'h': 29891, 'tdg': 13182, 't': 13176, 's': 2569, 'sdg': 2563, 'cz': 6, 'z': 2})\n",
      "Number of measurements: 0\n",
      "Total number of operations: 61389\n"
     ]
    }
   ],
   "source": [
    "get_op_count(transpiled_qc)"
   ]
  },
  {
   "cell_type": "markdown",
   "id": "0acef077",
   "metadata": {},
   "source": [
    "Attempt 2: Using BQSKit processing passes to remove gates"
   ]
  },
  {
   "cell_type": "code",
   "execution_count": 36,
   "id": "52872e39",
   "metadata": {},
   "outputs": [
    {
     "name": "stderr",
     "output_type": "stream",
     "text": [
      "c:\\Users\\nolan\\OneDrive\\Desktop\\College\\Research\\Quantum Computing\\QCA\\clone\\LogicalQ\\venv\\Lib\\site-packages\\lark\\parse_tree_builder.py:154: RuntimeWarning: coroutine 'Workflow.run' was never awaited\n",
      "  filtered.append(children[i])\n",
      "RuntimeWarning: Enable tracemalloc to get the object allocation traceback\n",
      "The standard workflow with BQSKit may have trouble targeting gate sets containing no parameterized single-qudit gates. [wid=9]\n",
      "Compiler interrupted.\n"
     ]
    },
    {
     "ename": "KeyboardInterrupt",
     "evalue": "",
     "output_type": "error",
     "traceback": [
      "\u001b[31m---------------------------------------------------------------------------\u001b[39m",
      "\u001b[31mKeyboardInterrupt\u001b[39m                         Traceback (most recent call last)",
      "\u001b[36mCell\u001b[39m\u001b[36m \u001b[39m\u001b[32mIn[36]\u001b[39m\u001b[32m, line 37\u001b[39m\n\u001b[32m     34\u001b[39m quantinuum_like_gate_set = {ZZGate(), RZGate(), SXGate()}\n\u001b[32m     35\u001b[39m CliffordT_gate_set = {SGate(), SdgGate(), TGate(), TdgGate(), HGate(), XGate(), YGate(), ZGate(), CZGate(), CXGate()}\n\u001b[32m---> \u001b[39m\u001b[32m37\u001b[39m out_circuit = \u001b[43mcompile_to_gateset\u001b[49m\u001b[43m(\u001b[49m\u001b[43mcircuit\u001b[49m\u001b[43m,\u001b[49m\u001b[43m \u001b[49m\u001b[43mCliffordT_gate_set\u001b[49m\u001b[43m)\u001b[49m\n",
      "\u001b[36mCell\u001b[39m\u001b[36m \u001b[39m\u001b[32mIn[36]\u001b[39m\u001b[32m, line 29\u001b[39m, in \u001b[36mcompile_to_gateset\u001b[39m\u001b[34m(circuit, gate_set)\u001b[39m\n\u001b[32m     27\u001b[39m \u001b[38;5;28;01mdef\u001b[39;00m\u001b[38;5;250m \u001b[39m\u001b[34mcompile_to_gateset\u001b[39m(circuit, gate_set):\n\u001b[32m     28\u001b[39m     model = MachineModel(circuit.num_qudits, gate_set=gate_set)\n\u001b[32m---> \u001b[39m\u001b[32m29\u001b[39m     \u001b[38;5;28;01mreturn\u001b[39;00m \u001b[38;5;28;43mcompile\u001b[39;49m\u001b[43m(\u001b[49m\u001b[43mcircuit\u001b[49m\u001b[43m,\u001b[49m\u001b[43m \u001b[49m\u001b[43mmodel\u001b[49m\u001b[43m=\u001b[49m\u001b[43mmodel\u001b[49m\u001b[43m)\u001b[49m\n",
      "\u001b[36mFile \u001b[39m\u001b[32mc:\\Users\\nolan\\OneDrive\\Desktop\\College\\Research\\Quantum Computing\\QCA\\clone\\LogicalQ\\venv\\Lib\\site-packages\\bqskit\\compiler\\compile.py:636\u001b[39m, in \u001b[36mcompile\u001b[39m\u001b[34m(input, model, optimization_level, max_synthesis_size, synthesis_epsilon, error_threshold, error_sim_size, compiler, seed, with_mapping, **compiler_kwargs)\u001b[39m\n\u001b[32m    633\u001b[39m     in_circuit = Circuit(typed_input.num_qudits, typed_input.radixes)\n\u001b[32m    635\u001b[39m \u001b[38;5;66;03m# Perform the compilation\u001b[39;00m\n\u001b[32m--> \u001b[39m\u001b[32m636\u001b[39m out, data = \u001b[43mcompiler\u001b[49m\u001b[43m.\u001b[49m\u001b[43mcompile\u001b[49m\u001b[43m(\u001b[49m\u001b[43min_circuit\u001b[49m\u001b[43m,\u001b[49m\u001b[43m \u001b[49m\u001b[43mworkflow\u001b[49m\u001b[43m,\u001b[49m\u001b[43m \u001b[49m\u001b[38;5;28;43;01mTrue\u001b[39;49;00m\u001b[43m)\u001b[49m\n\u001b[32m    638\u001b[39m \u001b[38;5;66;03m# Log error if necessary\u001b[39;00m\n\u001b[32m    639\u001b[39m \u001b[38;5;28;01mif\u001b[39;00m error_threshold \u001b[38;5;129;01mis\u001b[39;00m \u001b[38;5;129;01mnot\u001b[39;00m \u001b[38;5;28;01mNone\u001b[39;00m:\n",
      "\u001b[36mFile \u001b[39m\u001b[32mc:\\Users\\nolan\\OneDrive\\Desktop\\College\\Research\\Quantum Computing\\QCA\\clone\\LogicalQ\\venv\\Lib\\site-packages\\bqskit\\compiler\\compiler.py:398\u001b[39m, in \u001b[36mCompiler.compile\u001b[39m\u001b[34m(self, circuit, workflow, request_data, logging_level, max_logging_depth, data)\u001b[39m\n\u001b[32m    389\u001b[39m \u001b[38;5;250m\u001b[39m\u001b[33;03m\"\"\"Submit a task, wait for its results; see :func:`submit` for more.\"\"\"\u001b[39;00m\n\u001b[32m    390\u001b[39m task_id = \u001b[38;5;28mself\u001b[39m.submit(\n\u001b[32m    391\u001b[39m     circuit,\n\u001b[32m    392\u001b[39m     workflow,\n\u001b[32m   (...)\u001b[39m\u001b[32m    396\u001b[39m     data,\n\u001b[32m    397\u001b[39m )\n\u001b[32m--> \u001b[39m\u001b[32m398\u001b[39m result = \u001b[38;5;28;43mself\u001b[39;49m\u001b[43m.\u001b[49m\u001b[43mresult\u001b[49m\u001b[43m(\u001b[49m\u001b[43mtask_id\u001b[49m\u001b[43m)\u001b[49m\n\u001b[32m    400\u001b[39m \u001b[38;5;66;03m# Ensure arrival of all log messages\u001b[39;00m\n\u001b[32m    401\u001b[39m time.sleep(\u001b[32m0.05\u001b[39m \u001b[38;5;28;01mif\u001b[39;00m \u001b[38;5;28mself\u001b[39m.p \u001b[38;5;129;01mis\u001b[39;00m \u001b[38;5;129;01mnot\u001b[39;00m \u001b[38;5;28;01mNone\u001b[39;00m \u001b[38;5;28;01melse\u001b[39;00m \u001b[32m0.5\u001b[39m)\n",
      "\u001b[36mFile \u001b[39m\u001b[32mc:\\Users\\nolan\\OneDrive\\Desktop\\College\\Research\\Quantum Computing\\QCA\\clone\\LogicalQ\\venv\\Lib\\site-packages\\bqskit\\compiler\\compiler.py:332\u001b[39m, in \u001b[36mCompiler.result\u001b[39m\u001b[34m(self, task_id)\u001b[39m\n\u001b[32m    330\u001b[39m \u001b[38;5;28;01mdef\u001b[39;00m\u001b[38;5;250m \u001b[39m\u001b[34mresult\u001b[39m(\u001b[38;5;28mself\u001b[39m, task_id: uuid.UUID) -> Circuit | \u001b[38;5;28mtuple\u001b[39m[Circuit, PassData]:\n\u001b[32m    331\u001b[39m \u001b[38;5;250m    \u001b[39m\u001b[33;03m\"\"\"Block until the task is finished, return its result.\"\"\"\u001b[39;00m\n\u001b[32m--> \u001b[39m\u001b[32m332\u001b[39m     msg, payload = \u001b[38;5;28;43mself\u001b[39;49m\u001b[43m.\u001b[49m\u001b[43m_send_recv\u001b[49m\u001b[43m(\u001b[49m\u001b[43mRuntimeMessage\u001b[49m\u001b[43m.\u001b[49m\u001b[43mREQUEST\u001b[49m\u001b[43m,\u001b[49m\u001b[43m \u001b[49m\u001b[43mtask_id\u001b[49m\u001b[43m)\u001b[49m\n\u001b[32m    333\u001b[39m     \u001b[38;5;28;01mif\u001b[39;00m msg != RuntimeMessage.RESULT:\n\u001b[32m    334\u001b[39m         \u001b[38;5;28;01mraise\u001b[39;00m \u001b[38;5;167;01mRuntimeError\u001b[39;00m(\u001b[33mf\u001b[39m\u001b[33m'\u001b[39m\u001b[33mUnexpected message type: \u001b[39m\u001b[38;5;132;01m{\u001b[39;00mmsg\u001b[38;5;132;01m}\u001b[39;00m\u001b[33m.\u001b[39m\u001b[33m'\u001b[39m)\n",
      "\u001b[36mFile \u001b[39m\u001b[32mc:\\Users\\nolan\\OneDrive\\Desktop\\College\\Research\\Quantum Computing\\QCA\\clone\\LogicalQ\\venv\\Lib\\site-packages\\bqskit\\compiler\\compiler.py:440\u001b[39m, in \u001b[36mCompiler._send_recv\u001b[39m\u001b[34m(self, msg, payload)\u001b[39m\n\u001b[32m    436\u001b[39m     \u001b[38;5;28mself\u001b[39m._recv_log_error_until_empty()\n\u001b[32m    438\u001b[39m     \u001b[38;5;28mself\u001b[39m.conn.send((msg, payload))\n\u001b[32m--> \u001b[39m\u001b[32m440\u001b[39m     \u001b[38;5;28;01mreturn\u001b[39;00m \u001b[38;5;28;43mself\u001b[39;49m\u001b[43m.\u001b[49m\u001b[43m_recv_handle_log_error\u001b[49m\u001b[43m(\u001b[49m\u001b[43m)\u001b[49m\n\u001b[32m    442\u001b[39m \u001b[38;5;28;01mexcept\u001b[39;00m \u001b[38;5;167;01mException\u001b[39;00m \u001b[38;5;28;01mas\u001b[39;00m e:\n\u001b[32m    443\u001b[39m     \u001b[38;5;28mself\u001b[39m.conn = \u001b[38;5;28;01mNone\u001b[39;00m\n",
      "\u001b[36mFile \u001b[39m\u001b[32mc:\\Users\\nolan\\OneDrive\\Desktop\\College\\Research\\Quantum Computing\\QCA\\clone\\LogicalQ\\venv\\Lib\\site-packages\\bqskit\\compiler\\compiler.py:454\u001b[39m, in \u001b[36mCompiler._recv_handle_log_error\u001b[39m\u001b[34m(self)\u001b[39m\n\u001b[32m    452\u001b[39m to_return = \u001b[38;5;28;01mNone\u001b[39;00m\n\u001b[32m    453\u001b[39m \u001b[38;5;28;01mwhile\u001b[39;00m to_return \u001b[38;5;129;01mis\u001b[39;00m \u001b[38;5;28;01mNone\u001b[39;00m \u001b[38;5;129;01mor\u001b[39;00m \u001b[38;5;28mself\u001b[39m.conn.poll():\n\u001b[32m--> \u001b[39m\u001b[32m454\u001b[39m     msg, payload = \u001b[38;5;28;43mself\u001b[39;49m\u001b[43m.\u001b[49m\u001b[43mconn\u001b[49m\u001b[43m.\u001b[49m\u001b[43mrecv\u001b[49m\u001b[43m(\u001b[49m\u001b[43m)\u001b[49m\n\u001b[32m    456\u001b[39m     \u001b[38;5;28;01mif\u001b[39;00m msg == RuntimeMessage.LOG:\n\u001b[32m    457\u001b[39m         record = pickle.loads(payload)\n",
      "\u001b[36mFile \u001b[39m\u001b[32m~\\AppData\\Local\\Programs\\Python\\Python312\\Lib\\multiprocessing\\connection.py:250\u001b[39m, in \u001b[36m_ConnectionBase.recv\u001b[39m\u001b[34m(self)\u001b[39m\n\u001b[32m    248\u001b[39m \u001b[38;5;28mself\u001b[39m._check_closed()\n\u001b[32m    249\u001b[39m \u001b[38;5;28mself\u001b[39m._check_readable()\n\u001b[32m--> \u001b[39m\u001b[32m250\u001b[39m buf = \u001b[38;5;28;43mself\u001b[39;49m\u001b[43m.\u001b[49m\u001b[43m_recv_bytes\u001b[49m\u001b[43m(\u001b[49m\u001b[43m)\u001b[49m\n\u001b[32m    251\u001b[39m \u001b[38;5;28;01mreturn\u001b[39;00m _ForkingPickler.loads(buf.getbuffer())\n",
      "\u001b[36mFile \u001b[39m\u001b[32m~\\AppData\\Local\\Programs\\Python\\Python312\\Lib\\multiprocessing\\connection.py:430\u001b[39m, in \u001b[36mConnection._recv_bytes\u001b[39m\u001b[34m(self, maxsize)\u001b[39m\n\u001b[32m    429\u001b[39m \u001b[38;5;28;01mdef\u001b[39;00m\u001b[38;5;250m \u001b[39m\u001b[34m_recv_bytes\u001b[39m(\u001b[38;5;28mself\u001b[39m, maxsize=\u001b[38;5;28;01mNone\u001b[39;00m):\n\u001b[32m--> \u001b[39m\u001b[32m430\u001b[39m     buf = \u001b[38;5;28;43mself\u001b[39;49m\u001b[43m.\u001b[49m\u001b[43m_recv\u001b[49m\u001b[43m(\u001b[49m\u001b[32;43m4\u001b[39;49m\u001b[43m)\u001b[49m\n\u001b[32m    431\u001b[39m     size, = struct.unpack(\u001b[33m\"\u001b[39m\u001b[33m!i\u001b[39m\u001b[33m\"\u001b[39m, buf.getvalue())\n\u001b[32m    432\u001b[39m     \u001b[38;5;28;01mif\u001b[39;00m size == -\u001b[32m1\u001b[39m:\n",
      "\u001b[36mFile \u001b[39m\u001b[32m~\\AppData\\Local\\Programs\\Python\\Python312\\Lib\\multiprocessing\\connection.py:395\u001b[39m, in \u001b[36mConnection._recv\u001b[39m\u001b[34m(self, size, read)\u001b[39m\n\u001b[32m    393\u001b[39m remaining = size\n\u001b[32m    394\u001b[39m \u001b[38;5;28;01mwhile\u001b[39;00m remaining > \u001b[32m0\u001b[39m:\n\u001b[32m--> \u001b[39m\u001b[32m395\u001b[39m     chunk = \u001b[43mread\u001b[49m\u001b[43m(\u001b[49m\u001b[43mhandle\u001b[49m\u001b[43m,\u001b[49m\u001b[43m \u001b[49m\u001b[43mremaining\u001b[49m\u001b[43m)\u001b[49m\n\u001b[32m    396\u001b[39m     n = \u001b[38;5;28mlen\u001b[39m(chunk)\n\u001b[32m    397\u001b[39m     \u001b[38;5;28;01mif\u001b[39;00m n == \u001b[32m0\u001b[39m:\n",
      "\u001b[36mFile \u001b[39m\u001b[32mc:\\Users\\nolan\\OneDrive\\Desktop\\College\\Research\\Quantum Computing\\QCA\\clone\\LogicalQ\\venv\\Lib\\site-packages\\bqskit\\compiler\\compiler.py:521\u001b[39m, in \u001b[36msigint_handler\u001b[39m\u001b[34m(signum, frame, compiler)\u001b[39m\n\u001b[32m    519\u001b[39m _logger.critical(\u001b[33m'\u001b[39m\u001b[33mCompiler interrupted.\u001b[39m\u001b[33m'\u001b[39m)\n\u001b[32m    520\u001b[39m compiler.close()\n\u001b[32m--> \u001b[39m\u001b[32m521\u001b[39m \u001b[38;5;28;01mraise\u001b[39;00m \u001b[38;5;167;01mKeyboardInterrupt\u001b[39;00m\n",
      "\u001b[31mKeyboardInterrupt\u001b[39m: "
     ]
    }
   ],
   "source": [
    "from bqskit.compiler import Workflow\n",
    "from bqskit.ext import qiskit_to_bqskit\n",
    "\n",
    "qc = trotter_decomp\n",
    "\n",
    "circuit = qiskit_to_bqskit(qc)\n",
    "from bqskit import compile\n",
    "out_circuit = compile(circuit)\n",
    "\n",
    "#workflow = Workflow([TreeScanningGateRemovalPass(tree_depth=3)])\n",
    "#compiled_circuit = compile(circuit)\n",
    "#pm = PassManager()\n",
    "#pruned_circuit = pm.run(trotter_step_circuit)\n",
    "\n",
    "#print(\"Compiled Circuit Statistics\")\n",
    "#print(\"Gate Counts:\", out_circuit.gate_counts)\n",
    "#print(\"Connectivity:\", out_circuit.coupling_graph)\n",
    "\n",
    "from bqskit.ir.gates import CZGate, RZGate, SXGate\n",
    "gate_set = {CZGate(), RZGate(), SXGate()} \n",
    "\n",
    "# Build a MachineModel with this gate set\n",
    "# and the same number of qubits as the circuit\n",
    "from bqskit import MachineModel\n",
    "model = MachineModel(out_circuit.num_qudits, gate_set=gate_set)\n",
    "\n",
    "def compile_to_gateset(circuit, gate_set):\n",
    "    model = MachineModel(circuit.num_qudits, gate_set=gate_set)\n",
    "    return compile(circuit, model=model)\n",
    "\n",
    "# BGate CCXGate ToffoliGate CHGate ClockGate CPIGate CSGate CSUMGate CTGate CNOTGate CXGate CYGate CZGate ECRGate HGate IdentityGate ISwapGate IToffoliGate PDGate PermutationGate MargolusGate RC3XGate RCCXGate SGate SdgGate ShiftGate SqrtCNOTGate SqrtISwapGate SqrtTGate SubSwapGate SwapGate SqrtXGate SXGate SycamoreGate TGate TdgGate ConstantUnitaryGate XGate XXGate YGate YYGate ZGate ZZGate\n",
    "# [\"s\", \"sdg\", \"t\", \"tdg\", \"h\", \"x\", \"y\", \"z\", \"cz\"]\n",
    "from bqskit.ir.gates import ZZGate, SGate, SdgGate, TGate, TdgGate, HGate, XGate, YGate, ZGate, CZGate, CXGate\n",
    "quantinuum_like_gate_set = {ZZGate(), RZGate(), SXGate()}\n",
    "CliffordT_gate_set = {SGate(), SdgGate(), TGate(), TdgGate(), HGate(), XGate(), YGate(), ZGate(), CZGate(), CXGate()}\n",
    "\n",
    "out_circuit = compile_to_gateset(circuit, CliffordT_gate_set)"
   ]
  },
  {
   "cell_type": "code",
   "execution_count": null,
   "id": "74fa71bf",
   "metadata": {},
   "outputs": [
    {
     "ename": "TypeError",
     "evalue": "LEAPSynthesisPass.__init__() got an unexpected keyword argument 'gate_set'",
     "output_type": "error",
     "traceback": [
      "\u001b[31m---------------------------------------------------------------------------\u001b[39m",
      "\u001b[31mTypeError\u001b[39m                                 Traceback (most recent call last)",
      "\u001b[36mCell\u001b[39m\u001b[36m \u001b[39m\u001b[32mIn[43]\u001b[39m\u001b[32m, line 30\u001b[39m\n\u001b[32m     17\u001b[39m model = MachineModel(\n\u001b[32m     18\u001b[39m     circuit.num_qudits,\n\u001b[32m     19\u001b[39m     gate_set=CliffordT_gate_set\n\u001b[32m     20\u001b[39m )\n\u001b[32m     23\u001b[39m \u001b[38;5;66;03m# 3. BUILD THE CORRECT TWO-STAGE WORKFLOW ✅\u001b[39;00m\n\u001b[32m     24\u001b[39m workflow = Workflow([\n\u001b[32m     25\u001b[39m     \u001b[38;5;66;03m# Stage 1: Decompose the circuit into a sequence of smaller unitary blocks.\u001b[39;00m\n\u001b[32m     26\u001b[39m     \u001b[38;5;66;03m# Here, we specify blocks up to 3 qubits.\u001b[39;00m\n\u001b[32m     27\u001b[39m     UnfoldPass(),\n\u001b[32m     28\u001b[39m \n\u001b[32m     29\u001b[39m     \u001b[38;5;66;03m# Stage 2: Synthesize each of those blocks using the LEAP algorithm.\u001b[39;00m\n\u001b[32m---> \u001b[39m\u001b[32m30\u001b[39m     \u001b[43mLEAPSynthesisPass\u001b[49m\u001b[43m(\u001b[49m\u001b[43mgate_set\u001b[49m\u001b[43m=\u001b[49m\u001b[43mCliffordT_gate_set\u001b[49m\u001b[43m)\u001b[49m\n\u001b[32m     31\u001b[39m ])\n\u001b[32m     33\u001b[39m \u001b[38;5;66;03m# 4. COMPILE THE CIRCUIT\u001b[39;00m\n\u001b[32m     34\u001b[39m \u001b[38;5;28;01mwith\u001b[39;00m Compiler() \u001b[38;5;28;01mas\u001b[39;00m compiler:\n",
      "\u001b[31mTypeError\u001b[39m: LEAPSynthesisPass.__init__() got an unexpected keyword argument 'gate_set'"
     ]
    }
   ],
   "source": [
    "from bqskit.passes import UnfoldPass\n",
    "from bqskit.compiler import Compiler\n",
    "qc = trotter_decomp\n",
    "circuit = qiskit_to_bqskit(qc)\n",
    "\n",
    "CliffordT_gate_set = {\n",
    "    SGate(), SdgGate(), TGate(), TdgGate(), HGate(),\n",
    "    XGate(), YGate(), ZGate(), CZGate(), CXGate()\n",
    "}\n",
    "\n",
    "model = MachineModel(\n",
    "    circuit.num_qudits,\n",
    "    gate_set=CliffordT_gate_set\n",
    ")\n",
    "\n",
    "workflow = Workflow([\n",
    "    \n",
    "    UnfoldPass(),\n",
    "    LEAPSynthesisPass()\n",
    "])\n",
    "\n",
    "with Compiler() as compiler:\n",
    "    opt_circuit = compiler.compile(circuit, workflow=workflow)\n",
    "    \n",
    "#compiled_circuit = workflow.run(circuit, model)"
   ]
  },
  {
   "cell_type": "code",
   "execution_count": null,
   "id": "c7697451",
   "metadata": {},
   "outputs": [
    {
     "name": "stdout",
     "output_type": "stream",
     "text": [
      "Circuit Statistics\n",
      "Gate Counts: {U3Gate: 4}\n",
      "Logical Connectivity: CouplingGraph(set())\n",
      "Output gates are a subset of Clifford+T: False\n"
     ]
    }
   ],
   "source": [
    "import bqskit\n",
    "from bqskit.ir.gates import SGate, SdgGate, TGate, TdgGate, HGate, XGate, YGate, ZGate, CZGate, CNOTGate\n",
    "from bqskit.compiler import Compiler\n",
    "from bqskit.passes import ScanPartitioner, LEAPSynthesisPass, SetModelPass\n",
    "from bqskit.ext import qiskit_to_bqskit\n",
    "from bqskit.compiler import Workflow\n",
    "\n",
    "circuit = bqskit.Circuit(4) # Placeholder circuit\n",
    "\n",
    "model = MachineModel(\n",
    "    circuit.num_qudits,\n",
    "    gate_set=CliffordT_gate_set\n",
    ")\n",
    "\n",
    "workflow = Workflow([\n",
    "    SetModelPass(model),\n",
    "    ScanPartitioner(block_size=3),\n",
    "    LEAPSynthesisPass() \n",
    "])\n",
    "\n",
    "with Compiler() as compiler:\n",
    "    opt_circuit = compiler.compile(circuit, workflow=workflow)\n",
    "\n",
    "print(\"Circuit Statistics\")\n",
    "print(\"Gate Counts:\", opt_circuit.gate_counts)\n",
    "print(\"Logical Connectivity:\", opt_circuit.coupling_graph)\n",
    "output_gates = {g.name for g in opt_circuit.gate_set}\n",
    "expected_gates = {g.name for g in CliffordT_gate_set}\n",
    "print(f\"Output gates are a subset of Clifford+T: {output_gates.issubset(expected_gates)}\")"
   ]
  },
  {
   "cell_type": "code",
   "execution_count": 40,
   "id": "35168976",
   "metadata": {},
   "outputs": [
    {
     "data": {
      "text/plain": [
       "bqskit.ir.circuit.Circuit"
      ]
     },
     "execution_count": 40,
     "metadata": {},
     "output_type": "execute_result"
    }
   ],
   "source": [
    "type(opt_circuit)"
   ]
  },
  {
   "cell_type": "code",
   "execution_count": null,
   "id": "3a1f9c07",
   "metadata": {},
   "outputs": [],
   "source": [
    "print(\"\\nCompiled Circuit Statistics:\")\n",
    "print(f\"New gate count: {compiled_circuit.gate_counts.total}\")\n",
    "print(\"Gate Counts:\", compiled_circuit.gate_counts)"
   ]
  },
  {
   "cell_type": "code",
   "execution_count": 41,
   "id": "d7f1953b",
   "metadata": {},
   "outputs": [
    {
     "name": "stdout",
     "output_type": "stream",
     "text": [
      "Compiled Circuit Statistics\n",
      "Gate Counts: {RXGate: 3, CNOTGate: 3, RZGate: 3, RYGate: 6, U3Gate: 2}\n",
      "Connectivity: CouplingGraph({(0, 1)})\n"
     ]
    }
   ],
   "source": [
    "print(\"Compiled Circuit Statistics\")\n",
    "print(\"Gate Counts:\", compiled_circuit.gate_counts)\n",
    "print(\"Connectivity:\", compiled_circuit.coupling_graph)"
   ]
  },
  {
   "cell_type": "markdown",
   "id": "e854285a",
   "metadata": {},
   "source": [
    "quantinuum like\n",
    "Compiled Circuit Statistics\n",
    "Gate Counts: {ZZGate: 3, RZGate: 24, SqrtXGate: 16}\n",
    "Connectivity: CouplingGraph({(0, 1)})"
   ]
  },
  {
   "cell_type": "markdown",
   "id": "e80303fc",
   "metadata": {},
   "source": [
    "### Validate LogicalCircuit transpilation"
   ]
  },
  {
   "cell_type": "code",
   "execution_count": 21,
   "id": "0b952da5",
   "metadata": {},
   "outputs": [
    {
     "data": {
      "text/plain": [
       "{'cx', 'h', 's', 'sdg', 't', 'tdg'}"
      ]
     },
     "execution_count": 21,
     "metadata": {},
     "output_type": "execute_result"
    }
   ],
   "source": [
    "pm = PassManager([UnBoxTask()])\n",
    "trotter_decomp = pm.run(trotter_step_circuit)\n",
    "\n",
    "set([op.name for op in trotter_decomp.data])"
   ]
  },
  {
   "cell_type": "code",
   "execution_count": 22,
   "id": "73576e43",
   "metadata": {},
   "outputs": [],
   "source": [
    "J_coupling = 2 * np.pi * 6E6\n",
    "theta_final = np.pi / 4\n",
    "num_steps = 20\n",
    "dt = (theta_final / J_coupling) / num_steps\n",
    "\n",
    "initial_state_vector = np.array([1, 0, 2, 0]) / np.sqrt(5)\n",
    "initial_sv = Statevector(initial_state_vector)\n",
    "\n",
    "trotter_step_circuit = get_heisenberg_model_circuit(dt, J_coupling, depth=20, recursion_degree=1, initial_sv=initial_sv)\n",
    "#trotter_decomp = trotter_step_circuit.decompose(gates_to_decompose='circuit')\n",
    "pm = PassManager([UnBoxTask()])\n",
    "trotter_decomp = pm.run(trotter_step_circuit)\n",
    "\n",
    "#trotter_decomp.initialize(current_sv, [0,1])"
   ]
  },
  {
   "cell_type": "code",
   "execution_count": 61,
   "id": "1627ffd7",
   "metadata": {},
   "outputs": [
    {
     "data": {
      "text/plain": [
       "{'cx', 'h', 'initialize', 'sdg', 't'}"
      ]
     },
     "execution_count": 61,
     "metadata": {},
     "output_type": "execute_result"
    }
   ],
   "source": [
    "set([op.name for op in trotter_decomp.data])"
   ]
  },
  {
   "cell_type": "code",
   "execution_count": 61,
   "id": "480f3f24",
   "metadata": {},
   "outputs": [
    {
     "name": "stdout",
     "output_type": "stream",
     "text": [
      "Statevector([0.4472136 +0.j, 0.        +0.j, 0.89442719+0.j,\n",
      "             0.        +0.j],\n",
      "            dims=(2, 2))\n"
     ]
    }
   ],
   "source": [
    "Statevector(trotter_decomp.data[0].params)"
   ]
  },
  {
   "cell_type": "code",
   "execution_count": 57,
   "id": "c87e5049",
   "metadata": {},
   "outputs": [
    {
     "data": {
      "text/plain": [
       "[CircuitInstruction(operation=Instruction(name='initialize', num_qubits=2, num_clbits=0, params=[(0.4472135954999579+0j), 0j, (0.8944271909999159+0j), 0j]), qubits=(<Qubit register=(2, \"q\"), index=0>, <Qubit register=(2, \"q\"), index=1>), clbits=()), CircuitInstruction(operation=Instruction(name='box', num_qubits=2, num_clbits=0, params=[<qiskit.circuit.quantumcircuit.QuantumCircuit object at 0x000001D2B1EB7050>]), qubits=(<Qubit register=(2, \"q\"), index=0>, <Qubit register=(2, \"q\"), index=1>), clbits=()), CircuitInstruction(operation=Instruction(name='box', num_qubits=2, num_clbits=0, params=[<qiskit.circuit.quantumcircuit.QuantumCircuit object at 0x000001D2AFCB1760>]), qubits=(<Qubit register=(2, \"q\"), index=0>, <Qubit register=(2, \"q\"), index=1>), clbits=()), CircuitInstruction(operation=Instruction(name='box', num_qubits=2, num_clbits=0, params=[<qiskit.circuit.quantumcircuit.QuantumCircuit object at 0x000001D2B1EB67B0>]), qubits=(<Qubit register=(2, \"q\"), index=0>, <Qubit register=(2, \"q\"), index=1>), clbits=())]"
      ]
     },
     "execution_count": 57,
     "metadata": {},
     "output_type": "execute_result"
    }
   ],
   "source": [
    "trotter_step_circuit.data"
   ]
  },
  {
   "cell_type": "code",
   "execution_count": 60,
   "id": "88cc7bd9",
   "metadata": {},
   "outputs": [
    {
     "data": {
      "image/png": "[encoded data removed]",
      "text/plain": [
       "<Figure size 1374.24x200.667 with 1 Axes>"
      ]
     },
     "execution_count": 60,
     "metadata": {},
     "output_type": "execute_result"
    }
   ],
   "source": [
    "trotter_decomp.draw(output='mpl')"
   ]
  },
  {
   "cell_type": "code",
   "execution_count": 23,
   "id": "139f95f4",
   "metadata": {},
   "outputs": [
    {
     "ename": "RecursionError",
     "evalue": "maximum recursion depth exceeded",
     "output_type": "error",
     "traceback": [
      "\u001b[31m---------------------------------------------------------------------------\u001b[39m",
      "\u001b[31mRecursionError\u001b[39m                            Traceback (most recent call last)",
      "\u001b[36mCell\u001b[39m\u001b[36m \u001b[39m\u001b[32mIn[23]\u001b[39m\u001b[32m, line 1\u001b[39m\n\u001b[32m----> \u001b[39m\u001b[32m1\u001b[39m lqcirc = \u001b[43mLogicalCircuit\u001b[49m\u001b[43m.\u001b[49m\u001b[43mfrom_physical_circuit\u001b[49m\u001b[43m(\u001b[49m\u001b[43mtrotter_decomp\u001b[49m\u001b[43m,\u001b[49m\u001b[43m \u001b[49m\u001b[43m*\u001b[49m\u001b[43m*\u001b[49m\u001b[43msteane_code\u001b[49m\u001b[43m)\u001b[49m    \n\u001b[32m      2\u001b[39m lqcirc.encode([\u001b[32m0\u001b[39m, \u001b[32m1\u001b[39m])\n\u001b[32m      3\u001b[39m lqcirc.measure([\u001b[32m0\u001b[39m, \u001b[32m1\u001b[39m], [\u001b[32m0\u001b[39m, \u001b[32m1\u001b[39m], with_error_correction=\u001b[38;5;28;01mFalse\u001b[39;00m)\n",
      "\u001b[36mFile \u001b[39m\u001b[32m~\\OneDrive\\Desktop\\College\\Research\\Quantum Computing\\QCA\\clone\\LogicalQ\\LogicalQ\\Logical.py:111\u001b[39m, in \u001b[36mLogicalCircuit.from_physical_circuit\u001b[39m\u001b[34m(cls, physical_circuit, label, stabilizer_tableau, name, max_iterations)\u001b[39m\n\u001b[32m    108\u001b[39m \u001b[38;5;28;01mfor\u001b[39;00m i \u001b[38;5;129;01min\u001b[39;00m \u001b[38;5;28mrange\u001b[39m(\u001b[38;5;28mlen\u001b[39m(physical_circuit.data)):\n\u001b[32m    109\u001b[39m     circuit_instruction = physical_circuit.data[i]\n\u001b[32m--> \u001b[39m\u001b[32m111\u001b[39m     \u001b[43mlogical_circuit\u001b[49m\u001b[43m.\u001b[49m\u001b[43mappend\u001b[49m\u001b[43m(\u001b[49m\u001b[43mcircuit_instruction\u001b[49m\u001b[43m)\u001b[49m\n\u001b[32m    113\u001b[39m \u001b[38;5;28;01mreturn\u001b[39;00m logical_circuit\n",
      "\u001b[36mFile \u001b[39m\u001b[32m~\\OneDrive\\Desktop\\College\\Research\\Quantum Computing\\QCA\\clone\\LogicalQ\\LogicalQ\\Logical.py:1430\u001b[39m, in \u001b[36mLogicalCircuit.append\u001b[39m\u001b[34m(self, instruction, qargs, cargs, copy)\u001b[39m\n\u001b[32m   1426\u001b[39m     \u001b[38;5;66;03m#if isinstance(sv, list):\u001b[39;00m\n\u001b[32m   1427\u001b[39m     \u001b[38;5;66;03m#    sv = Statevector(sv)\u001b[39;00m\n\u001b[32m   1429\u001b[39m     lsv = LogicalStatevector(sv, \u001b[38;5;28mlen\u001b[39m(qubits), \u001b[38;5;28mself\u001b[39m.label, \u001b[38;5;28mself\u001b[39m.stabilizer_tableau)\n\u001b[32m-> \u001b[39m\u001b[32m1430\u001b[39m     \u001b[38;5;28;43mself\u001b[39;49m\u001b[43m.\u001b[49m\u001b[43minitialize\u001b[49m\u001b[43m(\u001b[49m\u001b[43mlsv\u001b[49m\u001b[43m.\u001b[49m\u001b[43mdata\u001b[49m\u001b[43m)\u001b[49m\n\u001b[32m   1431\u001b[39m \u001b[38;5;28;01mcase\u001b[39;00m \u001b[33m\"\u001b[39m\u001b[33mmcmt\u001b[39m\u001b[33m\"\u001b[39m:\n\u001b[32m   1432\u001b[39m     \u001b[38;5;28;01mraise\u001b[39;00m \u001b[38;5;167;01mNotImplementedError\u001b[39;00m(\u001b[33mf\u001b[39m\u001b[33m\"\u001b[39m\u001b[33mPhysical operation \u001b[39m\u001b[33m'\u001b[39m\u001b[33mMCMT\u001b[39m\u001b[33m'\u001b[39m\u001b[33m does not have physical gate conversion implemented!\u001b[39m\u001b[33m\"\u001b[39m)\n",
      "\u001b[36mFile \u001b[39m\u001b[32mc:\\Users\\nolan\\OneDrive\\Desktop\\College\\Research\\Quantum Computing\\QCA\\clone\\LogicalQ\\venv\\Lib\\site-packages\\qiskit\\circuit\\quantumcircuit.py:6710\u001b[39m, in \u001b[36mQuantumCircuit.initialize\u001b[39m\u001b[34m(self, params, qubits, normalize)\u001b[39m\n\u001b[32m   6706\u001b[39m     qubits = [qubits]\n\u001b[32m   6708\u001b[39m num_qubits = \u001b[38;5;28mlen\u001b[39m(qubits) \u001b[38;5;28;01mif\u001b[39;00m \u001b[38;5;28misinstance\u001b[39m(params, \u001b[38;5;28mint\u001b[39m) \u001b[38;5;28;01melse\u001b[39;00m \u001b[38;5;28;01mNone\u001b[39;00m\n\u001b[32m-> \u001b[39m\u001b[32m6710\u001b[39m \u001b[38;5;28;01mreturn\u001b[39;00m \u001b[38;5;28;43mself\u001b[39;49m\u001b[43m.\u001b[49m\u001b[43mappend\u001b[49m\u001b[43m(\u001b[49m\u001b[43mInitialize\u001b[49m\u001b[43m(\u001b[49m\u001b[43mparams\u001b[49m\u001b[43m,\u001b[49m\u001b[43m \u001b[49m\u001b[43mnum_qubits\u001b[49m\u001b[43m,\u001b[49m\u001b[43m \u001b[49m\u001b[43mnormalize\u001b[49m\u001b[43m)\u001b[49m\u001b[43m,\u001b[49m\u001b[43m \u001b[49m\u001b[43mqubits\u001b[49m\u001b[43m,\u001b[49m\u001b[43m \u001b[49m\u001b[43mcopy\u001b[49m\u001b[43m=\u001b[49m\u001b[38;5;28;43;01mFalse\u001b[39;49;00m\u001b[43m)\u001b[49m\n",
      "\u001b[36mFile \u001b[39m\u001b[32m~\\OneDrive\\Desktop\\College\\Research\\Quantum Computing\\QCA\\clone\\LogicalQ\\LogicalQ\\Logical.py:1430\u001b[39m, in \u001b[36mLogicalCircuit.append\u001b[39m\u001b[34m(self, instruction, qargs, cargs, copy)\u001b[39m\n\u001b[32m   1426\u001b[39m     \u001b[38;5;66;03m#if isinstance(sv, list):\u001b[39;00m\n\u001b[32m   1427\u001b[39m     \u001b[38;5;66;03m#    sv = Statevector(sv)\u001b[39;00m\n\u001b[32m   1429\u001b[39m     lsv = LogicalStatevector(sv, \u001b[38;5;28mlen\u001b[39m(qubits), \u001b[38;5;28mself\u001b[39m.label, \u001b[38;5;28mself\u001b[39m.stabilizer_tableau)\n\u001b[32m-> \u001b[39m\u001b[32m1430\u001b[39m     \u001b[38;5;28;43mself\u001b[39;49m\u001b[43m.\u001b[49m\u001b[43minitialize\u001b[49m\u001b[43m(\u001b[49m\u001b[43mlsv\u001b[49m\u001b[43m.\u001b[49m\u001b[43mdata\u001b[49m\u001b[43m)\u001b[49m\n\u001b[32m   1431\u001b[39m \u001b[38;5;28;01mcase\u001b[39;00m \u001b[33m\"\u001b[39m\u001b[33mmcmt\u001b[39m\u001b[33m\"\u001b[39m:\n\u001b[32m   1432\u001b[39m     \u001b[38;5;28;01mraise\u001b[39;00m \u001b[38;5;167;01mNotImplementedError\u001b[39;00m(\u001b[33mf\u001b[39m\u001b[33m\"\u001b[39m\u001b[33mPhysical operation \u001b[39m\u001b[33m'\u001b[39m\u001b[33mMCMT\u001b[39m\u001b[33m'\u001b[39m\u001b[33m does not have physical gate conversion implemented!\u001b[39m\u001b[33m\"\u001b[39m)\n",
      "\u001b[36mFile \u001b[39m\u001b[32mc:\\Users\\nolan\\OneDrive\\Desktop\\College\\Research\\Quantum Computing\\QCA\\clone\\LogicalQ\\venv\\Lib\\site-packages\\qiskit\\circuit\\quantumcircuit.py:6710\u001b[39m, in \u001b[36mQuantumCircuit.initialize\u001b[39m\u001b[34m(self, params, qubits, normalize)\u001b[39m\n\u001b[32m   6706\u001b[39m     qubits = [qubits]\n\u001b[32m   6708\u001b[39m num_qubits = \u001b[38;5;28mlen\u001b[39m(qubits) \u001b[38;5;28;01mif\u001b[39;00m \u001b[38;5;28misinstance\u001b[39m(params, \u001b[38;5;28mint\u001b[39m) \u001b[38;5;28;01melse\u001b[39;00m \u001b[38;5;28;01mNone\u001b[39;00m\n\u001b[32m-> \u001b[39m\u001b[32m6710\u001b[39m \u001b[38;5;28;01mreturn\u001b[39;00m \u001b[38;5;28;43mself\u001b[39;49m\u001b[43m.\u001b[49m\u001b[43mappend\u001b[49m\u001b[43m(\u001b[49m\u001b[43mInitialize\u001b[49m\u001b[43m(\u001b[49m\u001b[43mparams\u001b[49m\u001b[43m,\u001b[49m\u001b[43m \u001b[49m\u001b[43mnum_qubits\u001b[49m\u001b[43m,\u001b[49m\u001b[43m \u001b[49m\u001b[43mnormalize\u001b[49m\u001b[43m)\u001b[49m\u001b[43m,\u001b[49m\u001b[43m \u001b[49m\u001b[43mqubits\u001b[49m\u001b[43m,\u001b[49m\u001b[43m \u001b[49m\u001b[43mcopy\u001b[49m\u001b[43m=\u001b[49m\u001b[38;5;28;43;01mFalse\u001b[39;49;00m\u001b[43m)\u001b[49m\n",
      "    \u001b[31m[... skipping similar frames: LogicalCircuit.append at line 1430 (1483 times), QuantumCircuit.initialize at line 6710 (1483 times)]\u001b[39m\n",
      "\u001b[36mFile \u001b[39m\u001b[32m~\\OneDrive\\Desktop\\College\\Research\\Quantum Computing\\QCA\\clone\\LogicalQ\\LogicalQ\\Logical.py:1430\u001b[39m, in \u001b[36mLogicalCircuit.append\u001b[39m\u001b[34m(self, instruction, qargs, cargs, copy)\u001b[39m\n\u001b[32m   1426\u001b[39m     \u001b[38;5;66;03m#if isinstance(sv, list):\u001b[39;00m\n\u001b[32m   1427\u001b[39m     \u001b[38;5;66;03m#    sv = Statevector(sv)\u001b[39;00m\n\u001b[32m   1429\u001b[39m     lsv = LogicalStatevector(sv, \u001b[38;5;28mlen\u001b[39m(qubits), \u001b[38;5;28mself\u001b[39m.label, \u001b[38;5;28mself\u001b[39m.stabilizer_tableau)\n\u001b[32m-> \u001b[39m\u001b[32m1430\u001b[39m     \u001b[38;5;28;43mself\u001b[39;49m\u001b[43m.\u001b[49m\u001b[43minitialize\u001b[49m\u001b[43m(\u001b[49m\u001b[43mlsv\u001b[49m\u001b[43m.\u001b[49m\u001b[43mdata\u001b[49m\u001b[43m)\u001b[49m\n\u001b[32m   1431\u001b[39m \u001b[38;5;28;01mcase\u001b[39;00m \u001b[33m\"\u001b[39m\u001b[33mmcmt\u001b[39m\u001b[33m\"\u001b[39m:\n\u001b[32m   1432\u001b[39m     \u001b[38;5;28;01mraise\u001b[39;00m \u001b[38;5;167;01mNotImplementedError\u001b[39;00m(\u001b[33mf\u001b[39m\u001b[33m\"\u001b[39m\u001b[33mPhysical operation \u001b[39m\u001b[33m'\u001b[39m\u001b[33mMCMT\u001b[39m\u001b[33m'\u001b[39m\u001b[33m does not have physical gate conversion implemented!\u001b[39m\u001b[33m\"\u001b[39m)\n",
      "\u001b[36mFile \u001b[39m\u001b[32mc:\\Users\\nolan\\OneDrive\\Desktop\\College\\Research\\Quantum Computing\\QCA\\clone\\LogicalQ\\venv\\Lib\\site-packages\\qiskit\\circuit\\quantumcircuit.py:6710\u001b[39m, in \u001b[36mQuantumCircuit.initialize\u001b[39m\u001b[34m(self, params, qubits, normalize)\u001b[39m\n\u001b[32m   6706\u001b[39m     qubits = [qubits]\n\u001b[32m   6708\u001b[39m num_qubits = \u001b[38;5;28mlen\u001b[39m(qubits) \u001b[38;5;28;01mif\u001b[39;00m \u001b[38;5;28misinstance\u001b[39m(params, \u001b[38;5;28mint\u001b[39m) \u001b[38;5;28;01melse\u001b[39;00m \u001b[38;5;28;01mNone\u001b[39;00m\n\u001b[32m-> \u001b[39m\u001b[32m6710\u001b[39m \u001b[38;5;28;01mreturn\u001b[39;00m \u001b[38;5;28mself\u001b[39m.append(\u001b[43mInitialize\u001b[49m\u001b[43m(\u001b[49m\u001b[43mparams\u001b[49m\u001b[43m,\u001b[49m\u001b[43m \u001b[49m\u001b[43mnum_qubits\u001b[49m\u001b[43m,\u001b[49m\u001b[43m \u001b[49m\u001b[43mnormalize\u001b[49m\u001b[43m)\u001b[49m, qubits, copy=\u001b[38;5;28;01mFalse\u001b[39;00m)\n",
      "\u001b[36mFile \u001b[39m\u001b[32mc:\\Users\\nolan\\OneDrive\\Desktop\\College\\Research\\Quantum Computing\\QCA\\clone\\LogicalQ\\venv\\Lib\\site-packages\\qiskit\\circuit\\library\\data_preparation\\initializer.py:76\u001b[39m, in \u001b[36mInitialize.__init__\u001b[39m\u001b[34m(self, params, num_qubits, normalize)\u001b[39m\n\u001b[32m     51\u001b[39m \u001b[38;5;28;01mdef\u001b[39;00m\u001b[38;5;250m \u001b[39m\u001b[34m__init__\u001b[39m(\n\u001b[32m     52\u001b[39m     \u001b[38;5;28mself\u001b[39m,\n\u001b[32m     53\u001b[39m     params: Statevector | Sequence[\u001b[38;5;28mcomplex\u001b[39m] | \u001b[38;5;28mstr\u001b[39m | \u001b[38;5;28mint\u001b[39m,\n\u001b[32m     54\u001b[39m     num_qubits: \u001b[38;5;28mint\u001b[39m | \u001b[38;5;28;01mNone\u001b[39;00m = \u001b[38;5;28;01mNone\u001b[39;00m,\n\u001b[32m     55\u001b[39m     normalize: \u001b[38;5;28mbool\u001b[39m = \u001b[38;5;28;01mFalse\u001b[39;00m,\n\u001b[32m     56\u001b[39m ) -> \u001b[38;5;28;01mNone\u001b[39;00m:\n\u001b[32m     57\u001b[39m \u001b[38;5;250m    \u001b[39m\u001b[33mr\u001b[39m\u001b[33;03m\"\"\"\u001b[39;00m\n\u001b[32m     58\u001b[39m \u001b[33;03m    Args:\u001b[39;00m\n\u001b[32m     59\u001b[39m \u001b[33;03m        params: The state to initialize to, can be either of the following.\u001b[39;00m\n\u001b[32m   (...)\u001b[39m\u001b[32m     74\u001b[39m \u001b[33;03m        normalize: Whether to normalize an input array to a unit vector.\u001b[39;00m\n\u001b[32m     75\u001b[39m \u001b[33;03m    \"\"\"\u001b[39;00m\n\u001b[32m---> \u001b[39m\u001b[32m76\u001b[39m     \u001b[38;5;28mself\u001b[39m._stateprep = \u001b[43mStatePreparation\u001b[49m\u001b[43m(\u001b[49m\u001b[43mparams\u001b[49m\u001b[43m,\u001b[49m\u001b[43m \u001b[49m\u001b[43mnum_qubits\u001b[49m\u001b[43m,\u001b[49m\u001b[43m \u001b[49m\u001b[43mnormalize\u001b[49m\u001b[43m=\u001b[49m\u001b[43mnormalize\u001b[49m\u001b[43m)\u001b[49m\n\u001b[32m     78\u001b[39m     \u001b[38;5;28msuper\u001b[39m().\u001b[34m__init__\u001b[39m(\u001b[33m\"\u001b[39m\u001b[33minitialize\u001b[39m\u001b[33m\"\u001b[39m, \u001b[38;5;28mself\u001b[39m._stateprep.num_qubits, \u001b[32m0\u001b[39m, \u001b[38;5;28mself\u001b[39m._stateprep.params)\n",
      "\u001b[36mFile \u001b[39m\u001b[32mc:\\Users\\nolan\\OneDrive\\Desktop\\College\\Research\\Quantum Computing\\QCA\\clone\\LogicalQ\\venv\\Lib\\site-packages\\qiskit\\circuit\\library\\data_preparation\\state_preparation.py:115\u001b[39m, in \u001b[36mStatePreparation.__init__\u001b[39m\u001b[34m(self, params, num_qubits, inverse, label, normalize)\u001b[39m\n\u001b[32m    112\u001b[39m num_qubits = \u001b[38;5;28mself\u001b[39m._get_num_qubits(num_qubits, params)\n\u001b[32m    113\u001b[39m params = [params] \u001b[38;5;28;01mif\u001b[39;00m \u001b[38;5;28misinstance\u001b[39m(params, \u001b[38;5;28mint\u001b[39m) \u001b[38;5;28;01melse\u001b[39;00m params\n\u001b[32m--> \u001b[39m\u001b[32m115\u001b[39m \u001b[38;5;28;43msuper\u001b[39;49m\u001b[43m(\u001b[49m\u001b[43m)\u001b[49m\u001b[43m.\u001b[49m\u001b[34;43m__init__\u001b[39;49m\u001b[43m(\u001b[49m\u001b[38;5;28;43mself\u001b[39;49m\u001b[43m.\u001b[49m\u001b[43m_name\u001b[49m\u001b[43m,\u001b[49m\u001b[43m \u001b[49m\u001b[43mnum_qubits\u001b[49m\u001b[43m,\u001b[49m\u001b[43m \u001b[49m\u001b[43mparams\u001b[49m\u001b[43m,\u001b[49m\u001b[43m \u001b[49m\u001b[43mlabel\u001b[49m\u001b[43m=\u001b[49m\u001b[38;5;28;43mself\u001b[39;49m\u001b[43m.\u001b[49m\u001b[43m_label\u001b[49m\u001b[43m)\u001b[49m\n",
      "\u001b[36mFile \u001b[39m\u001b[32mc:\\Users\\nolan\\OneDrive\\Desktop\\College\\Research\\Quantum Computing\\QCA\\clone\\LogicalQ\\venv\\Lib\\site-packages\\qiskit\\circuit\\gate.py:43\u001b[39m, in \u001b[36mGate.__init__\u001b[39m\u001b[34m(self, name, num_qubits, params, label)\u001b[39m\n\u001b[32m     35\u001b[39m \u001b[38;5;250m\u001b[39m\u001b[33;03m\"\"\"\u001b[39;00m\n\u001b[32m     36\u001b[39m \u001b[33;03mArgs:\u001b[39;00m\n\u001b[32m     37\u001b[39m \u001b[33;03m    name: The name of the gate.\u001b[39;00m\n\u001b[32m   (...)\u001b[39m\u001b[32m     40\u001b[39m \u001b[33;03m    label: An optional label for the gate.\u001b[39;00m\n\u001b[32m     41\u001b[39m \u001b[33;03m\"\"\"\u001b[39;00m\n\u001b[32m     42\u001b[39m \u001b[38;5;28mself\u001b[39m.definition = \u001b[38;5;28;01mNone\u001b[39;00m\n\u001b[32m---> \u001b[39m\u001b[32m43\u001b[39m \u001b[38;5;28;43msuper\u001b[39;49m\u001b[43m(\u001b[49m\u001b[43m)\u001b[49m\u001b[43m.\u001b[49m\u001b[34;43m__init__\u001b[39;49m\u001b[43m(\u001b[49m\u001b[43mname\u001b[49m\u001b[43m,\u001b[49m\u001b[43m \u001b[49m\u001b[43mnum_qubits\u001b[49m\u001b[43m,\u001b[49m\u001b[43m \u001b[49m\u001b[32;43m0\u001b[39;49m\u001b[43m,\u001b[49m\u001b[43m \u001b[49m\u001b[43mparams\u001b[49m\u001b[43m,\u001b[49m\u001b[43m \u001b[49m\u001b[43mlabel\u001b[49m\u001b[43m=\u001b[49m\u001b[43mlabel\u001b[49m\u001b[43m)\u001b[49m\n",
      "\u001b[36mFile \u001b[39m\u001b[32mc:\\Users\\nolan\\OneDrive\\Desktop\\College\\Research\\Quantum Computing\\QCA\\clone\\LogicalQ\\venv\\Lib\\site-packages\\qiskit\\circuit\\instruction.py:102\u001b[39m, in \u001b[36mInstruction.__init__\u001b[39m\u001b[34m(self, name, num_qubits, num_clbits, params, label)\u001b[39m\n\u001b[32m     98\u001b[39m \u001b[38;5;66;03m# list of instructions (and their contexts) that this instruction is composed of\u001b[39;00m\n\u001b[32m     99\u001b[39m \u001b[38;5;66;03m# empty definition means opaque or fundamental instruction\u001b[39;00m\n\u001b[32m    100\u001b[39m \u001b[38;5;28mself\u001b[39m._definition = \u001b[38;5;28;01mNone\u001b[39;00m\n\u001b[32m--> \u001b[39m\u001b[32m102\u001b[39m \u001b[38;5;28;43mself\u001b[39;49m\u001b[43m.\u001b[49m\u001b[43mparams\u001b[49m = params\n",
      "\u001b[31mRecursionError\u001b[39m: maximum recursion depth exceeded"
     ]
    }
   ],
   "source": [
    "lqcirc = LogicalCircuit.from_physical_circuit(trotter_decomp, **steane_code)    \n",
    "lqcirc.encode([0, 1])\n",
    "lqcirc.measure([0, 1], [0, 1], with_error_correction=False)\n",
    "\n",
    "pm = PassManager([UnBoxTask()])\n",
    "unboxed_circuit = pm.run(lqcirc)\n",
    "#unboxed_circuit.draw(output=\"mpl\")"
   ]
  },
  {
   "cell_type": "code",
   "execution_count": 22,
   "id": "8a6fdc24",
   "metadata": {},
   "outputs": [
    {
     "data": {
      "text/plain": [
       "OrderedDict([('h', 1304),\n",
       "             ('clogical.logicalop.z.transversal:$\\\\hat{Z}_{L}$', 380),\n",
       "             ('clogical.logicalop.x.transversal:$\\\\hat{X}_{L}$', 238),\n",
       "             ('cclogical.logicalop.z.transversal:$\\\\hat{Z}_{L}$', 216),\n",
       "             ('s', 122),\n",
       "             ('sdg', 122),\n",
       "             ('x', 117),\n",
       "             ('t', 108),\n",
       "             ('tdg', 108),\n",
       "             ('cx', 56),\n",
       "             ('reset', 32),\n",
       "             ('measure', 18),\n",
       "             ('if_else', 2)])"
      ]
     },
     "execution_count": 22,
     "metadata": {},
     "output_type": "execute_result"
    }
   ],
   "source": [
    "unboxed_circuit.count_ops()"
   ]
  },
  {
   "cell_type": "code",
   "execution_count": 38,
   "id": "52f238c4",
   "metadata": {},
   "outputs": [
    {
     "name": "stdout",
     "output_type": "stream",
     "text": [
      "Num ops: 2823\n"
     ]
    }
   ],
   "source": [
    "print(f\"Num ops: {sum(list(unboxed_circuit.count_ops().values()))}\")"
   ]
  },
  {
   "cell_type": "code",
   "execution_count": null,
   "id": "60ac4033",
   "metadata": {},
   "outputs": [
    {
     "data": {
      "application/vnd.jupyter.widget-view+json": {
       "model_id": "8179edcbba2248858ad1e2dfadc88ca0",
       "version_major": 2,
       "version_minor": 0
      },
      "text/plain": [
       "  0%|          | 0/20 [00:00<?, ?it/s]"
      ]
     },
     "metadata": {},
     "output_type": "display_data"
    },
    {
     "ename": "CircuitError",
     "evalue": "'Bit \\'<Qubit register=(2, \"q\"), index=0>\\' is not in the circuit.'",
     "output_type": "error",
     "traceback": [
      "\u001b[31m---------------------------------------------------------------------------\u001b[39m",
      "\u001b[31mCircuitError\u001b[39m                              Traceback (most recent call last)",
      "\u001b[36mCell\u001b[39m\u001b[36m \u001b[39m\u001b[32mIn[27]\u001b[39m\u001b[32m, line 46\u001b[39m\n\u001b[32m     41\u001b[39m \u001b[38;5;28;01mfor\u001b[39;00m step \u001b[38;5;129;01min\u001b[39;00m tqdm(\u001b[38;5;28mrange\u001b[39m(num_steps)):\n\u001b[32m     42\u001b[39m     \u001b[38;5;66;03m# Evolve current statevector by 1 iter.\u001b[39;00m\n\u001b[32m     43\u001b[39m     \u001b[38;5;66;03m#current_sv = current_sv.evolve(lg_trotter_step_circuit)\u001b[39;00m\n\u001b[32m     44\u001b[39m     \u001b[38;5;66;03m#trotter_step_circuit.initialize(current_sv)\u001b[39;00m\n\u001b[32m     45\u001b[39m     trotter_step_circuit = get_heisenberg_model_circuit(dt, J_coupling, depth=\u001b[32m20\u001b[39m, recursion_degree=\u001b[32m1\u001b[39m, initial_sv=current_sv)\n\u001b[32m---> \u001b[39m\u001b[32m46\u001b[39m     lqcirc = \u001b[43mLogicalCircuit\u001b[49m\u001b[43m.\u001b[49m\u001b[43mfrom_physical_circuit\u001b[49m\u001b[43m(\u001b[49m\u001b[43mtrotter_step_circuit\u001b[49m\u001b[43m.\u001b[49m\u001b[43mdecompose\u001b[49m\u001b[43m(\u001b[49m\u001b[43m)\u001b[49m\u001b[43m,\u001b[49m\u001b[43m \u001b[49m\u001b[43m*\u001b[49m\u001b[43m*\u001b[49m\u001b[43msteane_code\u001b[49m\u001b[43m)\u001b[49m    \n\u001b[32m     47\u001b[39m     lqcirc.encode(\u001b[32m0\u001b[39m)\n\u001b[32m     48\u001b[39m     lqcirc.measure([\u001b[32m0\u001b[39m, \u001b[32m1\u001b[39m], [\u001b[32m0\u001b[39m, \u001b[32m1\u001b[39m], with_error_correction=\u001b[38;5;28;01mFalse\u001b[39;00m)\n",
      "\u001b[36mFile \u001b[39m\u001b[32m~\\OneDrive\\Desktop\\College\\Research\\Quantum Computing\\QCA\\clone\\LogicalQ\\LogicalQ\\Logical.py:111\u001b[39m, in \u001b[36mLogicalCircuit.from_physical_circuit\u001b[39m\u001b[34m(cls, physical_circuit, label, stabilizer_tableau, name, max_iterations)\u001b[39m\n\u001b[32m    108\u001b[39m \u001b[38;5;28;01mfor\u001b[39;00m i \u001b[38;5;129;01min\u001b[39;00m \u001b[38;5;28mrange\u001b[39m(\u001b[38;5;28mlen\u001b[39m(physical_circuit.data)):\n\u001b[32m    109\u001b[39m     circuit_instruction = physical_circuit.data[i]\n\u001b[32m--> \u001b[39m\u001b[32m111\u001b[39m     \u001b[43mlogical_circuit\u001b[49m\u001b[43m.\u001b[49m\u001b[43mappend\u001b[49m\u001b[43m(\u001b[49m\u001b[43mcircuit_instruction\u001b[49m\u001b[43m)\u001b[49m\n\u001b[32m    113\u001b[39m \u001b[38;5;28;01mreturn\u001b[39;00m logical_circuit\n",
      "\u001b[36mFile \u001b[39m\u001b[32m~\\OneDrive\\Desktop\\College\\Research\\Quantum Computing\\QCA\\clone\\LogicalQ\\LogicalQ\\Logical.py:1439\u001b[39m, in \u001b[36mLogicalCircuit.append\u001b[39m\u001b[34m(self, instruction, qargs, cargs, copy)\u001b[39m\n\u001b[32m   1434\u001b[39m         \u001b[38;5;28;01mpass\u001b[39;00m\n\u001b[32m   1435\u001b[39m     \u001b[38;5;28;01mcase\u001b[39;00m\u001b[38;5;250m \u001b[39m\u001b[38;5;28;01m_\u001b[39;00m:\n\u001b[32m   1436\u001b[39m         \u001b[38;5;66;03m# @TODO - identify a better way of providing these warnings\u001b[39;00m\n\u001b[32m   1437\u001b[39m         \u001b[38;5;66;03m# print(f\"WARNING: Physical operation '{operation.upper()}' does not have a logical counterpart implemented! Defaulting to physical operation.\")\u001b[39;00m\n\u001b[32m-> \u001b[39m\u001b[32m1439\u001b[39m         instruction = \u001b[38;5;28;43msuper\u001b[39;49m\u001b[43m(\u001b[49m\u001b[43m)\u001b[49m\u001b[43m.\u001b[49m\u001b[43mappend\u001b[49m\u001b[43m(\u001b[49m\u001b[43minstruction\u001b[49m\u001b[43m,\u001b[49m\u001b[43m \u001b[49m\u001b[43mqargs\u001b[49m\u001b[43m,\u001b[49m\u001b[43m \u001b[49m\u001b[43mcargs\u001b[49m\u001b[43m,\u001b[49m\u001b[43m \u001b[49m\u001b[43mcopy\u001b[49m\u001b[43m=\u001b[49m\u001b[43mcopy\u001b[49m\u001b[43m)\u001b[49m\n\u001b[32m   1441\u001b[39m \u001b[38;5;28;01mreturn\u001b[39;00m instruction\n",
      "\u001b[36mFile \u001b[39m\u001b[32mc:\\Users\\nolan\\OneDrive\\Desktop\\College\\Research\\Quantum Computing\\QCA\\clone\\LogicalQ\\venv\\Lib\\site-packages\\qiskit\\circuit\\quantumcircuit.py:2849\u001b[39m, in \u001b[36mQuantumCircuit.append\u001b[39m\u001b[34m(self, instruction, qargs, cargs, copy)\u001b[39m\n\u001b[32m   2837\u001b[39m     \u001b[38;5;28;01mif\u001b[39;00m bad_captures := {\n\u001b[32m   2838\u001b[39m         var\n\u001b[32m   2839\u001b[39m         \u001b[38;5;28;01mfor\u001b[39;00m var \u001b[38;5;129;01min\u001b[39;00m itertools.chain.from_iterable(\n\u001b[32m   (...)\u001b[39m\u001b[32m   2842\u001b[39m         \u001b[38;5;28;01mif\u001b[39;00m \u001b[38;5;129;01mnot\u001b[39;00m \u001b[38;5;28mself\u001b[39m.has_identifier(var)\n\u001b[32m   2843\u001b[39m     }:\n\u001b[32m   2844\u001b[39m         \u001b[38;5;28;01mraise\u001b[39;00m CircuitError(\n\u001b[32m   2845\u001b[39m             \u001b[33mf\u001b[39m\u001b[33m\"\u001b[39m\u001b[33mControl-flow op attempts to capture \u001b[39m\u001b[33m'\u001b[39m\u001b[38;5;132;01m{\u001b[39;00mbad_captures\u001b[38;5;132;01m}\u001b[39;00m\u001b[33m'\u001b[39m\u001b[33m\"\u001b[39m\n\u001b[32m   2846\u001b[39m             \u001b[33m\"\u001b[39m\u001b[33m which are not in this circuit\u001b[39m\u001b[33m\"\u001b[39m\n\u001b[32m   2847\u001b[39m         )\n\u001b[32m-> \u001b[39m\u001b[32m2849\u001b[39m expanded_qargs = [\u001b[38;5;28;43mself\u001b[39;49m\u001b[43m.\u001b[49m\u001b[43m_qbit_argument_conversion\u001b[49m\u001b[43m(\u001b[49m\u001b[43mqarg\u001b[49m\u001b[43m)\u001b[49m \u001b[38;5;28;01mfor\u001b[39;00m qarg \u001b[38;5;129;01min\u001b[39;00m qargs \u001b[38;5;129;01mor\u001b[39;00m []]\n\u001b[32m   2850\u001b[39m expanded_cargs = [\u001b[38;5;28mself\u001b[39m._cbit_argument_conversion(carg) \u001b[38;5;28;01mfor\u001b[39;00m carg \u001b[38;5;129;01min\u001b[39;00m cargs \u001b[38;5;129;01mor\u001b[39;00m []]\n\u001b[32m   2852\u001b[39m instructions = InstructionSet(resource_requester=circuit_scope.resolve_classical_resource)\n",
      "\u001b[36mFile \u001b[39m\u001b[32mc:\\Users\\nolan\\OneDrive\\Desktop\\College\\Research\\Quantum Computing\\QCA\\clone\\LogicalQ\\venv\\Lib\\site-packages\\qiskit\\circuit\\quantumcircuit.py:2720\u001b[39m, in \u001b[36mQuantumCircuit._qbit_argument_conversion\u001b[39m\u001b[34m(self, qubit_representation)\u001b[39m\n\u001b[32m   2709\u001b[39m \u001b[38;5;28;01mdef\u001b[39;00m\u001b[38;5;250m \u001b[39m\u001b[34m_qbit_argument_conversion\u001b[39m(\u001b[38;5;28mself\u001b[39m, qubit_representation: QubitSpecifier) -> \u001b[38;5;28mlist\u001b[39m[Qubit]:\n\u001b[32m   2710\u001b[39m \u001b[38;5;250m    \u001b[39m\u001b[33;03m\"\"\"\u001b[39;00m\n\u001b[32m   2711\u001b[39m \u001b[33;03m    Converts several qubit representations (such as indexes, range, etc.)\u001b[39;00m\n\u001b[32m   2712\u001b[39m \u001b[33;03m    into a list of qubits.\u001b[39;00m\n\u001b[32m   (...)\u001b[39m\u001b[32m   2718\u001b[39m \u001b[33;03m        The resolved instances of the qubits.\u001b[39;00m\n\u001b[32m   2719\u001b[39m \u001b[33;03m    \"\"\"\u001b[39;00m\n\u001b[32m-> \u001b[39m\u001b[32m2720\u001b[39m     \u001b[38;5;28;01mreturn\u001b[39;00m \u001b[38;5;28;43mself\u001b[39;49m\u001b[43m.\u001b[49m\u001b[43m_data\u001b[49m\u001b[43m.\u001b[49m\u001b[43m_qbit_argument_conversion\u001b[49m\u001b[43m(\u001b[49m\u001b[43mqubit_representation\u001b[49m\u001b[43m)\u001b[49m\n",
      "\u001b[31mCircuitError\u001b[39m: 'Bit \\'<Qubit register=(2, \"q\"), index=0>\\' is not in the circuit.'"
     ]
    }
   ],
   "source": [
    "# Sim parameters\n",
    "J_coupling = 2 * np.pi * 6E6\n",
    "theta_final = np.pi / 4\n",
    "num_steps = 20\n",
    "thetas = np.linspace(0, theta_final, num_steps)\n",
    "dt = (theta_final / J_coupling) / num_steps\n",
    "\n",
    "# Initial state: 1/sqrt(5) * (|0> + 2|1>) @ |1>  = 1/sqrt(5) * (|01> + 2|11>)\n",
    "initial_state_vector = np.array([1, 0, 2, 0]) / np.sqrt(5)\n",
    "initial_sv = Statevector(initial_state_vector)\n",
    "\n",
    "# Define observables for expectation values\n",
    "X1 = SparsePauliOp(\"XI\")\n",
    "X2 = SparsePauliOp(\"IX\")\n",
    "\n",
    "# H = J * (XX + YY + ZZ)\n",
    "heisenberg_hamiltonian = J_coupling * (\n",
    "    SparsePauliOp(\"XX\") + SparsePauliOp(\"YY\") + SparsePauliOp(\"ZZ\")\n",
    ")\n",
    "H_matrix = heisenberg_hamiltonian.to_matrix()\n",
    "\n",
    "#trotter_step_circuit = get_heisenberg_model_circuit(dt, J_coupling, depth=20, recursion_degree=1)\n",
    "#transpiled_qc = transpile(trotter_step_circuit.decompose(), optimization_level=3, basis_gates=[\"unitary\", \"cx\", \"cy\", \"cz\"])\n",
    "#basis = [\"s\", \"sdg\", \"t\", \"tdg\", \"h\", \"x\", \"y\", \"z\", \"cz\"]\n",
    "#approx = generate_basic_approximations(basis, depth=14)\n",
    "#skd = SolovayKitaev(recursion_degree=3, basic_approximations=approx)\n",
    "#trotter_step_circuit = skd(transpiled_qc)\n",
    "#get_op_count(transpiled_qc)\n",
    "#get_op_count(trotter_step_circuit.decompose())\n",
    "\n",
    "results = {\n",
    "    \"statevectors\": [],\n",
    "    \"exp_x1\": [],\n",
    "    \"exp_x2\": [],\n",
    "    \"fidelities\": []\n",
    "}\n",
    "\n",
    "# Start with a copy of the initial statevector\n",
    "current_sv = initial_sv.copy()\n",
    "\n",
    "for step in tqdm(range(num_steps)):\n",
    "    \n",
    "    # Evolve current statevector by 1 iter.\n",
    "    #current_sv = current_sv.evolve(lg_trotter_step_circuit)\n",
    "    #trotter_step_circuit.initialize(current_sv)\n",
    "    trotter_step_circuit = get_heisenberg_model_circuit(dt, J_coupling, depth=20, recursion_degree=1, initial_sv=current_sv)\n",
    "    lqcirc = LogicalCircuit.from_physical_circuit(trotter_step_circuit.decompose(), **steane_code)\n",
    "    lqcirc.encode(0)\n",
    "    lqcirc.measure([0, 1], [0, 1], with_error_correction=False)\n",
    "    \n",
    "    if step == 0:\n",
    "        get_op_count(lqcirc.decompose(reps=2))\n",
    "        print(lqcirc.count_ops())\n",
    "    \n",
    "    result = execute_circuits(lqcirc, backend=\"aer_simulator\", hardware_model=hardware_models_Quantinuum[\"H2-1\"], coupling_map=None, shots=1, save_statevector=True)[0]\n",
    "    #output = result.get_memory(lqcirc)\n",
    "    #counts = lqcirc.get_logical_counts(output)\n",
    "    current_sv = result[\"statevector\"]\n",
    "    \n",
    "    results[\"statevectors\"].append(current_sv.copy())\n",
    "    \n",
    "    # Calculate exp. values\n",
    "    exp_x1 = current_sv.expectation_value(X1).real\n",
    "    exp_x2 = current_sv.expectation_value(X2).real\n",
    "    results[\"exp_x1\"].append(exp_x1)\n",
    "    results[\"exp_x2\"].append(exp_x2)\n",
    "    \n",
    "    # Calculate fidelity\n",
    "    current_time = (step + 1) * dt\n",
    "    U_ideal = expm(-1j * H_matrix * current_time)\n",
    "    ideal_sv = Statevector(np.dot(U_ideal, initial_state_vector))\n",
    "    fidelity = state_fidelity(current_sv, ideal_sv)\n",
    "    results[\"fidelities\"].append(fidelity)\n",
    "\n",
    "print(\"Optimized simulation complete!\")\n",
    "print(f\"Stored data for {len(results['statevectors'])} time steps.\")\n",
    "\n",
    "plt.style.use('seaborn-v0_8-darkgrid')\n",
    "fig, ax = plt.subplots(figsize=(10, 6))\n",
    "\n",
    "ax.plot(thetas, results[\"exp_x1\"], 'o-', label=r'$\\langle\\sigma_1^x\\rangle$')\n",
    "ax.plot(thetas, results[\"exp_x2\"], 's-', label=r'$\\langle\\sigma_2^x\\rangle$')\n",
    "ax.plot(thetas, results[\"fidelities\"], '^-', label='Fidelity', color='green')\n",
    "\n",
    "ax.set_xlabel(r'$\\theta = Jt$', fontsize=14)\n",
    "ax.set_ylabel('Expectation Value / Fidelity', fontsize=14)\n",
    "ax.set_title('Heisenberg Model Time Evolution', fontsize=16)\n",
    "ax.legend(fontsize=12)\n",
    "plt.show()"
   ]
  },
  {
   "cell_type": "markdown",
   "id": "6f41a7f2",
   "metadata": {},
   "source": [
    "### Benchmark QEC"
   ]
  },
  {
   "cell_type": "code",
   "execution_count": 72,
   "id": "d099eaa3",
   "metadata": {},
   "outputs": [
    {
     "name": "stdout",
     "output_type": "stream",
     "text": [
      "\n",
      "Detailed operation counts: OrderedDict({'u': 8, 'cx': 3})\n",
      "Number of measurements: 0\n",
      "Total number of operations: 11\n",
      "\n",
      "Detailed operation counts: OrderedDict({'h': 53, 't': 28, 'tdg': 28, 'sdg': 3, 'z': 3, 'cx': 3, 'x': 3, 's': 1})\n",
      "Number of measurements: 0\n",
      "Total number of operations: 122\n"
     ]
    },
    {
     "data": {
      "image/png": "[encoded data removed]",
      "text/plain": [
       "<Figure size 1039.79x200.667 with 1 Axes>"
      ]
     },
     "execution_count": 72,
     "metadata": {},
     "output_type": "execute_result"
    }
   ],
   "source": [
    "trotter_step_circuit = get_heisenberg_model_circuit(dt, J_coupling, quality = 4)\n",
    "transpiled_qc = transpile(trotter_step_circuit.decompose(), optimization_level=3, basis_gates=[\"u\", \"cz\", \"cx\"])\n",
    "basis = [\"s\", \"sdg\", \"t\", \"tdg\", \"h\", \"x\", \"y\", \"z\", \"cz\"]\n",
    "approx = generate_basic_approximations(basis, depth=3)\n",
    "skd = SolovayKitaev(recursion_degree=2, basic_approximations=approx)\n",
    "trotter_step_circuit = skd(transpiled_qc)\n",
    "get_op_count(transpiled_qc)\n",
    "get_op_count(trotter_step_circuit)\n",
    "transpiled_qc.draw(output=\"mpl\")"
   ]
  }
 ],
 "metadata": {
  "kernelspec": {
   "display_name": "venv (3.12.6)",
   "language": "python",
   "name": "python3"
  },
  "language_info": {
   "codemirror_mode": {
    "name": "ipython",
    "version": 3
   },
   "file_extension": ".py",
   "mimetype": "text/x-python",
   "name": "python",
   "nbconvert_exporter": "python",
   "pygments_lexer": "ipython3",
   "version": "3.12.6"
  }
 },
 "nbformat": 4,
 "nbformat_minor": 5
}

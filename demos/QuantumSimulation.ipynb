{
 "cells": [
  {
   "cell_type": "markdown",
   "id": "025aed3b",
   "metadata": {},
   "source": [
    "## Imports"
   ]
  },
  {
   "cell_type": "code",
   "execution_count": 1,
   "id": "9d246afb",
   "metadata": {},
   "outputs": [],
   "source": [
    "import numpy as np\n",
    "import matplotlib.pyplot as plt\n",
    "\n",
    "from qiskit import ClassicalRegister, QuantumRegister, QuantumCircuit, transpile\n",
    "from qiskit_aer import AerSimulator\n",
    "\n",
    "from LogicalQ.Logical import LogicalCircuit\n",
    "from LogicalQ.Library.QECCs import steane_code\n",
    "from LogicalQ.Library.HardwareModels import hardware_models_Quantinuum\n",
    "from LogicalQ.Experiments import execute_circuits\n",
    "\n",
    "import numpy as np\n",
    " \n",
    "from qiskit.circuit.library import EfficientSU2\n",
    "from qiskit.quantum_info import PauliList, Statevector, SparsePauliOp\n",
    "from qiskit.transpiler.preset_passmanagers import generate_preset_pass_manager\n",
    " \n",
    "from qiskit_addon_cutting import (\n",
    "    cut_gates,\n",
    "    generate_cutting_experiments,\n",
    "    reconstruct_expectation_values,\n",
    ")\n",
    " \n",
    "from qiskit_ibm_runtime import QiskitRuntimeService, SamplerV2\n",
    "from qiskit_aer import AerSimulator\n",
    "\n",
    "from tqdm.notebook import tqdm\n",
    "\n",
    "from qiskit.quantum_info import Statevector, Operator, SparsePauliOp, state_fidelity\n",
    "from scipy.linalg import expm\n",
    "\n",
    "\n",
    "from qiskit.transpiler import PassManager\n",
    "from LogicalQ.Transpilation.UnBox import UnBoxTask\n",
    "from bqskit.passes import TreeScanningGateRemovalPass\n",
    "\n",
    "from bqskit import MachineModel, Circuit\n",
    "from bqskit.compiler import Workflow\n",
    "from bqskit.ext import qiskit_to_bqskit\n",
    "from bqskit.passes import LEAPSynthesisPass\n",
    "from bqskit.ir.gates import (\n",
    "    SGate, SdgGate, TGate, TdgGate, HGate,\n",
    "    XGate, YGate, ZGate, CZGate, CXGate\n",
    ")\n",
    "from qiskit import QuantumCircuit # For creating a placeholder circuit\n",
    "\n",
    "from LogicalQ.Library.QECCs import steane_code\n",
    "from LogicalQ.Logical import LogicalStatevector, logical_state_fidelity, LogicalCircuit\n",
    "from LogicalQ.tests.TestLogicalGates import TestRx\n",
    "from LogicalQ.Library.QECCs import steane_code\n",
    "from LogicalQ.Experiments import execute_circuits\n",
    "from qiskit import QuantumCircuit\n",
    "from qiskit.quantum_info import Statevector\n",
    "from tqdm import tqdm\n",
    "import numpy as np\n",
    "\n",
    "from LogicalQ.Library.QECCs import steane_code\n",
    "from LogicalQ.Logical import LogicalStatevector, logical_state_fidelity, LogicalCircuit\n",
    "from LogicalQ.tests.TestLogicalGates import TestRx\n",
    "from LogicalQ.Library.QECCs import steane_code\n",
    "from LogicalQ.Experiments import execute_circuits\n",
    "from qiskit import QuantumCircuit\n",
    "from qiskit.quantum_info import Statevector\n",
    "from LogicalQ.Library.HardwareModels import hardware_models_Quantinuum\n",
    "from tqdm import tqdm\n",
    "\n",
    "%load_ext autoreload\n",
    "%autoreload 2"
   ]
  },
  {
   "cell_type": "markdown",
   "id": "65944a49",
   "metadata": {},
   "source": [
    "## Transverse Ising Model"
   ]
  },
  {
   "cell_type": "markdown",
   "id": "c63986ae",
   "metadata": {},
   "source": [
    "https://www.science.org/doi/epdf/10.1126/science.1208001\n",
    "\n",
    "TBF later"
   ]
  },
  {
   "cell_type": "code",
   "execution_count": null,
   "id": "da1cab5b",
   "metadata": {},
   "outputs": [],
   "source": []
  },
  {
   "cell_type": "markdown",
   "id": "997520bf",
   "metadata": {},
   "source": [
    "## Asymmetric Heisingberg Model"
   ]
  },
  {
   "cell_type": "markdown",
   "id": "30512867",
   "metadata": {},
   "source": [
    "### Optimal Clifford + T approximation\n",
    "\"Optimal ancilla-free Clifford+T approximation of z-rotations\" https://arxiv.org/pdf/1403.2975\n",
    "\n",
    "This paper could be useful in the future if it were extended to x-/y-rotations as well. However, implementation and understanding it seems far more difficult. Also, we do not have the factoring oracle required."
   ]
  },
  {
   "cell_type": "markdown",
   "id": "977020c7",
   "metadata": {},
   "source": [
    "### Solovay-Kitaev Algorithm"
   ]
  },
  {
   "cell_type": "code",
   "execution_count": null,
   "id": "3fbaebad",
   "metadata": {},
   "outputs": [],
   "source": [
    "from qiskit.transpiler.passes import SolovayKitaev\n",
    "from qiskit.synthesis import generate_basic_approximations\n",
    "from qiskit.circuit.library import RXGate, RYGate, RZGate, RXXGate, RYYGate, RZZGate"
   ]
  },
  {
   "cell_type": "code",
   "execution_count": null,
   "id": "d5d46989",
   "metadata": {},
   "outputs": [],
   "source": [
    "qc = QuantumCircuit(2)\n",
    "qc.rx(theta = np.pi/4, qubit = 0)\n",
    "qc.draw()"
   ]
  },
  {
   "cell_type": "code",
   "execution_count": null,
   "id": "43671f93",
   "metadata": {},
   "outputs": [],
   "source": [
    "def append_rot_gate(qc, axis = \"z\", theta = 0, qubit_indices = [0], label = None, return_subcircuit = False, depth = 10, recursion_degree = 1, box=True):\n",
    "    gates = {\"x\": (RXGate, 1), \"y\": (RYGate, 1), \"z\": (RZGate, 1), \"xx\": (RXXGate, 2), \"yy\": (RYYGate, 2), \"zz\": (RZZGate, 2)}\n",
    "    gate_base, num_target_qubits = gates[axis]\n",
    "    gate = gate_base(theta)\n",
    "    \n",
    "    sub_qc = QuantumCircuit(num_target_qubits)\n",
    " \n",
    "    def apply_Rzz(sub_qc):\n",
    "        sub_qc.cx(0, 1)\n",
    "        sub_qc.rz(theta, 1)\n",
    "        sub_qc.cx(0, 1)\n",
    " \n",
    "    match axis:\n",
    "        case \"xx\":\n",
    "            sub_qc.h([0, 1])\n",
    "            apply_Rzz(sub_qc)\n",
    "            sub_qc.h([0, 1])\n",
    "        case \"yy\":\n",
    "            sub_qc.rx(np.pi / 2, [0, 1])\n",
    "            apply_Rzz(sub_qc)\n",
    "            sub_qc.rx(-np.pi / 2, [0, 1])\n",
    "        case \"zz\":\n",
    "            apply_Rzz(sub_qc)\n",
    "        case _:        \n",
    "            sub_qc.append(gate, qargs = list(range(num_target_qubits)))\n",
    "    \n",
    "    basis = [\"s\", \"sdg\", \"t\", \"tdg\", \"h\", \"x\", \"y\", \"z\", \"cz\"]\n",
    "    approx = generate_basic_approximations(basis, depth=depth)\n",
    "    skd = SolovayKitaev(recursion_degree=recursion_degree, basic_approximations=approx)\n",
    "\n",
    "    discretized_sub_qc = skd(sub_qc)\n",
    "    box_label = fr\"S-K: R$_\\text{{{axis}}}$({np.round(theta / np.pi, 2)}$\\pi$)\" if label == None else label\n",
    "    def append_all():\n",
    "        for i in range(len(discretized_sub_qc.data)):\n",
    "                circuit_instruction = discretized_sub_qc.data[i]\n",
    "                qc.append(circuit_instruction)\n",
    "    \n",
    "    \n",
    "    if box:\n",
    "        if isinstance(qc, LogicalCircuit):\n",
    "            with qc.box(label=\"logical.logicalop.R:{box_label}\"):\n",
    "                append_all()\n",
    "        elif isinstance(qc, QuantumCircuit):\n",
    "            with qc.box(label=\"R:{box_label}\"):\n",
    "                append_all()\n",
    "        else:\n",
    "            raise AssertionError(\"qc is not a valid QuantumCircuit or LogicalCircuit.\")\n",
    "    else:\n",
    "        append_all()\n",
    "        #sub_gate = discretized_sub_qc.to_gate(label=box_label)\n",
    "        #qc.append(sub_gate, qubit_indices)\n",
    "    \n",
    "    if return_subcircuit:\n",
    "        return qc, discretized_sub_qc\n",
    "    else:\n",
    "        return qc\n",
    "\n",
    "qc = append_rot_gate(qc, \"xx\", np.pi, [0, 1])\n",
    "qc.draw(output=\"mpl\")"
   ]
  },
  {
   "cell_type": "code",
   "execution_count": null,
   "id": "ad267e4a",
   "metadata": {},
   "outputs": [],
   "source": [
    "\"\"\"\n",
    "def append_rot_gate(qc, axis = \"z\", theta = 0, qubit_indices = [0], label = None, return_subcircuit = False, quality = 4):\n",
    "    gates = {\"x\": (RXGate, 1), \"y\": (RYGate, 1), \"z\": (RZGate, 1), \"xx\": (RXXGate, 2), \"yy\": (RYYGate, 2), \"zz\": (RZZGate, 2)}\n",
    "    gate_base, num_target_qubits = gates[axis]\n",
    "    gate = gate_base(theta)\n",
    "    \n",
    "    sub_qc = QuantumCircuit(num_target_qubits)\n",
    " \n",
    "    def apply_Rzz(sub_qc):\n",
    "        sub_qc.cx(0, 1)\n",
    "        sub_qc = append_rot_gate(sub_qc, \"z\", theta, [1], quality=quality)\n",
    "        #sub_qc.rz(theta, 1)\n",
    "        sub_qc.cx(0, 1)\n",
    " \n",
    "    match axis:\n",
    "        case \"xx\":\n",
    "            sub_qc.h([0, 1])\n",
    "            apply_Rzz(sub_qc)\n",
    "            sub_qc.h([0, 1])\n",
    "            discretized_sub_qc = sub_qc\n",
    "        case \"yy\":\n",
    "            #sub_qc.rx(np.pi / 2, [0, 1])\n",
    "            sub_qc = append_rot_gate(sub_qc, \"x\", np.pi / 2, [0], quality=quality)\n",
    "            sub_qc = append_rot_gate(sub_qc, \"x\", np.pi / 2, [1], quality=quality)\n",
    "            apply_Rzz(sub_qc)\n",
    "            #sub_qc.rx(-np.pi / 2, [0, 1])\n",
    "            sub_qc = append_rot_gate(sub_qc, \"x\", -np.pi / 2, [0], quality=quality)\n",
    "            sub_qc = append_rot_gate(sub_qc, \"x\", -np.pi / 2, [1], quality=quality)\n",
    "            discretized_sub_qc = sub_qc\n",
    "        case \"zz\":\n",
    "            apply_Rzz(sub_qc)\n",
    "            discretized_sub_qc = sub_qc\n",
    "        case _:        \n",
    "            sub_qc.append(gate, qargs = list(range(num_target_qubits)))\n",
    "    \n",
    "            basis = [\"s\", \"sdg\", \"t\", \"tdg\", \"h\", \"x\", \"y\", \"z\", \"cz\"]\n",
    "            approx = generate_basic_approximations(basis, depth=3)\n",
    "            skd = SolovayKitaev(recursion_degree=quality, basic_approximations=approx)\n",
    "\n",
    "            discretized_sub_qc = skd(sub_qc)\n",
    "            \n",
    "    box_label = fr\"S-K: R$_\\text{{{axis}}}$({np.round(theta / np.pi, 2)}$\\pi$)\" if label == None else label\n",
    "    if isinstance(qc, LogicalCircuit):\n",
    "        with qc.box(label=\"logical.logicalop.R:{box_label}\"):\n",
    "            for i in range(len(sub_qc.data)):\n",
    "                circuit_instruction = discretized_sub_qc.data[i]\n",
    "                qc.append(circuit_instruction)\n",
    "    elif isinstance(qc, QuantumCircuit):\n",
    "        sub_gate = discretized_sub_qc.to_gate(label=box_label)\n",
    "        qc.append(sub_gate, qubit_indices)\n",
    "    else:\n",
    "        raise AssertionError(\"qc is not a valid QuantumCircuit or LogicalCircuit.\")\n",
    "    \n",
    "    if return_subcircuit:\n",
    "        return qc, discretized_sub_qc\n",
    "    else:\n",
    "        return qc\n",
    "\n",
    "qc = append_rot_gate(qc, \"xx\", np.pi, [0, 1])\n",
    "qc.draw(output=\"mpl\")\n",
    "\"\"\""
   ]
  },
  {
   "cell_type": "code",
   "execution_count": null,
   "id": "6bff2aa4",
   "metadata": {},
   "outputs": [],
   "source": [
    "#sub_qc.draw(output=\"mpl\")"
   ]
  },
  {
   "cell_type": "markdown",
   "id": "05dc950a",
   "metadata": {},
   "source": [
    "### Rxx, Ryy, Rzz Gate Validations"
   ]
  },
  {
   "cell_type": "code",
   "execution_count": null,
   "id": "060b2f67",
   "metadata": {},
   "outputs": [],
   "source": [
    "from qiskit.quantum_info import Statevector\n",
    "from qiskit.primitives import StatevectorSampler\n",
    "sampler = StatevectorSampler()\n",
    "\n",
    "ratio = 7 / 33 # picked a weird fraction of pi to make the test more robust\n",
    "\n",
    "Rzz_ref = QuantumCircuit(2)\n",
    "Rzz_ref.rzz(ratio * np.pi, 0, 1)\n",
    "\n",
    "state = Statevector.from_instruction(Rzz_ref)\n",
    "state.draw(output=\"latex\")"
   ]
  },
  {
   "cell_type": "code",
   "execution_count": null,
   "id": "300c9052",
   "metadata": {},
   "outputs": [],
   "source": [
    "Rzz_alg = QuantumCircuit(2)\n",
    "Rzz_alg = append_rot_gate(Rzz_alg, \"zz\", ratio * np.pi, qubit_indices=[0,1])\n",
    "\n",
    "state = Statevector.from_instruction(Rzz_ref)\n",
    "state.draw(output=\"latex\")"
   ]
  },
  {
   "cell_type": "code",
   "execution_count": null,
   "id": "820994e7",
   "metadata": {},
   "outputs": [],
   "source": [
    "ratio = 15 / 33 # picked a weird fraction of pi to make the test more robust\n",
    "\n",
    "Rxx_ref = QuantumCircuit(2)\n",
    "Rxx_ref.rxx(ratio * np.pi, 0, 1)\n",
    "\n",
    "state = Statevector.from_instruction(Rxx_ref)\n",
    "state.draw(output=\"latex\")"
   ]
  },
  {
   "cell_type": "code",
   "execution_count": null,
   "id": "011c6496",
   "metadata": {},
   "outputs": [],
   "source": [
    "Rxx_alg = QuantumCircuit(2)\n",
    "Rxx_alg = append_rot_gate(Rxx_alg, \"xx\", ratio * np.pi, qubit_indices=[0,1])\n",
    "\n",
    "state = Statevector.from_instruction(Rxx_ref)\n",
    "state.draw(output=\"latex\")"
   ]
  },
  {
   "cell_type": "code",
   "execution_count": null,
   "id": "95b4cd07",
   "metadata": {},
   "outputs": [],
   "source": [
    "ratio = 19 / 33 # picked a weird fraction of pi to make the test more robust\n",
    "\n",
    "Ryy_ref = QuantumCircuit(2)\n",
    "Ryy_ref.rxx(ratio * np.pi, 0, 1)\n",
    "\n",
    "state = Statevector.from_instruction(Ryy_ref)\n",
    "state.draw(output=\"latex\")"
   ]
  },
  {
   "cell_type": "code",
   "execution_count": null,
   "id": "cb3b3787",
   "metadata": {},
   "outputs": [],
   "source": [
    "Ryy_alg = QuantumCircuit(2)\n",
    "Ryy_alg = append_rot_gate(Ryy_alg, \"yy\", ratio * np.pi, qubit_indices=[0,1])\n",
    "\n",
    "state = Statevector.from_instruction(Ryy_ref)\n",
    "state.draw(output=\"latex\")"
   ]
  },
  {
   "cell_type": "markdown",
   "id": "c5386c3f",
   "metadata": {},
   "source": [
    "### Build AH model"
   ]
  },
  {
   "cell_type": "code",
   "execution_count": null,
   "id": "d7f017a5",
   "metadata": {},
   "outputs": [],
   "source": [
    "def Hxy(dt, J):\n",
    "    theta = dt * J\n",
    "    \n",
    "    qc = QuantumCircuit(2)\n",
    "    with qc.box(label=\"Hxy\"):\n",
    "        qc = append_rot_gate(qc, \"xx\", theta, [0, 1])\n",
    "        qc = append_rot_gate(qc, \"yy\", theta, [0, 1])\n",
    "    return qc\n",
    "\n",
    "qc_test = QuantumCircuit(2)\n",
    "H_xy = Hxy(1.0, np.pi)\n",
    "qc_test = qc_test.compose(H_xy, [0, 1], front=True)\n",
    "qc_test.draw(output=\"mpl\")"
   ]
  },
  {
   "cell_type": "code",
   "execution_count": null,
   "id": "13de467b",
   "metadata": {},
   "outputs": [],
   "source": [
    "H_xy.draw(output='mpl')"
   ]
  },
  {
   "cell_type": "code",
   "execution_count": null,
   "id": "ca04b4c6",
   "metadata": {},
   "outputs": [],
   "source": [
    "def get_heisenberg_model_circuit(dt, J, depth = 10, recursion_degree = 1, initial_sv = None):\n",
    "    qc = QuantumCircuit(2)\n",
    "    \n",
    "    if isinstance(initial_sv, Statevector):\n",
    "        qc.initialize(initial_sv, [0,1])\n",
    "    \n",
    "    theta = J * dt\n",
    "    append_rot_gate(qc, \"xx\", 2 * theta, [0, 1], depth=depth, recursion_degree=recursion_degree)\n",
    "    append_rot_gate(qc, \"yy\", 2 * theta, [0, 1], depth=depth, recursion_degree=recursion_degree)\n",
    "    append_rot_gate(qc, \"zz\", 2 * theta, [0, 1], depth=depth, recursion_degree=recursion_degree)\n",
    "    \n",
    "    \"\"\"\n",
    "    # Hxy\n",
    "    qc.append(Hxy_box, qargs = [0,1])\n",
    "    \n",
    "    # Hxz\n",
    "    qc = append_rot_gate(qc, axis=\"y\", theta=-np.pi/4, qubit_indices=[0])\n",
    "    qc = append_rot_gate(qc, axis=\"y\", theta=-np.pi/4, qubit_indices=[1])\n",
    "    qc.append(Hxy_box, qargs = [0,1])\n",
    "    qc = append_rot_gate(qc, axis=\"y\", theta=np.pi/4, qubit_indices=[0])\n",
    "    qc = append_rot_gate(qc, axis=\"y\", theta=np.pi/4, qubit_indices=[1])\n",
    "    \n",
    "    # Hyz\n",
    "    qc = append_rot_gate(qc, axis=\"x\", theta=-np.pi/4, qubit_indices=[0])\n",
    "    qc = append_rot_gate(qc, axis=\"x\", theta=-np.pi/4, qubit_indices=[1])\n",
    "    qc.append(Hxy_box, qargs = [0,1])\n",
    "    qc = append_rot_gate(qc, axis=\"x\", theta=np.pi/4, qubit_indices=[0])\n",
    "    qc = append_rot_gate(qc, axis=\"x\", theta=np.pi/4, qubit_indices=[1])\n",
    "    \"\"\"\n",
    "    \n",
    "    return qc"
   ]
  },
  {
   "cell_type": "code",
   "execution_count": null,
   "id": "05cf1c55",
   "metadata": {},
   "outputs": [],
   "source": [
    "qc = get_heisenberg_model_circuit(0.01, 1)"
   ]
  },
  {
   "cell_type": "code",
   "execution_count": null,
   "id": "7b25707a",
   "metadata": {},
   "outputs": [],
   "source": [
    "qc.draw(output=\"mpl\")"
   ]
  },
  {
   "cell_type": "code",
   "execution_count": null,
   "id": "3fa64eea",
   "metadata": {},
   "outputs": [],
   "source": []
  },
  {
   "cell_type": "markdown",
   "id": "a8024222",
   "metadata": {},
   "source": [
    "## Matching paper results\n",
    "\n",
    "We are going to initialize our 2-qubit system in the $\\frac{1}{\\sqrt{5}}(\\ket{\\uparrow}+2\\ket{\\downarrow})\\otimes \\ket{\\downarrow}$ state, and then graph expectation values and fidelity as a function of $\\theta$."
   ]
  },
  {
   "cell_type": "markdown",
   "id": "d7f72c30",
   "metadata": {},
   "source": [
    "### Validate noiseless AH quantum circuit"
   ]
  },
  {
   "cell_type": "code",
   "execution_count": null,
   "id": "16583789",
   "metadata": {},
   "outputs": [],
   "source": [
    "def get_op_count(qc):\n",
    "\n",
    "    op_counts = qc.count_ops()\n",
    "    print(f\"\\nDetailed operation counts: {op_counts}\")\n",
    "\n",
    "    num_measurements = op_counts.get('measure', 0)\n",
    "    print(f\"Number of measurements: {num_measurements}\")\n",
    "\n",
    "    total_ops =qc.size()\n",
    "    print(f\"Total number of operations: {total_ops}\")"
   ]
  },
  {
   "cell_type": "code",
   "execution_count": null,
   "id": "0d40b174",
   "metadata": {},
   "outputs": [],
   "source": [
    "J_coupling = 2 * np.pi * 6E6\n",
    "theta_final = np.pi / 4\n",
    "num_steps = 20\n",
    "thetas = np.linspace(0, theta_final, num_steps)\n",
    "dt = (theta_final / J_coupling) / num_steps\n",
    "\n",
    "# Initial state: 1/sqrt(5) * (|0> + 2|1>) @ |1>  = 1/sqrt(5) * (|01> + 2|11>)\n",
    "initial_state_vector = np.array([1, 0, 2, 0]) / np.sqrt(5)\n",
    "initial_sv = Statevector(initial_state_vector)\n",
    "\n",
    "# Define observables for expectation values\n",
    "X1 = SparsePauliOp(\"XI\")\n",
    "X2 = SparsePauliOp(\"IX\")\n",
    "\n",
    "# H = J * (XX + YY + ZZ)\n",
    "heisenberg_hamiltonian = J_coupling * (\n",
    "    SparsePauliOp(\"XX\") + SparsePauliOp(\"YY\") + SparsePauliOp(\"ZZ\")\n",
    ")\n",
    "H_matrix = heisenberg_hamiltonian.to_matrix()\n",
    "\n",
    "trotter_step_circuit = get_heisenberg_model_circuit(dt, J_coupling, depth=20, recursion_degree=1)\n",
    "pm = PassManager([UnBoxTask()])\n",
    "trotter_decomp = pm.run(trotter_step_circuit)\n",
    "#get_op_count(trotter_step_circuit.decompose())\n",
    "#transpiled_qc = transpile(trotter_step_circuit.decompose(), optimization_level=3, basis_gates=[\"unitary\", \"cx\", \"cy\", \"cz\"])\n",
    "#basis = [\"s\", \"sdg\", \"t\", \"tdg\", \"h\", \"x\", \"y\", \"z\", \"cz\"]\n",
    "#approx = generate_basic_approximations(basis, depth=14)\n",
    "#skd = SolovayKitaev(recursion_degree=3, basic_approximations=approx)\n",
    "#trotter_step_circuit = skd(transpiled_qc)\n",
    "#get_op_count(transpiled_qc)\n",
    "#get_op_count(trotter_step_circuit.decompose())\n",
    "\n",
    "results = {\n",
    "    \"statevectors\": [],\n",
    "    \"exp_x1\": [],\n",
    "    \"exp_x2\": [],\n",
    "    \"fidelities\": []\n",
    "}\n",
    "\n",
    "# Start with a copy of the initial statevector\n",
    "current_sv = initial_sv.copy()\n",
    "\n",
    "for step in tqdm(range(num_steps)):\n",
    "    # Evolve current statevector by 1 iter.\n",
    "    current_sv = current_sv.evolve(trotter_decomp)\n",
    "    results[\"statevectors\"].append(current_sv.copy())\n",
    "    \n",
    "    # Calculate exp. values\n",
    "    exp_x1 = current_sv.expectation_value(X1).real\n",
    "    exp_x2 = current_sv.expectation_value(X2).real\n",
    "    results[\"exp_x1\"].append(exp_x1)\n",
    "    results[\"exp_x2\"].append(exp_x2)\n",
    "    \n",
    "    # Calculate fidelity\n",
    "    current_time = (step + 1) * dt\n",
    "    U_ideal = expm(-1j * H_matrix * current_time)\n",
    "    ideal_sv = Statevector(np.dot(U_ideal, initial_state_vector))\n",
    "    fidelity = state_fidelity(current_sv, ideal_sv)\n",
    "    results[\"fidelities\"].append(fidelity)\n",
    "\n",
    "print(\"Optimized simulation complete!\")\n",
    "print(f\"Stored data for {len(results['statevectors'])} time steps.\")\n",
    "\n",
    "plt.style.use('seaborn-v0_8-darkgrid')\n",
    "fig, ax = plt.subplots(figsize=(10, 6))\n",
    "\n",
    "ax.plot(thetas, results[\"exp_x1\"], 'o-', label=r'$\\langle\\sigma_1^x\\rangle$')\n",
    "ax.plot(thetas, results[\"exp_x2\"], 's-', label=r'$\\langle\\sigma_2^x\\rangle$')\n",
    "ax.plot(thetas, results[\"fidelities\"], '^-', label='Fidelity', color='green')\n",
    "\n",
    "ax.set_xlabel(r'$\\theta = Jt$', fontsize=14)\n",
    "ax.set_ylabel('Expectation Value / Fidelity', fontsize=14)\n",
    "ax.set_title('Heisenberg Model Time Evolution', fontsize=16)\n",
    "ax.legend(fontsize=12)\n",
    "plt.show()"
   ]
  },
  {
   "cell_type": "code",
   "execution_count": null,
   "id": "618c18be",
   "metadata": {},
   "outputs": [],
   "source": [
    "pm = PassManager([UnBoxTask()])\n",
    "trotter_decomp = pm.run(trotter_step_circuit)\n",
    "get_op_count(trotter_decomp)\n",
    "#decomposed_circuit = trotter_step_circuit.decompose()\n",
    "unboxed_circuit.draw(output=\"mpl\")"
   ]
  },
  {
   "cell_type": "code",
   "execution_count": null,
   "id": "6f613080",
   "metadata": {},
   "outputs": [],
   "source": [
    "decomposed_circuit = unboxed_circuit.decompose()\n"
   ]
  },
  {
   "cell_type": "code",
   "execution_count": null,
   "id": "9cea6202",
   "metadata": {},
   "outputs": [],
   "source": [
    "#decomposed_circuit.draw(output=\"mpl\")"
   ]
  },
  {
   "cell_type": "markdown",
   "id": "1cce074f",
   "metadata": {},
   "source": [
    "Check op count of physical circuit\n",
    "\n",
    "Recorded data:\n",
    "\n",
    "quality = 4  ->  number of ops = \n",
    "\n",
    "quality = 7  ->  number of ops = "
   ]
  },
  {
   "cell_type": "code",
   "execution_count": null,
   "id": "4ae14b6e",
   "metadata": {},
   "outputs": [],
   "source": []
  },
  {
   "cell_type": "markdown",
   "id": "16223456",
   "metadata": {},
   "source": [
    "### Optimize circuit depth\n",
    "\n",
    "Attempt 1: Using qiskit transpilation"
   ]
  },
  {
   "cell_type": "code",
   "execution_count": null,
   "id": "f2f43447",
   "metadata": {},
   "outputs": [],
   "source": [
    "#trotter_step_circuit.draw(output=\"mpl\")\n",
    "trotter_decomp = trotter_step_circuit.decompose()\n",
    "#trotter_decomp.draw(output=\"mpl\")"
   ]
  },
  {
   "cell_type": "code",
   "execution_count": null,
   "id": "dc52ee59",
   "metadata": {},
   "outputs": [],
   "source": [
    "circuit = trotter_step_circuit\n",
    " \n",
    "\n",
    "simulator = AerSimulator()\n",
    "\n",
    "#pm = generate_preset_pass_manager(\n",
    "#    optimization_level=3, initial_layout=[0, 1], basis_gates=[\"s\", \"sdg\", \"t\", \"tdg\", \"h\", \"x\", \"y\", \"z\", \"cz\"]\n",
    "#)\n",
    "#transpiled_qc = pm.run(circuit)\n",
    "\n",
    "transpiled_qc = transpile(trotter_decomp, optimization_level=3)"
   ]
  },
  {
   "cell_type": "code",
   "execution_count": null,
   "id": "ad5e9ff6",
   "metadata": {},
   "outputs": [],
   "source": [
    "transpiled_qc.draw(output=\"mpl\")"
   ]
  },
  {
   "cell_type": "code",
   "execution_count": null,
   "id": "114dc623",
   "metadata": {},
   "outputs": [],
   "source": [
    "get_op_count(transpiled_qc)"
   ]
  },
  {
   "cell_type": "markdown",
   "id": "0acef077",
   "metadata": {},
   "source": [
    "Attempt 2: Using BQSKit processing passes to remove gates"
   ]
  },
  {
   "cell_type": "code",
   "execution_count": null,
   "id": "52872e39",
   "metadata": {},
   "outputs": [],
   "source": [
    "from bqskit.compiler import Workflow\n",
    "from bqskit.ext import qiskit_to_bqskit\n",
    "\n",
    "qc = trotter_decomp\n",
    "\n",
    "circuit = qiskit_to_bqskit(qc)\n",
    "from bqskit import compile\n",
    "out_circuit = compile(circuit)\n",
    "\n",
    "#workflow = Workflow([TreeScanningGateRemovalPass(tree_depth=3)])\n",
    "#compiled_circuit = compile(circuit)\n",
    "#pm = PassManager()\n",
    "#pruned_circuit = pm.run(trotter_step_circuit)\n",
    "\n",
    "#print(\"Compiled Circuit Statistics\")\n",
    "#print(\"Gate Counts:\", out_circuit.gate_counts)\n",
    "#print(\"Connectivity:\", out_circuit.coupling_graph)\n",
    "\n",
    "from bqskit.ir.gates import CZGate, RZGate, SXGate\n",
    "gate_set = {CZGate(), RZGate(), SXGate()} \n",
    "\n",
    "# Build a MachineModel with this gate set\n",
    "# and the same number of qubits as the circuit\n",
    "from bqskit import MachineModel\n",
    "model = MachineModel(out_circuit.num_qudits, gate_set=gate_set)\n",
    "\n",
    "def compile_to_gateset(circuit, gate_set):\n",
    "    model = MachineModel(circuit.num_qudits, gate_set=gate_set)\n",
    "    return compile(circuit, model=model)\n",
    "\n",
    "# BGate CCXGate ToffoliGate CHGate ClockGate CPIGate CSGate CSUMGate CTGate CNOTGate CXGate CYGate CZGate ECRGate HGate IdentityGate ISwapGate IToffoliGate PDGate PermutationGate MargolusGate RC3XGate RCCXGate SGate SdgGate ShiftGate SqrtCNOTGate SqrtISwapGate SqrtTGate SubSwapGate SwapGate SqrtXGate SXGate SycamoreGate TGate TdgGate ConstantUnitaryGate XGate XXGate YGate YYGate ZGate ZZGate\n",
    "# [\"s\", \"sdg\", \"t\", \"tdg\", \"h\", \"x\", \"y\", \"z\", \"cz\"]\n",
    "from bqskit.ir.gates import ZZGate, SGate, SdgGate, TGate, TdgGate, HGate, XGate, YGate, ZGate, CZGate, CXGate\n",
    "quantinuum_like_gate_set = {ZZGate(), RZGate(), SXGate()}\n",
    "CliffordT_gate_set = {SGate(), SdgGate(), TGate(), TdgGate(), HGate(), XGate(), YGate(), ZGate(), CZGate(), CXGate()}\n",
    "\n",
    "out_circuit = compile_to_gateset(circuit, CliffordT_gate_set)"
   ]
  },
  {
   "cell_type": "code",
   "execution_count": null,
   "id": "74fa71bf",
   "metadata": {},
   "outputs": [],
   "source": [
    "from bqskit.passes import UnfoldPass\n",
    "from bqskit.compiler import Compiler\n",
    "qc = trotter_decomp\n",
    "circuit = qiskit_to_bqskit(qc)\n",
    "\n",
    "CliffordT_gate_set = {\n",
    "    SGate(), SdgGate(), TGate(), TdgGate(), HGate(),\n",
    "    XGate(), YGate(), ZGate(), CZGate(), CXGate()\n",
    "}\n",
    "\n",
    "model = MachineModel(\n",
    "    circuit.num_qudits,\n",
    "    gate_set=CliffordT_gate_set\n",
    ")\n",
    "\n",
    "workflow = Workflow([\n",
    "    \n",
    "    UnfoldPass(),\n",
    "    LEAPSynthesisPass()\n",
    "])\n",
    "\n",
    "with Compiler() as compiler:\n",
    "    opt_circuit = compiler.compile(circuit, workflow=workflow)\n",
    "    \n",
    "#compiled_circuit = workflow.run(circuit, model)"
   ]
  },
  {
   "cell_type": "code",
   "execution_count": null,
   "id": "c7697451",
   "metadata": {},
   "outputs": [],
   "source": [
    "import bqskit\n",
    "from bqskit.ir.gates import SGate, SdgGate, TGate, TdgGate, HGate, XGate, YGate, ZGate, CZGate, CNOTGate\n",
    "from bqskit.compiler import Compiler\n",
    "from bqskit.passes import ScanPartitioner, LEAPSynthesisPass, SetModelPass\n",
    "from bqskit.ext import qiskit_to_bqskit\n",
    "from bqskit.compiler import Workflow\n",
    "\n",
    "circuit = bqskit.Circuit(4) # Placeholder circuit\n",
    "\n",
    "model = MachineModel(\n",
    "    circuit.num_qudits,\n",
    "    gate_set=CliffordT_gate_set\n",
    ")\n",
    "\n",
    "workflow = Workflow([\n",
    "    SetModelPass(model),\n",
    "    ScanPartitioner(block_size=3),\n",
    "    LEAPSynthesisPass() \n",
    "])\n",
    "\n",
    "with Compiler() as compiler:\n",
    "    opt_circuit = compiler.compile(circuit, workflow=workflow)\n",
    "\n",
    "print(\"Circuit Statistics\")\n",
    "print(\"Gate Counts:\", opt_circuit.gate_counts)\n",
    "print(\"Logical Connectivity:\", opt_circuit.coupling_graph)\n",
    "output_gates = {g.name for g in opt_circuit.gate_set}\n",
    "expected_gates = {g.name for g in CliffordT_gate_set}\n",
    "print(f\"Output gates are a subset of Clifford+T: {output_gates.issubset(expected_gates)}\")"
   ]
  },
  {
   "cell_type": "code",
   "execution_count": null,
   "id": "35168976",
   "metadata": {},
   "outputs": [],
   "source": [
    "type(opt_circuit)"
   ]
  },
  {
   "cell_type": "code",
   "execution_count": null,
   "id": "3a1f9c07",
   "metadata": {},
   "outputs": [],
   "source": [
    "print(\"\\nCompiled Circuit Statistics:\")\n",
    "print(f\"New gate count: {compiled_circuit.gate_counts.total}\")\n",
    "print(\"Gate Counts:\", compiled_circuit.gate_counts)"
   ]
  },
  {
   "cell_type": "code",
   "execution_count": null,
   "id": "d7f1953b",
   "metadata": {},
   "outputs": [],
   "source": [
    "print(\"Compiled Circuit Statistics\")\n",
    "print(\"Gate Counts:\", compiled_circuit.gate_counts)\n",
    "print(\"Connectivity:\", compiled_circuit.coupling_graph)"
   ]
  },
  {
   "cell_type": "markdown",
   "id": "e854285a",
   "metadata": {},
   "source": [
    "quantinuum like\n",
    "Compiled Circuit Statistics\n",
    "Gate Counts: {ZZGate: 3, RZGate: 24, SqrtXGate: 16}\n",
    "Connectivity: CouplingGraph({(0, 1)})"
   ]
  },
  {
   "cell_type": "markdown",
   "id": "e80303fc",
   "metadata": {},
   "source": [
    "### Validate LogicalCircuit transpilation"
   ]
  },
  {
   "cell_type": "code",
   "execution_count": null,
   "id": "0b952da5",
   "metadata": {},
   "outputs": [],
   "source": [
    "pm = PassManager([UnBoxTask()])\n",
    "trotter_decomp = pm.run(trotter_step_circuit)\n",
    "\n",
    "set([op.name for op in trotter_decomp.data])"
   ]
  },
  {
   "cell_type": "code",
   "execution_count": null,
   "id": "73576e43",
   "metadata": {},
   "outputs": [],
   "source": [
    "J_coupling = 2 * np.pi * 6E6\n",
    "theta_final = np.pi / 4\n",
    "num_steps = 20\n",
    "dt = (theta_final / J_coupling) / num_steps\n",
    "\n",
    "initial_state_vector = np.array([1, 0, 2, 0]) / np.sqrt(5)\n",
    "initial_sv = Statevector(initial_state_vector)\n",
    "\n",
    "trotter_step_circuit = get_heisenberg_model_circuit(dt, J_coupling, depth=20, recursion_degree=1, initial_sv=initial_sv)\n",
    "#trotter_decomp = trotter_step_circuit.decompose(gates_to_decompose='circuit')\n",
    "pm = PassManager([UnBoxTask()])\n",
    "trotter_decomp = pm.run(trotter_step_circuit)\n",
    "\n",
    "#trotter_decomp.initialize(current_sv, [0,1])"
   ]
  },
  {
   "cell_type": "code",
   "execution_count": null,
   "id": "1627ffd7",
   "metadata": {},
   "outputs": [],
   "source": [
    "set([op.name for op in trotter_decomp.data])"
   ]
  },
  {
   "cell_type": "code",
   "execution_count": null,
   "id": "480f3f24",
   "metadata": {},
   "outputs": [],
   "source": [
    "Statevector(trotter_decomp.data[0].params)"
   ]
  },
  {
   "cell_type": "code",
   "execution_count": null,
   "id": "c87e5049",
   "metadata": {},
   "outputs": [],
   "source": [
    "trotter_step_circuit.data"
   ]
  },
  {
   "cell_type": "code",
   "execution_count": null,
   "id": "88cc7bd9",
   "metadata": {},
   "outputs": [],
   "source": [
    "trotter_decomp.draw(output='mpl')"
   ]
  },
  {
   "cell_type": "code",
   "execution_count": null,
   "id": "139f95f4",
   "metadata": {},
   "outputs": [],
   "source": [
    "lqcirc = LogicalCircuit.from_physical_circuit(trotter_decomp, **steane_code)    \n",
    "lqcirc.encode([0, 1])\n",
    "lqcirc.measure([0, 1], [0, 1], with_error_correction=False)\n",
    "\n",
    "pm = PassManager([UnBoxTask()])\n",
    "unboxed_circuit = pm.run(lqcirc)\n",
    "#unboxed_circuit.draw(output=\"mpl\")"
   ]
  },
  {
   "cell_type": "code",
   "execution_count": null,
   "id": "8a6fdc24",
   "metadata": {},
   "outputs": [],
   "source": [
    "unboxed_circuit.count_ops()"
   ]
  },
  {
   "cell_type": "code",
   "execution_count": null,
   "id": "52f238c4",
   "metadata": {},
   "outputs": [],
   "source": [
    "print(f\"Num ops: {sum(list(unboxed_circuit.count_ops().values()))}\")"
   ]
  },
  {
   "cell_type": "code",
   "execution_count": null,
   "id": "60ac4033",
   "metadata": {},
   "outputs": [],
   "source": [
    "# Sim parameters\n",
    "J_coupling = 2 * np.pi * 6E6\n",
    "theta_final = np.pi / 4\n",
    "num_steps = 20\n",
    "thetas = np.linspace(0, theta_final, num_steps)\n",
    "dt = (theta_final / J_coupling) / num_steps\n",
    "\n",
    "# Initial state: 1/sqrt(5) * (|0> + 2|1>) @ |1>  = 1/sqrt(5) * (|01> + 2|11>)\n",
    "initial_state_vector = np.array([1, 0, 2, 0]) / np.sqrt(5)\n",
    "initial_sv = Statevector(initial_state_vector)\n",
    "\n",
    "# Define observables for expectation values\n",
    "X1 = SparsePauliOp(\"XI\")\n",
    "X2 = SparsePauliOp(\"IX\")\n",
    "\n",
    "# H = J * (XX + YY + ZZ)\n",
    "heisenberg_hamiltonian = J_coupling * (\n",
    "    SparsePauliOp(\"XX\") + SparsePauliOp(\"YY\") + SparsePauliOp(\"ZZ\")\n",
    ")\n",
    "H_matrix = heisenberg_hamiltonian.to_matrix()\n",
    "\n",
    "#trotter_step_circuit = get_heisenberg_model_circuit(dt, J_coupling, depth=20, recursion_degree=1)\n",
    "#transpiled_qc = transpile(trotter_step_circuit.decompose(), optimization_level=3, basis_gates=[\"unitary\", \"cx\", \"cy\", \"cz\"])\n",
    "#basis = [\"s\", \"sdg\", \"t\", \"tdg\", \"h\", \"x\", \"y\", \"z\", \"cz\"]\n",
    "#approx = generate_basic_approximations(basis, depth=14)\n",
    "#skd = SolovayKitaev(recursion_degree=3, basic_approximations=approx)\n",
    "#trotter_step_circuit = skd(transpiled_qc)\n",
    "#get_op_count(transpiled_qc)\n",
    "#get_op_count(trotter_step_circuit.decompose())\n",
    "\n",
    "results = {\n",
    "    \"statevectors\": [],\n",
    "    \"exp_x1\": [],\n",
    "    \"exp_x2\": [],\n",
    "    \"fidelities\": []\n",
    "}\n",
    "\n",
    "# Start with a copy of the initial statevector\n",
    "current_sv = initial_sv.copy()\n",
    "\n",
    "for step in tqdm(range(num_steps)):\n",
    "    \n",
    "    # Evolve current statevector by 1 iter.\n",
    "    #current_sv = current_sv.evolve(lg_trotter_step_circuit)\n",
    "    #trotter_step_circuit.initialize(current_sv)\n",
    "    trotter_step_circuit = get_heisenberg_model_circuit(dt, J_coupling, depth=20, recursion_degree=1, initial_sv=current_sv)\n",
    "    lqcirc = LogicalCircuit.from_physical_circuit(trotter_step_circuit.decompose(), **steane_code)\n",
    "    lqcirc.encode(0)\n",
    "    lqcirc.measure([0, 1], [0, 1], with_error_correction=False)\n",
    "    \n",
    "    if step == 0:\n",
    "        get_op_count(lqcirc.decompose(reps=2))\n",
    "        print(lqcirc.count_ops())\n",
    "    \n",
    "    result = execute_circuits(lqcirc, backend=\"aer_simulator\", hardware_model=hardware_models_Quantinuum[\"H2-1\"], coupling_map=None, shots=1, save_statevector=True)[0]\n",
    "    #output = result.get_memory(lqcirc)\n",
    "    #counts = lqcirc.get_logical_counts(output)\n",
    "    current_sv = result[\"statevector\"]\n",
    "    \n",
    "    results[\"statevectors\"].append(current_sv.copy())\n",
    "    \n",
    "    # Calculate exp. values\n",
    "    exp_x1 = current_sv.expectation_value(X1).real\n",
    "    exp_x2 = current_sv.expectation_value(X2).real\n",
    "    results[\"exp_x1\"].append(exp_x1)\n",
    "    results[\"exp_x2\"].append(exp_x2)\n",
    "    \n",
    "    # Calculate fidelity\n",
    "    current_time = (step + 1) * dt\n",
    "    U_ideal = expm(-1j * H_matrix * current_time)\n",
    "    ideal_sv = Statevector(np.dot(U_ideal, initial_state_vector))\n",
    "    fidelity = state_fidelity(current_sv, ideal_sv)\n",
    "    results[\"fidelities\"].append(fidelity)\n",
    "\n",
    "print(\"Optimized simulation complete!\")\n",
    "print(f\"Stored data for {len(results['statevectors'])} time steps.\")\n",
    "\n",
    "plt.style.use('seaborn-v0_8-darkgrid')\n",
    "fig, ax = plt.subplots(figsize=(10, 6))\n",
    "\n",
    "ax.plot(thetas, results[\"exp_x1\"], 'o-', label=r'$\\langle\\sigma_1^x\\rangle$')\n",
    "ax.plot(thetas, results[\"exp_x2\"], 's-', label=r'$\\langle\\sigma_2^x\\rangle$')\n",
    "ax.plot(thetas, results[\"fidelities\"], '^-', label='Fidelity', color='green')\n",
    "\n",
    "ax.set_xlabel(r'$\\theta = Jt$', fontsize=14)\n",
    "ax.set_ylabel('Expectation Value / Fidelity', fontsize=14)\n",
    "ax.set_title('Heisenberg Model Time Evolution', fontsize=16)\n",
    "ax.legend(fontsize=12)\n",
    "plt.show()"
   ]
  },
  {
   "cell_type": "markdown",
   "id": "6f41a7f2",
   "metadata": {},
   "source": [
    "### Benchmark QEC"
   ]
  },
  {
   "cell_type": "code",
   "execution_count": null,
   "id": "d099eaa3",
   "metadata": {},
   "outputs": [],
   "source": [
    "trotter_step_circuit = get_heisenberg_model_circuit(dt, J_coupling, quality = 4)\n",
    "transpiled_qc = transpile(trotter_step_circuit.decompose(), optimization_level=3, basis_gates=[\"u\", \"cz\", \"cx\"])\n",
    "basis = [\"s\", \"sdg\", \"t\", \"tdg\", \"h\", \"x\", \"y\", \"z\", \"cz\"]\n",
    "approx = generate_basic_approximations(basis, depth=3)\n",
    "skd = SolovayKitaev(recursion_degree=2, basic_approximations=approx)\n",
    "trotter_step_circuit = skd(transpiled_qc)\n",
    "get_op_count(transpiled_qc)\n",
    "get_op_count(trotter_step_circuit)\n",
    "transpiled_qc.draw(output=\"mpl\")"
   ]
  },
  {
   "cell_type": "markdown",
   "id": "104a8799",
   "metadata": {},
   "source": [
    "# Check length of logical rotation gates"
   ]
  },
  {
   "cell_type": "code",
   "execution_count": null,
   "id": "683c0c41",
   "metadata": {},
   "outputs": [],
   "source": [
    "J_coupling = 2 * np.pi * 6E6\n",
    "theta_final = np.pi / 4\n",
    "num_steps = 20\n",
    "thetas = np.linspace(0, theta_final, num_steps)\n",
    "theta = thetas[4]\n",
    "\n",
    "qc = QuantumCircuit(1)\n",
    "append_rot_gate(qc, \"x\", 2 * theta, [0], depth=20, recursion_degree=1)"
   ]
  },
  {
   "cell_type": "code",
   "execution_count": null,
   "id": "9dbb8876",
   "metadata": {},
   "outputs": [],
   "source": [
    "qc.draw(output='mpl')"
   ]
  },
  {
   "cell_type": "code",
   "execution_count": null,
   "id": "4b00a5a2",
   "metadata": {},
   "outputs": [],
   "source": [
    "pm = PassManager([UnBoxTask()])\n",
    "qc_unboxed = pm.run(qc)\n",
    "\n",
    "qc_unboxed.count_ops()"
   ]
  },
  {
   "cell_type": "code",
   "execution_count": null,
   "id": "358e7de6",
   "metadata": {},
   "outputs": [],
   "source": [
    "print(qc_unboxed.size())"
   ]
  },
  {
   "cell_type": "markdown",
   "id": "b4588128",
   "metadata": {},
   "source": [
    "## Check LCU implementation of R gates"
   ]
  },
  {
   "cell_type": "code",
   "execution_count": null,
   "id": "5e1b8bd2",
   "metadata": {},
   "outputs": [],
   "source": [
    "from LogicalQ.Library.QECCs import steane_code\n",
    "from LogicalQ.Logical import LogicalStatevector, logical_state_fidelity, LogicalCircuit\n",
    "from LogicalQ.tests.TestLogicalGates import TestRx\n",
    "\n",
    "TestRx([steane_code], 50, 16)"
   ]
  },
  {
   "cell_type": "code",
   "execution_count": 2,
   "id": "90299b16",
   "metadata": {},
   "outputs": [
    {
     "name": "stderr",
     "output_type": "stream",
     "text": [
      "100%|██████████| 64/64 [00:09<00:00,  6.76it/s]\n"
     ]
    },
    {
     "data": {
      "text/plain": [
       "Text(0, 0.5, 'Fidelity')"
      ]
     },
     "execution_count": 2,
     "metadata": {},
     "output_type": "execute_result"
    },
    {
     "data": {
      "image/png": "[encoded data removed]",
      "text/plain": [
       "<Figure size 640x480 with 1 Axes>"
      ]
     },
     "metadata": {},
     "output_type": "display_data"
    }
   ],
   "source": [
    "#from LogicalQ.tests.TestLogicalGates import TestRx\n",
    "\n",
    "import numpy as np\n",
    "\n",
    "def TestRX(qeccs=None, shots=5e3, num_steps=16):\n",
    "\n",
    "    lsv_list = []\n",
    "\n",
    "    thetas = np.linspace(0, 2 * np.pi, num_steps)\n",
    "    fidelity_per_theta = {}\n",
    "\n",
    "    for theta in tqdm(thetas):\n",
    "        fidelities = []\n",
    "        for qecc in qeccs:\n",
    "            n, k, d = qecc[\"label\"]\n",
    "\n",
    "            lqc_rx = LogicalCircuit(k, **qecc)\n",
    "            lqc_rx.encode([0], initial_states=[0])\n",
    "\n",
    "            lqc_rx.h(0)\n",
    "            lqc_rx.t(0)\n",
    "            #lqc_rx.rx([0], theta)\n",
    "            lqc_rx.rx([0], theta)\n",
    "\n",
    "            lqc_rx.measure_all()\n",
    "    \n",
    "            # from actual statevector\n",
    "            result = execute_circuits(lqc_rx, backend=\"aer_simulator\", shots=shots, save_statevector=True)[0]#, hardware_model=hardware_models_Quantinuum[\"H2-1\"], coupling_map=None)[0] #, coupling_map=None,\n",
    "            sv = result.get_statevector()\n",
    "            lsv = LogicalStatevector(sv, lqc_rx, k, qecc[\"label\"], qecc[\"stabilizer_tableau\"])\n",
    "            \n",
    "            # from counts\n",
    "            #result = execute_circuits(lqc_rx, backend=\"aer_simulator\", shots=shots)[0]#, save_memory=True)[0]#save_statevector=True)[0]#, hardware_model=hardware_models_Quantinuum[\"H2-1\"], coupling_map=None)[0]\n",
    "            #counts = result.get_counts()#get_memory()\n",
    "            #lsv = LogicalStatevector.from_counts(counts, k, **qecc)\n",
    "            \n",
    "            qc_rx = QuantumCircuit(1)\n",
    "            qc_rx.h(0)\n",
    "            qc_rx.t(0)\n",
    "            #qc_rx.rx(theta, 0)\n",
    "            qc_rx.rx(theta, 0)\n",
    "            target_sv = Statevector(qc_rx)\n",
    "            \n",
    "            lsv_list.append((sv,lsv,target_sv))\n",
    "            \n",
    "            fidelity = logical_state_fidelity(lsv, target_sv)\n",
    "            fidelities.append(fidelity)\n",
    "        fidelity_per_theta[theta] = fidelities\n",
    "\n",
    "    return fidelity_per_theta, lsv_list\n",
    "\n",
    "fidelities_per_theta, lsv_list = TestRX([steane_code], 1, 64)\n",
    "\n",
    "fidel_list = [el[0] for el in list(fidelities_per_theta.values())]\n",
    "#fidel_list[fidel_list == [np.nan]] = 0\n",
    "\n",
    "num_steps = 64\n",
    "thetas = np.linspace(0, 2 * np.pi, num_steps)\n",
    "import matplotlib.pyplot as plt\n",
    "plt.scatter(thetas, fidel_list)\n",
    "plt.title(\"Rx Gate Fidelity with Parameter Theta\")\n",
    "plt.xlabel(\"Theta (rad)\")\n",
    "plt.ylabel(\"Fidelity\")"
   ]
  },
  {
   "cell_type": "code",
   "execution_count": null,
   "id": "88ee0c78",
   "metadata": {},
   "outputs": [],
   "source": [
    "fidel_list = [el[0] for el in list(fidelities_per_theta.values())]\n",
    "#fidel_list[fidel_list == [np.nan]] = 0\n",
    "\n",
    "num_steps = 256\n",
    "thetas = np.linspace(0, 2 * np.pi, num_steps)\n",
    "import matplotlib.pyplot as plt\n",
    "plt.scatter(thetas, fidel_list)\n",
    "plt.title(\"Ry Gate Fidelity with Parameter Theta\")\n",
    "plt.xlabel(\"Theta (rad)\")\n",
    "plt.ylabel(\"Fidelity\")\n",
    "plt.ylim([0, 1])"
   ]
  },
  {
   "cell_type": "code",
   "execution_count": 3,
   "id": "3fd4a9e0",
   "metadata": {},
   "outputs": [
    {
     "data": {
      "text/plain": [
       "[0, 1]"
      ]
     },
     "execution_count": 3,
     "metadata": {},
     "output_type": "execute_result"
    }
   ],
   "source": [
    "lister = [0, 1, 2]\n",
    "lister[:2]"
   ]
  },
  {
   "cell_type": "code",
   "execution_count": null,
   "id": "6e759ac9",
   "metadata": {},
   "outputs": [
    {
     "data": {
      "text/latex": [
       "$$\\begin{align}\n",
       "(0.49141470429744016-0.4908038371058192j) \\ket{0}_L + (0.7194603407293999+0j) \\ket{1}_L + 0j \\ket{\\psi_L^\\perp}\\end{align}\n",
       "$$"
      ],
      "text/plain": [
       "<IPython.core.display.Latex object>"
      ]
     },
     "execution_count": 3,
     "metadata": {},
     "output_type": "execute_result"
    }
   ],
   "source": [
    "sv, lsv, target_sv = lsv_list[31]\n",
    "lsv.draw(output='latex')"
   ]
  },
  {
   "cell_type": "code",
   "execution_count": 4,
   "id": "1d98129d",
   "metadata": {},
   "outputs": [
    {
     "data": {
      "text/latex": [
       "$$(0.5174732522 - 0.499844591 i) |0\\rangle+(0.0124653459 - 0.6944216538 i) |1\\rangle$$"
      ],
      "text/plain": [
       "<IPython.core.display.Latex object>"
      ]
     },
     "execution_count": 4,
     "metadata": {},
     "output_type": "execute_result"
    }
   ],
   "source": [
    "target_sv.draw(output='latex')"
   ]
  },
  {
   "cell_type": "code",
   "execution_count": 5,
   "id": "688ac2bc",
   "metadata": {},
   "outputs": [
    {
     "data": {
      "text/plain": [
       "0.4999999999999998"
      ]
     },
     "execution_count": 5,
     "metadata": {},
     "output_type": "execute_result"
    }
   ],
   "source": [
    "logical_state_fidelity(lsv, target_sv)"
   ]
  },
  {
   "cell_type": "code",
   "execution_count": null,
   "id": "815aa20c",
   "metadata": {},
   "outputs": [],
   "source": [
    "fidel_list = [el[0] for el in list(fidelities_per_theta.values())]\n",
    "np.mean(fidel_list)"
   ]
  },
  {
   "cell_type": "code",
   "execution_count": null,
   "id": "07399368",
   "metadata": {},
   "outputs": [],
   "source": [
    "fidel_list = [el[0] for el in list(fidelities_per_theta.values())]\n",
    "#fidel_list[fidel_list == [np.nan]] = 0\n",
    "\n",
    "num_steps = 64\n",
    "thetas = np.linspace(0, 2 * np.pi, num_steps)\n",
    "import matplotlib.pyplot as plt\n",
    "plt.scatter(thetas, fidel_list)\n",
    "plt.title(\"Ry Gate Fidelity with Parameter Theta\")\n",
    "plt.xlabel(\"Theta (rad)\")\n",
    "plt.ylabel(\"Fidelity\")"
   ]
  },
  {
   "cell_type": "code",
   "execution_count": null,
   "id": "7cdc4c19",
   "metadata": {},
   "outputs": [],
   "source": [
    "from LogicalQ.Library.QECCs import steane_code\n",
    "from LogicalQ.Logical import LogicalStatevector, logical_state_fidelity, LogicalCircuit\n",
    "from LogicalQ.tests.TestLogicalGates import TestRx\n",
    "from LogicalQ.Library.QECCs import steane_code\n",
    "from LogicalQ.Experiments import execute_circuits\n",
    "from qiskit import QuantumCircuit\n",
    "from qiskit.quantum_info import Statevector\n",
    "from tqdm import tqdm\n",
    "import numpy as np\n",
    "\n",
    "shots = 500\n",
    "thetas = np.linspace(0, 2 * np.pi, 16)\n",
    "theta = 1 #thetas[2]\n",
    "qecc = steane_code\n",
    "n, k, d = qecc[\"label\"]\n",
    "\n",
    "lqc_rx = LogicalCircuit(k, **qecc)\n",
    "lqc_rx.encode([0], initial_states=[0])\n",
    "\n",
    "targets = list(range(k))\n",
    "lqc_rx.rx(targets, np.pi)\n",
    "#lqc_rx.x(0)\n",
    "\n",
    "lqc_rx.measure_all()\n",
    "\n",
    "result = execute_circuits(lqc_rx, backend=\"aer_simulator\", shots=shots, save_statevector=True)[0] #hardware_model=hardware_models_Quantinuum[\"H2-1\"], coupling_map=None,\n",
    "sv = result.get_statevector()\n",
    "sv.draw(output='latex')"
   ]
  },
  {
   "cell_type": "code",
   "execution_count": null,
   "id": "fc1d115f",
   "metadata": {},
   "outputs": [],
   "source": [
    "print(np.where(sv.data != 0))\n",
    "lsv = LogicalStatevector(sv, lqc_rx, k, qecc[\"label\"], qecc[\"stabilizer_tableau\"])\n",
    "\n",
    "qc_rx = QuantumCircuit(1)\n",
    "qc_rx.rx(theta, 0)\n",
    "target_sv = Statevector(qc_rx)\n",
    "\n",
    "fidelity = logical_state_fidelity(lsv, target_sv)\n",
    "fidelity"
   ]
  },
  {
   "cell_type": "markdown",
   "id": "ca6542b4",
   "metadata": {},
   "source": [
    "Test Rx scaling with length"
   ]
  },
  {
   "cell_type": "code",
   "execution_count": null,
   "id": "40147137",
   "metadata": {},
   "outputs": [],
   "source": [
    "num_steps = 10\n",
    "theta = 1.202353234\n",
    "shots = 30\n",
    "\n",
    "initial_state_vector = np.array([1, 0])\n",
    "initial_sv = Statevector(initial_state_vector)\n",
    "\n",
    "results = {\n",
    "    \"statevectors\": [],\n",
    "    \"exp_x1\": [],\n",
    "    \"exp_x2\": [],\n",
    "    \"fidelities\": []\n",
    "}\n",
    "\n",
    "# Start with a copy of the initial statevector\n",
    "current_sv = initial_sv.copy()\n",
    "\n",
    "qc_rx = QuantumCircuit(1)\n",
    "qc_rx.rx(theta, 0)\n",
    "qecc = steane_code\n",
    "\n",
    "for step in tqdm(range(num_steps)):\n",
    "    #print(f\"step {step}\")    \n",
    "    # Evolve current statevector by 1 iter.\n",
    "    #current_sv = current_sv.evolve(lg_trotter_step_circuit)\n",
    "    #trotter_step_circuit.initialize(current_sv)\n",
    "    #trotter_step_circuit = get_heisenberg_model_circuit(dt, J_coupling, depth=20, recursion_degree=1, initial_sv=current_sv)\n",
    "\n",
    "    ideal_sv = Statevector(qc_rx)\n",
    "    \n",
    "    _, k, _ = qecc[\"label\"]\n",
    "    lqc_rx = LogicalCircuit.from_physical_circuit(qc_rx, **qecc) #LogicalCircuit(k, **qecc)\n",
    "    #print(f\"lqc size: {lqc_rx.size()}\")\n",
    "    lqc_rx.measure_all()\n",
    "\n",
    "    result = execute_circuits(lqc_rx, backend=\"aer_simulator\", shots=shots, save_statevector=True, hardware_model=hardware_models_Quantinuum[\"H2-1\"], coupling_map=None)[0] #, coupling_map=None,\n",
    "    #sv = result.get_statevector()\n",
    "    #current_lsv = LogicalStatevector(sv, lqc_rx, k, qecc[\"label\"], qecc[\"stabilizer_tableau\"])\n",
    "    #output = result.get_memory(lqcirc)\n",
    "    #counts = lqcirc.get_logical_counts(output)\n",
    "    #current_sv = result[\"statevector\"]\n",
    "    #result = execute_circuits(lqc_rx, backend=\"aer_simulator\", shots=shots)[0]#, save_memory=True)[0]#save_statevector=True)[0]#, hardware_model=hardware_models_Quantinuum[\"H2-1\"], coupling_map=None)[0] #, coupling_map=None,\n",
    "    #sv = result.get_statevector()\n",
    "    counts = result.get_counts()#get_memory()\n",
    "    current_lsv = LogicalStatevector.from_counts(counts, k, **qecc)\n",
    "    \n",
    "    #print(f\"qc size: {qc_rx.size()}\")\n",
    "    \n",
    "    qc_rx.rx(theta, 0)\n",
    "    \n",
    "    fidelity = logical_state_fidelity(current_lsv, ideal_sv)\n",
    "    results[\"statevectors\"].append((current_lsv.copy(), ideal_sv))\n",
    "    results[\"fidelities\"].append(fidelity)\n",
    "\n",
    "print(\"Optimized simulation complete!\")\n",
    "print(f\"Stored data for {len(results['statevectors'])} time steps.\")\n",
    "\n",
    "plt.style.use('seaborn-v0_8-darkgrid')\n",
    "fig, ax = plt.subplots(figsize=(10, 6))\n",
    "\n",
    "num_gates_list = list(range(num_steps))\n",
    "ax.plot(num_gates_list, results[\"fidelities\"], '^-', label='Fidelity', color='green')\n",
    "\n",
    "ax.set_xlabel(r'$Number of stacked Rx gates$', fontsize=14)\n",
    "ax.set_ylabel('Fidelity', fontsize=14)\n",
    "ax.set_title('Fidelity with number of Rx gates', fontsize=16)\n",
    "ax.legend(fontsize=12)\n",
    "plt.show()"
   ]
  },
  {
   "cell_type": "code",
   "execution_count": null,
   "id": "7810a25c",
   "metadata": {},
   "outputs": [],
   "source": [
    "lqc_rx.draw(output='mpl')"
   ]
  }
 ],
 "metadata": {
  "kernelspec": {
   "display_name": "venv (3.12.6)",
   "language": "python",
   "name": "python3"
  },
  "language_info": {
   "codemirror_mode": {
    "name": "ipython",
    "version": 3
   },
   "file_extension": ".py",
   "mimetype": "text/x-python",
   "name": "python",
   "nbconvert_exporter": "python",
   "pygments_lexer": "ipython3",
   "version": "3.12.6"
  }
 },
 "nbformat": 4,
 "nbformat_minor": 5
}

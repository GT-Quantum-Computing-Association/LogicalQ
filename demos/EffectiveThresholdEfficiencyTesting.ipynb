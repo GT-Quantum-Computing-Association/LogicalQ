{
 "cells": [
  {
   "cell_type": "code",
   "execution_count": null,
   "id": "08a8d894-a2b4-4185-872a-d1d3cdf173b0",
   "metadata": {},
   "outputs": [],
   "source": [
    "import numpy as np\n",
    "\n",
    "from LogicalQ.Logical import LogicalCircuit\n",
    "from LogicalQ.Library.QECCs import steane_code\n",
    "from LogicalQ.Benchmarks import mirror_benchmarking\n",
    "from LogicalQ.Library.HardwareModels import hardware_model_Quantinuum_H2_1\n",
    "from LogicalQ.NoiseModel import construct_noise_model_QuantinuumH2_1\n",
    "from LogicalQ.Experiments import qec_cycle_efficiency_experiment\n",
    "from LogicalQ.Analysis import qec_cycle_efficiency_scatter"
   ]
  },
  {
   "cell_type": "markdown",
   "id": "12444933-2752-43ae-9cef-2a86ef0f1013",
   "metadata": {},
   "source": [
    "## Circuit input"
   ]
  },
  {
   "cell_type": "code",
   "execution_count": null,
   "id": "9e70e15e-f879-45be-a02f-53c6129b10f7",
   "metadata": {},
   "outputs": [],
   "source": [
    "# Mirror benchmarking\n",
    "qc_mb_circuit = mirror_benchmarking(n_qubits=1, circuit_length=4)\n",
    "qc_mb_circuit.draw(\"mpl\")"
   ]
  },
  {
   "cell_type": "markdown",
   "id": "92fa5f2c-0485-4c4a-9c28-9c35224c4936",
   "metadata": {},
   "source": [
    "## Experiment"
   ]
  },
  {
   "cell_type": "code",
   "execution_count": null,
   "id": "81c8cc82-0278-4501-afaf-b3c4b5867abf",
   "metadata": {},
   "outputs": [],
   "source": [
    "constraint_scan_keys = [\n",
    "    \"effective_threshold\",\n",
    "    \"cost_ops_1q\",\n",
    "]\n",
    "constraint_scan_val_lists = [\n",
    "    [1E-2],\n",
    "    1/np.arange(1,1+1,2),\n",
    "]"
   ]
  },
  {
   "cell_type": "code",
   "execution_count": null,
   "id": "7d64e69e-f76b-47e9-9a53-18b8d5642bc5",
   "metadata": {},
   "outputs": [],
   "source": [
    "data = qec_cycle_efficiency_experiment(\n",
    "    circuit_input=qc_mb_circuit,\n",
    "    qecc=steane_code,\n",
    "    constraint_scan_keys=constraint_scan_keys, constraint_scan_val_lists=constraint_scan_val_lists,\n",
    "    backend=\"aer_simulator\",\n",
    "    hardware_model=hardware_model_Quantinuum_H2_1, noise_model=None, basis_gates=None, coupling_map=None,\n",
    "    method=\"statevector\", optimization_level=1, shots=1E2,\n",
    "    with_mp=False,\n",
    "    save_dir=None, save_filename=None\n",
    ")"
   ]
  },
  {
   "cell_type": "code",
   "execution_count": null,
   "id": "60e51121-ee99-4ded-abf0-cabb181677be",
   "metadata": {},
   "outputs": [],
   "source": [
    "qec_cycle_efficiency_scatter(data)"
   ]
  },
  {
   "cell_type": "code",
   "execution_count": null,
   "id": "3c1e03c7-271b-45a8-b782-4bdc9f40e105",
   "metadata": {},
   "outputs": [],
   "source": []
  }
 ],
 "metadata": {
  "kernelspec": {
   "display_name": "Python 3 (ipykernel)",
   "language": "python",
   "name": "python3"
  },
  "language_info": {
   "codemirror_mode": {
    "name": "ipython",
    "version": 3
   },
   "file_extension": ".py",
   "mimetype": "text/x-python",
   "name": "python",
   "nbconvert_exporter": "python",
   "pygments_lexer": "ipython3",
   "version": "3.13.5"
  }
 },
 "nbformat": 4,
 "nbformat_minor": 5
}

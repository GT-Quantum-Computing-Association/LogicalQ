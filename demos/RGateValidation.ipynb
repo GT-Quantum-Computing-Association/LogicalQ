{
 "cells": [
  {
   "cell_type": "markdown",
   "id": "25af808e",
   "metadata": {},
   "source": [
    "### Imports"
   ]
  },
  {
   "cell_type": "code",
   "execution_count": 4,
   "id": "840f5f6b",
   "metadata": {},
   "outputs": [],
   "source": [
    "from LogicalQ.Logical import LogicalCircuit, LogicalStatevector, logical_state_fidelity\n",
    "from LogicalQ.Library.QECCs import steane_code\n",
    "from LogicalQ.Experiments import execute_circuits\n",
    "from LogicalQ.Library.HardwareModels import hardware_models_Quantinuum\n",
    "from qiskit.quantum_info import Statevector\n",
    "from qiskit import QuantumCircuit\n",
    "from qiskit.transpiler import PassManager\n",
    "from LogicalQ.Transpilation.UnBox import UnBoxTask"
   ]
  },
  {
   "cell_type": "markdown",
   "id": "220cd1ea",
   "metadata": {},
   "source": [
    "### Rx Gate"
   ]
  },
  {
   "cell_type": "code",
   "execution_count": null,
   "id": "fec2083e",
   "metadata": {},
   "outputs": [],
   "source": [
    "qecc = steane_code\n",
    "n, k, d = qecc['label']\n",
    "\n",
    "lqcirc = LogicalCircuit(1, **qecc)\n",
    "\n",
    "theta = 15.0\n",
    "\n",
    "circ = QuantumCircuit(1)\n",
    "circ.rx(theta, 0)\n",
    "\n",
    "lqcirc.encode(0)\n",
    "lqcirc.rx([0], theta)\n",
    "lqcirc.measure([0], [0], with_error_correction=False)\n",
    "#lqcirc.draw(output='mpl')"
   ]
  },
  {
   "cell_type": "code",
   "execution_count": null,
   "id": "2af6cd2c",
   "metadata": {},
   "outputs": [],
   "source": [
    "result = execute_circuits(lqcirc, backend=\"aer_simulator\", hardware_model=hardware_models_Quantinuum[\"H2-1\"], coupling_map=None, shots=1, save_statevector=True)[0]\n",
    "\n",
    "l_sv = result.get_statevector()\n",
    "lsv = LogicalStatevector(l_sv, lqcirc, k, qecc[\"label\"], qecc[\"stabilizer_tableau\"])\n",
    "\n",
    "p_sv = Statevector(circ)\n",
    "\n",
    "fidelity = logical_state_fidelity(lsv, p_sv)\n",
    "fidelity"
   ]
  },
  {
   "cell_type": "code",
   "execution_count": null,
   "id": "cd343288",
   "metadata": {},
   "outputs": [],
   "source": [
    "lsv.draw(output='latex')"
   ]
  },
  {
   "cell_type": "code",
   "execution_count": null,
   "id": "a8e58a4b",
   "metadata": {},
   "outputs": [],
   "source": [
    "p_sv.draw(output='latex')"
   ]
  },
  {
   "cell_type": "markdown",
   "id": "efd73912",
   "metadata": {},
   "source": [
    "### Ry Gate"
   ]
  },
  {
   "cell_type": "code",
   "execution_count": null,
   "id": "aa3435b6",
   "metadata": {},
   "outputs": [],
   "source": [
    "qecc = steane_code\n",
    "n, k, d = qecc['label']\n",
    "\n",
    "lqcirc = LogicalCircuit(1, **qecc)\n",
    "\n",
    "theta = 15.0\n",
    "\n",
    "circ = QuantumCircuit(1)\n",
    "circ.ry(theta, 0)\n",
    "\n",
    "lqcirc.encode(0)\n",
    "lqcirc.ry([0], theta)\n",
    "lqcirc.measure([0], [0], with_error_correction=False)\n",
    "#lqcirc.draw(output='mpl')"
   ]
  },
  {
   "cell_type": "code",
   "execution_count": null,
   "id": "e961f286",
   "metadata": {},
   "outputs": [],
   "source": [
    "result = execute_circuits(lqcirc, backend=\"aer_simulator\", hardware_model=hardware_models_Quantinuum[\"H2-1\"], coupling_map=None, shots=1, save_statevector=True)[0]\n",
    "\n",
    "l_sv = result.get_statevector()\n",
    "lsv = LogicalStatevector(l_sv, lqcirc, k, qecc[\"label\"], qecc[\"stabilizer_tableau\"])\n",
    "\n",
    "p_sv = Statevector(circ)\n",
    "\n",
    "fidelity = logical_state_fidelity(lsv, p_sv)\n",
    "fidelity"
   ]
  },
  {
   "cell_type": "code",
   "execution_count": null,
   "id": "09c5ee03",
   "metadata": {},
   "outputs": [],
   "source": [
    "lsv.draw(output='latex')"
   ]
  },
  {
   "cell_type": "code",
   "execution_count": null,
   "id": "04b5edf7",
   "metadata": {},
   "outputs": [],
   "source": [
    "p_sv.draw(output='latex')"
   ]
  },
  {
   "cell_type": "markdown",
   "id": "bd3dc7fd",
   "metadata": {},
   "source": [
    "### Rz Gate"
   ]
  },
  {
   "cell_type": "code",
   "execution_count": null,
   "id": "fa50cf34",
   "metadata": {},
   "outputs": [],
   "source": [
    "qecc = steane_code\n",
    "n, k, d = qecc['label']\n",
    "\n",
    "lqcirc = LogicalCircuit(1, **qecc)\n",
    "\n",
    "theta = 15.0\n",
    "\n",
    "circ = QuantumCircuit(1)\n",
    "circ.h(0)\n",
    "circ.t(0)\n",
    "circ.rz(theta, 0)\n",
    "\n",
    "lqcirc.encode(0)\n",
    "lqcirc.h(0)\n",
    "lqcirc.t(0)\n",
    "lqcirc.rz([0], theta, depth=20, recursion_degree=1)\n",
    "lqcirc.measure([0], [0], with_error_correction=False)\n",
    "#lqcirc.draw(output='mpl')"
   ]
  },
  {
   "cell_type": "code",
   "execution_count": null,
   "id": "6756cec6",
   "metadata": {},
   "outputs": [],
   "source": [
    "#lqcirc.decompose().draw(output='mpl')\n",
    "\n",
    "pm = PassManager([UnBoxTask()])\n",
    "qc_unboxed = pm.run(lqcirc)\n",
    "\n",
    "qc_unboxed.draw(output='mpl')"
   ]
  },
  {
   "cell_type": "code",
   "execution_count": null,
   "id": "41495a97",
   "metadata": {},
   "outputs": [],
   "source": [
    "result = execute_circuits(lqcirc, backend=\"aer_simulator\", shots=1000, save_statevector=True)[0]#, hardware_model=hardware_models_Quantinuum[\"H2-1\"], coupling_map=None)[0]\n",
    "\n",
    "l_sv = result.get_statevector()\n",
    "lsv = LogicalStatevector(l_sv, lqcirc, k, qecc[\"label\"], qecc[\"stabilizer_tableau\"])\n",
    "#counts = result.get_counts()\n",
    "#lsv = LogicalStatevector.from_counts(counts, k, **qecc)\n",
    "\n",
    "p_sv = Statevector(circ)\n",
    "\n",
    "fidelity = logical_state_fidelity(lsv, p_sv)\n",
    "fidelity"
   ]
  },
  {
   "cell_type": "code",
   "execution_count": null,
   "id": "027bd021",
   "metadata": {},
   "outputs": [],
   "source": [
    "lsv.draw(output='latex')"
   ]
  },
  {
   "cell_type": "code",
   "execution_count": null,
   "id": "2f8dba4e",
   "metadata": {},
   "outputs": [],
   "source": [
    "p_sv.draw(output='latex')"
   ]
  },
  {
   "cell_type": "markdown",
   "id": "12f53d84",
   "metadata": {},
   "source": [
    "### Rxx Gate"
   ]
  },
  {
   "cell_type": "code",
   "execution_count": 2,
   "id": "c460027f",
   "metadata": {},
   "outputs": [],
   "source": [
    "qecc = steane_code\n",
    "n, k, d = qecc['label']\n",
    "\n",
    "lqcirc = LogicalCircuit(2, **qecc)\n",
    "\n",
    "theta = 15.0\n",
    "\n",
    "circ = QuantumCircuit(2)\n",
    "circ.rxx(theta, 0, 1)\n",
    "\n",
    "lqcirc.encode([0, 1])\n",
    "lqcirc.rxx(theta, [0, 1])\n",
    "lqcirc.measure([0, 1], [0, 1], with_error_correction=False)\n",
    "#lqcirc.draw(output='mpl')"
   ]
  },
  {
   "cell_type": "code",
   "execution_count": 5,
   "id": "5bbfd4e2",
   "metadata": {},
   "outputs": [
    {
     "data": {
      "text/plain": [
       "OrderedDict([('h', 38),\n",
       "             ('cx', 28),\n",
       "             ('reset', 16),\n",
       "             ('measure', 16),\n",
       "             ('clogical.logicalop.z.transversal:$\\\\hat{Z}_{L}$', 15),\n",
       "             ('clogical.logicalop.x.transversal:$\\\\hat{X}_{L}$', 10),\n",
       "             ('x', 5),\n",
       "             ('s', 2),\n",
       "             ('sdg', 2),\n",
       "             ('cclogical.logicalop.z.transversal:$\\\\hat{Z}_{L}$', 2),\n",
       "             ('if_else', 2),\n",
       "             ('t', 1),\n",
       "             ('tdg', 1)])"
      ]
     },
     "execution_count": 5,
     "metadata": {},
     "output_type": "execute_result"
    }
   ],
   "source": [
    "pm = PassManager([UnBoxTask()])\n",
    "qc_unboxed = pm.run(lqcirc)\n",
    "\n",
    "qc_unboxed.draw(output='mpl')\n",
    "\n",
    "qc_unboxed.count_ops()"
   ]
  },
  {
   "cell_type": "code",
   "execution_count": null,
   "id": "ac9d25a6",
   "metadata": {},
   "outputs": [],
   "source": [
    "result = execute_circuits(lqcirc, backend=\"aer_simulator\", shots=1, save_statevector=True)[0]#, hardware_model=hardware_models_Quantinuum[\"H2-1\"], coupling_map=None)[0]"
   ]
  },
  {
   "cell_type": "code",
   "execution_count": 9,
   "id": "4d51a019",
   "metadata": {},
   "outputs": [],
   "source": [
    "l_sv = result.get_statevector()"
   ]
  },
  {
   "cell_type": "code",
   "execution_count": null,
   "id": "70067afe",
   "metadata": {},
   "outputs": [],
   "source": [
    "lsv = LogicalStatevector(l_sv, lqcirc, k, qecc[\"label\"], qecc[\"stabilizer_tableau\"])"
   ]
  },
  {
   "cell_type": "code",
   "execution_count": null,
   "id": "e578d2b6",
   "metadata": {},
   "outputs": [
    {
     "ename": "NameError",
     "evalue": "name 'l_sv' is not defined",
     "output_type": "error",
     "traceback": [
      "\u001b[31m---------------------------------------------------------------------------\u001b[39m",
      "\u001b[31mNameError\u001b[39m                                 Traceback (most recent call last)",
      "\u001b[36mCell\u001b[39m\u001b[36m \u001b[39m\u001b[32mIn[8]\u001b[39m\u001b[32m, line 1\u001b[39m\n\u001b[32m----> \u001b[39m\u001b[32m1\u001b[39m lsv = LogicalStatevector(\u001b[43ml_sv\u001b[49m, lqcirc, k, qecc[\u001b[33m\"\u001b[39m\u001b[33mlabel\u001b[39m\u001b[33m\"\u001b[39m], qecc[\u001b[33m\"\u001b[39m\u001b[33mstabilizer_tableau\u001b[39m\u001b[33m\"\u001b[39m])\n\u001b[32m      2\u001b[39m \u001b[38;5;66;03m#counts = result.get_counts()\u001b[39;00m\n\u001b[32m      3\u001b[39m \u001b[38;5;66;03m#lsv = LogicalStatevector.from_counts(counts, k, **qecc)\u001b[39;00m\n\u001b[32m      5\u001b[39m p_sv = Statevector(circ)\n",
      "\u001b[31mNameError\u001b[39m: name 'l_sv' is not defined"
     ]
    }
   ],
   "source": [
    "p_sv = Statevector(circ)\n",
    "\n",
    "fidelity = logical_state_fidelity(lsv, p_sv)\n",
    "fidelity"
   ]
  },
  {
   "cell_type": "markdown",
   "id": "73967418",
   "metadata": {},
   "source": [
    "Notes: Initializing LSV from Statevector is very slow. WIP to fix before Rxx gate validation."
   ]
  }
 ],
 "metadata": {
  "kernelspec": {
   "display_name": "venv (3.12.6)",
   "language": "python",
   "name": "python3"
  },
  "language_info": {
   "codemirror_mode": {
    "name": "ipython",
    "version": 3
   },
   "file_extension": ".py",
   "mimetype": "text/x-python",
   "name": "python",
   "nbconvert_exporter": "python",
   "pygments_lexer": "ipython3",
   "version": "3.12.6"
  }
 },
 "nbformat": 4,
 "nbformat_minor": 5
}

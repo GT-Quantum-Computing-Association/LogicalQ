{
 "cells": [
  {
   "cell_type": "code",
   "execution_count": null,
   "id": "56208f95-0741-41fe-9fbb-869a8f804179",
   "metadata": {},
   "outputs": [],
   "source": [
    "import numpy as np\n",
    "\n",
    "from LogicalQ.Logical import LogicalCircuit\n",
    "from LogicalQ.Library.QECCs import steane_code\n",
    "from LogicalQ.Library.HardwareModels import hardware_models_Quantinuum\n",
    "from LogicalQ.NoiseModel import construct_noise_model_from_hardware_model\n",
    "from LogicalQ.Estimators import compute_effective_threshold\n",
    "from LogicalQ.Benchmarks import mirror_benchmarking\n",
    "from LogicalQ.Experiments import execute_circuits, qec_cycle_efficiency_experiment\n",
    "from LogicalQ.Analysis import qec_cycle_efficiency_scatter"
   ]
  },
  {
   "cell_type": "markdown",
   "id": "aaaa64d9-392a-4288-82f4-c4e8f9445fde",
   "metadata": {},
   "source": [
    "## Compute the effective threshold"
   ]
  },
  {
   "cell_type": "code",
   "execution_count": null,
   "id": "d7972d43-6ada-4ab7-a8f8-048c893a68e5",
   "metadata": {
    "scrolled": true
   },
   "outputs": [],
   "source": [
    "_, _, effective_threshold = compute_effective_threshold(\n",
    "    hardware_models_Quantinuum[\"H2-1\"],\n",
    "    **steane_code\n",
    ")"
   ]
  },
  {
   "cell_type": "markdown",
   "id": "734d65c8-f3d0-4dc2-a972-c5b4316e2012",
   "metadata": {},
   "source": [
    "## Comparing single-constraint models"
   ]
  },
  {
   "cell_type": "markdown",
   "id": "54b0e0aa-70de-4bbf-8577-d1e08cf1ba85",
   "metadata": {},
   "source": [
    "### Prepare experiment inputs"
   ]
  },
  {
   "cell_type": "code",
   "execution_count": null,
   "id": "dc20b519-b040-4e6c-9df5-4381e354c473",
   "metadata": {},
   "outputs": [],
   "source": [
    "qc = mirror_benchmarking(n_qubits=1, circuit_length=8, seed=1111)\n",
    "qc.draw(\"mpl\")"
   ]
  },
  {
   "cell_type": "code",
   "execution_count": null,
   "id": "0207299d-d5ce-4aae-bcd2-cf14c80adc79",
   "metadata": {},
   "outputs": [],
   "source": [
    "constraint_scan_key_list = [\n",
    "    \"cost_ops_1q\",\n",
    "    \"cost_ops_pauli_1q\",\n",
    "    \"cost_ops_clifford_1q\",\n",
    "    \"cost_ops_nonclifford_1q\",\n",
    "]\n",
    "\n",
    "constraint_scan_values = np.linspace(effective_threshold/20, effective_threshold, 20)"
   ]
  },
  {
   "cell_type": "code",
   "execution_count": null,
   "id": "bf23a3c7-fd26-4ce0-9247-25ed3cc30eb6",
   "metadata": {
    "scrolled": true
   },
   "outputs": [],
   "source": [
    "data_list = []\n",
    "for constraint_scan_key in constraint_scan_key_list:\n",
    "    data = qec_cycle_efficiency_experiment(\n",
    "        circuit_input=qc,\n",
    "        qecc=steane_code,\n",
    "        constraint_scan_keys=[\"effective_threshold\", constraint_scan_key],\n",
    "        constraint_scan_val_lists=[[effective_threshold], constraint_scan_values],\n",
    "        backend=\"aer_simulator\",\n",
    "        hardware_model=hardware_models_Quantinuum[\"H2-1\"], coupling_map=None, noise_model=None,\n",
    "        method=\"statevector\", shots=1E3, with_mp=False,\n",
    "        save_dir=None, save_filename=None\n",
    "    )\n",
    "    data_list.append(data)"
   ]
  },
  {
   "cell_type": "code",
   "execution_count": null,
   "id": "109b2af5-3f21-4374-9629-b5fa82560e0c",
   "metadata": {},
   "outputs": [],
   "source": [
    "for data, constraint_scan_key in zip(data_list, constraint_scan_key_list):\n",
    "    qec_cycle_efficiency_scatter(data, scan_keys=[constraint_scan_key])"
   ]
  },
  {
   "cell_type": "code",
   "execution_count": null,
   "id": "4a01bf51-67c6-49b9-b598-7ef16ed572a5",
   "metadata": {},
   "outputs": [],
   "source": [
    "qec_cycle_indices_list = [(list(datum[\"constraint_model\"].values())[1], datum[\"qec_cycle_indices\"]) for datum in data_list[0][0][\"results\"]]\n",
    "print(qec_cycle_indices_list)"
   ]
  },
  {
   "cell_type": "code",
   "execution_count": null,
   "id": "dea13603-5183-46fc-820e-5a016997e793",
   "metadata": {
    "scrolled": true
   },
   "outputs": [],
   "source": [
    "lqc = data_list[0][0][\"logical_circuit\"]\n",
    "lqc.insert_qec_cycles(qec_cycle_indices=qec_cycle_indices_list[-1][1])\n",
    "lqc.draw(\"mpl\")"
   ]
  },
  {
   "cell_type": "code",
   "execution_count": null,
   "id": "fd6b9b06-9dcd-4339-82cc-2b0cd7862ed5",
   "metadata": {},
   "outputs": [],
   "source": []
  }
 ],
 "metadata": {
  "kernelspec": {
   "display_name": "Python 3 (ipykernel)",
   "language": "python",
   "name": "python3"
  },
  "language_info": {
   "codemirror_mode": {
    "name": "ipython",
    "version": 3
   },
   "file_extension": ".py",
   "mimetype": "text/x-python",
   "name": "python",
   "nbconvert_exporter": "python",
   "pygments_lexer": "ipython3",
   "version": "3.13.7"
  }
 },
 "nbformat": 4,
 "nbformat_minor": 5
}

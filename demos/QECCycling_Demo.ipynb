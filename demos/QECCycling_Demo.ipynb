{
 "cells": [
  {
   "cell_type": "code",
   "execution_count": null,
   "id": "cf094d55-2d09-45f1-81c8-408050c035ba",
   "metadata": {},
   "outputs": [],
   "source": [
    "from LogicalQ.Logical import LogicalCircuit\n",
    "from LogicalQ.Library.QECCs import steane_code"
   ]
  },
  {
   "cell_type": "code",
   "execution_count": null,
   "id": "5db26da5-0fa5-4d6f-b10b-cb5fd197cf3c",
   "metadata": {},
   "outputs": [],
   "source": [
    "# Construct a LogicalCircuit with two logical qubits\n",
    "lqc = LogicalCircuit(2, **steane_code)"
   ]
  },
  {
   "cell_type": "code",
   "execution_count": null,
   "id": "b005376c-425e-44bb-a3c1-1c853e689c73",
   "metadata": {},
   "outputs": [],
   "source": [
    "# Encode qubits in different states\n",
    "lqc.encode([0, 1], [0, 1])\n",
    "\n",
    "lqc.draw(\"mpl\")"
   ]
  },
  {
   "cell_type": "code",
   "execution_count": null,
   "id": "7ae051ab-9801-450e-aef8-b2da38b47bd7",
   "metadata": {},
   "outputs": [],
   "source": [
    "# We can manually append a single QEC cycle to the end of the circuit:\n",
    "lqc.append_qec_cycle([0, 1])\n",
    "\n",
    "lqc.draw(\"mpl\")"
   ]
  },
  {
   "cell_type": "code",
   "execution_count": null,
   "id": "208194b1-e007-4030-8abb-0598cadef630",
   "metadata": {},
   "outputs": [],
   "source": [
    "# Let's make the circuit more complex\n",
    "\n",
    "for _ in range(1):\n",
    "    lqc.x(0)\n",
    "    lqc.z(1)\n",
    "\n",
    "lqc.barrier(label=\"QEC should go here ->\")\n",
    "i = len(lqc.data)\n",
    "print(f\"Will ask for a QEC cycle on both qubits at index {i}\")\n",
    "lqc.barrier(label=\"<- QEC should go here\")\n",
    "\n",
    "for _ in range(1):\n",
    "    lqc.x(1)\n",
    "\n",
    "lqc.cx(0,1)\n",
    "\n",
    "lqc.barrier(label=\"QEC should go here ->\")\n",
    "j = len(lqc.data)\n",
    "print(f\"Will ask for a QEC cycle on qubit 1 at index {j}\")\n",
    "lqc.barrier(label=\"<- QEC should go here\")\n",
    "\n",
    "lqc.draw(\"mpl\")"
   ]
  },
  {
   "cell_type": "code",
   "execution_count": null,
   "id": "eeaa542f-aca5-4918-9c54-df378d8ab45b",
   "metadata": {},
   "outputs": [],
   "source": [
    "# Now, we can manually insert QEC cycle in specific locations:\n",
    "lqc.insert_qec_cycles([0, 1], [[i,j], [j]], False)\n",
    "\n",
    "lqc.draw(\"mpl\")"
   ]
  },
  {
   "cell_type": "code",
   "execution_count": null,
   "id": "1e750046-ad7c-49d0-9800-21972bb6e7e6",
   "metadata": {},
   "outputs": [],
   "source": [
    "# We can provide a constraint model and let it decide where to insert QEC cycles\n",
    "constraint_model = {\n",
    "    \"effective_threshold\": 0.01,\n",
    "    \"num_ops_1q\": 5,\n",
    "}\n",
    "new_qec_cycle_indices = lqc.optimize_qec_cycle_indices([0,1], constraint_model)\n",
    "print(\"New QEC cycle indices:\", new_qec_cycle_indices)\n",
    "lqc.insert_qec_cycles(qec_cycle_indices=new_qec_cycle_indices, clear_existing_qec=False)\n",
    "print(lqc.draw(\"mpl\"))"
   ]
  },
  {
   "cell_type": "code",
   "execution_count": null,
   "id": "b17ea2a9-a5af-4abb-acd2-329a4a225058",
   "metadata": {},
   "outputs": [],
   "source": []
  }
 ],
 "metadata": {
  "kernelspec": {
   "display_name": "Python 3 (ipykernel)",
   "language": "python",
   "name": "python3"
  },
  "language_info": {
   "codemirror_mode": {
    "name": "ipython",
    "version": 3
   },
   "file_extension": ".py",
   "mimetype": "text/x-python",
   "name": "python",
   "nbconvert_exporter": "python",
   "pygments_lexer": "ipython3",
   "version": "3.13.3"
  }
 },
 "nbformat": 4,
 "nbformat_minor": 5
}

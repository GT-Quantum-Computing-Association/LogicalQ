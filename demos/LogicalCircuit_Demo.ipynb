{
 "cells": [
  {
   "cell_type": "code",
   "execution_count": 7,
   "metadata": {},
   "outputs": [],
   "source": [
    "import numpy as np\n",
    "import matplotlib.pyplot as plt\n",
    "\n",
    "from qiskit import ClassicalRegister, QuantumRegister, QuantumCircuit, transpile\n",
    "from qiskit_aer import AerSimulator\n",
    "\n",
    "from LogicalQ.Logical import LogicalCircuit\n",
    "from LogicalQ.NoiseModel import construct_noise_model_QuantinuumH1_1\n",
    "\n",
    "%load_ext autoreload\n",
    "%autoreload 2"
   ]
  },
  {
   "cell_type": "code",
   "execution_count": 2,
   "metadata": {},
   "outputs": [],
   "source": [
    "# We use the Steane code to demonstrate the library\n",
    "steane_stabilizer_tableau = [\n",
    "  \"XXXXIII\",\n",
    "  \"IXXIXXI\",\n",
    "  \"IIXXIXX\",\n",
    "  \"ZZZZIII\",\n",
    "  \"IZZIZZI\",\n",
    "  \"IIZZIZZ\",\n",
    "]"
   ]
  },
  {
   "cell_type": "markdown",
   "metadata": {},
   "source": [
    "## Demonstrating error correction"
   ]
  },
  {
   "cell_type": "code",
   "execution_count": null,
   "metadata": {
    "scrolled": true
   },
   "outputs": [],
   "source": [
    "# Runs a shot on a noiseless simulator with an error at each of the physical qubits\n",
    "shots = 1\n",
    "simulator = AerSimulator()\n",
    "\n",
    "outputs = []\n",
    "for i in range(7):\n",
    "    # Generates the circuit\n",
    "    lqcirc = LogicalCircuit(2, [7,1,3], steane_stabilizer_tableau, name=\"SteaneCodeCircuit\")    \n",
    "    lqcirc.encode(0,1, max_iterations=1, initial_states=[0,1])\n",
    "\n",
    "    # Inserts an error on both logical qubits\n",
    "    lqcirc.add_error(0, i, 'X') # Can test X or Z errors\n",
    "    lqcirc.add_error(1, i, 'X')\n",
    "\n",
    "    # Adds QEC cycle and measurement\n",
    "    lqcirc.perform_qec_cycle([0, 1])\n",
    "    lqcirc.measure([0, 1], [0, 1])\n",
    "\n",
    "    # Simulates the QEC cycle\n",
    "    qc = transpile(lqcirc, backend=simulator)\n",
    "    result = simulator.run(qc, shots=shots, memory=True).result()\n",
    "    output = result.get_memory(lqcirc)\n",
    "    outputs.append(output[0][:2])\n",
    "\n",
    "# Outputs should all be 10 if the error correction worked properly\n",
    "print(outputs)"
   ]
  },
  {
   "cell_type": "markdown",
   "metadata": {},
   "source": [
    "## Benchmarking encoding verification for SPAM"
   ]
  },
  {
   "cell_type": "code",
   "execution_count": null,
   "metadata": {},
   "outputs": [],
   "source": [
    "from qiskit.visualization import plot_histogram\n",
    "\n",
    "# Tests SPAM. Accuracy (historically) should be about 99.3%\n",
    "initial_state = 0\n",
    "max_max_it = 5\n",
    "shots = int(1E6)\n",
    "\n",
    "simulator = AerSimulator()\n",
    "noise_model = construct_noise_model_QuantinuumH1_1(n_qubits=lqcirc.num_qubits, ignore_qubits=[lqcirc.num_qubits-1, lqcirc.num_qubits-1-1])\n",
    "\n",
    "fig, ax = plt.subplots()\n",
    "plot_option = \"probs\"\n",
    "width = 0.3\n",
    "\n",
    "outcomes = range(1, max_max_it+1)\n",
    "all_data = []\n",
    "\n",
    "for max_it in range(1, max_max_it+1):\n",
    "    lqcirc = LogicalCircuit(1, (7,1,3), steane_stabilizer_tableau, \"test_circuit\")\n",
    "    lqcirc.encode(0, initial_states=[initial_state], max_iterations=max_it)\n",
    "    lqcirc.measure([0], [0], with_error_correction=False)\n",
    "    \n",
    "    lqcirc_transpiled = transpile(lqcirc, backend=simulator)\n",
    "    result = simulator.run(lqcirc_transpiled, shots=shots, memory=True, noise_model=noise_model).result()\n",
    "    output = result.get_memory(lqcirc_transpiled)\n",
    "    counts = lqcirc.get_logical_output_counts(output)\n",
    "\n",
    "    if plot_option == \"counts\":\n",
    "        data = counts\n",
    "    elif plot_option == \"probs\":\n",
    "        data = [counts['0']/shots, counts['1']/shots]\n",
    "    else:\n",
    "        raise ValueError(f\"'{plot_option}' is not a valid plot_option; choose from ['counts', 'probs']\")\n",
    "\n",
    "    bar = ax.bar(max_it, data[initial_state], width, log=True, label=f\"max_iterations={max_it}\")\n",
    "    ax.bar_label(bar)\n",
    "\n",
    "ax.set_xticks(outcomes)\n",
    "\n",
    "ax.set_yscale(\"log\")\n",
    "\n",
    "ax.set_title(\"Encoding verification test\")\n",
    "ax.set_xlabel(\"Max number of iterations\")\n",
    "ax.set_ylabel(f\"N({initial_state})\" if plot_option == \"counts\" else f\"P({initial_state})\")\n",
    "\n",
    "ax.legend()\n",
    "\n",
    "plt.show()"
   ]
  },
  {
   "cell_type": "markdown",
   "metadata": {},
   "source": [
    "## Comparing Hadamard gate implementations"
   ]
  },
  {
   "cell_type": "code",
   "execution_count": null,
   "metadata": {},
   "outputs": [],
   "source": [
    "# Clear library cache during development\n",
    "import sys, importlib\n",
    "from qiskit import transpile\n",
    "from qiskit_aer import AerSimulator\n",
    "from qiskit.visualization import plot_histogram\n",
    "import matplotlib.pyplot as plt\n",
    "\n",
    "initial_state = 0\n",
    "n_gates = 10\n",
    "increments = 2   #Test every (increment) number of H gates\n",
    "#n_gates = 100\n",
    "shots = 10000\n",
    "\n",
    "stabilizer_tableau = [\n",
    "  \"XXXXIII\",\n",
    "  \"IXXIXXI\",\n",
    "  \"IIXXIXX\",\n",
    "  \"ZZZZIII\",\n",
    "  \"IZZIZZI\",\n",
    "  \"IIZZIZZ\",\n",
    "]\n",
    "\n",
    "\n",
    "lqcirc = LogicalCircuit(2, [7,1,3], steane_stabilizer_tableau, name=\"SteaneCodeCircuit\")    \n",
    "lqcirc.encode(0,1, max_iterations=1, initial_states=[0,1])\n",
    "\n",
    "simulator = AerSimulator()\n",
    "noise_model = construct_noise_model_QuantinuumH1_1(n_qubits=lqcirc.num_qubits, ignore_qubits=[lqcirc.num_qubits-1, lqcirc.num_qubits-1-1])\n",
    "\n",
    "all_data = []\n",
    "\n",
    "for max_it in range(n_gates + 1):\n",
    "    # Create and encode logical circuit\n",
    "    lqcirc = LogicalCircuit(1, (7,1,3), stabilizer_tableau, \"test_circuit\")\n",
    "    lqcirc.encode(0, initial_states=[initial_state])\n",
    "\n",
    "    # Append H gates max_it times on logical qubit 0\n",
    "    for _ in range(max_it * increments):   #Add a +1 in the range constructor to test odd numbers of gates\n",
    "        lqcirc.h(0)  #replace with our gate implementation\n",
    "\n",
    "    # Measure \n",
    "    lqcirc.measure([0], [0], with_error_correction=False)\n",
    "\n",
    "    # Transpile\n",
    "    lqcirc_transpiled = transpile(lqcirc, backend=simulator)\n",
    "\n",
    "    # Simulate\n",
    "    result = simulator.run(\n",
    "        lqcirc_transpiled,\n",
    "        shots=shots,\n",
    "        memory=True,\n",
    "        noise_model=noise_model\n",
    "    ).result()\n",
    "\n",
    "    output = result.get_memory()\n",
    "    all_data.append(output)"
   ]
  },
  {
   "cell_type": "code",
   "execution_count": 6,
   "metadata": {},
   "outputs": [
    {
     "data": {
      "image/png": "[encoded data removed]",
      "text/plain": [
       "<Figure size 640x480 with 1 Axes>"
      ]
     },
     "metadata": {},
     "output_type": "display_data"
    }
   ],
   "source": [
    "accuracies = []\n",
    "for output in all_data:\n",
    "    log_counts = lqcirc.get_logical_output_counts(output)\n",
    "    acc = log_counts['0'] / (log_counts['0'] + log_counts['1'])\n",
    "    accuracies.append(acc)\n",
    "\n",
    "h_gates_applied = range(0, (n_gates + 1) * increments, increments)\n",
    "plt.plot(h_gates_applied, accuracies, 'o--')\n",
    "plt.xlabel('Number of H gates applied')\n",
    "plt.ylabel('Rate of Measured 0')\n",
    "plt.show()"
   ]
  },
  {
   "cell_type": "markdown",
   "metadata": {},
   "source": [
    "## Performing QEC cycles on demand"
   ]
  },
  {
   "cell_type": "code",
   "execution_count": null,
   "metadata": {},
   "outputs": [],
   "source": [
    "lqcirc = LogicalCircuit(1, (7,1,3), steane_stabilizer_tableau)\n",
    "lqcirc.encode(0, initial_states=[1])\n",
    "lqcirc.perform_qec_cycle([0])\n",
    "#lqcirc.draw('mpl')"
   ]
  },
  {
   "cell_type": "markdown",
   "metadata": {},
   "source": [
    "## Constructing LogicalCircuits from physical QuantumCircuits"
   ]
  },
  {
   "cell_type": "code",
   "execution_count": null,
   "metadata": {},
   "outputs": [],
   "source": [
    "# We can also construct a logical circuit from a physical qubit circuit, first by constructing a QuantumCircuit:\n",
    "pqc = QuantumCircuit(2)\n",
    "pqc.x(0)\n",
    "# pqc.h(0)\n",
    "# pqc.cx(0,1)\n",
    "pqc.draw(output=\"mpl\")"
   ]
  },
  {
   "cell_type": "code",
   "execution_count": null,
   "metadata": {},
   "outputs": [],
   "source": [
    "# Then, we convert the QuantumCircuit to a LogicalCircuit:\n",
    "lqc = LogicalCircuit.from_physical_circuit(pqc, (7,1,3), steane_stabilizer_tableau)\n",
    "lqc.draw(output=\"mpl\")"
   ]
  }
 ],
 "metadata": {
  "kernelspec": {
   "display_name": "Python 3",
   "language": "python",
   "name": "python3"
  },
  "language_info": {
   "codemirror_mode": {
    "name": "ipython",
    "version": 3
   },
   "file_extension": ".py",
   "mimetype": "text/x-python",
   "name": "python",
   "nbconvert_exporter": "python",
   "pygments_lexer": "ipython3",
   "version": "3.12.0"
  }
 },
 "nbformat": 4,
 "nbformat_minor": 4
}

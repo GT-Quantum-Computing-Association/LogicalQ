{
 "cells": [
  {
   "cell_type": "code",
   "execution_count": null,
   "metadata": {},
   "outputs": [],
   "source": [
    "import numpy as np\n",
    "import matplotlib.pyplot as plt\n",
    "\n",
    "from qiskit import ClassicalRegister, QuantumRegister, QuantumCircuit, transpile\n",
    "from qiskit_aer import AerSimulator\n",
    "\n",
    "from LogicalQ.Logical import LogicalCircuit\n",
    "from LogicalQ.Library.QECCs import steane_code\n",
    "from LogicalQ.Library.HardwareModels import hardware_models_Quantinuum\n",
    "from LogicalQ.Experiments import execute_circuits\n",
    "\n",
    "%load_ext autoreload\n",
    "%autoreload 2"
   ]
  },
  {
   "cell_type": "markdown",
   "metadata": {},
   "source": [
    "## Demonstrating error correction"
   ]
  },
  {
   "cell_type": "code",
   "execution_count": null,
   "metadata": {
    "scrolled": true
   },
   "outputs": [],
   "source": [
    "# Runs a shot on a noiseless simulator with an error at each of the physical qubits\n",
    "shots = 1\n",
    "simulator = AerSimulator()\n",
    "\n",
    "outputs = []\n",
    "for i in range(7):\n",
    "    # Generates the circuit\n",
    "    lqcirc = LogicalCircuit(2, **steane_code, name=\"SteaneCodeCircuit\")    \n",
    "    lqcirc.encode(0,1, max_iterations=1, initial_states=[0,1])\n",
    "\n",
    "    # Inserts an error on both logical qubits\n",
    "    lqcirc.add_error(0, i, 'X') # Can test X or Z errors\n",
    "    lqcirc.add_error(1, i, 'X')\n",
    "\n",
    "    # Adds QEC cycle and measurement\n",
    "    lqcirc.append_qec_cycle([0, 1])\n",
    "    lqcirc.measure([0, 1], [0, 1])\n",
    "\n",
    "    # Simulates the QEC cycle\n",
    "    result = execute_circuits(lqcirc, backend=simulator, shots=shots, memory=True)[0]\n",
    "    output = result.get_memory(lqcirc)\n",
    "    outputs.append(output[0][:2])\n",
    "\n",
    "# Outputs should all be 10 if the error correction worked properly\n",
    "print(outputs)"
   ]
  },
  {
   "cell_type": "markdown",
   "metadata": {},
   "source": [
    "## Benchmarking encoding verification for SPAM"
   ]
  },
  {
   "cell_type": "code",
   "execution_count": null,
   "metadata": {},
   "outputs": [],
   "source": [
    "from qiskit.visualization import plot_histogram\n",
    "\n",
    "# Tests SPAM. Accuracy (historically) should be about 99.3%\n",
    "initial_state = 0\n",
    "max_max_it = 5\n",
    "shots = int(1E3)\n",
    "\n",
    "backend = \"aer_simulator\"\n",
    "\n",
    "fig, ax = plt.subplots()\n",
    "plot_option = \"probs\"\n",
    "width = 0.3\n",
    "\n",
    "outcomes = range(1, max_max_it+1)\n",
    "all_data = []\n",
    "\n",
    "for max_it in range(1, max_max_it+1):\n",
    "    lqcirc = LogicalCircuit(1, **steane_code, name=\"test_circuit\")\n",
    "    lqcirc.encode(0, initial_states=[initial_state], max_iterations=max_it)\n",
    "    lqcirc.measure([0], [0], with_error_correction=False)\n",
    "    \n",
    "    result = execute_circuits(lqcirc, backend=backend, hardware_model=hardware_models_Quantinuum[\"H2-1\"], coupling_map=None, shots=shots, memory=True)[0]\n",
    "    output = result.get_memory(lqcirc)\n",
    "    counts = lqcirc.get_logical_counts(output)\n",
    "\n",
    "    if plot_option == \"counts\":\n",
    "        data = counts\n",
    "    elif plot_option == \"probs\":\n",
    "        p0 = counts[\"0\"]/shots if \"0\" in counts else 1-(counts[\"1\"]/shots)\n",
    "        data = [p0, 1-p0]\n",
    "    else:\n",
    "        raise ValueError(f\"'{plot_option}' is not a valid plot_option; choose from ['counts', 'probs']\")\n",
    "\n",
    "    bar = ax.bar(max_it, data[0], width, log=False, label=f\"max_iterations={max_it}\")\n",
    "    ax.bar_label(bar)\n",
    "\n",
    "ax.set_xticks(outcomes)\n",
    "\n",
    "ax.set_yscale(\"log\")\n",
    "\n",
    "ax.set_title(\"Encoding verification test\")\n",
    "ax.set_xlabel(\"Max number of iterations\")\n",
    "ax.set_ylabel(f\"N({initial_state})\" if plot_option == \"counts\" else f\"P({initial_state})\")\n",
    "\n",
    "ax.legend()\n",
    "\n",
    "plt.show()"
   ]
  },
  {
   "cell_type": "markdown",
   "metadata": {},
   "source": [
    "## Comparing Hadamard gate implementations"
   ]
  },
  {
   "cell_type": "code",
   "execution_count": null,
   "metadata": {},
   "outputs": [],
   "source": [
    "initial_state = 0\n",
    "n_gates = 10\n",
    "increments = 2   # Test every (increment) number of H gates\n",
    "shots = 10000\n",
    "\n",
    "lqcirc = LogicalCircuit(2, **steane_code, name=\"SteaneCodeCircuit\")    \n",
    "lqcirc.encode([0,1], max_iterations=1, initial_states=[0,1])\n",
    "\n",
    "backend = \"aer_simulator\"\n",
    "\n",
    "all_data = []\n",
    "\n",
    "for max_it in range(n_gates + 1):\n",
    "    # Create and encode logical circuit\n",
    "    lqcirc = LogicalCircuit(1, **steane_code, name=\"test_circuit\")\n",
    "    lqcirc.encode(0, initial_states=[initial_state])\n",
    "\n",
    "    # Append H gates max_it times on logical qubit 0\n",
    "    for _ in range(max_it * increments):   # Add a +1 in the range constructor to test odd numbers of gates\n",
    "        lqcirc.h(0)\n",
    "\n",
    "    # Measure \n",
    "    lqcirc.measure([0], [0], with_error_correction=False)\n",
    "\n",
    "    # Simulate\n",
    "    result = execute_circuits(lqcirc, backend=backend, hardware_model=hardware_models_Quantinuum[\"H2-1\"], coupling_map=None, shots=shots, memory=True)[0]\n",
    "    output = result.get_memory(lqcirc)\n",
    "    all_data.append(output)"
   ]
  },
  {
   "cell_type": "code",
   "execution_count": null,
   "metadata": {},
   "outputs": [],
   "source": [
    "accuracies = []\n",
    "for output in all_data:\n",
    "    log_counts = lqcirc.get_logical_counts(output)\n",
    "    acc = log_counts['0'] / (log_counts['0'] + log_counts['1'])\n",
    "    accuracies.append(acc)\n",
    "\n",
    "h_gates_applied = range(0, (n_gates + 1) * increments, increments)\n",
    "plt.plot(h_gates_applied, accuracies, 'o--')\n",
    "plt.xlabel('Number of H gates applied')\n",
    "plt.ylabel('Rate of Measured 0')\n",
    "plt.show()"
   ]
  },
  {
   "cell_type": "markdown",
   "metadata": {},
   "source": [
    "## Appending QEC cycles on demand"
   ]
  },
  {
   "cell_type": "code",
   "execution_count": null,
   "metadata": {},
   "outputs": [],
   "source": [
    "lqcirc = LogicalCircuit(1, **steane_code)\n",
    "lqcirc.encode(0, initial_states=[1])\n",
    "lqcirc.append_qec_cycle([0])\n",
    "#lqcirc.draw('mpl')"
   ]
  },
  {
   "cell_type": "markdown",
   "metadata": {},
   "source": [
    "## Constructing LogicalCircuits from physical QuantumCircuits"
   ]
  },
  {
   "cell_type": "code",
   "execution_count": null,
   "metadata": {},
   "outputs": [],
   "source": [
    "# We can also construct a logical circuit from a physical qubit circuit, first by constructing a QuantumCircuit:\n",
    "pqc = QuantumCircuit(2)\n",
    "pqc.x(0)\n",
    "# pqc.h(0)\n",
    "# pqc.cx(0,1)\n",
    "pqc.draw(output=\"mpl\")"
   ]
  },
  {
   "cell_type": "code",
   "execution_count": null,
   "metadata": {},
   "outputs": [],
   "source": [
    "# Then, we convert the QuantumCircuit to a LogicalCircuit:\n",
    "lqc = LogicalCircuit.from_physical_circuit(pqc, **steane_code)\n",
    "lqc.draw(output=\"mpl\")"
   ]
  }
 ],
 "metadata": {
  "kernelspec": {
   "display_name": "venv (3.12.6)",
   "language": "python",
   "name": "python3"
  },
  "language_info": {
   "codemirror_mode": {
    "name": "ipython",
    "version": 3
   },
   "file_extension": ".py",
   "mimetype": "text/x-python",
   "name": "python",
   "nbconvert_exporter": "python",
   "pygments_lexer": "ipython3",
   "version": "3.12.6"
  }
 },
 "nbformat": 4,
 "nbformat_minor": 4
}

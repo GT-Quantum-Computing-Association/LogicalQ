{
 "cells": [
  {
   "cell_type": "markdown",
   "metadata": {},
   "source": [
    "## Imports"
   ]
  },
  {
   "cell_type": "code",
   "execution_count": null,
   "metadata": {},
   "outputs": [],
   "source": [
    "import numpy as np\n",
    "import matplotlib.pyplot as plt\n",
    "\n",
    "from qiskit import ClassicalRegister, AncillaRegister, QuantumRegister, QuantumCircuit, transpile\n",
    "from qiskit_aer import AerSimulator\n",
    "from qiskit.visualization import plot_histogram\n",
    "\n",
    "from LogicalQ.LogicalGeneral import LogicalCircuitGeneral\n",
    "from LogicalQ.Library.QECCs import five_qubit_code, steane_code, four_qubit_code, shor_code\n",
    "from LogicalQ.NoiseModel import construct_noise_model_QuantinuumH1_1\n",
    "from LogicalQ.Experiments import execute_circuits\n",
    "\n",
    "import random\n",
    "\n",
    "%load_ext autoreload\n",
    "%autoreload 2"
   ]
  },
  {
   "cell_type": "markdown",
   "metadata": {},
   "source": [
    "## Demonstrating error correction with 5-qubit code"
   ]
  },
  {
   "cell_type": "code",
   "execution_count": null,
   "metadata": {},
   "outputs": [],
   "source": [
    "code = five_qubit_code\n",
    "n = code['label'][0]"
   ]
  },
  {
   "cell_type": "code",
   "execution_count": null,
   "metadata": {},
   "outputs": [],
   "source": [
    "#Tests errors measuring in Z basis\n",
    "outputs = []\n",
    "for i in range(n+1):\n",
    "    five_qubit_circ = LogicalCircuitGeneral(2, **code)\n",
    "    five_qubit_circ.encode(0,1, initial_states=[0,1])\n",
    "    if i < n: #Runs the last sim without an error for thorough testing\n",
    "        five_qubit_circ.add_error(0,i,'X') #Also try testing Z type errors\n",
    "        five_qubit_circ.add_error(1,i,'X')\n",
    "    five_qubit_circ.append_qec_cycle([0,1])\n",
    "    five_qubit_circ.measure([0,1], [0,1], meas_basis='Z')\n",
    "    simulator = AerSimulator()\n",
    "    result = execute_circuits(five_qubit_circ, backend=simulator, shots=1, memory=True)[0]\n",
    "    outputs.append(result.get_memory())\n",
    "\n",
    "#The leftmost numbers in the output are the logical measurements. Should all be '10'\n",
    "for o in outputs:\n",
    "    print(o)"
   ]
  },
  {
   "cell_type": "code",
   "execution_count": null,
   "metadata": {},
   "outputs": [],
   "source": [
    "five_qubit_circ = LogicalCircuitGeneral(2, **code)\n",
    "five_qubit_circ.encode(0,1, initial_states=[0,1])\n",
    "five_qubit_circ.add_error(0,1,'X')\n",
    "five_qubit_circ.add_error(1,1,'X')\n",
    "five_qubit_circ.append_qec_cycle([0,1])\n",
    "five_qubit_circ.measure([0,1], [0,1], meas_basis='Z')\n",
    "five_qubit_circ.draw(output='mpl')"
   ]
  },
  {
   "cell_type": "code",
   "execution_count": null,
   "metadata": {},
   "outputs": [],
   "source": [
    "#Tests errors measuring in X basis\n",
    "outputs = []\n",
    "for i in range(n+1):\n",
    "    five_qubit_circ = LogicalCircuitGeneral(2, **code)\n",
    "    five_qubit_circ.encode(0,1, initial_states=[0,1])\n",
    "\n",
    "    if i < n: #Runs the last sim without an error for thorough testing\n",
    "        five_qubit_circ.add_error(0,i,'Z') #Also try testing Z type errors\n",
    "        five_qubit_circ.add_error(1,i,'Z')\n",
    "    five_qubit_circ.append_qec_cycle([0,1])\n",
    "\n",
    "    five_qubit_circ.h([0,1])\n",
    "\n",
    "    five_qubit_circ.measure([0,1], [0,1], meas_basis='X')\n",
    "    \n",
    "    simulator = AerSimulator()\n",
    "    result = execute_circuits(five_qubit_circ, backend=simulator, shots=1, memory=True)[0]\n",
    "    outputs.append(result.get_memory())\n",
    "\n",
    "#The leftmost numbers in the output are the logical measurements. Should all be '10'\n",
    "for o in outputs:\n",
    "    print(o)"
   ]
  },
  {
   "cell_type": "code",
   "execution_count": null,
   "metadata": {},
   "outputs": [],
   "source": [
    "#Tests errors measuring in Y basis\n",
    "outputs = []\n",
    "for i in range(n+1):\n",
    "    five_qubit_circ = LogicalCircuitGeneral(2, **code)\n",
    "    five_qubit_circ.encode(0,1, initial_states=[0,1])\n",
    "    \n",
    "    if i < n: #Runs the last sim without an error for thorough testing\n",
    "        five_qubit_circ.add_error(0,i,'X') #Also try testing Z type errors\n",
    "        five_qubit_circ.add_error(1,i,'X')\n",
    "    five_qubit_circ.append_qec_cycle([0,1])\n",
    "\n",
    "    five_qubit_circ.h([0,1])\n",
    "    five_qubit_circ.s([0,1])\n",
    "    \n",
    "    five_qubit_circ.measure([0,1], [0,1], meas_basis='Y', with_error_correction=True)\n",
    "    simulator = AerSimulator()\n",
    "    result = execute_circuits(five_qubit_circ, backend=simulator, shots=1, memory=True)[0]\n",
    "    outputs.append(result.get_memory())\n",
    "\n",
    "#The leftmost numbers in the output are the logical measurements. Should all be '10'\n",
    "for o in outputs:\n",
    "    print(o)"
   ]
  },
  {
   "cell_type": "code",
   "execution_count": null,
   "metadata": {},
   "outputs": [],
   "source": [
    "#Tests CX pauli frame updates\n",
    "outputs = []\n",
    "for i in range(n+1):\n",
    "    five_qubit_circ = LogicalCircuitGeneral(2, **code)\n",
    "    five_qubit_circ.encode(0,1, initial_states=[1,1])\n",
    "\n",
    "    if i < n: #Runs the last sim without an error for thorough testing\n",
    "        five_qubit_circ.add_error(1,i,'X') #Also try testing Z type errors\n",
    "\n",
    "    five_qubit_circ.append_qec_cycle([0,1])\n",
    "\n",
    "    five_qubit_circ.cx(1,0)\n",
    "\n",
    "    five_qubit_circ.measure([0,1], [0,1], meas_basis='Z', with_error_correction=True)\n",
    "    simulator = AerSimulator(method='stabilizer')\n",
    "    result = execute_circuits(five_qubit_circ, backend=simulator, shots=1, memory=True)[0]\n",
    "    outputs.append(result.get_memory())\n",
    "\n",
    "#The leftmost numbers in the output are the logical measurements. Should all be '10'\n",
    "for o in outputs:\n",
    "    print(o)"
   ]
  },
  {
   "cell_type": "code",
   "execution_count": null,
   "metadata": {},
   "outputs": [],
   "source": [
    "#Tests CZ pauli frame updates\n",
    "outputs = []\n",
    "for i in range(n+1):\n",
    "    five_qubit_circ = LogicalCircuitGeneral(2, **code)\n",
    "    five_qubit_circ.encode(0,1, initial_states=[0,0])\n",
    "\n",
    "    five_qubit_circ.h(1)\n",
    "    five_qubit_circ.cx(1,0)\n",
    "\n",
    "    if i < n: #Runs the last sim without an error for thorough testing\n",
    "        five_qubit_circ.add_error(1,i,'X') #Also try testing Z type errors\n",
    "\n",
    "    five_qubit_circ.append_qec_cycle([0,1])\n",
    "\n",
    "    five_qubit_circ.cz(1,0)\n",
    "    five_qubit_circ.cx(1,0)\n",
    "    five_qubit_circ.h(1)\n",
    "\n",
    "    five_qubit_circ.measure([0,1], [0,1], meas_basis='Z', with_error_correction=True)\n",
    "    simulator = AerSimulator(method='stabilizer')\n",
    "    result = execute_circuits(five_qubit_circ, backend=simulator, shots=1, memory=True)[0]\n",
    "    outputs.append(result.get_memory())\n",
    "\n",
    "#The leftmost numbers in the output are the logical measurements. Should all be '10'\n",
    "for o in outputs:\n",
    "    print(o)"
   ]
  },
  {
   "cell_type": "code",
   "execution_count": null,
   "metadata": {},
   "outputs": [],
   "source": [
    "#Tests CY pauli frame updates\n",
    "outputs = []\n",
    "for i in range(n+1):\n",
    "    five_qubit_circ = LogicalCircuitGeneral(2, **code)\n",
    "    five_qubit_circ.encode(0,1, initial_states=[0,0])\n",
    "\n",
    "    five_qubit_circ.h(1)\n",
    "    \n",
    "    if i < n: #Runs the last sim without an error for thorough testing\n",
    "        five_qubit_circ.add_error(0,i,'X') #Also try testing Z type errors\n",
    "\n",
    "    five_qubit_circ.append_qec_cycle([0,1])\n",
    "\n",
    "    five_qubit_circ.cy(1,0)\n",
    "    five_qubit_circ.s(1)\n",
    "\n",
    "    five_qubit_circ.cx(1,0)\n",
    "    five_qubit_circ.h(1)\n",
    "\n",
    "    five_qubit_circ.measure([0,1], [0,1], meas_basis='Z', with_error_correction=True)\n",
    "    simulator = AerSimulator(method='stabilizer')\n",
    "    result = execute_circuits(five_qubit_circ, backend=simulator, shots=1, memory=True)[0]\n",
    "    outputs.append(result.get_memory())\n",
    "\n",
    "#The leftmost numbers in the output are the logical measurements. Should all be '10'\n",
    "for o in outputs:\n",
    "    print(o)"
   ]
  },
  {
   "cell_type": "code",
   "execution_count": null,
   "metadata": {},
   "outputs": [],
   "source": [
    "#Tests T and T^dagger gate Pauli updates\n",
    "outputs = []\n",
    "for i in range(n+1):\n",
    "    five_qubit_circ = LogicalCircuitGeneral(2, **code)\n",
    "    five_qubit_circ.encode(0,1, initial_states=[0,1])\n",
    "    five_qubit_circ.h([0,1])\n",
    "    five_qubit_circ.t([0,1])\n",
    "\n",
    "    if i < n: #Runs the last sim without an error for thorough testing\n",
    "        five_qubit_circ.add_error(0,i,'X') #Also try testing Z type errors\n",
    "        five_qubit_circ.add_error(1,i,'X')\n",
    "    five_qubit_circ.append_qec_cycle([0,1])\n",
    "\n",
    "    five_qubit_circ.s([0,1])\n",
    "    five_qubit_circ.tdg([0,1])\n",
    "    five_qubit_circ.sdg([0,1])\n",
    "\n",
    "    five_qubit_circ.h([0,1])\n",
    "\n",
    "    five_qubit_circ.measure([0,1], [0,1], meas_basis='Z')\n",
    "    simulator = AerSimulator()\n",
    "    result = execute_circuits(five_qubit_circ, backend=simulator, shots=1, memory=True)[0]\n",
    "    outputs.append(result.get_memory())\n",
    "\n",
    "#The leftmost numbers in the output are the logical measurements. Should all be '10'\n",
    "for o in outputs:\n",
    "    print(o)"
   ]
  },
  {
   "cell_type": "markdown",
   "metadata": {},
   "source": [
    "## Demonstrating error correction with Shor code"
   ]
  },
  {
   "cell_type": "code",
   "execution_count": null,
   "metadata": {},
   "outputs": [],
   "source": [
    "code = shor_code\n",
    "n = code['label'][0]"
   ]
  },
  {
   "cell_type": "code",
   "execution_count": null,
   "metadata": {},
   "outputs": [],
   "source": [
    "shor_circ = LogicalCircuitGeneral(1, **code)\n",
    "shor_circ.encode(0, initial_states=[0])\n",
    "shor_circ.draw(output='mpl')"
   ]
  },
  {
   "cell_type": "markdown",
   "metadata": {},
   "source": [
    "### Verify Shor encoding"
   ]
  },
  {
   "cell_type": "code",
   "execution_count": null,
   "metadata": {},
   "outputs": [],
   "source": [
    "from qiskit import QuantumCircuit, QuantumRegister, ClassicalRegister\n",
    "\n",
    "def remove_past_barrier(circuit: QuantumCircuit) -> QuantumCircuit:\n",
    "    \"\"\"\n",
    "    Extracts all operations from a quantum circuit that occur before the first barrier.\n",
    "\n",
    "    Args:\n",
    "        circuit: The input Qiskit QuantumCircuit.\n",
    "\n",
    "    Returns:\n",
    "        A new QuantumCircuit containing only the operations before the first barrier.\n",
    "        The new circuit will have the same quantum and classical registers as the original.\n",
    "    \"\"\"\n",
    "    new_circuit = QuantumCircuit(*circuit.qregs, *circuit.cregs, name=\"pre-barrier section\")\n",
    "\n",
    "    for instruction in circuit.data:\n",
    "        op = instruction.operation\n",
    "        \n",
    "        if op.name == 'barrier':\n",
    "            break\n",
    "        \n",
    "        new_circuit.append(instruction)\n",
    "            \n",
    "    return new_circuit\n",
    "\n",
    "def prune_circ(circuit: QuantumCircuit, num_qubits_to_keep: int) -> QuantumCircuit:\n",
    "    \"\"\"\n",
    "    Recreates circuit with only first N qubits.\n",
    "    \"\"\"\n",
    "    new_circuit = QuantumCircuit(num_qubits_to_keep, name=f\"first_{num_qubits_to_keep}_qubits\")\n",
    "    for instruction in circuit.data:\n",
    "        qubit_indices = [circuit.qubits.index(q) for q in instruction.qubits]\n",
    "        if not qubit_indices or max(qubit_indices) < num_qubits_to_keep:\n",
    "            new_qubits = [new_circuit.qubits[i] for i in qubit_indices]\n",
    "            new_circuit.append(instruction.operation, new_qubits, instruction.clbits)\n",
    "\n",
    "    return new_circuit\n",
    "\n",
    "def measure_stabilizer(qc: QuantumCircuit, G, idx: int):\n",
    "    \"\"\"Measure the idx'th stabilizer in the list\"\"\"\n",
    "    #n,k,d = qecc[\"label\"]\n",
    "    #stabilizer_tableau = qecc[\"stabilizer_tableau\"]\n",
    "    #stabilizer = stabilizer_tableau[idx]\n",
    "\n",
    "    # Add ancilla for stabilizer measurement\n",
    "    a_reg = AncillaRegister(1)\n",
    "    qc.add_register(a_reg)\n",
    "    c_reg = ClassicalRegister(1)\n",
    "    qc.add_register(c_reg)\n",
    "    \n",
    "    # Perform measurement\n",
    "    qc.barrier()\n",
    "    qc.h(qc.ancillas[0])\n",
    "    for i in range(9):\n",
    "        perform_X = G[0, idx, i]\n",
    "        perform_Z = G[1, idx, i]\n",
    "        if perform_X == 1:\n",
    "            qc.cx(qc.ancillas[0], qc.qubits[i])\n",
    "        elif perform_Z == 1:\n",
    "            qc.cz(qc.ancillas[0], qc.qubits[i])\n",
    "    qc.h(qc.ancillas[0])\n",
    "    qc.measure(qc.ancillas[0], qc.clbits[0])\n",
    "    qc.barrier()\n",
    "    return qc\n",
    "    \n",
    "def generate_encoding(message: int, stabilizer: int, error=None, error_target=None):\n",
    "    shor_circ = LogicalCircuitGeneral(1, **shor_code)\n",
    "    G = shor_circ.G.copy() # Extract stabilizer matrix for stabilizer measurement before pruning circuit\n",
    "    shor_circ.encode(0, initial_states=[message])\n",
    "    shor_circ = prune_circ(remove_past_barrier(shor_circ), 9)\n",
    "    \n",
    "    # Apply error\n",
    "    if error_target is None:\n",
    "        error_target = random.randint(0, 8)\n",
    "    if error == 'X':\n",
    "        shor_circ.x(error_target)\n",
    "    elif error == 'Z':\n",
    "        shor_circ.z(error_target)\n",
    "    \n",
    "    shor_circ = measure_stabilizer(shor_circ, G, stabilizer)\n",
    "    return shor_circ\n",
    "\n",
    "\"\"\"\n",
    "for stabilizer in range(8):\n",
    "    outputs = []\n",
    "    for i in range(100):\n",
    "        qc = generate_encoding(0, 2, error=None)\n",
    "        simulator = AerSimulator()\n",
    "        result = execute_circuits(qc, backend=simulator, shots=1, memory=True)[0]\n",
    "        outputs.append(int(result.get_memory()[0]))\n",
    "    outputs = np.array(outputs)\n",
    "    print(np.mean(outputs))\n",
    "\"\"\""
   ]
  },
  {
   "cell_type": "code",
   "execution_count": null,
   "metadata": {},
   "outputs": [],
   "source": [
    "from tqdm.notebook import tqdm\n",
    "shor_circ = LogicalCircuitGeneral(1, **shor_code)\n",
    "G = shor_circ.G.copy()\n",
    "G_shape = list(G.shape)\n",
    "G_shape[0] += 1\n",
    "del shor_circ\n",
    "measured_errors = np.zeros([2] + G_shape)\n",
    "\n",
    "for k,message in tqdm(enumerate([0,1]), position=0, leave=False):\n",
    "    for j,error in tqdm(enumerate(['X', 'Z', None]), position=1, leave=False):\n",
    "        for stabilizer in tqdm(range(8), position=2, leave=False):\n",
    "            for error_target in tqdm(range(9), position=3, leave=False):\n",
    "                qc = generate_encoding(message, stabilizer, error=error, error_target=error_target)\n",
    "                simulator = AerSimulator()\n",
    "                result = execute_circuits(qc, backend=simulator, shots=1, memory=True)[0]\n",
    "                syndrome_bit = int(result.get_memory()[0])\n",
    "                measured_errors[k, j, stabilizer, error_target] = syndrome_bit"
   ]
  },
  {
   "cell_type": "markdown",
   "metadata": {},
   "source": [
    "Check that stabilizers of G matrix produced by LogicalQ as a simplification of the original tableau is still valid (i.e. all stabilizers commute)"
   ]
  },
  {
   "cell_type": "code",
   "execution_count": null,
   "metadata": {},
   "outputs": [],
   "source": [
    "np.mod(G[0] @ G[1].T + G[1] @ G[0].T, 2)"
   ]
  },
  {
   "cell_type": "markdown",
   "metadata": {},
   "source": [
    "Plot syndrome measurements against generator matrix."
   ]
  },
  {
   "cell_type": "code",
   "execution_count": null,
   "metadata": {},
   "outputs": [],
   "source": [
    "import matplotlib.pyplot as plt\n",
    "import numpy as np\n",
    "import matplotlib.patches as mpatches\n",
    "\n",
    "fig, axs = plt.subplots(3, 2, figsize=(8, 10))\n",
    "\n",
    "m=1\n",
    "\n",
    "axs[0, 0].imshow(G[0], cmap='binary', interpolation='none')\n",
    "axs[0, 0].set_title(\"Generator G[0] (X comp.)\")\n",
    "\n",
    "axs[0, 1].imshow(measured_errors[m,0], cmap='binary', interpolation='none')\n",
    "axs[0, 1].set_title(\"Syndrome (from X error)\")\n",
    "axs[0, 1].set_aspect('auto')\n",
    "\n",
    "\n",
    "axs[1, 0].imshow(G[1], cmap='binary', interpolation='none')\n",
    "axs[1, 0].set_title(\"Generator G[1] (Z comp.)\")\n",
    "\n",
    "\n",
    "axs[1, 1].imshow(measured_errors[m,1], cmap='binary', interpolation='none')\n",
    "axs[1, 1].set_title(\"Syndrome (from Z error)\")\n",
    "axs[1, 1].set_aspect('auto')\n",
    "\n",
    "\n",
    "axs[2, 1].imshow(measured_errors[m,2], cmap='binary', interpolation='none')\n",
    "axs[2, 1].set_title(\"Syndrome (No error)\")\n",
    "axs[2, 1].set_aspect('auto')\n",
    "\n",
    "axs[2, 0].axis('off')\n",
    "\n",
    "axs[0, 0].set_ylabel(\"Stabilizer Index\")\n",
    "axs[1, 0].set_ylabel(\"Stabilizer Index\")\n",
    "\n",
    "axs[1, 0].set_xlabel(\"Qubit Index\")\n",
    "axs[2, 1].set_xlabel(\"Stabilizer Index\")\n",
    "\n",
    "white_patch = mpatches.Patch(color='white', label='+1 / 0', ec='black')\n",
    "black_patch = mpatches.Patch(color='black', label='-1 / 1')\n",
    "\n",
    "legend1 = fig.legend(\n",
    "    handles=[white_patch, black_patch],\n",
    "    labels=['+1 (No Error)', '-1 (Error Detected)'],\n",
    "    title_fontsize='large',\n",
    "    loc='center left',\n",
    "    bbox_to_anchor=(0.15, 0.16),\n",
    "    title=\"Syndrome Eigenvalues\"\n",
    ")\n",
    "\n",
    "fig.add_artist(legend1)\n",
    "\n",
    "legend2 = fig.legend(\n",
    "    handles=[white_patch, black_patch],\n",
    "    labels=['0', '1'],\n",
    "    title_fontsize='large',\n",
    "    loc='center left',\n",
    "    bbox_to_anchor=(0.15, 0.26),\n",
    "    title=\"Generator Values\"\n",
    ")\n",
    "\n",
    "#plt.tight_layout(rect=[0, 0.08, 1, 1]) # rect=[left, bottom, right, top]\n",
    "\n",
    "plt.show()"
   ]
  },
  {
   "cell_type": "code",
   "execution_count": null,
   "metadata": {},
   "outputs": [],
   "source": [
    "shor_circ = LogicalCircuitGeneral(1, **shor_code)"
   ]
  },
  {
   "cell_type": "code",
   "execution_count": null,
   "metadata": {},
   "outputs": [],
   "source": [
    "qc.draw(output='mpl')"
   ]
  },
  {
   "cell_type": "markdown",
   "metadata": {},
   "source": [
    "### Looking at circuit structure"
   ]
  },
  {
   "cell_type": "code",
   "execution_count": null,
   "metadata": {},
   "outputs": [],
   "source": [
    "shor_circ = LogicalCircuitGeneral(1, **shor_code)\n",
    "shor_circ.encode(0, initial_states=[0])\n",
    "shor_circ.append_qec_cycle([0])\n",
    "shor_circ.measure([0], [0])\n",
    "shor_circ.draw(output='mpl')"
   ]
  },
  {
   "cell_type": "markdown",
   "metadata": {},
   "source": [
    "### Full QEC cycle testing"
   ]
  },
  {
   "cell_type": "code",
   "execution_count": null,
   "metadata": {},
   "outputs": [],
   "source": [
    "code = shor_code\n",
    "n=9"
   ]
  },
  {
   "cell_type": "code",
   "execution_count": 58,
   "metadata": {},
   "outputs": [
    {
     "name": "stdout",
     "output_type": "stream",
     "text": [
      "['1 111111000 00 00 10000000 10000000 10000000 0']\n",
      "['0 000000000 00 00 00000000 00000000 00000000 0']\n",
      "['0 000000000 00 00 10000000 10000000 10000000 0']\n",
      "['0 000111111 00 00 10000000 10000000 10000000 0']\n",
      "['0 000000000 00 00 00000000 00000000 00000000 0']\n",
      "['1 111111000 00 00 10000000 10000000 10000000 0']\n",
      "['0 000000000 00 00 10000000 10000000 10000000 0']\n",
      "['1 000110101 00 00 00000111 00000111 00000111 0']\n",
      "['1 111000111 00 00 10000000 10000000 10000000 0']\n",
      "['1 111000111 00 00 10000000 10000000 10000000 0']\n"
     ]
    }
   ],
   "source": [
    "#Tests errors measuring in Z basis\n",
    "outputs = []\n",
    "for i in range(n+1):\n",
    "    shor_circ = LogicalCircuitGeneral(1, **code)\n",
    "    shor_circ.encode(0, initial_states=[0])\n",
    "    #if i < n: #Runs the last sim without an error for thorough testing\n",
    "        #shor_circ.add_error(0,i,'X') #Also try testing Z type errors\n",
    "        #shor_circ.add_error(1,i,'X')\n",
    "    shor_circ.append_qec_cycle([0])\n",
    "    shor_circ.measure([0], [0], meas_basis='Z')\n",
    "    simulator = AerSimulator()\n",
    "    result = execute_circuits(shor_circ, backend=simulator, shots=1, memory=True)[0]\n",
    "    outputs.append(result.get_memory())\n",
    "\n",
    "#The leftmost numbers in the output are the logical measurements. Should all be '0'\n",
    "for o in outputs:\n",
    "    print(o)"
   ]
  },
  {
   "cell_type": "code",
   "execution_count": null,
   "metadata": {},
   "outputs": [],
   "source": [
    "shor_circ.draw(output='mpl')"
   ]
  }
 ],
 "metadata": {
  "kernelspec": {
   "display_name": "venv (3.12.6)",
   "language": "python",
   "name": "python3"
  },
  "language_info": {
   "codemirror_mode": {
    "name": "ipython",
    "version": 3
   },
   "file_extension": ".py",
   "mimetype": "text/x-python",
   "name": "python",
   "nbconvert_exporter": "python",
   "pygments_lexer": "ipython3",
   "version": "3.12.6"
  }
 },
 "nbformat": 4,
 "nbformat_minor": 4
}

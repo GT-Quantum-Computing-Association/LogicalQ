{
 "cells": [
  {
   "cell_type": "code",
   "execution_count": 1,
   "metadata": {},
   "outputs": [],
   "source": [
    "import numpy as np\n",
    "import matplotlib.pyplot as plt\n",
    "\n",
    "from qiskit import ClassicalRegister, QuantumRegister, QuantumCircuit, transpile\n",
    "from qiskit_aer import AerSimulator\n",
    "from qiskit.visualization import plot_histogram\n",
    "\n",
    "from LogicalQ.LogicalGeneral import LogicalCircuitGeneral\n",
    "from LogicalQ.Library.QECCs import five_qubit_code, steane_code, four_qubit_code\n",
    "from LogicalQ.NoiseModel import construct_noise_model_QuantinuumH1_1\n",
    "from LogicalQ.Experiments import execute_circuits\n",
    "\n",
    "%load_ext autoreload\n",
    "%autoreload 2"
   ]
  },
  {
   "cell_type": "markdown",
   "metadata": {},
   "source": [
    "## Demonstrating error correction"
   ]
  },
  {
   "cell_type": "code",
   "execution_count": 2,
   "metadata": {},
   "outputs": [],
   "source": [
    "code = five_qubit_code\n",
    "n = code['label'][0]"
   ]
  },
  {
   "cell_type": "code",
   "execution_count": 3,
   "metadata": {},
   "outputs": [
    {
     "name": "stdout",
     "output_type": "stream",
     "text": [
      "['10 00110 00 11 1000 1000 1000 0 00111 00 11 1000 1000 1000 0']\n",
      "['10 10100 00 10 0001 0001 0001 0 11111 00 10 0001 0001 0001 0']\n",
      "['10 11110 00 10 0011 0011 0011 0 01101 00 10 0011 0011 0011 0']\n",
      "['10 00110 00 11 0110 0110 0110 0 11100 00 11 0110 0110 0110 0']\n",
      "['10 10100 00 10 1100 1100 1100 0 11111 00 10 1100 1100 1100 0']\n",
      "['10 11100 00 00 0000 0000 0000 0 01001 00 00 0000 0000 0000 0']\n"
     ]
    }
   ],
   "source": [
    "#Tests errors measuring in Z basis\n",
    "outputs = []\n",
    "for i in range(n+1):\n",
    "    five_qubit_circ = LogicalCircuitGeneral(2, **code)\n",
    "    five_qubit_circ.encode(0,1, initial_states=[0,1])\n",
    "    if i < n: #Runs the last sim without an error for thorough testing\n",
    "        five_qubit_circ.add_error(0,i,'X') #Also try testing Z type errors\n",
    "        five_qubit_circ.add_error(1,i,'X')\n",
    "    five_qubit_circ.append_qec_cycle([0,1])\n",
    "    five_qubit_circ.measure([0,1], [0,1], meas_basis='Z')\n",
    "    simulator = AerSimulator()\n",
    "    result = execute_circuits(five_qubit_circ, backend=simulator, shots=1, memory=True)[0]\n",
    "    outputs.append(result.get_memory())\n",
    "\n",
    "#The leftmost numbers in the output are the logical measurements. Should all be '10'\n",
    "for o in outputs:\n",
    "    print(o)"
   ]
  },
  {
   "cell_type": "code",
   "execution_count": 4,
   "metadata": {},
   "outputs": [
    {
     "name": "stdout",
     "output_type": "stream",
     "text": [
      "['10 10010 00 00 0101 0101 0101 0 00100 00 00 0101 0101 0101 0']\n",
      "['10 00011 00 00 1010 1010 1010 0 00100 00 00 1010 1010 1010 0']\n",
      "['10 00111 00 00 0100 0100 0100 0 01011 00 00 0100 0100 0100 0']\n",
      "['10 10010 00 00 1001 1001 1001 0 10001 00 00 1001 1001 1001 0']\n",
      "['10 11011 00 10 0010 0010 0010 0 00100 00 10 0010 0010 0010 0']\n",
      "['10 11001 00 00 0000 0000 0000 0 00010 00 00 0000 0000 0000 0']\n"
     ]
    }
   ],
   "source": [
    "#Tests errors measuring in X basis\n",
    "outputs = []\n",
    "for i in range(n+1):\n",
    "    five_qubit_circ = LogicalCircuitGeneral(2, **code)\n",
    "    five_qubit_circ.encode(0,1, initial_states=[0,1])\n",
    "\n",
    "    if i < n: #Runs the last sim without an error for thorough testing\n",
    "        five_qubit_circ.add_error(0,i,'Z') #Also try testing Z type errors\n",
    "        five_qubit_circ.add_error(1,i,'Z')\n",
    "    five_qubit_circ.append_qec_cycle([0,1])\n",
    "\n",
    "    five_qubit_circ.h([0,1])\n",
    "\n",
    "    five_qubit_circ.measure([0,1], [0,1], meas_basis='X')\n",
    "    \n",
    "    simulator = AerSimulator()\n",
    "    result = execute_circuits(five_qubit_circ, backend=simulator, shots=1, memory=True)[0]\n",
    "    outputs.append(result.get_memory())\n",
    "\n",
    "#The leftmost numbers in the output are the logical measurements. Should all be '10'\n",
    "for o in outputs:\n",
    "    print(o)"
   ]
  },
  {
   "cell_type": "code",
   "execution_count": 5,
   "metadata": {},
   "outputs": [
    {
     "name": "stdout",
     "output_type": "stream",
     "text": [
      "['10 00001 00 10 1000 1000 1000 0 01010 00 10 1000 1000 1000 0']\n",
      "['10 00111 00 01 0001 0001 0001 0 01010 00 01 0001 0001 0001 0']\n",
      "['10 10100 00 01 0011 0011 0011 0 11000 00 01 0011 0011 0011 0']\n",
      "['10 01000 00 10 0110 0110 0110 0 10110 00 10 0110 0110 0110 0']\n",
      "['10 01001 00 01 1100 1100 1100 0 00010 00 01 1100 1100 1100 0']\n",
      "['10 10110 00 00 0000 0000 0000 0 01000 00 00 0000 0000 0000 0']\n"
     ]
    }
   ],
   "source": [
    "#Tests errors measuring in Y basis\n",
    "outputs = []\n",
    "for i in range(n+1):\n",
    "    five_qubit_circ = LogicalCircuitGeneral(2, **code)\n",
    "    five_qubit_circ.encode(0,1, initial_states=[0,1])\n",
    "    \n",
    "    if i < n: #Runs the last sim without an error for thorough testing\n",
    "        five_qubit_circ.add_error(0,i,'X') #Also try testing Z type errors\n",
    "        five_qubit_circ.add_error(1,i,'X')\n",
    "    five_qubit_circ.append_qec_cycle([0,1])\n",
    "\n",
    "    five_qubit_circ.h([0,1])\n",
    "    five_qubit_circ.s([0,1])\n",
    "    \n",
    "    five_qubit_circ.measure([0,1], [0,1], meas_basis='Y', with_error_correction=True)\n",
    "    simulator = AerSimulator()\n",
    "    result = execute_circuits(five_qubit_circ, backend=simulator, shots=1, memory=True)[0]\n",
    "    outputs.append(result.get_memory())\n",
    "\n",
    "#The leftmost numbers in the output are the logical measurements. Should all be '10'\n",
    "for o in outputs:\n",
    "    print(o)"
   ]
  },
  {
   "cell_type": "code",
   "execution_count": 6,
   "metadata": {},
   "outputs": [
    {
     "name": "stdout",
     "output_type": "stream",
     "text": [
      "['10 01111 00 11 1000 1000 1000 0 11111 00 10 0000 0000 0000 0']\n",
      "['10 01010 00 10 0001 0001 0001 0 11010 00 10 0000 0000 0000 0']\n",
      "['10 01111 00 10 0011 0011 0011 0 00111 00 10 0000 0000 0000 0']\n",
      "['10 11011 00 11 0110 0110 0110 0 11010 00 10 0000 0000 0000 0']\n",
      "['10 01010 00 10 1100 1100 1100 0 00001 00 10 0000 0000 0000 0']\n",
      "['10 10101 00 00 0000 0000 0000 0 00011 00 00 0000 0000 0000 0']\n"
     ]
    }
   ],
   "source": [
    "#Tests CX pauli frame updates\n",
    "outputs = []\n",
    "for i in range(n+1):\n",
    "    five_qubit_circ = LogicalCircuitGeneral(2, **code)\n",
    "    five_qubit_circ.encode(0,1, initial_states=[1,1])\n",
    "\n",
    "    if i < n: #Runs the last sim without an error for thorough testing\n",
    "        five_qubit_circ.add_error(1,i,'X') #Also try testing Z type errors\n",
    "\n",
    "    five_qubit_circ.append_qec_cycle([0,1])\n",
    "\n",
    "    five_qubit_circ.cx(1,0)\n",
    "\n",
    "    five_qubit_circ.measure([0,1], [0,1], meas_basis='Z', with_error_correction=True)\n",
    "    simulator = AerSimulator(method='stabilizer')\n",
    "    result = execute_circuits(five_qubit_circ, backend=simulator, shots=1, memory=True)[0]\n",
    "    outputs.append(result.get_memory())\n",
    "\n",
    "#The leftmost numbers in the output are the logical measurements. Should all be '10'\n",
    "for o in outputs:\n",
    "    print(o)"
   ]
  },
  {
   "cell_type": "code",
   "execution_count": 7,
   "metadata": {},
   "outputs": [
    {
     "name": "stdout",
     "output_type": "stream",
     "text": [
      "['10 10000 00 01 1000 1000 1000 0 00100 00 11 0000 0000 0000 0']\n",
      "['10 10001 00 11 0001 0001 0001 0 00001 00 11 0000 0000 0000 0']\n",
      "['10 10001 00 11 0011 0011 0011 0 01101 00 11 0000 0000 0000 0']\n",
      "['10 11001 00 01 0110 0110 0110 0 01011 00 11 0000 0000 0000 0']\n",
      "['10 01100 00 11 1100 1100 1100 0 00010 00 11 0000 0000 0000 0']\n",
      "['10 10011 00 00 0000 0000 0000 0 00110 00 00 0000 0000 0000 0']\n"
     ]
    }
   ],
   "source": [
    "#Tests CZ pauli frame updates\n",
    "outputs = []\n",
    "for i in range(n+1):\n",
    "    five_qubit_circ = LogicalCircuitGeneral(2, **code)\n",
    "    five_qubit_circ.encode(0,1, initial_states=[0,0])\n",
    "\n",
    "    five_qubit_circ.h(1)\n",
    "    five_qubit_circ.cx(1,0)\n",
    "\n",
    "    if i < n: #Runs the last sim without an error for thorough testing\n",
    "        five_qubit_circ.add_error(1,i,'X') #Also try testing Z type errors\n",
    "\n",
    "    five_qubit_circ.append_qec_cycle([0,1])\n",
    "\n",
    "    five_qubit_circ.cz(1,0)\n",
    "    five_qubit_circ.cx(1,0)\n",
    "    five_qubit_circ.h(1)\n",
    "\n",
    "    five_qubit_circ.measure([0,1], [0,1], meas_basis='Z', with_error_correction=True)\n",
    "    simulator = AerSimulator(method='stabilizer')\n",
    "    result = execute_circuits(five_qubit_circ, backend=simulator, shots=1, memory=True)[0]\n",
    "    outputs.append(result.get_memory())\n",
    "\n",
    "#The leftmost numbers in the output are the logical measurements. Should all be '10'\n",
    "for o in outputs:\n",
    "    print(o)"
   ]
  },
  {
   "cell_type": "code",
   "execution_count": 8,
   "metadata": {},
   "outputs": [
    {
     "name": "stdout",
     "output_type": "stream",
     "text": [
      "['10 01111 00 10 0000 0000 0000 0 01101 00 11 1000 1000 1000 0']\n",
      "['10 00110 00 10 0000 0000 0000 0 10011 00 10 0001 0001 0001 0']\n",
      "['10 10100 00 10 0000 0000 0000 0 10011 00 10 0011 0011 0011 0']\n",
      "['10 11000 00 10 0000 0000 0000 0 11100 00 11 0110 0110 0110 0']\n",
      "['10 01010 00 10 0000 0000 0000 0 00100 00 10 1100 1100 1100 0']\n",
      "['10 10110 00 00 0000 0000 0000 0 11011 00 00 0000 0000 0000 0']\n"
     ]
    }
   ],
   "source": [
    "#Tests CY pauli frame updates\n",
    "outputs = []\n",
    "for i in range(n+1):\n",
    "    five_qubit_circ = LogicalCircuitGeneral(2, **code)\n",
    "    five_qubit_circ.encode(0,1, initial_states=[0,0])\n",
    "\n",
    "    five_qubit_circ.h(1)\n",
    "    \n",
    "    if i < n: #Runs the last sim without an error for thorough testing\n",
    "        five_qubit_circ.add_error(0,i,'X') #Also try testing Z type errors\n",
    "\n",
    "    five_qubit_circ.append_qec_cycle([0,1])\n",
    "\n",
    "    five_qubit_circ.cy(1,0)\n",
    "    five_qubit_circ.s(1)\n",
    "\n",
    "    five_qubit_circ.cx(1,0)\n",
    "    five_qubit_circ.h(1)\n",
    "\n",
    "    five_qubit_circ.measure([0,1], [0,1], meas_basis='Z', with_error_correction=True)\n",
    "    simulator = AerSimulator(method='stabilizer')\n",
    "    result = execute_circuits(five_qubit_circ, backend=simulator, shots=1, memory=True)[0]\n",
    "    outputs.append(result.get_memory())\n",
    "\n",
    "#The leftmost numbers in the output are the logical measurements. Should all be '10'\n",
    "for o in outputs:\n",
    "    print(o)"
   ]
  },
  {
   "cell_type": "code",
   "execution_count": null,
   "metadata": {},
   "outputs": [
    {
     "name": "stdout",
     "output_type": "stream",
     "text": [
      "['10 10001 00 11 1000 1000 1000 0 00001 00 11 1000 1000 1000 0']\n",
      "['10 11111 00 01 0001 0001 0001 0 11000 00 01 0001 0001 0001 0']\n",
      "['10 00001 00 01 0011 0011 0011 0 01010 00 01 0011 0011 0011 0']\n",
      "['10 00110 00 11 0110 0110 0110 0 10110 00 11 0110 0110 0110 0']\n",
      "['10 00100 00 01 1100 1100 1100 0 10100 00 01 1100 1100 1100 0']\n",
      "['10 01110 00 00 0000 0000 0000 0 11000 00 00 0000 0000 0000 0']\n"
     ]
    }
   ],
   "source": [
    "#Tests T and T^dagger gate Pauli updates\n",
    "outputs = []\n",
    "for i in range(n+1):\n",
    "    five_qubit_circ = LogicalCircuitGeneral(2, **code)\n",
    "    five_qubit_circ.encode(0,1, initial_states=[0,1])\n",
    "    five_qubit_circ.h([0,1])\n",
    "    five_qubit_circ.t([0,1])\n",
    "\n",
    "    if i < n: #Runs the last sim without an error for thorough testing\n",
    "        five_qubit_circ.add_error(0,i,'X') #Also try testing Z type errors\n",
    "        five_qubit_circ.add_error(1,i,'X')\n",
    "    five_qubit_circ.append_qec_cycle([0,1])\n",
    "\n",
    "    five_qubit_circ.s([0,1])\n",
    "    five_qubit_circ.tdg([0,1])\n",
    "    five_qubit_circ.sdg([0,1])\n",
    "\n",
    "    five_qubit_circ.h([0,1])\n",
    "\n",
    "    five_qubit_circ.measure([0,1], [0,1], meas_basis='Z')\n",
    "    simulator = AerSimulator()\n",
    "    result = execute_circuits(five_qubit_circ, backend=simulator, shots=1, memory=True)[0]\n",
    "    outputs.append(result.get_memory())\n",
    "\n",
    "#The leftmost numbers in the output are the logical measurements. Should all be '10'\n",
    "for o in outputs:\n",
    "    print(o)"
   ]
  }
 ],
 "metadata": {
  "kernelspec": {
   "display_name": "Python 3",
   "language": "python",
   "name": "python3"
  },
  "language_info": {
   "codemirror_mode": {
    "name": "ipython",
    "version": 3
   },
   "file_extension": ".py",
   "mimetype": "text/x-python",
   "name": "python",
   "nbconvert_exporter": "python",
   "pygments_lexer": "ipython3",
   "version": "3.12.0"
  }
 },
 "nbformat": 4,
 "nbformat_minor": 4
}

{
 "cells": [
  {
   "cell_type": "code",
   "execution_count": null,
   "id": "e5db8264-8737-4906-8843-3b17e00102cd",
   "metadata": {},
   "outputs": [],
   "source": [
    "from LogicalQ.Optimizers import compute_gadget_costs\n",
    "from LogicalQ.Library.HardwareModels import hardware_model_Quantinuum_H2_1"
   ]
  },
  {
   "cell_type": "code",
   "execution_count": null,
   "id": "98ef9ba9-784c-4a33-998a-886bfe1eb032",
   "metadata": {},
   "outputs": [],
   "source": [
    "from LogicalQ.NoiseModel import construct_noise_model_QuantinuumH2_1\n",
    "print(construct_noise_model_QuantinuumH2_1())"
   ]
  },
  {
   "cell_type": "code",
   "execution_count": null,
   "id": "8ecf1260-08af-47c4-82b8-ed7bbd90d386",
   "metadata": {
    "scrolled": true
   },
   "outputs": [],
   "source": [
    "gadgets_library, gadget_infidelities, gadget_costs = compute_gadget_costs(\n",
    "    gadgets_library=None,\n",
    "    backend=\"aer_simulator\", hardware_model=hardware_model_Quantinuum_H2_1\n",
    ")"
   ]
  },
  {
   "cell_type": "code",
   "execution_count": null,
   "id": "f850b5fc-6ad7-43cc-a2b1-1ef9d724bff1",
   "metadata": {},
   "outputs": [],
   "source": [
    "gadgets_library"
   ]
  },
  {
   "cell_type": "code",
   "execution_count": null,
   "id": "4320dfff-3eac-4f03-a48d-763e7ae5c7e1",
   "metadata": {},
   "outputs": [],
   "source": [
    "gadget_infidelities"
   ]
  },
  {
   "cell_type": "code",
   "execution_count": null,
   "id": "4099d8be-abb9-40f7-904d-03ea278e34e5",
   "metadata": {},
   "outputs": [],
   "source": [
    "gadget_costs"
   ]
  },
  {
   "cell_type": "code",
   "execution_count": null,
   "id": "f5bf6ba3-7dc2-4352-876c-e4e00f787c2e",
   "metadata": {},
   "outputs": [],
   "source": []
  }
 ],
 "metadata": {
  "kernelspec": {
   "display_name": "Python 3 (ipykernel)",
   "language": "python",
   "name": "python3"
  },
  "language_info": {
   "codemirror_mode": {
    "name": "ipython",
    "version": 3
   },
   "file_extension": ".py",
   "mimetype": "text/x-python",
   "name": "python",
   "nbconvert_exporter": "python",
   "pygments_lexer": "ipython3",
   "version": "3.13.5"
  }
 },
 "nbformat": 4,
 "nbformat_minor": 5
}
